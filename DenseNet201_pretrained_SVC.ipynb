{
  "nbformat": 4,
  "nbformat_minor": 0,
  "metadata": {
    "accelerator": "GPU",
    "colab": {
      "name": "DenseNet201_pretrained_SVC.ipynb",
      "provenance": [],
      "toc_visible": true
    },
    "kernelspec": {
      "display_name": "Python 3",
      "language": "python",
      "name": "python3"
    },
    "language_info": {
      "codemirror_mode": {
        "name": "ipython",
        "version": 3
      },
      "file_extension": ".py",
      "mimetype": "text/x-python",
      "name": "python",
      "nbconvert_exporter": "python",
      "pygments_lexer": "ipython3",
      "version": "3.6.9"
    }
  },
  "cells": [
    {
      "cell_type": "code",
      "metadata": {
        "colab_type": "code",
        "id": "mKdW-45kyBEr",
        "colab": {}
      },
      "source": [
        "import tensorflow as tf\n",
        "import keras \n",
        "from keras.applications import DenseNet201\n",
        "import numpy as np\n",
        "from keras.preprocessing.image import ImageDataGenerator, NumpyArrayIterator\n",
        "from keras.callbacks import EarlyStopping, ModelCheckpoint\n",
        "from sklearn.metrics import confusion_matrix\n",
        "from keras import models, layers, optimizers\n",
        "from sklearn.svm import SVC\n",
        "from sklearn.pipeline import make_pipeline"
      ],
      "execution_count": 15,
      "outputs": []
    },
    {
      "cell_type": "code",
      "metadata": {
        "colab_type": "code",
        "id": "O_hWsT8RyBE1",
        "colab": {
          "base_uri": "https://localhost:8080/",
          "height": 51
        },
        "outputId": "eef4a1ca-c3bd-4f75-8719-79cc3b01dd1d"
      },
      "source": [
        "conv_base = DenseNet201(weights='imagenet', include_top = False, input_shape=(300,300,3))"
      ],
      "execution_count": 5,
      "outputs": [
        {
          "output_type": "stream",
          "text": [
            "Downloading data from https://github.com/keras-team/keras-applications/releases/download/densenet/densenet201_weights_tf_dim_ordering_tf_kernels_notop.h5\n",
            "74842112/74836368 [==============================] - 6s 0us/step\n"
          ],
          "name": "stdout"
        }
      ]
    },
    {
      "cell_type": "code",
      "metadata": {
        "colab_type": "code",
        "id": "HmJBnMc0yrOl",
        "colab": {}
      },
      "source": [
        "from google.colab import drive\n",
        "drive.mount(\"/content/gdrive/\")"
      ],
      "execution_count": null,
      "outputs": []
    },
    {
      "cell_type": "code",
      "metadata": {
        "colab_type": "code",
        "id": "jZpMhfh0yBFA",
        "colab": {}
      },
      "source": [
        "X = np.load(\"gdrive/My Drive/pcb/xtrain.npy\")\n",
        "y = np.load(\"gdrive/My Drive/pcb/ytrain.npy\")"
      ],
      "execution_count": 8,
      "outputs": []
    },
    {
      "cell_type": "code",
      "metadata": {
        "id": "WBlCl5iJFAIs",
        "colab_type": "code",
        "colab": {
          "base_uri": "https://localhost:8080/",
          "height": 34
        },
        "outputId": "6fb06d85-7ded-47c3-907b-e6fb0de1eecf"
      },
      "source": [
        "conv_base.predict(X[0].reshape(1,300,300,3)).shape"
      ],
      "execution_count": null,
      "outputs": [
        {
          "output_type": "execute_result",
          "data": {
            "text/plain": [
              "(1, 9, 9, 1920)"
            ]
          },
          "metadata": {
            "tags": []
          },
          "execution_count": 28
        }
      ]
    },
    {
      "cell_type": "code",
      "metadata": {
        "id": "gLEHNpSCtRDv",
        "colab_type": "code",
        "colab": {}
      },
      "source": [
        "# Training set has 472 samples"
      ],
      "execution_count": null,
      "outputs": []
    },
    {
      "cell_type": "markdown",
      "metadata": {
        "id": "dH2UMi3oLXRj",
        "colab_type": "text"
      },
      "source": [
        "Training with k-fold Validation"
      ]
    },
    {
      "cell_type": "code",
      "metadata": {
        "id": "ylYElFUN0NfI",
        "colab_type": "code",
        "colab": {
          "base_uri": "https://localhost:8080/",
          "height": 34
        },
        "outputId": "30cfabc9-ff05-444c-9dcd-f274245e4000"
      },
      "source": [
        "X.shape, (y == 0).sum(), (y == 1).sum()"
      ],
      "execution_count": null,
      "outputs": [
        {
          "output_type": "execute_result",
          "data": {
            "text/plain": [
              "((472, 300, 300, 3), 236, 236)"
            ]
          },
          "metadata": {
            "tags": []
          },
          "execution_count": 29
        }
      ]
    },
    {
      "cell_type": "code",
      "metadata": {
        "id": "BeQXJVZL4h7v",
        "colab_type": "code",
        "colab": {}
      },
      "source": [
        "datagen = ImageDataGenerator(\n",
        "    featurewise_center = True,\n",
        "    featurewise_std_normalization = True\n",
        ")\n",
        "\n",
        "datagen.fit(X)"
      ],
      "execution_count": 9,
      "outputs": []
    },
    {
      "cell_type": "code",
      "metadata": {
        "id": "dNpL_TEj5BNb",
        "colab_type": "code",
        "colab": {
          "base_uri": "https://localhost:8080/",
          "height": 153
        },
        "outputId": "f934fc2c-ad4d-4675-bf02-e189a338df8e"
      },
      "source": [
        "nos = X.shape[0]\n",
        "bs = int(nos/8)\n",
        "\n",
        "numit = NumpyArrayIterator(\n",
        "    X, y, datagen, batch_size=bs, shuffle=False, sample_weight=None,\n",
        "    seed=None, data_format=None, save_to_dir=None, save_prefix='',\n",
        "    save_format='png', subset=None, dtype=None\n",
        ")\n",
        "\n",
        "samples = np.zeros(shape=(nos,9,9,1920))\n",
        "labels = np.zeros(shape=(nos))\n",
        "i = 0\n",
        "for samples_batch,labels_batch in numit:\n",
        "    f = conv_base.predict(samples_batch)\n",
        "    print(f.shape)\n",
        "    samples[i*bs:(i+1)*bs] = f\n",
        "    labels[i*bs:(i+1)*bs] = labels_batch\n",
        "    i+=1\n",
        "    if (i*bs)>=nos:\n",
        "        break"
      ],
      "execution_count": 10,
      "outputs": [
        {
          "output_type": "stream",
          "text": [
            "(59, 9, 9, 1920)\n",
            "(59, 9, 9, 1920)\n",
            "(59, 9, 9, 1920)\n",
            "(59, 9, 9, 1920)\n",
            "(59, 9, 9, 1920)\n",
            "(59, 9, 9, 1920)\n",
            "(59, 9, 9, 1920)\n",
            "(59, 9, 9, 1920)\n"
          ],
          "name": "stdout"
        }
      ]
    },
    {
      "cell_type": "code",
      "metadata": {
        "id": "l3RCnShl5iGN",
        "colab_type": "code",
        "colab": {}
      },
      "source": [
        "samples = samples.reshape(nos,9*9*1920)"
      ],
      "execution_count": 11,
      "outputs": []
    },
    {
      "cell_type": "code",
      "metadata": {
        "id": "hoBAWa2K5pXb",
        "colab_type": "code",
        "colab": {
          "base_uri": "https://localhost:8080/",
          "height": 34
        },
        "outputId": "4af94694-a4fe-4535-e79d-3a83a9a8334c"
      },
      "source": [
        "samples.shape, labels.shape"
      ],
      "execution_count": 12,
      "outputs": [
        {
          "output_type": "execute_result",
          "data": {
            "text/plain": [
              "((472, 155520), (472,))"
            ]
          },
          "metadata": {
            "tags": []
          },
          "execution_count": 12
        }
      ]
    },
    {
      "cell_type": "code",
      "metadata": {
        "id": "xYLS9aZr_Wbb",
        "colab_type": "code",
        "colab": {}
      },
      "source": [
        "# To save memory\n",
        "del X\n",
        "del y"
      ],
      "execution_count": 13,
      "outputs": []
    },
    {
      "cell_type": "code",
      "metadata": {
        "id": "nSNmJgXP0Ndx",
        "colab_type": "code",
        "colab": {
          "base_uri": "https://localhost:8080/",
          "height": 153
        },
        "outputId": "6590eb4e-3eb0-44e2-8bed-fa056d72c1ba"
      },
      "source": [
        "from sklearn.model_selection import StratifiedKFold\n",
        "skf = StratifiedKFold(n_splits=8)\n",
        "\n",
        "accuracies = []\n",
        "f = 1\n",
        "\n",
        "for train_index, test_index in skf.split(samples, labels):\n",
        "        X_train = samples[train_index]\n",
        "        X_test = samples[test_index]\n",
        "        y_train = labels[train_index]\n",
        "        y_test = labels[test_index]\n",
        "      \n",
        "        \n",
        "        print('Fold {}'.format(f))\n",
        "        clf = make_pipeline(SVC(gamma='auto'))\n",
        "        clf.fit(X_train, y_train)\n",
        "        \n",
        "        test_predclass = clf.predict(X_test)\n",
        "        \n",
        "        accuracies.append([confusion_matrix(y_test,test_predclass)[0][0]/(y_test == 0.0).sum(), confusion_matrix(y_test,test_predclass)[1][1]/(y_test == 1.0).sum()])\n",
        "        f+=1\n"
      ],
      "execution_count": 16,
      "outputs": [
        {
          "output_type": "stream",
          "text": [
            "Fold 1\n",
            "Fold 2\n",
            "Fold 3\n",
            "Fold 4\n",
            "Fold 5\n",
            "Fold 6\n",
            "Fold 7\n",
            "Fold 8\n"
          ],
          "name": "stdout"
        }
      ]
    },
    {
      "cell_type": "code",
      "metadata": {
        "id": "-GvsuoqY0NZL",
        "colab_type": "code",
        "colab": {
          "base_uri": "https://localhost:8080/",
          "height": 34
        },
        "outputId": "84ef9362-f3f1-43a1-ee6b-86838485826d"
      },
      "source": [
        "zero_acc = 0\n",
        "one_acc = 0\n",
        "\n",
        "for i in accuracies:\n",
        "  zero_acc+= i[0]\n",
        "  one_acc+=i[1]\n",
        "\n",
        "zero_acc/=8\n",
        "one_acc/=8\n",
        "\n",
        "print(zero_acc, one_acc)"
      ],
      "execution_count": 17,
      "outputs": [
        {
          "output_type": "stream",
          "text": [
            "0.8443965517241381 0.7886494252873564\n"
          ],
          "name": "stdout"
        }
      ]
    },
    {
      "cell_type": "markdown",
      "metadata": {
        "id": "trKQU8cuMHQV",
        "colab_type": "text"
      },
      "source": [
        "Training on whole Training Dataset"
      ]
    },
    {
      "cell_type": "code",
      "metadata": {
        "id": "Xncnp_xvNgcr",
        "colab_type": "code",
        "colab": {}
      },
      "source": [
        "xtest = np.load('gdrive/My Drive/pcb/xtest.npy')\n",
        "ytest = np.load('gdrive/My Drive/pcb/ytest.npy')\n"
      ],
      "execution_count": 18,
      "outputs": []
    },
    {
      "cell_type": "code",
      "metadata": {
        "id": "SDa1CkJ9NgfS",
        "colab_type": "code",
        "colab": {}
      },
      "source": [
        "datagentest = ImageDataGenerator(\n",
        "    featurewise_center = True,\n",
        "    featurewise_std_normalization = True\n",
        ")\n",
        "datagentest.fit(xtest)"
      ],
      "execution_count": 19,
      "outputs": []
    },
    {
      "cell_type": "code",
      "metadata": {
        "id": "QS7XpHLiNgoa",
        "colab_type": "code",
        "colab": {
          "base_uri": "https://localhost:8080/",
          "height": 34
        },
        "outputId": "ab37ad8d-0e4b-4d95-e7d7-95145096cd04"
      },
      "source": [
        "testnos = ytest.shape[0]\n",
        "\n",
        "numittest = NumpyArrayIterator(\n",
        "    xtest, ytest, datagentest, batch_size=testnos, shuffle=False, sample_weight=None,\n",
        "    seed=None, data_format=None, save_to_dir=None, save_prefix='',\n",
        "    save_format='png', subset=None, dtype=None\n",
        ")\n",
        "\n",
        "\n",
        "test_samples = np.zeros(shape=(testnos,9,9,1920))\n",
        "test_labels = np.zeros(shape=(testnos))\n",
        "for samples_batch,labels_batch in numittest:\n",
        "    g = conv_base.predict(samples_batch)\n",
        "    print(g.shape)\n",
        "    test_samples[::] = g\n",
        "    test_labels[:] = labels_batch\n",
        "    break"
      ],
      "execution_count": 20,
      "outputs": [
        {
          "output_type": "stream",
          "text": [
            "(552, 9, 9, 1920)\n"
          ],
          "name": "stdout"
        }
      ]
    },
    {
      "cell_type": "code",
      "metadata": {
        "id": "0f37VOEUNgki",
        "colab_type": "code",
        "colab": {}
      },
      "source": [
        "test_samples = test_samples.reshape(testnos,9*9*1920)"
      ],
      "execution_count": 21,
      "outputs": []
    },
    {
      "cell_type": "code",
      "metadata": {
        "id": "Ef_xxG8bNgiT",
        "colab_type": "code",
        "colab": {}
      },
      "source": [
        "clftest = make_pipeline(SVC(gamma='auto'))\n",
        "clftest.fit(samples, labels)\n",
        "        \n",
        "test_predclass = clftest.predict(test_samples)"
      ],
      "execution_count": 23,
      "outputs": []
    },
    {
      "cell_type": "code",
      "metadata": {
        "id": "B9pW68K3Orxg",
        "colab_type": "code",
        "colab": {
          "base_uri": "https://localhost:8080/",
          "height": 34
        },
        "outputId": "7ade0b7d-2afb-4c41-cbad-2380fd9ab6cc"
      },
      "source": [
        "confusion_matrix(test_labels,test_predclass)[0][0]/(ytest == 0.0).sum(), confusion_matrix(test_labels,test_predclass)[1][1]/(ytest == 1.0).sum()"
      ],
      "execution_count": 24,
      "outputs": [
        {
          "output_type": "execute_result",
          "data": {
            "text/plain": [
              "(0.7966101694915254, 0.768762677484787)"
            ]
          },
          "metadata": {
            "tags": []
          },
          "execution_count": 24
        }
      ]
    },
    {
      "cell_type": "code",
      "metadata": {
        "id": "MxapdKZhOr0Q",
        "colab_type": "code",
        "colab": {}
      },
      "source": [
        "# Saving model\n",
        "\n",
        "# model_json = model.to_json()\n",
        "# with open(\"gdrive/My Drive/models/VGG19_12.json\", \"w\") as json_file:\n",
        "#     json_file.write(model_json)"
      ],
      "execution_count": null,
      "outputs": []
    },
    {
      "cell_type": "code",
      "metadata": {
        "id": "rybw7Ry7Or2f",
        "colab_type": "code",
        "colab": {}
      },
      "source": [
        "# model.save_weights(\"gdrive/My Drive/models/VGG19_12.h5\")\n",
        "# print(\"Saved model to disk\")"
      ],
      "execution_count": null,
      "outputs": []
    },
    {
      "cell_type": "code",
      "metadata": {
        "id": "CumEUxIaOrve",
        "colab_type": "code",
        "colab": {}
      },
      "source": [
        "# Saving and loading models\n",
        "# https://machinelearningmastery.com/save-load-keras-deep-learning-models/"
      ],
      "execution_count": null,
      "outputs": []
    },
    {
      "cell_type": "code",
      "metadata": {
        "id": "xRJWd9bUHWa7",
        "colab_type": "code",
        "colab": {}
      },
      "source": [
        ""
      ],
      "execution_count": null,
      "outputs": []
    },
    {
      "cell_type": "code",
      "metadata": {
        "id": "hcaOhs5bHWfg",
        "colab_type": "code",
        "colab": {
          "base_uri": "https://localhost:8080/",
          "height": 163
        },
        "outputId": "674f23c9-755b-42a5-8450-34eb9f83a091"
      },
      "source": [
        ""
      ],
      "execution_count": null,
      "outputs": [
        {
          "output_type": "error",
          "ename": "TypeError",
          "evalue": "ignored",
          "traceback": [
            "\u001b[0;31m---------------------------------------------------------------------------\u001b[0m",
            "\u001b[0;31mTypeError\u001b[0m                                 Traceback (most recent call last)",
            "\u001b[0;32m<ipython-input-15-010bb633e7c3>\u001b[0m in \u001b[0;36m<module>\u001b[0;34m()\u001b[0m\n\u001b[0;32m----> 1\u001b[0;31m \u001b[0mx\u001b[0m\u001b[0;34m(\u001b[0m\u001b[0ma\u001b[0m\u001b[0;34m)\u001b[0m\u001b[0;34m\u001b[0m\u001b[0;34m\u001b[0m\u001b[0m\n\u001b[0m",
            "\u001b[0;31mTypeError\u001b[0m: 'Tensor' object is not callable"
          ]
        }
      ]
    },
    {
      "cell_type": "code",
      "metadata": {
        "id": "Oech-RU0HWhX",
        "colab_type": "code",
        "colab": {}
      },
      "source": [
        ""
      ],
      "execution_count": null,
      "outputs": []
    }
  ]
}