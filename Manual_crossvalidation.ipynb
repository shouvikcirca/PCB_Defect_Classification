{
  "nbformat": 4,
  "nbformat_minor": 0,
  "metadata": {
    "colab": {
      "name": "Manual_crossvalidation.ipynb",
      "provenance": []
    },
    "kernelspec": {
      "name": "python3",
      "display_name": "Python 3"
    }
  },
  "cells": [
    {
      "cell_type": "code",
      "metadata": {
        "id": "9YNCNYO-4GKf",
        "colab_type": "code",
        "colab": {
          "base_uri": "https://localhost:8080/",
          "height": 34
        },
        "outputId": "a7dd988b-feb9-416e-a9b6-47dd39ae1091"
      },
      "source": [
        "import tensorflow as tf\n",
        "import keras \n",
        "from keras.applications import DenseNet201\n",
        "import numpy as np\n",
        "from keras.preprocessing.image import ImageDataGenerator, NumpyArrayIterator\n",
        "from keras.callbacks import EarlyStopping, ModelCheckpoint\n",
        "from sklearn.metrics import confusion_matrix\n",
        "from keras import models, layers, optimizers"
      ],
      "execution_count": 1,
      "outputs": [
        {
          "output_type": "stream",
          "text": [
            "Using TensorFlow backend.\n"
          ],
          "name": "stderr"
        }
      ]
    },
    {
      "cell_type": "code",
      "metadata": {
        "id": "9rXkjSg04Wnw",
        "colab_type": "code",
        "colab": {}
      },
      "source": [
        "conv_base = DenseNet201(weights='imagenet', include_top = False, input_shape=(300,300,3))"
      ],
      "execution_count": 2,
      "outputs": []
    },
    {
      "cell_type": "code",
      "metadata": {
        "id": "QCMNcjn44WqB",
        "colab_type": "code",
        "colab": {
          "base_uri": "https://localhost:8080/",
          "height": 122
        },
        "outputId": "07d10b1a-2002-4c9c-f97d-687556ef99a6"
      },
      "source": [
        "# from google.colab import drive\n",
        "# drive.mount(\"/content/gdrive/\")"
      ],
      "execution_count": 3,
      "outputs": [
        {
          "output_type": "stream",
          "text": [
            "Go to this URL in a browser: https://accounts.google.com/o/oauth2/auth?client_id=947318989803-6bn6qk8qdgf4n4g3pfee6491hc0brc4i.apps.googleusercontent.com&redirect_uri=urn%3aietf%3awg%3aoauth%3a2.0%3aoob&response_type=code&scope=email%20https%3a%2f%2fwww.googleapis.com%2fauth%2fdocs.test%20https%3a%2f%2fwww.googleapis.com%2fauth%2fdrive%20https%3a%2f%2fwww.googleapis.com%2fauth%2fdrive.photos.readonly%20https%3a%2f%2fwww.googleapis.com%2fauth%2fpeopleapi.readonly\n",
            "\n",
            "Enter your authorization code:\n",
            "··········\n",
            "Mounted at /content/gdrive/\n"
          ],
          "name": "stdout"
        }
      ]
    },
    {
      "cell_type": "code",
      "metadata": {
        "id": "CTOLw36a4Wsf",
        "colab_type": "code",
        "colab": {}
      },
      "source": [
        "X = np.load(\"gdrive/My Drive/pcb/xtrain.npy\")\n",
        "y = np.load(\"gdrive/My Drive/pcb/ytrain.npy\")"
      ],
      "execution_count": 28,
      "outputs": []
    },
    {
      "cell_type": "code",
      "metadata": {
        "id": "nzsLbNuU4Wu9",
        "colab_type": "code",
        "colab": {}
      },
      "source": [
        "datagen = ImageDataGenerator(\n",
        "    featurewise_center = True,\n",
        "    featurewise_std_normalization = True\n",
        ")\n",
        "\n",
        "datagen.fit(X)"
      ],
      "execution_count": 29,
      "outputs": []
    },
    {
      "cell_type": "code",
      "metadata": {
        "id": "u1J-ydQQ4WxP",
        "colab_type": "code",
        "colab": {
          "base_uri": "https://localhost:8080/",
          "height": 153
        },
        "outputId": "03fc1b96-f3bb-48c7-d053-5cd72e413841"
      },
      "source": [
        "nos = X.shape[0]\n",
        "bs = int(nos/8)\n",
        "\n",
        "numit = NumpyArrayIterator(\n",
        "    X, y, datagen, batch_size=bs, shuffle=False, sample_weight=None,\n",
        "    seed=None, data_format=None, save_to_dir=None, save_prefix='',\n",
        "    save_format='png', subset=None, dtype=None\n",
        ")\n",
        "\n",
        "samples = np.zeros(shape=(nos,9,9,1920))\n",
        "labels = np.zeros(shape=(nos))\n",
        "i = 0\n",
        "for samples_batch,labels_batch in numit:\n",
        "    f = conv_base.predict(samples_batch)\n",
        "    print(f.shape)\n",
        "    samples[i*bs:(i+1)*bs] = f\n",
        "    labels[i*bs:(i+1)*bs] = labels_batch\n",
        "    i+=1\n",
        "    if (i*bs)>=nos:\n",
        "        break"
      ],
      "execution_count": 30,
      "outputs": [
        {
          "output_type": "stream",
          "text": [
            "(59, 9, 9, 1920)\n",
            "(59, 9, 9, 1920)\n",
            "(59, 9, 9, 1920)\n",
            "(59, 9, 9, 1920)\n",
            "(59, 9, 9, 1920)\n",
            "(59, 9, 9, 1920)\n",
            "(59, 9, 9, 1920)\n",
            "(59, 9, 9, 1920)\n"
          ],
          "name": "stdout"
        }
      ]
    },
    {
      "cell_type": "code",
      "metadata": {
        "id": "VzYlUt9y4Wzz",
        "colab_type": "code",
        "colab": {}
      },
      "source": [
        "samples = samples.reshape(nos,9*9*1920)"
      ],
      "execution_count": 31,
      "outputs": []
    },
    {
      "cell_type": "code",
      "metadata": {
        "id": "dynYvFfZ4W2E",
        "colab_type": "code",
        "colab": {}
      },
      "source": [
        "def giveSet(a,b):\n",
        "    xs = []\n",
        "    ys = []\n",
        "    bs = 59\n",
        "\n",
        "    for i in range(8):\n",
        "        xs.append(samples[(i*59):((i+1)*59)])\n",
        "        ys.append(labels[(i*59):((i+1)*59)])\n",
        "    \n",
        "    xtest = np.concatenate([xs[a],xs[b]])\n",
        "    ytest = np.concatenate([ys[a],ys[b]])\n",
        "    \n",
        "    \n",
        "    xtrain = np.concatenate([xs[i] for i in range(8) if i not in [a,b]])\n",
        "    ytrain = np.concatenate([ys[i] for i in range(8) if i not in [a,b]])\n",
        "    \n",
        "    return xtrain,ytrain,xtest,ytest"
      ],
      "execution_count": 8,
      "outputs": []
    },
    {
      "cell_type": "code",
      "metadata": {
        "id": "5TZe6kv26NHP",
        "colab_type": "code",
        "colab": {
          "base_uri": "https://localhost:8080/",
          "height": 153
        },
        "outputId": "16ad05d1-b38e-44fe-9a88-87796b40e2a4"
      },
      "source": [
        "for i in range(8):\n",
        "  t = labels[i*59:((i+1)*59)]\n",
        "  print((t==0.).sum(), (t == 1.).sum())\n"
      ],
      "execution_count": 22,
      "outputs": [
        {
          "output_type": "stream",
          "text": [
            "59 0\n",
            "59 0\n",
            "59 0\n",
            "59 0\n",
            "0 59\n",
            "0 59\n",
            "0 59\n",
            "0 59\n"
          ],
          "name": "stdout"
        }
      ]
    },
    {
      "cell_type": "code",
      "metadata": {
        "id": "ETd-dI-d4W4k",
        "colab_type": "code",
        "colab": {}
      },
      "source": [
        "xtrain,ytrain,xval,yval = giveSet(3,7)"
      ],
      "execution_count": 66,
      "outputs": []
    },
    {
      "cell_type": "code",
      "metadata": {
        "id": "8gZfKKML6isU",
        "colab_type": "code",
        "colab": {
          "base_uri": "https://localhost:8080/",
          "height": 34
        },
        "outputId": "897a1e07-fe73-4a62-f3fa-3073535b375b"
      },
      "source": [
        "ytrain.shape, yval.shape"
      ],
      "execution_count": 40,
      "outputs": [
        {
          "output_type": "execute_result",
          "data": {
            "text/plain": [
              "((354,), (118,))"
            ]
          },
          "metadata": {
            "tags": []
          },
          "execution_count": 40
        }
      ]
    },
    {
      "cell_type": "code",
      "metadata": {
        "id": "eSJgBtaZ4W7R",
        "colab_type": "code",
        "colab": {}
      },
      "source": [
        "model = models.Sequential()\n",
        "model.add(layers.Dense(256, activation = 'relu', input_dim = 9*9*1920))\n",
        "model.add(layers.Dropout(0.5))\n",
        "model.add(layers.Dense(1, activation = 'sigmoid'))\n",
        "model.compile(optimizer = optimizers.Adam(lr = 1e-3),loss = 'binary_crossentropy',metrics = ['accuracy'])\n",
        "my_callbacks = [EarlyStopping(monitor = 'val_loss', patience=5, restore_best_weights=True)]\n"
      ],
      "execution_count": 67,
      "outputs": []
    },
    {
      "cell_type": "code",
      "metadata": {
        "id": "7WwEr2kU4W9h",
        "colab_type": "code",
        "colab": {
          "base_uri": "https://localhost:8080/",
          "height": 561
        },
        "outputId": "b2c405d9-c3d0-43cc-c800-164726a52932"
      },
      "source": [
        "model.fit(xtrain, ytrain, epochs = 100, batch_size = 20, validation_data = (xval, yval), shuffle = True,  callbacks = my_callbacks)"
      ],
      "execution_count": 68,
      "outputs": [
        {
          "output_type": "stream",
          "text": [
            "Train on 354 samples, validate on 118 samples\n",
            "Epoch 1/100\n",
            "354/354 [==============================] - 9s 25ms/step - loss: 11.0444 - accuracy: 0.6158 - val_loss: 1.4690 - val_accuracy: 0.7966\n",
            "Epoch 2/100\n",
            "354/354 [==============================] - 8s 24ms/step - loss: 1.8438 - accuracy: 0.7938 - val_loss: 1.1390 - val_accuracy: 0.7966\n",
            "Epoch 3/100\n",
            "354/354 [==============================] - 8s 23ms/step - loss: 0.5576 - accuracy: 0.8927 - val_loss: 0.7092 - val_accuracy: 0.8305\n",
            "Epoch 4/100\n",
            "354/354 [==============================] - 8s 23ms/step - loss: 0.2543 - accuracy: 0.9181 - val_loss: 0.5663 - val_accuracy: 0.8390\n",
            "Epoch 5/100\n",
            "354/354 [==============================] - 8s 24ms/step - loss: 0.2020 - accuracy: 0.9322 - val_loss: 0.6055 - val_accuracy: 0.8559\n",
            "Epoch 6/100\n",
            "354/354 [==============================] - 8s 23ms/step - loss: 0.1878 - accuracy: 0.9463 - val_loss: 0.5284 - val_accuracy: 0.8559\n",
            "Epoch 7/100\n",
            "354/354 [==============================] - 8s 23ms/step - loss: 0.1062 - accuracy: 0.9548 - val_loss: 0.4680 - val_accuracy: 0.8475\n",
            "Epoch 8/100\n",
            "354/354 [==============================] - 8s 23ms/step - loss: 0.1067 - accuracy: 0.9746 - val_loss: 0.4748 - val_accuracy: 0.8814\n",
            "Epoch 9/100\n",
            "354/354 [==============================] - 8s 23ms/step - loss: 0.1323 - accuracy: 0.9746 - val_loss: 0.4318 - val_accuracy: 0.8729\n",
            "Epoch 10/100\n",
            "354/354 [==============================] - 8s 23ms/step - loss: 0.1215 - accuracy: 0.9802 - val_loss: 0.4139 - val_accuracy: 0.8729\n",
            "Epoch 11/100\n",
            "354/354 [==============================] - 8s 23ms/step - loss: 0.0716 - accuracy: 0.9633 - val_loss: 0.4788 - val_accuracy: 0.8814\n",
            "Epoch 12/100\n",
            "354/354 [==============================] - 8s 23ms/step - loss: 0.1046 - accuracy: 0.9548 - val_loss: 0.4833 - val_accuracy: 0.8051\n",
            "Epoch 13/100\n",
            "354/354 [==============================] - 8s 23ms/step - loss: 0.1141 - accuracy: 0.9605 - val_loss: 0.4241 - val_accuracy: 0.8814\n",
            "Epoch 14/100\n",
            "354/354 [==============================] - 8s 23ms/step - loss: 0.0754 - accuracy: 0.9774 - val_loss: 0.4284 - val_accuracy: 0.8814\n",
            "Epoch 15/100\n",
            "354/354 [==============================] - 8s 23ms/step - loss: 0.0654 - accuracy: 0.9802 - val_loss: 0.5802 - val_accuracy: 0.8220\n"
          ],
          "name": "stdout"
        },
        {
          "output_type": "execute_result",
          "data": {
            "text/plain": [
              "<keras.callbacks.callbacks.History at 0x7f2ccf1fdbe0>"
            ]
          },
          "metadata": {
            "tags": []
          },
          "execution_count": 68
        }
      ]
    },
    {
      "cell_type": "code",
      "metadata": {
        "id": "0gGQOA7P6yZu",
        "colab_type": "code",
        "colab": {}
      },
      "source": [
        "test_preds = model.predict(xval, batch_size = 20)"
      ],
      "execution_count": 69,
      "outputs": []
    },
    {
      "cell_type": "code",
      "metadata": {
        "id": "8B1G_xeS6ycQ",
        "colab_type": "code",
        "colab": {}
      },
      "source": [
        "test_predclass = np.array([1.0 if i>0.5 else 0.0 for i in test_preds])"
      ],
      "execution_count": 70,
      "outputs": []
    },
    {
      "cell_type": "code",
      "metadata": {
        "id": "iQqDhT486yee",
        "colab_type": "code",
        "colab": {
          "base_uri": "https://localhost:8080/",
          "height": 34
        },
        "outputId": "fc1d95a1-812c-4148-abbf-8e34cc9b4005"
      },
      "source": [
        "confusion_matrix(yval,test_predclass)[0][0]/(yval == 0.0).sum(), confusion_matrix(yval,test_predclass)[1][1]/(yval == 1.0).sum()"
      ],
      "execution_count": 71,
      "outputs": [
        {
          "output_type": "execute_result",
          "data": {
            "text/plain": [
              "(0.8813559322033898, 0.864406779661017)"
            ]
          },
          "metadata": {
            "tags": []
          },
          "execution_count": 71
        }
      ]
    },
    {
      "cell_type": "code",
      "metadata": {
        "id": "2aVx2ADn6ygw",
        "colab_type": "code",
        "colab": {}
      },
      "source": [
        "# model_json = model.to_json()\n",
        "# with open(\"gdrive/My Drive/pcb/models/dn201p_37.json\", \"w\") as json_file:\n",
        "#     json_file.write(model_json)"
      ],
      "execution_count": 72,
      "outputs": []
    },
    {
      "cell_type": "code",
      "metadata": {
        "id": "EPPO5OXC6yjM",
        "colab_type": "code",
        "colab": {
          "base_uri": "https://localhost:8080/",
          "height": 34
        },
        "outputId": "415c2f55-8d5c-4297-c705-6ecb3c6646f5"
      },
      "source": [
        "# model.save_weights(\"gdrive/My Drive/pcb/models/dn201p_37.h5\")\n",
        "# print(\"Saved model to disk\")"
      ],
      "execution_count": 73,
      "outputs": [
        {
          "output_type": "stream",
          "text": [
            "Saved model to disk\n"
          ],
          "name": "stdout"
        }
      ]
    },
    {
      "cell_type": "code",
      "metadata": {
        "id": "e2TVKtl9Ev6q",
        "colab_type": "code",
        "colab": {}
      },
      "source": [
        "zeroaccs = np.array([0.83, 0.76, 0.8644, 0.813, 0.7627, 0.7627, 0.915,0.881])\n",
        "oneaccs = np.array([0.81, 0.78, 0.847, 0.796, 0.7627, 0.7966, 0.745, 0.864])"
      ],
      "execution_count": 74,
      "outputs": []
    },
    {
      "cell_type": "code",
      "metadata": {
        "id": "MD3Q57UkFi1O",
        "colab_type": "code",
        "colab": {
          "base_uri": "https://localhost:8080/",
          "height": 34
        },
        "outputId": "dec8fdc6-92ba-475b-d5c7-9ce67105dcc1"
      },
      "source": [
        "zeroaccs.mean(), oneaccs.mean()"
      ],
      "execution_count": 75,
      "outputs": [
        {
          "output_type": "execute_result",
          "data": {
            "text/plain": [
              "(0.8236, 0.8001625)"
            ]
          },
          "metadata": {
            "tags": []
          },
          "execution_count": 75
        }
      ]
    },
    {
      "cell_type": "code",
      "metadata": {
        "id": "-6Bsclva4W_Z",
        "colab_type": "code",
        "colab": {}
      },
      "source": [
        "# 07 16 25 34 04 15 26 37"
      ],
      "execution_count": null,
      "outputs": []
    },
    {
      "cell_type": "code",
      "metadata": {
        "id": "xcgF6OpS6yla",
        "colab_type": "code",
        "colab": {}
      },
      "source": [
        "# Saving and loading models\n",
        "# https://machinelearningmastery.com/save-load-keras-deep-learning-models/"
      ],
      "execution_count": null,
      "outputs": []
    },
    {
      "cell_type": "markdown",
      "metadata": {
        "id": "0T8nomRjNAWy",
        "colab_type": "text"
      },
      "source": [
        "# Test Dataset"
      ]
    },
    {
      "cell_type": "code",
      "metadata": {
        "id": "OQH7Trc_MIvm",
        "colab_type": "code",
        "colab": {}
      },
      "source": [
        "from keras.models import model_from_json"
      ],
      "execution_count": 11,
      "outputs": []
    },
    {
      "cell_type": "code",
      "metadata": {
        "id": "zyLzjNhwFsax",
        "colab_type": "code",
        "colab": {}
      },
      "source": [
        "Xtest = np.load(\"gdrive/My Drive/pcb/xtest.npy\")\n",
        "ytest = np.load(\"gdrive/My Drive/pcb/ytest.npy\")"
      ],
      "execution_count": 3,
      "outputs": []
    },
    {
      "cell_type": "code",
      "metadata": {
        "id": "bmHngdo-HUwV",
        "colab_type": "code",
        "colab": {
          "base_uri": "https://localhost:8080/",
          "height": 34
        },
        "outputId": "d4d1026f-dde3-40d9-92e3-a897afdd5114"
      },
      "source": [
        "ytest.shape"
      ],
      "execution_count": 79,
      "outputs": [
        {
          "output_type": "execute_result",
          "data": {
            "text/plain": [
              "(552,)"
            ]
          },
          "metadata": {
            "tags": []
          },
          "execution_count": 79
        }
      ]
    },
    {
      "cell_type": "code",
      "metadata": {
        "id": "LNatstmfFsdO",
        "colab_type": "code",
        "colab": {}
      },
      "source": [
        "datagen = ImageDataGenerator(\n",
        "    featurewise_center = True,\n",
        "    featurewise_std_normalization = True\n",
        ")\n",
        "\n",
        "datagen.fit(Xtest)"
      ],
      "execution_count": 4,
      "outputs": []
    },
    {
      "cell_type": "code",
      "metadata": {
        "id": "eG9DcDlhFsf2",
        "colab_type": "code",
        "colab": {
          "base_uri": "https://localhost:8080/",
          "height": 221
        },
        "outputId": "720ca135-7e9e-46fa-91d0-60ebdb7af1cd"
      },
      "source": [
        "nostest = Xtest.shape[0]\n",
        "bstest = int(nostest/12)\n",
        "\n",
        "numittest = NumpyArrayIterator(\n",
        "    Xtest, ytest, datagen, batch_size=bstest, shuffle=False, sample_weight=None,\n",
        "    seed=None, data_format=None, save_to_dir=None, save_prefix='',\n",
        "    save_format='png', subset=None, dtype=None\n",
        ")\n",
        "\n",
        "samplestest = np.zeros(shape=(nostest,9,9,1920))\n",
        "labelstest = np.zeros(shape=(nostest))\n",
        "i = 0\n",
        "for samples_batch,labels_batch in numittest:\n",
        "    f = conv_base.predict(samples_batch)\n",
        "    print(f.shape)\n",
        "    samplestest[i*bstest:(i+1)*bstest] = f\n",
        "    labelstest[i*bstest:(i+1)*bstest] = labels_batch\n",
        "    i+=1\n",
        "    if (i*bstest)>=nostest:\n",
        "        break"
      ],
      "execution_count": 6,
      "outputs": [
        {
          "output_type": "stream",
          "text": [
            "(46, 9, 9, 1920)\n",
            "(46, 9, 9, 1920)\n",
            "(46, 9, 9, 1920)\n",
            "(46, 9, 9, 1920)\n",
            "(46, 9, 9, 1920)\n",
            "(46, 9, 9, 1920)\n",
            "(46, 9, 9, 1920)\n",
            "(46, 9, 9, 1920)\n",
            "(46, 9, 9, 1920)\n",
            "(46, 9, 9, 1920)\n",
            "(46, 9, 9, 1920)\n",
            "(46, 9, 9, 1920)\n"
          ],
          "name": "stdout"
        }
      ]
    },
    {
      "cell_type": "code",
      "metadata": {
        "id": "uqYGm8r2HxbK",
        "colab_type": "code",
        "colab": {}
      },
      "source": [
        "# del Xtest\n",
        "# del ytest\n",
        "# del X\n",
        "# del y\n"
      ],
      "execution_count": 9,
      "outputs": []
    },
    {
      "cell_type": "code",
      "metadata": {
        "id": "n6zNi1EmFsiK",
        "colab_type": "code",
        "colab": {}
      },
      "source": [
        "samplestest = samplestest.reshape(nostest,9*9*1920)"
      ],
      "execution_count": 8,
      "outputs": []
    },
    {
      "cell_type": "code",
      "metadata": {
        "id": "BRgeaSgNFskn",
        "colab_type": "code",
        "colab": {}
      },
      "source": [
        "json_file = open('gdrive/My Drive/pcb/models/dn201p_25.json', 'r')\n",
        "loaded_model_json = json_file.read()\n",
        "json_file.close()\n",
        "loaded_model = model_from_json(loaded_model_json)\n",
        "# load weights into new model\n",
        "loaded_model.load_weights(\"gdrive/My Drive/pcb/models/dn201p_25.h5\")"
      ],
      "execution_count": 23,
      "outputs": []
    },
    {
      "cell_type": "code",
      "metadata": {
        "id": "LRcMOuGLFsnE",
        "colab_type": "code",
        "colab": {}
      },
      "source": [
        "loaded_model.compile(optimizer = optimizers.Adam(lr = 1e-3),loss = 'binary_crossentropy',metrics = ['accuracy'])"
      ],
      "execution_count": 24,
      "outputs": []
    },
    {
      "cell_type": "code",
      "metadata": {
        "id": "M9UbritGFsot",
        "colab_type": "code",
        "colab": {}
      },
      "source": [
        "testpreds = loaded_model.predict(samplestest, batch_size = 20)"
      ],
      "execution_count": 25,
      "outputs": []
    },
    {
      "cell_type": "code",
      "metadata": {
        "id": "WMUM_0QeMuVB",
        "colab_type": "code",
        "colab": {}
      },
      "source": [
        "testpredclass = np.array([1.0 if i>0.5 else 0.0 for i in testpreds])"
      ],
      "execution_count": 26,
      "outputs": []
    },
    {
      "cell_type": "code",
      "metadata": {
        "id": "QpKSC_0dMz7S",
        "colab_type": "code",
        "colab": {
          "base_uri": "https://localhost:8080/",
          "height": 34
        },
        "outputId": "135434f3-9409-43bb-f2ee-62fe828191e5"
      },
      "source": [
        "confusion_matrix(labelstest,testpredclass)[0][0]/(labelstest == 0.0).sum(), confusion_matrix(labelstest,testpredclass)[1][1]/(labelstest == 1.0).sum()"
      ],
      "execution_count": 27,
      "outputs": [
        {
          "output_type": "execute_result",
          "data": {
            "text/plain": [
              "(0.7627118644067796, 0.7890466531440162)"
            ]
          },
          "metadata": {
            "tags": []
          },
          "execution_count": 27
        }
      ]
    },
    {
      "cell_type": "code",
      "metadata": {
        "id": "JGwUJ23LNP7t",
        "colab_type": "code",
        "colab": {}
      },
      "source": [
        "test37 = (0.7288135593220338, 0.7626774847870182)\n",
        "test26 = (0.7457627118644068, 0.7991886409736308)\n",
        "test25 = (0.7627118644067796, 0.7890466531440162)"
      ],
      "execution_count": null,
      "outputs": []
    },
    {
      "cell_type": "code",
      "metadata": {
        "id": "qmrfR4_LN9Oj",
        "colab_type": "code",
        "colab": {}
      },
      "source": [
        ""
      ],
      "execution_count": null,
      "outputs": []
    },
    {
      "cell_type": "code",
      "metadata": {
        "id": "j-eXLbCDN9V8",
        "colab_type": "code",
        "colab": {}
      },
      "source": [
        "model = models.Sequential()\n",
        "model.add(layers.Dense(256, activation = 'relu', input_dim = 9*9*1920))\n",
        "model.add(layers.Dropout(0.5))\n",
        "model.add(layers.Dense(1, activation = 'sigmoid'))\n",
        "model.compile(optimizer = optimizers.Adam(lr = 1e-3),loss = 'binary_crossentropy',metrics = ['accuracy'])\n",
        "my_callbacks = [EarlyStopping(monitor = 'val_loss', patience=5, restore_best_weights=True)]\n"
      ],
      "execution_count": 32,
      "outputs": []
    },
    {
      "cell_type": "code",
      "metadata": {
        "id": "uIgPK08ZN9YN",
        "colab_type": "code",
        "colab": {
          "base_uri": "https://localhost:8080/",
          "height": 323
        },
        "outputId": "9b14a2bb-8baf-4434-a583-423d24077b48"
      },
      "source": [
        "model.fit(samples, labels, epochs = 100, batch_size = 20, validation_data = (samplestest, labelstest), shuffle = True,  callbacks = my_callbacks)"
      ],
      "execution_count": 33,
      "outputs": [
        {
          "output_type": "stream",
          "text": [
            "Train on 472 samples, validate on 552 samples\n",
            "Epoch 1/100\n",
            "472/472 [==============================] - 13s 27ms/step - loss: 11.5329 - accuracy: 0.6165 - val_loss: 1.8723 - val_accuracy: 0.8678\n",
            "Epoch 2/100\n",
            "472/472 [==============================] - 12s 26ms/step - loss: 1.4558 - accuracy: 0.8199 - val_loss: 1.7458 - val_accuracy: 0.6558\n",
            "Epoch 3/100\n",
            "472/472 [==============================] - 12s 26ms/step - loss: 0.3962 - accuracy: 0.8983 - val_loss: 0.7638 - val_accuracy: 0.8062\n",
            "Epoch 4/100\n",
            "472/472 [==============================] - 12s 26ms/step - loss: 0.2517 - accuracy: 0.9131 - val_loss: 0.8027 - val_accuracy: 0.7609\n",
            "Epoch 5/100\n",
            "472/472 [==============================] - 12s 26ms/step - loss: 0.2379 - accuracy: 0.9470 - val_loss: 0.7717 - val_accuracy: 0.7500\n",
            "Epoch 6/100\n",
            "472/472 [==============================] - 12s 26ms/step - loss: 0.1454 - accuracy: 0.9407 - val_loss: 0.7815 - val_accuracy: 0.7790\n",
            "Epoch 7/100\n",
            "472/472 [==============================] - 12s 26ms/step - loss: 0.1549 - accuracy: 0.9597 - val_loss: 0.7808 - val_accuracy: 0.7572\n",
            "Epoch 8/100\n",
            "472/472 [==============================] - 12s 26ms/step - loss: 0.1029 - accuracy: 0.9661 - val_loss: 0.8590 - val_accuracy: 0.7409\n"
          ],
          "name": "stdout"
        },
        {
          "output_type": "execute_result",
          "data": {
            "text/plain": [
              "<keras.callbacks.callbacks.History at 0x7fbb0e34d7f0>"
            ]
          },
          "metadata": {
            "tags": []
          },
          "execution_count": 33
        }
      ]
    },
    {
      "cell_type": "code",
      "metadata": {
        "id": "eW0FRAMkN9aN",
        "colab_type": "code",
        "colab": {}
      },
      "source": [
        "testpreds = model.predict(samplestest, batch_size = 20)\n",
        "testpredclass = np.array([1.0 if i>0.5 else 0.0 for i in testpreds])"
      ],
      "execution_count": 34,
      "outputs": []
    },
    {
      "cell_type": "code",
      "metadata": {
        "id": "1NNe9nAyP_3M",
        "colab_type": "code",
        "colab": {
          "base_uri": "https://localhost:8080/",
          "height": 34
        },
        "outputId": "bbc61921-67f8-4efb-cc32-04b11381fe33"
      },
      "source": [
        "confusion_matrix(labelstest,testpredclass)[0][0]/(labelstest == 0.0).sum(), confusion_matrix(labelstest,testpredclass)[1][1]/(labelstest == 1.0).sum()"
      ],
      "execution_count": 35,
      "outputs": [
        {
          "output_type": "execute_result",
          "data": {
            "text/plain": [
              "(0.6779661016949152, 0.821501014198783)"
            ]
          },
          "metadata": {
            "tags": []
          },
          "execution_count": 35
        }
      ]
    },
    {
      "cell_type": "code",
      "metadata": {
        "id": "T9k-hDkRQy1a",
        "colab_type": "code",
        "colab": {}
      },
      "source": [
        ""
      ],
      "execution_count": null,
      "outputs": []
    },
    {
      "cell_type": "code",
      "metadata": {
        "id": "TB5q5S2UQy4B",
        "colab_type": "code",
        "colab": {}
      },
      "source": [
        ""
      ],
      "execution_count": null,
      "outputs": []
    },
    {
      "cell_type": "code",
      "metadata": {
        "id": "KD_on2uuQy6v",
        "colab_type": "code",
        "colab": {}
      },
      "source": [
        ""
      ],
      "execution_count": null,
      "outputs": []
    },
    {
      "cell_type": "code",
      "metadata": {
        "id": "yz-gNpATQy9z",
        "colab_type": "code",
        "colab": {}
      },
      "source": [
        ""
      ],
      "execution_count": null,
      "outputs": []
    },
    {
      "cell_type": "code",
      "metadata": {
        "id": "GiisoU4dQy_b",
        "colab_type": "code",
        "colab": {}
      },
      "source": [
        ""
      ],
      "execution_count": null,
      "outputs": []
    }
  ]
}