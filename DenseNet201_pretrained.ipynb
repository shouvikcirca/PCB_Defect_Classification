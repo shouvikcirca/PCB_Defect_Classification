{
 "cells": [
  {
   "cell_type": "code",
   "execution_count": 1,
   "metadata": {
    "colab": {},
    "colab_type": "code",
    "id": "mKdW-45kyBEr"
   },
   "outputs": [
    {
     "name": "stderr",
     "output_type": "stream",
     "text": [
      "Using TensorFlow backend.\n"
     ]
    }
   ],
   "source": [
    "import tensorflow as tf\n",
    "import keras \n",
    "from keras.applications import DenseNet201\n",
    "import numpy as np\n",
    "from keras.preprocessing.image import ImageDataGenerator, NumpyArrayIterator\n",
    "from keras.callbacks import EarlyStopping, ModelCheckpoint\n",
    "from sklearn.metrics import confusion_matrix\n",
    "from keras import models, layers, optimizers"
   ]
  },
  {
   "cell_type": "code",
   "execution_count": 27,
   "metadata": {
    "colab": {},
    "colab_type": "code",
    "id": "O_hWsT8RyBE1"
   },
   "outputs": [],
   "source": [
    "conv_base = DenseNet201(weights='imagenet', include_top = False, input_shape=(300,300,3))"
   ]
  },
  {
   "cell_type": "code",
   "execution_count": null,
   "metadata": {
    "colab": {},
    "colab_type": "code",
    "id": "HmJBnMc0yrOl"
   },
   "outputs": [],
   "source": [
    "from google.colab import drive\n",
    "drive.mount(\"/content/gdrive/\")"
   ]
  },
  {
   "cell_type": "code",
   "execution_count": null,
   "metadata": {
    "colab": {},
    "colab_type": "code",
    "id": "jZpMhfh0yBFA"
   },
   "outputs": [],
   "source": [
    "X = np.load(\"gdrive/My Drive/pcb/xtrain.npy\")\n",
    "y = np.load(\"gdrive/My Drive/pcb/ytrain.npy\")"
   ]
  },
  {
   "cell_type": "code",
   "execution_count": 28,
   "metadata": {
    "colab": {
     "base_uri": "https://localhost:8080/",
     "height": 34
    },
    "colab_type": "code",
    "id": "WBlCl5iJFAIs",
    "outputId": "6fb06d85-7ded-47c3-907b-e6fb0de1eecf"
   },
   "outputs": [
    {
     "data": {
      "text/plain": [
       "(1, 9, 9, 1920)"
      ]
     },
     "execution_count": 28,
     "metadata": {
      "tags": []
     },
     "output_type": "execute_result"
    }
   ],
   "source": [
    "conv_base.predict(X[0].reshape(1,300,300,3)).shape"
   ]
  },
  {
   "cell_type": "code",
   "execution_count": null,
   "metadata": {
    "colab": {},
    "colab_type": "code",
    "id": "gLEHNpSCtRDv"
   },
   "outputs": [],
   "source": [
    "# Training set has 472 samples"
   ]
  },
  {
   "cell_type": "markdown",
   "metadata": {
    "colab_type": "text",
    "id": "dH2UMi3oLXRj"
   },
   "source": [
    "Training with k-fold Validation"
   ]
  },
  {
   "cell_type": "code",
   "execution_count": 29,
   "metadata": {
    "colab": {
     "base_uri": "https://localhost:8080/",
     "height": 34
    },
    "colab_type": "code",
    "id": "ylYElFUN0NfI",
    "outputId": "30cfabc9-ff05-444c-9dcd-f274245e4000"
   },
   "outputs": [
    {
     "data": {
      "text/plain": [
       "((472, 300, 300, 3), 236, 236)"
      ]
     },
     "execution_count": 29,
     "metadata": {
      "tags": []
     },
     "output_type": "execute_result"
    }
   ],
   "source": [
    "X.shape, (y == 0).sum(), (y == 1).sum()"
   ]
  },
  {
   "cell_type": "code",
   "execution_count": 30,
   "metadata": {
    "colab": {},
    "colab_type": "code",
    "id": "BeQXJVZL4h7v"
   },
   "outputs": [],
   "source": [
    "datagen = ImageDataGenerator(\n",
    "    featurewise_center = True,\n",
    "    featurewise_std_normalization = True\n",
    ")\n",
    "\n",
    "datagen.fit(X)"
   ]
  },
  {
   "cell_type": "code",
   "execution_count": 31,
   "metadata": {
    "colab": {
     "base_uri": "https://localhost:8080/",
     "height": 153
    },
    "colab_type": "code",
    "id": "dNpL_TEj5BNb",
    "outputId": "bb95c1e9-3658-4afb-d213-470cb750a891"
   },
   "outputs": [
    {
     "name": "stdout",
     "output_type": "stream",
     "text": [
      "(59, 9, 9, 1920)\n",
      "(59, 9, 9, 1920)\n",
      "(59, 9, 9, 1920)\n",
      "(59, 9, 9, 1920)\n",
      "(59, 9, 9, 1920)\n",
      "(59, 9, 9, 1920)\n",
      "(59, 9, 9, 1920)\n",
      "(59, 9, 9, 1920)\n"
     ]
    }
   ],
   "source": [
    "nos = X.shape[0]\n",
    "bs = int(nos/8)\n",
    "\n",
    "numit = NumpyArrayIterator(\n",
    "    X, y, datagen, batch_size=bs, shuffle=False, sample_weight=None,\n",
    "    seed=None, data_format=None, save_to_dir=None, save_prefix='',\n",
    "    save_format='png', subset=None, dtype=None\n",
    ")\n",
    "\n",
    "samples = np.zeros(shape=(nos,9,9,1920))\n",
    "labels = np.zeros(shape=(nos))\n",
    "i = 0\n",
    "for samples_batch,labels_batch in numit:\n",
    "    f = conv_base.predict(samples_batch)\n",
    "    print(f.shape)\n",
    "    samples[i*bs:(i+1)*bs] = f\n",
    "    labels[i*bs:(i+1)*bs] = labels_batch\n",
    "    i+=1\n",
    "    if (i*bs)>=nos:\n",
    "        break"
   ]
  },
  {
   "cell_type": "code",
   "execution_count": 32,
   "metadata": {
    "colab": {},
    "colab_type": "code",
    "id": "l3RCnShl5iGN"
   },
   "outputs": [],
   "source": [
    "samples = samples.reshape(nos,9*9*1920)"
   ]
  },
  {
   "cell_type": "code",
   "execution_count": 33,
   "metadata": {
    "colab": {
     "base_uri": "https://localhost:8080/",
     "height": 34
    },
    "colab_type": "code",
    "id": "hoBAWa2K5pXb",
    "outputId": "6e7280ec-af02-4d56-c98d-356a0ed14c67"
   },
   "outputs": [
    {
     "data": {
      "text/plain": [
       "((472, 155520), (472,))"
      ]
     },
     "execution_count": 33,
     "metadata": {
      "tags": []
     },
     "output_type": "execute_result"
    }
   ],
   "source": [
    "samples.shape, labels.shape"
   ]
  },
  {
   "cell_type": "code",
   "execution_count": 34,
   "metadata": {
    "colab": {},
    "colab_type": "code",
    "id": "xYLS9aZr_Wbb"
   },
   "outputs": [],
   "source": [
    "# To save memory\n",
    "del X\n",
    "del y"
   ]
  },
  {
   "cell_type": "code",
   "execution_count": 35,
   "metadata": {
    "colab": {
     "base_uri": "https://localhost:8080/",
     "height": 1000
    },
    "colab_type": "code",
    "id": "nSNmJgXP0Ndx",
    "outputId": "d19eba17-fbbf-41a5-8975-d0a32eee8a27"
   },
   "outputs": [
    {
     "name": "stdout",
     "output_type": "stream",
     "text": [
      "Fold 1\n",
      "Train on 413 samples, validate on 59 samples\n",
      "Epoch 1/100\n",
      "413/413 [==============================] - 2s 4ms/step - loss: 13.3725 - accuracy: 0.6465 - val_loss: 7.0770 - val_accuracy: 0.7627\n",
      "Epoch 2/100\n",
      "413/413 [==============================] - 1s 3ms/step - loss: 4.9535 - accuracy: 0.7966 - val_loss: 1.9910 - val_accuracy: 0.7966\n",
      "Epoch 3/100\n",
      "413/413 [==============================] - 1s 3ms/step - loss: 0.8236 - accuracy: 0.8765 - val_loss: 0.9614 - val_accuracy: 0.7627\n",
      "Epoch 4/100\n",
      "413/413 [==============================] - 1s 3ms/step - loss: 0.3586 - accuracy: 0.9080 - val_loss: 0.5083 - val_accuracy: 0.7797\n",
      "Epoch 5/100\n",
      "413/413 [==============================] - 1s 3ms/step - loss: 0.1877 - accuracy: 0.9467 - val_loss: 0.4626 - val_accuracy: 0.7797\n",
      "Epoch 6/100\n",
      "413/413 [==============================] - 1s 3ms/step - loss: 0.0887 - accuracy: 0.9637 - val_loss: 0.4331 - val_accuracy: 0.7966\n",
      "Epoch 7/100\n",
      "413/413 [==============================] - 1s 3ms/step - loss: 0.0821 - accuracy: 0.9758 - val_loss: 0.3836 - val_accuracy: 0.8136\n",
      "Epoch 8/100\n",
      "413/413 [==============================] - 1s 3ms/step - loss: 0.0609 - accuracy: 0.9734 - val_loss: 0.4552 - val_accuracy: 0.8305\n",
      "Epoch 9/100\n",
      "413/413 [==============================] - 1s 3ms/step - loss: 0.0873 - accuracy: 0.9831 - val_loss: 0.4023 - val_accuracy: 0.8475\n",
      "Epoch 10/100\n",
      "413/413 [==============================] - 1s 3ms/step - loss: 0.0603 - accuracy: 0.9758 - val_loss: 0.4091 - val_accuracy: 0.8644\n",
      "Epoch 11/100\n",
      "413/413 [==============================] - 1s 3ms/step - loss: 0.0347 - accuracy: 0.9855 - val_loss: 0.4555 - val_accuracy: 0.8644\n",
      "Epoch 12/100\n",
      "413/413 [==============================] - 1s 3ms/step - loss: 0.0408 - accuracy: 0.9831 - val_loss: 0.4583 - val_accuracy: 0.8475\n",
      "Fold 2\n",
      "Train on 413 samples, validate on 59 samples\n",
      "Epoch 1/100\n",
      "413/413 [==============================] - 2s 4ms/step - loss: 10.8748 - accuracy: 0.6731 - val_loss: 4.5299 - val_accuracy: 0.7627\n",
      "Epoch 2/100\n",
      "413/413 [==============================] - 1s 3ms/step - loss: 2.7821 - accuracy: 0.8402 - val_loss: 2.9890 - val_accuracy: 0.7458\n",
      "Epoch 3/100\n",
      "413/413 [==============================] - 1s 3ms/step - loss: 1.2059 - accuracy: 0.8983 - val_loss: 1.6417 - val_accuracy: 0.7966\n",
      "Epoch 4/100\n",
      "413/413 [==============================] - 1s 3ms/step - loss: 0.4710 - accuracy: 0.9322 - val_loss: 2.0545 - val_accuracy: 0.7966\n",
      "Epoch 5/100\n",
      "413/413 [==============================] - 1s 3ms/step - loss: 0.3249 - accuracy: 0.9443 - val_loss: 1.2532 - val_accuracy: 0.7627\n",
      "Epoch 6/100\n",
      "413/413 [==============================] - 1s 3ms/step - loss: 0.3091 - accuracy: 0.9370 - val_loss: 1.2276 - val_accuracy: 0.7627\n",
      "Epoch 7/100\n",
      "413/413 [==============================] - 1s 3ms/step - loss: 0.2143 - accuracy: 0.9685 - val_loss: 1.0004 - val_accuracy: 0.7797\n",
      "Epoch 8/100\n",
      "413/413 [==============================] - 1s 3ms/step - loss: 0.0482 - accuracy: 0.9806 - val_loss: 0.9299 - val_accuracy: 0.7797\n",
      "Epoch 9/100\n",
      "413/413 [==============================] - 1s 3ms/step - loss: 0.3535 - accuracy: 0.9588 - val_loss: 1.0725 - val_accuracy: 0.7288\n",
      "Epoch 10/100\n",
      "413/413 [==============================] - 1s 3ms/step - loss: 0.0926 - accuracy: 0.9661 - val_loss: 1.1169 - val_accuracy: 0.7627\n",
      "Epoch 11/100\n",
      "413/413 [==============================] - 1s 3ms/step - loss: 0.0555 - accuracy: 0.9734 - val_loss: 1.0087 - val_accuracy: 0.7627\n",
      "Epoch 12/100\n",
      "413/413 [==============================] - 1s 3ms/step - loss: 0.1550 - accuracy: 0.9831 - val_loss: 0.9623 - val_accuracy: 0.7627\n",
      "Epoch 13/100\n",
      "413/413 [==============================] - 1s 3ms/step - loss: 0.1877 - accuracy: 0.9540 - val_loss: 0.7430 - val_accuracy: 0.7966\n",
      "Epoch 14/100\n",
      "413/413 [==============================] - 1s 3ms/step - loss: 0.0979 - accuracy: 0.9734 - val_loss: 0.7261 - val_accuracy: 0.8136\n",
      "Epoch 15/100\n",
      "413/413 [==============================] - 1s 3ms/step - loss: 0.0876 - accuracy: 0.9734 - val_loss: 0.8986 - val_accuracy: 0.7458\n",
      "Epoch 16/100\n",
      "413/413 [==============================] - 1s 3ms/step - loss: 0.0849 - accuracy: 0.9782 - val_loss: 0.8380 - val_accuracy: 0.7966\n",
      "Epoch 17/100\n",
      "413/413 [==============================] - 1s 3ms/step - loss: 0.0654 - accuracy: 0.9806 - val_loss: 1.0344 - val_accuracy: 0.7458\n",
      "Epoch 18/100\n",
      "413/413 [==============================] - 1s 3ms/step - loss: 0.0655 - accuracy: 0.9782 - val_loss: 1.4924 - val_accuracy: 0.7458\n",
      "Epoch 19/100\n",
      "413/413 [==============================] - 1s 3ms/step - loss: 0.0834 - accuracy: 0.9758 - val_loss: 1.1363 - val_accuracy: 0.7627\n",
      "Fold 3\n",
      "Train on 413 samples, validate on 59 samples\n",
      "Epoch 1/100\n",
      "413/413 [==============================] - 2s 4ms/step - loss: 10.1038 - accuracy: 0.6295 - val_loss: 2.9272 - val_accuracy: 0.7627\n",
      "Epoch 2/100\n",
      "413/413 [==============================] - 1s 3ms/step - loss: 5.4620 - accuracy: 0.7797 - val_loss: 2.4292 - val_accuracy: 0.8136\n",
      "Epoch 3/100\n",
      "413/413 [==============================] - 1s 3ms/step - loss: 1.5403 - accuracy: 0.9104 - val_loss: 1.9509 - val_accuracy: 0.8475\n",
      "Epoch 4/100\n",
      "413/413 [==============================] - 1s 3ms/step - loss: 0.7267 - accuracy: 0.9153 - val_loss: 1.6796 - val_accuracy: 0.7797\n",
      "Epoch 5/100\n",
      "413/413 [==============================] - 1s 3ms/step - loss: 0.4394 - accuracy: 0.9346 - val_loss: 0.9261 - val_accuracy: 0.8644\n",
      "Epoch 6/100\n",
      "413/413 [==============================] - 1s 3ms/step - loss: 0.3088 - accuracy: 0.9443 - val_loss: 0.9936 - val_accuracy: 0.8305\n",
      "Epoch 7/100\n",
      "413/413 [==============================] - 1s 3ms/step - loss: 0.0930 - accuracy: 0.9709 - val_loss: 0.9725 - val_accuracy: 0.7797\n",
      "Epoch 8/100\n",
      "413/413 [==============================] - 1s 3ms/step - loss: 0.0813 - accuracy: 0.9709 - val_loss: 0.9608 - val_accuracy: 0.7966\n",
      "Epoch 9/100\n",
      "413/413 [==============================] - 1s 3ms/step - loss: 0.1011 - accuracy: 0.9831 - val_loss: 0.8165 - val_accuracy: 0.8475\n",
      "Epoch 10/100\n",
      "413/413 [==============================] - 1s 3ms/step - loss: 0.0639 - accuracy: 0.9758 - val_loss: 0.7187 - val_accuracy: 0.8475\n",
      "Epoch 11/100\n",
      "413/413 [==============================] - 1s 3ms/step - loss: 0.0941 - accuracy: 0.9806 - val_loss: 0.7197 - val_accuracy: 0.8305\n",
      "Epoch 12/100\n",
      "413/413 [==============================] - 1s 3ms/step - loss: 0.0431 - accuracy: 0.9855 - val_loss: 0.7493 - val_accuracy: 0.7797\n",
      "Epoch 13/100\n",
      "413/413 [==============================] - 1s 3ms/step - loss: 0.0466 - accuracy: 0.9806 - val_loss: 0.6776 - val_accuracy: 0.8136\n",
      "Epoch 14/100\n",
      "413/413 [==============================] - 1s 3ms/step - loss: 0.0447 - accuracy: 0.9903 - val_loss: 0.6936 - val_accuracy: 0.8136\n",
      "Epoch 15/100\n",
      "413/413 [==============================] - 1s 3ms/step - loss: 0.0250 - accuracy: 0.9879 - val_loss: 0.7369 - val_accuracy: 0.8136\n",
      "Epoch 16/100\n",
      "413/413 [==============================] - 1s 3ms/step - loss: 0.0168 - accuracy: 0.9927 - val_loss: 0.8191 - val_accuracy: 0.7966\n",
      "Epoch 17/100\n",
      "413/413 [==============================] - 1s 3ms/step - loss: 0.0375 - accuracy: 0.9831 - val_loss: 0.8499 - val_accuracy: 0.7966\n",
      "Epoch 18/100\n",
      "413/413 [==============================] - 1s 3ms/step - loss: 0.0418 - accuracy: 0.9831 - val_loss: 1.0083 - val_accuracy: 0.8305\n",
      "Fold 4\n",
      "Train on 413 samples, validate on 59 samples\n",
      "Epoch 1/100\n",
      "413/413 [==============================] - 2s 4ms/step - loss: 11.6260 - accuracy: 0.6513 - val_loss: 4.3497 - val_accuracy: 0.7288\n",
      "Epoch 2/100\n",
      "413/413 [==============================] - 1s 3ms/step - loss: 4.1976 - accuracy: 0.8184 - val_loss: 2.3027 - val_accuracy: 0.7797\n",
      "Epoch 3/100\n",
      "413/413 [==============================] - 1s 3ms/step - loss: 1.2047 - accuracy: 0.8789 - val_loss: 1.1278 - val_accuracy: 0.8475\n",
      "Epoch 4/100\n",
      "413/413 [==============================] - 1s 3ms/step - loss: 0.5990 - accuracy: 0.9080 - val_loss: 0.7799 - val_accuracy: 0.7966\n",
      "Epoch 5/100\n",
      "413/413 [==============================] - 1s 3ms/step - loss: 0.3337 - accuracy: 0.9443 - val_loss: 0.7401 - val_accuracy: 0.7458\n",
      "Epoch 6/100\n",
      "413/413 [==============================] - 1s 3ms/step - loss: 0.3063 - accuracy: 0.9516 - val_loss: 0.6171 - val_accuracy: 0.7966\n",
      "Epoch 7/100\n",
      "413/413 [==============================] - 1s 3ms/step - loss: 0.1061 - accuracy: 0.9564 - val_loss: 0.6347 - val_accuracy: 0.8305\n",
      "Epoch 8/100\n",
      "413/413 [==============================] - 1s 3ms/step - loss: 0.1723 - accuracy: 0.9661 - val_loss: 0.7158 - val_accuracy: 0.8136\n",
      "Epoch 9/100\n",
      "413/413 [==============================] - 1s 3ms/step - loss: 0.1000 - accuracy: 0.9734 - val_loss: 0.7458 - val_accuracy: 0.7966\n",
      "Epoch 10/100\n",
      "413/413 [==============================] - 1s 3ms/step - loss: 0.0564 - accuracy: 0.9758 - val_loss: 0.7545 - val_accuracy: 0.8136\n",
      "Epoch 11/100\n",
      "413/413 [==============================] - 1s 3ms/step - loss: 0.0987 - accuracy: 0.9685 - val_loss: 0.7404 - val_accuracy: 0.8475\n",
      "Fold 5\n",
      "Train on 413 samples, validate on 59 samples\n",
      "Epoch 1/100\n",
      "413/413 [==============================] - 2s 4ms/step - loss: 9.6687 - accuracy: 0.6949 - val_loss: 2.5209 - val_accuracy: 0.7797\n",
      "Epoch 2/100\n",
      "413/413 [==============================] - 1s 3ms/step - loss: 4.1877 - accuracy: 0.8184 - val_loss: 1.3682 - val_accuracy: 0.8475\n",
      "Epoch 3/100\n",
      "413/413 [==============================] - 1s 3ms/step - loss: 1.3558 - accuracy: 0.8886 - val_loss: 1.2776 - val_accuracy: 0.8305\n",
      "Epoch 4/100\n",
      "413/413 [==============================] - 1s 3ms/step - loss: 0.6824 - accuracy: 0.9201 - val_loss: 1.1745 - val_accuracy: 0.8136\n",
      "Epoch 5/100\n",
      "413/413 [==============================] - 1s 3ms/step - loss: 0.3522 - accuracy: 0.9225 - val_loss: 0.6360 - val_accuracy: 0.8475\n",
      "Epoch 6/100\n",
      "413/413 [==============================] - 1s 3ms/step - loss: 0.2749 - accuracy: 0.9516 - val_loss: 0.5847 - val_accuracy: 0.8475\n",
      "Epoch 7/100\n",
      "413/413 [==============================] - 1s 3ms/step - loss: 0.2806 - accuracy: 0.9637 - val_loss: 0.7582 - val_accuracy: 0.7797\n",
      "Epoch 8/100\n",
      "413/413 [==============================] - 1s 3ms/step - loss: 0.1334 - accuracy: 0.9637 - val_loss: 0.6287 - val_accuracy: 0.7627\n",
      "Epoch 9/100\n",
      "413/413 [==============================] - 1s 3ms/step - loss: 0.1288 - accuracy: 0.9831 - val_loss: 0.6462 - val_accuracy: 0.7797\n",
      "Epoch 10/100\n",
      "413/413 [==============================] - 1s 3ms/step - loss: 0.0621 - accuracy: 0.9831 - val_loss: 0.5740 - val_accuracy: 0.8305\n",
      "Epoch 11/100\n",
      "413/413 [==============================] - 1s 3ms/step - loss: 0.0481 - accuracy: 0.9855 - val_loss: 0.5857 - val_accuracy: 0.7966\n",
      "Epoch 12/100\n",
      "413/413 [==============================] - 1s 3ms/step - loss: 0.0535 - accuracy: 0.9782 - val_loss: 0.6051 - val_accuracy: 0.7797\n",
      "Epoch 13/100\n",
      "413/413 [==============================] - 1s 3ms/step - loss: 0.0610 - accuracy: 0.9734 - val_loss: 0.4839 - val_accuracy: 0.8136\n",
      "Epoch 14/100\n",
      "413/413 [==============================] - 1s 3ms/step - loss: 0.0937 - accuracy: 0.9831 - val_loss: 0.7251 - val_accuracy: 0.8305\n",
      "Epoch 15/100\n",
      "413/413 [==============================] - 1s 3ms/step - loss: 0.0732 - accuracy: 0.9855 - val_loss: 0.5548 - val_accuracy: 0.7966\n",
      "Epoch 16/100\n",
      "413/413 [==============================] - 1s 3ms/step - loss: 0.0845 - accuracy: 0.9806 - val_loss: 0.7656 - val_accuracy: 0.8305\n",
      "Epoch 17/100\n",
      "413/413 [==============================] - 1s 3ms/step - loss: 0.0604 - accuracy: 0.9806 - val_loss: 0.4646 - val_accuracy: 0.8814\n",
      "Epoch 18/100\n",
      "413/413 [==============================] - 1s 3ms/step - loss: 0.0389 - accuracy: 0.9831 - val_loss: 0.4572 - val_accuracy: 0.8814\n",
      "Epoch 19/100\n",
      "413/413 [==============================] - 1s 3ms/step - loss: 0.0339 - accuracy: 0.9831 - val_loss: 0.6055 - val_accuracy: 0.8475\n",
      "Epoch 20/100\n",
      "413/413 [==============================] - 1s 3ms/step - loss: 0.0357 - accuracy: 0.9806 - val_loss: 0.5440 - val_accuracy: 0.8475\n",
      "Epoch 21/100\n",
      "413/413 [==============================] - 1s 3ms/step - loss: 0.0273 - accuracy: 0.9879 - val_loss: 0.6417 - val_accuracy: 0.8475\n",
      "Epoch 22/100\n",
      "413/413 [==============================] - 1s 3ms/step - loss: 0.0641 - accuracy: 0.9831 - val_loss: 1.0669 - val_accuracy: 0.7797\n",
      "Epoch 23/100\n",
      "413/413 [==============================] - 1s 3ms/step - loss: 0.0764 - accuracy: 0.9637 - val_loss: 0.6478 - val_accuracy: 0.7966\n",
      "Fold 6\n",
      "Train on 413 samples, validate on 59 samples\n",
      "Epoch 1/100\n",
      "413/413 [==============================] - 2s 4ms/step - loss: 10.5567 - accuracy: 0.6683 - val_loss: 9.0398 - val_accuracy: 0.5932\n",
      "Epoch 2/100\n",
      "413/413 [==============================] - 1s 3ms/step - loss: 2.8703 - accuracy: 0.8378 - val_loss: 1.8925 - val_accuracy: 0.7797\n",
      "Epoch 3/100\n",
      "413/413 [==============================] - 1s 3ms/step - loss: 0.6518 - accuracy: 0.9007 - val_loss: 1.6800 - val_accuracy: 0.8136\n",
      "Epoch 4/100\n",
      "413/413 [==============================] - 1s 3ms/step - loss: 0.2538 - accuracy: 0.9443 - val_loss: 0.8954 - val_accuracy: 0.8136\n",
      "Epoch 5/100\n",
      "413/413 [==============================] - 1s 3ms/step - loss: 0.2248 - accuracy: 0.9322 - val_loss: 0.9940 - val_accuracy: 0.7627\n",
      "Epoch 6/100\n",
      "413/413 [==============================] - 1s 3ms/step - loss: 0.1300 - accuracy: 0.9613 - val_loss: 0.6914 - val_accuracy: 0.8136\n",
      "Epoch 7/100\n",
      "413/413 [==============================] - 1s 3ms/step - loss: 0.0699 - accuracy: 0.9831 - val_loss: 0.6739 - val_accuracy: 0.7797\n",
      "Epoch 8/100\n",
      "413/413 [==============================] - 1s 3ms/step - loss: 0.0577 - accuracy: 0.9758 - val_loss: 0.5603 - val_accuracy: 0.7797\n",
      "Epoch 9/100\n",
      "413/413 [==============================] - 1s 3ms/step - loss: 0.0786 - accuracy: 0.9734 - val_loss: 0.7948 - val_accuracy: 0.7627\n",
      "Epoch 10/100\n",
      "413/413 [==============================] - 1s 3ms/step - loss: 0.0536 - accuracy: 0.9734 - val_loss: 0.7413 - val_accuracy: 0.7627\n",
      "Epoch 11/100\n",
      "413/413 [==============================] - 1s 3ms/step - loss: 0.0306 - accuracy: 0.9903 - val_loss: 0.6814 - val_accuracy: 0.7966\n",
      "Epoch 12/100\n",
      "413/413 [==============================] - 1s 3ms/step - loss: 0.0352 - accuracy: 0.9806 - val_loss: 0.9755 - val_accuracy: 0.7797\n",
      "Epoch 13/100\n",
      "413/413 [==============================] - 1s 3ms/step - loss: 0.0478 - accuracy: 0.9927 - val_loss: 0.7120 - val_accuracy: 0.7627\n",
      "Fold 7\n",
      "Train on 413 samples, validate on 59 samples\n",
      "Epoch 1/100\n",
      "413/413 [==============================] - 2s 4ms/step - loss: 10.6169 - accuracy: 0.6659 - val_loss: 1.6957 - val_accuracy: 0.8475\n",
      "Epoch 2/100\n",
      "413/413 [==============================] - 1s 3ms/step - loss: 3.4114 - accuracy: 0.8257 - val_loss: 0.9541 - val_accuracy: 0.8644\n",
      "Epoch 3/100\n",
      "413/413 [==============================] - 1s 3ms/step - loss: 0.9095 - accuracy: 0.9225 - val_loss: 0.9507 - val_accuracy: 0.8814\n",
      "Epoch 4/100\n",
      "413/413 [==============================] - 1s 3ms/step - loss: 0.8626 - accuracy: 0.8935 - val_loss: 1.3353 - val_accuracy: 0.7797\n",
      "Epoch 5/100\n",
      "413/413 [==============================] - 1s 3ms/step - loss: 0.3321 - accuracy: 0.9419 - val_loss: 0.7573 - val_accuracy: 0.8983\n",
      "Epoch 6/100\n",
      "413/413 [==============================] - 1s 3ms/step - loss: 0.3261 - accuracy: 0.9492 - val_loss: 0.6205 - val_accuracy: 0.9153\n",
      "Epoch 7/100\n",
      "413/413 [==============================] - 1s 3ms/step - loss: 0.1984 - accuracy: 0.9516 - val_loss: 0.4607 - val_accuracy: 0.8814\n",
      "Epoch 8/100\n",
      "413/413 [==============================] - 1s 3ms/step - loss: 0.1868 - accuracy: 0.9613 - val_loss: 0.6883 - val_accuracy: 0.8814\n",
      "Epoch 9/100\n",
      "413/413 [==============================] - 1s 3ms/step - loss: 0.1322 - accuracy: 0.9758 - val_loss: 0.6271 - val_accuracy: 0.8305\n",
      "Epoch 10/100\n",
      "413/413 [==============================] - 1s 3ms/step - loss: 0.0946 - accuracy: 0.9734 - val_loss: 0.5404 - val_accuracy: 0.8814\n",
      "Epoch 11/100\n",
      "413/413 [==============================] - 1s 3ms/step - loss: 0.0748 - accuracy: 0.9806 - val_loss: 0.5110 - val_accuracy: 0.8814\n",
      "Epoch 12/100\n",
      "413/413 [==============================] - 1s 3ms/step - loss: 0.0571 - accuracy: 0.9806 - val_loss: 0.6586 - val_accuracy: 0.8814\n",
      "Fold 8\n",
      "Train on 413 samples, validate on 59 samples\n",
      "Epoch 1/100\n",
      "413/413 [==============================] - 1s 4ms/step - loss: 12.5507 - accuracy: 0.6731 - val_loss: 5.4009 - val_accuracy: 0.8305\n",
      "Epoch 2/100\n",
      "413/413 [==============================] - 1s 3ms/step - loss: 4.3348 - accuracy: 0.8232 - val_loss: 3.1083 - val_accuracy: 0.8136\n",
      "Epoch 3/100\n",
      "413/413 [==============================] - 1s 3ms/step - loss: 1.6472 - accuracy: 0.8838 - val_loss: 2.0790 - val_accuracy: 0.8136\n",
      "Epoch 4/100\n",
      "413/413 [==============================] - 1s 3ms/step - loss: 0.6002 - accuracy: 0.9201 - val_loss: 1.2131 - val_accuracy: 0.8475\n",
      "Epoch 5/100\n",
      "413/413 [==============================] - 1s 3ms/step - loss: 0.5488 - accuracy: 0.9274 - val_loss: 1.0270 - val_accuracy: 0.8814\n",
      "Epoch 6/100\n",
      "413/413 [==============================] - 1s 3ms/step - loss: 0.4258 - accuracy: 0.9370 - val_loss: 1.2471 - val_accuracy: 0.8475\n",
      "Epoch 7/100\n",
      "413/413 [==============================] - 1s 3ms/step - loss: 0.1303 - accuracy: 0.9661 - val_loss: 0.8847 - val_accuracy: 0.8814\n",
      "Epoch 8/100\n",
      "413/413 [==============================] - 1s 3ms/step - loss: 0.1752 - accuracy: 0.9709 - val_loss: 0.5477 - val_accuracy: 0.8983\n",
      "Epoch 9/100\n",
      "413/413 [==============================] - 1s 3ms/step - loss: 0.0625 - accuracy: 0.9685 - val_loss: 0.6236 - val_accuracy: 0.8305\n",
      "Epoch 10/100\n",
      "413/413 [==============================] - 1s 3ms/step - loss: 0.1551 - accuracy: 0.9758 - val_loss: 0.5914 - val_accuracy: 0.8305\n",
      "Epoch 11/100\n",
      "413/413 [==============================] - 1s 3ms/step - loss: 0.1650 - accuracy: 0.9588 - val_loss: 0.5120 - val_accuracy: 0.8305\n",
      "Epoch 12/100\n",
      "413/413 [==============================] - 1s 3ms/step - loss: 0.0698 - accuracy: 0.9734 - val_loss: 0.4773 - val_accuracy: 0.9322\n",
      "Epoch 13/100\n",
      "413/413 [==============================] - 1s 3ms/step - loss: 0.0960 - accuracy: 0.9806 - val_loss: 0.4824 - val_accuracy: 0.8983\n",
      "Epoch 14/100\n",
      "413/413 [==============================] - 1s 3ms/step - loss: 0.1023 - accuracy: 0.9734 - val_loss: 0.9095 - val_accuracy: 0.8305\n",
      "Epoch 15/100\n",
      "413/413 [==============================] - 1s 3ms/step - loss: 0.1872 - accuracy: 0.9709 - val_loss: 0.5215 - val_accuracy: 0.8814\n",
      "Epoch 16/100\n",
      "413/413 [==============================] - 1s 3ms/step - loss: 0.0916 - accuracy: 0.9806 - val_loss: 0.9749 - val_accuracy: 0.8814\n",
      "Epoch 17/100\n",
      "413/413 [==============================] - 1s 3ms/step - loss: 0.1905 - accuracy: 0.9661 - val_loss: 0.8636 - val_accuracy: 0.8814\n"
     ]
    }
   ],
   "source": [
    "from sklearn.model_selection import StratifiedKFold\n",
    "skf = StratifiedKFold(n_splits=8)\n",
    "\n",
    "accuracies = []\n",
    "f = 1\n",
    "\n",
    "for train_index, test_index in skf.split(samples, labels):\n",
    "        X_train = samples[train_index]\n",
    "        X_test = samples[test_index]\n",
    "        y_train = labels[train_index]\n",
    "        y_test = labels[test_index]\n",
    "      \n",
    "        model = models.Sequential()\n",
    "        model.add(layers.Dense(256, activation = 'relu', input_dim = 9*9*1920))\n",
    "        model.add(layers.Dropout(0.5))\n",
    "        model.add(layers.Dense(1, activation = 'sigmoid'))\n",
    "        model.compile(optimizer = optimizers.Adam(lr = 1e-3),loss = 'binary_crossentropy',metrics = ['accuracy'])\n",
    "        my_callbacks = [EarlyStopping(monitor = 'val_loss', patience=5, restore_best_weights=True)]\n",
    "\n",
    "        print('Fold {}'.format(f))\n",
    "        history = model.fit(X_train, y_train, epochs = 100, batch_size = 20, validation_data = (X_test, y_test), shuffle = True, callbacks = my_callbacks)\n",
    "\n",
    "        test_preds = model.predict(X_test, batch_size = 20)\n",
    "        test_predclass = np.array([1.0 if i>0.5 else 0.0 for i in test_preds])\n",
    "\n",
    "        accuracies.append([confusion_matrix(y_test,test_predclass)[0][0]/(y_test == 0.0).sum(), confusion_matrix(y_test,test_predclass)[1][1]/(y_test == 1.0).sum()])\n",
    "        f+=1\n"
   ]
  },
  {
   "cell_type": "code",
   "execution_count": 36,
   "metadata": {
    "colab": {
     "base_uri": "https://localhost:8080/",
     "height": 34
    },
    "colab_type": "code",
    "id": "-GvsuoqY0NZL",
    "outputId": "af77c222-0c80-4f1a-93be-0adc6af94e27"
   },
   "outputs": [
    {
     "name": "stdout",
     "output_type": "stream",
     "text": [
      "0.8612068965517242 0.8178160919540232\n"
     ]
    }
   ],
   "source": [
    "zero_acc = 0\n",
    "one_acc = 0\n",
    "\n",
    "for i in accuracies:\n",
    "  zero_acc+= i[0]\n",
    "  one_acc+=i[1]\n",
    "\n",
    "zero_acc/=8\n",
    "one_acc/=8\n",
    "\n",
    "print(zero_acc, one_acc)"
   ]
  },
  {
   "cell_type": "markdown",
   "metadata": {
    "colab_type": "text",
    "id": "trKQU8cuMHQV"
   },
   "source": [
    "Training on whole Training Dataset"
   ]
  },
  {
   "cell_type": "code",
   "execution_count": 42,
   "metadata": {
    "colab": {},
    "colab_type": "code",
    "id": "ppbMkhK2L0ov"
   },
   "outputs": [],
   "source": [
    "model = models.Sequential()\n",
    "model.add(layers.Dense(256, activation = 'relu', input_dim = 9*9*1920))\n",
    "model.add(layers.Dropout(0.5))\n",
    "model.add(layers.Dense(1, activation = 'sigmoid'))\n",
    "model.compile(optimizer = optimizers.Adam(lr = 1e-3),loss = 'binary_crossentropy',metrics = ['accuracy'])\n",
    "my_callbacks = [EarlyStopping(monitor = 'val_loss', patience=5, restore_best_weights=True)]\n"
   ]
  },
  {
   "cell_type": "code",
   "execution_count": 43,
   "metadata": {
    "colab": {},
    "colab_type": "code",
    "id": "Xncnp_xvNgcr"
   },
   "outputs": [],
   "source": [
    "xtest = np.load('gdrive/My Drive/pcb/xtest.npy')\n",
    "ytest = np.load('gdrive/My Drive/pcb/ytest.npy')\n"
   ]
  },
  {
   "cell_type": "code",
   "execution_count": 44,
   "metadata": {
    "colab": {},
    "colab_type": "code",
    "id": "SDa1CkJ9NgfS"
   },
   "outputs": [],
   "source": [
    "datagentest = ImageDataGenerator(\n",
    "    featurewise_center = True,\n",
    "    featurewise_std_normalization = True\n",
    ")"
   ]
  },
  {
   "cell_type": "code",
   "execution_count": 45,
   "metadata": {
    "colab": {},
    "colab_type": "code",
    "id": "uGEL70FTNglr"
   },
   "outputs": [],
   "source": [
    "datagentest.fit(xtest)"
   ]
  },
  {
   "cell_type": "code",
   "execution_count": 46,
   "metadata": {
    "colab": {
     "base_uri": "https://localhost:8080/",
     "height": 34
    },
    "colab_type": "code",
    "id": "QS7XpHLiNgoa",
    "outputId": "e8d2f4b2-99b4-485f-d521-954ac6736631"
   },
   "outputs": [
    {
     "name": "stdout",
     "output_type": "stream",
     "text": [
      "(552, 9, 9, 1920)\n"
     ]
    }
   ],
   "source": [
    "testnos = ytest.shape[0]\n",
    "\n",
    "numittest = NumpyArrayIterator(\n",
    "    xtest, ytest, datagentest, batch_size=testnos, shuffle=False, sample_weight=None,\n",
    "    seed=None, data_format=None, save_to_dir=None, save_prefix='',\n",
    "    save_format='png', subset=None, dtype=None\n",
    ")\n",
    "\n",
    "\n",
    "test_samples = np.zeros(shape=(testnos,9,9,1920))\n",
    "test_labels = np.zeros(shape=(testnos))\n",
    "for samples_batch,labels_batch in numittest:\n",
    "    g = conv_base.predict(samples_batch)\n",
    "    print(g.shape)\n",
    "    test_samples[::] = g\n",
    "    test_labels[:] = labels_batch\n",
    "    break"
   ]
  },
  {
   "cell_type": "code",
   "execution_count": 47,
   "metadata": {
    "colab": {},
    "colab_type": "code",
    "id": "0f37VOEUNgki"
   },
   "outputs": [],
   "source": [
    "test_samples = test_samples.reshape(testnos,9*9*1920)"
   ]
  },
  {
   "cell_type": "code",
   "execution_count": 48,
   "metadata": {
    "colab": {
     "base_uri": "https://localhost:8080/",
     "height": 476
    },
    "colab_type": "code",
    "id": "Ef_xxG8bNgiT",
    "outputId": "b7cff53c-bb3d-4c57-9edf-9874d61e82d4"
   },
   "outputs": [
    {
     "name": "stdout",
     "output_type": "stream",
     "text": [
      "Train on 472 samples, validate on 552 samples\n",
      "Epoch 1/100\n",
      "472/472 [==============================] - 2s 5ms/step - loss: 9.8908 - accuracy: 0.6695 - val_loss: 1.8891 - val_accuracy: 0.7953\n",
      "Epoch 2/100\n",
      "472/472 [==============================] - 2s 4ms/step - loss: 1.1388 - accuracy: 0.8496 - val_loss: 0.5648 - val_accuracy: 0.8931\n",
      "Epoch 3/100\n",
      "472/472 [==============================] - 2s 4ms/step - loss: 0.3929 - accuracy: 0.8644 - val_loss: 0.5236 - val_accuracy: 0.8442\n",
      "Epoch 4/100\n",
      "472/472 [==============================] - 2s 4ms/step - loss: 0.2319 - accuracy: 0.9174 - val_loss: 0.5788 - val_accuracy: 0.7899\n",
      "Epoch 5/100\n",
      "472/472 [==============================] - 2s 4ms/step - loss: 0.1546 - accuracy: 0.9407 - val_loss: 0.7173 - val_accuracy: 0.7935\n",
      "Epoch 6/100\n",
      "472/472 [==============================] - 2s 4ms/step - loss: 0.1679 - accuracy: 0.9555 - val_loss: 0.5883 - val_accuracy: 0.8134\n",
      "Epoch 7/100\n",
      "472/472 [==============================] - 2s 4ms/step - loss: 0.0986 - accuracy: 0.9661 - val_loss: 0.8619 - val_accuracy: 0.7138\n",
      "Epoch 8/100\n",
      "472/472 [==============================] - 2s 4ms/step - loss: 0.1817 - accuracy: 0.9555 - val_loss: 0.5020 - val_accuracy: 0.8551\n",
      "Epoch 9/100\n",
      "472/472 [==============================] - 2s 4ms/step - loss: 0.0786 - accuracy: 0.9725 - val_loss: 0.7991 - val_accuracy: 0.7627\n",
      "Epoch 10/100\n",
      "472/472 [==============================] - 2s 4ms/step - loss: 0.1031 - accuracy: 0.9788 - val_loss: 1.6358 - val_accuracy: 0.6866\n",
      "Epoch 11/100\n",
      "472/472 [==============================] - 2s 4ms/step - loss: 0.1287 - accuracy: 0.9576 - val_loss: 0.6974 - val_accuracy: 0.8098\n",
      "Epoch 12/100\n",
      "472/472 [==============================] - 2s 4ms/step - loss: 0.1461 - accuracy: 0.9576 - val_loss: 0.5166 - val_accuracy: 0.8424\n",
      "Epoch 13/100\n",
      "472/472 [==============================] - 2s 4ms/step - loss: 0.0829 - accuracy: 0.9746 - val_loss: 0.6810 - val_accuracy: 0.8043\n"
     ]
    }
   ],
   "source": [
    "historytest = model.fit(samples, labels, epochs = 100, batch_size = 20, validation_data = (test_samples, test_labels), shuffle = True,  callbacks = my_callbacks)"
   ]
  },
  {
   "cell_type": "code",
   "execution_count": 49,
   "metadata": {
    "colab": {},
    "colab_type": "code",
    "id": "jgbhA0dtNgaq"
   },
   "outputs": [],
   "source": [
    "test_preds = model.predict(test_samples, batch_size = 20)"
   ]
  },
  {
   "cell_type": "code",
   "execution_count": 50,
   "metadata": {
    "colab": {},
    "colab_type": "code",
    "id": "I3oZ2uIBOrsm"
   },
   "outputs": [],
   "source": [
    "test_predclass = np.array([1.0 if i>0.5 else 0.0 for i in test_preds])"
   ]
  },
  {
   "cell_type": "code",
   "execution_count": 51,
   "metadata": {
    "colab": {
     "base_uri": "https://localhost:8080/",
     "height": 34
    },
    "colab_type": "code",
    "id": "B9pW68K3Orxg",
    "outputId": "8c00802a-cbb1-4fb4-dc0b-31360d47c46f"
   },
   "outputs": [
    {
     "data": {
      "text/plain": [
       "(0.6779661016949152, 0.8762677484787018)"
      ]
     },
     "execution_count": 51,
     "metadata": {
      "tags": []
     },
     "output_type": "execute_result"
    }
   ],
   "source": [
    "confusion_matrix(test_labels,test_predclass)[0][0]/(ytest == 0.0).sum(), confusion_matrix(test_labels,test_predclass)[1][1]/(ytest == 1.0).sum()"
   ]
  },
  {
   "cell_type": "code",
   "execution_count": null,
   "metadata": {
    "colab": {},
    "colab_type": "code",
    "id": "MxapdKZhOr0Q"
   },
   "outputs": [],
   "source": [
    "# Saving model\n",
    "\n",
    "# model_json = model.to_json()\n",
    "# with open(\"gdrive/My Drive/models/VGG19_12.json\", \"w\") as json_file:\n",
    "#     json_file.write(model_json)"
   ]
  },
  {
   "cell_type": "code",
   "execution_count": null,
   "metadata": {
    "colab": {},
    "colab_type": "code",
    "id": "rybw7Ry7Or2f"
   },
   "outputs": [],
   "source": [
    "# model.save_weights(\"gdrive/My Drive/models/VGG19_12.h5\")\n",
    "# print(\"Saved model to disk\")"
   ]
  },
  {
   "cell_type": "code",
   "execution_count": null,
   "metadata": {
    "colab": {},
    "colab_type": "code",
    "id": "CumEUxIaOrve"
   },
   "outputs": [],
   "source": [
    "# Saving and loading models\n",
    "# https://machinelearningmastery.com/save-load-keras-deep-learning-models/"
   ]
  },
  {
   "cell_type": "code",
   "execution_count": null,
   "metadata": {
    "colab": {},
    "colab_type": "code",
    "id": "xRJWd9bUHWa7"
   },
   "outputs": [],
   "source": []
  },
  {
   "cell_type": "code",
   "execution_count": 15,
   "metadata": {
    "colab": {
     "base_uri": "https://localhost:8080/",
     "height": 163
    },
    "colab_type": "code",
    "id": "hcaOhs5bHWfg",
    "outputId": "674f23c9-755b-42a5-8450-34eb9f83a091"
   },
   "outputs": [
    {
     "ename": "TypeError",
     "evalue": "ignored",
     "output_type": "error",
     "traceback": [
      "\u001b[0;31m---------------------------------------------------------------------------\u001b[0m",
      "\u001b[0;31mTypeError\u001b[0m                                 Traceback (most recent call last)",
      "\u001b[0;32m<ipython-input-15-010bb633e7c3>\u001b[0m in \u001b[0;36m<module>\u001b[0;34m()\u001b[0m\n\u001b[0;32m----> 1\u001b[0;31m \u001b[0mx\u001b[0m\u001b[0;34m(\u001b[0m\u001b[0ma\u001b[0m\u001b[0;34m)\u001b[0m\u001b[0;34m\u001b[0m\u001b[0;34m\u001b[0m\u001b[0m\n\u001b[0m",
      "\u001b[0;31mTypeError\u001b[0m: 'Tensor' object is not callable"
     ]
    }
   ],
   "source": []
  },
  {
   "cell_type": "code",
   "execution_count": null,
   "metadata": {
    "colab": {},
    "colab_type": "code",
    "id": "Oech-RU0HWhX"
   },
   "outputs": [],
   "source": []
  }
 ],
 "metadata": {
  "accelerator": "GPU",
  "colab": {
   "name": "DenseNet201_pretrained.ipynb",
   "provenance": [],
   "toc_visible": true
  },
  "kernelspec": {
   "display_name": "Python 3",
   "language": "python",
   "name": "python3"
  },
  "language_info": {
   "codemirror_mode": {
    "name": "ipython",
    "version": 3
   },
   "file_extension": ".py",
   "mimetype": "text/x-python",
   "name": "python",
   "nbconvert_exporter": "python",
   "pygments_lexer": "ipython3",
   "version": "3.6.9"
  }
 },
 "nbformat": 4,
 "nbformat_minor": 4
}
