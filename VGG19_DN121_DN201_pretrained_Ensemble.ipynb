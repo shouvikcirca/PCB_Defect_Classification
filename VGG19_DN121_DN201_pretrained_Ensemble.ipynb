{
  "nbformat": 4,
  "nbformat_minor": 0,
  "metadata": {
    "accelerator": "GPU",
    "colab": {
      "name": "VGG19_DN121_DN201_pretrained_Ensemble.ipynb",
      "provenance": [],
      "toc_visible": true
    },
    "kernelspec": {
      "display_name": "Python 3",
      "language": "python",
      "name": "python3"
    },
    "language_info": {
      "codemirror_mode": {
        "name": "ipython",
        "version": 3
      },
      "file_extension": ".py",
      "mimetype": "text/x-python",
      "name": "python",
      "nbconvert_exporter": "python",
      "pygments_lexer": "ipython3",
      "version": "3.6.9"
    }
  },
  "cells": [
    {
      "cell_type": "code",
      "metadata": {
        "colab_type": "code",
        "id": "mKdW-45kyBEr",
        "colab": {
          "base_uri": "https://localhost:8080/",
          "height": 34
        },
        "outputId": "dabb8b70-9eff-43bc-d292-badf3dc56b95"
      },
      "source": [
        "import tensorflow as tf\n",
        "import keras \n",
        "from keras.applications import VGG19, DenseNet121, DenseNet201\n",
        "import numpy as np\n",
        "from keras.preprocessing.image import ImageDataGenerator, NumpyArrayIterator\n",
        "from keras.callbacks import EarlyStopping, ModelCheckpoint\n",
        "from sklearn.metrics import confusion_matrix\n",
        "from keras import models, layers, optimizers"
      ],
      "execution_count": 1,
      "outputs": [
        {
          "output_type": "stream",
          "text": [
            "Using TensorFlow backend.\n"
          ],
          "name": "stderr"
        }
      ]
    },
    {
      "cell_type": "code",
      "metadata": {
        "colab_type": "code",
        "id": "O_hWsT8RyBE1",
        "colab": {}
      },
      "source": [
        "conv_base1 = VGG19(weights='imagenet', include_top = False, input_shape=(300,300,3))\n",
        "conv_base2 = DenseNet121(weights='imagenet', include_top = False, input_shape=(300,300,3))\n",
        "conv_base3 = DenseNet201(weights='imagenet', include_top = False, input_shape=(300,300,3))"
      ],
      "execution_count": 2,
      "outputs": []
    },
    {
      "cell_type": "code",
      "metadata": {
        "colab_type": "code",
        "id": "HmJBnMc0yrOl",
        "colab": {}
      },
      "source": [
        "from google.colab import drive\n",
        "drive.mount(\"/content/gdrive/\")"
      ],
      "execution_count": null,
      "outputs": []
    },
    {
      "cell_type": "code",
      "metadata": {
        "colab_type": "code",
        "id": "jZpMhfh0yBFA",
        "colab": {}
      },
      "source": [
        "X = np.load(\"gdrive/My Drive/pcb/xtrain.npy\")\n",
        "y = np.load(\"gdrive/My Drive/pcb/ytrain.npy\")"
      ],
      "execution_count": 3,
      "outputs": []
    },
    {
      "cell_type": "code",
      "metadata": {
        "id": "WBlCl5iJFAIs",
        "colab_type": "code",
        "colab": {
          "base_uri": "https://localhost:8080/",
          "height": 34
        },
        "outputId": "e0b9cde6-c5eb-4901-83c6-c07188c4ccee"
      },
      "source": [
        "conv_base1.predict(X[0].reshape(1,300,300,3)).shape, conv_base2.predict(X[0].reshape(1,300,300,3)).shape, conv_base3.predict(X[0].reshape(1,300,300,3)).shape"
      ],
      "execution_count": 4,
      "outputs": [
        {
          "output_type": "execute_result",
          "data": {
            "text/plain": [
              "((1, 9, 9, 512), (1, 9, 9, 1024), (1, 9, 9, 1920))"
            ]
          },
          "metadata": {
            "tags": []
          },
          "execution_count": 4
        }
      ]
    },
    {
      "cell_type": "code",
      "metadata": {
        "id": "gLEHNpSCtRDv",
        "colab_type": "code",
        "colab": {}
      },
      "source": [
        "# Training set has 472 samples"
      ],
      "execution_count": null,
      "outputs": []
    },
    {
      "cell_type": "code",
      "metadata": {
        "id": "BeQXJVZL4h7v",
        "colab_type": "code",
        "colab": {}
      },
      "source": [
        "datagen = ImageDataGenerator(\n",
        "    featurewise_center = True,\n",
        "    featurewise_std_normalization = True\n",
        ")\n",
        "\n",
        "datagen.fit(X)"
      ],
      "execution_count": 5,
      "outputs": []
    },
    {
      "cell_type": "markdown",
      "metadata": {
        "id": "dH2UMi3oLXRj",
        "colab_type": "text"
      },
      "source": [
        "Training with k-fold Validation"
      ]
    },
    {
      "cell_type": "code",
      "metadata": {
        "id": "ylYElFUN0NfI",
        "colab_type": "code",
        "colab": {
          "base_uri": "https://localhost:8080/",
          "height": 34
        },
        "outputId": "d9a90b87-998b-4072-bd02-1605708a84b6"
      },
      "source": [
        "X.shape, (y == 0).sum(), (y == 1).sum()"
      ],
      "execution_count": null,
      "outputs": [
        {
          "output_type": "execute_result",
          "data": {
            "text/plain": [
              "((472, 300, 300, 3), 236, 236)"
            ]
          },
          "metadata": {
            "tags": []
          },
          "execution_count": 5
        }
      ]
    },
    {
      "cell_type": "code",
      "metadata": {
        "id": "T_rpEncQbF7a",
        "colab_type": "code",
        "colab": {}
      },
      "source": [
        "nos = X.shape[0]\n",
        "bs = int(nos/8)\n",
        "\n",
        "numit = NumpyArrayIterator(\n",
        "    X, y, datagen, batch_size=nos, shuffle=False, sample_weight=None,\n",
        "    seed=None, data_format=None, save_to_dir=None, save_prefix='',\n",
        "    save_format='png', subset=None, dtype=None\n",
        ")\n"
      ],
      "execution_count": null,
      "outputs": []
    },
    {
      "cell_type": "code",
      "metadata": {
        "id": "kusUWHgtkn7o",
        "colab_type": "code",
        "colab": {
          "base_uri": "https://localhost:8080/",
          "height": 34
        },
        "outputId": "a75af265-2f80-42fa-a234-b2ca12f6d87c"
      },
      "source": [
        "for samples_batch,labels_batch in numit:\n",
        "    print(samples_batch.shape)\n",
        "    X[::] = samples_batch\n",
        "    break"
      ],
      "execution_count": null,
      "outputs": [
        {
          "output_type": "stream",
          "text": [
            "(472, 300, 300, 3)\n"
          ],
          "name": "stdout"
        }
      ]
    },
    {
      "cell_type": "code",
      "metadata": {
        "id": "nSNmJgXP0Ndx",
        "colab_type": "code",
        "colab": {}
      },
      "source": [
        "from sklearn.model_selection import StratifiedKFold\n",
        "skf = StratifiedKFold(n_splits=8)"
      ],
      "execution_count": 6,
      "outputs": []
    },
    {
      "cell_type": "code",
      "metadata": {
        "id": "ygaQiPGMAyZN",
        "colab_type": "code",
        "colab": {}
      },
      "source": [
        "accuracies = []\n",
        "f = 1\n",
        "\n",
        "for train_index, test_index in skf.split(X, y):\n",
        "        X_train = X[train_index]\n",
        "        X_test = X[test_index]\n",
        "        y_train = y[train_index]\n",
        "        y_test = y[test_index]\n",
        "      \n",
        "        X_train1 = conv_base1.predict(X_train)\n",
        "        X_train1 = X_train1.reshape(X_train.shape[0],9*9*512)\n",
        "        X_test1 = conv_base1.predict(X_test)\n",
        "        X_test1 = X_test1.reshape(X_test.shape[0],9*9*512)\n",
        "        \n",
        "        X_train2 = conv_base2.predict(X_train)\n",
        "        X_train2 = X_train2.reshape(X_train.shape[0],9*9*1024)\n",
        "        X_test2 = conv_base2.predict(X_test)\n",
        "        X_test2 = X_test2.reshape(X_test.shape[0],9*9*1024)\n",
        "        \n",
        "        X_train3 = conv_base3.predict(X_train)\n",
        "        X_train3 = X_train3.reshape(X_train.shape[0],9*9*1920)\n",
        "        X_test3 = conv_base3.predict(X_test)\n",
        "        X_test3 = X_test3.reshape(X_test.shape[0],9*9*1920)\n",
        "\n",
        "        model1 = models.Sequential()\n",
        "        model1.add(layers.Dense(256, activation = 'relu', input_dim = 9*9*512))\n",
        "        model1.add(layers.Dropout(0.5))\n",
        "        model1.add(layers.Dense(1, activation = 'sigmoid'))\n",
        "        model1.compile(optimizer = optimizers.Adam(lr = 1e-3),loss = 'binary_crossentropy',metrics = ['accuracy'])\n",
        "        \n",
        "        model2 = models.Sequential()\n",
        "        model2.add(layers.Dense(256, activation = 'relu', input_dim = 9*9*1024))\n",
        "        model2.add(layers.Dropout(0.5))\n",
        "        model2.add(layers.Dense(1, activation = 'sigmoid'))\n",
        "        model2.compile(optimizer = optimizers.Adam(lr = 1e-3),loss = 'binary_crossentropy',metrics = ['accuracy'])\n",
        "        \n",
        "        model3 = models.Sequential()\n",
        "        model3.add(layers.Dense(256, activation = 'relu', input_dim = 9*9*1920))\n",
        "        model3.add(layers.Dropout(0.5))\n",
        "        model3.add(layers.Dense(1, activation = 'sigmoid'))\n",
        "        model3.compile(optimizer = optimizers.Adam(lr = 1e-3),loss = 'binary_crossentropy',metrics = ['accuracy'])\n",
        "        \n",
        "        \n",
        "        my_callbacks = [EarlyStopping(monitor = 'val_loss', patience=5, restore_best_weights=True)]\n",
        "\n",
        "        print('Fold {}'.format(f))\n",
        "        \n",
        "        history1 = model1.fit(X_train1, y_train, epochs = 100, batch_size = 20, validation_data = (X_test1, y_test), shuffle = True, callbacks = my_callbacks)\n",
        "        history2 = model2.fit(X_train2, y_train, epochs = 100, batch_size = 20, validation_data = (X_test2, y_test), shuffle = True, callbacks = my_callbacks)\n",
        "        history3 = model3.fit(X_train3, y_train, epochs = 100, batch_size = 20, validation_data = (X_test3, y_test), shuffle = True, callbacks = my_callbacks)\n",
        "\n",
        "\n",
        "        test_preds1 = model1.predict(X_test1, batch_size = 20)\n",
        "        test_predclass1 = np.array([1.0 if i>0.5 else 0.0 for i in test_preds1])\n",
        "\n",
        "        test_preds2 = model2.predict(X_test2, batch_size = 20)\n",
        "        test_predclass2 = np.array([1.0 if i>0.5 else 0.0 for i in test_preds2])\n",
        "\n",
        "        test_preds3 = model3.predict(X_test3, batch_size = 20)\n",
        "        test_predclass3 = np.array([1.0 if i>0.5 else 0.0 for i in test_preds3])\n",
        "\n",
        "        kfinal_preds = np.empty(test_predclass3.shape[0])\n",
        "        for i in range(test_predclass3.shape[0]):\n",
        "          predsum = test_predclass1[i] + test_predclass2[i] + test_predclass3[i] \n",
        "          kfinal_preds[i] = 0.0 if predsum in [0.0,1.0] else 1.0\n",
        "\n",
        "\n",
        "        accuracies.append([confusion_matrix(y_test,kfinal_preds)[0][0]/(y_test == 0.0).sum(), confusion_matrix(y_test,kfinal_preds)[1][1]/(y_test == 1.0).sum()])\n",
        "        f+=1"
      ],
      "execution_count": null,
      "outputs": []
    },
    {
      "cell_type": "code",
      "metadata": {
        "id": "-GvsuoqY0NZL",
        "colab_type": "code",
        "colab": {
          "base_uri": "https://localhost:8080/",
          "height": 34
        },
        "outputId": "7dd3ea1c-81ed-412e-80d1-ed081a49a6f3"
      },
      "source": [
        "zero_acc = 0\n",
        "one_acc = 0\n",
        "\n",
        "for i in accuracies:\n",
        "  zero_acc+= i[0]\n",
        "  one_acc+=i[1]\n",
        "\n",
        "zero_acc/=8\n",
        "one_acc/=8\n",
        "\n",
        "print(zero_acc, one_acc)"
      ],
      "execution_count": null,
      "outputs": [
        {
          "output_type": "stream",
          "text": [
            "0.758477011494253 0.725\n"
          ],
          "name": "stdout"
        }
      ]
    },
    {
      "cell_type": "markdown",
      "metadata": {
        "id": "trKQU8cuMHQV",
        "colab_type": "text"
      },
      "source": [
        "Training on whole Training Dataset"
      ]
    },
    {
      "cell_type": "code",
      "metadata": {
        "id": "dNpL_TEj5BNb",
        "colab_type": "code",
        "colab": {
          "base_uri": "https://localhost:8080/",
          "height": 34
        },
        "outputId": "c73130fc-2c04-40d5-df47-e0355e2fce62"
      },
      "source": [
        "conv1_samples = np.zeros(shape=(nos,9,9,512))\n",
        "conv1_labels = np.zeros(shape=(nos))\n",
        "\n",
        "for samples_batch,labels_batch in numit:\n",
        "    f = conv_base1.predict(samples_batch)\n",
        "    print(f.shape)\n",
        "    conv1_samples = f\n",
        "    conv1_labels = labels_batch\n",
        "    break"
      ],
      "execution_count": null,
      "outputs": [
        {
          "output_type": "stream",
          "text": [
            "(472, 9, 9, 512)\n"
          ],
          "name": "stdout"
        }
      ]
    },
    {
      "cell_type": "code",
      "metadata": {
        "id": "hoki6hYabpyg",
        "colab_type": "code",
        "colab": {}
      },
      "source": [
        "conv1_samples = conv1_samples.reshape(nos,9*9*512)"
      ],
      "execution_count": null,
      "outputs": []
    },
    {
      "cell_type": "code",
      "metadata": {
        "id": "f55E5l1qbMrY",
        "colab_type": "code",
        "colab": {
          "base_uri": "https://localhost:8080/",
          "height": 34
        },
        "outputId": "96d18cfe-9007-4c56-ddc2-ac57b6835913"
      },
      "source": [
        "conv2_samples = np.zeros(shape=(nos,9,9,1024))\n",
        "conv2_labels = np.zeros(shape=(nos))\n",
        "i = 0\n",
        "for samples_batch,labels_batch in numit:\n",
        "    f = conv_base2.predict(samples_batch)\n",
        "    print(f.shape)\n",
        "    conv2_samples = f\n",
        "    conv2_labels = labels_batch\n",
        "    break"
      ],
      "execution_count": null,
      "outputs": [
        {
          "output_type": "stream",
          "text": [
            "(472, 9, 9, 1024)\n"
          ],
          "name": "stdout"
        }
      ]
    },
    {
      "cell_type": "code",
      "metadata": {
        "id": "5VDpDo0_bx9S",
        "colab_type": "code",
        "colab": {}
      },
      "source": [
        "conv2_samples = conv2_samples.reshape(nos,9*9*1024)"
      ],
      "execution_count": null,
      "outputs": []
    },
    {
      "cell_type": "code",
      "metadata": {
        "id": "tjUEJG3tbdwe",
        "colab_type": "code",
        "colab": {
          "base_uri": "https://localhost:8080/",
          "height": 34
        },
        "outputId": "9ec4c45f-8d40-44e9-84cc-1ede5258ed2c"
      },
      "source": [
        "conv3_samples = np.zeros(shape=(nos,9,9,1920))\n",
        "conv3_labels = np.zeros(shape=(nos))\n",
        "i = 0\n",
        "for samples_batch,labels_batch in numit:\n",
        "    f = conv_base3.predict(samples_batch)\n",
        "    print(f.shape)\n",
        "    conv3_samples = f\n",
        "    conv3_labels = labels_batch\n",
        "    break"
      ],
      "execution_count": null,
      "outputs": [
        {
          "output_type": "stream",
          "text": [
            "(472, 9, 9, 1920)\n"
          ],
          "name": "stdout"
        }
      ]
    },
    {
      "cell_type": "code",
      "metadata": {
        "id": "l3RCnShl5iGN",
        "colab_type": "code",
        "colab": {}
      },
      "source": [
        "conv3_samples = conv3_samples.reshape(nos,9*9*1920)"
      ],
      "execution_count": null,
      "outputs": []
    },
    {
      "cell_type": "code",
      "metadata": {
        "id": "hoBAWa2K5pXb",
        "colab_type": "code",
        "colab": {
          "base_uri": "https://localhost:8080/",
          "height": 34
        },
        "outputId": "519a1a75-84d4-4ff4-de7e-d492a128b245"
      },
      "source": [
        "conv1_samples.shape, conv1_labels.shape, conv2_samples.shape, conv2_labels.shape, conv3_samples.shape, conv3_labels.shape"
      ],
      "execution_count": null,
      "outputs": [
        {
          "output_type": "execute_result",
          "data": {
            "text/plain": [
              "((472, 41472), (472,), (472, 82944), (472,), (472, 155520), (472,))"
            ]
          },
          "metadata": {
            "tags": []
          },
          "execution_count": 16
        }
      ]
    },
    {
      "cell_type": "code",
      "metadata": {
        "id": "ENfBSs4FAygc",
        "colab_type": "code",
        "colab": {}
      },
      "source": [
        ""
      ],
      "execution_count": null,
      "outputs": []
    },
    {
      "cell_type": "code",
      "metadata": {
        "id": "8I-sKdUUAyec",
        "colab_type": "code",
        "colab": {}
      },
      "source": [
        ""
      ],
      "execution_count": null,
      "outputs": []
    },
    {
      "cell_type": "code",
      "metadata": {
        "id": "_ky2u4KOAycC",
        "colab_type": "code",
        "colab": {}
      },
      "source": [
        ""
      ],
      "execution_count": null,
      "outputs": []
    },
    {
      "cell_type": "code",
      "metadata": {
        "id": "q9nlExhzAyWr",
        "colab_type": "code",
        "colab": {}
      },
      "source": [
        ""
      ],
      "execution_count": null,
      "outputs": []
    },
    {
      "cell_type": "code",
      "metadata": {
        "id": "ppbMkhK2L0ov",
        "colab_type": "code",
        "colab": {}
      },
      "source": [
        "model_conv1 = models.Sequential()\n",
        "model_conv1.add(layers.Dense(256, activation = 'relu', input_dim = 9*9*512))\n",
        "model_conv1.add(layers.Dropout(0.5))\n",
        "model_conv1.add(layers.Dense(1, activation = 'sigmoid'))\n",
        "model_conv1.compile(optimizer = optimizers.Adam(lr = 1e-3),loss = 'binary_crossentropy',metrics = ['accuracy'])\n",
        "\n",
        "model_conv2 = models.Sequential()\n",
        "model_conv2.add(layers.Dense(256, activation = 'relu', input_dim = 9*9*1024))\n",
        "model_conv2.add(layers.Dropout(0.5))\n",
        "model_conv2.add(layers.Dense(1, activation = 'sigmoid'))\n",
        "model_conv2.compile(optimizer = optimizers.Adam(lr = 1e-3),loss = 'binary_crossentropy',metrics = ['accuracy'])\n",
        "\n",
        "model_conv3 = models.Sequential()\n",
        "model_conv3.add(layers.Dense(256, activation = 'relu', input_dim = 9*9*1920))\n",
        "model_conv3.add(layers.Dropout(0.5))\n",
        "model_conv3.add(layers.Dense(1, activation = 'sigmoid'))\n",
        "model_conv3.compile(optimizer = optimizers.Adam(lr = 1e-3),loss = 'binary_crossentropy',metrics = ['accuracy'])\n",
        "\n",
        "my_callbacks = [EarlyStopping(monitor = 'val_loss', patience=5, restore_best_weights=True)]"
      ],
      "execution_count": null,
      "outputs": []
    },
    {
      "cell_type": "code",
      "metadata": {
        "id": "Xncnp_xvNgcr",
        "colab_type": "code",
        "colab": {}
      },
      "source": [
        "xtest = np.load('gdrive/My Drive/pcb/xtest.npy')\n",
        "ytest = np.load('gdrive/My Drive/pcb/ytest.npy')\n"
      ],
      "execution_count": null,
      "outputs": []
    },
    {
      "cell_type": "code",
      "metadata": {
        "id": "SDa1CkJ9NgfS",
        "colab_type": "code",
        "colab": {}
      },
      "source": [
        "datagentest = ImageDataGenerator(\n",
        "    featurewise_center = True,\n",
        "    featurewise_std_normalization = True\n",
        ")\n",
        "datagentest.fit(xtest)\n",
        "testnos = ytest.shape[0]\n",
        "\n",
        "\n",
        "numittest = NumpyArrayIterator(\n",
        "    xtest, ytest, datagentest, batch_size=testnos, shuffle=False, sample_weight=None,\n",
        "    seed=None, data_format=None, save_to_dir=None, save_prefix='',\n",
        "    save_format='png', subset=None, dtype=None\n",
        ")\n"
      ],
      "execution_count": null,
      "outputs": []
    },
    {
      "cell_type": "code",
      "metadata": {
        "id": "QS7XpHLiNgoa",
        "colab_type": "code",
        "colab": {
          "base_uri": "https://localhost:8080/",
          "height": 34
        },
        "outputId": "23a22e4e-def9-43e9-8495-55b6b4c1e794"
      },
      "source": [
        "conv1_test_samples = np.zeros(shape=(testnos,9,9,512))\n",
        "conv1_test_labels = np.zeros(shape=(testnos))\n",
        "for samples_batch,labels_batch in numittest:\n",
        "    g = conv_base1.predict(samples_batch)\n",
        "    print(g.shape)\n",
        "    conv1_test_samples[::] = g\n",
        "    conv1_test_labels[:] = labels_batch\n",
        "    break"
      ],
      "execution_count": null,
      "outputs": [
        {
          "output_type": "stream",
          "text": [
            "(552, 9, 9, 512)\n"
          ],
          "name": "stdout"
        }
      ]
    },
    {
      "cell_type": "code",
      "metadata": {
        "id": "0f37VOEUNgki",
        "colab_type": "code",
        "colab": {}
      },
      "source": [
        "conv1_test_samples = conv1_test_samples.reshape(testnos,9*9*512)"
      ],
      "execution_count": null,
      "outputs": []
    },
    {
      "cell_type": "code",
      "metadata": {
        "id": "4N21hH-_xAFV",
        "colab_type": "code",
        "colab": {
          "base_uri": "https://localhost:8080/",
          "height": 34
        },
        "outputId": "544cda2f-7b10-4c60-bcf8-621d78d691c8"
      },
      "source": [
        "conv2_test_samples = np.zeros(shape=(testnos,9,9,1024))\n",
        "conv2_test_labels = np.zeros(shape=(testnos))\n",
        "for samples_batch,labels_batch in numittest:\n",
        "    g = conv_base2.predict(samples_batch)\n",
        "    print(g.shape)\n",
        "    conv2_test_samples[::] = g\n",
        "    conv2_test_labels[:] = labels_batch\n",
        "    break"
      ],
      "execution_count": null,
      "outputs": [
        {
          "output_type": "stream",
          "text": [
            "(552, 9, 9, 1024)\n"
          ],
          "name": "stdout"
        }
      ]
    },
    {
      "cell_type": "code",
      "metadata": {
        "id": "d8Q19vAQxAKr",
        "colab_type": "code",
        "colab": {}
      },
      "source": [
        "conv2_test_samples = conv2_test_samples.reshape(testnos,9*9*1024)"
      ],
      "execution_count": null,
      "outputs": []
    },
    {
      "cell_type": "code",
      "metadata": {
        "id": "Ef9PK7zDxAW1",
        "colab_type": "code",
        "colab": {
          "base_uri": "https://localhost:8080/",
          "height": 34
        },
        "outputId": "18c1420a-6ff0-467f-e8f2-14092894f6fc"
      },
      "source": [
        "conv3_test_samples = np.zeros(shape=(testnos,9,9,1920))\n",
        "conv3_test_labels = np.zeros(shape=(testnos))\n",
        "for samples_batch,labels_batch in numittest:\n",
        "    g = conv_base3.predict(samples_batch)\n",
        "    print(g.shape)\n",
        "    conv3_test_samples[::] = g\n",
        "    conv3_test_labels[:] = labels_batch\n",
        "    break"
      ],
      "execution_count": null,
      "outputs": [
        {
          "output_type": "stream",
          "text": [
            "(552, 9, 9, 1920)\n"
          ],
          "name": "stdout"
        }
      ]
    },
    {
      "cell_type": "code",
      "metadata": {
        "id": "21RPhIg7xAhB",
        "colab_type": "code",
        "colab": {}
      },
      "source": [
        "conv3_test_samples = conv3_test_samples.reshape(testnos,9*9*1920)"
      ],
      "execution_count": null,
      "outputs": []
    },
    {
      "cell_type": "code",
      "metadata": {
        "id": "TR4pOMLsQBDO",
        "colab_type": "code",
        "colab": {}
      },
      "source": [
        "# To save memory\n",
        "del xtest\n",
        "del ytest"
      ],
      "execution_count": null,
      "outputs": []
    },
    {
      "cell_type": "code",
      "metadata": {
        "id": "Ef_xxG8bNgiT",
        "colab_type": "code",
        "colab": {
          "base_uri": "https://localhost:8080/",
          "height": 272
        },
        "outputId": "8f41634d-4475-40c0-9611-72e17ff283f4"
      },
      "source": [
        "conv1_historytest = model_conv1.fit(conv1_samples, conv1_labels, epochs = 100, batch_size = 20, validation_data = (conv1_test_samples, conv1_test_labels), shuffle = True,  callbacks = my_callbacks)"
      ],
      "execution_count": null,
      "outputs": [
        {
          "output_type": "stream",
          "text": [
            "Train on 472 samples, validate on 552 samples\n",
            "Epoch 1/100\n",
            "472/472 [==============================] - 1s 1ms/step - loss: 2.0956 - accuracy: 0.6356 - val_loss: 0.6302 - val_accuracy: 0.7138\n",
            "Epoch 2/100\n",
            "472/472 [==============================] - 0s 1ms/step - loss: 0.3950 - accuracy: 0.8284 - val_loss: 0.4339 - val_accuracy: 0.8043\n",
            "Epoch 3/100\n",
            "472/472 [==============================] - 0s 1ms/step - loss: 0.2448 - accuracy: 0.9025 - val_loss: 0.4822 - val_accuracy: 0.7717\n",
            "Epoch 4/100\n",
            "472/472 [==============================] - 0s 1ms/step - loss: 0.2097 - accuracy: 0.9195 - val_loss: 0.6165 - val_accuracy: 0.7029\n",
            "Epoch 5/100\n",
            "472/472 [==============================] - 0s 1ms/step - loss: 0.1561 - accuracy: 0.9407 - val_loss: 0.9289 - val_accuracy: 0.6250\n",
            "Epoch 6/100\n",
            "472/472 [==============================] - 0s 1ms/step - loss: 0.1531 - accuracy: 0.9492 - val_loss: 0.5310 - val_accuracy: 0.7699\n",
            "Epoch 7/100\n",
            "472/472 [==============================] - 1s 1ms/step - loss: 0.1638 - accuracy: 0.9386 - val_loss: 0.5387 - val_accuracy: 0.7772\n"
          ],
          "name": "stdout"
        }
      ]
    },
    {
      "cell_type": "code",
      "metadata": {
        "id": "FywzanHZeSoV",
        "colab_type": "code",
        "colab": {
          "base_uri": "https://localhost:8080/",
          "height": 442
        },
        "outputId": "bd4b6e0b-de7d-434b-bc7c-65ddbf77c6a5"
      },
      "source": [
        "conv2_historytest = model_conv2.fit(conv2_samples, conv2_labels, epochs = 100, batch_size = 20, validation_data = (conv2_test_samples, conv2_test_labels), shuffle = True,  callbacks = my_callbacks)"
      ],
      "execution_count": null,
      "outputs": [
        {
          "output_type": "stream",
          "text": [
            "Train on 472 samples, validate on 552 samples\n",
            "Epoch 1/100\n",
            "472/472 [==============================] - 1s 2ms/step - loss: 9.3381 - accuracy: 0.6271 - val_loss: 2.2771 - val_accuracy: 0.6866\n",
            "Epoch 2/100\n",
            "472/472 [==============================] - 1s 2ms/step - loss: 1.8178 - accuracy: 0.7860 - val_loss: 1.3352 - val_accuracy: 0.7011\n",
            "Epoch 3/100\n",
            "472/472 [==============================] - 1s 2ms/step - loss: 0.4682 - accuracy: 0.8708 - val_loss: 0.7875 - val_accuracy: 0.7355\n",
            "Epoch 4/100\n",
            "472/472 [==============================] - 1s 2ms/step - loss: 0.2834 - accuracy: 0.8941 - val_loss: 0.6164 - val_accuracy: 0.8261\n",
            "Epoch 5/100\n",
            "472/472 [==============================] - 1s 2ms/step - loss: 0.2678 - accuracy: 0.9110 - val_loss: 0.8846 - val_accuracy: 0.6322\n",
            "Epoch 6/100\n",
            "472/472 [==============================] - 1s 2ms/step - loss: 0.2290 - accuracy: 0.9280 - val_loss: 0.6594 - val_accuracy: 0.6975\n",
            "Epoch 7/100\n",
            "472/472 [==============================] - 1s 2ms/step - loss: 0.1875 - accuracy: 0.9322 - val_loss: 0.5191 - val_accuracy: 0.8406\n",
            "Epoch 8/100\n",
            "472/472 [==============================] - 1s 2ms/step - loss: 0.1387 - accuracy: 0.9513 - val_loss: 0.8023 - val_accuracy: 0.6975\n",
            "Epoch 9/100\n",
            "472/472 [==============================] - 1s 2ms/step - loss: 0.1145 - accuracy: 0.9513 - val_loss: 0.6596 - val_accuracy: 0.7736\n",
            "Epoch 10/100\n",
            "472/472 [==============================] - 1s 2ms/step - loss: 0.0988 - accuracy: 0.9576 - val_loss: 0.8394 - val_accuracy: 0.6902\n",
            "Epoch 11/100\n",
            "472/472 [==============================] - 1s 2ms/step - loss: 0.1250 - accuracy: 0.9555 - val_loss: 0.8354 - val_accuracy: 0.6920\n",
            "Epoch 12/100\n",
            "472/472 [==============================] - 1s 2ms/step - loss: 0.1363 - accuracy: 0.9492 - val_loss: 0.5420 - val_accuracy: 0.8062\n"
          ],
          "name": "stdout"
        }
      ]
    },
    {
      "cell_type": "code",
      "metadata": {
        "id": "qrvb6KSieTYU",
        "colab_type": "code",
        "colab": {
          "base_uri": "https://localhost:8080/",
          "height": 306
        },
        "outputId": "c802d814-af68-48dd-eeb4-1fd25f5b8619"
      },
      "source": [
        "conv3_historytest = model_conv3.fit(conv3_samples, conv3_labels, epochs = 100, batch_size = 20, validation_data = (conv3_test_samples, conv3_test_labels), shuffle = True,  callbacks = my_callbacks)"
      ],
      "execution_count": null,
      "outputs": [
        {
          "output_type": "stream",
          "text": [
            "Train on 472 samples, validate on 552 samples\n",
            "Epoch 1/100\n",
            "472/472 [==============================] - 2s 4ms/step - loss: 13.8379 - accuracy: 0.6229 - val_loss: 1.8439 - val_accuracy: 0.9058\n",
            "Epoch 2/100\n",
            "472/472 [==============================] - 2s 3ms/step - loss: 2.4283 - accuracy: 0.7564 - val_loss: 1.1544 - val_accuracy: 0.6667\n",
            "Epoch 3/100\n",
            "472/472 [==============================] - 2s 3ms/step - loss: 0.4206 - accuracy: 0.8496 - val_loss: 0.4013 - val_accuracy: 0.8279\n",
            "Epoch 4/100\n",
            "472/472 [==============================] - 2s 3ms/step - loss: 0.2764 - accuracy: 0.8983 - val_loss: 0.8747 - val_accuracy: 0.6594\n",
            "Epoch 5/100\n",
            "472/472 [==============================] - 2s 3ms/step - loss: 0.2884 - accuracy: 0.8919 - val_loss: 0.9916 - val_accuracy: 0.5851\n",
            "Epoch 6/100\n",
            "472/472 [==============================] - 2s 3ms/step - loss: 0.2193 - accuracy: 0.9174 - val_loss: 0.6407 - val_accuracy: 0.7337\n",
            "Epoch 7/100\n",
            "472/472 [==============================] - 2s 3ms/step - loss: 0.1856 - accuracy: 0.9407 - val_loss: 0.5143 - val_accuracy: 0.8062\n",
            "Epoch 8/100\n",
            "472/472 [==============================] - 2s 3ms/step - loss: 0.1254 - accuracy: 0.9513 - val_loss: 1.2248 - val_accuracy: 0.6685\n"
          ],
          "name": "stdout"
        }
      ]
    },
    {
      "cell_type": "code",
      "metadata": {
        "id": "Iv26Zs3JxVjR",
        "colab_type": "code",
        "colab": {}
      },
      "source": [
        ""
      ],
      "execution_count": null,
      "outputs": []
    },
    {
      "cell_type": "code",
      "metadata": {
        "id": "jgbhA0dtNgaq",
        "colab_type": "code",
        "colab": {}
      },
      "source": [
        "conv1_test_preds = model_conv1.predict(conv1_test_samples, batch_size = 20)\n",
        "conv1_test_predclass = np.array([1.0 if i>0.5 else 0.0 for i in conv1_test_preds])"
      ],
      "execution_count": null,
      "outputs": []
    },
    {
      "cell_type": "code",
      "metadata": {
        "id": "I3oZ2uIBOrsm",
        "colab_type": "code",
        "colab": {}
      },
      "source": [
        "conv2_test_preds = model_conv2.predict(conv2_test_samples, batch_size = 20)\n",
        "conv2_test_predclass = np.array([1.0 if i>0.5 else 0.0 for i in conv2_test_preds])"
      ],
      "execution_count": null,
      "outputs": []
    },
    {
      "cell_type": "code",
      "metadata": {
        "id": "iB5-kLT-xnrp",
        "colab_type": "code",
        "colab": {}
      },
      "source": [
        "conv3_test_preds = model_conv3.predict(conv3_test_samples, batch_size = 20)\n",
        "conv3_test_predclass = np.array([1.0 if i>0.5 else 0.0 for i in conv3_test_preds])"
      ],
      "execution_count": null,
      "outputs": []
    },
    {
      "cell_type": "code",
      "metadata": {
        "id": "91_8v_ZdxnzF",
        "colab_type": "code",
        "colab": {}
      },
      "source": [
        "# Voting\n",
        "\n",
        "final_preds = np.empty(conv1_test_predclass.shape[0])\n",
        "for i in range(conv1_test_predclass.shape[0]):\n",
        "  predsum = conv1_test_predclass[i] + conv2_test_predclass[i] + conv3_test_predclass[i] \n",
        "  final_preds[i] = 0.0 if predsum in [0.0,1.0] else 1.0"
      ],
      "execution_count": null,
      "outputs": []
    },
    {
      "cell_type": "code",
      "metadata": {
        "id": "B9pW68K3Orxg",
        "colab_type": "code",
        "colab": {
          "base_uri": "https://localhost:8080/",
          "height": 34
        },
        "outputId": "f824e7d2-e95e-4cbe-fb19-b3fad10d9d46"
      },
      "source": [
        "confusion_matrix(conv1_test_labels,final_preds)[0][0]/(conv1_test_labels == 0.0).sum(), confusion_matrix(conv1_test_labels,final_preds)[1][1]/(conv1_test_labels == 1.0).sum()"
      ],
      "execution_count": null,
      "outputs": [
        {
          "output_type": "execute_result",
          "data": {
            "text/plain": [
              "(0.6610169491525424, 0.8701825557809331)"
            ]
          },
          "metadata": {
            "tags": []
          },
          "execution_count": 36
        }
      ]
    },
    {
      "cell_type": "code",
      "metadata": {
        "id": "MxapdKZhOr0Q",
        "colab_type": "code",
        "colab": {}
      },
      "source": [
        "# Saving model\n",
        "\n",
        "# model_json = model.to_json()\n",
        "# with open(\"gdrive/My Drive/models/VGG19_12.json\", \"w\") as json_file:\n",
        "#     json_file.write(model_json)"
      ],
      "execution_count": null,
      "outputs": []
    },
    {
      "cell_type": "code",
      "metadata": {
        "id": "rybw7Ry7Or2f",
        "colab_type": "code",
        "colab": {}
      },
      "source": [
        "# model.save_weights(\"gdrive/My Drive/models/VGG19_12.h5\")\n",
        "# print(\"Saved model to disk\")"
      ],
      "execution_count": null,
      "outputs": []
    },
    {
      "cell_type": "code",
      "metadata": {
        "id": "CumEUxIaOrve",
        "colab_type": "code",
        "colab": {}
      },
      "source": [
        "# Saving and loading models\n",
        "# https://machinelearningmastery.com/save-load-keras-deep-learning-models/"
      ],
      "execution_count": null,
      "outputs": []
    },
    {
      "cell_type": "code",
      "metadata": {
        "id": "xRJWd9bUHWa7",
        "colab_type": "code",
        "colab": {}
      },
      "source": [
        ""
      ],
      "execution_count": null,
      "outputs": []
    },
    {
      "cell_type": "code",
      "metadata": {
        "id": "Oech-RU0HWhX",
        "colab_type": "code",
        "colab": {}
      },
      "source": [
        ""
      ],
      "execution_count": null,
      "outputs": []
    }
  ]
}