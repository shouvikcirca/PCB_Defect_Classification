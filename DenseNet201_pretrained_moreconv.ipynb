{
  "nbformat": 4,
  "nbformat_minor": 0,
  "metadata": {
    "accelerator": "GPU",
    "colab": {
      "name": "DenseNet201_pretrained_moreconv.ipynb",
      "provenance": [],
      "toc_visible": true
    },
    "kernelspec": {
      "display_name": "Python 3",
      "language": "python",
      "name": "python3"
    },
    "language_info": {
      "codemirror_mode": {
        "name": "ipython",
        "version": 3
      },
      "file_extension": ".py",
      "mimetype": "text/x-python",
      "name": "python",
      "nbconvert_exporter": "python",
      "pygments_lexer": "ipython3",
      "version": "3.6.9"
    }
  },
  "cells": [
    {
      "cell_type": "code",
      "metadata": {
        "colab_type": "code",
        "id": "mKdW-45kyBEr",
        "colab": {
          "base_uri": "https://localhost:8080/",
          "height": 34
        },
        "outputId": "03d6abf0-ac68-43a2-e7e6-638211f0d959"
      },
      "source": [
        "import tensorflow as tf\n",
        "import keras \n",
        "from keras.applications import DenseNet201\n",
        "import numpy as np\n",
        "from keras.preprocessing.image import ImageDataGenerator, NumpyArrayIterator\n",
        "from keras.callbacks import EarlyStopping, ModelCheckpoint\n",
        "from sklearn.metrics import confusion_matrix\n",
        "from keras import models, layers, optimizers, Input\n",
        "from keras.layers import Conv2D\n",
        "from keras.layers import MaxPooling2D"
      ],
      "execution_count": 1,
      "outputs": [
        {
          "output_type": "stream",
          "text": [
            "Using TensorFlow backend.\n"
          ],
          "name": "stderr"
        }
      ]
    },
    {
      "cell_type": "code",
      "metadata": {
        "colab_type": "code",
        "id": "O_hWsT8RyBE1",
        "colab": {}
      },
      "source": [
        "conv_base = DenseNet201(weights='imagenet', include_top = False, input_shape=(300,300,3))"
      ],
      "execution_count": 2,
      "outputs": []
    },
    {
      "cell_type": "code",
      "metadata": {
        "colab_type": "code",
        "id": "HmJBnMc0yrOl",
        "colab": {
          "base_uri": "https://localhost:8080/",
          "height": 122
        },
        "outputId": "8f0416e1-760d-4c48-b33d-72c2fbed3a28"
      },
      "source": [
        "from google.colab import drive\n",
        "drive.mount(\"/content/gdrive/\")"
      ],
      "execution_count": 5,
      "outputs": [
        {
          "output_type": "stream",
          "text": [
            "Go to this URL in a browser: https://accounts.google.com/o/oauth2/auth?client_id=947318989803-6bn6qk8qdgf4n4g3pfee6491hc0brc4i.apps.googleusercontent.com&redirect_uri=urn%3aietf%3awg%3aoauth%3a2.0%3aoob&response_type=code&scope=email%20https%3a%2f%2fwww.googleapis.com%2fauth%2fdocs.test%20https%3a%2f%2fwww.googleapis.com%2fauth%2fdrive%20https%3a%2f%2fwww.googleapis.com%2fauth%2fdrive.photos.readonly%20https%3a%2f%2fwww.googleapis.com%2fauth%2fpeopleapi.readonly\n",
            "\n",
            "Enter your authorization code:\n",
            "··········\n",
            "Mounted at /content/gdrive/\n"
          ],
          "name": "stdout"
        }
      ]
    },
    {
      "cell_type": "code",
      "metadata": {
        "colab_type": "code",
        "id": "jZpMhfh0yBFA",
        "colab": {}
      },
      "source": [
        "X = np.load(\"gdrive/My Drive/pcb/xtrain.npy\")\n",
        "y = np.load(\"gdrive/My Drive/pcb/ytrain.npy\")"
      ],
      "execution_count": 3,
      "outputs": []
    },
    {
      "cell_type": "code",
      "metadata": {
        "id": "WBlCl5iJFAIs",
        "colab_type": "code",
        "colab": {
          "base_uri": "https://localhost:8080/",
          "height": 34
        },
        "outputId": "6fb06d85-7ded-47c3-907b-e6fb0de1eecf"
      },
      "source": [
        "conv_base.predict(X[0].reshape(1,300,300,3)).shape"
      ],
      "execution_count": null,
      "outputs": [
        {
          "output_type": "execute_result",
          "data": {
            "text/plain": [
              "(1, 9, 9, 1920)"
            ]
          },
          "metadata": {
            "tags": []
          },
          "execution_count": 28
        }
      ]
    },
    {
      "cell_type": "code",
      "metadata": {
        "id": "gLEHNpSCtRDv",
        "colab_type": "code",
        "colab": {}
      },
      "source": [
        "# Training set has 472 samples"
      ],
      "execution_count": null,
      "outputs": []
    },
    {
      "cell_type": "markdown",
      "metadata": {
        "id": "dH2UMi3oLXRj",
        "colab_type": "text"
      },
      "source": [
        "Training with k-fold Validation"
      ]
    },
    {
      "cell_type": "code",
      "metadata": {
        "id": "ylYElFUN0NfI",
        "colab_type": "code",
        "colab": {
          "base_uri": "https://localhost:8080/",
          "height": 34
        },
        "outputId": "30cfabc9-ff05-444c-9dcd-f274245e4000"
      },
      "source": [
        "X.shape, (y == 0).sum(), (y == 1).sum()"
      ],
      "execution_count": null,
      "outputs": [
        {
          "output_type": "execute_result",
          "data": {
            "text/plain": [
              "((472, 300, 300, 3), 236, 236)"
            ]
          },
          "metadata": {
            "tags": []
          },
          "execution_count": 29
        }
      ]
    },
    {
      "cell_type": "code",
      "metadata": {
        "id": "BeQXJVZL4h7v",
        "colab_type": "code",
        "colab": {}
      },
      "source": [
        "datagen = ImageDataGenerator(\n",
        "    featurewise_center = True,\n",
        "    featurewise_std_normalization = True\n",
        ")\n",
        "\n",
        "\n",
        "datagen.fit(X)"
      ],
      "execution_count": 4,
      "outputs": []
    },
    {
      "cell_type": "code",
      "metadata": {
        "id": "dNpL_TEj5BNb",
        "colab_type": "code",
        "colab": {
          "base_uri": "https://localhost:8080/",
          "height": 153
        },
        "outputId": "66a7e3bc-4dd2-4743-edf0-443b124e6f58"
      },
      "source": [
        "nos = X.shape[0]\n",
        "bs = int(nos/8)\n",
        "\n",
        "\n",
        "numit = NumpyArrayIterator(\n",
        "    X, y, datagen, batch_size=bs, shuffle=False, sample_weight=None,\n",
        "    seed=None, data_format=None, save_to_dir=None, save_prefix='',\n",
        "    save_format='png', subset=None, dtype=None\n",
        ")\n",
        "\n",
        "samples = np.zeros(shape=(nos,9,9,1920))\n",
        "labels = np.zeros(shape=(nos))\n",
        "i = 0\n",
        "for samples_batch,labels_batch in numit:\n",
        "    f = conv_base.predict(samples_batch)\n",
        "    print(f.shape)\n",
        "    samples[i*bs:(i+1)*bs] = f\n",
        "    labels[i*bs:(i+1)*bs] = labels_batch\n",
        "    i+=1\n",
        "    if (i*bs)>=nos:\n",
        "        break"
      ],
      "execution_count": 5,
      "outputs": [
        {
          "output_type": "stream",
          "text": [
            "(59, 9, 9, 1920)\n",
            "(59, 9, 9, 1920)\n",
            "(59, 9, 9, 1920)\n",
            "(59, 9, 9, 1920)\n",
            "(59, 9, 9, 1920)\n",
            "(59, 9, 9, 1920)\n",
            "(59, 9, 9, 1920)\n",
            "(59, 9, 9, 1920)\n"
          ],
          "name": "stdout"
        }
      ]
    },
    {
      "cell_type": "code",
      "metadata": {
        "id": "hoBAWa2K5pXb",
        "colab_type": "code",
        "colab": {
          "base_uri": "https://localhost:8080/",
          "height": 34
        },
        "outputId": "6e7280ec-af02-4d56-c98d-356a0ed14c67"
      },
      "source": [
        "samples.shape, labels.shape"
      ],
      "execution_count": null,
      "outputs": [
        {
          "output_type": "execute_result",
          "data": {
            "text/plain": [
              "((472, 155520), (472,))"
            ]
          },
          "metadata": {
            "tags": []
          },
          "execution_count": 33
        }
      ]
    },
    {
      "cell_type": "code",
      "metadata": {
        "id": "xYLS9aZr_Wbb",
        "colab_type": "code",
        "colab": {}
      },
      "source": [
        "# To save memory\n",
        "del X\n",
        "del y"
      ],
      "execution_count": 6,
      "outputs": []
    },
    {
      "cell_type": "code",
      "metadata": {
        "id": "nSNmJgXP0Ndx",
        "colab_type": "code",
        "colab": {
          "base_uri": "https://localhost:8080/",
          "height": 1000
        },
        "outputId": "179bc132-592c-4e47-971a-1fedce2e5fc5"
      },
      "source": [
        "from sklearn.model_selection import StratifiedKFold\n",
        "skf = StratifiedKFold(n_splits=8)\n",
        "\n",
        "accuracies = []\n",
        "f = 1\n",
        "\n",
        "for train_index, test_index in skf.split(samples, labels):\n",
        "        X_train = samples[train_index]\n",
        "        X_test = samples[test_index]\n",
        "        y_train = labels[train_index]\n",
        "        y_test = labels[test_index]\n",
        "      \n",
        "        model = models.Sequential()\n",
        "        model.add(layers.Conv2D(64, (2, 2), activation='relu',input_shape=(9, 9, 1920)))\n",
        "        model.add(layers.MaxPooling2D((2, 2)))\n",
        "        model.add(layers.Conv2D(256, (2, 2), activation='relu'))\n",
        "        model.add(layers.MaxPooling2D((2, 2)))\n",
        "        model.add(layers.Flatten())\n",
        "        model.add(layers.Dense(128, activation='relu'))\n",
        "        model.add(layers.Dense(64, activation='relu'))\n",
        "        model.add(layers.Dense(1, activation='sigmoid'))\n",
        "        model.compile(optimizer = optimizers.Adam(lr = 1e-3),loss = 'binary_crossentropy',metrics = ['accuracy'])\n",
        "        my_callbacks = [EarlyStopping(monitor = 'val_loss', patience=5, restore_best_weights=True)]\n",
        "\n",
        "        print('Fold {}'.format(f))\n",
        "        history = model.fit(X_train, y_train, epochs = 100, batch_size = 20, validation_data = (X_test, y_test), shuffle = True, callbacks = my_callbacks)\n",
        "\n",
        "        test_preds = model.predict(X_test, batch_size = 20)\n",
        "        test_predclass = np.array([1.0 if i>0.5 else 0.0 for i in test_preds])\n",
        "\n",
        "        accuracies.append([confusion_matrix(y_test,test_predclass)[0][0]/(y_test == 0.0).sum(), confusion_matrix(y_test,test_predclass)[1][1]/(y_test == 1.0).sum()])\n",
        "        f+=1\n"
      ],
      "execution_count": 7,
      "outputs": [
        {
          "output_type": "stream",
          "text": [
            "Fold 1\n",
            "Train on 413 samples, validate on 59 samples\n",
            "Epoch 1/100\n",
            "413/413 [==============================] - 1s 2ms/step - loss: 0.5719 - accuracy: 0.6731 - val_loss: 0.4089 - val_accuracy: 0.8305\n",
            "Epoch 2/100\n",
            "413/413 [==============================] - 0s 1ms/step - loss: 0.3109 - accuracy: 0.8741 - val_loss: 0.4493 - val_accuracy: 0.8475\n",
            "Epoch 3/100\n",
            "413/413 [==============================] - 0s 1ms/step - loss: 0.1464 - accuracy: 0.9492 - val_loss: 0.3731 - val_accuracy: 0.8644\n",
            "Epoch 4/100\n",
            "413/413 [==============================] - 0s 1ms/step - loss: 0.0853 - accuracy: 0.9831 - val_loss: 0.3183 - val_accuracy: 0.8983\n",
            "Epoch 5/100\n",
            "413/413 [==============================] - 0s 1ms/step - loss: 0.0899 - accuracy: 0.9685 - val_loss: 0.3455 - val_accuracy: 0.8814\n",
            "Epoch 6/100\n",
            "413/413 [==============================] - 0s 1ms/step - loss: 0.0523 - accuracy: 0.9806 - val_loss: 0.4355 - val_accuracy: 0.8814\n",
            "Epoch 7/100\n",
            "413/413 [==============================] - 0s 1ms/step - loss: 0.0495 - accuracy: 0.9831 - val_loss: 0.3968 - val_accuracy: 0.8814\n",
            "Epoch 8/100\n",
            "413/413 [==============================] - 0s 1ms/step - loss: 0.0385 - accuracy: 0.9855 - val_loss: 0.9058 - val_accuracy: 0.8136\n",
            "Epoch 9/100\n",
            "413/413 [==============================] - 0s 1ms/step - loss: 0.0710 - accuracy: 0.9806 - val_loss: 0.6702 - val_accuracy: 0.8983\n",
            "Fold 2\n",
            "Train on 413 samples, validate on 59 samples\n",
            "Epoch 1/100\n",
            "413/413 [==============================] - 1s 2ms/step - loss: 0.5721 - accuracy: 0.7046 - val_loss: 0.5453 - val_accuracy: 0.8136\n",
            "Epoch 2/100\n",
            "413/413 [==============================] - 0s 1ms/step - loss: 0.3551 - accuracy: 0.8475 - val_loss: 0.5428 - val_accuracy: 0.6780\n",
            "Epoch 3/100\n",
            "413/413 [==============================] - 0s 1ms/step - loss: 0.2531 - accuracy: 0.9031 - val_loss: 0.5836 - val_accuracy: 0.7797\n",
            "Epoch 4/100\n",
            "413/413 [==============================] - 0s 1ms/step - loss: 0.1192 - accuracy: 0.9661 - val_loss: 0.5179 - val_accuracy: 0.7966\n",
            "Epoch 5/100\n",
            "413/413 [==============================] - 0s 1ms/step - loss: 0.0879 - accuracy: 0.9806 - val_loss: 0.7783 - val_accuracy: 0.7966\n",
            "Epoch 6/100\n",
            "413/413 [==============================] - 0s 1ms/step - loss: 0.0556 - accuracy: 0.9879 - val_loss: 0.9111 - val_accuracy: 0.7458\n",
            "Epoch 7/100\n",
            "413/413 [==============================] - 0s 1ms/step - loss: 0.0254 - accuracy: 0.9927 - val_loss: 1.2008 - val_accuracy: 0.7119\n",
            "Epoch 8/100\n",
            "413/413 [==============================] - 0s 1ms/step - loss: 0.0238 - accuracy: 0.9927 - val_loss: 1.0286 - val_accuracy: 0.7458\n",
            "Epoch 9/100\n",
            "413/413 [==============================] - 0s 1ms/step - loss: 0.0160 - accuracy: 0.9952 - val_loss: 1.1028 - val_accuracy: 0.7119\n",
            "Fold 3\n",
            "Train on 413 samples, validate on 59 samples\n",
            "Epoch 1/100\n",
            "413/413 [==============================] - 1s 2ms/step - loss: 0.5926 - accuracy: 0.6659 - val_loss: 0.5514 - val_accuracy: 0.6780\n",
            "Epoch 2/100\n",
            "413/413 [==============================] - 0s 1ms/step - loss: 0.3646 - accuracy: 0.8257 - val_loss: 0.3808 - val_accuracy: 0.8644\n",
            "Epoch 3/100\n",
            "413/413 [==============================] - 0s 1ms/step - loss: 0.2045 - accuracy: 0.9177 - val_loss: 0.5609 - val_accuracy: 0.7797\n",
            "Epoch 4/100\n",
            "413/413 [==============================] - 0s 1ms/step - loss: 0.1211 - accuracy: 0.9709 - val_loss: 0.3865 - val_accuracy: 0.9153\n",
            "Epoch 5/100\n",
            "413/413 [==============================] - 0s 1ms/step - loss: 0.0695 - accuracy: 0.9782 - val_loss: 0.8116 - val_accuracy: 0.7966\n",
            "Epoch 6/100\n",
            "413/413 [==============================] - 0s 1ms/step - loss: 0.0750 - accuracy: 0.9709 - val_loss: 0.6110 - val_accuracy: 0.8644\n",
            "Epoch 7/100\n",
            "413/413 [==============================] - 0s 1ms/step - loss: 0.0400 - accuracy: 0.9903 - val_loss: 0.6264 - val_accuracy: 0.8475\n",
            "Fold 4\n",
            "Train on 413 samples, validate on 59 samples\n",
            "Epoch 1/100\n",
            "413/413 [==============================] - 1s 2ms/step - loss: 0.6529 - accuracy: 0.6126 - val_loss: 0.5181 - val_accuracy: 0.6271\n",
            "Epoch 2/100\n",
            "413/413 [==============================] - 0s 1ms/step - loss: 0.4645 - accuracy: 0.7579 - val_loss: 0.4049 - val_accuracy: 0.8644\n",
            "Epoch 3/100\n",
            "413/413 [==============================] - 0s 1ms/step - loss: 0.3427 - accuracy: 0.8547 - val_loss: 0.4726 - val_accuracy: 0.7966\n",
            "Epoch 4/100\n",
            "413/413 [==============================] - 0s 1ms/step - loss: 0.2035 - accuracy: 0.9080 - val_loss: 0.4784 - val_accuracy: 0.8475\n",
            "Epoch 5/100\n",
            "413/413 [==============================] - 0s 1ms/step - loss: 0.1014 - accuracy: 0.9613 - val_loss: 0.5349 - val_accuracy: 0.8305\n",
            "Epoch 6/100\n",
            "413/413 [==============================] - 0s 1ms/step - loss: 0.1150 - accuracy: 0.9637 - val_loss: 0.5822 - val_accuracy: 0.8136\n",
            "Epoch 7/100\n",
            "413/413 [==============================] - 0s 1ms/step - loss: 0.1017 - accuracy: 0.9588 - val_loss: 0.9522 - val_accuracy: 0.7797\n",
            "Fold 5\n",
            "Train on 413 samples, validate on 59 samples\n",
            "Epoch 1/100\n",
            "413/413 [==============================] - 1s 2ms/step - loss: 0.5904 - accuracy: 0.6707 - val_loss: 0.4447 - val_accuracy: 0.7966\n",
            "Epoch 2/100\n",
            "413/413 [==============================] - 0s 1ms/step - loss: 0.3514 - accuracy: 0.8547 - val_loss: 0.4295 - val_accuracy: 0.7966\n",
            "Epoch 3/100\n",
            "413/413 [==============================] - 0s 1ms/step - loss: 0.2627 - accuracy: 0.8910 - val_loss: 0.3784 - val_accuracy: 0.7627\n",
            "Epoch 4/100\n",
            "413/413 [==============================] - 0s 1ms/step - loss: 0.1537 - accuracy: 0.9492 - val_loss: 0.5357 - val_accuracy: 0.8305\n",
            "Epoch 5/100\n",
            "413/413 [==============================] - 0s 1ms/step - loss: 0.1097 - accuracy: 0.9588 - val_loss: 0.4166 - val_accuracy: 0.7797\n",
            "Epoch 6/100\n",
            "413/413 [==============================] - 0s 1ms/step - loss: 0.0752 - accuracy: 0.9709 - val_loss: 0.6481 - val_accuracy: 0.7458\n",
            "Epoch 7/100\n",
            "413/413 [==============================] - 0s 1ms/step - loss: 0.0971 - accuracy: 0.9637 - val_loss: 0.6402 - val_accuracy: 0.7966\n",
            "Epoch 8/100\n",
            "413/413 [==============================] - 0s 1ms/step - loss: 0.0370 - accuracy: 0.9855 - val_loss: 0.6918 - val_accuracy: 0.7797\n",
            "Fold 6\n",
            "Train on 413 samples, validate on 59 samples\n",
            "Epoch 1/100\n",
            "413/413 [==============================] - 1s 2ms/step - loss: 0.5719 - accuracy: 0.6465 - val_loss: 0.6991 - val_accuracy: 0.6949\n",
            "Epoch 2/100\n",
            "413/413 [==============================] - 0s 1ms/step - loss: 0.3493 - accuracy: 0.8281 - val_loss: 0.5850 - val_accuracy: 0.7288\n",
            "Epoch 3/100\n",
            "413/413 [==============================] - 0s 1ms/step - loss: 0.1987 - accuracy: 0.9274 - val_loss: 0.5378 - val_accuracy: 0.8305\n",
            "Epoch 4/100\n",
            "413/413 [==============================] - 0s 1ms/step - loss: 0.0932 - accuracy: 0.9734 - val_loss: 0.7802 - val_accuracy: 0.7458\n",
            "Epoch 5/100\n",
            "413/413 [==============================] - 0s 1ms/step - loss: 0.0412 - accuracy: 0.9903 - val_loss: 0.6808 - val_accuracy: 0.8136\n",
            "Epoch 6/100\n",
            "413/413 [==============================] - 0s 1ms/step - loss: 0.0609 - accuracy: 0.9806 - val_loss: 0.6431 - val_accuracy: 0.7627\n",
            "Epoch 7/100\n",
            "413/413 [==============================] - 0s 1ms/step - loss: 0.0412 - accuracy: 0.9831 - val_loss: 1.2359 - val_accuracy: 0.7458\n",
            "Epoch 8/100\n",
            "413/413 [==============================] - 0s 1ms/step - loss: 0.0348 - accuracy: 0.9879 - val_loss: 0.8098 - val_accuracy: 0.7966\n",
            "Fold 7\n",
            "Train on 413 samples, validate on 59 samples\n",
            "Epoch 1/100\n",
            "413/413 [==============================] - 1s 2ms/step - loss: 0.5876 - accuracy: 0.6441 - val_loss: 0.4792 - val_accuracy: 0.7627\n",
            "Epoch 2/100\n",
            "413/413 [==============================] - 0s 1ms/step - loss: 0.3638 - accuracy: 0.8378 - val_loss: 0.3828 - val_accuracy: 0.8136\n",
            "Epoch 3/100\n",
            "413/413 [==============================] - 0s 1ms/step - loss: 0.2131 - accuracy: 0.9201 - val_loss: 0.3953 - val_accuracy: 0.8644\n",
            "Epoch 4/100\n",
            "413/413 [==============================] - 0s 1ms/step - loss: 0.1149 - accuracy: 0.9564 - val_loss: 0.5774 - val_accuracy: 0.8814\n",
            "Epoch 5/100\n",
            "413/413 [==============================] - 0s 1ms/step - loss: 0.0928 - accuracy: 0.9709 - val_loss: 0.4984 - val_accuracy: 0.8136\n",
            "Epoch 6/100\n",
            "413/413 [==============================] - 0s 1ms/step - loss: 0.0431 - accuracy: 0.9855 - val_loss: 0.9553 - val_accuracy: 0.7966\n",
            "Epoch 7/100\n",
            "413/413 [==============================] - 1s 1ms/step - loss: 0.0368 - accuracy: 0.9806 - val_loss: 0.6804 - val_accuracy: 0.8475\n",
            "Fold 8\n",
            "Train on 413 samples, validate on 59 samples\n",
            "Epoch 1/100\n",
            "413/413 [==============================] - 1s 2ms/step - loss: 0.6296 - accuracy: 0.6077 - val_loss: 0.3901 - val_accuracy: 0.8136\n",
            "Epoch 2/100\n",
            "413/413 [==============================] - 0s 1ms/step - loss: 0.3722 - accuracy: 0.8499 - val_loss: 0.5263 - val_accuracy: 0.7966\n",
            "Epoch 3/100\n",
            "413/413 [==============================] - 0s 1ms/step - loss: 0.2256 - accuracy: 0.9201 - val_loss: 0.5883 - val_accuracy: 0.7966\n",
            "Epoch 4/100\n",
            "413/413 [==============================] - 0s 1ms/step - loss: 0.1216 - accuracy: 0.9613 - val_loss: 0.6490 - val_accuracy: 0.8305\n",
            "Epoch 5/100\n",
            "413/413 [==============================] - 0s 1ms/step - loss: 0.0982 - accuracy: 0.9661 - val_loss: 0.6434 - val_accuracy: 0.8983\n",
            "Epoch 6/100\n",
            "413/413 [==============================] - 0s 1ms/step - loss: 0.1050 - accuracy: 0.9709 - val_loss: 0.9048 - val_accuracy: 0.8475\n"
          ],
          "name": "stdout"
        }
      ]
    },
    {
      "cell_type": "code",
      "metadata": {
        "id": "-GvsuoqY0NZL",
        "colab_type": "code",
        "colab": {
          "base_uri": "https://localhost:8080/",
          "height": 34
        },
        "outputId": "b5cc204c-70c3-4079-9c47-13814876ca6d"
      },
      "source": [
        "zero_acc = 0\n",
        "one_acc = 0\n",
        "\n",
        "for i in accuracies:\n",
        "  zero_acc+= i[0]\n",
        "  one_acc+=i[1]\n",
        "\n",
        "zero_acc/=8\n",
        "one_acc/=8\n",
        "\n",
        "print(zero_acc, one_acc)"
      ],
      "execution_count": 8,
      "outputs": [
        {
          "output_type": "stream",
          "text": [
            "0.8385057471264368 0.8224137931034483\n"
          ],
          "name": "stdout"
        }
      ]
    },
    {
      "cell_type": "markdown",
      "metadata": {
        "id": "trKQU8cuMHQV",
        "colab_type": "text"
      },
      "source": [
        "Training on whole Training Dataset"
      ]
    },
    {
      "cell_type": "code",
      "metadata": {
        "id": "ppbMkhK2L0ov",
        "colab_type": "code",
        "colab": {
          "base_uri": "https://localhost:8080/",
          "height": 425
        },
        "outputId": "aed364e2-c670-4a6f-c8e1-5a2f94181db0"
      },
      "source": [
        "model = models.Sequential()\n",
        "model.add(layers.Conv2D(64, (2, 2), activation='relu',input_shape=(9, 9, 1920)))\n",
        "model.add(layers.MaxPooling2D((2, 2)))\n",
        "model.add(layers.Conv2D(256, (2, 2), activation='relu'))\n",
        "model.add(layers.MaxPooling2D((2, 2)))\n",
        "model.add(layers.Flatten())\n",
        "model.add(layers.Dense(128, activation='relu'))\n",
        "model.add(layers.Dense(64, activation='relu'))\n",
        "model.add(layers.Dense(1, activation='sigmoid'))\n",
        "model.summary()\n",
        "\n",
        "model.compile(optimizer = optimizers.Adam(lr = 1e-3),loss = 'binary_crossentropy',metrics = ['accuracy'])\n",
        "my_callbacks = [EarlyStopping(monitor = 'val_loss', patience=5, restore_best_weights=True)]\n"
      ],
      "execution_count": 9,
      "outputs": [
        {
          "output_type": "stream",
          "text": [
            "Model: \"sequential_9\"\n",
            "_________________________________________________________________\n",
            "Layer (type)                 Output Shape              Param #   \n",
            "=================================================================\n",
            "conv2d_17 (Conv2D)           (None, 8, 8, 64)          491584    \n",
            "_________________________________________________________________\n",
            "max_pooling2d_17 (MaxPooling (None, 4, 4, 64)          0         \n",
            "_________________________________________________________________\n",
            "conv2d_18 (Conv2D)           (None, 3, 3, 256)         65792     \n",
            "_________________________________________________________________\n",
            "max_pooling2d_18 (MaxPooling (None, 1, 1, 256)         0         \n",
            "_________________________________________________________________\n",
            "flatten_9 (Flatten)          (None, 256)               0         \n",
            "_________________________________________________________________\n",
            "dense_25 (Dense)             (None, 128)               32896     \n",
            "_________________________________________________________________\n",
            "dense_26 (Dense)             (None, 64)                8256      \n",
            "_________________________________________________________________\n",
            "dense_27 (Dense)             (None, 1)                 65        \n",
            "=================================================================\n",
            "Total params: 598,593\n",
            "Trainable params: 598,593\n",
            "Non-trainable params: 0\n",
            "_________________________________________________________________\n"
          ],
          "name": "stdout"
        }
      ]
    },
    {
      "cell_type": "code",
      "metadata": {
        "id": "W42lHqCxbEpa",
        "colab_type": "code",
        "colab": {
          "base_uri": "https://localhost:8080/",
          "height": 34
        },
        "outputId": "b3bbe408-374a-4463-c6ff-f57f539edb28"
      },
      "source": [
        "samples.shape"
      ],
      "execution_count": 12,
      "outputs": [
        {
          "output_type": "execute_result",
          "data": {
            "text/plain": [
              "(472, 9, 9, 1920)"
            ]
          },
          "metadata": {
            "tags": []
          },
          "execution_count": 12
        }
      ]
    },
    {
      "cell_type": "code",
      "metadata": {
        "id": "Xncnp_xvNgcr",
        "colab_type": "code",
        "colab": {}
      },
      "source": [
        "xtest = np.load('gdrive/My Drive/pcb/xtest.npy')\n",
        "ytest = np.load('gdrive/My Drive/pcb/ytest.npy')\n"
      ],
      "execution_count": 10,
      "outputs": []
    },
    {
      "cell_type": "code",
      "metadata": {
        "id": "SDa1CkJ9NgfS",
        "colab_type": "code",
        "colab": {}
      },
      "source": [
        "datagentest = ImageDataGenerator(\n",
        "    featurewise_center = True,\n",
        "    featurewise_std_normalization = True\n",
        ")"
      ],
      "execution_count": 11,
      "outputs": []
    },
    {
      "cell_type": "code",
      "metadata": {
        "id": "uGEL70FTNglr",
        "colab_type": "code",
        "colab": {}
      },
      "source": [
        "datagentest.fit(xtest)"
      ],
      "execution_count": 12,
      "outputs": []
    },
    {
      "cell_type": "code",
      "metadata": {
        "id": "QS7XpHLiNgoa",
        "colab_type": "code",
        "colab": {
          "base_uri": "https://localhost:8080/",
          "height": 34
        },
        "outputId": "a7063fcc-5c30-411b-da35-b2378d444d84"
      },
      "source": [
        "testnos = ytest.shape[0]\n",
        "\n",
        "numittest = NumpyArrayIterator(\n",
        "    xtest, ytest, datagentest, batch_size=testnos, shuffle=False, sample_weight=None,\n",
        "    seed=None, data_format=None, save_to_dir=None, save_prefix='',\n",
        "    save_format='png', subset=None, dtype=None\n",
        ")\n",
        "\n",
        "\n",
        "test_samples = np.zeros(shape=(testnos,9,9,1920))\n",
        "test_labels = np.zeros(shape=(testnos))\n",
        "for samples_batch,labels_batch in numittest:\n",
        "    g = conv_base.predict(samples_batch)\n",
        "    print(g.shape)\n",
        "    test_samples[::] = g\n",
        "    test_labels[:] = labels_batch\n",
        "    break"
      ],
      "execution_count": 13,
      "outputs": [
        {
          "output_type": "stream",
          "text": [
            "(552, 9, 9, 1920)\n"
          ],
          "name": "stdout"
        }
      ]
    },
    {
      "cell_type": "code",
      "metadata": {
        "id": "0f37VOEUNgki",
        "colab_type": "code",
        "colab": {}
      },
      "source": [
        "# test_samples = test_samples.reshape(testnos,9*9*1920)"
      ],
      "execution_count": 17,
      "outputs": []
    },
    {
      "cell_type": "code",
      "metadata": {
        "id": "Ef_xxG8bNgiT",
        "colab_type": "code",
        "colab": {
          "base_uri": "https://localhost:8080/",
          "height": 272
        },
        "outputId": "ab2fe35a-ce0d-47b7-bd07-cc1e7871c3ba"
      },
      "source": [
        "historytest = model.fit(samples, labels, epochs = 100, batch_size = 20, validation_data = (test_samples, test_labels), shuffle = True,  callbacks = my_callbacks)"
      ],
      "execution_count": 14,
      "outputs": [
        {
          "output_type": "stream",
          "text": [
            "Train on 472 samples, validate on 552 samples\n",
            "Epoch 1/100\n",
            "472/472 [==============================] - 1s 3ms/step - loss: 0.5506 - accuracy: 0.6970 - val_loss: 0.4881 - val_accuracy: 0.7572\n",
            "Epoch 2/100\n",
            "472/472 [==============================] - 1s 2ms/step - loss: 0.3017 - accuracy: 0.8708 - val_loss: 0.4435 - val_accuracy: 0.8043\n",
            "Epoch 3/100\n",
            "472/472 [==============================] - 1s 2ms/step - loss: 0.2094 - accuracy: 0.9174 - val_loss: 0.9518 - val_accuracy: 0.6413\n",
            "Epoch 4/100\n",
            "472/472 [==============================] - 1s 2ms/step - loss: 0.1096 - accuracy: 0.9555 - val_loss: 0.6893 - val_accuracy: 0.7699\n",
            "Epoch 5/100\n",
            "472/472 [==============================] - 1s 2ms/step - loss: 0.0689 - accuracy: 0.9767 - val_loss: 0.5338 - val_accuracy: 0.8460\n",
            "Epoch 6/100\n",
            "472/472 [==============================] - 1s 2ms/step - loss: 0.0570 - accuracy: 0.9788 - val_loss: 0.6153 - val_accuracy: 0.8297\n",
            "Epoch 7/100\n",
            "472/472 [==============================] - 1s 2ms/step - loss: 0.0217 - accuracy: 0.9958 - val_loss: 1.0147 - val_accuracy: 0.7699\n"
          ],
          "name": "stdout"
        }
      ]
    },
    {
      "cell_type": "code",
      "metadata": {
        "id": "jgbhA0dtNgaq",
        "colab_type": "code",
        "colab": {}
      },
      "source": [
        "test_preds = model.predict(test_samples, batch_size = 20)"
      ],
      "execution_count": 15,
      "outputs": []
    },
    {
      "cell_type": "code",
      "metadata": {
        "id": "I3oZ2uIBOrsm",
        "colab_type": "code",
        "colab": {}
      },
      "source": [
        "test_predclass = np.array([1.0 if i>0.5 else 0.0 for i in test_preds])"
      ],
      "execution_count": 16,
      "outputs": []
    },
    {
      "cell_type": "code",
      "metadata": {
        "id": "B9pW68K3Orxg",
        "colab_type": "code",
        "colab": {
          "base_uri": "https://localhost:8080/",
          "height": 34
        },
        "outputId": "ff3a4edd-bebb-412d-c60b-cc2b55aa7514"
      },
      "source": [
        "confusion_matrix(test_labels,test_predclass)[0][0]/(ytest == 0.0).sum(), confusion_matrix(test_labels,test_predclass)[1][1]/(ytest == 1.0).sum()"
      ],
      "execution_count": 17,
      "outputs": [
        {
          "output_type": "execute_result",
          "data": {
            "text/plain": [
              "(0.7627118644067796, 0.8093306288032455)"
            ]
          },
          "metadata": {
            "tags": []
          },
          "execution_count": 17
        }
      ]
    },
    {
      "cell_type": "code",
      "metadata": {
        "id": "MxapdKZhOr0Q",
        "colab_type": "code",
        "colab": {}
      },
      "source": [
        "# Saving model\n",
        "\n",
        "# model_json = model.to_json()\n",
        "# with open(\"gdrive/My Drive/models/VGG19_12.json\", \"w\") as json_file:\n",
        "#     json_file.write(model_json)"
      ],
      "execution_count": null,
      "outputs": []
    },
    {
      "cell_type": "code",
      "metadata": {
        "id": "rybw7Ry7Or2f",
        "colab_type": "code",
        "colab": {}
      },
      "source": [
        "# model.save_weights(\"gdrive/My Drive/models/VGG19_12.h5\")\n",
        "# print(\"Saved model to disk\")"
      ],
      "execution_count": null,
      "outputs": []
    },
    {
      "cell_type": "code",
      "metadata": {
        "id": "CumEUxIaOrve",
        "colab_type": "code",
        "colab": {}
      },
      "source": [
        "# Saving and loading models\n",
        "# https://machinelearningmastery.com/save-load-keras-deep-learning-models/"
      ],
      "execution_count": null,
      "outputs": []
    },
    {
      "cell_type": "code",
      "metadata": {
        "id": "xRJWd9bUHWa7",
        "colab_type": "code",
        "colab": {}
      },
      "source": [
        ""
      ],
      "execution_count": null,
      "outputs": []
    },
    {
      "cell_type": "code",
      "metadata": {
        "id": "hcaOhs5bHWfg",
        "colab_type": "code",
        "colab": {
          "base_uri": "https://localhost:8080/",
          "height": 163
        },
        "outputId": "674f23c9-755b-42a5-8450-34eb9f83a091"
      },
      "source": [
        ""
      ],
      "execution_count": null,
      "outputs": [
        {
          "output_type": "error",
          "ename": "TypeError",
          "evalue": "ignored",
          "traceback": [
            "\u001b[0;31m---------------------------------------------------------------------------\u001b[0m",
            "\u001b[0;31mTypeError\u001b[0m                                 Traceback (most recent call last)",
            "\u001b[0;32m<ipython-input-15-010bb633e7c3>\u001b[0m in \u001b[0;36m<module>\u001b[0;34m()\u001b[0m\n\u001b[0;32m----> 1\u001b[0;31m \u001b[0mx\u001b[0m\u001b[0;34m(\u001b[0m\u001b[0ma\u001b[0m\u001b[0;34m)\u001b[0m\u001b[0;34m\u001b[0m\u001b[0;34m\u001b[0m\u001b[0m\n\u001b[0m",
            "\u001b[0;31mTypeError\u001b[0m: 'Tensor' object is not callable"
          ]
        }
      ]
    },
    {
      "cell_type": "code",
      "metadata": {
        "id": "Oech-RU0HWhX",
        "colab_type": "code",
        "colab": {}
      },
      "source": [
        ""
      ],
      "execution_count": null,
      "outputs": []
    }
  ]
}