{
  "nbformat": 4,
  "nbformat_minor": 0,
  "metadata": {
    "accelerator": "GPU",
    "colab": {
      "name": "DenseNet121_pretrained.ipynb",
      "provenance": [],
      "toc_visible": true
    },
    "kernelspec": {
      "display_name": "Python 3",
      "language": "python",
      "name": "python3"
    },
    "language_info": {
      "codemirror_mode": {
        "name": "ipython",
        "version": 3
      },
      "file_extension": ".py",
      "mimetype": "text/x-python",
      "name": "python",
      "nbconvert_exporter": "python",
      "pygments_lexer": "ipython3",
      "version": "3.6.9"
    }
  },
  "cells": [
    {
      "cell_type": "code",
      "metadata": {
        "colab_type": "code",
        "id": "mKdW-45kyBEr",
        "colab": {}
      },
      "source": [
        "import tensorflow as tf\n",
        "import keras \n",
        "from keras.applications import DenseNet121\n",
        "import numpy as np\n",
        "from keras.preprocessing.image import ImageDataGenerator, NumpyArrayIterator\n",
        "from keras.callbacks import EarlyStopping, ModelCheckpoint\n",
        "from sklearn.metrics import confusion_matrix\n",
        "from keras import models, layers, optimizers"
      ],
      "execution_count": 52,
      "outputs": []
    },
    {
      "cell_type": "code",
      "metadata": {
        "colab_type": "code",
        "id": "O_hWsT8RyBE1",
        "colab": {}
      },
      "source": [
        "conv_base = DenseNet121(weights='imagenet', include_top = False, input_shape=(300,300,3))"
      ],
      "execution_count": 53,
      "outputs": []
    },
    {
      "cell_type": "code",
      "metadata": {
        "colab_type": "code",
        "id": "HmJBnMc0yrOl",
        "colab": {}
      },
      "source": [
        "from google.colab import drive\n",
        "drive.mount(\"/content/gdrive/\")"
      ],
      "execution_count": null,
      "outputs": []
    },
    {
      "cell_type": "code",
      "metadata": {
        "colab_type": "code",
        "id": "jZpMhfh0yBFA",
        "colab": {}
      },
      "source": [
        "X = np.load(\"gdrive/My Drive/pcb/xtrain.npy\")\n",
        "y = np.load(\"gdrive/My Drive/pcb/ytrain.npy\")"
      ],
      "execution_count": 54,
      "outputs": []
    },
    {
      "cell_type": "code",
      "metadata": {
        "id": "WBlCl5iJFAIs",
        "colab_type": "code",
        "colab": {
          "base_uri": "https://localhost:8080/",
          "height": 34
        },
        "outputId": "4d496ff5-fe74-4b94-805b-e376c26c46f7"
      },
      "source": [
        "conv_base.predict(X[0].reshape(1,300,300,3)).shape"
      ],
      "execution_count": 55,
      "outputs": [
        {
          "output_type": "execute_result",
          "data": {
            "text/plain": [
              "(1, 9, 9, 1024)"
            ]
          },
          "metadata": {
            "tags": []
          },
          "execution_count": 55
        }
      ]
    },
    {
      "cell_type": "code",
      "metadata": {
        "id": "gLEHNpSCtRDv",
        "colab_type": "code",
        "colab": {}
      },
      "source": [
        "# Training set has 472 samples"
      ],
      "execution_count": null,
      "outputs": []
    },
    {
      "cell_type": "markdown",
      "metadata": {
        "id": "dH2UMi3oLXRj",
        "colab_type": "text"
      },
      "source": [
        "Training with k-fold Validation"
      ]
    },
    {
      "cell_type": "code",
      "metadata": {
        "id": "ylYElFUN0NfI",
        "colab_type": "code",
        "colab": {
          "base_uri": "https://localhost:8080/",
          "height": 34
        },
        "outputId": "af66d750-e58d-436f-c2c5-9d8ecfea496c"
      },
      "source": [
        "X.shape, (y == 0).sum(), (y == 1).sum()"
      ],
      "execution_count": 56,
      "outputs": [
        {
          "output_type": "execute_result",
          "data": {
            "text/plain": [
              "((472, 300, 300, 3), 236, 236)"
            ]
          },
          "metadata": {
            "tags": []
          },
          "execution_count": 56
        }
      ]
    },
    {
      "cell_type": "code",
      "metadata": {
        "id": "BeQXJVZL4h7v",
        "colab_type": "code",
        "colab": {}
      },
      "source": [
        "datagen = ImageDataGenerator(\n",
        "    featurewise_center = True,\n",
        "    featurewise_std_normalization = True\n",
        ")\n",
        "\n",
        "datagen.fit(X)"
      ],
      "execution_count": 57,
      "outputs": []
    },
    {
      "cell_type": "code",
      "metadata": {
        "id": "dNpL_TEj5BNb",
        "colab_type": "code",
        "colab": {
          "base_uri": "https://localhost:8080/",
          "height": 153
        },
        "outputId": "38fa788d-9cd6-496c-86c5-7bdd5ccbb71b"
      },
      "source": [
        "nos = X.shape[0]\n",
        "bs = int(nos/8)\n",
        "\n",
        "numit = NumpyArrayIterator(\n",
        "    X, y, datagen, batch_size=bs, shuffle=False, sample_weight=None,\n",
        "    seed=None, data_format=None, save_to_dir=None, save_prefix='',\n",
        "    save_format='png', subset=None, dtype=None\n",
        ")\n",
        "\n",
        "samples = np.zeros(shape=(nos,9,9,1024))\n",
        "labels = np.zeros(shape=(nos))\n",
        "i = 0\n",
        "for samples_batch,labels_batch in numit:\n",
        "    f = conv_base.predict(samples_batch)\n",
        "    print(f.shape)\n",
        "    samples[i*bs:(i+1)*bs] = f\n",
        "    labels[i*bs:(i+1)*bs] = labels_batch\n",
        "    i+=1\n",
        "    if (i*bs)>=nos:\n",
        "        break"
      ],
      "execution_count": 58,
      "outputs": [
        {
          "output_type": "stream",
          "text": [
            "(59, 9, 9, 1024)\n",
            "(59, 9, 9, 1024)\n",
            "(59, 9, 9, 1024)\n",
            "(59, 9, 9, 1024)\n",
            "(59, 9, 9, 1024)\n",
            "(59, 9, 9, 1024)\n",
            "(59, 9, 9, 1024)\n",
            "(59, 9, 9, 1024)\n"
          ],
          "name": "stdout"
        }
      ]
    },
    {
      "cell_type": "code",
      "metadata": {
        "id": "l3RCnShl5iGN",
        "colab_type": "code",
        "colab": {}
      },
      "source": [
        "samples = samples.reshape(nos,9*9*1024)"
      ],
      "execution_count": 59,
      "outputs": []
    },
    {
      "cell_type": "code",
      "metadata": {
        "id": "hoBAWa2K5pXb",
        "colab_type": "code",
        "colab": {
          "base_uri": "https://localhost:8080/",
          "height": 34
        },
        "outputId": "4c4db576-295e-4662-cf52-41aa2c9eff0a"
      },
      "source": [
        "samples.shape, labels.shape"
      ],
      "execution_count": 60,
      "outputs": [
        {
          "output_type": "execute_result",
          "data": {
            "text/plain": [
              "((472, 82944), (472,))"
            ]
          },
          "metadata": {
            "tags": []
          },
          "execution_count": 60
        }
      ]
    },
    {
      "cell_type": "code",
      "metadata": {
        "id": "xYLS9aZr_Wbb",
        "colab_type": "code",
        "colab": {}
      },
      "source": [
        "# To save memory\n",
        "del X\n",
        "del y"
      ],
      "execution_count": 61,
      "outputs": []
    },
    {
      "cell_type": "code",
      "metadata": {
        "id": "nSNmJgXP0Ndx",
        "colab_type": "code",
        "colab": {
          "base_uri": "https://localhost:8080/",
          "height": 1000
        },
        "outputId": "623b7622-4db6-40ba-de7b-f18b035a5c92"
      },
      "source": [
        "from sklearn.model_selection import StratifiedKFold\n",
        "skf = StratifiedKFold(n_splits=8)\n",
        "\n",
        "accuracies = []\n",
        "f = 1\n",
        "\n",
        "for train_index, test_index in skf.split(samples, labels):\n",
        "        X_train = samples[train_index]\n",
        "        X_test = samples[test_index]\n",
        "        y_train = labels[train_index]\n",
        "        y_test = labels[test_index]\n",
        "      \n",
        "        model = models.Sequential()\n",
        "        model.add(layers.Dense(256, activation = 'relu', input_dim = 9*9*1024))\n",
        "        model.add(layers.Dropout(0.5))\n",
        "        model.add(layers.Dense(1, activation = 'sigmoid'))\n",
        "        model.compile(optimizer = optimizers.Adam(lr = 1e-3),loss = 'binary_crossentropy',metrics = ['accuracy'])\n",
        "        my_callbacks = [EarlyStopping(monitor = 'val_loss', patience=5, restore_best_weights=True)]\n",
        "\n",
        "        print('Fold {}'.format(f))\n",
        "        history = model.fit(X_train, y_train, epochs = 100, batch_size = 20, validation_data = (X_test, y_test), shuffle = True, callbacks = my_callbacks)\n",
        "\n",
        "        test_preds = model.predict(X_test, batch_size = 20)\n",
        "        test_predclass = np.array([1.0 if i>0.5 else 0.0 for i in test_preds])\n",
        "\n",
        "        accuracies.append([confusion_matrix(y_test,test_predclass)[0][0]/(y_test == 0.0).sum(), confusion_matrix(y_test,test_predclass)[1][1]/(y_test == 1.0).sum()])\n",
        "        f+=1\n"
      ],
      "execution_count": 62,
      "outputs": [
        {
          "output_type": "stream",
          "text": [
            "Fold 1\n",
            "Train on 413 samples, validate on 59 samples\n",
            "Epoch 1/100\n",
            "413/413 [==============================] - 1s 2ms/step - loss: 9.7697 - accuracy: 0.6538 - val_loss: 4.2008 - val_accuracy: 0.7288\n",
            "Epoch 2/100\n",
            "413/413 [==============================] - 1s 2ms/step - loss: 7.2352 - accuracy: 0.7506 - val_loss: 4.0315 - val_accuracy: 0.7119\n",
            "Epoch 3/100\n",
            "413/413 [==============================] - 1s 2ms/step - loss: 1.6911 - accuracy: 0.8354 - val_loss: 1.1781 - val_accuracy: 0.8136\n",
            "Epoch 4/100\n",
            "413/413 [==============================] - 1s 2ms/step - loss: 0.5200 - accuracy: 0.8862 - val_loss: 1.1064 - val_accuracy: 0.7627\n",
            "Epoch 5/100\n",
            "413/413 [==============================] - 1s 2ms/step - loss: 0.4021 - accuracy: 0.9153 - val_loss: 1.2307 - val_accuracy: 0.7458\n",
            "Epoch 6/100\n",
            "413/413 [==============================] - 1s 2ms/step - loss: 0.2956 - accuracy: 0.9346 - val_loss: 0.7325 - val_accuracy: 0.7288\n",
            "Epoch 7/100\n",
            "413/413 [==============================] - 1s 2ms/step - loss: 0.1866 - accuracy: 0.9492 - val_loss: 0.8424 - val_accuracy: 0.7797\n",
            "Epoch 8/100\n",
            "413/413 [==============================] - 1s 2ms/step - loss: 0.1132 - accuracy: 0.9709 - val_loss: 0.7876 - val_accuracy: 0.7288\n",
            "Epoch 9/100\n",
            "413/413 [==============================] - 1s 2ms/step - loss: 0.0980 - accuracy: 0.9588 - val_loss: 0.7309 - val_accuracy: 0.8136\n",
            "Epoch 10/100\n",
            "413/413 [==============================] - 1s 2ms/step - loss: 0.0749 - accuracy: 0.9709 - val_loss: 0.6563 - val_accuracy: 0.8136\n",
            "Epoch 11/100\n",
            "413/413 [==============================] - 1s 2ms/step - loss: 0.1066 - accuracy: 0.9709 - val_loss: 0.8195 - val_accuracy: 0.8305\n",
            "Epoch 12/100\n",
            "413/413 [==============================] - 1s 2ms/step - loss: 0.0773 - accuracy: 0.9758 - val_loss: 0.5928 - val_accuracy: 0.8305\n",
            "Epoch 13/100\n",
            "413/413 [==============================] - 1s 2ms/step - loss: 0.0501 - accuracy: 0.9831 - val_loss: 0.6675 - val_accuracy: 0.8475\n",
            "Epoch 14/100\n",
            "413/413 [==============================] - 1s 2ms/step - loss: 0.0318 - accuracy: 0.9903 - val_loss: 0.7384 - val_accuracy: 0.8136\n",
            "Epoch 15/100\n",
            "413/413 [==============================] - 1s 2ms/step - loss: 0.0486 - accuracy: 0.9855 - val_loss: 0.8195 - val_accuracy: 0.8136\n",
            "Epoch 16/100\n",
            "413/413 [==============================] - 1s 2ms/step - loss: 0.0445 - accuracy: 0.9831 - val_loss: 0.8000 - val_accuracy: 0.7627\n",
            "Epoch 17/100\n",
            "413/413 [==============================] - 1s 2ms/step - loss: 0.0699 - accuracy: 0.9806 - val_loss: 0.7071 - val_accuracy: 0.7966\n",
            "Fold 2\n",
            "Train on 413 samples, validate on 59 samples\n",
            "Epoch 1/100\n",
            "413/413 [==============================] - 1s 2ms/step - loss: 9.8001 - accuracy: 0.6320 - val_loss: 4.6144 - val_accuracy: 0.6610\n",
            "Epoch 2/100\n",
            "413/413 [==============================] - 1s 2ms/step - loss: 2.9500 - accuracy: 0.7893 - val_loss: 2.3178 - val_accuracy: 0.6610\n",
            "Epoch 3/100\n",
            "413/413 [==============================] - 1s 2ms/step - loss: 0.9912 - accuracy: 0.8499 - val_loss: 1.0360 - val_accuracy: 0.6610\n",
            "Epoch 4/100\n",
            "413/413 [==============================] - 1s 2ms/step - loss: 0.4612 - accuracy: 0.8935 - val_loss: 0.9580 - val_accuracy: 0.7288\n",
            "Epoch 5/100\n",
            "413/413 [==============================] - 1s 2ms/step - loss: 0.3502 - accuracy: 0.9128 - val_loss: 0.7006 - val_accuracy: 0.7458\n",
            "Epoch 6/100\n",
            "413/413 [==============================] - 1s 2ms/step - loss: 0.1215 - accuracy: 0.9540 - val_loss: 0.6743 - val_accuracy: 0.7627\n",
            "Epoch 7/100\n",
            "413/413 [==============================] - 1s 2ms/step - loss: 0.1064 - accuracy: 0.9516 - val_loss: 0.8466 - val_accuracy: 0.6780\n",
            "Epoch 8/100\n",
            "413/413 [==============================] - 1s 2ms/step - loss: 0.1395 - accuracy: 0.9709 - val_loss: 0.8251 - val_accuracy: 0.7288\n",
            "Epoch 9/100\n",
            "413/413 [==============================] - 1s 2ms/step - loss: 0.0957 - accuracy: 0.9588 - val_loss: 0.7819 - val_accuracy: 0.7797\n",
            "Epoch 10/100\n",
            "413/413 [==============================] - 1s 2ms/step - loss: 0.0755 - accuracy: 0.9758 - val_loss: 0.8902 - val_accuracy: 0.7458\n",
            "Epoch 11/100\n",
            "413/413 [==============================] - 1s 2ms/step - loss: 0.1258 - accuracy: 0.9661 - val_loss: 0.7554 - val_accuracy: 0.7966\n",
            "Fold 3\n",
            "Train on 413 samples, validate on 59 samples\n",
            "Epoch 1/100\n",
            "413/413 [==============================] - 1s 2ms/step - loss: 11.1201 - accuracy: 0.6416 - val_loss: 5.2819 - val_accuracy: 0.7458\n",
            "Epoch 2/100\n",
            "413/413 [==============================] - 1s 2ms/step - loss: 2.3410 - accuracy: 0.8111 - val_loss: 1.8831 - val_accuracy: 0.7797\n",
            "Epoch 3/100\n",
            "413/413 [==============================] - 1s 2ms/step - loss: 0.9706 - accuracy: 0.8354 - val_loss: 1.5660 - val_accuracy: 0.7797\n",
            "Epoch 4/100\n",
            "413/413 [==============================] - 1s 2ms/step - loss: 0.6156 - accuracy: 0.8814 - val_loss: 0.8698 - val_accuracy: 0.7966\n",
            "Epoch 5/100\n",
            "413/413 [==============================] - 1s 2ms/step - loss: 0.2594 - accuracy: 0.9274 - val_loss: 0.6572 - val_accuracy: 0.8136\n",
            "Epoch 6/100\n",
            "413/413 [==============================] - 1s 2ms/step - loss: 0.1405 - accuracy: 0.9540 - val_loss: 0.4521 - val_accuracy: 0.8136\n",
            "Epoch 7/100\n",
            "413/413 [==============================] - 1s 2ms/step - loss: 0.1309 - accuracy: 0.9661 - val_loss: 0.4879 - val_accuracy: 0.8136\n",
            "Epoch 8/100\n",
            "413/413 [==============================] - 1s 2ms/step - loss: 0.1171 - accuracy: 0.9564 - val_loss: 0.5621 - val_accuracy: 0.8475\n",
            "Epoch 9/100\n",
            "413/413 [==============================] - 1s 2ms/step - loss: 0.0732 - accuracy: 0.9734 - val_loss: 0.6061 - val_accuracy: 0.8305\n",
            "Epoch 10/100\n",
            "413/413 [==============================] - 1s 2ms/step - loss: 0.0851 - accuracy: 0.9661 - val_loss: 0.6280 - val_accuracy: 0.8136\n",
            "Epoch 11/100\n",
            "413/413 [==============================] - 1s 2ms/step - loss: 0.0700 - accuracy: 0.9782 - val_loss: 0.5625 - val_accuracy: 0.8475\n",
            "Fold 4\n",
            "Train on 413 samples, validate on 59 samples\n",
            "Epoch 1/100\n",
            "413/413 [==============================] - 1s 2ms/step - loss: 11.1522 - accuracy: 0.6005 - val_loss: 3.7188 - val_accuracy: 0.6949\n",
            "Epoch 2/100\n",
            "413/413 [==============================] - 1s 2ms/step - loss: 3.7016 - accuracy: 0.8184 - val_loss: 5.0481 - val_accuracy: 0.7119\n",
            "Epoch 3/100\n",
            "413/413 [==============================] - 1s 2ms/step - loss: 1.6738 - accuracy: 0.8547 - val_loss: 1.6352 - val_accuracy: 0.8136\n",
            "Epoch 4/100\n",
            "413/413 [==============================] - 1s 2ms/step - loss: 0.7092 - accuracy: 0.9080 - val_loss: 2.7954 - val_accuracy: 0.7458\n",
            "Epoch 5/100\n",
            "413/413 [==============================] - 1s 2ms/step - loss: 0.4989 - accuracy: 0.9104 - val_loss: 1.4240 - val_accuracy: 0.7797\n",
            "Epoch 6/100\n",
            "413/413 [==============================] - 1s 2ms/step - loss: 0.2601 - accuracy: 0.9395 - val_loss: 1.6269 - val_accuracy: 0.7288\n",
            "Epoch 7/100\n",
            "413/413 [==============================] - 1s 2ms/step - loss: 0.2304 - accuracy: 0.9516 - val_loss: 1.1207 - val_accuracy: 0.7627\n",
            "Epoch 8/100\n",
            "413/413 [==============================] - 1s 2ms/step - loss: 0.2774 - accuracy: 0.9419 - val_loss: 1.1217 - val_accuracy: 0.7797\n",
            "Epoch 9/100\n",
            "413/413 [==============================] - 1s 2ms/step - loss: 0.2404 - accuracy: 0.9492 - val_loss: 1.3445 - val_accuracy: 0.7288\n",
            "Epoch 10/100\n",
            "413/413 [==============================] - 1s 2ms/step - loss: 0.0757 - accuracy: 0.9758 - val_loss: 1.2817 - val_accuracy: 0.7458\n",
            "Epoch 11/100\n",
            "413/413 [==============================] - 1s 2ms/step - loss: 0.0545 - accuracy: 0.9758 - val_loss: 1.0418 - val_accuracy: 0.7627\n",
            "Epoch 12/100\n",
            "413/413 [==============================] - 1s 2ms/step - loss: 0.0639 - accuracy: 0.9806 - val_loss: 0.8500 - val_accuracy: 0.7966\n",
            "Epoch 13/100\n",
            "413/413 [==============================] - 1s 2ms/step - loss: 0.0986 - accuracy: 0.9758 - val_loss: 1.2697 - val_accuracy: 0.7627\n",
            "Epoch 14/100\n",
            "413/413 [==============================] - 1s 2ms/step - loss: 0.0983 - accuracy: 0.9734 - val_loss: 1.0235 - val_accuracy: 0.7797\n",
            "Epoch 15/100\n",
            "413/413 [==============================] - 1s 2ms/step - loss: 0.0621 - accuracy: 0.9831 - val_loss: 1.2974 - val_accuracy: 0.7627\n",
            "Epoch 16/100\n",
            "413/413 [==============================] - 1s 2ms/step - loss: 0.0369 - accuracy: 0.9879 - val_loss: 1.2720 - val_accuracy: 0.7627\n",
            "Epoch 17/100\n",
            "413/413 [==============================] - 1s 2ms/step - loss: 0.0824 - accuracy: 0.9661 - val_loss: 1.0392 - val_accuracy: 0.7627\n",
            "Fold 5\n",
            "Train on 413 samples, validate on 59 samples\n",
            "Epoch 1/100\n",
            "413/413 [==============================] - 1s 2ms/step - loss: 9.6174 - accuracy: 0.6199 - val_loss: 5.2720 - val_accuracy: 0.5763\n",
            "Epoch 2/100\n",
            "413/413 [==============================] - 1s 2ms/step - loss: 2.4068 - accuracy: 0.7143 - val_loss: 0.6585 - val_accuracy: 0.6780\n",
            "Epoch 3/100\n",
            "413/413 [==============================] - 1s 2ms/step - loss: 0.4004 - accuracy: 0.8547 - val_loss: 0.5092 - val_accuracy: 0.7627\n",
            "Epoch 4/100\n",
            "413/413 [==============================] - 1s 2ms/step - loss: 0.2628 - accuracy: 0.8814 - val_loss: 0.4207 - val_accuracy: 0.7458\n",
            "Epoch 5/100\n",
            "413/413 [==============================] - 1s 2ms/step - loss: 0.1818 - accuracy: 0.9370 - val_loss: 0.4196 - val_accuracy: 0.7966\n",
            "Epoch 6/100\n",
            "413/413 [==============================] - 1s 2ms/step - loss: 0.1734 - accuracy: 0.9322 - val_loss: 0.4401 - val_accuracy: 0.7966\n",
            "Epoch 7/100\n",
            "413/413 [==============================] - 1s 2ms/step - loss: 0.1531 - accuracy: 0.9346 - val_loss: 0.4236 - val_accuracy: 0.8305\n",
            "Epoch 8/100\n",
            "413/413 [==============================] - 1s 2ms/step - loss: 0.1673 - accuracy: 0.9419 - val_loss: 0.4271 - val_accuracy: 0.7797\n",
            "Epoch 9/100\n",
            "413/413 [==============================] - 1s 2ms/step - loss: 0.0893 - accuracy: 0.9709 - val_loss: 0.5703 - val_accuracy: 0.7458\n",
            "Epoch 10/100\n",
            "413/413 [==============================] - 1s 2ms/step - loss: 0.1014 - accuracy: 0.9613 - val_loss: 0.4455 - val_accuracy: 0.8475\n",
            "Fold 6\n",
            "Train on 413 samples, validate on 59 samples\n",
            "Epoch 1/100\n",
            "413/413 [==============================] - 1s 2ms/step - loss: 7.0116 - accuracy: 0.6538 - val_loss: 4.1831 - val_accuracy: 0.6271\n",
            "Epoch 2/100\n",
            "413/413 [==============================] - 1s 2ms/step - loss: 2.0655 - accuracy: 0.8136 - val_loss: 1.5866 - val_accuracy: 0.8136\n",
            "Epoch 3/100\n",
            "413/413 [==============================] - 1s 2ms/step - loss: 0.6263 - accuracy: 0.8814 - val_loss: 1.3550 - val_accuracy: 0.7627\n",
            "Epoch 4/100\n",
            "413/413 [==============================] - 1s 2ms/step - loss: 0.2974 - accuracy: 0.9128 - val_loss: 1.0723 - val_accuracy: 0.7458\n",
            "Epoch 5/100\n",
            "413/413 [==============================] - 1s 2ms/step - loss: 0.2286 - accuracy: 0.9225 - val_loss: 1.0221 - val_accuracy: 0.7966\n",
            "Epoch 6/100\n",
            "413/413 [==============================] - 1s 2ms/step - loss: 0.1471 - accuracy: 0.9467 - val_loss: 0.9486 - val_accuracy: 0.7627\n",
            "Epoch 7/100\n",
            "413/413 [==============================] - 1s 2ms/step - loss: 0.0981 - accuracy: 0.9637 - val_loss: 1.1930 - val_accuracy: 0.7119\n",
            "Epoch 8/100\n",
            "413/413 [==============================] - 1s 2ms/step - loss: 0.1011 - accuracy: 0.9588 - val_loss: 1.7035 - val_accuracy: 0.7627\n",
            "Epoch 9/100\n",
            "413/413 [==============================] - 1s 2ms/step - loss: 0.1429 - accuracy: 0.9613 - val_loss: 0.9244 - val_accuracy: 0.7797\n",
            "Epoch 10/100\n",
            "413/413 [==============================] - 1s 2ms/step - loss: 0.0745 - accuracy: 0.9758 - val_loss: 1.5458 - val_accuracy: 0.7119\n",
            "Epoch 11/100\n",
            "413/413 [==============================] - 1s 2ms/step - loss: 0.0632 - accuracy: 0.9806 - val_loss: 0.8639 - val_accuracy: 0.8136\n",
            "Epoch 12/100\n",
            "413/413 [==============================] - 1s 2ms/step - loss: 0.1346 - accuracy: 0.9564 - val_loss: 1.3244 - val_accuracy: 0.7288\n",
            "Epoch 13/100\n",
            "413/413 [==============================] - 1s 2ms/step - loss: 0.0596 - accuracy: 0.9782 - val_loss: 1.2029 - val_accuracy: 0.7458\n",
            "Epoch 14/100\n",
            "413/413 [==============================] - 1s 2ms/step - loss: 0.0927 - accuracy: 0.9709 - val_loss: 0.9831 - val_accuracy: 0.7797\n",
            "Epoch 15/100\n",
            "413/413 [==============================] - 1s 2ms/step - loss: 0.0593 - accuracy: 0.9758 - val_loss: 1.0470 - val_accuracy: 0.7966\n",
            "Epoch 16/100\n",
            "413/413 [==============================] - 1s 2ms/step - loss: 0.0535 - accuracy: 0.9685 - val_loss: 1.1497 - val_accuracy: 0.7966\n",
            "Fold 7\n",
            "Train on 413 samples, validate on 59 samples\n",
            "Epoch 1/100\n",
            "413/413 [==============================] - 1s 2ms/step - loss: 9.7160 - accuracy: 0.6320 - val_loss: 2.6496 - val_accuracy: 0.7458\n",
            "Epoch 2/100\n",
            "413/413 [==============================] - 1s 2ms/step - loss: 3.1701 - accuracy: 0.7676 - val_loss: 1.0598 - val_accuracy: 0.8305\n",
            "Epoch 3/100\n",
            "413/413 [==============================] - 1s 2ms/step - loss: 1.0628 - accuracy: 0.8741 - val_loss: 1.0315 - val_accuracy: 0.7288\n",
            "Epoch 4/100\n",
            "413/413 [==============================] - 1s 2ms/step - loss: 0.3227 - accuracy: 0.9031 - val_loss: 0.4318 - val_accuracy: 0.8136\n",
            "Epoch 5/100\n",
            "413/413 [==============================] - 1s 2ms/step - loss: 0.2061 - accuracy: 0.9225 - val_loss: 0.4169 - val_accuracy: 0.7797\n",
            "Epoch 6/100\n",
            "413/413 [==============================] - 1s 2ms/step - loss: 0.1304 - accuracy: 0.9516 - val_loss: 0.4480 - val_accuracy: 0.7966\n",
            "Epoch 7/100\n",
            "413/413 [==============================] - 1s 2ms/step - loss: 0.1373 - accuracy: 0.9467 - val_loss: 0.5518 - val_accuracy: 0.7966\n",
            "Epoch 8/100\n",
            "413/413 [==============================] - 1s 2ms/step - loss: 0.1261 - accuracy: 0.9540 - val_loss: 0.4449 - val_accuracy: 0.8136\n",
            "Epoch 9/100\n",
            "413/413 [==============================] - 1s 2ms/step - loss: 0.0979 - accuracy: 0.9758 - val_loss: 0.4330 - val_accuracy: 0.8475\n",
            "Epoch 10/100\n",
            "413/413 [==============================] - 1s 2ms/step - loss: 0.0966 - accuracy: 0.9709 - val_loss: 0.5475 - val_accuracy: 0.7966\n",
            "Fold 8\n",
            "Train on 413 samples, validate on 59 samples\n",
            "Epoch 1/100\n",
            "413/413 [==============================] - 1s 2ms/step - loss: 7.7626 - accuracy: 0.6344 - val_loss: 2.8366 - val_accuracy: 0.8475\n",
            "Epoch 2/100\n",
            "413/413 [==============================] - 1s 2ms/step - loss: 2.0980 - accuracy: 0.7700 - val_loss: 0.6241 - val_accuracy: 0.7627\n",
            "Epoch 3/100\n",
            "413/413 [==============================] - 1s 2ms/step - loss: 0.5419 - accuracy: 0.8136 - val_loss: 0.4272 - val_accuracy: 0.7627\n",
            "Epoch 4/100\n",
            "413/413 [==============================] - 1s 2ms/step - loss: 0.3032 - accuracy: 0.8523 - val_loss: 0.4328 - val_accuracy: 0.7797\n",
            "Epoch 5/100\n",
            "413/413 [==============================] - 1s 2ms/step - loss: 0.2179 - accuracy: 0.9056 - val_loss: 0.4484 - val_accuracy: 0.8305\n",
            "Epoch 6/100\n",
            "413/413 [==============================] - 1s 2ms/step - loss: 0.1502 - accuracy: 0.9370 - val_loss: 0.4811 - val_accuracy: 0.8305\n",
            "Epoch 7/100\n",
            "413/413 [==============================] - 1s 2ms/step - loss: 0.1213 - accuracy: 0.9516 - val_loss: 0.5163 - val_accuracy: 0.8475\n",
            "Epoch 8/100\n",
            "413/413 [==============================] - 1s 2ms/step - loss: 0.1430 - accuracy: 0.9443 - val_loss: 0.5890 - val_accuracy: 0.8644\n"
          ],
          "name": "stdout"
        }
      ]
    },
    {
      "cell_type": "code",
      "metadata": {
        "id": "-GvsuoqY0NZL",
        "colab_type": "code",
        "colab": {
          "base_uri": "https://localhost:8080/",
          "height": 34
        },
        "outputId": "86cd6f19-44e1-460f-e63a-d644e0949672"
      },
      "source": [
        "zero_acc = 0\n",
        "one_acc = 0\n",
        "\n",
        "for i in accuracies:\n",
        "  zero_acc+= i[0]\n",
        "  one_acc+=i[1]\n",
        "\n",
        "zero_acc/=8\n",
        "one_acc/=8\n",
        "\n",
        "print(zero_acc, one_acc)"
      ],
      "execution_count": 63,
      "outputs": [
        {
          "output_type": "stream",
          "text": [
            "0.8441091954022989 0.7468390804597701\n"
          ],
          "name": "stdout"
        }
      ]
    },
    {
      "cell_type": "markdown",
      "metadata": {
        "id": "trKQU8cuMHQV",
        "colab_type": "text"
      },
      "source": [
        "Training on whole Training Dataset"
      ]
    },
    {
      "cell_type": "code",
      "metadata": {
        "id": "ppbMkhK2L0ov",
        "colab_type": "code",
        "colab": {}
      },
      "source": [
        "model = models.Sequential()\n",
        "model.add(layers.Dense(256, activation = 'relu', input_dim = 9*9*1024))\n",
        "model.add(layers.Dropout(0.5))\n",
        "model.add(layers.Dense(1, activation = 'sigmoid'))\n",
        "model.compile(optimizer = optimizers.Adam(lr = 1e-3),loss = 'binary_crossentropy',metrics = ['accuracy'])\n",
        "my_callbacks = [EarlyStopping(monitor = 'val_loss', patience=5, restore_best_weights=True)]\n"
      ],
      "execution_count": 67,
      "outputs": []
    },
    {
      "cell_type": "code",
      "metadata": {
        "id": "Xncnp_xvNgcr",
        "colab_type": "code",
        "colab": {}
      },
      "source": [
        "xtest = np.load('gdrive/My Drive/pcb/xtest.npy')\n",
        "ytest = np.load('gdrive/My Drive/pcb/ytest.npy')\n"
      ],
      "execution_count": 68,
      "outputs": []
    },
    {
      "cell_type": "code",
      "metadata": {
        "id": "SDa1CkJ9NgfS",
        "colab_type": "code",
        "colab": {}
      },
      "source": [
        "datagentest = ImageDataGenerator(\n",
        "    featurewise_center = True,\n",
        "    featurewise_std_normalization = True\n",
        ")"
      ],
      "execution_count": 69,
      "outputs": []
    },
    {
      "cell_type": "code",
      "metadata": {
        "id": "uGEL70FTNglr",
        "colab_type": "code",
        "colab": {}
      },
      "source": [
        "datagentest.fit(xtest)"
      ],
      "execution_count": 70,
      "outputs": []
    },
    {
      "cell_type": "code",
      "metadata": {
        "id": "QS7XpHLiNgoa",
        "colab_type": "code",
        "colab": {
          "base_uri": "https://localhost:8080/",
          "height": 34
        },
        "outputId": "379259af-bb64-46eb-d479-aafc37f2c657"
      },
      "source": [
        "testnos = ytest.shape[0]\n",
        "\n",
        "numittest = NumpyArrayIterator(\n",
        "    xtest, ytest, datagentest, batch_size=testnos, shuffle=False, sample_weight=None,\n",
        "    seed=None, data_format=None, save_to_dir=None, save_prefix='',\n",
        "    save_format='png', subset=None, dtype=None\n",
        ")\n",
        "\n",
        "\n",
        "test_samples = np.zeros(shape=(testnos,9,9,1024))\n",
        "test_labels = np.zeros(shape=(testnos))\n",
        "for samples_batch,labels_batch in numittest:\n",
        "    g = conv_base.predict(samples_batch)\n",
        "    print(g.shape)\n",
        "    test_samples[::] = g\n",
        "    test_labels[:] = labels_batch\n",
        "    break"
      ],
      "execution_count": 71,
      "outputs": [
        {
          "output_type": "stream",
          "text": [
            "(552, 9, 9, 1024)\n"
          ],
          "name": "stdout"
        }
      ]
    },
    {
      "cell_type": "code",
      "metadata": {
        "id": "0f37VOEUNgki",
        "colab_type": "code",
        "colab": {}
      },
      "source": [
        "test_samples = test_samples.reshape(testnos,9*9*1024)"
      ],
      "execution_count": 72,
      "outputs": []
    },
    {
      "cell_type": "code",
      "metadata": {
        "id": "Ef_xxG8bNgiT",
        "colab_type": "code",
        "colab": {
          "base_uri": "https://localhost:8080/",
          "height": 374
        },
        "outputId": "cdc45229-4a92-4a9d-87fa-408cef851bb9"
      },
      "source": [
        "historytest = model.fit(samples, labels, epochs = 100, batch_size = 20, validation_data = (test_samples, test_labels), shuffle = True,  callbacks = my_callbacks)"
      ],
      "execution_count": 73,
      "outputs": [
        {
          "output_type": "stream",
          "text": [
            "Train on 472 samples, validate on 552 samples\n",
            "Epoch 1/100\n",
            "472/472 [==============================] - 1s 3ms/step - loss: 11.1310 - accuracy: 0.6314 - val_loss: 9.0883 - val_accuracy: 0.5761\n",
            "Epoch 2/100\n",
            "472/472 [==============================] - 1s 2ms/step - loss: 3.4271 - accuracy: 0.8072 - val_loss: 5.3799 - val_accuracy: 0.5127\n",
            "Epoch 3/100\n",
            "472/472 [==============================] - 1s 2ms/step - loss: 0.8648 - accuracy: 0.8559 - val_loss: 1.2761 - val_accuracy: 0.7989\n",
            "Epoch 4/100\n",
            "472/472 [==============================] - 1s 2ms/step - loss: 0.3308 - accuracy: 0.9004 - val_loss: 0.9744 - val_accuracy: 0.8116\n",
            "Epoch 5/100\n",
            "472/472 [==============================] - 1s 3ms/step - loss: 0.1535 - accuracy: 0.9492 - val_loss: 0.7227 - val_accuracy: 0.8188\n",
            "Epoch 6/100\n",
            "472/472 [==============================] - 1s 2ms/step - loss: 0.1998 - accuracy: 0.9407 - val_loss: 0.8313 - val_accuracy: 0.8116\n",
            "Epoch 7/100\n",
            "472/472 [==============================] - 1s 2ms/step - loss: 0.1547 - accuracy: 0.9513 - val_loss: 0.9824 - val_accuracy: 0.7663\n",
            "Epoch 8/100\n",
            "472/472 [==============================] - 1s 2ms/step - loss: 0.1571 - accuracy: 0.9428 - val_loss: 1.1477 - val_accuracy: 0.7373\n",
            "Epoch 9/100\n",
            "472/472 [==============================] - 1s 2ms/step - loss: 0.1340 - accuracy: 0.9597 - val_loss: 0.8251 - val_accuracy: 0.7899\n",
            "Epoch 10/100\n",
            "472/472 [==============================] - 1s 2ms/step - loss: 0.0877 - accuracy: 0.9725 - val_loss: 0.9604 - val_accuracy: 0.7808\n"
          ],
          "name": "stdout"
        }
      ]
    },
    {
      "cell_type": "code",
      "metadata": {
        "id": "jgbhA0dtNgaq",
        "colab_type": "code",
        "colab": {}
      },
      "source": [
        "test_preds = model.predict(test_samples, batch_size = 20)"
      ],
      "execution_count": 74,
      "outputs": []
    },
    {
      "cell_type": "code",
      "metadata": {
        "id": "I3oZ2uIBOrsm",
        "colab_type": "code",
        "colab": {}
      },
      "source": [
        "test_predclass = np.array([1.0 if i>0.5 else 0.0 for i in test_preds])"
      ],
      "execution_count": 75,
      "outputs": []
    },
    {
      "cell_type": "code",
      "metadata": {
        "id": "B9pW68K3Orxg",
        "colab_type": "code",
        "colab": {
          "base_uri": "https://localhost:8080/",
          "height": 34
        },
        "outputId": "393f1fcd-d04e-4eab-d49d-0ab9d99d85ce"
      },
      "source": [
        "confusion_matrix(test_labels,test_predclass)[0][0]/(ytest == 0.0).sum(), confusion_matrix(test_labels,test_predclass)[1][1]/(ytest == 1.0).sum()"
      ],
      "execution_count": 76,
      "outputs": [
        {
          "output_type": "execute_result",
          "data": {
            "text/plain": [
              "(0.6440677966101694, 0.8397565922920892)"
            ]
          },
          "metadata": {
            "tags": []
          },
          "execution_count": 76
        }
      ]
    },
    {
      "cell_type": "code",
      "metadata": {
        "id": "MxapdKZhOr0Q",
        "colab_type": "code",
        "colab": {}
      },
      "source": [
        "# Saving model\n",
        "\n",
        "# model_json = model.to_json()\n",
        "# with open(\"gdrive/My Drive/models/VGG19_12.json\", \"w\") as json_file:\n",
        "#     json_file.write(model_json)"
      ],
      "execution_count": null,
      "outputs": []
    },
    {
      "cell_type": "code",
      "metadata": {
        "id": "rybw7Ry7Or2f",
        "colab_type": "code",
        "colab": {}
      },
      "source": [
        "# model.save_weights(\"gdrive/My Drive/models/VGG19_12.h5\")\n",
        "# print(\"Saved model to disk\")"
      ],
      "execution_count": null,
      "outputs": []
    },
    {
      "cell_type": "code",
      "metadata": {
        "id": "CumEUxIaOrve",
        "colab_type": "code",
        "colab": {}
      },
      "source": [
        "# Saving and loading models\n",
        "# https://machinelearningmastery.com/save-load-keras-deep-learning-models/"
      ],
      "execution_count": null,
      "outputs": []
    },
    {
      "cell_type": "code",
      "metadata": {
        "id": "xRJWd9bUHWa7",
        "colab_type": "code",
        "colab": {}
      },
      "source": [
        ""
      ],
      "execution_count": null,
      "outputs": []
    },
    {
      "cell_type": "code",
      "metadata": {
        "id": "hcaOhs5bHWfg",
        "colab_type": "code",
        "colab": {
          "base_uri": "https://localhost:8080/",
          "height": 163
        },
        "outputId": "674f23c9-755b-42a5-8450-34eb9f83a091"
      },
      "source": [
        ""
      ],
      "execution_count": 15,
      "outputs": [
        {
          "output_type": "error",
          "ename": "TypeError",
          "evalue": "ignored",
          "traceback": [
            "\u001b[0;31m---------------------------------------------------------------------------\u001b[0m",
            "\u001b[0;31mTypeError\u001b[0m                                 Traceback (most recent call last)",
            "\u001b[0;32m<ipython-input-15-010bb633e7c3>\u001b[0m in \u001b[0;36m<module>\u001b[0;34m()\u001b[0m\n\u001b[0;32m----> 1\u001b[0;31m \u001b[0mx\u001b[0m\u001b[0;34m(\u001b[0m\u001b[0ma\u001b[0m\u001b[0;34m)\u001b[0m\u001b[0;34m\u001b[0m\u001b[0;34m\u001b[0m\u001b[0m\n\u001b[0m",
            "\u001b[0;31mTypeError\u001b[0m: 'Tensor' object is not callable"
          ]
        }
      ]
    },
    {
      "cell_type": "code",
      "metadata": {
        "id": "Oech-RU0HWhX",
        "colab_type": "code",
        "colab": {}
      },
      "source": [
        ""
      ],
      "execution_count": null,
      "outputs": []
    }
  ]
}