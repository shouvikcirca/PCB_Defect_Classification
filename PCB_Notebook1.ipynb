{
 "cells": [
  {
   "cell_type": "markdown",
   "metadata": {
    "colab_type": "text",
    "id": "view-in-github"
   },
   "source": [
    "<a href=\"https://colab.research.google.com/github/shouvikcirca/PCB_Defect_Detection/blob/master/PCB_Notebook1.ipynb\" target=\"_parent\"><img src=\"https://colab.research.google.com/assets/colab-badge.svg\" alt=\"Open In Colab\"/></a>"
   ]
  },
  {
   "cell_type": "code",
   "execution_count": 1,
   "metadata": {
    "colab": {},
    "colab_type": "code",
    "id": "cKwsXMDNz51J"
   },
   "outputs": [
    {
     "name": "stderr",
     "output_type": "stream",
     "text": [
      "/home/shouvik/Desktop/DeepLearning/dl/lib/python3.6/site-packages/tensorboard/compat/tensorflow_stub/dtypes.py:541: FutureWarning: Passing (type, 1) or '1type' as a synonym of type is deprecated; in a future version of numpy, it will be understood as (type, (1,)) / '(1,)type'.\n",
      "  _np_qint8 = np.dtype([(\"qint8\", np.int8, 1)])\n",
      "/home/shouvik/Desktop/DeepLearning/dl/lib/python3.6/site-packages/tensorboard/compat/tensorflow_stub/dtypes.py:542: FutureWarning: Passing (type, 1) or '1type' as a synonym of type is deprecated; in a future version of numpy, it will be understood as (type, (1,)) / '(1,)type'.\n",
      "  _np_quint8 = np.dtype([(\"quint8\", np.uint8, 1)])\n",
      "/home/shouvik/Desktop/DeepLearning/dl/lib/python3.6/site-packages/tensorboard/compat/tensorflow_stub/dtypes.py:543: FutureWarning: Passing (type, 1) or '1type' as a synonym of type is deprecated; in a future version of numpy, it will be understood as (type, (1,)) / '(1,)type'.\n",
      "  _np_qint16 = np.dtype([(\"qint16\", np.int16, 1)])\n",
      "/home/shouvik/Desktop/DeepLearning/dl/lib/python3.6/site-packages/tensorboard/compat/tensorflow_stub/dtypes.py:544: FutureWarning: Passing (type, 1) or '1type' as a synonym of type is deprecated; in a future version of numpy, it will be understood as (type, (1,)) / '(1,)type'.\n",
      "  _np_quint16 = np.dtype([(\"quint16\", np.uint16, 1)])\n",
      "/home/shouvik/Desktop/DeepLearning/dl/lib/python3.6/site-packages/tensorboard/compat/tensorflow_stub/dtypes.py:545: FutureWarning: Passing (type, 1) or '1type' as a synonym of type is deprecated; in a future version of numpy, it will be understood as (type, (1,)) / '(1,)type'.\n",
      "  _np_qint32 = np.dtype([(\"qint32\", np.int32, 1)])\n",
      "/home/shouvik/Desktop/DeepLearning/dl/lib/python3.6/site-packages/tensorboard/compat/tensorflow_stub/dtypes.py:550: FutureWarning: Passing (type, 1) or '1type' as a synonym of type is deprecated; in a future version of numpy, it will be understood as (type, (1,)) / '(1,)type'.\n",
      "  np_resource = np.dtype([(\"resource\", np.ubyte, 1)])\n"
     ]
    }
   ],
   "source": [
    "import torch\n",
    "from torchvision import models, transforms, utils\n",
    "from torch.utils.data import Dataset, DataLoader\n",
    "from torch.utils.tensorboard import SummaryWriter\n",
    "import torch.nn as nn\n",
    "import torch.nn.functional as F\n",
    "import torch.optim as optim\n",
    "import numpy as np\n",
    "import pickle\n",
    "import matplotlib.pyplot as plt\n",
    "%matplotlib inline\n",
    "import math\n",
    "from sklearn.metrics import confusion_matrix"
   ]
  },
  {
   "cell_type": "code",
   "execution_count": 2,
   "metadata": {
    "colab": {
     "base_uri": "https://localhost:8080/",
     "height": 122
    },
    "colab_type": "code",
    "id": "1oCgMiqsv9EO",
    "outputId": "374c42e2-a598-4cfd-b6c6-ff768a7306f0"
   },
   "outputs": [],
   "source": [
    "# from google.colab import drive\n",
    "# drive.mount('/content/drive/')"
   ]
  },
  {
   "cell_type": "code",
   "execution_count": 40,
   "metadata": {
    "colab": {},
    "colab_type": "code",
    "id": "98TnjR_awrKL"
   },
   "outputs": [],
   "source": [
    "# X = np.load('drive/My Drive/Copy of xtrain.npy')\n",
    "# y = np.load('drive/My Drive/Copy of ytrain.npy')\n",
    "X_train = pickle.load(open(f'X_train298.pkl', 'rb'))\n",
    "y_train = pickle.load(open(f'y_train298.pkl', 'rb'))\n",
    "y_test = pickle.load(open(f'y_test298.pkl', 'rb'))\n",
    "X_test = pickle.load(open(f'X_test298.pkl', 'rb'))"
   ]
  },
  {
   "cell_type": "code",
   "execution_count": 42,
   "metadata": {},
   "outputs": [
    {
     "data": {
      "text/plain": [
       "torch.Size([60, 3, 300, 300])"
      ]
     },
     "execution_count": 42,
     "metadata": {},
     "output_type": "execute_result"
    }
   ],
   "source": [
    "X_test.shape"
   ]
  },
  {
   "cell_type": "code",
   "execution_count": 4,
   "metadata": {
    "colab": {
     "base_uri": "https://localhost:8080/",
     "height": 34
    },
    "colab_type": "code",
    "id": "11JgpUpIMNUK",
    "outputId": "86c40ffb-386c-4b8d-a5b6-82d143cecd39"
   },
   "outputs": [],
   "source": [
    "# X = torch.from_numpy(X)\n",
    "# X = X.permute(0,3,1,2)\n",
    "# y = torch.from_numpy(y)\n",
    "# X.shape, y.shape"
   ]
  },
  {
   "cell_type": "code",
   "execution_count": 5,
   "metadata": {
    "colab": {},
    "colab_type": "code",
    "id": "BmjEitZBrnXR"
   },
   "outputs": [],
   "source": [
    "# pickle.dump(X, open(\"augX.pkl\", 'wb'), protocol=4)\n",
    "# pickle.dump(resized_imageset, open(f'resized_imageset1.pkl', 'wb'))\n",
    "# X = pickle.load(open(f'resized_imageset1.pkl', 'rb'))"
   ]
  },
  {
   "cell_type": "code",
   "execution_count": 6,
   "metadata": {},
   "outputs": [],
   "source": [
    "# X_train = pickle.load(open(f'xtrain298.pkl', 'rb'))\n",
    "# y_train = pickle.load(open(f'ytrain298.pkl', 'rb'))\n",
    "# X_test = pickle.load(open(f'xtest298.pkl', 'rb'))\n",
    "# y_test = pickle.load(open(f'ytest298.pkl', 'rb'))"
   ]
  },
  {
   "cell_type": "code",
   "execution_count": 7,
   "metadata": {
    "colab": {},
    "colab_type": "code",
    "id": "5Fx6FE0BJCIZ"
   },
   "outputs": [],
   "source": [
    "# def splitTrainTest(X,y):\n",
    "#   shuffled_indices = torch.randperm(X.shape[0])\n",
    "#   ul = math.floor(0.8*X.shape[0])\n",
    "#   train_indices = shuffled_indices[:ul]\n",
    "#   test_indices = shuffled_indices[ul:]\n",
    "#   # train_indices.shape[0] + test_indices.shape[0]\n",
    "#   X_train = X[train_indices]\n",
    "#   y_train = y[train_indices]  \n",
    "#   X_test = X[test_indices]\n",
    "#   y_test = y[test_indices]\n",
    "#   print('y_train -> [0]:{} [1]:{}'.format((y_train == 0).sum().item(), (y_train == 1).sum().item()))\n",
    "#   print('y_test -> [0]:{} [1]:{}'.format((y_test == 0).sum().item(), (y_test == 1).sum().item()))\n",
    "#   return X_train, y_train, X_test, y_test"
   ]
  },
  {
   "cell_type": "code",
   "execution_count": 8,
   "metadata": {},
   "outputs": [],
   "source": [
    "# X_train, y_train, X_test, y_test = splitTrainTest(X, y)"
   ]
  },
  {
   "cell_type": "code",
   "execution_count": 9,
   "metadata": {},
   "outputs": [],
   "source": [
    "# pickle.dump(X_train, open(\"X_train298.pkl\", 'wb'), protocol=4)\n",
    "# pickle.dump(X_test, open(\"X_test298.pkl\", 'wb'), protocol=4)\n",
    "# pickle.dump(y_train, open(\"y_train298.pkl\", 'wb'), protocol=4)\n",
    "# pickle.dump(y_test, open(\"y_test298.pkl\", 'wb'), protocol=4)"
   ]
  },
  {
   "cell_type": "markdown",
   "metadata": {
    "colab_type": "text",
    "id": "QZE7xQLCWb_1"
   },
   "source": [
    "Normalizing\n"
   ]
  },
  {
   "cell_type": "code",
   "execution_count": 10,
   "metadata": {
    "colab": {},
    "colab_type": "code",
    "id": "gRf8YEdkREg5"
   },
   "outputs": [],
   "source": [
    "def getNormalized(X,ns):\n",
    "  flattened_channels = X.reshape(3,-1)\n",
    "  channel_mean = flattened_channels.mean(dim = 1)\n",
    "  channel_stddev = flattened_channels.std(dim = 1)\n",
    "  preprocess2 = transforms.Compose([\n",
    "                      transforms.Normalize(channel_mean, channel_stddev)\n",
    "  ])\n",
    "\n",
    "\n",
    "  temptwo = torch.tensor([])\n",
    "  for i in range(X.shape[0]):\n",
    "    a = preprocess2(X[i])\n",
    "    temptwo = torch.cat([temptwo, a.reshape(1,3,ns,ns)])\n",
    "  \n",
    "  return temptwo\n"
   ]
  },
  {
   "cell_type": "markdown",
   "metadata": {
    "colab_type": "text",
    "id": "wgAE57uxYzoI"
   },
   "source": [
    "Resizing"
   ]
  },
  {
   "cell_type": "code",
   "execution_count": 11,
   "metadata": {
    "colab": {},
    "colab_type": "code",
    "id": "FC63HWaCRENg"
   },
   "outputs": [],
   "source": [
    "def imageSetResize(newSize,X):\n",
    "  preprocess1 = transforms.Compose([\n",
    "                        transforms.ToPILImage(),\n",
    "                        transforms.Resize(newSize),\n",
    "                        transforms.ToTensor()])\n",
    "  \n",
    "  temp = torch.tensor([])\n",
    "  for i in range(X.shape[0]):\n",
    "    a = preprocess1(X[i])\n",
    "    temp = torch.cat([temp, a.reshape(1,3,newSize,newSize)])\n",
    "\n",
    "  return temp "
   ]
  },
  {
   "cell_type": "code",
   "execution_count": 43,
   "metadata": {
    "colab": {},
    "colab_type": "code",
    "id": "4jcR-7xHsQa8"
   },
   "outputs": [],
   "source": [
    "imsize = 256\n",
    "X_train = imageSetResize(imsize, X_train.float())\n",
    "X_train = getNormalized(X_train.float(),imsize)\n",
    "X_test = imageSetResize(imsize, X_test.float())\n",
    "X_test = getNormalized(X_test.float(),imsize)"
   ]
  },
  {
   "cell_type": "code",
   "execution_count": 44,
   "metadata": {},
   "outputs": [
    {
     "data": {
      "text/plain": [
       "torch.Size([238, 3, 256, 256])"
      ]
     },
     "execution_count": 44,
     "metadata": {},
     "output_type": "execute_result"
    }
   ],
   "source": [
    "X_train.shape"
   ]
  },
  {
   "cell_type": "markdown",
   "metadata": {
    "colab_type": "text",
    "id": "fuW2_97oZHUK"
   },
   "source": [
    "Checking Distribution"
   ]
  },
  {
   "cell_type": "code",
   "execution_count": 13,
   "metadata": {
    "colab": {
     "base_uri": "https://localhost:8080/",
     "height": 51
    },
    "colab_type": "code",
    "id": "wS_i5NOuXN5W",
    "outputId": "f691f82d-0ecf-4b92-854b-777bd41e1e85"
   },
   "outputs": [
    {
     "data": {
      "text/plain": [
       "(tensor(30), tensor(30), tensor(119), tensor(119))"
      ]
     },
     "execution_count": 13,
     "metadata": {},
     "output_type": "execute_result"
    }
   ],
   "source": [
    "(y_test == 1.).sum(), (y_test == 0.).sum(), (y_train == 0.).sum(), (y_train == 1.).sum()"
   ]
  },
  {
   "cell_type": "markdown",
   "metadata": {
    "colab_type": "text",
    "id": "OIDCw0NffHZC"
   },
   "source": [
    "Alexnet"
   ]
  },
  {
   "cell_type": "code",
   "execution_count": 14,
   "metadata": {
    "colab": {},
    "colab_type": "code",
    "id": "KllwGOQfahTs"
   },
   "outputs": [],
   "source": [
    "anet = models.alexnet(pretrained = True)"
   ]
  },
  {
   "cell_type": "code",
   "execution_count": 15,
   "metadata": {
    "colab": {},
    "colab_type": "code",
    "id": "nN1BeNaJYUzX"
   },
   "outputs": [],
   "source": [
    "def giveAlexnetRepresentations(X):\n",
    "  anet_representations = torch.tensor([])\n",
    "\n",
    "  for i in range(X.shape[0]):\n",
    "    anet_representations = torch.cat([anet_representations, anet(X[i].unsqueeze(0))])\n",
    "\n",
    "  return anet_representations "
   ]
  },
  {
   "cell_type": "code",
   "execution_count": 16,
   "metadata": {
    "colab": {},
    "colab_type": "code",
    "id": "gHrdLTdYJCNL"
   },
   "outputs": [],
   "source": [
    "model1 = nn.Sequential(\n",
    "    nn.Linear(1000, 300),\n",
    "    nn.ReLU(),\n",
    "    nn.Linear(300,100),\n",
    "    nn.ReLU(),\n",
    "    nn.Linear(100,2),\n",
    "    nn.ReLU(),\n",
    "    nn.Softmax(dim=1)\n",
    ")"
   ]
  },
  {
   "cell_type": "markdown",
   "metadata": {
    "colab_type": "text",
    "id": "apNWr9Mb9HTg"
   },
   "source": [
    "Operations"
   ]
  },
  {
   "cell_type": "markdown",
   "metadata": {
    "colab_type": "text",
    "id": "Fe1feni3l0Ir"
   },
   "source": [
    "Shuffling and Batching"
   ]
  },
  {
   "cell_type": "code",
   "execution_count": 17,
   "metadata": {
    "colab": {},
    "colab_type": "code",
    "id": "tovEfND2ccr9"
   },
   "outputs": [],
   "source": [
    "def labelize(p):\n",
    "  labelized_preds = []\n",
    "  for i in p:\n",
    "    l = 0. if i[0]>i[1] else 1.\n",
    "    labelized_preds.append(l)\n",
    "\n",
    "  return torch.tensor(labelized_preds)"
   ]
  },
  {
   "cell_type": "code",
   "execution_count": 18,
   "metadata": {
    "colab": {},
    "colab_type": "code",
    "id": "10usyySlj74x"
   },
   "outputs": [],
   "source": [
    "def shuffle_and_batch(X,y,num,bs):\n",
    "  shuffled_indices = torch.randperm(X.shape[0])\n",
    "  newX = X[shuffled_indices]\n",
    "  newY = y[shuffled_indices]\n",
    "\n",
    "  X_batches = []\n",
    "  y_batches = []\n",
    "  for i in range(num):\n",
    "    X_batches.append(X[i*bs:(i+1)*bs])\n",
    "    y_batches.append(y_train[i*bs:(i+1)*bs])\n",
    "\n",
    "  return X_batches, y_batches"
   ]
  },
  {
   "cell_type": "code",
   "execution_count": 45,
   "metadata": {
    "colab": {},
    "colab_type": "code",
    "id": "-1QAU1K84XAz"
   },
   "outputs": [],
   "source": [
    "X_train_representations = giveAlexnetRepresentations(X_train)\n",
    "X_test_representations = giveAlexnetRepresentations(X_test.float())"
   ]
  },
  {
   "cell_type": "code",
   "execution_count": 46,
   "metadata": {},
   "outputs": [
    {
     "data": {
      "text/plain": [
       "(torch.Size([238, 1000]), torch.Size([60, 1000]))"
      ]
     },
     "execution_count": 46,
     "metadata": {},
     "output_type": "execute_result"
    }
   ],
   "source": [
    "X_train_representations.shape, X_test_representations.shape "
   ]
  },
  {
   "cell_type": "markdown",
   "metadata": {
    "colab_type": "text",
    "id": "8a3NS6qTl6XU"
   },
   "source": [
    "Training and Testing"
   ]
  },
  {
   "cell_type": "code",
   "execution_count": 21,
   "metadata": {
    "colab": {
     "base_uri": "https://localhost:8080/",
     "height": 357
    },
    "colab_type": "code",
    "id": "FKZKq8cnJCO8",
    "outputId": "f0f5400c-84a0-4708-c3bf-8e8caa8b82fe"
   },
   "outputs": [
    {
     "name": "stdout",
     "output_type": "stream",
     "text": [
      "Epoch 0\n",
      "Training Loss:0.7591190338134766\tTraining Accuracy:0.5  Testing Loss:0.7739530205726624\tTesting Accuracy:0.5\n",
      "Epoch 1\n",
      "Training Loss:0.7254834175109863\tTraining Accuracy:0.5  Testing Loss:0.745461642742157\tTesting Accuracy:0.5\n",
      "Epoch 2\n",
      "Training Loss:0.6541333794593811\tTraining Accuracy:0.5  Testing Loss:0.674714982509613\tTesting Accuracy:0.5\n",
      "Epoch 3\n",
      "Training Loss:0.6545477509498596\tTraining Accuracy:0.5  Testing Loss:0.6680727601051331\tTesting Accuracy:0.5\n",
      "Epoch 4\n",
      "Training Loss:0.6498241424560547\tTraining Accuracy:0.5  Testing Loss:0.6627222895622253\tTesting Accuracy:0.5\n",
      "Epoch 5\n",
      "Training Loss:0.6429898738861084\tTraining Accuracy:0.5  Testing Loss:0.6580789685249329\tTesting Accuracy:0.5\n",
      "Epoch 6\n",
      "Training Loss:0.6405882835388184\tTraining Accuracy:0.5  Testing Loss:0.6700441241264343\tTesting Accuracy:0.5\n",
      "Epoch 7\n",
      "Training Loss:0.665300190448761\tTraining Accuracy:0.5  Testing Loss:0.6832665801048279\tTesting Accuracy:0.5\n",
      "Epoch 8\n",
      "Training Loss:0.6389997005462646\tTraining Accuracy:0.5  Testing Loss:0.6634674668312073\tTesting Accuracy:0.5\n",
      "Epoch 9\n",
      "Training Loss:0.6275216937065125\tTraining Accuracy:0.5  Testing Loss:0.6421022415161133\tTesting Accuracy:0.5\n"
     ]
    }
   ],
   "source": [
    "# device = torch.device('cpu')\n",
    "# model1 = model1.to(device)\n",
    "tb = SummaryWriter()\n",
    "\n",
    "criterion = nn.CrossEntropyLoss()\n",
    "optimizer = optim.Adam(lr = 1e-3, params = model1.parameters())\n",
    "optimizer.zero_grad()\n",
    "for epoch in range(10):\n",
    "    X_batches, y_batches = shuffle_and_batch(X_train_representations, y_train, 4, 67)\n",
    "  # X_batches = X_batches.to(device)\n",
    "  # y_batches = y_batches.to(device)\n",
    "    print('Epoch {}'.format(epoch))\n",
    "    for i in range(1):#len(X_batches)):\n",
    "        pred = model1(X_batches[i])\n",
    "        loss = criterion(pred,y_batches[i].long())\n",
    "        optimizer.zero_grad()\n",
    "    # print('Training Loss: {}'.format(loss))\n",
    "        loss.backward(retain_graph = True)\n",
    "        optimizer.step()\n",
    "\n",
    "\n",
    "  # Checking model on training set\n",
    "    train_preds = model1(X_train_representations)\n",
    "    train_loss = criterion(train_preds, y_train.long())\n",
    "    train_preds = labelize(train_preds)\n",
    "    train_prediction_comparisons = (y_train == train_preds)\n",
    "    train_accuracy = float(train_prediction_comparisons.sum())/float(y_train.shape[0])\n",
    "    print('Training Loss:{}\\tTraining Accuracy:{}'.format(train_loss.item(), train_accuracy), end='  ')\n",
    "  \n",
    "  # Checking model on testing set\n",
    "    test_preds = model1(X_test_representations)\n",
    "    test_loss = criterion(test_preds, y_test.long())\n",
    "    test_preds = labelize(test_preds)\n",
    "    test_prediction_comparisons = (y_test == test_preds)\n",
    "    test_accuracy = float(test_prediction_comparisons.sum())/float(y_test.shape[0])\n",
    "    print('Testing Loss:{}\\tTesting Accuracy:{}'.format(test_loss.item(), test_accuracy))\n",
    "\n",
    "\n",
    "    tb.add_scalar('TrainLoss',train_loss, epoch)\n",
    "    tb.add_scalar('TestLoss',test_loss, epoch)\n",
    "    tb.add_scalar('TrainAccuracy', train_accuracy, epoch)\n",
    "    tb.add_scalar('TestAccuracy', test_accuracy, epoch)\n"
   ]
  },
  {
   "cell_type": "code",
   "execution_count": 22,
   "metadata": {},
   "outputs": [],
   "source": [
    "def cmatrix(target,preds):\n",
    "\n",
    "    di = {}\n",
    "    \n",
    "    count00 = 0\n",
    "    for i,j in zip(target,preds):\n",
    "        if i==0.0 and j==0.0:\n",
    "            count00+=1\n",
    "    di['count00'] = count00\n",
    "        \n",
    "    \n",
    "    count11 = 0\n",
    "    for i,j in zip(target,preds):\n",
    "        if i==1. and j==1.:\n",
    "            count11+=1\n",
    "    di['count11'] = count11\n",
    "\n",
    "    \n",
    "    count01 = 0\n",
    "    for i,j in zip(target,preds):\n",
    "        if i==0. and j==1.:\n",
    "            count01+=1\n",
    "    di['count01'] = count01\n",
    "    \n",
    "    count10 = 0\n",
    "    for i,j in zip(target,preds):\n",
    "        if i==1. and j==0.:\n",
    "            count10+=1\n",
    "    di['count10'] = count10\n",
    "        \n",
    "    print(di)"
   ]
  },
  {
   "cell_type": "code",
   "execution_count": 23,
   "metadata": {},
   "outputs": [],
   "source": [
    "# cmatrix(y_train, train_preds)"
   ]
  },
  {
   "cell_type": "code",
   "execution_count": 24,
   "metadata": {},
   "outputs": [
    {
     "data": {
      "text/plain": [
       "array([[  0, 119],\n",
       "       [  0, 119]])"
      ]
     },
     "execution_count": 24,
     "metadata": {},
     "output_type": "execute_result"
    }
   ],
   "source": [
    "confusion_matrix(y_train, train_preds)"
   ]
  },
  {
   "cell_type": "code",
   "execution_count": 25,
   "metadata": {},
   "outputs": [
    {
     "data": {
      "text/plain": [
       "array([[ 0, 30],\n",
       "       [ 0, 30]])"
      ]
     },
     "execution_count": 25,
     "metadata": {},
     "output_type": "execute_result"
    }
   ],
   "source": [
    "confusion_matrix(y_test, test_preds)"
   ]
  },
  {
   "cell_type": "markdown",
   "metadata": {},
   "source": [
    "Augset"
   ]
  },
  {
   "cell_type": "code",
   "execution_count": 26,
   "metadata": {},
   "outputs": [],
   "source": [
    "Xaug = pickle.load(open(f'X5040_Alexnet.pkl', 'rb'))\n",
    "yaug = pickle.load(open(f'y5040.pkl', 'rb'))"
   ]
  },
  {
   "cell_type": "code",
   "execution_count": 27,
   "metadata": {},
   "outputs": [
    {
     "name": "stdout",
     "output_type": "stream",
     "text": [
      "AugAccuracy:0.5  "
     ]
    }
   ],
   "source": [
    "aug_preds = model1(Xaug)\n",
    "aug_loss = criterion(aug_preds, yaug.long())\n",
    "aug_preds = labelize(aug_preds)\n",
    "aug_prediction_comparisons = (yaug == aug_preds)\n",
    "aug_accuracy = float(aug_prediction_comparisons.sum())/float(yaug.shape[0])\n",
    "print('AugAccuracy:{}'.format(aug_accuracy), end='  ') "
   ]
  },
  {
   "cell_type": "code",
   "execution_count": 28,
   "metadata": {},
   "outputs": [
    {
     "data": {
      "text/plain": [
       "array([[   0, 2520],\n",
       "       [   0, 2520]])"
      ]
     },
     "execution_count": 28,
     "metadata": {},
     "output_type": "execute_result"
    }
   ],
   "source": [
    "confusion_matrix(yaug, aug_preds)"
   ]
  },
  {
   "cell_type": "markdown",
   "metadata": {},
   "source": [
    "Raw"
   ]
  },
  {
   "cell_type": "code",
   "execution_count": 29,
   "metadata": {},
   "outputs": [],
   "source": [
    "Xraw = pickle.load(open(f'XAlexnet2669_raw_256.pkl', 'rb'))\n",
    "yraw = pickle.load(open(f'yAlexnet2669_raw_256.pkl', 'rb'))"
   ]
  },
  {
   "cell_type": "code",
   "execution_count": 30,
   "metadata": {},
   "outputs": [
    {
     "name": "stdout",
     "output_type": "stream",
     "text": [
      "RawAccuracy:0.9445485200449607  "
     ]
    }
   ],
   "source": [
    "raw_preds = model1(Xraw)\n",
    "# raw_loss = criterion(raw_preds, labelToOneHot(yraw))\n",
    "raw_preds = labelize(raw_preds)\n",
    "raw_prediction_comparisons = (yraw == raw_preds)\n",
    "raw_accuracy = float(raw_prediction_comparisons.sum())/float(yraw.shape[0])\n",
    "print('RawAccuracy:{}'.format(raw_accuracy), end='  ')  "
   ]
  },
  {
   "cell_type": "code",
   "execution_count": 31,
   "metadata": {},
   "outputs": [
    {
     "data": {
      "text/plain": [
       "array([[   1,  148],\n",
       "       [   0, 2520]])"
      ]
     },
     "execution_count": 31,
     "metadata": {},
     "output_type": "execute_result"
    }
   ],
   "source": [
    "confusion_matrix(yraw, raw_preds)"
   ]
  },
  {
   "cell_type": "code",
   "execution_count": 38,
   "metadata": {},
   "outputs": [
    {
     "data": {
      "text/plain": [
       "0.9179833990670655"
      ]
     },
     "execution_count": 38,
     "metadata": {},
     "output_type": "execute_result"
    }
   ],
   "source": [
    "from sklearn.metrics import f1_score\n",
    "f1_score(yraw, raw_preds, average = 'weighted')"
   ]
  },
  {
   "cell_type": "code",
   "execution_count": 37,
   "metadata": {},
   "outputs": [
    {
     "data": {
      "text/plain": [
       "tensor(149)"
      ]
     },
     "execution_count": 37,
     "metadata": {},
     "output_type": "execute_result"
    }
   ],
   "source": [
    "(yraw == 0.).sum()"
   ]
  },
  {
   "cell_type": "code",
   "execution_count": 39,
   "metadata": {},
   "outputs": [
    {
     "data": {
      "text/plain": [
       "tensor(149)"
      ]
     },
     "execution_count": 39,
     "metadata": {},
     "output_type": "execute_result"
    }
   ],
   "source": [
    "(yraw == 0.).sum()"
   ]
  },
  {
   "cell_type": "code",
   "execution_count": null,
   "metadata": {},
   "outputs": [],
   "source": []
  },
  {
   "cell_type": "markdown",
   "metadata": {
    "colab_type": "text",
    "id": "SDRSknofMAym"
   },
   "source": [
    "Densenet"
   ]
  },
  {
   "cell_type": "code",
   "execution_count": null,
   "metadata": {},
   "outputs": [],
   "source": []
  },
  {
   "cell_type": "code",
   "execution_count": null,
   "metadata": {
    "colab": {
     "base_uri": "https://localhost:8080/",
     "height": 83,
     "referenced_widgets": [
      "12880581c8a346d29fd7b3d8e8f7e6c1",
      "493c2637a24a40ce9b2d59953ade1646",
      "b5a5d07b99954ca7ba226d8d9e527e14",
      "01ef418ccc5a40529d4b552aa05e0b12",
      "17e911aa3b2b4db7a00ce672a64386ea",
      "f20d47174c724fb892219c967369118f",
      "033611b75f8049249b10a53220ba3f29",
      "025ffbb30a874180bfbdd5053f441a47"
     ]
    },
    "colab_type": "code",
    "id": "EBOUzvjlllUT",
    "outputId": "03dc4e9e-d0ae-4827-9651-2c937b7e71a3"
   },
   "outputs": [],
   "source": [
    "# dnet = models.densenet121(pretrained = True)"
   ]
  },
  {
   "cell_type": "code",
   "execution_count": null,
   "metadata": {
    "colab": {},
    "colab_type": "code",
    "id": "R3MaOFY-llW6"
   },
   "outputs": [],
   "source": [
    "# normalized_imageset = getNormalized(X.float())\n",
    "# resized_imageset = imageSetResize(256, normalized_imageset)"
   ]
  },
  {
   "cell_type": "code",
   "execution_count": null,
   "metadata": {
    "colab": {},
    "colab_type": "code",
    "id": "3f7byA_vllY6"
   },
   "outputs": [],
   "source": [
    "# def getD121Representations(X):\n",
    "#   global dnet\n",
    "#   device = torch.device('cuda:0')\n",
    "#   dnet_representations = torch.tensor([]).float().to(device)\n",
    "#   dnet = dnet.to(device)\n",
    "\n",
    "#   X = X.float().to(device)\n",
    "#   for i in range(X.shape[0]):\n",
    "#     dnet_representations = torch.cat([dnet_representations, dnet(X[i].unsqueeze(0))])\n",
    "\n",
    "#   device = torch.device('cpu')\n",
    "#   dnet_representations = dnet_representations.to(device)\n",
    "#   X = X.to(device)\n",
    "#   dnet = dnet.to(device)\n",
    "#   return dnet_representations "
   ]
  },
  {
   "cell_type": "code",
   "execution_count": null,
   "metadata": {
    "colab": {
     "base_uri": "https://localhost:8080/",
     "height": 343
    },
    "colab_type": "code",
    "id": "zJ4Awl0RcCSe",
    "outputId": "8419e913-0c5d-4d2d-cdf6-fdca38ecb393"
   },
   "outputs": [],
   "source": [
    "# X_train_representations = getD121Representations(X_train)\n",
    "# X_test_representations = getD121Representations(X_test)"
   ]
  },
  {
   "cell_type": "code",
   "execution_count": null,
   "metadata": {
    "colab": {},
    "colab_type": "code",
    "id": "AT793lYPTK3a"
   },
   "outputs": [],
   "source": [
    "# device = torch.device('cpu')\n",
    "# model1 = model1.to(device)\n",
    "\n",
    "\n",
    "\n",
    "# criterion = nn.CrossEntropyLoss()\n",
    "# optimizer = optim.Adam(lr = 1e-4, params = model1.parameters())\n",
    "# optimizer.zero_grad()\n",
    "# for epoch in range(10):\n",
    "#   X_batches, y_batches = shuffle_and_batch(X_train_representations, y_train, 4, 67)\n",
    "#   # X_batches = X_batches.to(device)\n",
    "#   # y_batches = y_batches.to(device)\n",
    "#   print('Epoch {}'.format(epoch))\n",
    "#   for i in range(1):#len(X_batches)):\n",
    "#     pred = model1(X_batches[i])\n",
    "#     loss = criterion(pred,y_batches[i].long())\n",
    "#     # print('Training Loss: {}'.format(loss))\n",
    "#     loss.backward(retain_graph = True)\n",
    "#     optimizer.step()\n",
    "\n",
    "\n",
    "#   # Checking model on training set\n",
    "#   train_preds = model1(X_train_representations)\n",
    "#   train_loss = criterion(train_preds, y_train.long())\n",
    "#   train_preds = labelize(train_preds)\n",
    "#   train_prediction_comparisons = (y_train == train_preds)\n",
    "#   train_accuracy = float(train_prediction_comparisons.sum())/float(y_train.shape[0])\n",
    "#   print('Training Loss:{}\\tTraining Accuracy:{}'.format(train_loss.item(), train_accuracy), end='  ')\n",
    "  \n",
    "#   # Checking model on testing set\n",
    "#   test_preds = model1(X_test_representations)\n",
    "#   test_loss = criterion(test_preds, y_test.long())\n",
    "#   test_preds = labelize(test_preds)\n",
    "#   test_prediction_comparisons = (y_test == test_preds)\n",
    "#   test_accuracy = float(test_prediction_comparisons.sum())/float(y_test.shape[0])\n",
    "#   print('Testing Loss:{}\\tTesting Accuracy:{}'.format(test_loss.item(), test_accuracy))\n"
   ]
  },
  {
   "cell_type": "code",
   "execution_count": null,
   "metadata": {
    "colab": {},
    "colab_type": "code",
    "id": "XJkgwG2vRUp6"
   },
   "outputs": [],
   "source": [
    "# torch.cuda.empty_cache()"
   ]
  },
  {
   "cell_type": "code",
   "execution_count": null,
   "metadata": {
    "colab": {},
    "colab_type": "code",
    "id": "2WrGRddFRUsE"
   },
   "outputs": [],
   "source": []
  },
  {
   "cell_type": "code",
   "execution_count": null,
   "metadata": {
    "colab": {},
    "colab_type": "code",
    "id": "_GDPae04RUuH"
   },
   "outputs": [],
   "source": []
  },
  {
   "cell_type": "code",
   "execution_count": null,
   "metadata": {
    "colab": {},
    "colab_type": "code",
    "id": "ULOSCy3zRUw0"
   },
   "outputs": [],
   "source": []
  },
  {
   "cell_type": "code",
   "execution_count": null,
   "metadata": {
    "colab": {},
    "colab_type": "code",
    "id": "e3m5F1zRRUzL"
   },
   "outputs": [],
   "source": []
  },
  {
   "cell_type": "code",
   "execution_count": null,
   "metadata": {
    "colab": {},
    "colab_type": "code",
    "id": "YcH0EV3_RU1A"
   },
   "outputs": [],
   "source": []
  },
  {
   "cell_type": "code",
   "execution_count": null,
   "metadata": {
    "colab": {},
    "colab_type": "code",
    "id": "MuSW961-RU3Y"
   },
   "outputs": [],
   "source": []
  },
  {
   "cell_type": "code",
   "execution_count": null,
   "metadata": {
    "colab": {},
    "colab_type": "code",
    "id": "JxIkhTbzRU5Q"
   },
   "outputs": [],
   "source": []
  },
  {
   "cell_type": "code",
   "execution_count": null,
   "metadata": {
    "colab": {},
    "colab_type": "code",
    "id": "0vgxCZuVTK8d"
   },
   "outputs": [],
   "source": []
  },
  {
   "cell_type": "code",
   "execution_count": null,
   "metadata": {
    "colab": {
     "base_uri": "https://localhost:8080/",
     "height": 34
    },
    "colab_type": "code",
    "id": "8kCVThN5cYda",
    "outputId": "63f5a2f0-0f42-419e-b29b-4afd0cb13063"
   },
   "outputs": [],
   "source": [
    "# if torch.cuda.is_available():\n",
    "  # device = torch.device('cuda:0')\n",
    "  # print('{} GPU(s)'.format(torch.cuda.device_count()))\n",
    "# else:\n",
    "  # device = torch.device('cpu')\n",
    "  # print('CPU')"
   ]
  },
  {
   "cell_type": "code",
   "execution_count": null,
   "metadata": {
    "colab": {
     "base_uri": "https://localhost:8080/",
     "height": 238
    },
    "colab_type": "code",
    "id": "ivZ4FoQery7R",
    "outputId": "d3e63bd6-7869-4061-8db7-bbd4e61156cc"
   },
   "outputs": [],
   "source": [
    "# !ln -sf /opt/bin/nvidia-smi /usr/bin/nvidia-smi\n",
    "# !pip install gputil\n",
    "# !pip install psutil\n",
    "# !pip install humanize\n",
    "# import psutil\n",
    "# import humanize\n",
    "# import os\n",
    "# import GPUtil as GPU\n",
    "# GPUs = GPU.getGPUs()\n",
    "# # XXX: only one GPU on Colab and isn’t guaranteed\n",
    "# gpu = GPUs[0]\n",
    "# def printm():\n",
    "#  process = psutil.Process(os.getpid())\n",
    "#  print(\"Gen RAM Free: \" + humanize.naturalsize( psutil.virtual_memory().available ), \" | Proc size: \" + humanize.naturalsize( process.memory_info().rss))\n",
    "#  print(\"GPU RAM Free: {0:.0f}MB | Used: {1:.0f}MB | Util {2:3.0f}% | Total {3:.0f}MB\".format(gpu.memoryFree, gpu.memoryUsed, gpu.memoryUtil*100, gpu.memoryTotal))\n",
    "# printm()"
   ]
  },
  {
   "cell_type": "code",
   "execution_count": null,
   "metadata": {
    "colab": {
     "base_uri": "https://localhost:8080/",
     "height": 51
    },
    "colab_type": "code",
    "id": "Ebmw0C9_ehbR",
    "outputId": "8248b697-e20c-48fd-ac7e-a3eb2ac4931a"
   },
   "outputs": [],
   "source": [
    "# def printm():\n",
    "#  process = psutil.Process(os.getpid())\n",
    "#  print(\"Gen RAM Free: \" + humanize.naturalsize( psutil.virtual_memory().available ), \" | Proc size: \" + humanize.naturalsize( process.memory_info().rss))\n",
    "#  print(\"GPU RAM Free: {0:.0f}MB | Used: {1:.0f}MB | Util {2:3.0f}% | Total {3:.0f}MB\".format(gpu.memoryFree, gpu.memoryUsed, gpu.memoryUtil*100, gpu.memoryTotal))\n",
    "\n",
    "# torch.cuda.empty_cache()\n",
    "# printm()"
   ]
  },
  {
   "cell_type": "code",
   "execution_count": null,
   "metadata": {
    "colab": {
     "base_uri": "https://localhost:8080/",
     "height": 34
    },
    "colab_type": "code",
    "id": "yqakvm8_fi7r",
    "outputId": "b3dd0a7e-7350-4305-fded-781e95ae1e17"
   },
   "outputs": [],
   "source": [
    "16280/1024"
   ]
  },
  {
   "cell_type": "code",
   "execution_count": null,
   "metadata": {
    "colab": {
     "base_uri": "https://localhost:8080/",
     "height": 34
    },
    "colab_type": "code",
    "id": "tULQ-IQzry87",
    "outputId": "c6f4a9e6-c2e2-47e8-d2d1-a0a04d13dc4c"
   },
   "outputs": [],
   "source": [
    "# torch.cuda.is_available()"
   ]
  },
  {
   "cell_type": "code",
   "execution_count": null,
   "metadata": {
    "colab": {
     "base_uri": "https://localhost:8080/",
     "height": 34
    },
    "colab_type": "code",
    "id": "oueFUBswry4j",
    "outputId": "c5c1a929-dd62-4de5-a5ec-260ebaddad1f"
   },
   "outputs": [],
   "source": [
    "# device = torch.device('cuda:0')\n",
    "# device, torch.cuda.device_count()"
   ]
  },
  {
   "cell_type": "code",
   "execution_count": null,
   "metadata": {
    "colab": {
     "base_uri": "https://localhost:8080/",
     "height": 323
    },
    "colab_type": "code",
    "id": "iODd2ibSJCDS",
    "outputId": "7b01f6e8-a741-4356-be65-32442e4b9e2d"
   },
   "outputs": [],
   "source": [
    "# xxxx = torch.from_numpy(X)\n",
    "# XXXX = xxxx[:4]\n",
    "# XXXX = XXXX.permute(0,3,1,2)\n",
    "\n",
    "# flattened_channels = XXXX.reshape(3,-1)\n",
    "# channel_mean = flattened_channels.mean(dim = 1)\n",
    "# channel_stddev = flattened_channels.std(dim = 1)\n",
    "# pppp = transforms.Compose([\n",
    "                          # transforms.Normalize(channel_mean, channel_stddev)\n",
    "# ])\n",
    "\n"
   ]
  },
  {
   "cell_type": "code",
   "execution_count": null,
   "metadata": {
    "colab": {},
    "colab_type": "code",
    "id": "Sa1MCz2feNIN"
   },
   "outputs": [],
   "source": [
    "############################################################"
   ]
  },
  {
   "cell_type": "code",
   "execution_count": null,
   "metadata": {
    "colab": {
     "base_uri": "https://localhost:8080/",
     "height": 34
    },
    "colab_type": "code",
    "id": "chDehy6aeNKZ",
    "outputId": "6eba8d1c-e013-4303-c9ce-726e4bebea7d"
   },
   "outputs": [],
   "source": [
    "# import torch.multiprocessing as mp\n",
    "# mp.cpu_count()"
   ]
  },
  {
   "cell_type": "code",
   "execution_count": null,
   "metadata": {
    "colab": {},
    "colab_type": "code",
    "id": "BDdsOy_nRiio"
   },
   "outputs": [],
   "source": []
  },
  {
   "cell_type": "code",
   "execution_count": null,
   "metadata": {
    "colab": {},
    "colab_type": "code",
    "id": "WLmj4VCQRilR"
   },
   "outputs": [],
   "source": []
  },
  {
   "cell_type": "code",
   "execution_count": null,
   "metadata": {
    "colab": {},
    "colab_type": "code",
    "id": "4ZdxhjrdRin8"
   },
   "outputs": [],
   "source": []
  },
  {
   "cell_type": "code",
   "execution_count": null,
   "metadata": {
    "colab": {},
    "colab_type": "code",
    "id": "0hp-apeGRiqG"
   },
   "outputs": [],
   "source": []
  },
  {
   "cell_type": "code",
   "execution_count": null,
   "metadata": {
    "colab": {},
    "colab_type": "code",
    "id": "kWPjl1dhRisf"
   },
   "outputs": [],
   "source": []
  },
  {
   "cell_type": "code",
   "execution_count": null,
   "metadata": {
    "colab": {},
    "colab_type": "code",
    "id": "T3OkJgNXRiuR"
   },
   "outputs": [],
   "source": []
  },
  {
   "cell_type": "code",
   "execution_count": null,
   "metadata": {
    "colab": {},
    "colab_type": "code",
    "id": "-MxF3FxMeNM0"
   },
   "outputs": [],
   "source": []
  },
  {
   "cell_type": "code",
   "execution_count": null,
   "metadata": {
    "colab": {},
    "colab_type": "code",
    "id": "BZevZ1dIeNPQ"
   },
   "outputs": [],
   "source": []
  },
  {
   "cell_type": "code",
   "execution_count": null,
   "metadata": {
    "colab": {},
    "colab_type": "code",
    "id": "5N76yDj0eNRC"
   },
   "outputs": [],
   "source": [
    "###########################################################"
   ]
  },
  {
   "cell_type": "code",
   "execution_count": null,
   "metadata": {
    "colab": {},
    "colab_type": "code",
    "id": "9UN5zjE0wrVg"
   },
   "outputs": [],
   "source": [
    "# class PCBdataset(Dataset):\n",
    "#   def __init__(self, numpy_file, label_file, transform):\n",
    "#     self.image_file = numpy_file\n",
    "#     self.label_file = label_file\n",
    "#     self.transform = transform\n",
    "    \n",
    "    \n",
    "#   def __len__(self):\n",
    "#     return self.image_file.shape[0]\n",
    "\n",
    "#   def __getitem__(self, idx):\n",
    "\n",
    "#     image = self.image_file[idx]\n",
    "#     if(self.transform):\n",
    "#       image = self.transform(self.image_file[idx])\n",
    "\n",
    "#     di = {'image':image, 'label':self.label_file[idx].item()}\n",
    "#     return di\n",
    "\n",
    "\n",
    "# .permute(1,2,0)"
   ]
  },
  {
   "cell_type": "code",
   "execution_count": null,
   "metadata": {
    "colab": {},
    "colab_type": "code",
    "id": "37kACEZetIcv"
   },
   "outputs": [],
   "source": [
    "# import torchvision.transforms.functional as F\n",
    "# t = F.to_pil_image(a[0]['image'])"
   ]
  },
  {
   "cell_type": "code",
   "execution_count": null,
   "metadata": {
    "colab": {},
    "colab_type": "code",
    "id": "G8AWPqwdGQ-s"
   },
   "outputs": [],
   "source": [
    "# a = PCBdata[0]['image']"
   ]
  },
  {
   "cell_type": "code",
   "execution_count": null,
   "metadata": {
    "colab": {
     "base_uri": "https://localhost:8080/",
     "height": 286
    },
    "colab_type": "code",
    "id": "PXxZb8iSFIgA",
    "outputId": "1bc4ce2d-6002-4d30-c927-d2918a71e35e"
   },
   "outputs": [],
   "source": [
    "# plt.imshow(a)"
   ]
  },
  {
   "cell_type": "code",
   "execution_count": null,
   "metadata": {
    "colab": {},
    "colab_type": "code",
    "id": "UC28n-0vTuKC"
   },
   "outputs": [],
   "source": []
  },
  {
   "cell_type": "code",
   "execution_count": null,
   "metadata": {
    "colab": {},
    "colab_type": "code",
    "id": "jI_ExqbnTuMQ"
   },
   "outputs": [],
   "source": [
    "# a = torch.tensor([1.,2.,3.,4.])\n",
    "\n",
    "# b = a[0]\n",
    "# c = a[1]\n",
    "# d = a[2]\n",
    "# e = a[3]"
   ]
  },
  {
   "cell_type": "code",
   "execution_count": null,
   "metadata": {
    "colab": {},
    "colab_type": "code",
    "id": "97hJSr12TuOu"
   },
   "outputs": [],
   "source": []
  },
  {
   "cell_type": "code",
   "execution_count": null,
   "metadata": {
    "colab": {},
    "colab_type": "code",
    "id": "bcKO4VmFTuQp"
   },
   "outputs": [],
   "source": []
  },
  {
   "cell_type": "code",
   "execution_count": null,
   "metadata": {
    "colab": {},
    "colab_type": "code",
    "id": "OGqycX08iafi"
   },
   "outputs": [],
   "source": []
  }
 ],
 "metadata": {
  "accelerator": "GPU",
  "colab": {
   "authorship_tag": "ABX9TyPTuGk6I6X2g2YZxJTEoeOi",
   "include_colab_link": true,
   "machine_shape": "hm",
   "name": "PCB_Notebook1.ipynb",
   "provenance": []
  },
  "kernelspec": {
   "display_name": "Python 3",
   "language": "python",
   "name": "python3"
  },
  "language_info": {
   "codemirror_mode": {
    "name": "ipython",
    "version": 3
   },
   "file_extension": ".py",
   "mimetype": "text/x-python",
   "name": "python",
   "nbconvert_exporter": "python",
   "pygments_lexer": "ipython3",
   "version": "3.6.9"
  },
  "widgets": {
   "application/vnd.jupyter.widget-state+json": {
    "01ef418ccc5a40529d4b552aa05e0b12": {
     "model_module": "@jupyter-widgets/controls",
     "model_name": "HTMLModel",
     "state": {
      "_dom_classes": [],
      "_model_module": "@jupyter-widgets/controls",
      "_model_module_version": "1.5.0",
      "_model_name": "HTMLModel",
      "_view_count": null,
      "_view_module": "@jupyter-widgets/controls",
      "_view_module_version": "1.5.0",
      "_view_name": "HTMLView",
      "description": "",
      "description_tooltip": null,
      "layout": "IPY_MODEL_025ffbb30a874180bfbdd5053f441a47",
      "placeholder": "​",
      "style": "IPY_MODEL_033611b75f8049249b10a53220ba3f29",
      "value": " 30.8M/30.8M [00:00&lt;00:00, 71.8MB/s]"
     }
    },
    "025ffbb30a874180bfbdd5053f441a47": {
     "model_module": "@jupyter-widgets/base",
     "model_name": "LayoutModel",
     "state": {
      "_model_module": "@jupyter-widgets/base",
      "_model_module_version": "1.2.0",
      "_model_name": "LayoutModel",
      "_view_count": null,
      "_view_module": "@jupyter-widgets/base",
      "_view_module_version": "1.2.0",
      "_view_name": "LayoutView",
      "align_content": null,
      "align_items": null,
      "align_self": null,
      "border": null,
      "bottom": null,
      "display": null,
      "flex": null,
      "flex_flow": null,
      "grid_area": null,
      "grid_auto_columns": null,
      "grid_auto_flow": null,
      "grid_auto_rows": null,
      "grid_column": null,
      "grid_gap": null,
      "grid_row": null,
      "grid_template_areas": null,
      "grid_template_columns": null,
      "grid_template_rows": null,
      "height": null,
      "justify_content": null,
      "justify_items": null,
      "left": null,
      "margin": null,
      "max_height": null,
      "max_width": null,
      "min_height": null,
      "min_width": null,
      "object_fit": null,
      "object_position": null,
      "order": null,
      "overflow": null,
      "overflow_x": null,
      "overflow_y": null,
      "padding": null,
      "right": null,
      "top": null,
      "visibility": null,
      "width": null
     }
    },
    "033611b75f8049249b10a53220ba3f29": {
     "model_module": "@jupyter-widgets/controls",
     "model_name": "DescriptionStyleModel",
     "state": {
      "_model_module": "@jupyter-widgets/controls",
      "_model_module_version": "1.5.0",
      "_model_name": "DescriptionStyleModel",
      "_view_count": null,
      "_view_module": "@jupyter-widgets/base",
      "_view_module_version": "1.2.0",
      "_view_name": "StyleView",
      "description_width": ""
     }
    },
    "12880581c8a346d29fd7b3d8e8f7e6c1": {
     "model_module": "@jupyter-widgets/controls",
     "model_name": "HBoxModel",
     "state": {
      "_dom_classes": [],
      "_model_module": "@jupyter-widgets/controls",
      "_model_module_version": "1.5.0",
      "_model_name": "HBoxModel",
      "_view_count": null,
      "_view_module": "@jupyter-widgets/controls",
      "_view_module_version": "1.5.0",
      "_view_name": "HBoxView",
      "box_style": "",
      "children": [
       "IPY_MODEL_b5a5d07b99954ca7ba226d8d9e527e14",
       "IPY_MODEL_01ef418ccc5a40529d4b552aa05e0b12"
      ],
      "layout": "IPY_MODEL_493c2637a24a40ce9b2d59953ade1646"
     }
    },
    "17e911aa3b2b4db7a00ce672a64386ea": {
     "model_module": "@jupyter-widgets/controls",
     "model_name": "ProgressStyleModel",
     "state": {
      "_model_module": "@jupyter-widgets/controls",
      "_model_module_version": "1.5.0",
      "_model_name": "ProgressStyleModel",
      "_view_count": null,
      "_view_module": "@jupyter-widgets/base",
      "_view_module_version": "1.2.0",
      "_view_name": "StyleView",
      "bar_color": null,
      "description_width": "initial"
     }
    },
    "493c2637a24a40ce9b2d59953ade1646": {
     "model_module": "@jupyter-widgets/base",
     "model_name": "LayoutModel",
     "state": {
      "_model_module": "@jupyter-widgets/base",
      "_model_module_version": "1.2.0",
      "_model_name": "LayoutModel",
      "_view_count": null,
      "_view_module": "@jupyter-widgets/base",
      "_view_module_version": "1.2.0",
      "_view_name": "LayoutView",
      "align_content": null,
      "align_items": null,
      "align_self": null,
      "border": null,
      "bottom": null,
      "display": null,
      "flex": null,
      "flex_flow": null,
      "grid_area": null,
      "grid_auto_columns": null,
      "grid_auto_flow": null,
      "grid_auto_rows": null,
      "grid_column": null,
      "grid_gap": null,
      "grid_row": null,
      "grid_template_areas": null,
      "grid_template_columns": null,
      "grid_template_rows": null,
      "height": null,
      "justify_content": null,
      "justify_items": null,
      "left": null,
      "margin": null,
      "max_height": null,
      "max_width": null,
      "min_height": null,
      "min_width": null,
      "object_fit": null,
      "object_position": null,
      "order": null,
      "overflow": null,
      "overflow_x": null,
      "overflow_y": null,
      "padding": null,
      "right": null,
      "top": null,
      "visibility": null,
      "width": null
     }
    },
    "b5a5d07b99954ca7ba226d8d9e527e14": {
     "model_module": "@jupyter-widgets/controls",
     "model_name": "IntProgressModel",
     "state": {
      "_dom_classes": [],
      "_model_module": "@jupyter-widgets/controls",
      "_model_module_version": "1.5.0",
      "_model_name": "IntProgressModel",
      "_view_count": null,
      "_view_module": "@jupyter-widgets/controls",
      "_view_module_version": "1.5.0",
      "_view_name": "ProgressView",
      "bar_style": "success",
      "description": "100%",
      "description_tooltip": null,
      "layout": "IPY_MODEL_f20d47174c724fb892219c967369118f",
      "max": 32342954,
      "min": 0,
      "orientation": "horizontal",
      "style": "IPY_MODEL_17e911aa3b2b4db7a00ce672a64386ea",
      "value": 32342954
     }
    },
    "f20d47174c724fb892219c967369118f": {
     "model_module": "@jupyter-widgets/base",
     "model_name": "LayoutModel",
     "state": {
      "_model_module": "@jupyter-widgets/base",
      "_model_module_version": "1.2.0",
      "_model_name": "LayoutModel",
      "_view_count": null,
      "_view_module": "@jupyter-widgets/base",
      "_view_module_version": "1.2.0",
      "_view_name": "LayoutView",
      "align_content": null,
      "align_items": null,
      "align_self": null,
      "border": null,
      "bottom": null,
      "display": null,
      "flex": null,
      "flex_flow": null,
      "grid_area": null,
      "grid_auto_columns": null,
      "grid_auto_flow": null,
      "grid_auto_rows": null,
      "grid_column": null,
      "grid_gap": null,
      "grid_row": null,
      "grid_template_areas": null,
      "grid_template_columns": null,
      "grid_template_rows": null,
      "height": null,
      "justify_content": null,
      "justify_items": null,
      "left": null,
      "margin": null,
      "max_height": null,
      "max_width": null,
      "min_height": null,
      "min_width": null,
      "object_fit": null,
      "object_position": null,
      "order": null,
      "overflow": null,
      "overflow_x": null,
      "overflow_y": null,
      "padding": null,
      "right": null,
      "top": null,
      "visibility": null,
      "width": null
     }
    }
   }
  }
 },
 "nbformat": 4,
 "nbformat_minor": 1
}
