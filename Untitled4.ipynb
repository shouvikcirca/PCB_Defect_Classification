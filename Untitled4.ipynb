{
  "nbformat": 4,
  "nbformat_minor": 0,
  "metadata": {
    "colab": {
      "name": "Untitled4.ipynb",
      "provenance": [],
      "machine_shape": "hm",
      "authorship_tag": "ABX9TyPLQJRFYP9GKEPWG4+3BFg1"
    },
    "kernelspec": {
      "name": "python3",
      "display_name": "Python 3"
    }
  },
  "cells": [
    {
      "cell_type": "code",
      "metadata": {
        "id": "cKwsXMDNz51J",
        "colab_type": "code",
        "colab": {}
      },
      "source": [
        "import numpy as np\n",
        "import matplotlib.pyplot as plt\n",
        "from torchvision import models\n",
        "import torch\n",
        "from torch.utils.data import Dataset, DataLoader\n",
        "from torchvision import transforms, utils\n",
        "import pickle"
      ],
      "execution_count": 0,
      "outputs": []
    },
    {
      "cell_type": "code",
      "metadata": {
        "id": "1oCgMiqsv9EO",
        "colab_type": "code",
        "colab": {}
      },
      "source": [
        "from google.colab import drive\n",
        "drive.mount('/content/drive/')"
      ],
      "execution_count": 0,
      "outputs": []
    },
    {
      "cell_type": "code",
      "metadata": {
        "id": "98TnjR_awrKL",
        "colab_type": "code",
        "colab": {}
      },
      "source": [
        "X = np.load('drive/My Drive/Copy of s_x_train.npy')\n",
        "y = np.load('drive/My Drive/s_y_train.npy')"
      ],
      "execution_count": 0,
      "outputs": []
    },
    {
      "cell_type": "code",
      "metadata": {
        "id": "9jrzPnIArgbe",
        "colab_type": "code",
        "colab": {}
      },
      "source": [
        "X = torch.tensor(X).permute(0,3,1,2)"
      ],
      "execution_count": 0,
      "outputs": []
    },
    {
      "cell_type": "code",
      "metadata": {
        "colab_type": "code",
        "id": "BmjEitZBrnXR",
        "colab": {}
      },
      "source": [
        "# pickle.dump(resized_imageset, open(f'resized_imageset1.pkl', 'wb'))\n",
        "# X = pickle.load(open(f'resized_imageset1.pkl', 'rb'))"
      ],
      "execution_count": 0,
      "outputs": []
    },
    {
      "cell_type": "markdown",
      "metadata": {
        "id": "QZE7xQLCWb_1",
        "colab_type": "text"
      },
      "source": [
        "Normalizing Input images\n"
      ]
    },
    {
      "cell_type": "code",
      "metadata": {
        "id": "gRf8YEdkREg5",
        "colab_type": "code",
        "colab": {}
      },
      "source": [
        "def getNormalized(X):\n",
        "  flattened_channels = X.reshape(3,-1)\n",
        "  channel_mean = flattened_channels.mean(dim = 1)\n",
        "  channel_stddev = flattened_channels.std(dim = 1)\n",
        "  preprocess2 = transforms.Compose([\n",
        "                      transforms.Normalize(channel_mean, channel_stddev)\n",
        "  ])\n",
        "\n",
        "\n",
        "  temptwo = torch.tensor([])\n",
        "  for i in range(X.shape[0]):\n",
        "    a = preprocess2(X[i])\n",
        "    temptwo = torch.cat([temptwo, a.reshape(1,3,300,300)])\n",
        "  \n",
        "  return temptwo\n"
      ],
      "execution_count": 0,
      "outputs": []
    },
    {
      "cell_type": "code",
      "metadata": {
        "id": "FC63HWaCRENg",
        "colab_type": "code",
        "colab": {}
      },
      "source": [
        "def imageSetResize(newSize,X):\n",
        "  preprocess1 = transforms.Compose([\n",
        "                        transforms.ToPILImage(),\n",
        "                        transforms.Resize(newSize),\n",
        "                        transforms.ToTensor()])\n",
        "  \n",
        "  temp = torch.tensor([])\n",
        "  for i in range(X.shape[0]):\n",
        "    a = preprocess1(X[i])\n",
        "    temp = torch.cat([temp, a.reshape(1,3,newSize,newSize)])\n",
        "\n",
        "  return temp "
      ],
      "execution_count": 0,
      "outputs": []
    },
    {
      "cell_type": "code",
      "metadata": {
        "id": "ZmNG1wb3XwpI",
        "colab_type": "code",
        "colab": {}
      },
      "source": [
        "transformed_imageset = getNormalized(X)"
      ],
      "execution_count": 0,
      "outputs": []
    },
    {
      "cell_type": "code",
      "metadata": {
        "id": "4jcR-7xHsQa8",
        "colab_type": "code",
        "colab": {}
      },
      "source": [
        "transformed_imageset = imageSetResize(transformed_imageset)"
      ],
      "execution_count": 0,
      "outputs": []
    },
    {
      "cell_type": "code",
      "metadata": {
        "id": "kBBHe_2qrytz",
        "colab_type": "code",
        "colab": {}
      },
      "source": [
        ""
      ],
      "execution_count": 0,
      "outputs": []
    },
    {
      "cell_type": "code",
      "metadata": {
        "id": "ov2opOsvryvm",
        "colab_type": "code",
        "colab": {}
      },
      "source": [
        ""
      ],
      "execution_count": 0,
      "outputs": []
    },
    {
      "cell_type": "code",
      "metadata": {
        "id": "F3bliGdBryxl",
        "colab_type": "code",
        "colab": {}
      },
      "source": [
        ""
      ],
      "execution_count": 0,
      "outputs": []
    },
    {
      "cell_type": "code",
      "metadata": {
        "id": "_nlf6P36ry0I",
        "colab_type": "code",
        "colab": {}
      },
      "source": [
        ""
      ],
      "execution_count": 0,
      "outputs": []
    },
    {
      "cell_type": "code",
      "metadata": {
        "id": "ivZ4FoQery7R",
        "colab_type": "code",
        "colab": {}
      },
      "source": [
        ""
      ],
      "execution_count": 0,
      "outputs": []
    },
    {
      "cell_type": "code",
      "metadata": {
        "id": "tULQ-IQzry87",
        "colab_type": "code",
        "colab": {}
      },
      "source": [
        ""
      ],
      "execution_count": 0,
      "outputs": []
    },
    {
      "cell_type": "code",
      "metadata": {
        "id": "oueFUBswry4j",
        "colab_type": "code",
        "colab": {}
      },
      "source": [
        ""
      ],
      "execution_count": 0,
      "outputs": []
    },
    {
      "cell_type": "code",
      "metadata": {
        "id": "Sa1MCz2feNIN",
        "colab_type": "code",
        "colab": {}
      },
      "source": [
        ""
      ],
      "execution_count": 0,
      "outputs": []
    },
    {
      "cell_type": "code",
      "metadata": {
        "id": "chDehy6aeNKZ",
        "colab_type": "code",
        "colab": {}
      },
      "source": [
        ""
      ],
      "execution_count": 0,
      "outputs": []
    },
    {
      "cell_type": "code",
      "metadata": {
        "id": "-MxF3FxMeNM0",
        "colab_type": "code",
        "colab": {}
      },
      "source": [
        ""
      ],
      "execution_count": 0,
      "outputs": []
    },
    {
      "cell_type": "code",
      "metadata": {
        "id": "BZevZ1dIeNPQ",
        "colab_type": "code",
        "colab": {}
      },
      "source": [
        ""
      ],
      "execution_count": 0,
      "outputs": []
    },
    {
      "cell_type": "code",
      "metadata": {
        "id": "5N76yDj0eNRC",
        "colab_type": "code",
        "colab": {}
      },
      "source": [
        ""
      ],
      "execution_count": 0,
      "outputs": []
    },
    {
      "cell_type": "code",
      "metadata": {
        "id": "Ea2EPbOMXwwa",
        "colab_type": "code",
        "outputId": "65409c4a-b1c9-4535-9333-613c7da08828",
        "colab": {
          "base_uri": "https://localhost:8080/",
          "height": 300
        }
      },
      "source": [
        "plt.imshow(a.permute(1,2,0))"
      ],
      "execution_count": 0,
      "outputs": [
        {
          "output_type": "stream",
          "text": [
            "Clipping input data to the valid range for imshow with RGB data ([0..1] for floats or [0..255] for integers).\n"
          ],
          "name": "stderr"
        },
        {
          "output_type": "execute_result",
          "data": {
            "text/plain": [
              "<matplotlib.image.AxesImage at 0x7f667ba606d8>"
            ]
          },
          "metadata": {
            "tags": []
          },
          "execution_count": 37
        },
        {
          "output_type": "display_data",
          "data": {
            "image/png": "[encoded data removed]",
            "text/plain": [
              "<Figure size 432x288 with 1 Axes>"
            ]
          },
          "metadata": {
            "tags": []
          }
        }
      ]
    },
    {
      "cell_type": "code",
      "metadata": {
        "id": "kB86akD8Xwy-",
        "colab_type": "code",
        "colab": {}
      },
      "source": [
        ""
      ],
      "execution_count": 0,
      "outputs": []
    },
    {
      "cell_type": "code",
      "metadata": {
        "id": "5iVNVGJUXw1M",
        "colab_type": "code",
        "colab": {}
      },
      "source": [
        ""
      ],
      "execution_count": 0,
      "outputs": []
    },
    {
      "cell_type": "code",
      "metadata": {
        "id": "BEMi3vk6REiu",
        "colab_type": "code",
        "colab": {}
      },
      "source": [
        ""
      ],
      "execution_count": 0,
      "outputs": []
    },
    {
      "cell_type": "code",
      "metadata": {
        "id": "6NMyxHovRo53",
        "colab_type": "code",
        "colab": {}
      },
      "source": [
        "PCBdata = PCBdataset(X,y, transforms.Compose(\n",
        "    [\n",
        "     transforms.ToPILImage(),\n",
        "     transforms.Resize(256),\n",
        "     transforms.ToTensor()\n",
        "    ]\n",
        "))"
      ],
      "execution_count": 0,
      "outputs": []
    },
    {
      "cell_type": "code",
      "metadata": {
        "id": "9UN5zjE0wrVg",
        "colab_type": "code",
        "colab": {}
      },
      "source": [
        "class PCBdataset(Dataset):\n",
        "  def __init__(self, numpy_file, label_file, transform):\n",
        "    self.image_file = numpy_file\n",
        "    self.label_file = label_file\n",
        "    self.transform = transform\n",
        "    \n",
        "    \n",
        "  def __len__(self):\n",
        "    return self.image_file.shape[0]\n",
        "\n",
        "  def __getitem__(self, idx):\n",
        "\n",
        "    image = self.image_file[idx]\n",
        "    if(self.transform):\n",
        "      image = self.transform(self.image_file[idx])\n",
        "\n",
        "    di = {'image':image, 'label':self.label_file[idx].item()}\n",
        "    return di\n",
        "\n",
        "\n",
        "# .permute(1,2,0)"
      ],
      "execution_count": 0,
      "outputs": []
    },
    {
      "cell_type": "code",
      "metadata": {
        "id": "37kACEZetIcv",
        "colab_type": "code",
        "colab": {}
      },
      "source": [
        "import torchvision.transforms.functional as F\n",
        "t = F.to_pil_image(a[0]['image'])"
      ],
      "execution_count": 0,
      "outputs": []
    },
    {
      "cell_type": "code",
      "metadata": {
        "id": "G8AWPqwdGQ-s",
        "colab_type": "code",
        "colab": {}
      },
      "source": [
        "a = PCBdata[0]['image']"
      ],
      "execution_count": 0,
      "outputs": []
    },
    {
      "cell_type": "code",
      "metadata": {
        "id": "PXxZb8iSFIgA",
        "colab_type": "code",
        "outputId": "1bc4ce2d-6002-4d30-c927-d2918a71e35e",
        "colab": {
          "base_uri": "https://localhost:8080/",
          "height": 286
        }
      },
      "source": [
        "plt.imshow(a)"
      ],
      "execution_count": 0,
      "outputs": [
        {
          "output_type": "execute_result",
          "data": {
            "text/plain": [
              "<matplotlib.image.AxesImage at 0x7f51d6b1c550>"
            ]
          },
          "metadata": {
            "tags": []
          },
          "execution_count": 108
        },
        {
          "output_type": "display_data",
          "data": {
            "image/png": "[encoded data removed]",
            "text/plain": [
              "<Figure size 432x288 with 1 Axes>"
            ]
          },
          "metadata": {
            "tags": []
          }
        }
      ]
    }
  ]
}