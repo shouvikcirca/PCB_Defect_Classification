{
  "nbformat": 4,
  "nbformat_minor": 0,
  "metadata": {
    "accelerator": "GPU",
    "colab": {
      "name": "VGG16_pretrained.ipynb",
      "provenance": [],
      "toc_visible": true
    },
    "kernelspec": {
      "display_name": "Python 3",
      "language": "python",
      "name": "python3"
    },
    "language_info": {
      "codemirror_mode": {
        "name": "ipython",
        "version": 3
      },
      "file_extension": ".py",
      "mimetype": "text/x-python",
      "name": "python",
      "nbconvert_exporter": "python",
      "pygments_lexer": "ipython3",
      "version": "3.6.9"
    }
  },
  "cells": [
    {
      "cell_type": "code",
      "metadata": {
        "colab_type": "code",
        "id": "mKdW-45kyBEr",
        "colab": {}
      },
      "source": [
        "import tensorflow as tf\n",
        "import keras \n",
        "from keras.applications import VGG16\n",
        "import numpy as np\n",
        "from keras.preprocessing.image import ImageDataGenerator, NumpyArrayIterator\n",
        "from keras.callbacks import EarlyStopping, ModelCheckpoint\n",
        "from sklearn.metrics import confusion_matrix\n",
        "from keras import models, layers, optimizers"
      ],
      "execution_count": 77,
      "outputs": []
    },
    {
      "cell_type": "code",
      "metadata": {
        "colab_type": "code",
        "id": "O_hWsT8RyBE1",
        "colab": {
          "base_uri": "https://localhost:8080/",
          "height": 51
        },
        "outputId": "67fef31a-6083-4b4b-9872-d1eeb3e7b06d"
      },
      "source": [
        "conv_base = VGG16(weights='imagenet', include_top = False, input_shape=(300,300,3))"
      ],
      "execution_count": 78,
      "outputs": [
        {
          "output_type": "stream",
          "text": [
            "Downloading data from https://github.com/fchollet/deep-learning-models/releases/download/v0.1/vgg16_weights_tf_dim_ordering_tf_kernels_notop.h5\n",
            "58892288/58889256 [==============================] - 6s 0us/step\n"
          ],
          "name": "stdout"
        }
      ]
    },
    {
      "cell_type": "code",
      "metadata": {
        "colab_type": "code",
        "id": "HmJBnMc0yrOl",
        "colab": {}
      },
      "source": [
        "from google.colab import drive\n",
        "drive.mount(\"/content/gdrive/\")"
      ],
      "execution_count": null,
      "outputs": []
    },
    {
      "cell_type": "code",
      "metadata": {
        "colab_type": "code",
        "id": "jZpMhfh0yBFA",
        "colab": {}
      },
      "source": [
        "X = np.load(\"gdrive/My Drive/pcb/xtrain.npy\")\n",
        "y = np.load(\"gdrive/My Drive/pcb/ytrain.npy\")"
      ],
      "execution_count": 79,
      "outputs": []
    },
    {
      "cell_type": "code",
      "metadata": {
        "id": "WBlCl5iJFAIs",
        "colab_type": "code",
        "colab": {
          "base_uri": "https://localhost:8080/",
          "height": 34
        },
        "outputId": "7795c6be-6893-4429-ded3-84793e1e4c51"
      },
      "source": [
        "conv_base.predict(X[0].reshape(1,300,300,3)).shape"
      ],
      "execution_count": 80,
      "outputs": [
        {
          "output_type": "execute_result",
          "data": {
            "text/plain": [
              "(1, 9, 9, 512)"
            ]
          },
          "metadata": {
            "tags": []
          },
          "execution_count": 80
        }
      ]
    },
    {
      "cell_type": "code",
      "metadata": {
        "id": "gLEHNpSCtRDv",
        "colab_type": "code",
        "colab": {}
      },
      "source": [
        "# Training set has 472 samples"
      ],
      "execution_count": null,
      "outputs": []
    },
    {
      "cell_type": "markdown",
      "metadata": {
        "id": "dH2UMi3oLXRj",
        "colab_type": "text"
      },
      "source": [
        "Training with k-fold Validation"
      ]
    },
    {
      "cell_type": "code",
      "metadata": {
        "id": "ylYElFUN0NfI",
        "colab_type": "code",
        "colab": {
          "base_uri": "https://localhost:8080/",
          "height": 34
        },
        "outputId": "324d2ff7-46c0-4f12-beb7-9acbffafd1e9"
      },
      "source": [
        "X.shape, (y == 0).sum(), (y == 1).sum()"
      ],
      "execution_count": 81,
      "outputs": [
        {
          "output_type": "execute_result",
          "data": {
            "text/plain": [
              "((472, 300, 300, 3), 236, 236)"
            ]
          },
          "metadata": {
            "tags": []
          },
          "execution_count": 81
        }
      ]
    },
    {
      "cell_type": "code",
      "metadata": {
        "id": "BeQXJVZL4h7v",
        "colab_type": "code",
        "colab": {}
      },
      "source": [
        "datagen = ImageDataGenerator(\n",
        "    featurewise_center = True,\n",
        "    featurewise_std_normalization = True\n",
        ")\n",
        "\n",
        "datagen.fit(X)"
      ],
      "execution_count": 82,
      "outputs": []
    },
    {
      "cell_type": "code",
      "metadata": {
        "id": "dNpL_TEj5BNb",
        "colab_type": "code",
        "colab": {
          "base_uri": "https://localhost:8080/",
          "height": 153
        },
        "outputId": "3ae48e1f-17eb-4a5c-b05b-4fae4b382ffc"
      },
      "source": [
        "nos = X.shape[0]\n",
        "bs = int(nos/8)\n",
        "\n",
        "numit = NumpyArrayIterator(\n",
        "    X, y, datagen, batch_size=bs, shuffle=False, sample_weight=None,\n",
        "    seed=None, data_format=None, save_to_dir=None, save_prefix='',\n",
        "    save_format='png', subset=None, dtype=None\n",
        ")\n",
        "\n",
        "samples = np.zeros(shape=(nos,9,9,512))\n",
        "labels = np.zeros(shape=(nos))\n",
        "i = 0\n",
        "for samples_batch,labels_batch in numit:\n",
        "    f = conv_base.predict(samples_batch)\n",
        "    print(f.shape)\n",
        "    samples[i*bs:(i+1)*bs] = f\n",
        "    labels[i*bs:(i+1)*bs] = labels_batch\n",
        "    i+=1\n",
        "    if (i*bs)>=nos:\n",
        "        break"
      ],
      "execution_count": 83,
      "outputs": [
        {
          "output_type": "stream",
          "text": [
            "(59, 9, 9, 512)\n",
            "(59, 9, 9, 512)\n",
            "(59, 9, 9, 512)\n",
            "(59, 9, 9, 512)\n",
            "(59, 9, 9, 512)\n",
            "(59, 9, 9, 512)\n",
            "(59, 9, 9, 512)\n",
            "(59, 9, 9, 512)\n"
          ],
          "name": "stdout"
        }
      ]
    },
    {
      "cell_type": "code",
      "metadata": {
        "id": "l3RCnShl5iGN",
        "colab_type": "code",
        "colab": {}
      },
      "source": [
        "samples = samples.reshape(nos,9*9*512)"
      ],
      "execution_count": 87,
      "outputs": []
    },
    {
      "cell_type": "code",
      "metadata": {
        "id": "hoBAWa2K5pXb",
        "colab_type": "code",
        "colab": {
          "base_uri": "https://localhost:8080/",
          "height": 34
        },
        "outputId": "fe3cca4e-d011-4892-e176-eed9a86af769"
      },
      "source": [
        "samples.shape, labels.shape"
      ],
      "execution_count": 88,
      "outputs": [
        {
          "output_type": "execute_result",
          "data": {
            "text/plain": [
              "((472, 41472), (472,))"
            ]
          },
          "metadata": {
            "tags": []
          },
          "execution_count": 88
        }
      ]
    },
    {
      "cell_type": "code",
      "metadata": {
        "id": "xYLS9aZr_Wbb",
        "colab_type": "code",
        "colab": {}
      },
      "source": [
        "# To save memory\n",
        "del X\n",
        "del y"
      ],
      "execution_count": null,
      "outputs": []
    },
    {
      "cell_type": "code",
      "metadata": {
        "id": "nSNmJgXP0Ndx",
        "colab_type": "code",
        "colab": {
          "base_uri": "https://localhost:8080/",
          "height": 1000
        },
        "outputId": "3147cdde-62e6-4c0a-acce-0dfa86b1ee9c"
      },
      "source": [
        "from sklearn.model_selection import StratifiedKFold\n",
        "skf = StratifiedKFold(n_splits=8)\n",
        "\n",
        "accuracies = []\n",
        "f = 1\n",
        "\n",
        "for train_index, test_index in skf.split(samples, labels):\n",
        "        X_train = samples[train_index]\n",
        "        X_test = samples[test_index]\n",
        "        y_train = labels[train_index]\n",
        "        y_test = labels[test_index]\n",
        "      \n",
        "        model = models.Sequential()\n",
        "        model.add(layers.Dense(256, activation = 'relu', input_dim = 9*9*512))\n",
        "        model.add(layers.Dropout(0.5))\n",
        "        model.add(layers.Dense(1, activation = 'sigmoid'))\n",
        "        model.compile(optimizer = optimizers.Adam(lr = 1e-3),loss = 'binary_crossentropy',metrics = ['accuracy'])\n",
        "        my_callbacks = [EarlyStopping(monitor = 'val_loss', patience=5, restore_best_weights=True)]\n",
        "\n",
        "        print('Fold {}'.format(f))\n",
        "        history = model.fit(X_train, y_train, epochs = 100, batch_size = 20, validation_data = (X_test, y_test), shuffle = True, callbacks = my_callbacks)\n",
        "\n",
        "        test_preds = model.predict(X_test, batch_size = 20)\n",
        "        test_predclass = np.array([1.0 if i>0.5 else 0.0 for i in test_preds])\n",
        "\n",
        "        accuracies.append([confusion_matrix(y_test,test_predclass)[0][0]/(y_test == 0.0).sum(), confusion_matrix(y_test,test_predclass)[1][1]/(y_test == 1.0).sum()])\n",
        "        f+=1\n"
      ],
      "execution_count": 90,
      "outputs": [
        {
          "output_type": "stream",
          "text": [
            "Fold 1\n",
            "Train on 413 samples, validate on 59 samples\n",
            "Epoch 1/100\n",
            "413/413 [==============================] - 1s 1ms/step - loss: 2.0245 - accuracy: 0.5932 - val_loss: 0.7656 - val_accuracy: 0.6441\n",
            "Epoch 2/100\n",
            "413/413 [==============================] - 0s 972us/step - loss: 0.4952 - accuracy: 0.7433 - val_loss: 0.5744 - val_accuracy: 0.7797\n",
            "Epoch 3/100\n",
            "413/413 [==============================] - 0s 957us/step - loss: 0.3565 - accuracy: 0.8523 - val_loss: 0.5137 - val_accuracy: 0.7458\n",
            "Epoch 4/100\n",
            "413/413 [==============================] - 0s 979us/step - loss: 0.2810 - accuracy: 0.8910 - val_loss: 0.5105 - val_accuracy: 0.7966\n",
            "Epoch 5/100\n",
            "413/413 [==============================] - 0s 961us/step - loss: 0.2528 - accuracy: 0.8935 - val_loss: 0.4763 - val_accuracy: 0.8136\n",
            "Epoch 6/100\n",
            "413/413 [==============================] - 0s 980us/step - loss: 0.1886 - accuracy: 0.9298 - val_loss: 0.4540 - val_accuracy: 0.8305\n",
            "Epoch 7/100\n",
            "413/413 [==============================] - 0s 965us/step - loss: 0.1897 - accuracy: 0.9225 - val_loss: 0.4617 - val_accuracy: 0.8475\n",
            "Epoch 8/100\n",
            "413/413 [==============================] - 0s 982us/step - loss: 0.1576 - accuracy: 0.9467 - val_loss: 0.4959 - val_accuracy: 0.8475\n",
            "Epoch 9/100\n",
            "413/413 [==============================] - 0s 951us/step - loss: 0.1288 - accuracy: 0.9467 - val_loss: 0.4367 - val_accuracy: 0.8644\n",
            "Epoch 10/100\n",
            "413/413 [==============================] - 0s 971us/step - loss: 0.1017 - accuracy: 0.9709 - val_loss: 0.4402 - val_accuracy: 0.7966\n",
            "Epoch 11/100\n",
            "413/413 [==============================] - 0s 969us/step - loss: 0.0935 - accuracy: 0.9734 - val_loss: 0.4332 - val_accuracy: 0.8136\n",
            "Epoch 12/100\n",
            "413/413 [==============================] - 0s 975us/step - loss: 0.0928 - accuracy: 0.9709 - val_loss: 0.4570 - val_accuracy: 0.8136\n",
            "Epoch 13/100\n",
            "413/413 [==============================] - 0s 981us/step - loss: 0.0799 - accuracy: 0.9758 - val_loss: 0.4536 - val_accuracy: 0.8136\n",
            "Epoch 14/100\n",
            "413/413 [==============================] - 0s 968us/step - loss: 0.0663 - accuracy: 0.9806 - val_loss: 0.4432 - val_accuracy: 0.8305\n",
            "Epoch 15/100\n",
            "413/413 [==============================] - 0s 974us/step - loss: 0.0564 - accuracy: 0.9855 - val_loss: 0.4811 - val_accuracy: 0.7797\n",
            "Epoch 16/100\n",
            "413/413 [==============================] - 0s 985us/step - loss: 0.0580 - accuracy: 0.9806 - val_loss: 0.4672 - val_accuracy: 0.8136\n",
            "Fold 2\n",
            "Train on 413 samples, validate on 59 samples\n",
            "Epoch 1/100\n",
            "413/413 [==============================] - 1s 1ms/step - loss: 1.6501 - accuracy: 0.6828 - val_loss: 0.8774 - val_accuracy: 0.6949\n",
            "Epoch 2/100\n",
            "413/413 [==============================] - 0s 973us/step - loss: 0.4817 - accuracy: 0.8039 - val_loss: 0.7387 - val_accuracy: 0.6102\n",
            "Epoch 3/100\n",
            "413/413 [==============================] - 0s 968us/step - loss: 0.2596 - accuracy: 0.8983 - val_loss: 0.6336 - val_accuracy: 0.6610\n",
            "Epoch 4/100\n",
            "413/413 [==============================] - 0s 956us/step - loss: 0.2062 - accuracy: 0.9249 - val_loss: 0.6140 - val_accuracy: 0.6610\n",
            "Epoch 5/100\n",
            "413/413 [==============================] - 0s 973us/step - loss: 0.1574 - accuracy: 0.9419 - val_loss: 0.6629 - val_accuracy: 0.7119\n",
            "Epoch 6/100\n",
            "413/413 [==============================] - 0s 977us/step - loss: 0.1276 - accuracy: 0.9492 - val_loss: 0.7281 - val_accuracy: 0.6610\n",
            "Epoch 7/100\n",
            "413/413 [==============================] - 0s 982us/step - loss: 0.1217 - accuracy: 0.9734 - val_loss: 0.7662 - val_accuracy: 0.6610\n",
            "Epoch 8/100\n",
            "413/413 [==============================] - 0s 961us/step - loss: 0.0775 - accuracy: 0.9831 - val_loss: 0.7934 - val_accuracy: 0.7458\n",
            "Epoch 9/100\n",
            "413/413 [==============================] - 0s 982us/step - loss: 0.1307 - accuracy: 0.9540 - val_loss: 0.7508 - val_accuracy: 0.7288\n",
            "Fold 3\n",
            "Train on 413 samples, validate on 59 samples\n",
            "Epoch 1/100\n",
            "413/413 [==============================] - 1s 1ms/step - loss: 2.2461 - accuracy: 0.6126 - val_loss: 0.3989 - val_accuracy: 0.8475\n",
            "Epoch 2/100\n",
            "413/413 [==============================] - 0s 978us/step - loss: 0.6589 - accuracy: 0.7990 - val_loss: 0.4264 - val_accuracy: 0.8644\n",
            "Epoch 3/100\n",
            "413/413 [==============================] - 0s 995us/step - loss: 0.3189 - accuracy: 0.8668 - val_loss: 0.3233 - val_accuracy: 0.8475\n",
            "Epoch 4/100\n",
            "413/413 [==============================] - 0s 960us/step - loss: 0.1816 - accuracy: 0.9370 - val_loss: 0.3066 - val_accuracy: 0.8644\n",
            "Epoch 5/100\n",
            "413/413 [==============================] - 0s 970us/step - loss: 0.1954 - accuracy: 0.9128 - val_loss: 0.5183 - val_accuracy: 0.8136\n",
            "Epoch 6/100\n",
            "413/413 [==============================] - 0s 955us/step - loss: 0.1303 - accuracy: 0.9467 - val_loss: 0.2729 - val_accuracy: 0.8644\n",
            "Epoch 7/100\n",
            "413/413 [==============================] - 0s 974us/step - loss: 0.0958 - accuracy: 0.9758 - val_loss: 0.2488 - val_accuracy: 0.8644\n",
            "Epoch 8/100\n",
            "413/413 [==============================] - 0s 991us/step - loss: 0.0966 - accuracy: 0.9758 - val_loss: 0.2757 - val_accuracy: 0.8644\n",
            "Epoch 9/100\n",
            "413/413 [==============================] - 0s 968us/step - loss: 0.0752 - accuracy: 0.9855 - val_loss: 0.2565 - val_accuracy: 0.8644\n",
            "Epoch 10/100\n",
            "413/413 [==============================] - 0s 988us/step - loss: 0.0758 - accuracy: 0.9758 - val_loss: 0.2500 - val_accuracy: 0.8644\n",
            "Epoch 11/100\n",
            "413/413 [==============================] - 0s 960us/step - loss: 0.0765 - accuracy: 0.9782 - val_loss: 0.2583 - val_accuracy: 0.8644\n",
            "Epoch 12/100\n",
            "413/413 [==============================] - 0s 969us/step - loss: 0.0562 - accuracy: 0.9782 - val_loss: 0.4709 - val_accuracy: 0.8475\n",
            "Fold 4\n",
            "Train on 413 samples, validate on 59 samples\n",
            "Epoch 1/100\n",
            "413/413 [==============================] - 1s 1ms/step - loss: 1.8698 - accuracy: 0.6513 - val_loss: 1.9231 - val_accuracy: 0.6441\n",
            "Epoch 2/100\n",
            "413/413 [==============================] - 0s 947us/step - loss: 0.4808 - accuracy: 0.8305 - val_loss: 0.5339 - val_accuracy: 0.6949\n",
            "Epoch 3/100\n",
            "413/413 [==============================] - 0s 975us/step - loss: 0.2975 - accuracy: 0.8959 - val_loss: 0.4806 - val_accuracy: 0.7288\n",
            "Epoch 4/100\n",
            "413/413 [==============================] - 0s 954us/step - loss: 0.2190 - accuracy: 0.9056 - val_loss: 0.4265 - val_accuracy: 0.7797\n",
            "Epoch 5/100\n",
            "413/413 [==============================] - 0s 956us/step - loss: 0.1771 - accuracy: 0.9249 - val_loss: 0.5684 - val_accuracy: 0.7119\n",
            "Epoch 6/100\n",
            "413/413 [==============================] - 0s 970us/step - loss: 0.1178 - accuracy: 0.9613 - val_loss: 0.4974 - val_accuracy: 0.7966\n",
            "Epoch 7/100\n",
            "413/413 [==============================] - 0s 967us/step - loss: 0.1389 - accuracy: 0.9588 - val_loss: 0.4734 - val_accuracy: 0.7627\n",
            "Epoch 8/100\n",
            "413/413 [==============================] - 0s 954us/step - loss: 0.1058 - accuracy: 0.9637 - val_loss: 0.5857 - val_accuracy: 0.7797\n",
            "Epoch 9/100\n",
            "413/413 [==============================] - 0s 950us/step - loss: 0.0874 - accuracy: 0.9709 - val_loss: 0.6296 - val_accuracy: 0.7458\n",
            "Fold 5\n",
            "Train on 413 samples, validate on 59 samples\n",
            "Epoch 1/100\n",
            "413/413 [==============================] - 1s 1ms/step - loss: 1.7177 - accuracy: 0.6441 - val_loss: 0.3820 - val_accuracy: 0.8305\n",
            "Epoch 2/100\n",
            "413/413 [==============================] - 0s 960us/step - loss: 0.4210 - accuracy: 0.8354 - val_loss: 0.3758 - val_accuracy: 0.8136\n",
            "Epoch 3/100\n",
            "413/413 [==============================] - 0s 958us/step - loss: 0.2620 - accuracy: 0.9080 - val_loss: 0.4058 - val_accuracy: 0.7797\n",
            "Epoch 4/100\n",
            "413/413 [==============================] - 0s 952us/step - loss: 0.2261 - accuracy: 0.9153 - val_loss: 0.3765 - val_accuracy: 0.8305\n",
            "Epoch 5/100\n",
            "413/413 [==============================] - 0s 930us/step - loss: 0.1729 - accuracy: 0.9419 - val_loss: 0.3232 - val_accuracy: 0.8305\n",
            "Epoch 6/100\n",
            "413/413 [==============================] - 0s 954us/step - loss: 0.1419 - accuracy: 0.9492 - val_loss: 0.2577 - val_accuracy: 0.8814\n",
            "Epoch 7/100\n",
            "413/413 [==============================] - 0s 962us/step - loss: 0.1058 - accuracy: 0.9637 - val_loss: 0.3229 - val_accuracy: 0.8475\n",
            "Epoch 8/100\n",
            "413/413 [==============================] - 0s 947us/step - loss: 0.0836 - accuracy: 0.9758 - val_loss: 0.3636 - val_accuracy: 0.8305\n",
            "Epoch 9/100\n",
            "413/413 [==============================] - 0s 945us/step - loss: 0.1074 - accuracy: 0.9613 - val_loss: 0.3735 - val_accuracy: 0.8305\n",
            "Epoch 10/100\n",
            "413/413 [==============================] - 0s 938us/step - loss: 0.0988 - accuracy: 0.9709 - val_loss: 0.3313 - val_accuracy: 0.7966\n",
            "Epoch 11/100\n",
            "413/413 [==============================] - 0s 952us/step - loss: 0.0965 - accuracy: 0.9661 - val_loss: 0.3354 - val_accuracy: 0.7797\n",
            "Fold 6\n",
            "Train on 413 samples, validate on 59 samples\n",
            "Epoch 1/100\n",
            "413/413 [==============================] - 1s 1ms/step - loss: 2.0972 - accuracy: 0.6683 - val_loss: 1.4933 - val_accuracy: 0.6949\n",
            "Epoch 2/100\n",
            "413/413 [==============================] - 0s 939us/step - loss: 0.6390 - accuracy: 0.8257 - val_loss: 1.2251 - val_accuracy: 0.6780\n",
            "Epoch 3/100\n",
            "413/413 [==============================] - 0s 956us/step - loss: 0.3614 - accuracy: 0.8596 - val_loss: 0.8662 - val_accuracy: 0.7627\n",
            "Epoch 4/100\n",
            "413/413 [==============================] - 0s 952us/step - loss: 0.1305 - accuracy: 0.9516 - val_loss: 0.7883 - val_accuracy: 0.7966\n",
            "Epoch 5/100\n",
            "413/413 [==============================] - 0s 940us/step - loss: 0.1293 - accuracy: 0.9516 - val_loss: 0.7751 - val_accuracy: 0.7119\n",
            "Epoch 6/100\n",
            "413/413 [==============================] - 0s 978us/step - loss: 0.0933 - accuracy: 0.9831 - val_loss: 0.7362 - val_accuracy: 0.7458\n",
            "Epoch 7/100\n",
            "413/413 [==============================] - 0s 937us/step - loss: 0.0601 - accuracy: 0.9806 - val_loss: 0.6843 - val_accuracy: 0.7627\n",
            "Epoch 8/100\n",
            "413/413 [==============================] - 0s 954us/step - loss: 0.0581 - accuracy: 0.9782 - val_loss: 0.6322 - val_accuracy: 0.7627\n",
            "Epoch 9/100\n",
            "413/413 [==============================] - 0s 968us/step - loss: 0.0593 - accuracy: 0.9782 - val_loss: 0.7383 - val_accuracy: 0.7966\n",
            "Epoch 10/100\n",
            "413/413 [==============================] - 0s 965us/step - loss: 0.0471 - accuracy: 0.9879 - val_loss: 0.8142 - val_accuracy: 0.7627\n",
            "Epoch 11/100\n",
            "413/413 [==============================] - 0s 943us/step - loss: 0.0295 - accuracy: 0.9927 - val_loss: 0.8247 - val_accuracy: 0.7627\n",
            "Epoch 12/100\n",
            "413/413 [==============================] - 0s 943us/step - loss: 0.0245 - accuracy: 0.9952 - val_loss: 0.9647 - val_accuracy: 0.7797\n",
            "Epoch 13/100\n",
            "413/413 [==============================] - 0s 970us/step - loss: 0.0198 - accuracy: 0.9952 - val_loss: 0.9848 - val_accuracy: 0.7627\n",
            "Fold 7\n",
            "Train on 413 samples, validate on 59 samples\n",
            "Epoch 1/100\n",
            "413/413 [==============================] - 1s 1ms/step - loss: 1.5637 - accuracy: 0.6199 - val_loss: 0.7471 - val_accuracy: 0.7119\n",
            "Epoch 2/100\n",
            "413/413 [==============================] - 0s 932us/step - loss: 0.6039 - accuracy: 0.7966 - val_loss: 0.3193 - val_accuracy: 0.8814\n",
            "Epoch 3/100\n",
            "413/413 [==============================] - 0s 960us/step - loss: 0.2681 - accuracy: 0.8886 - val_loss: 0.2912 - val_accuracy: 0.8983\n",
            "Epoch 4/100\n",
            "413/413 [==============================] - 0s 950us/step - loss: 0.1945 - accuracy: 0.9274 - val_loss: 0.2906 - val_accuracy: 0.8644\n",
            "Epoch 5/100\n",
            "413/413 [==============================] - 0s 950us/step - loss: 0.1414 - accuracy: 0.9467 - val_loss: 0.2904 - val_accuracy: 0.8644\n",
            "Epoch 6/100\n",
            "413/413 [==============================] - 0s 956us/step - loss: 0.1383 - accuracy: 0.9516 - val_loss: 0.3026 - val_accuracy: 0.8814\n",
            "Epoch 7/100\n",
            "413/413 [==============================] - 0s 948us/step - loss: 0.1076 - accuracy: 0.9734 - val_loss: 0.2212 - val_accuracy: 0.9322\n",
            "Epoch 8/100\n",
            "413/413 [==============================] - 0s 954us/step - loss: 0.1585 - accuracy: 0.9492 - val_loss: 0.2393 - val_accuracy: 0.9322\n",
            "Epoch 9/100\n",
            "413/413 [==============================] - 0s 946us/step - loss: 0.1179 - accuracy: 0.9613 - val_loss: 0.3036 - val_accuracy: 0.8814\n",
            "Epoch 10/100\n",
            "413/413 [==============================] - 0s 947us/step - loss: 0.1093 - accuracy: 0.9613 - val_loss: 0.2466 - val_accuracy: 0.9322\n",
            "Epoch 11/100\n",
            "413/413 [==============================] - 0s 963us/step - loss: 0.1026 - accuracy: 0.9661 - val_loss: 0.2278 - val_accuracy: 0.9322\n",
            "Epoch 12/100\n",
            "413/413 [==============================] - 0s 936us/step - loss: 0.0843 - accuracy: 0.9709 - val_loss: 0.2361 - val_accuracy: 0.9322\n",
            "Fold 8\n",
            "Train on 413 samples, validate on 59 samples\n",
            "Epoch 1/100\n",
            "413/413 [==============================] - 1s 1ms/step - loss: 1.6333 - accuracy: 0.6489 - val_loss: 0.7818 - val_accuracy: 0.7627\n",
            "Epoch 2/100\n",
            "413/413 [==============================] - 0s 943us/step - loss: 0.4968 - accuracy: 0.8111 - val_loss: 0.5228 - val_accuracy: 0.7966\n",
            "Epoch 3/100\n",
            "413/413 [==============================] - 0s 935us/step - loss: 0.2770 - accuracy: 0.8838 - val_loss: 0.3893 - val_accuracy: 0.8475\n",
            "Epoch 4/100\n",
            "413/413 [==============================] - 0s 992us/step - loss: 0.1651 - accuracy: 0.9249 - val_loss: 0.4285 - val_accuracy: 0.8644\n",
            "Epoch 5/100\n",
            "413/413 [==============================] - 0s 944us/step - loss: 0.1356 - accuracy: 0.9492 - val_loss: 0.5121 - val_accuracy: 0.8644\n",
            "Epoch 6/100\n",
            "413/413 [==============================] - 0s 962us/step - loss: 0.0928 - accuracy: 0.9685 - val_loss: 0.5158 - val_accuracy: 0.8305\n",
            "Epoch 7/100\n",
            "413/413 [==============================] - 0s 940us/step - loss: 0.0960 - accuracy: 0.9540 - val_loss: 0.5326 - val_accuracy: 0.8644\n",
            "Epoch 8/100\n",
            "413/413 [==============================] - 0s 944us/step - loss: 0.1082 - accuracy: 0.9734 - val_loss: 0.5370 - val_accuracy: 0.8475\n"
          ],
          "name": "stdout"
        }
      ]
    },
    {
      "cell_type": "code",
      "metadata": {
        "id": "-GvsuoqY0NZL",
        "colab_type": "code",
        "colab": {
          "base_uri": "https://localhost:8080/",
          "height": 34
        },
        "outputId": "662c0f06-5ce9-4141-e4e9-5f52191cbbea"
      },
      "source": [
        "zero_acc = 0\n",
        "one_acc = 0\n",
        "\n",
        "for i in accuracies:\n",
        "  zero_acc+= i[0]\n",
        "  one_acc+=i[1]\n",
        "\n",
        "zero_acc/=8\n",
        "one_acc/=8\n",
        "\n",
        "print(zero_acc, one_acc)"
      ],
      "execution_count": 91,
      "outputs": [
        {
          "output_type": "stream",
          "text": [
            "0.7895114942528736 0.8475574712643679\n"
          ],
          "name": "stdout"
        }
      ]
    },
    {
      "cell_type": "markdown",
      "metadata": {
        "id": "trKQU8cuMHQV",
        "colab_type": "text"
      },
      "source": [
        "Training on whole Training Dataset"
      ]
    },
    {
      "cell_type": "code",
      "metadata": {
        "id": "ppbMkhK2L0ov",
        "colab_type": "code",
        "colab": {}
      },
      "source": [
        "model = models.Sequential()\n",
        "model.add(layers.Dense(256, activation = 'relu', input_dim = 9*9*512))\n",
        "model.add(layers.Dropout(0.5))\n",
        "model.add(layers.Dense(1, activation = 'sigmoid'))\n",
        "model.compile(optimizer = optimizers.Adam(lr = 1e-3),loss = 'binary_crossentropy',metrics = ['accuracy'])\n",
        "my_callbacks = [EarlyStopping(monitor = 'val_loss', patience=5, restore_best_weights=True)]\n"
      ],
      "execution_count": 92,
      "outputs": []
    },
    {
      "cell_type": "code",
      "metadata": {
        "id": "Xncnp_xvNgcr",
        "colab_type": "code",
        "colab": {}
      },
      "source": [
        "xtest = np.load('gdrive/My Drive/pcb/xtest.npy')\n",
        "ytest = np.load('gdrive/My Drive/pcb/ytest.npy')\n"
      ],
      "execution_count": 93,
      "outputs": []
    },
    {
      "cell_type": "code",
      "metadata": {
        "id": "SDa1CkJ9NgfS",
        "colab_type": "code",
        "colab": {}
      },
      "source": [
        "datagentest = ImageDataGenerator(\n",
        "    featurewise_center = True,\n",
        "    featurewise_std_normalization = True\n",
        ")"
      ],
      "execution_count": 94,
      "outputs": []
    },
    {
      "cell_type": "code",
      "metadata": {
        "id": "uGEL70FTNglr",
        "colab_type": "code",
        "colab": {}
      },
      "source": [
        "datagentest.fit(xtest)"
      ],
      "execution_count": 95,
      "outputs": []
    },
    {
      "cell_type": "code",
      "metadata": {
        "id": "QS7XpHLiNgoa",
        "colab_type": "code",
        "colab": {
          "base_uri": "https://localhost:8080/",
          "height": 34
        },
        "outputId": "39637f31-ba16-4bba-c31b-f41f3b3ef1a6"
      },
      "source": [
        "testnos = ytest.shape[0]\n",
        "\n",
        "numittest = NumpyArrayIterator(\n",
        "    xtest, ytest, datagentest, batch_size=testnos, shuffle=False, sample_weight=None,\n",
        "    seed=None, data_format=None, save_to_dir=None, save_prefix='',\n",
        "    save_format='png', subset=None, dtype=None\n",
        ")\n",
        "\n",
        "\n",
        "test_samples = np.zeros(shape=(testnos,9,9,512))\n",
        "test_labels = np.zeros(shape=(testnos))\n",
        "for samples_batch,labels_batch in numittest:\n",
        "    g = conv_base.predict(samples_batch)\n",
        "    print(g.shape)\n",
        "    test_samples[::] = g\n",
        "    test_labels[:] = labels_batch\n",
        "    break"
      ],
      "execution_count": 99,
      "outputs": [
        {
          "output_type": "stream",
          "text": [
            "(552, 9, 9, 512)\n"
          ],
          "name": "stdout"
        }
      ]
    },
    {
      "cell_type": "code",
      "metadata": {
        "id": "0f37VOEUNgki",
        "colab_type": "code",
        "colab": {}
      },
      "source": [
        "test_samples = test_samples.reshape(testnos,9*9*512)"
      ],
      "execution_count": 100,
      "outputs": []
    },
    {
      "cell_type": "code",
      "metadata": {
        "id": "TR4pOMLsQBDO",
        "colab_type": "code",
        "colab": {}
      },
      "source": [
        "# To save memory\n",
        "del xtest\n",
        "del ytest"
      ],
      "execution_count": 101,
      "outputs": []
    },
    {
      "cell_type": "code",
      "metadata": {
        "id": "Ef_xxG8bNgiT",
        "colab_type": "code",
        "colab": {
          "base_uri": "https://localhost:8080/",
          "height": 340
        },
        "outputId": "a2e45922-a4aa-4f99-fbdd-b6d8f0f930e5"
      },
      "source": [
        "historytest = model.fit(samples, labels, epochs = 100, batch_size = 20, validation_data = (test_samples, test_labels), shuffle = True,  callbacks = my_callbacks)"
      ],
      "execution_count": 102,
      "outputs": [
        {
          "output_type": "stream",
          "text": [
            "Train on 472 samples, validate on 552 samples\n",
            "Epoch 1/100\n",
            "472/472 [==============================] - 1s 2ms/step - loss: 1.6124 - accuracy: 0.6992 - val_loss: 1.2413 - val_accuracy: 0.6051\n",
            "Epoch 2/100\n",
            "472/472 [==============================] - 1s 1ms/step - loss: 0.4857 - accuracy: 0.8220 - val_loss: 0.7223 - val_accuracy: 0.7319\n",
            "Epoch 3/100\n",
            "472/472 [==============================] - 1s 1ms/step - loss: 0.2787 - accuracy: 0.8835 - val_loss: 0.8662 - val_accuracy: 0.6812\n",
            "Epoch 4/100\n",
            "472/472 [==============================] - 1s 1ms/step - loss: 0.1825 - accuracy: 0.9301 - val_loss: 0.4512 - val_accuracy: 0.8134\n",
            "Epoch 5/100\n",
            "472/472 [==============================] - 1s 1ms/step - loss: 0.1377 - accuracy: 0.9576 - val_loss: 0.6727 - val_accuracy: 0.7627\n",
            "Epoch 6/100\n",
            "472/472 [==============================] - 1s 1ms/step - loss: 0.1281 - accuracy: 0.9513 - val_loss: 1.1811 - val_accuracy: 0.6250\n",
            "Epoch 7/100\n",
            "472/472 [==============================] - 1s 1ms/step - loss: 0.1067 - accuracy: 0.9576 - val_loss: 0.6321 - val_accuracy: 0.7880\n",
            "Epoch 8/100\n",
            "472/472 [==============================] - 1s 1ms/step - loss: 0.1035 - accuracy: 0.9640 - val_loss: 0.5091 - val_accuracy: 0.8315\n",
            "Epoch 9/100\n",
            "472/472 [==============================] - 1s 1ms/step - loss: 0.0776 - accuracy: 0.9725 - val_loss: 0.7793 - val_accuracy: 0.7210\n"
          ],
          "name": "stdout"
        }
      ]
    },
    {
      "cell_type": "code",
      "metadata": {
        "id": "jgbhA0dtNgaq",
        "colab_type": "code",
        "colab": {}
      },
      "source": [
        "test_preds = model.predict(test_samples, batch_size = 20)"
      ],
      "execution_count": 103,
      "outputs": []
    },
    {
      "cell_type": "code",
      "metadata": {
        "id": "I3oZ2uIBOrsm",
        "colab_type": "code",
        "colab": {}
      },
      "source": [
        "test_predclass = np.array([1.0 if i>0.5 else 0.0 for i in test_preds])"
      ],
      "execution_count": 104,
      "outputs": []
    },
    {
      "cell_type": "code",
      "metadata": {
        "id": "B9pW68K3Orxg",
        "colab_type": "code",
        "colab": {
          "base_uri": "https://localhost:8080/",
          "height": 34
        },
        "outputId": "f06ceb81-e84f-471c-a3fd-bbf8511bb1bb"
      },
      "source": [
        "confusion_matrix(test_labels,test_predclass)[0][0]/(test_labels == 0.0).sum(), confusion_matrix(test_labels,test_predclass)[1][1]/(test_labels == 1.0).sum()"
      ],
      "execution_count": 109,
      "outputs": [
        {
          "output_type": "execute_result",
          "data": {
            "text/plain": [
              "(0.711864406779661, 0.8255578093306288)"
            ]
          },
          "metadata": {
            "tags": []
          },
          "execution_count": 109
        }
      ]
    },
    {
      "cell_type": "code",
      "metadata": {
        "id": "MxapdKZhOr0Q",
        "colab_type": "code",
        "colab": {}
      },
      "source": [
        "# Saving model\n",
        "\n",
        "# model_json = model.to_json()\n",
        "# with open(\"gdrive/My Drive/models/VGG19_12.json\", \"w\") as json_file:\n",
        "#     json_file.write(model_json)"
      ],
      "execution_count": null,
      "outputs": []
    },
    {
      "cell_type": "code",
      "metadata": {
        "id": "rybw7Ry7Or2f",
        "colab_type": "code",
        "colab": {}
      },
      "source": [
        "# model.save_weights(\"gdrive/My Drive/models/VGG19_12.h5\")\n",
        "# print(\"Saved model to disk\")"
      ],
      "execution_count": null,
      "outputs": []
    },
    {
      "cell_type": "code",
      "metadata": {
        "id": "CumEUxIaOrve",
        "colab_type": "code",
        "colab": {}
      },
      "source": [
        "# Saving and loading models\n",
        "# https://machinelearningmastery.com/save-load-keras-deep-learning-models/"
      ],
      "execution_count": null,
      "outputs": []
    },
    {
      "cell_type": "code",
      "metadata": {
        "id": "xRJWd9bUHWa7",
        "colab_type": "code",
        "colab": {}
      },
      "source": [
        ""
      ],
      "execution_count": null,
      "outputs": []
    },
    {
      "cell_type": "code",
      "metadata": {
        "id": "hcaOhs5bHWfg",
        "colab_type": "code",
        "colab": {
          "base_uri": "https://localhost:8080/",
          "height": 163
        },
        "outputId": "674f23c9-755b-42a5-8450-34eb9f83a091"
      },
      "source": [
        ""
      ],
      "execution_count": 15,
      "outputs": [
        {
          "output_type": "error",
          "ename": "TypeError",
          "evalue": "ignored",
          "traceback": [
            "\u001b[0;31m---------------------------------------------------------------------------\u001b[0m",
            "\u001b[0;31mTypeError\u001b[0m                                 Traceback (most recent call last)",
            "\u001b[0;32m<ipython-input-15-010bb633e7c3>\u001b[0m in \u001b[0;36m<module>\u001b[0;34m()\u001b[0m\n\u001b[0;32m----> 1\u001b[0;31m \u001b[0mx\u001b[0m\u001b[0;34m(\u001b[0m\u001b[0ma\u001b[0m\u001b[0;34m)\u001b[0m\u001b[0;34m\u001b[0m\u001b[0;34m\u001b[0m\u001b[0m\n\u001b[0m",
            "\u001b[0;31mTypeError\u001b[0m: 'Tensor' object is not callable"
          ]
        }
      ]
    },
    {
      "cell_type": "code",
      "metadata": {
        "id": "Oech-RU0HWhX",
        "colab_type": "code",
        "colab": {}
      },
      "source": [
        ""
      ],
      "execution_count": null,
      "outputs": []
    }
  ]
}