{
  "nbformat": 4,
  "nbformat_minor": 0,
  "metadata": {
    "colab": {
      "name": "merging 0 of augpcb and 1 of raw pcb (not done) .ipynb",
      "provenance": [],
      "authorship_tag": "ABX9TyPscIv54poTx9z9WR7I1PgS",
      "include_colab_link": true
    },
    "kernelspec": {
      "name": "python3",
      "display_name": "Python 3"
    }
  },
  "cells": [
    {
      "cell_type": "markdown",
      "metadata": {
        "id": "view-in-github",
        "colab_type": "text"
      },
      "source": [
        "<a href=\"https://colab.research.google.com/github/shouvikcirca/PCB_Defect_Detection/blob/master/merging_0_of_augpcb_and_1_of_raw_pcb_(not_done).ipynb\" target=\"_parent\"><img src=\"https://colab.research.google.com/assets/colab-badge.svg\" alt=\"Open In Colab\"/></a>"
      ]
    },
    {
      "cell_type": "code",
      "metadata": {
        "id": "lpQtQyE-r4cq",
        "colab_type": "code",
        "colab": {}
      },
      "source": [
        "import torch\n",
        "import numpy as np\n",
        "import pickle"
      ],
      "execution_count": 0,
      "outputs": []
    },
    {
      "cell_type": "code",
      "metadata": {
        "id": "6nBiNjLosIbq",
        "colab_type": "code",
        "colab": {}
      },
      "source": [
        "from google.colab import drive\n",
        "drive.mount(\"/content/gdrive/\")"
      ],
      "execution_count": 0,
      "outputs": []
    },
    {
      "cell_type": "code",
      "metadata": {
        "id": "Y-jVSMKC4zFb",
        "colab_type": "code",
        "colab": {}
      },
      "source": [
        "x0 = pickle.load(open(\"gdrive/My Drive/x0.pkl\", 'rb'))\n",
        "y0 = pickle.load(open(\"gdrive/My Drive/y0.pkl\", 'rb'))"
      ],
      "execution_count": 0,
      "outputs": []
    },
    {
      "cell_type": "code",
      "metadata": {
        "id": "snmEtDyC-Lsy",
        "colab_type": "code",
        "colab": {
          "base_uri": "https://localhost:8080/",
          "height": 34
        },
        "outputId": "46e6a8b5-8a5d-4526-e4f2-69a2844ca569"
      },
      "source": [
        "(y0 == 0).sum(), (y0 == 1).sum()"
      ],
      "execution_count": 3,
      "outputs": [
        {
          "output_type": "execute_result",
          "data": {
            "text/plain": [
              "(2520, 0)"
            ]
          },
          "metadata": {
            "tags": []
          },
          "execution_count": 3
        }
      ]
    },
    {
      "cell_type": "code",
      "metadata": {
        "id": "28K3nNaT-Lza",
        "colab_type": "code",
        "colab": {}
      },
      "source": [
        ""
      ],
      "execution_count": 0,
      "outputs": []
    },
    {
      "cell_type": "code",
      "metadata": {
        "id": "vcHdHsAR5iu9",
        "colab_type": "code",
        "colab": {}
      },
      "source": [
        "x1 = np.load(\"gdrive/My Drive/X2669.npy\")\n",
        "y1 = np.load(\"gdrive/My Drive/y2669.npy\")"
      ],
      "execution_count": 0,
      "outputs": []
    },
    {
      "cell_type": "code",
      "metadata": {
        "id": "JBvMHnVa88B6",
        "colab_type": "code",
        "colab": {
          "base_uri": "https://localhost:8080/",
          "height": 34
        },
        "outputId": "eea04e63-531a-4f0f-cd9c-0a535c51658d"
      },
      "source": [
        "(y1 == 0.0).sum(), (y1 == 1.0).sum()"
      ],
      "execution_count": 5,
      "outputs": [
        {
          "output_type": "execute_result",
          "data": {
            "text/plain": [
              "(149, 2520)"
            ]
          },
          "metadata": {
            "tags": []
          },
          "execution_count": 5
        }
      ]
    },
    {
      "cell_type": "code",
      "metadata": {
        "id": "OiPDsFa_-Zuz",
        "colab_type": "code",
        "colab": {}
      },
      "source": [
        "xn = x1[y1 == 1.0]\n",
        "yn = y1[y1 == 1.0]"
      ],
      "execution_count": 0,
      "outputs": []
    },
    {
      "cell_type": "code",
      "metadata": {
        "id": "yuLTv9P0_EG6",
        "colab_type": "code",
        "colab": {}
      },
      "source": [
        "del x1\n",
        "del y1"
      ],
      "execution_count": 0,
      "outputs": []
    },
    {
      "cell_type": "code",
      "metadata": {
        "id": "KrRYqVqK-jk4",
        "colab_type": "code",
        "colab": {
          "base_uri": "https://localhost:8080/",
          "height": 34
        },
        "outputId": "d722995b-7303-418a-8155-f0adc1f2a30e"
      },
      "source": [
        "(yn == 0).sum(), (yn == 1).sum()"
      ],
      "execution_count": 8,
      "outputs": [
        {
          "output_type": "execute_result",
          "data": {
            "text/plain": [
              "(0, 2520)"
            ]
          },
          "metadata": {
            "tags": []
          },
          "execution_count": 8
        }
      ]
    },
    {
      "cell_type": "code",
      "metadata": {
        "id": "YRTfhcOx_Tsa",
        "colab_type": "code",
        "colab": {}
      },
      "source": [
        "xn = torch.from_numpy(xn)\n",
        "yn = torch.from_numpy(yn)"
      ],
      "execution_count": 0,
      "outputs": []
    },
    {
      "cell_type": "code",
      "metadata": {
        "id": "-Jwm7EEo_dBD",
        "colab_type": "code",
        "colab": {}
      },
      "source": [
        "x0 = torch.from_numpy(x0)\n",
        "y0 = torch.from_numpy(y0)"
      ],
      "execution_count": 0,
      "outputs": []
    },
    {
      "cell_type": "code",
      "metadata": {
        "id": "tRgJVOsZ_3-I",
        "colab_type": "code",
        "colab": {}
      },
      "source": [
        "x0 = x0.float()\n",
        "y0 = y0.float()\n",
        "xn = xn.float()\n",
        "yn = yn.float()"
      ],
      "execution_count": 0,
      "outputs": []
    },
    {
      "cell_type": "code",
      "metadata": {
        "id": "hlTS8FAcA68m",
        "colab_type": "code",
        "colab": {}
      },
      "source": [
        "pickle.dump(x0,open('gdrive/My Drive/x0s.pkl','wb'),protocol = 4)\n",
        "del x0\n",
        "pickle.dump(y0,open('gdrive/My Drive/y0s.pkl','wb'),protocol = 4)\n",
        "del y0\n",
        "pickle.dump(xn,open('gdrive/My Drive/xns.pkl','wb'),protocol = 4)\n",
        "del xn\n",
        "pickle.dump(xn,open('gdrive/My Drive/yns.pkl','wb'),protocol = 4)\n",
        "del yn"
      ],
      "execution_count": 0,
      "outputs": []
    }
  ]
}