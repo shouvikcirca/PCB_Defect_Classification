{
  "nbformat": 4,
  "nbformat_minor": 0,
  "metadata": {
    "accelerator": "GPU",
    "colab": {
      "name": "VGG19_pretrained.ipynb",
      "provenance": [],
      "toc_visible": true,
      "include_colab_link": true
    },
    "kernelspec": {
      "display_name": "Python 3",
      "language": "python",
      "name": "python3"
    },
    "language_info": {
      "codemirror_mode": {
        "name": "ipython",
        "version": 3
      },
      "file_extension": ".py",
      "mimetype": "text/x-python",
      "name": "python",
      "nbconvert_exporter": "python",
      "pygments_lexer": "ipython3",
      "version": "3.6.9"
    }
  },
  "cells": [
    {
      "cell_type": "markdown",
      "metadata": {
        "id": "view-in-github",
        "colab_type": "text"
      },
      "source": [
        "<a href=\"https://colab.research.google.com/github/shouvikcirca/PCB_Defect_Detection/blob/master/VGG19_pretrained.ipynb\" target=\"_parent\"><img src=\"https://colab.research.google.com/assets/colab-badge.svg\" alt=\"Open In Colab\"/></a>"
      ]
    },
    {
      "cell_type": "code",
      "metadata": {
        "colab_type": "code",
        "id": "mKdW-45kyBEr",
        "colab": {}
      },
      "source": [
        "import tensorflow as tf\n",
        "import keras \n",
        "from keras.applications import VGG19\n",
        "import numpy as np\n",
        "from keras.preprocessing.image import ImageDataGenerator, NumpyArrayIterator\n",
        "from keras.callbacks import EarlyStopping, ModelCheckpoint\n",
        "from sklearn.metrics import confusion_matrix\n",
        "from keras import models, layers, optimizers"
      ],
      "execution_count": null,
      "outputs": []
    },
    {
      "cell_type": "code",
      "metadata": {
        "colab_type": "code",
        "id": "O_hWsT8RyBE1",
        "colab": {}
      },
      "source": [
        "conv_base = VGG19(weights='imagenet', include_top = False, input_shape=(300,300,3))"
      ],
      "execution_count": null,
      "outputs": []
    },
    {
      "cell_type": "code",
      "metadata": {
        "colab_type": "code",
        "id": "HmJBnMc0yrOl",
        "colab": {}
      },
      "source": [
        "from google.colab import drive\n",
        "drive.mount(\"/content/gdrive/\")"
      ],
      "execution_count": null,
      "outputs": []
    },
    {
      "cell_type": "code",
      "metadata": {
        "colab_type": "code",
        "id": "jZpMhfh0yBFA",
        "colab": {}
      },
      "source": [
        "X = np.load(\"gdrive/My Drive/pcb/xtrain.npy\")\n",
        "y = np.load(\"gdrive/My Drive/pcb/ytrain.npy\")"
      ],
      "execution_count": null,
      "outputs": []
    },
    {
      "cell_type": "code",
      "metadata": {
        "id": "gLEHNpSCtRDv",
        "colab_type": "code",
        "colab": {}
      },
      "source": [
        "# Training set has 472 samples"
      ],
      "execution_count": null,
      "outputs": []
    },
    {
      "cell_type": "markdown",
      "metadata": {
        "id": "dH2UMi3oLXRj",
        "colab_type": "text"
      },
      "source": [
        "Training with k-fold Validation"
      ]
    },
    {
      "cell_type": "code",
      "metadata": {
        "id": "ylYElFUN0NfI",
        "colab_type": "code",
        "colab": {}
      },
      "source": [
        "X.shape, (y == 0).sum(), (y == 1).sum()"
      ],
      "execution_count": null,
      "outputs": []
    },
    {
      "cell_type": "code",
      "metadata": {
        "id": "BeQXJVZL4h7v",
        "colab_type": "code",
        "colab": {}
      },
      "source": [
        "datagen = ImageDataGenerator(\n",
        "    featurewise_center = True,\n",
        "    featurewise_std_normalization = True\n",
        ")\n",
        "\n",
        "datagen.fit(X)"
      ],
      "execution_count": null,
      "outputs": []
    },
    {
      "cell_type": "code",
      "metadata": {
        "id": "dNpL_TEj5BNb",
        "colab_type": "code",
        "colab": {}
      },
      "source": [
        "nos = X.shape[0]\n",
        "bs = int(nos/8)\n",
        "\n",
        "numit = NumpyArrayIterator(\n",
        "    X, y, datagen, batch_size=bs, shuffle=False, sample_weight=None,\n",
        "    seed=None, data_format=None, save_to_dir=None, save_prefix='',\n",
        "    save_format='png', subset=None, dtype=None\n",
        ")\n",
        "\n",
        "samples = np.zeros(shape=(nos,9,9,512))\n",
        "labels = np.zeros(shape=(nos))\n",
        "i = 0\n",
        "for samples_batch,labels_batch in numit:\n",
        "    f = conv_base.predict(samples_batch)\n",
        "    print(f.shape)\n",
        "    samples[i*bs:(i+1)*bs] = f\n",
        "    labels[i*bs:(i+1)*bs] = labels_batch\n",
        "    i+=1\n",
        "    if (i*bs)>=nos:\n",
        "        break"
      ],
      "execution_count": null,
      "outputs": []
    },
    {
      "cell_type": "code",
      "metadata": {
        "id": "l3RCnShl5iGN",
        "colab_type": "code",
        "colab": {}
      },
      "source": [
        "samples = samples.reshape(nos,9*9*512)"
      ],
      "execution_count": null,
      "outputs": []
    },
    {
      "cell_type": "code",
      "metadata": {
        "id": "hoBAWa2K5pXb",
        "colab_type": "code",
        "colab": {}
      },
      "source": [
        "samples.shape, labels.shape"
      ],
      "execution_count": null,
      "outputs": []
    },
    {
      "cell_type": "code",
      "metadata": {
        "id": "nSNmJgXP0Ndx",
        "colab_type": "code",
        "colab": {}
      },
      "source": [
        "from sklearn.model_selection import StratifiedKFold\n",
        "skf = StratifiedKFold(n_splits=8)\n",
        "\n",
        "accuracies = []\n",
        "f = 1\n",
        "\n",
        "for train_index, test_index in skf.split(samples, labels):\n",
        "        X_train = samples[train_index]\n",
        "        X_test = samples[test_index]\n",
        "        y_train = labels[train_index]\n",
        "        y_test = labels[test_index]\n",
        "      \n",
        "        model = models.Sequential()\n",
        "        model.add(layers.Dense(256, activation = 'relu', input_dim = 9*9*512))\n",
        "        model.add(layers.Dropout(0.5))\n",
        "        model.add(layers.Dense(1, activation = 'sigmoid'))\n",
        "        model.compile(optimizer = optimizers.Adam(lr = 1e-3),loss = 'binary_crossentropy',metrics = ['accuracy'])\n",
        "        my_callbacks = [EarlyStopping(monitor = 'val_loss', patience=5, restore_best_weights=True)]\n",
        "\n",
        "        print('Fold {}'.format(f))\n",
        "        history = model.fit(X_train, y_train, epochs = 100, batch_size = 20, validation_data = (X_test, y_test), shuffle = True, callbacks = my_callbacks)\n",
        "\n",
        "        test_preds = model.predict(X_test, batch_size = 20)\n",
        "        test_predclass = np.array([1.0 if i>0.5 else 0.0 for i in test_preds])\n",
        "\n",
        "        accuracies.append([confusion_matrix(y_test,test_predclass)[0][0]/(y_test == 0.0).sum(), confusion_matrix(y_test,test_predclass)[1][1]/(y_test == 1.0).sum()])\n",
        "        f+=1\n"
      ],
      "execution_count": null,
      "outputs": []
    },
    {
      "cell_type": "code",
      "metadata": {
        "id": "-GvsuoqY0NZL",
        "colab_type": "code",
        "colab": {}
      },
      "source": [
        "zero_acc = 0\n",
        "one_acc = 0\n",
        "\n",
        "for i in accuracies:\n",
        "  zero_acc+= i[0]\n",
        "  one_acc+=i[1]\n",
        "\n",
        "zero_acc/=8\n",
        "one_acc/=8\n",
        "\n",
        "print(zero_acc, one_acc)"
      ],
      "execution_count": null,
      "outputs": []
    },
    {
      "cell_type": "markdown",
      "metadata": {
        "id": "trKQU8cuMHQV",
        "colab_type": "text"
      },
      "source": [
        "Training on whole Training Dataset"
      ]
    },
    {
      "cell_type": "code",
      "metadata": {
        "id": "ppbMkhK2L0ov",
        "colab_type": "code",
        "colab": {}
      },
      "source": [
        "model = models.Sequential()\n",
        "model.add(layers.Dense(256, activation = 'relu', input_dim = 9*9*512))\n",
        "model.add(layers.Dropout(0.5))\n",
        "model.add(layers.Dense(1, activation = 'sigmoid'))\n",
        "model.compile(optimizer = optimizers.Adam(lr = 1e-3),loss = 'binary_crossentropy',metrics = ['accuracy'])\n",
        "my_callbacks = [EarlyStopping(monitor = 'val_loss', patience=5, restore_best_weights=True)]\n"
      ],
      "execution_count": null,
      "outputs": []
    },
    {
      "cell_type": "code",
      "metadata": {
        "id": "Xncnp_xvNgcr",
        "colab_type": "code",
        "colab": {}
      },
      "source": [
        "xtest = np.load('gdrive/My Drive/pcb/xtest.npy')\n",
        "ytest = np.load('gdrive/My Drive/pcb/ytest.npy')\n"
      ],
      "execution_count": null,
      "outputs": []
    },
    {
      "cell_type": "code",
      "metadata": {
        "id": "SDa1CkJ9NgfS",
        "colab_type": "code",
        "colab": {}
      },
      "source": [
        "datagentest = ImageDataGenerator(\n",
        "    featurewise_center = True,\n",
        "    featurewise_std_normalization = True\n",
        ")"
      ],
      "execution_count": null,
      "outputs": []
    },
    {
      "cell_type": "code",
      "metadata": {
        "id": "uGEL70FTNglr",
        "colab_type": "code",
        "colab": {}
      },
      "source": [
        "datagentest.fit(xtest)"
      ],
      "execution_count": null,
      "outputs": []
    },
    {
      "cell_type": "code",
      "metadata": {
        "id": "QS7XpHLiNgoa",
        "colab_type": "code",
        "colab": {}
      },
      "source": [
        "testnos = ytest.shape[0]\n",
        "\n",
        "numittest = NumpyArrayIterator(\n",
        "    xtest, ytest, datagentest, batch_size=testnos, shuffle=False, sample_weight=None,\n",
        "    seed=None, data_format=None, save_to_dir=None, save_prefix='',\n",
        "    save_format='png', subset=None, dtype=None\n",
        ")\n",
        "\n",
        "\n",
        "test_samples = np.zeros(shape=(testnos,9,9,512))\n",
        "test_labels = np.zeros(shape=(testnos))\n",
        "for samples_batch,labels_batch in numittest:\n",
        "    g = conv_base.predict(samples_batch)\n",
        "    print(g.shape)\n",
        "    test_samples[::] = g\n",
        "    test_labels[:] = labels_batch\n",
        "    break"
      ],
      "execution_count": null,
      "outputs": []
    },
    {
      "cell_type": "code",
      "metadata": {
        "id": "0f37VOEUNgki",
        "colab_type": "code",
        "colab": {}
      },
      "source": [
        "test_samples = test_samples.reshape(testnos,9*9*512)"
      ],
      "execution_count": null,
      "outputs": []
    },
    {
      "cell_type": "code",
      "metadata": {
        "id": "Ef_xxG8bNgiT",
        "colab_type": "code",
        "colab": {}
      },
      "source": [
        "historytest = model.fit(samples, labels, epochs = 100, batch_size = 20, validation_data = (test_samples, test_labels), shuffle = True,  callbacks = my_callbacks)"
      ],
      "execution_count": null,
      "outputs": []
    },
    {
      "cell_type": "code",
      "metadata": {
        "id": "jgbhA0dtNgaq",
        "colab_type": "code",
        "colab": {}
      },
      "source": [
        "test_preds = model.predict(test_samples, batch_size = 20)"
      ],
      "execution_count": null,
      "outputs": []
    },
    {
      "cell_type": "code",
      "metadata": {
        "id": "I3oZ2uIBOrsm",
        "colab_type": "code",
        "colab": {}
      },
      "source": [
        "test_predclass = np.array([1.0 if i>0.5 else 0.0 for i in test_preds])"
      ],
      "execution_count": null,
      "outputs": []
    },
    {
      "cell_type": "code",
      "metadata": {
        "id": "B9pW68K3Orxg",
        "colab_type": "code",
        "colab": {}
      },
      "source": [
        "confusion_matrix(test_labels,test_predclass)[0][0]/(ytest == 0.0).sum(), confusion_matrix(test_labels,test_predclass)[1][1]/(ytest == 1.0).sum()"
      ],
      "execution_count": null,
      "outputs": []
    },
    {
      "cell_type": "code",
      "metadata": {
        "id": "MxapdKZhOr0Q",
        "colab_type": "code",
        "colab": {}
      },
      "source": [
        "# Saving model\n",
        "\n",
        "# model_json = model.to_json()\n",
        "# with open(\"gdrive/My Drive/models/VGG19_12.json\", \"w\") as json_file:\n",
        "#     json_file.write(model_json)"
      ],
      "execution_count": null,
      "outputs": []
    },
    {
      "cell_type": "code",
      "metadata": {
        "id": "rybw7Ry7Or2f",
        "colab_type": "code",
        "colab": {}
      },
      "source": [
        "# model.save_weights(\"gdrive/My Drive/models/VGG19_12.h5\")\n",
        "# print(\"Saved model to disk\")"
      ],
      "execution_count": null,
      "outputs": []
    },
    {
      "cell_type": "code",
      "metadata": {
        "id": "CumEUxIaOrve",
        "colab_type": "code",
        "colab": {}
      },
      "source": [
        "# Saving and loading models\n",
        "# https://machinelearningmastery.com/save-load-keras-deep-learning-models/"
      ],
      "execution_count": null,
      "outputs": []
    }
  ]
}