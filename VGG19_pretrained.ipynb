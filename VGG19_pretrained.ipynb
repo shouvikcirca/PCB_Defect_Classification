{
  "nbformat": 4,
  "nbformat_minor": 0,
  "metadata": {
    "accelerator": "GPU",
    "colab": {
      "name": "VGG19_pretrained.ipynb",
      "provenance": [],
      "toc_visible": true,
      "include_colab_link": true
    },
    "kernelspec": {
      "display_name": "Python 3",
      "language": "python",
      "name": "python3"
    },
    "language_info": {
      "codemirror_mode": {
        "name": "ipython",
        "version": 3
      },
      "file_extension": ".py",
      "mimetype": "text/x-python",
      "name": "python",
      "nbconvert_exporter": "python",
      "pygments_lexer": "ipython3",
      "version": "3.6.9"
    }
  },
  "cells": [
    {
      "cell_type": "markdown",
      "metadata": {
        "id": "view-in-github",
        "colab_type": "text"
      },
      "source": [
        "<a href=\"https://colab.research.google.com/github/shouvikcirca/PCB_Defect_Detection/blob/master/VGG19_pretrained.ipynb\" target=\"_parent\"><img src=\"https://colab.research.google.com/assets/colab-badge.svg\" alt=\"Open In Colab\"/></a>"
      ]
    },
    {
      "cell_type": "code",
      "metadata": {
        "colab_type": "code",
        "id": "mKdW-45kyBEr",
        "colab": {}
      },
      "source": [
        "import tensorflow as tf\n",
        "import keras \n",
        "from keras.applications import VGG19\n",
        "import numpy as np\n",
        "from keras.preprocessing.image import ImageDataGenerator, NumpyArrayIterator\n",
        "from keras.callbacks import EarlyStopping, ModelCheckpoint\n",
        "from sklearn.metrics import confusion_matrix\n",
        "from keras import models, layers, optimizers"
      ],
      "execution_count": 3,
      "outputs": []
    },
    {
      "cell_type": "code",
      "metadata": {
        "colab_type": "code",
        "id": "O_hWsT8RyBE1",
        "colab": {
          "base_uri": "https://localhost:8080/",
          "height": 51
        },
        "outputId": "4e0e9975-d6b4-417d-b152-cbc7cd5ffe80"
      },
      "source": [
        "conv_base = VGG19(weights='imagenet', include_top = False, input_shape=(300,300,3))"
      ],
      "execution_count": 4,
      "outputs": [
        {
          "output_type": "stream",
          "text": [
            "Downloading data from https://github.com/fchollet/deep-learning-models/releases/download/v0.1/vgg19_weights_tf_dim_ordering_tf_kernels_notop.h5\n",
            "80142336/80134624 [==============================] - 1s 0us/step\n"
          ],
          "name": "stdout"
        }
      ]
    },
    {
      "cell_type": "code",
      "metadata": {
        "colab_type": "code",
        "id": "HmJBnMc0yrOl",
        "colab": {}
      },
      "source": [
        "from google.colab import drive\n",
        "drive.mount(\"/content/gdrive/\")"
      ],
      "execution_count": null,
      "outputs": []
    },
    {
      "cell_type": "code",
      "metadata": {
        "colab_type": "code",
        "id": "jZpMhfh0yBFA",
        "colab": {}
      },
      "source": [
        "X = np.load(\"gdrive/My Drive/pcb/xtrain.npy\")\n",
        "y = np.load(\"gdrive/My Drive/pcb/ytrain.npy\")"
      ],
      "execution_count": 7,
      "outputs": []
    },
    {
      "cell_type": "code",
      "metadata": {
        "id": "gLEHNpSCtRDv",
        "colab_type": "code",
        "colab": {}
      },
      "source": [
        "# Training set has 472 samples"
      ],
      "execution_count": null,
      "outputs": []
    },
    {
      "cell_type": "markdown",
      "metadata": {
        "id": "dH2UMi3oLXRj",
        "colab_type": "text"
      },
      "source": [
        "Training with k-fold Validation"
      ]
    },
    {
      "cell_type": "code",
      "metadata": {
        "id": "ylYElFUN0NfI",
        "colab_type": "code",
        "colab": {
          "base_uri": "https://localhost:8080/",
          "height": 34
        },
        "outputId": "fa908948-aeb8-4a25-eaeb-2277590d688a"
      },
      "source": [
        "X.shape, (y == 0).sum(), (y == 1).sum()"
      ],
      "execution_count": 8,
      "outputs": [
        {
          "output_type": "execute_result",
          "data": {
            "text/plain": [
              "((472, 300, 300, 3), 236, 236)"
            ]
          },
          "metadata": {
            "tags": []
          },
          "execution_count": 8
        }
      ]
    },
    {
      "cell_type": "code",
      "metadata": {
        "id": "BeQXJVZL4h7v",
        "colab_type": "code",
        "colab": {}
      },
      "source": [
        "datagen = ImageDataGenerator(\n",
        "    featurewise_center = True,\n",
        "    featurewise_std_normalization = True\n",
        ")\n",
        "\n",
        "datagen.fit(X)"
      ],
      "execution_count": 9,
      "outputs": []
    },
    {
      "cell_type": "code",
      "metadata": {
        "id": "dNpL_TEj5BNb",
        "colab_type": "code",
        "colab": {
          "base_uri": "https://localhost:8080/",
          "height": 153
        },
        "outputId": "e6bc13c0-2219-4462-d1e5-026915877e31"
      },
      "source": [
        "nos = X.shape[0]\n",
        "bs = int(nos/8)\n",
        "\n",
        "numit = NumpyArrayIterator(\n",
        "    X, y, datagen, batch_size=bs, shuffle=False, sample_weight=None,\n",
        "    seed=None, data_format=None, save_to_dir=None, save_prefix='',\n",
        "    save_format='png', subset=None, dtype=None\n",
        ")\n",
        "\n",
        "samples = np.zeros(shape=(nos,9,9,512))\n",
        "labels = np.zeros(shape=(nos))\n",
        "i = 0\n",
        "for samples_batch,labels_batch in numit:\n",
        "    f = conv_base.predict(samples_batch)\n",
        "    print(f.shape)\n",
        "    samples[i*bs:(i+1)*bs] = f\n",
        "    labels[i*bs:(i+1)*bs] = labels_batch\n",
        "    i+=1\n",
        "    if (i*bs)>=nos:\n",
        "        break"
      ],
      "execution_count": 10,
      "outputs": [
        {
          "output_type": "stream",
          "text": [
            "(59, 9, 9, 512)\n",
            "(59, 9, 9, 512)\n",
            "(59, 9, 9, 512)\n",
            "(59, 9, 9, 512)\n",
            "(59, 9, 9, 512)\n",
            "(59, 9, 9, 512)\n",
            "(59, 9, 9, 512)\n",
            "(59, 9, 9, 512)\n"
          ],
          "name": "stdout"
        }
      ]
    },
    {
      "cell_type": "code",
      "metadata": {
        "id": "l3RCnShl5iGN",
        "colab_type": "code",
        "colab": {}
      },
      "source": [
        "samples = samples.reshape(nos,9*9*512)"
      ],
      "execution_count": 11,
      "outputs": []
    },
    {
      "cell_type": "code",
      "metadata": {
        "id": "hoBAWa2K5pXb",
        "colab_type": "code",
        "colab": {
          "base_uri": "https://localhost:8080/",
          "height": 34
        },
        "outputId": "c81e1b03-ff44-46a7-e40f-4cec5d902006"
      },
      "source": [
        "samples.shape, labels.shape"
      ],
      "execution_count": 12,
      "outputs": [
        {
          "output_type": "execute_result",
          "data": {
            "text/plain": [
              "((472, 41472), (472,))"
            ]
          },
          "metadata": {
            "tags": []
          },
          "execution_count": 12
        }
      ]
    },
    {
      "cell_type": "code",
      "metadata": {
        "id": "nSNmJgXP0Ndx",
        "colab_type": "code",
        "colab": {
          "base_uri": "https://localhost:8080/",
          "height": 1000
        },
        "outputId": "cec7d9e8-b7f1-4de7-a690-27e9b167d8b3"
      },
      "source": [
        "from sklearn.model_selection import StratifiedKFold\n",
        "skf = StratifiedKFold(n_splits=8)\n",
        "\n",
        "accuracies = []\n",
        "f = 1\n",
        "\n",
        "for train_index, test_index in skf.split(samples, labels):\n",
        "        X_train = samples[train_index]\n",
        "        X_test = samples[test_index]\n",
        "        y_train = labels[train_index]\n",
        "        y_test = labels[test_index]\n",
        "      \n",
        "        model = models.Sequential()\n",
        "        model.add(layers.Dense(256, activation = 'relu', input_dim = 9*9*512))\n",
        "        model.add(layers.Dropout(0.5))\n",
        "        model.add(layers.Dense(1, activation = 'sigmoid'))\n",
        "        model.compile(optimizer = optimizers.Adam(lr = 1e-3),loss = 'binary_crossentropy',metrics = ['accuracy'])\n",
        "        my_callbacks = [EarlyStopping(monitor = 'val_loss', patience=5, restore_best_weights=True)]\n",
        "\n",
        "        print('Fold {}'.format(f))\n",
        "        history = model.fit(X_train, y_train, epochs = 100, batch_size = 20, validation_data = (X_test, y_test), shuffle = True, callbacks = my_callbacks)\n",
        "\n",
        "        test_preds = model.predict(X_test, batch_size = 20)\n",
        "        test_predclass = np.array([1.0 if i>0.5 else 0.0 for i in test_preds])\n",
        "\n",
        "        accuracies.append([confusion_matrix(y_test,test_predclass)[0][0]/(y_test == 0.0).sum(), confusion_matrix(y_test,test_predclass)[1][1]/(y_test == 1.0).sum()])\n",
        "        f+=1\n"
      ],
      "execution_count": 31,
      "outputs": [
        {
          "output_type": "stream",
          "text": [
            "Fold 1\n",
            "Train on 413 samples, validate on 59 samples\n",
            "Epoch 1/100\n",
            "413/413 [==============================] - 1s 1ms/step - loss: 2.4254 - accuracy: 0.6077 - val_loss: 1.0512 - val_accuracy: 0.7288\n",
            "Epoch 2/100\n",
            "413/413 [==============================] - 0s 957us/step - loss: 0.6141 - accuracy: 0.8136 - val_loss: 0.5468 - val_accuracy: 0.6949\n",
            "Epoch 3/100\n",
            "413/413 [==============================] - 0s 966us/step - loss: 0.2909 - accuracy: 0.8814 - val_loss: 0.4512 - val_accuracy: 0.7627\n",
            "Epoch 4/100\n",
            "413/413 [==============================] - 0s 906us/step - loss: 0.2065 - accuracy: 0.9225 - val_loss: 0.4113 - val_accuracy: 0.7966\n",
            "Epoch 5/100\n",
            "413/413 [==============================] - 0s 916us/step - loss: 0.1731 - accuracy: 0.9346 - val_loss: 0.4942 - val_accuracy: 0.7627\n",
            "Epoch 6/100\n",
            "413/413 [==============================] - 0s 924us/step - loss: 0.1466 - accuracy: 0.9637 - val_loss: 0.3943 - val_accuracy: 0.8475\n",
            "Epoch 7/100\n",
            "413/413 [==============================] - 0s 913us/step - loss: 0.1191 - accuracy: 0.9613 - val_loss: 0.4641 - val_accuracy: 0.8305\n",
            "Epoch 8/100\n",
            "413/413 [==============================] - 0s 927us/step - loss: 0.1113 - accuracy: 0.9661 - val_loss: 0.4762 - val_accuracy: 0.8475\n",
            "Epoch 9/100\n",
            "413/413 [==============================] - 0s 926us/step - loss: 0.1263 - accuracy: 0.9588 - val_loss: 0.5100 - val_accuracy: 0.7797\n",
            "Epoch 10/100\n",
            "413/413 [==============================] - 0s 929us/step - loss: 0.0856 - accuracy: 0.9661 - val_loss: 0.4621 - val_accuracy: 0.8305\n",
            "Epoch 11/100\n",
            "413/413 [==============================] - 0s 933us/step - loss: 0.0714 - accuracy: 0.9758 - val_loss: 0.4340 - val_accuracy: 0.8644\n",
            "Fold 2\n",
            "Train on 413 samples, validate on 59 samples\n",
            "Epoch 1/100\n",
            "413/413 [==============================] - 1s 1ms/step - loss: 1.5703 - accuracy: 0.6392 - val_loss: 0.5511 - val_accuracy: 0.6949\n",
            "Epoch 2/100\n",
            "413/413 [==============================] - 0s 915us/step - loss: 0.3939 - accuracy: 0.8281 - val_loss: 0.5503 - val_accuracy: 0.6780\n",
            "Epoch 3/100\n",
            "413/413 [==============================] - 0s 920us/step - loss: 0.2784 - accuracy: 0.9056 - val_loss: 0.5522 - val_accuracy: 0.6780\n",
            "Epoch 4/100\n",
            "413/413 [==============================] - 0s 909us/step - loss: 0.2119 - accuracy: 0.9080 - val_loss: 0.6051 - val_accuracy: 0.6949\n",
            "Epoch 5/100\n",
            "413/413 [==============================] - 0s 921us/step - loss: 0.1807 - accuracy: 0.9298 - val_loss: 0.6098 - val_accuracy: 0.7119\n",
            "Epoch 6/100\n",
            "413/413 [==============================] - 0s 953us/step - loss: 0.1520 - accuracy: 0.9540 - val_loss: 0.6955 - val_accuracy: 0.7119\n",
            "Epoch 7/100\n",
            "413/413 [==============================] - 0s 940us/step - loss: 0.1348 - accuracy: 0.9395 - val_loss: 0.6950 - val_accuracy: 0.7627\n",
            "Fold 3\n",
            "Train on 413 samples, validate on 59 samples\n",
            "Epoch 1/100\n",
            "413/413 [==============================] - 0s 1ms/step - loss: 1.7110 - accuracy: 0.6731 - val_loss: 1.0602 - val_accuracy: 0.6780\n",
            "Epoch 2/100\n",
            "413/413 [==============================] - 0s 980us/step - loss: 0.6676 - accuracy: 0.7748 - val_loss: 0.3844 - val_accuracy: 0.7797\n",
            "Epoch 3/100\n",
            "413/413 [==============================] - 0s 924us/step - loss: 0.3598 - accuracy: 0.8329 - val_loss: 0.3538 - val_accuracy: 0.7966\n",
            "Epoch 4/100\n",
            "413/413 [==============================] - 0s 953us/step - loss: 0.2471 - accuracy: 0.9007 - val_loss: 0.3162 - val_accuracy: 0.8644\n",
            "Epoch 5/100\n",
            "413/413 [==============================] - 0s 942us/step - loss: 0.1980 - accuracy: 0.9298 - val_loss: 0.2826 - val_accuracy: 0.8983\n",
            "Epoch 6/100\n",
            "413/413 [==============================] - 0s 930us/step - loss: 0.1505 - accuracy: 0.9419 - val_loss: 0.4777 - val_accuracy: 0.8305\n",
            "Epoch 7/100\n",
            "413/413 [==============================] - 0s 954us/step - loss: 0.1367 - accuracy: 0.9419 - val_loss: 0.4135 - val_accuracy: 0.8305\n",
            "Epoch 8/100\n",
            "413/413 [==============================] - 0s 941us/step - loss: 0.1285 - accuracy: 0.9395 - val_loss: 0.3924 - val_accuracy: 0.8475\n",
            "Epoch 9/100\n",
            "413/413 [==============================] - 0s 966us/step - loss: 0.1041 - accuracy: 0.9613 - val_loss: 0.3928 - val_accuracy: 0.8644\n",
            "Epoch 10/100\n",
            "413/413 [==============================] - 0s 950us/step - loss: 0.1174 - accuracy: 0.9637 - val_loss: 0.3331 - val_accuracy: 0.8814\n",
            "Fold 4\n",
            "Train on 413 samples, validate on 59 samples\n",
            "Epoch 1/100\n",
            "413/413 [==============================] - 1s 1ms/step - loss: 2.9678 - accuracy: 0.6029 - val_loss: 1.4064 - val_accuracy: 0.7119\n",
            "Epoch 2/100\n",
            "413/413 [==============================] - 0s 947us/step - loss: 0.8388 - accuracy: 0.7385 - val_loss: 0.5453 - val_accuracy: 0.6271\n",
            "Epoch 3/100\n",
            "413/413 [==============================] - 0s 925us/step - loss: 0.3354 - accuracy: 0.8475 - val_loss: 0.5116 - val_accuracy: 0.6441\n",
            "Epoch 4/100\n",
            "413/413 [==============================] - 0s 935us/step - loss: 0.2421 - accuracy: 0.9128 - val_loss: 0.4414 - val_accuracy: 0.7458\n",
            "Epoch 5/100\n",
            "413/413 [==============================] - 0s 937us/step - loss: 0.1601 - accuracy: 0.9564 - val_loss: 0.5885 - val_accuracy: 0.6780\n",
            "Epoch 6/100\n",
            "413/413 [==============================] - 0s 921us/step - loss: 0.1434 - accuracy: 0.9564 - val_loss: 0.5702 - val_accuracy: 0.6949\n",
            "Epoch 7/100\n",
            "413/413 [==============================] - 0s 938us/step - loss: 0.1593 - accuracy: 0.9346 - val_loss: 0.5219 - val_accuracy: 0.7627\n",
            "Epoch 8/100\n",
            "413/413 [==============================] - 0s 930us/step - loss: 0.1425 - accuracy: 0.9516 - val_loss: 0.5244 - val_accuracy: 0.7627\n",
            "Epoch 9/100\n",
            "413/413 [==============================] - 0s 937us/step - loss: 0.1015 - accuracy: 0.9661 - val_loss: 0.5563 - val_accuracy: 0.7797\n",
            "Fold 5\n",
            "Train on 413 samples, validate on 59 samples\n",
            "Epoch 1/100\n",
            "413/413 [==============================] - 1s 1ms/step - loss: 2.5847 - accuracy: 0.5981 - val_loss: 0.5166 - val_accuracy: 0.7288\n",
            "Epoch 2/100\n",
            "413/413 [==============================] - 0s 916us/step - loss: 0.4954 - accuracy: 0.7724 - val_loss: 0.4536 - val_accuracy: 0.7458\n",
            "Epoch 3/100\n",
            "413/413 [==============================] - 0s 914us/step - loss: 0.3453 - accuracy: 0.8547 - val_loss: 0.4430 - val_accuracy: 0.7627\n",
            "Epoch 4/100\n",
            "413/413 [==============================] - 0s 965us/step - loss: 0.2916 - accuracy: 0.8838 - val_loss: 0.4220 - val_accuracy: 0.7797\n",
            "Epoch 5/100\n",
            "413/413 [==============================] - 0s 977us/step - loss: 0.2470 - accuracy: 0.9080 - val_loss: 0.3619 - val_accuracy: 0.8136\n",
            "Epoch 6/100\n",
            "413/413 [==============================] - 0s 919us/step - loss: 0.2266 - accuracy: 0.9201 - val_loss: 0.3715 - val_accuracy: 0.7627\n",
            "Epoch 7/100\n",
            "413/413 [==============================] - 0s 917us/step - loss: 0.1710 - accuracy: 0.9419 - val_loss: 0.3982 - val_accuracy: 0.8305\n",
            "Epoch 8/100\n",
            "413/413 [==============================] - 0s 929us/step - loss: 0.1585 - accuracy: 0.9516 - val_loss: 0.4907 - val_accuracy: 0.8136\n",
            "Epoch 9/100\n",
            "413/413 [==============================] - 0s 937us/step - loss: 0.1358 - accuracy: 0.9661 - val_loss: 0.3589 - val_accuracy: 0.7966\n",
            "Epoch 10/100\n",
            "413/413 [==============================] - 0s 920us/step - loss: 0.1320 - accuracy: 0.9540 - val_loss: 0.4235 - val_accuracy: 0.8136\n",
            "Epoch 11/100\n",
            "413/413 [==============================] - 0s 942us/step - loss: 0.1301 - accuracy: 0.9588 - val_loss: 0.4341 - val_accuracy: 0.8136\n",
            "Epoch 12/100\n",
            "413/413 [==============================] - 0s 926us/step - loss: 0.1032 - accuracy: 0.9637 - val_loss: 0.4091 - val_accuracy: 0.7627\n",
            "Epoch 13/100\n",
            "413/413 [==============================] - 0s 932us/step - loss: 0.1162 - accuracy: 0.9516 - val_loss: 0.4118 - val_accuracy: 0.8305\n",
            "Epoch 14/100\n",
            "413/413 [==============================] - 0s 925us/step - loss: 0.0952 - accuracy: 0.9709 - val_loss: 0.5718 - val_accuracy: 0.8305\n",
            "Fold 6\n",
            "Train on 413 samples, validate on 59 samples\n",
            "Epoch 1/100\n",
            "413/413 [==============================] - 1s 1ms/step - loss: 2.2779 - accuracy: 0.6441 - val_loss: 0.8992 - val_accuracy: 0.6949\n",
            "Epoch 2/100\n",
            "413/413 [==============================] - 0s 925us/step - loss: 0.5384 - accuracy: 0.8136 - val_loss: 0.5773 - val_accuracy: 0.7458\n",
            "Epoch 3/100\n",
            "413/413 [==============================] - 0s 946us/step - loss: 0.2949 - accuracy: 0.8862 - val_loss: 0.5440 - val_accuracy: 0.7288\n",
            "Epoch 4/100\n",
            "413/413 [==============================] - 0s 943us/step - loss: 0.2133 - accuracy: 0.9201 - val_loss: 0.5704 - val_accuracy: 0.7627\n",
            "Epoch 5/100\n",
            "413/413 [==============================] - 0s 924us/step - loss: 0.1330 - accuracy: 0.9637 - val_loss: 0.6545 - val_accuracy: 0.7627\n",
            "Epoch 6/100\n",
            "413/413 [==============================] - 0s 934us/step - loss: 0.1092 - accuracy: 0.9637 - val_loss: 0.6025 - val_accuracy: 0.7627\n",
            "Epoch 7/100\n",
            "413/413 [==============================] - 0s 930us/step - loss: 0.1544 - accuracy: 0.9419 - val_loss: 0.8637 - val_accuracy: 0.7288\n",
            "Epoch 8/100\n",
            "413/413 [==============================] - 0s 950us/step - loss: 0.1115 - accuracy: 0.9564 - val_loss: 0.5677 - val_accuracy: 0.7119\n",
            "Fold 7\n",
            "Train on 413 samples, validate on 59 samples\n",
            "Epoch 1/100\n",
            "413/413 [==============================] - 1s 1ms/step - loss: 2.7973 - accuracy: 0.6586 - val_loss: 1.2805 - val_accuracy: 0.6441\n",
            "Epoch 2/100\n",
            "413/413 [==============================] - 0s 934us/step - loss: 0.9658 - accuracy: 0.7700 - val_loss: 0.6225 - val_accuracy: 0.7966\n",
            "Epoch 3/100\n",
            "413/413 [==============================] - 0s 921us/step - loss: 0.3423 - accuracy: 0.8717 - val_loss: 0.3588 - val_accuracy: 0.8983\n",
            "Epoch 4/100\n",
            "413/413 [==============================] - 0s 946us/step - loss: 0.2299 - accuracy: 0.9225 - val_loss: 0.3819 - val_accuracy: 0.7966\n",
            "Epoch 5/100\n",
            "413/413 [==============================] - 0s 952us/step - loss: 0.1562 - accuracy: 0.9540 - val_loss: 0.2975 - val_accuracy: 0.8814\n",
            "Epoch 6/100\n",
            "413/413 [==============================] - 0s 936us/step - loss: 0.1380 - accuracy: 0.9443 - val_loss: 0.3138 - val_accuracy: 0.9153\n",
            "Epoch 7/100\n",
            "413/413 [==============================] - 0s 935us/step - loss: 0.1026 - accuracy: 0.9685 - val_loss: 0.2791 - val_accuracy: 0.9322\n",
            "Epoch 8/100\n",
            "413/413 [==============================] - 0s 925us/step - loss: 0.0823 - accuracy: 0.9782 - val_loss: 0.2642 - val_accuracy: 0.9153\n",
            "Epoch 9/100\n",
            "413/413 [==============================] - 0s 928us/step - loss: 0.1651 - accuracy: 0.9346 - val_loss: 0.4642 - val_accuracy: 0.8136\n",
            "Epoch 10/100\n",
            "413/413 [==============================] - 0s 913us/step - loss: 0.0840 - accuracy: 0.9685 - val_loss: 0.3261 - val_accuracy: 0.8814\n",
            "Epoch 11/100\n",
            "413/413 [==============================] - 0s 903us/step - loss: 0.0757 - accuracy: 0.9734 - val_loss: 0.2841 - val_accuracy: 0.8814\n",
            "Epoch 12/100\n",
            "413/413 [==============================] - 0s 906us/step - loss: 0.0450 - accuracy: 0.9855 - val_loss: 0.2634 - val_accuracy: 0.9153\n",
            "Epoch 13/100\n",
            "413/413 [==============================] - 0s 928us/step - loss: 0.0638 - accuracy: 0.9855 - val_loss: 0.3195 - val_accuracy: 0.8475\n",
            "Epoch 14/100\n",
            "413/413 [==============================] - 0s 919us/step - loss: 0.0757 - accuracy: 0.9831 - val_loss: 0.3817 - val_accuracy: 0.8475\n",
            "Epoch 15/100\n",
            "413/413 [==============================] - 0s 947us/step - loss: 0.0652 - accuracy: 0.9831 - val_loss: 0.3731 - val_accuracy: 0.8305\n",
            "Epoch 16/100\n",
            "413/413 [==============================] - 0s 933us/step - loss: 0.0349 - accuracy: 0.9879 - val_loss: 0.2919 - val_accuracy: 0.8814\n",
            "Epoch 17/100\n",
            "413/413 [==============================] - 0s 928us/step - loss: 0.0349 - accuracy: 0.9879 - val_loss: 0.3238 - val_accuracy: 0.8983\n",
            "Fold 8\n",
            "Train on 413 samples, validate on 59 samples\n",
            "Epoch 1/100\n",
            "413/413 [==============================] - 1s 1ms/step - loss: 1.4858 - accuracy: 0.6489 - val_loss: 0.4714 - val_accuracy: 0.7627\n",
            "Epoch 2/100\n",
            "413/413 [==============================] - 0s 944us/step - loss: 0.4972 - accuracy: 0.7772 - val_loss: 0.3955 - val_accuracy: 0.8305\n",
            "Epoch 3/100\n",
            "413/413 [==============================] - 0s 942us/step - loss: 0.2880 - accuracy: 0.8814 - val_loss: 0.3572 - val_accuracy: 0.8475\n",
            "Epoch 4/100\n",
            "413/413 [==============================] - 0s 924us/step - loss: 0.2257 - accuracy: 0.9104 - val_loss: 0.3540 - val_accuracy: 0.8475\n",
            "Epoch 5/100\n",
            "413/413 [==============================] - 0s 926us/step - loss: 0.1988 - accuracy: 0.9274 - val_loss: 0.4403 - val_accuracy: 0.8475\n",
            "Epoch 6/100\n",
            "413/413 [==============================] - 0s 917us/step - loss: 0.1632 - accuracy: 0.9298 - val_loss: 0.4041 - val_accuracy: 0.8136\n",
            "Epoch 7/100\n",
            "413/413 [==============================] - 0s 924us/step - loss: 0.1255 - accuracy: 0.9661 - val_loss: 0.3903 - val_accuracy: 0.8475\n",
            "Epoch 8/100\n",
            "413/413 [==============================] - 0s 907us/step - loss: 0.1087 - accuracy: 0.9637 - val_loss: 0.4171 - val_accuracy: 0.8305\n",
            "Epoch 9/100\n",
            "413/413 [==============================] - 0s 925us/step - loss: 0.1129 - accuracy: 0.9564 - val_loss: 0.3869 - val_accuracy: 0.8644\n"
          ],
          "name": "stdout"
        }
      ]
    },
    {
      "cell_type": "code",
      "metadata": {
        "id": "-GvsuoqY0NZL",
        "colab_type": "code",
        "colab": {
          "base_uri": "https://localhost:8080/",
          "height": 34
        },
        "outputId": "80669de6-b47a-47ec-8bd7-62b60d9050ce"
      },
      "source": [
        "zero_acc = 0\n",
        "one_acc = 0\n",
        "\n",
        "for i in accuracies:\n",
        "  zero_acc+= i[0]\n",
        "  one_acc+=i[1]\n",
        "\n",
        "zero_acc/=8\n",
        "one_acc/=8\n",
        "\n",
        "print(zero_acc, one_acc)"
      ],
      "execution_count": 32,
      "outputs": [
        {
          "output_type": "stream",
          "text": [
            "0.7803160919540231 0.8349137931034484\n"
          ],
          "name": "stdout"
        }
      ]
    },
    {
      "cell_type": "markdown",
      "metadata": {
        "id": "trKQU8cuMHQV",
        "colab_type": "text"
      },
      "source": [
        "Training on whole Training Dataset"
      ]
    },
    {
      "cell_type": "code",
      "metadata": {
        "id": "ppbMkhK2L0ov",
        "colab_type": "code",
        "colab": {}
      },
      "source": [
        "model = models.Sequential()\n",
        "model.add(layers.Dense(256, activation = 'relu', input_dim = 9*9*512))\n",
        "model.add(layers.Dropout(0.5))\n",
        "model.add(layers.Dense(1, activation = 'sigmoid'))\n",
        "model.compile(optimizer = optimizers.Adam(lr = 1e-3),loss = 'binary_crossentropy',metrics = ['accuracy'])\n",
        "my_callbacks = [EarlyStopping(monitor = 'val_loss', patience=5, restore_best_weights=True)]\n"
      ],
      "execution_count": 26,
      "outputs": []
    },
    {
      "cell_type": "code",
      "metadata": {
        "id": "Xncnp_xvNgcr",
        "colab_type": "code",
        "colab": {}
      },
      "source": [
        "xtest = np.load('gdrive/My Drive/pcb/xtest.npy')\n",
        "ytest = np.load('gdrive/My Drive/pcb/ytest.npy')\n"
      ],
      "execution_count": 17,
      "outputs": []
    },
    {
      "cell_type": "code",
      "metadata": {
        "id": "SDa1CkJ9NgfS",
        "colab_type": "code",
        "colab": {}
      },
      "source": [
        "datagentest = ImageDataGenerator(\n",
        "    featurewise_center = True,\n",
        "    featurewise_std_normalization = True\n",
        ")"
      ],
      "execution_count": 18,
      "outputs": []
    },
    {
      "cell_type": "code",
      "metadata": {
        "id": "uGEL70FTNglr",
        "colab_type": "code",
        "colab": {}
      },
      "source": [
        "datagentest.fit(xtest)"
      ],
      "execution_count": 19,
      "outputs": []
    },
    {
      "cell_type": "code",
      "metadata": {
        "id": "QS7XpHLiNgoa",
        "colab_type": "code",
        "colab": {
          "base_uri": "https://localhost:8080/",
          "height": 34
        },
        "outputId": "32c0dd4b-a73b-499c-9274-bf68ac0feb18"
      },
      "source": [
        "testnos = ytest.shape[0]\n",
        "\n",
        "numittest = NumpyArrayIterator(\n",
        "    xtest, ytest, datagentest, batch_size=testnos, shuffle=False, sample_weight=None,\n",
        "    seed=None, data_format=None, save_to_dir=None, save_prefix='',\n",
        "    save_format='png', subset=None, dtype=None\n",
        ")\n",
        "\n",
        "\n",
        "test_samples = np.zeros(shape=(testnos,9,9,512))\n",
        "test_labels = np.zeros(shape=(testnos))\n",
        "for samples_batch,labels_batch in numittest:\n",
        "    g = conv_base.predict(samples_batch)\n",
        "    print(g.shape)\n",
        "    test_samples[::] = g\n",
        "    test_labels[:] = labels_batch\n",
        "    break"
      ],
      "execution_count": 20,
      "outputs": [
        {
          "output_type": "stream",
          "text": [
            "(552, 9, 9, 512)\n"
          ],
          "name": "stdout"
        }
      ]
    },
    {
      "cell_type": "code",
      "metadata": {
        "id": "0f37VOEUNgki",
        "colab_type": "code",
        "colab": {}
      },
      "source": [
        "test_samples = test_samples.reshape(testnos,9*9*512)"
      ],
      "execution_count": 21,
      "outputs": []
    },
    {
      "cell_type": "code",
      "metadata": {
        "id": "Ef_xxG8bNgiT",
        "colab_type": "code",
        "colab": {
          "base_uri": "https://localhost:8080/",
          "height": 306
        },
        "outputId": "be44c971-11e2-4cba-e6f0-14816167612d"
      },
      "source": [
        "historytest = model.fit(samples, labels, epochs = 100, batch_size = 20, validation_data = (test_samples, test_labels), shuffle = True,  callbacks = my_callbacks)"
      ],
      "execution_count": 27,
      "outputs": [
        {
          "output_type": "stream",
          "text": [
            "Train on 472 samples, validate on 552 samples\n",
            "Epoch 1/100\n",
            "472/472 [==============================] - 1s 2ms/step - loss: 1.9837 - accuracy: 0.6504 - val_loss: 2.2474 - val_accuracy: 0.4457\n",
            "Epoch 2/100\n",
            "472/472 [==============================] - 1s 1ms/step - loss: 0.5674 - accuracy: 0.8114 - val_loss: 0.8082 - val_accuracy: 0.6377\n",
            "Epoch 3/100\n",
            "472/472 [==============================] - 1s 1ms/step - loss: 0.3110 - accuracy: 0.8644 - val_loss: 0.3846 - val_accuracy: 0.8388\n",
            "Epoch 4/100\n",
            "472/472 [==============================] - 1s 1ms/step - loss: 0.2104 - accuracy: 0.9195 - val_loss: 0.5334 - val_accuracy: 0.7717\n",
            "Epoch 5/100\n",
            "472/472 [==============================] - 1s 1ms/step - loss: 0.2017 - accuracy: 0.9216 - val_loss: 0.5433 - val_accuracy: 0.7772\n",
            "Epoch 6/100\n",
            "472/472 [==============================] - 1s 1ms/step - loss: 0.1818 - accuracy: 0.9153 - val_loss: 0.6767 - val_accuracy: 0.7373\n",
            "Epoch 7/100\n",
            "472/472 [==============================] - 1s 1ms/step - loss: 0.1316 - accuracy: 0.9428 - val_loss: 0.5204 - val_accuracy: 0.8025\n",
            "Epoch 8/100\n",
            "472/472 [==============================] - 1s 1ms/step - loss: 0.1165 - accuracy: 0.9576 - val_loss: 0.6724 - val_accuracy: 0.7428\n"
          ],
          "name": "stdout"
        }
      ]
    },
    {
      "cell_type": "code",
      "metadata": {
        "id": "jgbhA0dtNgaq",
        "colab_type": "code",
        "colab": {}
      },
      "source": [
        "test_preds = model.predict(test_samples, batch_size = 20)"
      ],
      "execution_count": 28,
      "outputs": []
    },
    {
      "cell_type": "code",
      "metadata": {
        "id": "I3oZ2uIBOrsm",
        "colab_type": "code",
        "colab": {}
      },
      "source": [
        "test_predclass = np.array([1.0 if i>0.5 else 0.0 for i in test_preds])"
      ],
      "execution_count": 29,
      "outputs": []
    },
    {
      "cell_type": "code",
      "metadata": {
        "id": "B9pW68K3Orxg",
        "colab_type": "code",
        "colab": {
          "base_uri": "https://localhost:8080/",
          "height": 34
        },
        "outputId": "d134d0ff-7d77-4a4a-ebe0-f631d52b4660"
      },
      "source": [
        "confusion_matrix(test_labels,test_predclass)[0][0]/(ytest == 0.0).sum(), confusion_matrix(test_labels,test_predclass)[1][1]/(ytest == 1.0).sum()"
      ],
      "execution_count": 30,
      "outputs": [
        {
          "output_type": "execute_result",
          "data": {
            "text/plain": [
              "(0.6101694915254238, 0.8661257606490872)"
            ]
          },
          "metadata": {
            "tags": []
          },
          "execution_count": 30
        }
      ]
    },
    {
      "cell_type": "code",
      "metadata": {
        "id": "MxapdKZhOr0Q",
        "colab_type": "code",
        "colab": {}
      },
      "source": [
        "# Saving model\n",
        "\n",
        "# model_json = model.to_json()\n",
        "# with open(\"gdrive/My Drive/models/VGG19_12.json\", \"w\") as json_file:\n",
        "#     json_file.write(model_json)"
      ],
      "execution_count": null,
      "outputs": []
    },
    {
      "cell_type": "code",
      "metadata": {
        "id": "rybw7Ry7Or2f",
        "colab_type": "code",
        "colab": {}
      },
      "source": [
        "# model.save_weights(\"gdrive/My Drive/models/VGG19_12.h5\")\n",
        "# print(\"Saved model to disk\")"
      ],
      "execution_count": null,
      "outputs": []
    },
    {
      "cell_type": "code",
      "metadata": {
        "id": "CumEUxIaOrve",
        "colab_type": "code",
        "colab": {}
      },
      "source": [
        "# Saving and loading models\n",
        "# https://machinelearningmastery.com/save-load-keras-deep-learning-models/"
      ],
      "execution_count": null,
      "outputs": []
    }
  ]
}