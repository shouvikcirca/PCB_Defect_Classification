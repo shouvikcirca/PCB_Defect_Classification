{
  "nbformat": 4,
  "nbformat_minor": 0,
  "metadata": {
    "kernelspec": {
      "display_name": "Python 3",
      "language": "python",
      "name": "python3"
    },
    "language_info": {
      "codemirror_mode": {
        "name": "ipython",
        "version": 3
      },
      "file_extension": ".py",
      "mimetype": "text/x-python",
      "name": "python",
      "nbconvert_exporter": "python",
      "pygments_lexer": "ipython3",
      "version": "3.6.9"
    },
    "colab": {
      "name": "VGG19_pretrained.ipynb",
      "provenance": [],
      "include_colab_link": true
    },
    "accelerator": "GPU"
  },
  "cells": [
    {
      "cell_type": "markdown",
      "metadata": {
        "id": "view-in-github",
        "colab_type": "text"
      },
      "source": [
        "<a href=\"https://colab.research.google.com/github/shouvikcirca/PCB_Defect_Detection/blob/master/VGG19_pretrained.ipynb\" target=\"_parent\"><img src=\"https://colab.research.google.com/assets/colab-badge.svg\" alt=\"Open In Colab\"/></a>"
      ]
    },
    {
      "cell_type": "code",
      "metadata": {
        "id": "mKdW-45kyBEr",
        "colab_type": "code",
        "outputId": "cc2a36cf-cdf9-416a-d01c-1f22ef90e238",
        "colab": {
          "base_uri": "https://localhost:8080/",
          "height": 34
        }
      },
      "source": [
        "import tensorflow as tf\n",
        "import keras \n",
        "from keras.applications import VGG19\n",
        "import numpy as np\n",
        "from keras.preprocessing.image import ImageDataGenerator, NumpyArrayIterator\n",
        "from keras.callbacks import EarlyStopping, ModelCheckpoint"
      ],
      "execution_count": 1,
      "outputs": [
        {
          "output_type": "stream",
          "text": [
            "Using TensorFlow backend.\n"
          ],
          "name": "stderr"
        }
      ]
    },
    {
      "cell_type": "code",
      "metadata": {
        "id": "O_hWsT8RyBE1",
        "colab_type": "code",
        "colab": {
          "base_uri": "https://localhost:8080/",
          "height": 51
        },
        "outputId": "384e300e-30a4-4a07-a4b8-a5f6a83af983"
      },
      "source": [
        "conv_base = VGG19(weights='imagenet', include_top = False, input_shape=(300,300,3))"
      ],
      "execution_count": 2,
      "outputs": [
        {
          "output_type": "stream",
          "text": [
            "Downloading data from https://github.com/fchollet/deep-learning-models/releases/download/v0.1/vgg19_weights_tf_dim_ordering_tf_kernels_notop.h5\n",
            "80142336/80134624 [==============================] - 3s 0us/step\n"
          ],
          "name": "stdout"
        }
      ]
    },
    {
      "cell_type": "code",
      "metadata": {
        "id": "HmJBnMc0yrOl",
        "colab_type": "code",
        "outputId": "3863590e-3f66-451c-d9e1-1b83538905d4",
        "colab": {
          "base_uri": "https://localhost:8080/",
          "height": 122
        }
      },
      "source": [
        "from google.colab import drive\n",
        "drive.mount(\"/content/gdrive/\")"
      ],
      "execution_count": 3,
      "outputs": [
        {
          "output_type": "stream",
          "text": [
            "Go to this URL in a browser: https://accounts.google.com/o/oauth2/auth?client_id=947318989803-6bn6qk8qdgf4n4g3pfee6491hc0brc4i.apps.googleusercontent.com&redirect_uri=urn%3aietf%3awg%3aoauth%3a2.0%3aoob&response_type=code&scope=email%20https%3a%2f%2fwww.googleapis.com%2fauth%2fdocs.test%20https%3a%2f%2fwww.googleapis.com%2fauth%2fdrive%20https%3a%2f%2fwww.googleapis.com%2fauth%2fdrive.photos.readonly%20https%3a%2f%2fwww.googleapis.com%2fauth%2fpeopleapi.readonly\n",
            "\n",
            "Enter your authorization code:\n",
            "··········\n",
            "Mounted at /content/gdrive/\n"
          ],
          "name": "stdout"
        }
      ]
    },
    {
      "cell_type": "code",
      "metadata": {
        "id": "xqwjCrUnyBE7",
        "colab_type": "code",
        "colab": {}
      },
      "source": [
        "# conv_base.summary()"
      ],
      "execution_count": 0,
      "outputs": []
    },
    {
      "cell_type": "code",
      "metadata": {
        "id": "jZpMhfh0yBFA",
        "colab_type": "code",
        "colab": {}
      },
      "source": [
        "import pickle\n",
        "# X = pickle.load(open(f'pickle_files/X2669.pkl', 'rb'))\n",
        "# y = pickle.load(open(f'pickle_files/y2669.pkl', 'rb'))\n",
        "X = pickle.load(open(\"gdrive/My Drive/X2669.pkl\", 'rb'))\n",
        "y = pickle.load(open(\"gdrive/My Drive/y2669.pkl\", 'rb'))\n",
        "\n",
        "\n",
        "\n",
        "X = X.permute(0,2,3,1).numpy()\n",
        "y = y.numpy()\n",
        "\n",
        "dataset_size = X.shape[0]"
      ],
      "execution_count": 0,
      "outputs": []
    },
    {
      "cell_type": "code",
      "metadata": {
        "id": "29PgDYhs3sY0",
        "colab_type": "code",
        "colab": {}
      },
      "source": [
        "from sklearn.model_selection import train_test_split\n",
        "X_train, X_test, y_train, y_test = train_test_split(X, y, test_size=0.20, random_state=42)"
      ],
      "execution_count": 0,
      "outputs": []
    },
    {
      "cell_type": "code",
      "metadata": {
        "id": "WgkQAeKYyBFJ",
        "colab_type": "code",
        "outputId": "08a4ce51-0d77-42ce-e101-e4b0f17c5fac",
        "colab": {
          "base_uri": "https://localhost:8080/",
          "height": 34
        }
      },
      "source": [
        "nos = X_train.shape[0]\n",
        "nos"
      ],
      "execution_count": 6,
      "outputs": [
        {
          "output_type": "execute_result",
          "data": {
            "text/plain": [
              "2135"
            ]
          },
          "metadata": {
            "tags": []
          },
          "execution_count": 6
        }
      ]
    },
    {
      "cell_type": "code",
      "metadata": {
        "id": "JimFmKvZyBFM",
        "colab_type": "code",
        "outputId": "5c2b6702-cd53-411e-8712-e34d9cbb1568",
        "colab": {
          "base_uri": "https://localhost:8080/",
          "height": 34
        }
      },
      "source": [
        "((y==1).sum())/((y==0).sum()),((y_train==1).sum())/((y_train==0).sum()),((y_test==1).sum())/((y_test==0).sum())"
      ],
      "execution_count": 7,
      "outputs": [
        {
          "output_type": "execute_result",
          "data": {
            "text/plain": [
              "(16.91275167785235, 15.811023622047244, 23.272727272727273)"
            ]
          },
          "metadata": {
            "tags": []
          },
          "execution_count": 7
        }
      ]
    },
    {
      "cell_type": "code",
      "metadata": {
        "id": "F8muGM4CyBFQ",
        "colab_type": "code",
        "colab": {}
      },
      "source": [
        "datagen = ImageDataGenerator(rescale=1./255)"
      ],
      "execution_count": 0,
      "outputs": []
    },
    {
      "cell_type": "code",
      "metadata": {
        "id": "kdzouo3WyBFT",
        "colab_type": "code",
        "colab": {}
      },
      "source": [
        "bs = 34\n",
        "numit = NumpyArrayIterator(\n",
        "    X_train, y_train, datagen, batch_size=bs, shuffle=False, sample_weight=None,\n",
        "    seed=None, data_format=None, save_to_dir=None, save_prefix='',\n",
        "    save_format='png', subset=None, dtype=None\n",
        ")"
      ],
      "execution_count": 0,
      "outputs": []
    },
    {
      "cell_type": "code",
      "metadata": {
        "id": "-po7HhcByBFW",
        "colab_type": "code",
        "colab": {
          "base_uri": "https://localhost:8080/",
          "height": 1000
        },
        "outputId": "a5c7eded-6e8c-48b9-b44b-59a4d2e6127a"
      },
      "source": [
        "train_samples = np.zeros(shape=(nos,9,9,512))\n",
        "train_labels = np.zeros(shape=(nos))\n",
        "i = 0\n",
        "for samples_batch,labels_batch in numit:\n",
        "    f = conv_base.predict(samples_batch)\n",
        "    print(f.shape)\n",
        "    train_samples[i*bs:(i+1)*bs] = f\n",
        "    train_labels[i*bs:(i+1)*bs] = labels_batch\n",
        "    i+=1\n",
        "    if (i*bs)>=nos:\n",
        "        break"
      ],
      "execution_count": 17,
      "outputs": [
        {
          "output_type": "stream",
          "text": [
            "(34, 9, 9, 512)\n",
            "(34, 9, 9, 512)\n",
            "(34, 9, 9, 512)\n",
            "(34, 9, 9, 512)\n",
            "(34, 9, 9, 512)\n",
            "(34, 9, 9, 512)\n",
            "(34, 9, 9, 512)\n",
            "(34, 9, 9, 512)\n",
            "(34, 9, 9, 512)\n",
            "(34, 9, 9, 512)\n",
            "(34, 9, 9, 512)\n",
            "(34, 9, 9, 512)\n",
            "(34, 9, 9, 512)\n",
            "(34, 9, 9, 512)\n",
            "(34, 9, 9, 512)\n",
            "(34, 9, 9, 512)\n",
            "(34, 9, 9, 512)\n",
            "(34, 9, 9, 512)\n",
            "(34, 9, 9, 512)\n",
            "(34, 9, 9, 512)\n",
            "(34, 9, 9, 512)\n",
            "(34, 9, 9, 512)\n",
            "(34, 9, 9, 512)\n",
            "(34, 9, 9, 512)\n",
            "(34, 9, 9, 512)\n",
            "(34, 9, 9, 512)\n",
            "(34, 9, 9, 512)\n",
            "(34, 9, 9, 512)\n",
            "(34, 9, 9, 512)\n",
            "(34, 9, 9, 512)\n",
            "(34, 9, 9, 512)\n",
            "(34, 9, 9, 512)\n",
            "(34, 9, 9, 512)\n",
            "(34, 9, 9, 512)\n",
            "(34, 9, 9, 512)\n",
            "(34, 9, 9, 512)\n",
            "(34, 9, 9, 512)\n",
            "(34, 9, 9, 512)\n",
            "(34, 9, 9, 512)\n",
            "(34, 9, 9, 512)\n",
            "(34, 9, 9, 512)\n",
            "(34, 9, 9, 512)\n",
            "(34, 9, 9, 512)\n",
            "(34, 9, 9, 512)\n",
            "(34, 9, 9, 512)\n",
            "(34, 9, 9, 512)\n",
            "(34, 9, 9, 512)\n",
            "(34, 9, 9, 512)\n",
            "(34, 9, 9, 512)\n",
            "(34, 9, 9, 512)\n",
            "(34, 9, 9, 512)\n",
            "(34, 9, 9, 512)\n",
            "(34, 9, 9, 512)\n",
            "(34, 9, 9, 512)\n",
            "(34, 9, 9, 512)\n",
            "(34, 9, 9, 512)\n",
            "(34, 9, 9, 512)\n",
            "(34, 9, 9, 512)\n",
            "(34, 9, 9, 512)\n",
            "(34, 9, 9, 512)\n",
            "(34, 9, 9, 512)\n",
            "(34, 9, 9, 512)\n",
            "(27, 9, 9, 512)\n"
          ],
          "name": "stdout"
        }
      ]
    },
    {
      "cell_type": "code",
      "metadata": {
        "id": "0pJKQ0AAyBFZ",
        "colab_type": "code",
        "outputId": "1bbbf41d-b3e2-4024-d08e-770d55cf5eb7",
        "colab": {
          "base_uri": "https://localhost:8080/",
          "height": 34
        }
      },
      "source": [
        "train_samples = train_samples.reshape(nos,9*9*512)\n",
        "train_samples.shape, train_labels.shape"
      ],
      "execution_count": 18,
      "outputs": [
        {
          "output_type": "execute_result",
          "data": {
            "text/plain": [
              "((2135, 41472), (2135,))"
            ]
          },
          "metadata": {
            "tags": []
          },
          "execution_count": 18
        }
      ]
    },
    {
      "cell_type": "code",
      "metadata": {
        "id": "UKYuvyZYyBFc",
        "colab_type": "code",
        "outputId": "046d3389-2274-4db6-9784-8da64fef87b3",
        "colab": {
          "base_uri": "https://localhost:8080/",
          "height": 34
        }
      },
      "source": [
        "nostest = X_test.shape[0]\n",
        "nostest"
      ],
      "execution_count": 19,
      "outputs": [
        {
          "output_type": "execute_result",
          "data": {
            "text/plain": [
              "534"
            ]
          },
          "metadata": {
            "tags": []
          },
          "execution_count": 19
        }
      ]
    },
    {
      "cell_type": "code",
      "metadata": {
        "id": "Cg4xkVldyBFg",
        "colab_type": "code",
        "outputId": "3f2533b5-6714-426e-e911-2513e381519a",
        "colab": {
          "base_uri": "https://localhost:8080/",
          "height": 34
        }
      },
      "source": [
        "numitest = NumpyArrayIterator(\n",
        "    X_test, y_test, datagen, batch_size=nostest, shuffle=False, sample_weight=None,\n",
        "    seed=None, data_format=None, save_to_dir=None, save_prefix='',\n",
        "    save_format='png', subset=None, dtype=None\n",
        ")\n",
        "\n",
        "\n",
        "test_samples = np.zeros(shape=(nostest,9,9,512))\n",
        "test_labels = np.zeros(shape=(nostest))\n",
        "for samples_batch,labels_batch in numitest:\n",
        "    g = conv_base.predict(samples_batch)\n",
        "    print(g.shape)\n",
        "    test_samples[::] = g\n",
        "    test_labels[:] = labels_batch\n",
        "    break"
      ],
      "execution_count": 20,
      "outputs": [
        {
          "output_type": "stream",
          "text": [
            "(534, 9, 9, 512)\n"
          ],
          "name": "stdout"
        }
      ]
    },
    {
      "cell_type": "code",
      "metadata": {
        "id": "v-W0WuuhyBFj",
        "colab_type": "code",
        "outputId": "e5a0f54c-32c9-45a0-b3af-3a9ae253c0fc",
        "colab": {
          "base_uri": "https://localhost:8080/",
          "height": 34
        }
      },
      "source": [
        "test_samples = test_samples.reshape(nostest,9*9*512)\n",
        "test_samples.shape"
      ],
      "execution_count": 21,
      "outputs": [
        {
          "output_type": "execute_result",
          "data": {
            "text/plain": [
              "(534, 41472)"
            ]
          },
          "metadata": {
            "tags": []
          },
          "execution_count": 21
        }
      ]
    },
    {
      "cell_type": "code",
      "metadata": {
        "id": "Eyq9rWgfyBFm",
        "colab_type": "code",
        "colab": {}
      },
      "source": [
        "from keras import models, layers, optimizers\n",
        "model = models.Sequential()\n",
        "model.add(layers.Dense(256, activation = 'relu', input_dim = 9*9*512))\n",
        "model.add(layers.Dropout(0.5))\n",
        "model.add(layers.Dense(1, activation = 'sigmoid'))\n",
        "\n",
        "\n",
        "model.compile(optimizer = optimizers.Adam(lr = 1e-3),\n",
        "              loss = 'binary_crossentropy',\n",
        "              metrics = ['accuracy'])\n",
        "        \n"
      ],
      "execution_count": 0,
      "outputs": []
    },
    {
      "cell_type": "code",
      "metadata": {
        "id": "rD8bQF4WyBFo",
        "colab_type": "code",
        "colab": {}
      },
      "source": [
        "my_callbacks = [\n",
        "    EarlyStopping(patience=5),\n",
        "    # ModelCheckpoint(filepath='model.{epoch:02d}-{val_loss:.2f}.h5'),\n",
        "#     tf.keras.callbacks.TensorBoard(log_dir='./logs'),\n",
        "]"
      ],
      "execution_count": 0,
      "outputs": []
    },
    {
      "cell_type": "code",
      "metadata": {
        "id": "2FX_hR1cyBFr",
        "colab_type": "code",
        "colab": {
          "base_uri": "https://localhost:8080/",
          "height": 510
        },
        "outputId": "1206956f-21c0-4c09-d94f-a7fba135ac2f"
      },
      "source": [
        "history = model.fit(train_samples, train_labels, epochs = 100, batch_size = 20,\n",
        "                    validation_data = (test_samples, test_labels), callbacks = my_callbacks\n",
        ")\n",
        "\n",
        "\n"
      ],
      "execution_count": 199,
      "outputs": [
        {
          "output_type": "stream",
          "text": [
            "Train on 2135 samples, validate on 534 samples\n",
            "Epoch 1/100\n",
            "2135/2135 [==============================] - 1s 653us/step - loss: 0.0415 - accuracy: 0.9869 - val_loss: 0.3275 - val_accuracy: 0.9682\n",
            "Epoch 2/100\n",
            "2135/2135 [==============================] - 1s 640us/step - loss: 0.0406 - accuracy: 0.9845 - val_loss: 0.3340 - val_accuracy: 0.9682\n",
            "Epoch 3/100\n",
            "2135/2135 [==============================] - 1s 637us/step - loss: 0.0349 - accuracy: 0.9878 - val_loss: 0.3430 - val_accuracy: 0.9663\n",
            "Epoch 4/100\n",
            "2135/2135 [==============================] - 1s 639us/step - loss: 0.0480 - accuracy: 0.9827 - val_loss: 0.3254 - val_accuracy: 0.9682\n",
            "Epoch 5/100\n",
            "2135/2135 [==============================] - 1s 640us/step - loss: 0.0365 - accuracy: 0.9850 - val_loss: 0.3322 - val_accuracy: 0.9682\n",
            "Epoch 6/100\n",
            "2135/2135 [==============================] - 1s 635us/step - loss: 0.0408 - accuracy: 0.9822 - val_loss: 0.4122 - val_accuracy: 0.9663\n",
            "Epoch 7/100\n",
            "2135/2135 [==============================] - 1s 635us/step - loss: 0.0293 - accuracy: 0.9902 - val_loss: 0.3795 - val_accuracy: 0.9682\n",
            "Epoch 8/100\n",
            "2135/2135 [==============================] - 1s 633us/step - loss: 0.0349 - accuracy: 0.9888 - val_loss: 0.4284 - val_accuracy: 0.9644\n",
            "Epoch 9/100\n",
            "2135/2135 [==============================] - 1s 640us/step - loss: 0.0515 - accuracy: 0.9780 - val_loss: 0.2753 - val_accuracy: 0.9607\n",
            "Epoch 10/100\n",
            "2135/2135 [==============================] - 1s 641us/step - loss: 0.0413 - accuracy: 0.9855 - val_loss: 0.3479 - val_accuracy: 0.9682\n",
            "Epoch 11/100\n",
            "2135/2135 [==============================] - 1s 646us/step - loss: 0.0409 - accuracy: 0.9869 - val_loss: 0.3525 - val_accuracy: 0.9682\n",
            "Epoch 12/100\n",
            "2135/2135 [==============================] - 1s 639us/step - loss: 0.0452 - accuracy: 0.9813 - val_loss: 0.3300 - val_accuracy: 0.9663\n",
            "Epoch 13/100\n",
            "2135/2135 [==============================] - 1s 636us/step - loss: 0.0384 - accuracy: 0.9869 - val_loss: 0.3278 - val_accuracy: 0.9663\n",
            "Epoch 14/100\n",
            "2135/2135 [==============================] - 1s 628us/step - loss: 0.0439 - accuracy: 0.9822 - val_loss: 0.4696 - val_accuracy: 0.9682\n"
          ],
          "name": "stdout"
        }
      ]
    },
    {
      "cell_type": "code",
      "metadata": {
        "id": "CqB6lz-y-TPG",
        "colab_type": "code",
        "colab": {}
      },
      "source": [
        "# run = 14      best at 9"
      ],
      "execution_count": 0,
      "outputs": []
    },
    {
      "cell_type": "code",
      "metadata": {
        "id": "REEnTzgByBFu",
        "colab_type": "code",
        "colab": {}
      },
      "source": [
        "preds = model.predict(test_samples, batch_size = 20)"
      ],
      "execution_count": 0,
      "outputs": []
    },
    {
      "cell_type": "code",
      "metadata": {
        "id": "OXf7vn9eyBFx",
        "colab_type": "code",
        "colab": {}
      },
      "source": [
        "predclass = np.array([1.0 if i>0.5 else 0.0 for i in preds])"
      ],
      "execution_count": 0,
      "outputs": []
    },
    {
      "cell_type": "code",
      "metadata": {
        "id": "k_Dc4KLjyBF1",
        "colab_type": "code",
        "outputId": "73623ab8-fe1c-4c45-ccc4-da1b4ed8a7aa",
        "colab": {
          "base_uri": "https://localhost:8080/",
          "height": 34
        }
      },
      "source": [
        "(predclass == test_labels).sum()/534.0"
      ],
      "execution_count": 202,
      "outputs": [
        {
          "output_type": "execute_result",
          "data": {
            "text/plain": [
              "0.9681647940074907"
            ]
          },
          "metadata": {
            "tags": []
          },
          "execution_count": 202
        }
      ]
    },
    {
      "cell_type": "code",
      "metadata": {
        "id": "FLSJqEZD_RGE",
        "colab_type": "code",
        "outputId": "3065f7cd-5de7-4edd-f803-0eeb6426bc35",
        "colab": {
          "base_uri": "https://localhost:8080/",
          "height": 51
        }
      },
      "source": [
        "from sklearn.metrics import confusion_matrix\n",
        "\n",
        "confusion_matrix(test_labels,predclass)"
      ],
      "execution_count": 203,
      "outputs": [
        {
          "output_type": "execute_result",
          "data": {
            "text/plain": [
              "array([[  7,  15],\n",
              "       [  2, 510]])"
            ]
          },
          "metadata": {
            "tags": []
          },
          "execution_count": 203
        }
      ]
    },
    {
      "cell_type": "code",
      "metadata": {
        "id": "S8Z46a91yBF4",
        "colab_type": "code",
        "colab": {
          "base_uri": "https://localhost:8080/",
          "height": 34
        },
        "outputId": "a47d0f07-5c7a-427e-c76f-ea9262c4347e"
      },
      "source": [
        "confusion_matrix(test_labels,predclass)[0][0]/22, confusion_matrix(test_labels,predclass)[1][1]/512 "
      ],
      "execution_count": 204,
      "outputs": [
        {
          "output_type": "execute_result",
          "data": {
            "text/plain": [
              "(0.3181818181818182, 0.99609375)"
            ]
          },
          "metadata": {
            "tags": []
          },
          "execution_count": 204
        }
      ]
    },
    {
      "cell_type": "code",
      "metadata": {
        "id": "toCvFa6bIf99",
        "colab_type": "code",
        "colab": {
          "base_uri": "https://localhost:8080/",
          "height": 34
        },
        "outputId": "5f84f60a-f3b1-40e6-9722-815de5735285"
      },
      "source": [
        "test_labels.shape"
      ],
      "execution_count": 141,
      "outputs": [
        {
          "output_type": "execute_result",
          "data": {
            "text/plain": [
              "(534,)"
            ]
          },
          "metadata": {
            "tags": []
          },
          "execution_count": 141
        }
      ]
    },
    {
      "cell_type": "markdown",
      "metadata": {
        "id": "hLg4iwSI6kWw",
        "colab_type": "text"
      },
      "source": [
        "Validation Data"
      ]
    },
    {
      "cell_type": "code",
      "metadata": {
        "id": "CUE-JDUd6oCF",
        "colab_type": "code",
        "colab": {}
      },
      "source": [
        "xval = np.load('gdrive/My Drive/Copy of xtrain.npy')\n",
        "yval = np.load('gdrive/My Drive/Copy of ytrain.npy')\n"
      ],
      "execution_count": 0,
      "outputs": []
    },
    {
      "cell_type": "code",
      "metadata": {
        "id": "Eeos1txQ7Vso",
        "colab_type": "code",
        "colab": {
          "base_uri": "https://localhost:8080/",
          "height": 34
        },
        "outputId": "3304738c-ed08-4a5c-e6e2-91a07eaca9cf"
      },
      "source": [
        "yval.shape[0]"
      ],
      "execution_count": 32,
      "outputs": [
        {
          "output_type": "execute_result",
          "data": {
            "text/plain": [
              "298"
            ]
          },
          "metadata": {
            "tags": []
          },
          "execution_count": 32
        }
      ]
    },
    {
      "cell_type": "code",
      "metadata": {
        "id": "lRDYaAmQ6oD-",
        "colab_type": "code",
        "colab": {
          "base_uri": "https://localhost:8080/",
          "height": 34
        },
        "outputId": "1b51c049-ee6d-46b0-fd6c-51cd20de9699"
      },
      "source": [
        "numitval = NumpyArrayIterator(\n",
        "    xval, yval, datagen, batch_size=yval.shape[0], shuffle=False, sample_weight=None,\n",
        "    seed=None, data_format=None, save_to_dir=None, save_prefix='',\n",
        "    save_format='png', subset=None, dtype=None\n",
        ")\n",
        "\n",
        "\n",
        "val_samples = np.zeros(shape=(yval.shape[0],9,9,512))\n",
        "val_labels = np.zeros(shape=(yval.shape[0]))\n",
        "for samples_batch,labels_batch in numitval:\n",
        "    g = conv_base.predict(samples_batch)\n",
        "    print(g.shape)\n",
        "    val_samples[::] = g\n",
        "    val_labels[:] = labels_batch\n",
        "    break"
      ],
      "execution_count": 34,
      "outputs": [
        {
          "output_type": "stream",
          "text": [
            "(298, 9, 9, 512)\n"
          ],
          "name": "stdout"
        }
      ]
    },
    {
      "cell_type": "code",
      "metadata": {
        "id": "EZbwyPOR6oH-",
        "colab_type": "code",
        "colab": {}
      },
      "source": [
        "val_samples = val_samples.reshape(yval.shape[0],9*9*512)"
      ],
      "execution_count": 0,
      "outputs": []
    },
    {
      "cell_type": "code",
      "metadata": {
        "id": "mct4B72o6oKH",
        "colab_type": "code",
        "colab": {}
      },
      "source": [
        "val_preds = model.predict(val_samples, batch_size = 20)"
      ],
      "execution_count": 0,
      "outputs": []
    },
    {
      "cell_type": "code",
      "metadata": {
        "id": "1opTNL8K6oMk",
        "colab_type": "code",
        "colab": {}
      },
      "source": [
        "val_predclass = np.array([1.0 if i>0.5 else 0.0 for i in val_preds])"
      ],
      "execution_count": 0,
      "outputs": []
    },
    {
      "cell_type": "code",
      "metadata": {
        "id": "V2ich7SG8Pxp",
        "colab_type": "code",
        "colab": {
          "base_uri": "https://localhost:8080/",
          "height": 34
        },
        "outputId": "4b264287-581a-45b0-c3f1-dc76176dc213"
      },
      "source": [
        "\n",
        "(val_predclass == val_labels).sum()/298.0"
      ],
      "execution_count": 207,
      "outputs": [
        {
          "output_type": "execute_result",
          "data": {
            "text/plain": [
              "0.9228187919463087"
            ]
          },
          "metadata": {
            "tags": []
          },
          "execution_count": 207
        }
      ]
    },
    {
      "cell_type": "code",
      "metadata": {
        "id": "hjLyu1118gXG",
        "colab_type": "code",
        "colab": {
          "base_uri": "https://localhost:8080/",
          "height": 51
        },
        "outputId": "6bded952-a16a-4d21-95b6-3f79c26e5cc9"
      },
      "source": [
        "confusion_matrix(val_labels,val_predclass)"
      ],
      "execution_count": 208,
      "outputs": [
        {
          "output_type": "execute_result",
          "data": {
            "text/plain": [
              "array([[126,  23],\n",
              "       [  0, 149]])"
            ]
          },
          "metadata": {
            "tags": []
          },
          "execution_count": 208
        }
      ]
    },
    {
      "cell_type": "code",
      "metadata": {
        "id": "0rtDJ903-LvD",
        "colab_type": "code",
        "colab": {
          "base_uri": "https://localhost:8080/",
          "height": 34
        },
        "outputId": "89f2d98d-baf0-48cd-ec3b-cd0a28301f8d"
      },
      "source": [
        "confusion_matrix(val_labels,val_predclass)[0][0]/149, confusion_matrix(val_labels,val_predclass)[1][1]/149 "
      ],
      "execution_count": 209,
      "outputs": [
        {
          "output_type": "execute_result",
          "data": {
            "text/plain": [
              "(0.8456375838926175, 1.0)"
            ]
          },
          "metadata": {
            "tags": []
          },
          "execution_count": 209
        }
      ]
    },
    {
      "cell_type": "code",
      "metadata": {
        "id": "CdsYJ6T6AZul",
        "colab_type": "code",
        "colab": {}
      },
      "source": [
        ""
      ],
      "execution_count": 0,
      "outputs": []
    },
    {
      "cell_type": "code",
      "metadata": {
        "id": "6_6fiRoyAZwz",
        "colab_type": "code",
        "colab": {}
      },
      "source": [
        ""
      ],
      "execution_count": 0,
      "outputs": []
    },
    {
      "cell_type": "code",
      "metadata": {
        "id": "1cMpMaPdAZzI",
        "colab_type": "code",
        "colab": {}
      },
      "source": [
        "# model_json = model.to_json()\n",
        "# with open(\"gdrive/My Drive/models/VGG19_12.json\", \"w\") as json_file:\n",
        "#     json_file.write(model_json)"
      ],
      "execution_count": 0,
      "outputs": []
    },
    {
      "cell_type": "code",
      "metadata": {
        "id": "j3AlnSxuAu_K",
        "colab_type": "code",
        "colab": {
          "base_uri": "https://localhost:8080/",
          "height": 34
        },
        "outputId": "beab4df6-834f-4480-dbb6-c0d9bd3dc535"
      },
      "source": [
        "# model.save_weights(\"gdrive/My Drive/models/VGG19_12.h5\")\n",
        "# print(\"Saved model to disk\")"
      ],
      "execution_count": 135,
      "outputs": [
        {
          "output_type": "stream",
          "text": [
            "Saved model to disk\n"
          ],
          "name": "stdout"
        }
      ]
    },
    {
      "cell_type": "code",
      "metadata": {
        "id": "9YnR4KZMEEb1",
        "colab_type": "code",
        "colab": {}
      },
      "source": [
        "# Saving and loading models\n",
        "# https://machinelearningmastery.com/save-load-keras-deep-learning-models/"
      ],
      "execution_count": 0,
      "outputs": []
    },
    {
      "cell_type": "code",
      "metadata": {
        "id": "h-CjQHrMEEdr",
        "colab_type": "code",
        "colab": {}
      },
      "source": [
        ""
      ],
      "execution_count": 0,
      "outputs": []
    }
  ]
}