{
  "nbformat": 4,
  "nbformat_minor": 0,
  "metadata": {
    "kernelspec": {
      "display_name": "Python 3",
      "language": "python",
      "name": "python3"
    },
    "language_info": {
      "codemirror_mode": {
        "name": "ipython",
        "version": 3
      },
      "file_extension": ".py",
      "mimetype": "text/x-python",
      "name": "python",
      "nbconvert_exporter": "python",
      "pygments_lexer": "ipython3",
      "version": "3.6.9"
    },
    "colab": {
      "name": "VGG19_pretrained.ipynb",
      "provenance": [],
      "include_colab_link": true
    },
    "accelerator": "GPU"
  },
  "cells": [
    {
      "cell_type": "markdown",
      "metadata": {
        "id": "view-in-github",
        "colab_type": "text"
      },
      "source": [
        "<a href=\"https://colab.research.google.com/github/shouvikcirca/PCB_Defect_Detection/blob/master/VGG19_pretrained.ipynb\" target=\"_parent\"><img src=\"https://colab.research.google.com/assets/colab-badge.svg\" alt=\"Open In Colab\"/></a>"
      ]
    },
    {
      "cell_type": "code",
      "metadata": {
        "id": "mKdW-45kyBEr",
        "colab_type": "code",
        "colab": {
          "base_uri": "https://localhost:8080/",
          "height": 34
        },
        "outputId": "eeb04141-198b-4c1f-e9e8-baf6b72e9c33"
      },
      "source": [
        "import tensorflow as tf\n",
        "import keras \n",
        "from keras.applications import VGG19\n",
        "import numpy as np\n",
        "from keras.preprocessing.image import ImageDataGenerator, NumpyArrayIterator\n",
        "from keras.callbacks import EarlyStopping, ModelCheckpoint"
      ],
      "execution_count": 1,
      "outputs": [
        {
          "output_type": "stream",
          "text": [
            "Using TensorFlow backend.\n"
          ],
          "name": "stderr"
        }
      ]
    },
    {
      "cell_type": "code",
      "metadata": {
        "id": "yYkbcrpyzAtf",
        "colab_type": "code",
        "colab": {}
      },
      "source": [
        "####################3333"
      ],
      "execution_count": null,
      "outputs": []
    },
    {
      "cell_type": "code",
      "metadata": {
        "id": "O_hWsT8RyBE1",
        "colab_type": "code",
        "colab": {}
      },
      "source": [
        "conv_base = VGG19(weights='imagenet', include_top = False, input_shape=(300,300,3))"
      ],
      "execution_count": 2,
      "outputs": []
    },
    {
      "cell_type": "code",
      "metadata": {
        "id": "HmJBnMc0yrOl",
        "colab_type": "code",
        "colab": {}
      },
      "source": [
        "from google.colab import drive\n",
        "drive.mount(\"/content/gdrive/\")"
      ],
      "execution_count": null,
      "outputs": []
    },
    {
      "cell_type": "code",
      "metadata": {
        "id": "xqwjCrUnyBE7",
        "colab_type": "code",
        "colab": {}
      },
      "source": [
        "# conv_base.summary()"
      ],
      "execution_count": null,
      "outputs": []
    },
    {
      "cell_type": "code",
      "metadata": {
        "id": "jZpMhfh0yBFA",
        "colab_type": "code",
        "colab": {}
      },
      "source": [
        "import pickle\n",
        "# X = pickle.load(open(f'pickle_files/X2669.pkl', 'rb'))\n",
        "# y = pickle.load(open(f'pickle_files/y2669.pkl', 'rb'))\n",
        "X = pickle.load(open(\"gdrive/My Drive/X2669.pkl\", 'rb'))\n",
        "y = pickle.load(open(\"gdrive/My Drive/y2669.pkl\", 'rb'))\n",
        "\n",
        "\n",
        "\n",
        "X = X.permute(0,2,3,1).numpy()\n",
        "y = y.numpy()\n",
        "\n",
        "dataset_size = X.shape[0]"
      ],
      "execution_count": 3,
      "outputs": []
    },
    {
      "cell_type": "code",
      "metadata": {
        "id": "29PgDYhs3sY0",
        "colab_type": "code",
        "colab": {}
      },
      "source": [
        "from sklearn.model_selection import train_test_split\n",
        "X_train, X_test, y_train, y_test = train_test_split(X, y, test_size=0.20, random_state=42)"
      ],
      "execution_count": 4,
      "outputs": []
    },
    {
      "cell_type": "code",
      "metadata": {
        "id": "WgkQAeKYyBFJ",
        "colab_type": "code",
        "colab": {
          "base_uri": "https://localhost:8080/",
          "height": 34
        },
        "outputId": "75cf65a0-bec3-465e-dea0-d21e4ad547df"
      },
      "source": [
        "nos = X_train.shape[0]\n",
        "nos"
      ],
      "execution_count": 5,
      "outputs": [
        {
          "output_type": "execute_result",
          "data": {
            "text/plain": [
              "2135"
            ]
          },
          "metadata": {
            "tags": []
          },
          "execution_count": 5
        }
      ]
    },
    {
      "cell_type": "code",
      "metadata": {
        "id": "JimFmKvZyBFM",
        "colab_type": "code",
        "colab": {
          "base_uri": "https://localhost:8080/",
          "height": 34
        },
        "outputId": "5d71eb80-bfa9-40a1-b557-d92d5c3de013"
      },
      "source": [
        "((y==1).sum())/((y==0).sum()),((y_train==1).sum())/((y_train==0).sum()),((y_test==1).sum())/((y_test==0).sum())"
      ],
      "execution_count": 6,
      "outputs": [
        {
          "output_type": "execute_result",
          "data": {
            "text/plain": [
              "(16.91275167785235, 15.811023622047244, 23.272727272727273)"
            ]
          },
          "metadata": {
            "tags": []
          },
          "execution_count": 6
        }
      ]
    },
    {
      "cell_type": "code",
      "metadata": {
        "id": "6wNPH7xzsSNg",
        "colab_type": "code",
        "colab": {
          "base_uri": "https://localhost:8080/",
          "height": 34
        },
        "outputId": "2547eb61-81c3-4eed-fc4f-793382febdf6"
      },
      "source": [
        "y_test.shape, (y_test==1).sum(), (y_test==0).sum()"
      ],
      "execution_count": 7,
      "outputs": [
        {
          "output_type": "execute_result",
          "data": {
            "text/plain": [
              "((534,), 512, 22)"
            ]
          },
          "metadata": {
            "tags": []
          },
          "execution_count": 7
        }
      ]
    },
    {
      "cell_type": "code",
      "metadata": {
        "id": "F8muGM4CyBFQ",
        "colab_type": "code",
        "colab": {}
      },
      "source": [
        "# datagen = ImageDataGenerator(rescale=1./255, )\n",
        "datagen = ImageDataGenerator(\n",
        "    featurewise_center = True,\n",
        "    featurewise_std_normalization = True\n",
        ")"
      ],
      "execution_count": 8,
      "outputs": []
    },
    {
      "cell_type": "code",
      "metadata": {
        "id": "-Ls4xaWNzeJ8",
        "colab_type": "code",
        "colab": {}
      },
      "source": [
        "datagen.fit(X_train)"
      ],
      "execution_count": 10,
      "outputs": []
    },
    {
      "cell_type": "code",
      "metadata": {
        "id": "kdzouo3WyBFT",
        "colab_type": "code",
        "colab": {}
      },
      "source": [
        "bs = 34\n",
        "numit = NumpyArrayIterator(\n",
        "    X_train, y_train, datagen, batch_size=bs, shuffle=False, sample_weight=None,\n",
        "    seed=None, data_format=None, save_to_dir=None, save_prefix='',\n",
        "    save_format='png', subset=None, dtype=None\n",
        ")"
      ],
      "execution_count": 11,
      "outputs": []
    },
    {
      "cell_type": "code",
      "metadata": {
        "id": "-po7HhcByBFW",
        "colab_type": "code",
        "colab": {
          "base_uri": "https://localhost:8080/",
          "height": 1000
        },
        "outputId": "0ac17a57-e081-4d46-805c-6b190eaa86e5"
      },
      "source": [
        "train_samples = np.zeros(shape=(nos,9,9,512))\n",
        "train_labels = np.zeros(shape=(nos))\n",
        "i = 0\n",
        "for samples_batch,labels_batch in numit:\n",
        "    f = conv_base.predict(samples_batch)\n",
        "    print(f.shape)\n",
        "    train_samples[i*bs:(i+1)*bs] = f\n",
        "    train_labels[i*bs:(i+1)*bs] = labels_batch\n",
        "    i+=1\n",
        "    if (i*bs)>=nos:\n",
        "        break"
      ],
      "execution_count": 12,
      "outputs": [
        {
          "output_type": "stream",
          "text": [
            "(34, 9, 9, 512)\n",
            "(34, 9, 9, 512)\n",
            "(34, 9, 9, 512)\n",
            "(34, 9, 9, 512)\n",
            "(34, 9, 9, 512)\n",
            "(34, 9, 9, 512)\n",
            "(34, 9, 9, 512)\n",
            "(34, 9, 9, 512)\n",
            "(34, 9, 9, 512)\n",
            "(34, 9, 9, 512)\n",
            "(34, 9, 9, 512)\n",
            "(34, 9, 9, 512)\n",
            "(34, 9, 9, 512)\n",
            "(34, 9, 9, 512)\n",
            "(34, 9, 9, 512)\n",
            "(34, 9, 9, 512)\n",
            "(34, 9, 9, 512)\n",
            "(34, 9, 9, 512)\n",
            "(34, 9, 9, 512)\n",
            "(34, 9, 9, 512)\n",
            "(34, 9, 9, 512)\n",
            "(34, 9, 9, 512)\n",
            "(34, 9, 9, 512)\n",
            "(34, 9, 9, 512)\n",
            "(34, 9, 9, 512)\n",
            "(34, 9, 9, 512)\n",
            "(34, 9, 9, 512)\n",
            "(34, 9, 9, 512)\n",
            "(34, 9, 9, 512)\n",
            "(34, 9, 9, 512)\n",
            "(34, 9, 9, 512)\n",
            "(34, 9, 9, 512)\n",
            "(34, 9, 9, 512)\n",
            "(34, 9, 9, 512)\n",
            "(34, 9, 9, 512)\n",
            "(34, 9, 9, 512)\n",
            "(34, 9, 9, 512)\n",
            "(34, 9, 9, 512)\n",
            "(34, 9, 9, 512)\n",
            "(34, 9, 9, 512)\n",
            "(34, 9, 9, 512)\n",
            "(34, 9, 9, 512)\n",
            "(34, 9, 9, 512)\n",
            "(34, 9, 9, 512)\n",
            "(34, 9, 9, 512)\n",
            "(34, 9, 9, 512)\n",
            "(34, 9, 9, 512)\n",
            "(34, 9, 9, 512)\n",
            "(34, 9, 9, 512)\n",
            "(34, 9, 9, 512)\n",
            "(34, 9, 9, 512)\n",
            "(34, 9, 9, 512)\n",
            "(34, 9, 9, 512)\n",
            "(34, 9, 9, 512)\n",
            "(34, 9, 9, 512)\n",
            "(34, 9, 9, 512)\n",
            "(34, 9, 9, 512)\n",
            "(34, 9, 9, 512)\n",
            "(34, 9, 9, 512)\n",
            "(34, 9, 9, 512)\n",
            "(34, 9, 9, 512)\n",
            "(34, 9, 9, 512)\n",
            "(27, 9, 9, 512)\n"
          ],
          "name": "stdout"
        }
      ]
    },
    {
      "cell_type": "code",
      "metadata": {
        "id": "2LwV52IOu75m",
        "colab_type": "code",
        "colab": {}
      },
      "source": [
        ""
      ],
      "execution_count": null,
      "outputs": []
    },
    {
      "cell_type": "code",
      "metadata": {
        "id": "0pJKQ0AAyBFZ",
        "colab_type": "code",
        "colab": {
          "base_uri": "https://localhost:8080/",
          "height": 34
        },
        "outputId": "37f26cf4-ee36-480d-9596-998dcc3f2c34"
      },
      "source": [
        "train_samples = train_samples.reshape(nos,9*9*512)\n",
        "train_samples.shape, train_labels.shape"
      ],
      "execution_count": 13,
      "outputs": [
        {
          "output_type": "execute_result",
          "data": {
            "text/plain": [
              "((2135, 41472), (2135,))"
            ]
          },
          "metadata": {
            "tags": []
          },
          "execution_count": 13
        }
      ]
    },
    {
      "cell_type": "code",
      "metadata": {
        "id": "UKYuvyZYyBFc",
        "colab_type": "code",
        "colab": {
          "base_uri": "https://localhost:8080/",
          "height": 34
        },
        "outputId": "7aa3b3d8-2fe3-4bd8-c1b5-41e3f4d6bdf9"
      },
      "source": [
        "nostest = X_test.shape[0]\n",
        "nostest"
      ],
      "execution_count": 14,
      "outputs": [
        {
          "output_type": "execute_result",
          "data": {
            "text/plain": [
              "534"
            ]
          },
          "metadata": {
            "tags": []
          },
          "execution_count": 14
        }
      ]
    },
    {
      "cell_type": "code",
      "metadata": {
        "id": "b3IOVykK0lNa",
        "colab_type": "code",
        "colab": {}
      },
      "source": [
        "datagentest = ImageDataGenerator(\n",
        "    featurewise_center = True,\n",
        "    featurewise_std_normalization = True\n",
        ")"
      ],
      "execution_count": 15,
      "outputs": []
    },
    {
      "cell_type": "code",
      "metadata": {
        "id": "lPHFYD4m0ypv",
        "colab_type": "code",
        "colab": {}
      },
      "source": [
        "datagentest.fit(X_test)"
      ],
      "execution_count": 17,
      "outputs": []
    },
    {
      "cell_type": "code",
      "metadata": {
        "id": "Cg4xkVldyBFg",
        "colab_type": "code",
        "colab": {
          "base_uri": "https://localhost:8080/",
          "height": 34
        },
        "outputId": "c1d251f0-4d33-4d93-9622-9d7ae7c78c7e"
      },
      "source": [
        "numitest = NumpyArrayIterator(\n",
        "    X_test, y_test, datagentest, batch_size=nostest, shuffle=False, sample_weight=None,\n",
        "    seed=None, data_format=None, save_to_dir=None, save_prefix='',\n",
        "    save_format='png', subset=None, dtype=None\n",
        ")\n",
        "\n",
        "\n",
        "test_samples = np.zeros(shape=(nostest,9,9,512))\n",
        "test_labels = np.zeros(shape=(nostest))\n",
        "for samples_batch,labels_batch in numitest:\n",
        "    g = conv_base.predict(samples_batch)\n",
        "    print(g.shape)\n",
        "    test_samples[::] = g\n",
        "    test_labels[:] = labels_batch\n",
        "    break"
      ],
      "execution_count": 18,
      "outputs": [
        {
          "output_type": "stream",
          "text": [
            "(534, 9, 9, 512)\n"
          ],
          "name": "stdout"
        }
      ]
    },
    {
      "cell_type": "code",
      "metadata": {
        "id": "v-W0WuuhyBFj",
        "colab_type": "code",
        "colab": {
          "base_uri": "https://localhost:8080/",
          "height": 34
        },
        "outputId": "671419a9-ad31-490e-fdff-307aef40cf3c"
      },
      "source": [
        "test_samples = test_samples.reshape(nostest,9*9*512)\n",
        "test_samples.shape"
      ],
      "execution_count": 19,
      "outputs": [
        {
          "output_type": "execute_result",
          "data": {
            "text/plain": [
              "(534, 41472)"
            ]
          },
          "metadata": {
            "tags": []
          },
          "execution_count": 19
        }
      ]
    },
    {
      "cell_type": "code",
      "metadata": {
        "id": "Eyq9rWgfyBFm",
        "colab_type": "code",
        "colab": {}
      },
      "source": [
        "from keras import models, layers, optimizers\n",
        "model = models.Sequential()\n",
        "model.add(layers.Dense(256, activation = 'relu', input_dim = 9*9*512))\n",
        "model.add(layers.Dropout(0.5))\n",
        "model.add(layers.Dense(1, activation = 'sigmoid'))\n",
        "\n",
        "\n",
        "model.compile(optimizer = optimizers.Adam(lr = 1e-3),\n",
        "              loss = 'binary_crossentropy',\n",
        "              metrics = ['accuracy'])\n",
        "        \n"
      ],
      "execution_count": 23,
      "outputs": []
    },
    {
      "cell_type": "code",
      "metadata": {
        "id": "rD8bQF4WyBFo",
        "colab_type": "code",
        "colab": {}
      },
      "source": [
        "my_callbacks = [\n",
        "    EarlyStopping(patience=5, restore_best_weights=True),\n",
        "\n",
        "]"
      ],
      "execution_count": 46,
      "outputs": []
    },
    {
      "cell_type": "code",
      "metadata": {
        "id": "2FX_hR1cyBFr",
        "colab_type": "code",
        "colab": {
          "base_uri": "https://localhost:8080/",
          "height": 408
        },
        "outputId": "a0aec12c-2a3c-476e-f1a3-86aef522b9a6"
      },
      "source": [
        "history = model.fit(train_samples, train_labels, epochs = 100, batch_size = 20,\n",
        "                    validation_data = (test_samples, test_labels), callbacks = my_callbacks\n",
        ")\n"
      ],
      "execution_count": 66,
      "outputs": [
        {
          "output_type": "stream",
          "text": [
            "Train on 2135 samples, validate on 534 samples\n",
            "Epoch 1/100\n",
            "2135/2135 [==============================] - 2s 971us/step - loss: 0.0165 - accuracy: 0.9925 - val_loss: 0.3741 - val_accuracy: 0.9663\n",
            "Epoch 2/100\n",
            "2135/2135 [==============================] - 2s 911us/step - loss: 0.0204 - accuracy: 0.9916 - val_loss: 0.3282 - val_accuracy: 0.9663\n",
            "Epoch 3/100\n",
            "2135/2135 [==============================] - 2s 942us/step - loss: 0.0132 - accuracy: 0.9953 - val_loss: 0.3472 - val_accuracy: 0.9700\n",
            "Epoch 4/100\n",
            "2135/2135 [==============================] - 2s 938us/step - loss: 0.0198 - accuracy: 0.9911 - val_loss: 0.2293 - val_accuracy: 0.9719\n",
            "Epoch 5/100\n",
            "2135/2135 [==============================] - 2s 927us/step - loss: 0.0230 - accuracy: 0.9911 - val_loss: 0.2554 - val_accuracy: 0.9719\n",
            "Epoch 6/100\n",
            "2135/2135 [==============================] - 2s 930us/step - loss: 0.0169 - accuracy: 0.9939 - val_loss: 0.2156 - val_accuracy: 0.9700\n",
            "Epoch 7/100\n",
            "2135/2135 [==============================] - 2s 909us/step - loss: 0.0201 - accuracy: 0.9897 - val_loss: 0.2605 - val_accuracy: 0.9700\n",
            "Epoch 8/100\n",
            "2135/2135 [==============================] - 2s 900us/step - loss: 0.0208 - accuracy: 0.9897 - val_loss: 0.3048 - val_accuracy: 0.9719\n",
            "Epoch 9/100\n",
            "2135/2135 [==============================] - 2s 893us/step - loss: 0.0198 - accuracy: 0.9897 - val_loss: 0.3270 - val_accuracy: 0.9682\n",
            "Epoch 10/100\n",
            "2135/2135 [==============================] - 2s 907us/step - loss: 0.0276 - accuracy: 0.9883 - val_loss: 0.3034 - val_accuracy: 0.9682\n",
            "Epoch 11/100\n",
            "2135/2135 [==============================] - 2s 910us/step - loss: 0.0340 - accuracy: 0.9827 - val_loss: 0.2373 - val_accuracy: 0.9719\n"
          ],
          "name": "stdout"
        }
      ]
    },
    {
      "cell_type": "code",
      "metadata": {
        "id": "CqB6lz-y-TPG",
        "colab_type": "code",
        "colab": {}
      },
      "source": [
        "# run = 1      22:100"
      ],
      "execution_count": null,
      "outputs": []
    },
    {
      "cell_type": "code",
      "metadata": {
        "id": "REEnTzgByBFu",
        "colab_type": "code",
        "colab": {
          "base_uri": "https://localhost:8080/",
          "height": 34
        },
        "outputId": "4316619a-6ede-4553-c8c9-b4f31bf5d12c"
      },
      "source": [
        "preds = model.predict(test_samples, batch_size = 20)\n",
        "predclass = np.array([1.0 if i>0.5 else 0.0 for i in preds])\n",
        "(predclass == test_labels).sum()/534.0"
      ],
      "execution_count": 62,
      "outputs": [
        {
          "output_type": "execute_result",
          "data": {
            "text/plain": [
              "0.9719101123595506"
            ]
          },
          "metadata": {
            "tags": []
          },
          "execution_count": 62
        }
      ]
    },
    {
      "cell_type": "code",
      "metadata": {
        "id": "FLSJqEZD_RGE",
        "colab_type": "code",
        "colab": {
          "base_uri": "https://localhost:8080/",
          "height": 51
        },
        "outputId": "48850d3a-9e02-40fc-d59c-35c40f976e8a"
      },
      "source": [
        "from sklearn.metrics import confusion_matrix\n",
        "confusion_matrix(test_labels,predclass)"
      ],
      "execution_count": 63,
      "outputs": [
        {
          "output_type": "execute_result",
          "data": {
            "text/plain": [
              "array([[  9,  13],\n",
              "       [  2, 510]])"
            ]
          },
          "metadata": {
            "tags": []
          },
          "execution_count": 63
        }
      ]
    },
    {
      "cell_type": "code",
      "metadata": {
        "id": "S8Z46a91yBF4",
        "colab_type": "code",
        "colab": {
          "base_uri": "https://localhost:8080/",
          "height": 34
        },
        "outputId": "fe7cb5e7-c4bd-4f8e-98d6-0c2706cecede"
      },
      "source": [
        "confusion_matrix(test_labels,predclass)[0][0]/22, confusion_matrix(test_labels,predclass)[1][1]/512 "
      ],
      "execution_count": 64,
      "outputs": [
        {
          "output_type": "execute_result",
          "data": {
            "text/plain": [
              "(0.4090909090909091, 0.99609375)"
            ]
          },
          "metadata": {
            "tags": []
          },
          "execution_count": 64
        }
      ]
    },
    {
      "cell_type": "code",
      "metadata": {
        "id": "toCvFa6bIf99",
        "colab_type": "code",
        "colab": {
          "base_uri": "https://localhost:8080/",
          "height": 34
        },
        "outputId": "5f84f60a-f3b1-40e6-9722-815de5735285"
      },
      "source": [
        "test_labels.shape"
      ],
      "execution_count": null,
      "outputs": [
        {
          "output_type": "execute_result",
          "data": {
            "text/plain": [
              "(534,)"
            ]
          },
          "metadata": {
            "tags": []
          },
          "execution_count": 141
        }
      ]
    },
    {
      "cell_type": "markdown",
      "metadata": {
        "id": "hLg4iwSI6kWw",
        "colab_type": "text"
      },
      "source": [
        "Validation Data"
      ]
    },
    {
      "cell_type": "code",
      "metadata": {
        "id": "CUE-JDUd6oCF",
        "colab_type": "code",
        "colab": {}
      },
      "source": [
        "xval = np.load('gdrive/My Drive/Copy of xtrain.npy')\n",
        "yval = np.load('gdrive/My Drive/Copy of ytrain.npy')\n"
      ],
      "execution_count": null,
      "outputs": []
    },
    {
      "cell_type": "code",
      "metadata": {
        "id": "Eeos1txQ7Vso",
        "colab_type": "code",
        "colab": {
          "base_uri": "https://localhost:8080/",
          "height": 34
        },
        "outputId": "3304738c-ed08-4a5c-e6e2-91a07eaca9cf"
      },
      "source": [
        "yval.shape[0]"
      ],
      "execution_count": null,
      "outputs": [
        {
          "output_type": "execute_result",
          "data": {
            "text/plain": [
              "298"
            ]
          },
          "metadata": {
            "tags": []
          },
          "execution_count": 32
        }
      ]
    },
    {
      "cell_type": "code",
      "metadata": {
        "id": "lRDYaAmQ6oD-",
        "colab_type": "code",
        "colab": {
          "base_uri": "https://localhost:8080/",
          "height": 34
        },
        "outputId": "1b51c049-ee6d-46b0-fd6c-51cd20de9699"
      },
      "source": [
        "numitval = NumpyArrayIterator(\n",
        "    xval, yval, datagen, batch_size=yval.shape[0], shuffle=False, sample_weight=None,\n",
        "    seed=None, data_format=None, save_to_dir=None, save_prefix='',\n",
        "    save_format='png', subset=None, dtype=None\n",
        ")\n",
        "\n",
        "\n",
        "val_samples = np.zeros(shape=(yval.shape[0],9,9,512))\n",
        "val_labels = np.zeros(shape=(yval.shape[0]))\n",
        "for samples_batch,labels_batch in numitval:\n",
        "    g = conv_base.predict(samples_batch)\n",
        "    print(g.shape)\n",
        "    val_samples[::] = g\n",
        "    val_labels[:] = labels_batch\n",
        "    break"
      ],
      "execution_count": null,
      "outputs": [
        {
          "output_type": "stream",
          "text": [
            "(298, 9, 9, 512)\n"
          ],
          "name": "stdout"
        }
      ]
    },
    {
      "cell_type": "code",
      "metadata": {
        "id": "EZbwyPOR6oH-",
        "colab_type": "code",
        "colab": {}
      },
      "source": [
        "val_samples = val_samples.reshape(yval.shape[0],9*9*512)"
      ],
      "execution_count": null,
      "outputs": []
    },
    {
      "cell_type": "code",
      "metadata": {
        "id": "mct4B72o6oKH",
        "colab_type": "code",
        "colab": {}
      },
      "source": [
        "val_preds = model.predict(val_samples, batch_size = 20)"
      ],
      "execution_count": null,
      "outputs": []
    },
    {
      "cell_type": "code",
      "metadata": {
        "id": "1opTNL8K6oMk",
        "colab_type": "code",
        "colab": {}
      },
      "source": [
        "val_predclass = np.array([1.0 if i>0.5 else 0.0 for i in val_preds])"
      ],
      "execution_count": null,
      "outputs": []
    },
    {
      "cell_type": "code",
      "metadata": {
        "id": "V2ich7SG8Pxp",
        "colab_type": "code",
        "colab": {
          "base_uri": "https://localhost:8080/",
          "height": 34
        },
        "outputId": "4b264287-581a-45b0-c3f1-dc76176dc213"
      },
      "source": [
        "\n",
        "(val_predclass == val_labels).sum()/298.0"
      ],
      "execution_count": null,
      "outputs": [
        {
          "output_type": "execute_result",
          "data": {
            "text/plain": [
              "0.9228187919463087"
            ]
          },
          "metadata": {
            "tags": []
          },
          "execution_count": 207
        }
      ]
    },
    {
      "cell_type": "code",
      "metadata": {
        "id": "hjLyu1118gXG",
        "colab_type": "code",
        "colab": {
          "base_uri": "https://localhost:8080/",
          "height": 51
        },
        "outputId": "6bded952-a16a-4d21-95b6-3f79c26e5cc9"
      },
      "source": [
        "confusion_matrix(val_labels,val_predclass)"
      ],
      "execution_count": null,
      "outputs": [
        {
          "output_type": "execute_result",
          "data": {
            "text/plain": [
              "array([[126,  23],\n",
              "       [  0, 149]])"
            ]
          },
          "metadata": {
            "tags": []
          },
          "execution_count": 208
        }
      ]
    },
    {
      "cell_type": "code",
      "metadata": {
        "id": "0rtDJ903-LvD",
        "colab_type": "code",
        "colab": {
          "base_uri": "https://localhost:8080/",
          "height": 34
        },
        "outputId": "89f2d98d-baf0-48cd-ec3b-cd0a28301f8d"
      },
      "source": [
        "confusion_matrix(val_labels,val_predclass)[0][0]/149, confusion_matrix(val_labels,val_predclass)[1][1]/149 "
      ],
      "execution_count": null,
      "outputs": [
        {
          "output_type": "execute_result",
          "data": {
            "text/plain": [
              "(0.8456375838926175, 1.0)"
            ]
          },
          "metadata": {
            "tags": []
          },
          "execution_count": 209
        }
      ]
    },
    {
      "cell_type": "code",
      "metadata": {
        "id": "CdsYJ6T6AZul",
        "colab_type": "code",
        "colab": {}
      },
      "source": [
        ""
      ],
      "execution_count": null,
      "outputs": []
    },
    {
      "cell_type": "code",
      "metadata": {
        "id": "6_6fiRoyAZwz",
        "colab_type": "code",
        "colab": {}
      },
      "source": [
        ""
      ],
      "execution_count": null,
      "outputs": []
    },
    {
      "cell_type": "code",
      "metadata": {
        "id": "1cMpMaPdAZzI",
        "colab_type": "code",
        "colab": {}
      },
      "source": [
        "# model_json = model.to_json()\n",
        "# with open(\"gdrive/My Drive/models/VGG19_12.json\", \"w\") as json_file:\n",
        "#     json_file.write(model_json)"
      ],
      "execution_count": null,
      "outputs": []
    },
    {
      "cell_type": "code",
      "metadata": {
        "id": "j3AlnSxuAu_K",
        "colab_type": "code",
        "colab": {
          "base_uri": "https://localhost:8080/",
          "height": 34
        },
        "outputId": "beab4df6-834f-4480-dbb6-c0d9bd3dc535"
      },
      "source": [
        "# model.save_weights(\"gdrive/My Drive/models/VGG19_12.h5\")\n",
        "# print(\"Saved model to disk\")"
      ],
      "execution_count": null,
      "outputs": [
        {
          "output_type": "stream",
          "text": [
            "Saved model to disk\n"
          ],
          "name": "stdout"
        }
      ]
    },
    {
      "cell_type": "code",
      "metadata": {
        "id": "9YnR4KZMEEb1",
        "colab_type": "code",
        "colab": {}
      },
      "source": [
        "# Saving and loading models\n",
        "# https://machinelearningmastery.com/save-load-keras-deep-learning-models/"
      ],
      "execution_count": null,
      "outputs": []
    },
    {
      "cell_type": "code",
      "metadata": {
        "id": "h-CjQHrMEEdr",
        "colab_type": "code",
        "colab": {}
      },
      "source": [
        ""
      ],
      "execution_count": null,
      "outputs": []
    }
  ]
}