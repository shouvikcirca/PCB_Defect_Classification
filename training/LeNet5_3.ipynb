{
 "cells": [
  {
   "cell_type": "markdown",
   "metadata": {
    "colab_type": "text",
    "id": "view-in-github"
   },
   "source": [
    "<a href=\"https://colab.research.google.com/github/shouvikcirca/PCB_Defect_Detection/blob/master/LeNet5_2.ipynb\" target=\"_parent\"><img src=\"https://colab.research.google.com/assets/colab-badge.svg\" alt=\"Open In Colab\"/></a>"
   ]
  },
  {
   "cell_type": "markdown",
   "metadata": {
    "colab_type": "text",
    "id": "mXw93V3KBuGL"
   },
   "source": [
    "# LeNet5.3_BatchNorm_ReLU"
   ]
  },
  {
   "cell_type": "code",
   "execution_count": 1,
   "metadata": {
    "colab": {},
    "colab_type": "code",
    "id": "x42ZnnA0BuGM"
   },
   "outputs": [
    {
     "name": "stderr",
     "output_type": "stream",
     "text": [
      "/home/shouvik/Desktop/DeepLearning/dl/lib/python3.6/site-packages/tensorboard/compat/tensorflow_stub/dtypes.py:541: FutureWarning: Passing (type, 1) or '1type' as a synonym of type is deprecated; in a future version of numpy, it will be understood as (type, (1,)) / '(1,)type'.\n",
      "  _np_qint8 = np.dtype([(\"qint8\", np.int8, 1)])\n",
      "/home/shouvik/Desktop/DeepLearning/dl/lib/python3.6/site-packages/tensorboard/compat/tensorflow_stub/dtypes.py:542: FutureWarning: Passing (type, 1) or '1type' as a synonym of type is deprecated; in a future version of numpy, it will be understood as (type, (1,)) / '(1,)type'.\n",
      "  _np_quint8 = np.dtype([(\"quint8\", np.uint8, 1)])\n",
      "/home/shouvik/Desktop/DeepLearning/dl/lib/python3.6/site-packages/tensorboard/compat/tensorflow_stub/dtypes.py:543: FutureWarning: Passing (type, 1) or '1type' as a synonym of type is deprecated; in a future version of numpy, it will be understood as (type, (1,)) / '(1,)type'.\n",
      "  _np_qint16 = np.dtype([(\"qint16\", np.int16, 1)])\n",
      "/home/shouvik/Desktop/DeepLearning/dl/lib/python3.6/site-packages/tensorboard/compat/tensorflow_stub/dtypes.py:544: FutureWarning: Passing (type, 1) or '1type' as a synonym of type is deprecated; in a future version of numpy, it will be understood as (type, (1,)) / '(1,)type'.\n",
      "  _np_quint16 = np.dtype([(\"quint16\", np.uint16, 1)])\n",
      "/home/shouvik/Desktop/DeepLearning/dl/lib/python3.6/site-packages/tensorboard/compat/tensorflow_stub/dtypes.py:545: FutureWarning: Passing (type, 1) or '1type' as a synonym of type is deprecated; in a future version of numpy, it will be understood as (type, (1,)) / '(1,)type'.\n",
      "  _np_qint32 = np.dtype([(\"qint32\", np.int32, 1)])\n",
      "/home/shouvik/Desktop/DeepLearning/dl/lib/python3.6/site-packages/tensorboard/compat/tensorflow_stub/dtypes.py:550: FutureWarning: Passing (type, 1) or '1type' as a synonym of type is deprecated; in a future version of numpy, it will be understood as (type, (1,)) / '(1,)type'.\n",
      "  np_resource = np.dtype([(\"resource\", np.ubyte, 1)])\n"
     ]
    }
   ],
   "source": [
    "import torch\n",
    "from torchvision import models, transforms, utils\n",
    "from torch.utils.data import Dataset, DataLoader\n",
    "from torch.utils.tensorboard import SummaryWriter\n",
    "import torch.nn as nn\n",
    "import torch.nn.functional as F\n",
    "import torch.optim as optim\n",
    "import numpy as np\n",
    "import pickle\n",
    "import matplotlib.pyplot as plt\n",
    "%matplotlib inline\n",
    "import math\n",
    "from sklearn.metrics import confusion_matrix\n",
    "from sklearn.metrics import f1_score"
   ]
  },
  {
   "cell_type": "code",
   "execution_count": 2,
   "metadata": {
    "colab": {
     "base_uri": "https://localhost:8080/",
     "height": 122
    },
    "colab_type": "code",
    "id": "JC2jsHuXB2q6",
    "outputId": "dfcfaef2-d198-4066-ba13-15707c384c17"
   },
   "outputs": [],
   "source": [
    "# from google.colab import drive\n",
    "# drive.mount('/content/drive/')"
   ]
  },
  {
   "cell_type": "code",
   "execution_count": 3,
   "metadata": {
    "colab": {},
    "colab_type": "code",
    "id": "PoSCktJAB60c"
   },
   "outputs": [],
   "source": [
    "# For Colab\n",
    "# X = np.load('drive/My Drive/Copy of xtrain.npy')\n",
    "# y = np.load('drive/My Drive/Copy of ytrain.npy')"
   ]
  },
  {
   "cell_type": "code",
   "execution_count": 4,
   "metadata": {},
   "outputs": [],
   "source": [
    "# For local machine\n",
    "X_train = pickle.load(open(f'X_train298.pkl', 'rb'))\n",
    "y_train = pickle.load(open(f'y_train298.pkl', 'rb'))\n",
    "X_test = pickle.load(open(f'X_test298.pkl', 'rb'))\n",
    "y_test = pickle.load(open(f'y_test298.pkl', 'rb'))"
   ]
  },
  {
   "cell_type": "code",
   "execution_count": 5,
   "metadata": {},
   "outputs": [
    {
     "data": {
      "text/plain": [
       "torch.Size([60, 3, 300, 300])"
      ]
     },
     "execution_count": 5,
     "metadata": {},
     "output_type": "execute_result"
    }
   ],
   "source": [
    "X_test.shape"
   ]
  },
  {
   "cell_type": "code",
   "execution_count": 6,
   "metadata": {
    "colab": {
     "base_uri": "https://localhost:8080/",
     "height": 34
    },
    "colab_type": "code",
    "id": "Q1zTL2ONB9Lw",
    "outputId": "37bc1812-d9fe-4334-9998-d17f11e3564c"
   },
   "outputs": [],
   "source": [
    "# For Colab\n",
    "# X = torch.from_numpy(X)\n",
    "# X = X.permute(0,3,1,2)\n",
    "# y = torch.from_numpy(y)\n",
    "# X.shape, y.shape"
   ]
  },
  {
   "cell_type": "markdown",
   "metadata": {
    "colab_type": "text",
    "id": "SLB5FrOMBuGR"
   },
   "source": [
    "Preprocessing Functions"
   ]
  },
  {
   "cell_type": "code",
   "execution_count": 7,
   "metadata": {
    "colab": {},
    "colab_type": "code",
    "id": "uUC_1EbfBuGS"
   },
   "outputs": [],
   "source": [
    "def getNormalized(X,s):\n",
    "    flattened_channels = X.reshape(3,-1)\n",
    "    channel_mean = flattened_channels.mean(dim = 1)\n",
    "    channel_stddev = flattened_channels.std(dim = 1)\n",
    "    preprocess2 = transforms.Compose([\n",
    "                      transforms.Normalize(channel_mean, channel_stddev)\n",
    "    ])\n",
    "\n",
    "\n",
    "    temptwo = torch.tensor([])\n",
    "    for i in range(X.shape[0]):\n",
    "        a = preprocess2(X[i])\n",
    "        temptwo = torch.cat([temptwo, a.reshape(1,3,s,s)])\n",
    "  \n",
    "    return temptwo\n",
    "\n",
    "\n",
    "def imageSetResize(newSize,X):\n",
    "    preprocess1 = transforms.Compose([\n",
    "                        transforms.ToPILImage(),\n",
    "                        transforms.Resize(newSize),\n",
    "                        transforms.ToTensor()])\n",
    "  \n",
    "    temp = torch.tensor([])\n",
    "    for i in range(X.shape[0]):\n",
    "        a = preprocess1(X[i])\n",
    "        temp = torch.cat([temp, a.reshape(1,3,newSize,newSize)])\n",
    "\n",
    "    return temp \n",
    "\n",
    "\n",
    "def splitTrainTest(X,y):\n",
    "    shuffled_indices = torch.randperm(X.shape[0])\n",
    "    ul = math.floor(0.8*X.shape[0])\n",
    "    train_indices = shuffled_indices[:ul]\n",
    "    test_indices = shuffled_indices[ul:]\n",
    "    # train_indices.shape[0] + test_indices.shape[0]\n",
    "    X_train = X[train_indices]\n",
    "    y_train = y[train_indices]  \n",
    "    X_test = X[test_indices]\n",
    "    y_test = y[test_indices]\n",
    "    print('y_train -> [0]:{} [1]:{}'.format((y_train == 0).sum().item(), (y_train == 1).sum().item()))\n",
    "    print('y_test -> [0]:{} [1]:{}'.format((y_test == 0).sum().item(), (y_test == 1).sum().item()))\n",
    "    return X_train, y_train, X_test, y_test\n",
    "\n",
    "\n",
    "def labelize(p):\n",
    "    labelized_preds = []\n",
    "    for i in p:\n",
    "        l = 0. if i[0]>i[1] else 1.\n",
    "        labelized_preds.append(l)\n",
    "\n",
    "    return torch.tensor(labelized_preds)\n",
    "\n",
    "\n",
    "\n",
    "def shuffle_and_batch(X,y,num,bs):\n",
    "    shuffled_indices = torch.randperm(X.shape[0])\n",
    "    newX = X[shuffled_indices]\n",
    "    newY = y[shuffled_indices]\n",
    "\n",
    "    X_batches = []\n",
    "    y_batches = []\n",
    "    for i in range(num):\n",
    "        X_batches.append(X[i*bs:(i+1)*bs])\n",
    "        y_batches.append(y_train[i*bs:(i+1)*bs])\n",
    "\n",
    "    return X_batches, y_batches"
   ]
  },
  {
   "cell_type": "code",
   "execution_count": 8,
   "metadata": {},
   "outputs": [],
   "source": [
    "imsize = 32\n",
    "X_train = imageSetResize(imsize, X_train.float())\n",
    "X_train = getNormalized(X_train.float(),imsize)\n",
    "X_test = imageSetResize(imsize, X_test.float())\n",
    "X_test = getNormalized(X_test.float(),imsize)"
   ]
  },
  {
   "cell_type": "markdown",
   "metadata": {
    "colab_type": "text",
    "id": "qj6jcCXLBuGW"
   },
   "source": [
    "Layers"
   ]
  },
  {
   "cell_type": "code",
   "execution_count": 9,
   "metadata": {
    "colab": {},
    "colab_type": "code",
    "id": "DQy8vua7BuGX"
   },
   "outputs": [],
   "source": [
    "pars = []\n",
    "\n",
    "\n",
    "#C1\n",
    "c1 = nn.Conv2d(3,6, kernel_size = 5)\n",
    "pars = pars + list(c1.parameters())\n",
    "\n",
    "#S2\n",
    "pool1 = nn.AvgPool2d(2, stride=2)\n",
    "\n",
    "# BN1\n",
    "bn1 = nn.BatchNorm2d(6)\n",
    "pars = pars + list(bn1.parameters())\n",
    "\n",
    "#C3\n",
    "first_cons6_filterlist = []\n",
    "second_cons6_filterlist = []\n",
    "third_cons3_filterlist = []\n",
    "fourth_last1_filterlist = []\n",
    "for i in range(6):\n",
    "    first_cons6_filterlist.append(nn.Conv2d(3,1,kernel_size = 5))\n",
    "    pars = pars + list(first_cons6_filterlist[-1].parameters())\n",
    "    \n",
    "for i in range(6):\n",
    "    second_cons6_filterlist.append(nn.Conv2d(4,1,kernel_size = 5))\n",
    "    pars = pars + list(second_cons6_filterlist[-1].parameters())\n",
    "    \n",
    "for i in range(3):\n",
    "    third_cons3_filterlist.append(nn.Conv2d(4,1,kernel_size = 5))\n",
    "    pars = pars + list(third_cons3_filterlist[-1].parameters())\n",
    "\n",
    "fourth_last1_filterlist = [nn.Conv2d(6,1,kernel_size = 5)]\n",
    "pars = pars + list(fourth_last1_filterlist[-1].parameters())\n",
    "\n",
    "#S4\n",
    "pool2 = nn.AvgPool2d(2, stride=2)\n",
    "\n",
    "\n",
    "#BN2\n",
    "bn2 = nn.BatchNorm2d(16)\n",
    "pars = pars + list(bn2.parameters())\n",
    "\n",
    "\n",
    "#C5\n",
    "conv3 = nn.Conv2d(16, 120, kernel_size = 5)\n",
    "pars = pars + list(conv3.parameters())\n",
    "\n",
    "\n",
    "#BN3\n",
    "bn3= nn.BatchNorm2d(120)\n",
    "pars = pars + list(bn3.parameters())\n",
    "\n",
    "\n",
    "#F6\n",
    "ll1 = nn.Linear(120, 84)\n",
    "\n",
    "\n",
    "#F7\n",
    "ll2 = nn.Linear(84,2)\n",
    "pars = pars + list(ll1.parameters()) + list(ll2.parameters())\n",
    "\n",
    "\n"
   ]
  },
  {
   "cell_type": "code",
   "execution_count": 10,
   "metadata": {
    "colab": {},
    "colab_type": "code",
    "id": "gmnhG202loT5"
   },
   "outputs": [],
   "source": [
    "# Loss Function\n",
    "criterion = nn.CrossEntropyLoss() \n",
    "# criterion = nn.KLDivLoss()"
   ]
  },
  {
   "cell_type": "code",
   "execution_count": 11,
   "metadata": {
    "colab": {},
    "colab_type": "code",
    "id": "E5QbXFhbBuGa"
   },
   "outputs": [],
   "source": [
    "# def displayDetails(lone = None, ltwo=None):\n",
    "#     if lone is not None:\n",
    "#         a = lone\n",
    "#         print('--------')\n",
    "#         for i in a[0]:\n",
    "#             print(i)\n",
    "#         print('--------')\n",
    "#         for i in a[1]:\n",
    "#             print(i)\n",
    "#         print('-------')\n",
    "#         for i in a[2]:\n",
    "#             print(i)\n",
    "#         print('-------')\n",
    "#         for i in a[3]:\n",
    "#             print(i)\n",
    "#     if ltwo is not None:\n",
    "#         a = ltwo\n",
    "#         for i in a:\n",
    "#             print('-----')\n",
    "#             for j in i:\n",
    "#                 print(j.shape)"
   ]
  },
  {
   "cell_type": "code",
   "execution_count": 12,
   "metadata": {
    "colab": {},
    "colab_type": "code",
    "id": "X2xDzuPRBuGe"
   },
   "outputs": [],
   "source": [
    "# displayDetails(lone = [first_cons6_filterlist,second_cons6_filterlist,third_cons3_filterlist,fourth_last1_filterlist])"
   ]
  },
  {
   "cell_type": "markdown",
   "metadata": {
    "colab_type": "text",
    "id": "b-jMzvZ1BuGh"
   },
   "source": [
    "Preprocessing"
   ]
  },
  {
   "cell_type": "code",
   "execution_count": 13,
   "metadata": {
    "colab": {},
    "colab_type": "code",
    "id": "DC6H9PuXBuGi"
   },
   "outputs": [],
   "source": [
    "# resized_imageset = imageSetResize(32, X.float())\n",
    "# normalized_imageset = getNormalized(resized_imageset.float(),32)"
   ]
  },
  {
   "cell_type": "code",
   "execution_count": 14,
   "metadata": {
    "colab": {
     "base_uri": "https://localhost:8080/",
     "height": 51
    },
    "colab_type": "code",
    "id": "U5d3IZAnDsfO",
    "outputId": "6f4c9667-7c45-4e9f-dd43-fe5e1a7bdf3c"
   },
   "outputs": [],
   "source": [
    "# X_train, y_train, X_test, y_test = splitTrainTest(resized_imageset, y)"
   ]
  },
  {
   "cell_type": "code",
   "execution_count": 15,
   "metadata": {},
   "outputs": [],
   "source": [
    "# pickle.dump(X_train, open(\"xtrain298.pkl\", 'wb'), protocol=4)\n",
    "# pickle.dump(X_test, open(\"xtest298.pkl\", 'wb'), protocol=4)\n",
    "# pickle.dump(y_train, open(\"ytrain298.pkl\", 'wb'), protocol=4)\n",
    "# pickle.dump(y_test, open(\"ytest298.pkl\", 'wb'), protocol=4)"
   ]
  },
  {
   "cell_type": "code",
   "execution_count": 16,
   "metadata": {
    "colab": {},
    "colab_type": "code",
    "id": "RpmIw5uaBuGl"
   },
   "outputs": [],
   "source": [
    "def ef(li, c1_out):\n",
    "    return torch.index_select(c1_out, 1, torch.tensor(li))"
   ]
  },
  {
   "cell_type": "code",
   "execution_count": 17,
   "metadata": {},
   "outputs": [
    {
     "name": "stdout",
     "output_type": "stream",
     "text": [
      "y_train -> [0]:119 [1]:119\n",
      "y_test -> [0]:30 [1]:30\n"
     ]
    }
   ],
   "source": [
    "print('y_train -> [0]:{} [1]:{}'.format((y_train == 0).sum().item(), (y_train == 1).sum().item()))\n",
    "print('y_test -> [0]:{} [1]:{}'.format((y_test == 0).sum().item(), (y_test == 1).sum().item()))"
   ]
  },
  {
   "cell_type": "code",
   "execution_count": 18,
   "metadata": {
    "colab": {},
    "colab_type": "code",
    "id": "BdR1kcwSBuGp"
   },
   "outputs": [],
   "source": [
    "def feedForward(X):\n",
    "    \n",
    "    global c1\n",
    "    global first_cons6_filterlist\n",
    "    global second_cons6_filterlist\n",
    "    global third_cons3_filterlist\n",
    "    global fourth_last1_filterlist\n",
    "    nos = X.shape[0]\n",
    "    c1_out = c1(X)\n",
    "    out = F.relu(bn1(pool1(c1_out)))\n",
    "    lione = [ef([0,1,2],out),ef([1,2,3],out), ef([2,3,4],out), ef([3,4,5],out), ef([0,4,5],out),ef([0,1,5],out)]\n",
    "    litwo = [ef([0,1,2,3],out),ef([1,2,3,4],out), ef([2,3,4,5],out), ef([0,3,4,5],out), ef([0,1,4,5],out),ef([0,1,2,5],out)]\n",
    "    lithree = [ef([0,1,3,4],out),ef([1,2,4,5],out), ef([0,2,3,5],out)]\n",
    "    lifour = [ef([0,1,2,3,4,5],out)]\n",
    "    feature_maps1 = []\n",
    "    feature_maps2 = []\n",
    "    feature_maps3 = []\n",
    "    feature_maps4 = []\n",
    "    for i in range(6):\n",
    "        feature_maps1.append(first_cons6_filterlist[i](lione[i]))\n",
    "    for i in range(6):\n",
    "        feature_maps2.append(second_cons6_filterlist[i](litwo[i]))\n",
    "    for i in range(3):\n",
    "        feature_maps3.append(third_cons3_filterlist[i](lithree[i]))\n",
    "    for i in range(1):\n",
    "        feature_maps4.append(fourth_last1_filterlist[i](lifour[i]))\n",
    "    fms = []\n",
    "    fms.extend(feature_maps1)\n",
    "    fms.extend(feature_maps2)\n",
    "    fms.extend(feature_maps3)\n",
    "    fms.extend(feature_maps4)\n",
    "    tfms = torch.Tensor([])\n",
    "    for i in fms:\n",
    "        tfms = torch.cat([tfms, i], dim=1)\n",
    "    c2_out = F.relu(bn2(pool2(tfms)))\n",
    "    c3_out = bn3(conv3(c2_out))\n",
    "    c3_out = c3_out.reshape(nos,120)\n",
    "    ll1_out = F.relu(ll1(c3_out))\n",
    "    ll2_out = ll2(ll1_out)\n",
    "    preds = nn.Softmax(dim=1)(ll2_out)\n",
    "#     preds = F.log_softmax(ll2_out, dim=1)\n",
    "    \n",
    "    return preds"
   ]
  },
  {
   "cell_type": "code",
   "execution_count": 19,
   "metadata": {},
   "outputs": [],
   "source": [
    "def labelToOneHot(x):\n",
    "    t = torch.zeros(x.shape[0],2).float()\n",
    "    for i in range(x.shape[0]):\n",
    "        if x[i] == 0.:\n",
    "            t[i][0] = 1\n",
    "        else:\n",
    "            t[i][1] = 1\n",
    "            \n",
    "    return t"
   ]
  },
  {
   "cell_type": "code",
   "execution_count": 20,
   "metadata": {
    "colab": {
     "base_uri": "https://localhost:8080/",
     "height": 1000
    },
    "colab_type": "code",
    "id": "tDMvGyz7BuGs",
    "outputId": "d986b8d5-fe35-49c7-ef87-6bfe2d4de5c3"
   },
   "outputs": [
    {
     "name": "stdout",
     "output_type": "stream",
     "text": [
      "Epoch 0\n",
      "TrainLoss:0.6769866347312927 TrainAccuracy:0.6134453781512605  TestLoss:0.6847366690635681 TestAccuracy:0.6666666666666666\n",
      "Epoch 1\n",
      "TrainLoss:0.6723993420600891 TrainAccuracy:0.634453781512605  TestLoss:0.6820648908615112 TestAccuracy:0.65\n",
      "Epoch 2\n",
      "TrainLoss:0.6683420538902283 TrainAccuracy:0.6722689075630253  TestLoss:0.6794629693031311 TestAccuracy:0.6666666666666666\n",
      "Epoch 3\n",
      "TrainLoss:0.6646751165390015 TrainAccuracy:0.7142857142857143  TestLoss:0.6768797636032104 TestAccuracy:0.6666666666666666\n",
      "Epoch 4\n",
      "TrainLoss:0.6614056825637817 TrainAccuracy:0.7394957983193278  TestLoss:0.674437940120697 TestAccuracy:0.6333333333333333\n",
      "Epoch 5\n",
      "TrainLoss:0.6578478813171387 TrainAccuracy:0.773109243697479  TestLoss:0.6718622446060181 TestAccuracy:0.6\n",
      "Epoch 6\n",
      "TrainLoss:0.6538050770759583 TrainAccuracy:0.7983193277310925  TestLoss:0.6690770983695984 TestAccuracy:0.5833333333333334\n",
      "Epoch 7\n",
      "TrainLoss:0.6494548320770264 TrainAccuracy:0.7941176470588235  TestLoss:0.66596919298172 TestAccuracy:0.65\n",
      "Epoch 8\n",
      "TrainLoss:0.645004391670227 TrainAccuracy:0.7983193277310925  TestLoss:0.6633468866348267 TestAccuracy:0.6666666666666666\n",
      "Epoch 9\n",
      "TrainLoss:0.6401904225349426 TrainAccuracy:0.8235294117647058  TestLoss:0.6612078547477722 TestAccuracy:0.6833333333333333\n",
      "Epoch 10\n",
      "TrainLoss:0.6352567076683044 TrainAccuracy:0.8235294117647058  TestLoss:0.6586353182792664 TestAccuracy:0.7166666666666667\n",
      "Epoch 11\n",
      "TrainLoss:0.6304663419723511 TrainAccuracy:0.8403361344537815  TestLoss:0.65594881772995 TestAccuracy:0.7333333333333333\n",
      "Epoch 12\n",
      "TrainLoss:0.6261899471282959 TrainAccuracy:0.8739495798319328  TestLoss:0.654192328453064 TestAccuracy:0.7166666666666667\n",
      "Epoch 13\n",
      "TrainLoss:0.6225771307945251 TrainAccuracy:0.9033613445378151  TestLoss:0.6529430150985718 TestAccuracy:0.6833333333333333\n",
      "Epoch 14\n",
      "TrainLoss:0.6208105087280273 TrainAccuracy:0.9117647058823529  TestLoss:0.6512759327888489 TestAccuracy:0.7333333333333333\n",
      "Epoch 15\n",
      "TrainLoss:0.6211037635803223 TrainAccuracy:0.9201680672268907  TestLoss:0.6510273814201355 TestAccuracy:0.7666666666666667\n",
      "Epoch 16\n",
      "TrainLoss:0.6227405071258545 TrainAccuracy:0.9117647058823529  TestLoss:0.6514971852302551 TestAccuracy:0.6666666666666666\n",
      "Epoch 17\n",
      "TrainLoss:0.6225453019142151 TrainAccuracy:0.8907563025210085  TestLoss:0.6506427526473999 TestAccuracy:0.75\n",
      "Epoch 18\n",
      "TrainLoss:0.6221844553947449 TrainAccuracy:0.9033613445378151  TestLoss:0.6516970992088318 TestAccuracy:0.7\n",
      "Epoch 19\n",
      "TrainLoss:0.620693564414978 TrainAccuracy:0.9117647058823529  TestLoss:0.6501932144165039 TestAccuracy:0.7166666666666667\n",
      "Epoch 20\n",
      "TrainLoss:0.6211357712745667 TrainAccuracy:0.9033613445378151  TestLoss:0.6489230394363403 TestAccuracy:0.75\n",
      "Epoch 21\n",
      "TrainLoss:0.620648205280304 TrainAccuracy:0.9159663865546218  TestLoss:0.6518388986587524 TestAccuracy:0.7166666666666667\n",
      "Epoch 22\n",
      "TrainLoss:0.6206142902374268 TrainAccuracy:0.9159663865546218  TestLoss:0.6516770720481873 TestAccuracy:0.7333333333333333\n",
      "Epoch 23\n",
      "TrainLoss:0.6212270259857178 TrainAccuracy:0.9243697478991597  TestLoss:0.6490563750267029 TestAccuracy:0.7666666666666667\n",
      "Epoch 24\n",
      "TrainLoss:0.6224185228347778 TrainAccuracy:0.9159663865546218  TestLoss:0.6533838510513306 TestAccuracy:0.7166666666666667\n"
     ]
    }
   ],
   "source": [
    "optimizer = optim.Adam(pars,lr=1e-3) # Optimizer\n",
    "# tb = SummaryWriter()\n",
    "\n",
    "for epoch in range(25):\n",
    "    print('Epoch {}'.format(epoch))\n",
    "    X_batches, y_batches = shuffle_and_batch(X_train, y_train, 4, 67)\n",
    "    for i in range(len(X_batches)):\n",
    "        preds = feedForward(X_batches[i])\n",
    "#         loss = criterion(preds,labelToOneHot(y_batches[i])) \n",
    "        loss = criterion(preds,y_batches[i].long())+ 0.65*sum(p.pow(2.0).sum() for p in pars)\n",
    "        optimizer.zero_grad()\n",
    "        loss.backward(retain_graph = True)\n",
    "        optimizer.step()\n",
    "    \n",
    "    \n",
    "    \n",
    "    # Checking model on training set\n",
    "    train_preds = feedForward(X_train)\n",
    "    train_loss = criterion(train_preds, y_train.long())\n",
    "#     train_loss = criterion(train_preds,labelToOneHot(y_train))\n",
    "    train_preds = labelize(train_preds)\n",
    "    train_prediction_comparisons = (y_train == train_preds)\n",
    "    train_accuracy = float(train_prediction_comparisons.sum())/float(y_train.shape[0])\n",
    "    print('TrainLoss:{} TrainAccuracy:{}'.format(train_loss.item(), train_accuracy), end='  ')\n",
    "    \n",
    "\n",
    "    # Checking model on testing set\n",
    "    test_preds = feedForward(X_test)\n",
    "    test_loss = criterion(test_preds, y_test.long())\n",
    "#     test_loss = criterion(test_preds,labelToOneHot(y_test))\n",
    "    test_preds = labelize(test_preds)\n",
    "    test_prediction_comparisons = (y_test == test_preds)\n",
    "    test_accuracy = float(test_prediction_comparisons.sum())/float(y_test.shape[0])\n",
    "    print('TestLoss:{} TestAccuracy:{}'.format(test_loss.item(), test_accuracy))\n",
    "    \n",
    "#     tb.add_scalar('TrainLoss',train_loss, epoch)\n",
    "#     tb.add_scalar('TestLoss',test_loss, epoch)\n",
    "#     tb.add_scalar('TrainAccuracy', train_accuracy, epoch)\n",
    "#     tb.add_scalar('TestAccuracy', test_accuracy, epoch)"
   ]
  },
  {
   "cell_type": "markdown",
   "metadata": {
    "colab": {},
    "colab_type": "code",
    "id": "FcOnFXPuN8Oo"
   },
   "source": [
    "Confusion Matrix"
   ]
  },
  {
   "cell_type": "code",
   "execution_count": 21,
   "metadata": {},
   "outputs": [],
   "source": [
    "def cmatrix(target,preds):\n",
    "\n",
    "    di = {}\n",
    "    \n",
    "    count00 = 0\n",
    "    for i,j in zip(target,preds):\n",
    "        if i==0.0 and j==0.0:\n",
    "            count00+=1\n",
    "    di['count00'] = count00\n",
    "        \n",
    "    \n",
    "    count11 = 0\n",
    "    for i,j in zip(target,preds):\n",
    "        if i==1. and j==1.:\n",
    "            count11+=1\n",
    "    di['count11'] = count11\n",
    "\n",
    "    \n",
    "    count01 = 0\n",
    "    for i,j in zip(target,preds):\n",
    "        if i==0. and j==1.:\n",
    "            count01+=1\n",
    "    di['count01'] = count01\n",
    "    \n",
    "    count10 = 0\n",
    "    for i,j in zip(target,preds):\n",
    "        if i==1. and j==0.:\n",
    "            count10+=1\n",
    "    di['count10'] = count10\n",
    "        \n",
    "    print(di)"
   ]
  },
  {
   "cell_type": "code",
   "execution_count": 22,
   "metadata": {},
   "outputs": [
    {
     "data": {
      "text/plain": [
       "array([[118,   1],\n",
       "       [ 19, 100]])"
      ]
     },
     "execution_count": 22,
     "metadata": {},
     "output_type": "execute_result"
    }
   ],
   "source": [
    "print('Training Set Confusion matrix')\n",
    "confusion_matrix(y_train, train_preds)"
   ]
  },
  {
   "cell_type": "code",
   "execution_count": 23,
   "metadata": {},
   "outputs": [
    {
     "data": {
      "text/plain": [
       "array([[24,  6],\n",
       "       [11, 19]])"
      ]
     },
     "execution_count": 23,
     "metadata": {},
     "output_type": "execute_result"
    }
   ],
   "source": [
    "print('Testing Set Confusion matrix')\n",
    "confusion_matrix(y_test, test_preds)\n"
   ]
  },
  {
   "cell_type": "markdown",
   "metadata": {},
   "source": [
    "Raw"
   ]
  },
  {
   "cell_type": "code",
   "execution_count": 28,
   "metadata": {},
   "outputs": [],
   "source": [
    "Xraw = pickle.load(open(f'X5040_32_raw.pkl', 'rb'))\n",
    "yraw = pickle.load(open(f'y5040_32_raw.pkl', 'rb'))"
   ]
  },
  {
   "cell_type": "code",
   "execution_count": 29,
   "metadata": {},
   "outputs": [
    {
     "name": "stdout",
     "output_type": "stream",
     "text": [
      "RawAccuracy:0.6358186586736605  "
     ]
    }
   ],
   "source": [
    "raw_preds = feedForward(Xraw)\n",
    "# raw_loss = criterion(raw_preds, labelToOneHot(yraw))\n",
    "raw_preds = labelize(raw_preds)\n",
    "raw_prediction_comparisons = (yraw == raw_preds)\n",
    "raw_accuracy = float(raw_prediction_comparisons.sum())/float(yraw.shape[0])\n",
    "print('Raw Dataset Accuracy:{}'.format(raw_accuracy), end='  ')  "
   ]
  },
  {
   "cell_type": "code",
   "execution_count": 30,
   "metadata": {},
   "outputs": [
    {
     "data": {
      "text/plain": [
       "array([[ 147,    2],\n",
       "       [ 970, 1550]])"
      ]
     },
     "execution_count": 30,
     "metadata": {},
     "output_type": "execute_result"
    }
   ],
   "source": [
    "print('Raw Dataset Confusion Matrix')\n",
    "confusion_matrix(yraw, raw_preds) #target on the vertical axis and preds on the horizontal"
   ]
  },
  {
   "cell_type": "code",
   "execution_count": 31,
   "metadata": {},
   "outputs": [
    {
     "data": {
      "text/plain": [
       "0.7317607640433309"
      ]
     },
     "execution_count": 31,
     "metadata": {},
     "output_type": "execute_result"
    }
   ],
   "source": [
    "print('Raw Dataset F1-Score')\n",
    "f1_score(yraw, raw_preds, average = 'weighted')"
   ]
  },
  {
   "cell_type": "code",
   "execution_count": 47,
   "metadata": {},
   "outputs": [
    {
     "name": "stdout",
     "output_type": "stream",
     "text": [
      "0 misclassification: 1.342281879194631 %\n"
     ]
    }
   ],
   "source": [
    "print('0 misclassification: '+str(confusion_matrix(yraw, raw_preds)[0][1]/confusion_matrix(yraw, raw_preds)[0].sum()*100)+' %')"
   ]
  },
  {
   "cell_type": "code",
   "execution_count": 46,
   "metadata": {},
   "outputs": [
    {
     "name": "stdout",
     "output_type": "stream",
     "text": [
      "1 misclassification: 38.492063492063494 %\n"
     ]
    }
   ],
   "source": [
    "print('1 misclassification: '+str(confusion_matrix(yraw, raw_preds)[1][0]/confusion_matrix(yraw, raw_preds)[1].sum()*100)+' %')"
   ]
  },
  {
   "cell_type": "code",
   "execution_count": null,
   "metadata": {},
   "outputs": [],
   "source": []
  },
  {
   "cell_type": "code",
   "execution_count": null,
   "metadata": {},
   "outputs": [],
   "source": []
  },
  {
   "cell_type": "code",
   "execution_count": null,
   "metadata": {},
   "outputs": [],
   "source": []
  },
  {
   "cell_type": "code",
   "execution_count": null,
   "metadata": {},
   "outputs": [],
   "source": []
  },
  {
   "cell_type": "code",
   "execution_count": null,
   "metadata": {},
   "outputs": [],
   "source": []
  },
  {
   "cell_type": "code",
   "execution_count": null,
   "metadata": {},
   "outputs": [],
   "source": []
  },
  {
   "cell_type": "code",
   "execution_count": null,
   "metadata": {},
   "outputs": [],
   "source": []
  },
  {
   "cell_type": "code",
   "execution_count": null,
   "metadata": {},
   "outputs": [],
   "source": []
  },
  {
   "cell_type": "code",
   "execution_count": null,
   "metadata": {},
   "outputs": [],
   "source": []
  },
  {
   "cell_type": "code",
   "execution_count": null,
   "metadata": {},
   "outputs": [],
   "source": []
  },
  {
   "cell_type": "code",
   "execution_count": 36,
   "metadata": {},
   "outputs": [],
   "source": [
    "# a = torch.Tensor([[1,2,3]])\n",
    "# b = nn.Linear(3,2)\n",
    "# c = nn.Dropout(p=0.4)"
   ]
  },
  {
   "cell_type": "code",
   "execution_count": 37,
   "metadata": {},
   "outputs": [
    {
     "data": {
      "text/plain": [
       "(torch.Size([298, 3, 300, 300]), torch.Size([298]))"
      ]
     },
     "execution_count": 37,
     "metadata": {},
     "output_type": "execute_result"
    }
   ],
   "source": [
    "a = pickle.load(open(f'X298.pkl', 'rb'))\n",
    "b = pickle.load(open(f'y298.pkl', 'rb'))\n",
    "a.shape, b.shape"
   ]
  },
  {
   "cell_type": "code",
   "execution_count": 38,
   "metadata": {},
   "outputs": [],
   "source": [
    "onezeroes = []\n",
    "for i in range(Xraw.shape[0]):\n",
    "    if yraw[i] == 1. and raw_preds[i] == 0.:\n",
    "        onezeroes.append(i)\n",
    "\n",
    "onezeroes = torch.Tensor(onezeroes).long()"
   ]
  },
  {
   "cell_type": "code",
   "execution_count": 39,
   "metadata": {},
   "outputs": [],
   "source": [
    "onezeroimages = Xraw[onezeroes]"
   ]
  },
  {
   "cell_type": "code",
   "execution_count": 40,
   "metadata": {},
   "outputs": [
    {
     "data": {
      "text/plain": [
       "torch.Size([2669, 3, 32, 32])"
      ]
     },
     "execution_count": 40,
     "metadata": {},
     "output_type": "execute_result"
    }
   ],
   "source": [
    "Xraw.shape"
   ]
  },
  {
   "cell_type": "code",
   "execution_count": 41,
   "metadata": {},
   "outputs": [
    {
     "name": "stderr",
     "output_type": "stream",
     "text": [
      "Clipping input data to the valid range for imshow with RGB data ([0..1] for floats or [0..255] for integers).\n"
     ]
    },
    {
     "data": {
      "text/plain": [
       "<matplotlib.image.AxesImage at 0x7f0298eb1630>"
      ]
     },
     "execution_count": 41,
     "metadata": {},
     "output_type": "execute_result"
    },
    {
     "data": {
      "image/png": "[encoded data removed]",
      "text/plain": [
       "<Figure size 432x288 with 1 Axes>"
      ]
     },
     "metadata": {
      "needs_background": "light"
     },
     "output_type": "display_data"
    }
   ],
   "source": [
    "plt.imshow(onezeroimages[5].permute(1,2,0))"
   ]
  },
  {
   "cell_type": "code",
   "execution_count": 42,
   "metadata": {},
   "outputs": [],
   "source": [
    "# import torchvision\n",
    "# tb = SummaryWriter()\n",
    "# grid = torchvision.utils.make_grid(onezeroimages[:10])\n",
    "# tb.add_image('ims',grid)\n",
    "# tb.close()"
   ]
  }
 ],
 "metadata": {
  "colab": {
   "include_colab_link": true,
   "name": "LeNet5.2.ipynb",
   "provenance": []
  },
  "kernelspec": {
   "display_name": "Python 3",
   "language": "python",
   "name": "python3"
  },
  "language_info": {
   "codemirror_mode": {
    "name": "ipython",
    "version": 3
   },
   "file_extension": ".py",
   "mimetype": "text/x-python",
   "name": "python",
   "nbconvert_exporter": "python",
   "pygments_lexer": "ipython3",
   "version": "3.6.9"
  }
 },
 "nbformat": 4,
 "nbformat_minor": 1
}
