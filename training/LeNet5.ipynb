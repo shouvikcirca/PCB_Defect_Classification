{
 "cells": [
  {
   "cell_type": "markdown",
   "metadata": {},
   "source": [
    "# LeNet5"
   ]
  },
  {
   "cell_type": "code",
   "execution_count": 1,
   "metadata": {},
   "outputs": [],
   "source": [
    "import torch\n",
    "import torch.nn as nn\n",
    "import torch.nn.functional as F\n",
    "import torch.optim as optim\n",
    "\n",
    "nos = 7\n",
    "pars = []"
   ]
  },
  {
   "cell_type": "code",
   "execution_count": 39,
   "metadata": {},
   "outputs": [],
   "source": [
    "# c1 = nn.Conv2d(3,6, kernel_size = 5)\n",
    "# pool1 = nn.AvgPool2d(2, stride=2)\n",
    "# bims = torch.randn(7,3,32,32)\n",
    "c1_out = c1(bims)\n",
    "c1_out = F.relu(pool1(c1_out))\n",
    "# pars.extend([list(c1.parameters())])\n",
    "# pars.extend([c1.parameters()])\n",
    "# pars = pars + list(c1.parameters())"
   ]
  },
  {
   "cell_type": "code",
   "execution_count": null,
   "metadata": {},
   "outputs": [],
   "source": [
    "def displayDetails(lone = None, ltwo=None):\n",
    "    if lone is not None:\n",
    "        a = lone\n",
    "        print('--------')\n",
    "        for i in a[0]:\n",
    "            print(i)\n",
    "        print('--------')\n",
    "        for i in a[1]:\n",
    "            print(i)\n",
    "        print('-------')\n",
    "        for i in a[2]:\n",
    "            print(i)\n",
    "        print('-------')\n",
    "        for i in a[3]:\n",
    "            print(i)\n",
    "    if ltwo is not None:\n",
    "        a = ltwo\n",
    "        for i in a:\n",
    "            print('-----')\n",
    "            for j in i:\n",
    "                print(j.shape)"
   ]
  },
  {
   "cell_type": "code",
   "execution_count": 3,
   "metadata": {},
   "outputs": [],
   "source": [
    "first_cons6_filterlist = []\n",
    "second_cons6_filterlist = []\n",
    "third_cons3_filterlist = []\n",
    "fourth_last1_filterlist = []\n",
    "\n",
    "\n",
    "for i in range(6):\n",
    "    first_cons6_filterlist.append(nn.Conv2d(3,1,kernel_size = 5))\n",
    "#     pars.append(list(first_cons6_filterlist[-1].parameters()))\n",
    "#     pars.append(first_cons6_filterlist[-1].parameters())\n",
    "    pars = pars + list(first_cons6_filterlist[-1].parameters())\n",
    "    \n",
    "for i in range(6):\n",
    "    second_cons6_filterlist.append(nn.Conv2d(4,1,kernel_size = 5))\n",
    "#     pars.append(list(second_cons6_filterlist[-1].parameters()))\n",
    "#     pars.append(second_cons6_filterlist[-1].parameters())\n",
    "    pars = pars + list(second_cons6_filterlist[-1].parameters())\n",
    "    \n",
    "for i in range(3):\n",
    "    third_cons3_filterlist.append(nn.Conv2d(4,1,kernel_size = 5))\n",
    "#     pars.append(list(third_cons3_filterlist[-1].parameters()))\n",
    "#     pars.append(third_cons3_filterlist[-1].parameters())\n",
    "    pars = pars + list(third_cons3_filterlist[-1].parameters())\n",
    "\n",
    "fourth_last1_filterlist = [nn.Conv2d(6,1,kernel_size = 5)]\n",
    "# pars.append(list(fourth_last1_filterlist[-1].parameters()))\n",
    "# pars.append(fourth_last1_filterlist[-1].parameters())\n",
    "pars = pars + list(fourth_last1_filterlist[-1].parameters())"
   ]
  },
  {
   "cell_type": "code",
   "execution_count": null,
   "metadata": {},
   "outputs": [],
   "source": [
    "displayDetails(lone = [first_cons6_filterlist,second_cons6_filterlist,third_cons3_filterlist,fourth_last1_filterlist])"
   ]
  },
  {
   "cell_type": "code",
   "execution_count": 40,
   "metadata": {},
   "outputs": [],
   "source": [
    "def ef(li):\n",
    "    global c1_out\n",
    "    return torch.index_select(c1_out, 1, torch.tensor(li))\n",
    "\n",
    "#16 filters\n",
    "\n",
    "lione = [ef([0,1,2]),ef([1,2,3]), ef([2,3,4]), ef([3,4,5]), ef([0,4,5]),ef([0,1,5])]\n",
    "litwo = [ef([0,1,2,3]),ef([1,2,3,4]), ef([2,3,4,5]), ef([0,3,4,5]), ef([0,1,4,5]),ef([0,1,2,5])]\n",
    "lithree = [ef([0,1,3,4]),ef([1,2,4,5]), ef([0,2,3,5])]\n",
    "lifour = [ef([0,1,2,3,4,5])]"
   ]
  },
  {
   "cell_type": "code",
   "execution_count": null,
   "metadata": {},
   "outputs": [],
   "source": [
    "displayDetails(lone=None, ltwo=[lione,litwo,lithree,lifour])"
   ]
  },
  {
   "cell_type": "code",
   "execution_count": 41,
   "metadata": {},
   "outputs": [],
   "source": [
    "feature_maps1 = []\n",
    "feature_maps2 = []\n",
    "feature_maps3 = []\n",
    "feature_maps4 = []\n",
    "\n",
    "\n",
    "\n",
    "for i in range(6):\n",
    "    feature_maps1.append(first_cons6_filterlist[i](lione[i]))\n",
    "for i in range(6):\n",
    "    feature_maps2.append(second_cons6_filterlist[i](litwo[i]))\n",
    "for i in range(3):\n",
    "    feature_maps3.append(third_cons3_filterlist[i](lithree[i]))\n",
    "for i in range(1):\n",
    "    feature_maps4.append(fourth_last1_filterlist[i](lifour[i]))"
   ]
  },
  {
   "cell_type": "code",
   "execution_count": 42,
   "metadata": {},
   "outputs": [],
   "source": [
    "fms = []\n",
    "fms.extend(feature_maps1)\n",
    "fms.extend(feature_maps2)\n",
    "fms.extend(feature_maps3)\n",
    "fms.extend(feature_maps4)"
   ]
  },
  {
   "cell_type": "code",
   "execution_count": 43,
   "metadata": {},
   "outputs": [],
   "source": [
    "tfms = torch.Tensor([])\n",
    "for i in fms:\n",
    "    tfms = torch.cat([tfms, i], dim=1)"
   ]
  },
  {
   "cell_type": "code",
   "execution_count": 44,
   "metadata": {},
   "outputs": [],
   "source": [
    "# pool2 = nn.AvgPool2d(2, stride=2)\n",
    "c2_out = F.relu(pool2(tfms))\n",
    "# pars.extend([list(pool2.parameters())])"
   ]
  },
  {
   "cell_type": "code",
   "execution_count": 45,
   "metadata": {},
   "outputs": [],
   "source": [
    "# conv3 = nn.Conv2d(16, 120, kernel_size = 5)\n",
    "c3_out = conv3(c2_out)\n",
    "# pars.extend([list(conv3.parameters())])\n",
    "# pars.append(conv3.parameters())\n",
    "# pars = pars + list(conv3.parameters())"
   ]
  },
  {
   "cell_type": "code",
   "execution_count": 46,
   "metadata": {},
   "outputs": [],
   "source": [
    "c3_out = c3_out.reshape(nos,120)"
   ]
  },
  {
   "cell_type": "code",
   "execution_count": 11,
   "metadata": {},
   "outputs": [],
   "source": [
    "# ll1 = nn.Linear(120, 84)\n",
    "# ll2 = nn.Linear(84,2)\n",
    "# pars.extend([list(ll1.parameters()),list(ll2.parameters())])\n",
    "# pars.extend([ll1.parameters(),ll2.parameters()])\n",
    "# pars = pars + list(ll1.parameters()) + list(ll2.parameters())"
   ]
  },
  {
   "cell_type": "code",
   "execution_count": 47,
   "metadata": {},
   "outputs": [],
   "source": [
    "ll1_out = torch.tanh(ll1(c3_out))"
   ]
  },
  {
   "cell_type": "code",
   "execution_count": 48,
   "metadata": {},
   "outputs": [],
   "source": [
    "ll2_out = ll2(ll1_out)"
   ]
  },
  {
   "cell_type": "code",
   "execution_count": 49,
   "metadata": {},
   "outputs": [],
   "source": [
    "preds = nn.Softmax(dim=1)(ll2_out)"
   ]
  },
  {
   "cell_type": "code",
   "execution_count": 50,
   "metadata": {},
   "outputs": [
    {
     "data": {
      "text/plain": [
       "tensor([1.0000, 1.0000, 1.0000, 1.0000, 1.0000, 1.0000, 1.0000],\n",
       "       grad_fn=<SumBackward1>)"
      ]
     },
     "execution_count": 50,
     "metadata": {},
     "output_type": "execute_result"
    }
   ],
   "source": [
    "preds.sum(axis = 1)"
   ]
  },
  {
   "cell_type": "code",
   "execution_count": 16,
   "metadata": {},
   "outputs": [],
   "source": [
    "target = torch.Tensor([0,1,1,1,1,0,0]).long()"
   ]
  },
  {
   "cell_type": "code",
   "execution_count": 17,
   "metadata": {},
   "outputs": [
    {
     "data": {
      "text/plain": [
       "40"
      ]
     },
     "execution_count": 17,
     "metadata": {},
     "output_type": "execute_result"
    }
   ],
   "source": [
    "len(pars)"
   ]
  },
  {
   "cell_type": "code",
   "execution_count": 51,
   "metadata": {},
   "outputs": [],
   "source": [
    "criterion = nn.CrossEntropyLoss()\n",
    "loss = criterion(preds,target.long())\n",
    "\n",
    "# import torch.optim as optim\n",
    "# optimizer = optim.SGD()"
   ]
  },
  {
   "cell_type": "code",
   "execution_count": 36,
   "metadata": {},
   "outputs": [],
   "source": [
    "# optimizer = optim.Adam(pars,lr=1e-4)\n",
    "optimizer.zero_grad()\n",
    "loss.backward()"
   ]
  },
  {
   "cell_type": "code",
   "execution_count": 37,
   "metadata": {},
   "outputs": [],
   "source": [
    "optimizer.step()"
   ]
  },
  {
   "cell_type": "code",
   "execution_count": null,
   "metadata": {},
   "outputs": [],
   "source": [
    "import torch.optim as optim\n",
    "optimizer = optim.Adam(lr=1e-4, params = pars )"
   ]
  },
  {
   "cell_type": "code",
   "execution_count": 52,
   "metadata": {},
   "outputs": [
    {
     "data": {
      "text/plain": [
       "tensor(0.6889, grad_fn=<NllLossBackward>)"
      ]
     },
     "execution_count": 52,
     "metadata": {},
     "output_type": "execute_result"
    }
   ],
   "source": [
    "loss"
   ]
  },
  {
   "cell_type": "code",
   "execution_count": null,
   "metadata": {},
   "outputs": [],
   "source": [
    "list(pars[5].parameters())"
   ]
  }
 ],
 "metadata": {
  "kernelspec": {
   "display_name": "Python 3",
   "language": "python",
   "name": "python3"
  },
  "language_info": {
   "codemirror_mode": {
    "name": "ipython",
    "version": 3
   },
   "file_extension": ".py",
   "mimetype": "text/x-python",
   "name": "python",
   "nbconvert_exporter": "python",
   "pygments_lexer": "ipython3",
   "version": "3.6.9"
  }
 },
 "nbformat": 4,
 "nbformat_minor": 4
}
