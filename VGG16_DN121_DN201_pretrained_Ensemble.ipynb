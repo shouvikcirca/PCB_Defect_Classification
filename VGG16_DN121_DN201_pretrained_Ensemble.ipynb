{
  "nbformat": 4,
  "nbformat_minor": 0,
  "metadata": {
    "accelerator": "GPU",
    "colab": {
      "name": "VGG16_DN121_DN201_pretrained_Ensemble.ipynb",
      "provenance": [],
      "toc_visible": true
    },
    "kernelspec": {
      "display_name": "Python 3",
      "language": "python",
      "name": "python3"
    },
    "language_info": {
      "codemirror_mode": {
        "name": "ipython",
        "version": 3
      },
      "file_extension": ".py",
      "mimetype": "text/x-python",
      "name": "python",
      "nbconvert_exporter": "python",
      "pygments_lexer": "ipython3",
      "version": "3.6.9"
    }
  },
  "cells": [
    {
      "cell_type": "code",
      "metadata": {
        "colab_type": "code",
        "id": "mKdW-45kyBEr",
        "colab": {
          "base_uri": "https://localhost:8080/",
          "height": 34
        },
        "outputId": "476da961-cda9-478c-bb32-4ae3df2da81d"
      },
      "source": [
        "import tensorflow as tf\n",
        "import keras \n",
        "from keras.applications import VGG16, DenseNet121, DenseNet201\n",
        "import numpy as np\n",
        "from keras.preprocessing.image import ImageDataGenerator, NumpyArrayIterator\n",
        "from keras.callbacks import EarlyStopping, ModelCheckpoint\n",
        "from sklearn.metrics import confusion_matrix\n",
        "from keras import models, layers, optimizers"
      ],
      "execution_count": 1,
      "outputs": [
        {
          "output_type": "stream",
          "text": [
            "Using TensorFlow backend.\n"
          ],
          "name": "stderr"
        }
      ]
    },
    {
      "cell_type": "code",
      "metadata": {
        "colab_type": "code",
        "id": "O_hWsT8RyBE1",
        "colab": {}
      },
      "source": [
        "conv_base1 = VGG16(weights='imagenet', include_top = False, input_shape=(300,300,3))\n",
        "conv_base2 = DenseNet121(weights='imagenet', include_top = False, input_shape=(300,300,3))\n",
        "conv_base3 = DenseNet201(weights='imagenet', include_top = False, input_shape=(300,300,3))"
      ],
      "execution_count": 2,
      "outputs": []
    },
    {
      "cell_type": "code",
      "metadata": {
        "colab_type": "code",
        "id": "HmJBnMc0yrOl",
        "colab": {
          "base_uri": "https://localhost:8080/",
          "height": 122
        },
        "outputId": "c2fe4c18-6151-4db2-d235-31d2426e9e75"
      },
      "source": [
        "from google.colab import drive\n",
        "drive.mount(\"/content/gdrive/\")"
      ],
      "execution_count": 4,
      "outputs": [
        {
          "output_type": "stream",
          "text": [
            "Go to this URL in a browser: https://accounts.google.com/o/oauth2/auth?client_id=947318989803-6bn6qk8qdgf4n4g3pfee6491hc0brc4i.apps.googleusercontent.com&redirect_uri=urn%3aietf%3awg%3aoauth%3a2.0%3aoob&response_type=code&scope=email%20https%3a%2f%2fwww.googleapis.com%2fauth%2fdocs.test%20https%3a%2f%2fwww.googleapis.com%2fauth%2fdrive%20https%3a%2f%2fwww.googleapis.com%2fauth%2fdrive.photos.readonly%20https%3a%2f%2fwww.googleapis.com%2fauth%2fpeopleapi.readonly\n",
            "\n",
            "Enter your authorization code:\n",
            "··········\n",
            "Mounted at /content/gdrive/\n"
          ],
          "name": "stdout"
        }
      ]
    },
    {
      "cell_type": "code",
      "metadata": {
        "colab_type": "code",
        "id": "jZpMhfh0yBFA",
        "colab": {}
      },
      "source": [
        "X = np.load(\"gdrive/My Drive/pcb/xtrain.npy\")\n",
        "y = np.load(\"gdrive/My Drive/pcb/ytrain.npy\")"
      ],
      "execution_count": 3,
      "outputs": []
    },
    {
      "cell_type": "code",
      "metadata": {
        "id": "WBlCl5iJFAIs",
        "colab_type": "code",
        "colab": {
          "base_uri": "https://localhost:8080/",
          "height": 34
        },
        "outputId": "5120467c-5008-4381-e4b8-39027a5315ef"
      },
      "source": [
        "conv_base1.predict(X[0].reshape(1,300,300,3)).shape, conv_base2.predict(X[0].reshape(1,300,300,3)).shape, conv_base3.predict(X[0].reshape(1,300,300,3)).shape"
      ],
      "execution_count": 4,
      "outputs": [
        {
          "output_type": "execute_result",
          "data": {
            "text/plain": [
              "((1, 9, 9, 512), (1, 9, 9, 1024), (1, 9, 9, 1920))"
            ]
          },
          "metadata": {
            "tags": []
          },
          "execution_count": 4
        }
      ]
    },
    {
      "cell_type": "code",
      "metadata": {
        "id": "gLEHNpSCtRDv",
        "colab_type": "code",
        "colab": {}
      },
      "source": [
        "# Training set has 472 samples"
      ],
      "execution_count": null,
      "outputs": []
    },
    {
      "cell_type": "markdown",
      "metadata": {
        "id": "dH2UMi3oLXRj",
        "colab_type": "text"
      },
      "source": [
        "Training with k-fold Validation"
      ]
    },
    {
      "cell_type": "code",
      "metadata": {
        "id": "ylYElFUN0NfI",
        "colab_type": "code",
        "colab": {
          "base_uri": "https://localhost:8080/",
          "height": 34
        },
        "outputId": "d9a90b87-998b-4072-bd02-1605708a84b6"
      },
      "source": [
        "X.shape, (y == 0).sum(), (y == 1).sum()"
      ],
      "execution_count": 5,
      "outputs": [
        {
          "output_type": "execute_result",
          "data": {
            "text/plain": [
              "((472, 300, 300, 3), 236, 236)"
            ]
          },
          "metadata": {
            "tags": []
          },
          "execution_count": 5
        }
      ]
    },
    {
      "cell_type": "code",
      "metadata": {
        "id": "BeQXJVZL4h7v",
        "colab_type": "code",
        "colab": {}
      },
      "source": [
        "datagen = ImageDataGenerator(\n",
        "    featurewise_center = True,\n",
        "    featurewise_std_normalization = True\n",
        ")\n",
        "\n",
        "datagen.fit(X)"
      ],
      "execution_count": 4,
      "outputs": []
    },
    {
      "cell_type": "code",
      "metadata": {
        "id": "T_rpEncQbF7a",
        "colab_type": "code",
        "colab": {}
      },
      "source": [
        "nos = X.shape[0]\n",
        "bs = int(nos/8)\n",
        "\n",
        "numit = NumpyArrayIterator(\n",
        "    X, y, datagen, batch_size=nos, shuffle=False, sample_weight=None,\n",
        "    seed=None, data_format=None, save_to_dir=None, save_prefix='',\n",
        "    save_format='png', subset=None, dtype=None\n",
        ")\n"
      ],
      "execution_count": 8,
      "outputs": []
    },
    {
      "cell_type": "code",
      "metadata": {
        "id": "kusUWHgtkn7o",
        "colab_type": "code",
        "colab": {
          "base_uri": "https://localhost:8080/",
          "height": 34
        },
        "outputId": "a75af265-2f80-42fa-a234-b2ca12f6d87c"
      },
      "source": [
        "for samples_batch,labels_batch in numit:\n",
        "    print(samples_batch.shape)\n",
        "    X[::] = samples_batch\n",
        "    break"
      ],
      "execution_count": 9,
      "outputs": [
        {
          "output_type": "stream",
          "text": [
            "(472, 300, 300, 3)\n"
          ],
          "name": "stdout"
        }
      ]
    },
    {
      "cell_type": "code",
      "metadata": {
        "id": "nSNmJgXP0Ndx",
        "colab_type": "code",
        "colab": {}
      },
      "source": [
        "from sklearn.model_selection import StratifiedKFold\n",
        "skf = StratifiedKFold(n_splits=8)"
      ],
      "execution_count": 10,
      "outputs": []
    },
    {
      "cell_type": "code",
      "metadata": {
        "id": "ygaQiPGMAyZN",
        "colab_type": "code",
        "colab": {
          "base_uri": "https://localhost:8080/",
          "height": 1000
        },
        "outputId": "6c662743-bd2e-42d7-aad9-a777e61dac90"
      },
      "source": [
        "accuracies = []\n",
        "f = 1\n",
        "\n",
        "for train_index, test_index in skf.split(X, y):\n",
        "        X_train = X[train_index]\n",
        "        X_test = X[test_index]\n",
        "        y_train = y[train_index]\n",
        "        y_test = y[test_index]\n",
        "      \n",
        "        X_train1 = conv_base1.predict(X_train)\n",
        "        X_train1 = X_train1.reshape(X_train.shape[0],9*9*512)\n",
        "        X_test1 = conv_base1.predict(X_test)\n",
        "        X_test1 = X_test1.reshape(X_test.shape[0],9*9*512)\n",
        "        \n",
        "        X_train2 = conv_base2.predict(X_train)\n",
        "        X_train2 = X_train2.reshape(X_train.shape[0],9*9*1024)\n",
        "        X_test2 = conv_base2.predict(X_test)\n",
        "        X_test2 = X_test2.reshape(X_test.shape[0],9*9*1024)\n",
        "        \n",
        "        X_train3 = conv_base3.predict(X_train)\n",
        "        X_train3 = X_train3.reshape(X_train.shape[0],9*9*1920)\n",
        "        X_test3 = conv_base3.predict(X_test)\n",
        "        X_test3 = X_test3.reshape(X_test.shape[0],9*9*1920)\n",
        "\n",
        "        model1 = models.Sequential()\n",
        "        model1.add(layers.Dense(256, activation = 'relu', input_dim = 9*9*512))\n",
        "        model1.add(layers.Dropout(0.5))\n",
        "        model1.add(layers.Dense(1, activation = 'sigmoid'))\n",
        "        model1.compile(optimizer = optimizers.Adam(lr = 1e-3),loss = 'binary_crossentropy',metrics = ['accuracy'])\n",
        "        \n",
        "        model2 = models.Sequential()\n",
        "        model2.add(layers.Dense(256, activation = 'relu', input_dim = 9*9*1024))\n",
        "        model2.add(layers.Dropout(0.5))\n",
        "        model2.add(layers.Dense(1, activation = 'sigmoid'))\n",
        "        model2.compile(optimizer = optimizers.Adam(lr = 1e-3),loss = 'binary_crossentropy',metrics = ['accuracy'])\n",
        "        \n",
        "        model3 = models.Sequential()\n",
        "        model3.add(layers.Dense(256, activation = 'relu', input_dim = 9*9*1920))\n",
        "        model3.add(layers.Dropout(0.5))\n",
        "        model3.add(layers.Dense(1, activation = 'sigmoid'))\n",
        "        model3.compile(optimizer = optimizers.Adam(lr = 1e-3),loss = 'binary_crossentropy',metrics = ['accuracy'])\n",
        "        \n",
        "        \n",
        "        my_callbacks = [EarlyStopping(monitor = 'val_loss', patience=5, restore_best_weights=True)]\n",
        "\n",
        "        print('Fold {}'.format(f))\n",
        "        \n",
        "        history1 = model1.fit(X_train1, y_train, epochs = 100, batch_size = 20, validation_data = (X_test1, y_test), shuffle = True, callbacks = my_callbacks)\n",
        "        history2 = model2.fit(X_train2, y_train, epochs = 100, batch_size = 20, validation_data = (X_test2, y_test), shuffle = True, callbacks = my_callbacks)\n",
        "        history3 = model3.fit(X_train3, y_train, epochs = 100, batch_size = 20, validation_data = (X_test3, y_test), shuffle = True, callbacks = my_callbacks)\n",
        "\n",
        "\n",
        "        test_preds1 = model1.predict(X_test1, batch_size = 20)\n",
        "        test_predclass1 = np.array([1.0 if i>0.5 else 0.0 for i in test_preds1])\n",
        "\n",
        "        test_preds2 = model2.predict(X_test2, batch_size = 20)\n",
        "        test_predclass2 = np.array([1.0 if i>0.5 else 0.0 for i in test_preds2])\n",
        "\n",
        "        test_preds3 = model3.predict(X_test3, batch_size = 20)\n",
        "        test_predclass3 = np.array([1.0 if i>0.5 else 0.0 for i in test_preds3])\n",
        "\n",
        "        kfinal_preds = np.empty(test_predclass3.shape[0])\n",
        "        for i in range(test_predclass3.shape[0]):\n",
        "          predsum = test_predclass1[i] + test_predclass2[i] + test_predclass3[i] \n",
        "          kfinal_preds[i] = 0.0 if predsum in [0.0,1.0] else 1.0\n",
        "\n",
        "\n",
        "        accuracies.append([confusion_matrix(y_test,kfinal_preds)[0][0]/(y_test == 0.0).sum(), confusion_matrix(y_test,kfinal_preds)[1][1]/(y_test == 1.0).sum()])\n",
        "        f+=1"
      ],
      "execution_count": 11,
      "outputs": [
        {
          "output_type": "stream",
          "text": [
            "Fold 1\n",
            "Train on 413 samples, validate on 59 samples\n",
            "Epoch 1/100\n",
            "413/413 [==============================] - 0s 1ms/step - loss: 8.1482 - accuracy: 0.6804 - val_loss: 4.0400 - val_accuracy: 0.6271\n",
            "Epoch 2/100\n",
            "413/413 [==============================] - 0s 799us/step - loss: 4.0123 - accuracy: 0.7700 - val_loss: 3.9942 - val_accuracy: 0.6441\n",
            "Epoch 3/100\n",
            "413/413 [==============================] - 0s 781us/step - loss: 2.1597 - accuracy: 0.8257 - val_loss: 2.5865 - val_accuracy: 0.6610\n",
            "Epoch 4/100\n",
            "413/413 [==============================] - 0s 791us/step - loss: 0.6790 - accuracy: 0.8668 - val_loss: 2.1082 - val_accuracy: 0.7288\n",
            "Epoch 5/100\n",
            "413/413 [==============================] - 0s 788us/step - loss: 0.5799 - accuracy: 0.8741 - val_loss: 1.2125 - val_accuracy: 0.6441\n",
            "Epoch 6/100\n",
            "413/413 [==============================] - 0s 769us/step - loss: 0.4029 - accuracy: 0.9249 - val_loss: 1.2402 - val_accuracy: 0.7458\n",
            "Epoch 7/100\n",
            "413/413 [==============================] - 0s 777us/step - loss: 0.4221 - accuracy: 0.9443 - val_loss: 1.3076 - val_accuracy: 0.7119\n",
            "Epoch 8/100\n",
            "413/413 [==============================] - 0s 783us/step - loss: 0.2635 - accuracy: 0.9443 - val_loss: 1.4194 - val_accuracy: 0.6949\n",
            "Epoch 9/100\n",
            "413/413 [==============================] - 0s 764us/step - loss: 0.1425 - accuracy: 0.9443 - val_loss: 1.3820 - val_accuracy: 0.6780\n",
            "Epoch 10/100\n",
            "413/413 [==============================] - 0s 764us/step - loss: 0.1613 - accuracy: 0.9516 - val_loss: 1.5759 - val_accuracy: 0.6780\n",
            "Train on 413 samples, validate on 59 samples\n",
            "Epoch 1/100\n",
            "413/413 [==============================] - 1s 2ms/step - loss: 46.3899 - accuracy: 0.5666 - val_loss: 22.1788 - val_accuracy: 0.5932\n",
            "Epoch 2/100\n",
            "413/413 [==============================] - 1s 1ms/step - loss: 20.4754 - accuracy: 0.7191 - val_loss: 12.4837 - val_accuracy: 0.5763\n",
            "Epoch 3/100\n",
            "413/413 [==============================] - 1s 1ms/step - loss: 13.0196 - accuracy: 0.7893 - val_loss: 10.7870 - val_accuracy: 0.5593\n",
            "Epoch 4/100\n",
            "413/413 [==============================] - 1s 1ms/step - loss: 10.8475 - accuracy: 0.7918 - val_loss: 2.2251 - val_accuracy: 0.8305\n",
            "Epoch 5/100\n",
            "413/413 [==============================] - 1s 1ms/step - loss: 3.3098 - accuracy: 0.8523 - val_loss: 12.5688 - val_accuracy: 0.5763\n",
            "Epoch 6/100\n",
            "413/413 [==============================] - 1s 1ms/step - loss: 6.3422 - accuracy: 0.8765 - val_loss: 7.6668 - val_accuracy: 0.6441\n",
            "Epoch 7/100\n",
            "413/413 [==============================] - 1s 1ms/step - loss: 5.8197 - accuracy: 0.8596 - val_loss: 5.7740 - val_accuracy: 0.6949\n",
            "Epoch 8/100\n",
            "413/413 [==============================] - 1s 1ms/step - loss: 1.9886 - accuracy: 0.8450 - val_loss: 6.8811 - val_accuracy: 0.6102\n",
            "Epoch 9/100\n",
            "413/413 [==============================] - 1s 1ms/step - loss: 7.4629 - accuracy: 0.8475 - val_loss: 1.8456 - val_accuracy: 0.7288\n",
            "Epoch 10/100\n",
            "413/413 [==============================] - 1s 1ms/step - loss: 7.0195 - accuracy: 0.8571 - val_loss: 6.3447 - val_accuracy: 0.7119\n",
            "Epoch 11/100\n",
            "413/413 [==============================] - 1s 1ms/step - loss: 5.8895 - accuracy: 0.8692 - val_loss: 6.4373 - val_accuracy: 0.6441\n",
            "Epoch 12/100\n",
            "413/413 [==============================] - 1s 1ms/step - loss: 4.0984 - accuracy: 0.8475 - val_loss: 4.9676 - val_accuracy: 0.6610\n",
            "Epoch 13/100\n",
            "413/413 [==============================] - 1s 1ms/step - loss: 2.0548 - accuracy: 0.8935 - val_loss: 2.0305 - val_accuracy: 0.7119\n",
            "Epoch 14/100\n",
            "413/413 [==============================] - 1s 1ms/step - loss: 3.0555 - accuracy: 0.9031 - val_loss: 4.8769 - val_accuracy: 0.5424\n",
            "Train on 413 samples, validate on 59 samples\n",
            "Epoch 1/100\n",
            "413/413 [==============================] - 1s 3ms/step - loss: 73.1667 - accuracy: 0.5690 - val_loss: 15.4729 - val_accuracy: 0.6271\n",
            "Epoch 2/100\n",
            "413/413 [==============================] - 1s 3ms/step - loss: 21.9007 - accuracy: 0.6973 - val_loss: 8.6883 - val_accuracy: 0.6780\n",
            "Epoch 3/100\n",
            "413/413 [==============================] - 1s 3ms/step - loss: 8.0128 - accuracy: 0.7676 - val_loss: 6.8186 - val_accuracy: 0.6780\n",
            "Epoch 4/100\n",
            "413/413 [==============================] - 1s 2ms/step - loss: 2.0474 - accuracy: 0.8305 - val_loss: 3.7994 - val_accuracy: 0.6271\n",
            "Epoch 5/100\n",
            "413/413 [==============================] - 1s 2ms/step - loss: 1.8460 - accuracy: 0.8426 - val_loss: 3.9242 - val_accuracy: 0.6610\n",
            "Epoch 6/100\n",
            "413/413 [==============================] - 1s 3ms/step - loss: 1.4135 - accuracy: 0.8814 - val_loss: 3.2597 - val_accuracy: 0.6610\n",
            "Epoch 7/100\n",
            "413/413 [==============================] - 1s 2ms/step - loss: 1.0556 - accuracy: 0.8523 - val_loss: 2.4952 - val_accuracy: 0.6610\n",
            "Epoch 8/100\n",
            "413/413 [==============================] - 1s 2ms/step - loss: 0.9111 - accuracy: 0.8692 - val_loss: 3.0766 - val_accuracy: 0.6780\n",
            "Epoch 9/100\n",
            "413/413 [==============================] - 1s 2ms/step - loss: 3.1346 - accuracy: 0.8814 - val_loss: 3.1144 - val_accuracy: 0.5932\n",
            "Epoch 10/100\n",
            "413/413 [==============================] - 1s 2ms/step - loss: 1.1134 - accuracy: 0.8450 - val_loss: 2.1417 - val_accuracy: 0.7119\n",
            "Epoch 11/100\n",
            "413/413 [==============================] - 1s 2ms/step - loss: 0.9052 - accuracy: 0.8886 - val_loss: 2.0963 - val_accuracy: 0.7966\n",
            "Epoch 12/100\n",
            "413/413 [==============================] - 1s 2ms/step - loss: 0.4080 - accuracy: 0.8983 - val_loss: 1.8818 - val_accuracy: 0.7288\n",
            "Epoch 13/100\n",
            "413/413 [==============================] - 1s 3ms/step - loss: 0.3678 - accuracy: 0.8983 - val_loss: 2.0438 - val_accuracy: 0.6949\n",
            "Epoch 14/100\n",
            "413/413 [==============================] - 1s 2ms/step - loss: 0.3554 - accuracy: 0.9080 - val_loss: 1.9642 - val_accuracy: 0.6949\n",
            "Epoch 15/100\n",
            "413/413 [==============================] - 1s 2ms/step - loss: 0.2365 - accuracy: 0.9056 - val_loss: 2.0077 - val_accuracy: 0.6780\n",
            "Epoch 16/100\n",
            "413/413 [==============================] - 1s 2ms/step - loss: 0.3613 - accuracy: 0.8765 - val_loss: 1.8324 - val_accuracy: 0.6949\n",
            "Epoch 17/100\n",
            "413/413 [==============================] - 1s 2ms/step - loss: 0.1924 - accuracy: 0.9370 - val_loss: 1.7383 - val_accuracy: 0.6949\n",
            "Epoch 18/100\n",
            "413/413 [==============================] - 1s 2ms/step - loss: 0.1876 - accuracy: 0.9104 - val_loss: 1.7253 - val_accuracy: 0.7119\n",
            "Epoch 19/100\n",
            "413/413 [==============================] - 1s 2ms/step - loss: 0.2197 - accuracy: 0.9249 - val_loss: 1.8527 - val_accuracy: 0.6780\n",
            "Epoch 20/100\n",
            "413/413 [==============================] - 1s 2ms/step - loss: 0.1751 - accuracy: 0.9249 - val_loss: 1.8740 - val_accuracy: 0.6610\n",
            "Epoch 21/100\n",
            "413/413 [==============================] - 1s 2ms/step - loss: 0.2094 - accuracy: 0.9153 - val_loss: 1.7835 - val_accuracy: 0.6610\n",
            "Epoch 22/100\n",
            "413/413 [==============================] - 1s 2ms/step - loss: 0.3141 - accuracy: 0.9298 - val_loss: 1.7336 - val_accuracy: 0.6441\n",
            "Epoch 23/100\n",
            "413/413 [==============================] - 1s 2ms/step - loss: 0.1514 - accuracy: 0.9419 - val_loss: 1.7622 - val_accuracy: 0.6780\n",
            "Fold 2\n",
            "Train on 413 samples, validate on 59 samples\n",
            "Epoch 1/100\n",
            "413/413 [==============================] - 0s 1ms/step - loss: 7.4566 - accuracy: 0.6150 - val_loss: 9.8153 - val_accuracy: 0.6271\n",
            "Epoch 2/100\n",
            "413/413 [==============================] - 0s 788us/step - loss: 4.5953 - accuracy: 0.7772 - val_loss: 9.2451 - val_accuracy: 0.6610\n",
            "Epoch 3/100\n",
            "413/413 [==============================] - 0s 759us/step - loss: 1.5365 - accuracy: 0.8475 - val_loss: 9.7693 - val_accuracy: 0.6780\n",
            "Epoch 4/100\n",
            "413/413 [==============================] - 0s 787us/step - loss: 0.7582 - accuracy: 0.8862 - val_loss: 8.1527 - val_accuracy: 0.6949\n",
            "Epoch 5/100\n",
            "413/413 [==============================] - 0s 781us/step - loss: 0.6526 - accuracy: 0.9104 - val_loss: 8.4293 - val_accuracy: 0.7627\n",
            "Epoch 6/100\n",
            "413/413 [==============================] - 0s 769us/step - loss: 0.3820 - accuracy: 0.9225 - val_loss: 7.9335 - val_accuracy: 0.7458\n",
            "Epoch 7/100\n",
            "413/413 [==============================] - 0s 792us/step - loss: 0.2625 - accuracy: 0.9467 - val_loss: 7.6686 - val_accuracy: 0.7288\n",
            "Epoch 8/100\n",
            "413/413 [==============================] - 0s 760us/step - loss: 0.3927 - accuracy: 0.9370 - val_loss: 7.6445 - val_accuracy: 0.6610\n",
            "Epoch 9/100\n",
            "413/413 [==============================] - 0s 758us/step - loss: 0.5224 - accuracy: 0.8959 - val_loss: 6.7919 - val_accuracy: 0.6610\n",
            "Epoch 10/100\n",
            "413/413 [==============================] - 0s 782us/step - loss: 0.2758 - accuracy: 0.9370 - val_loss: 7.3481 - val_accuracy: 0.6780\n",
            "Epoch 11/100\n",
            "413/413 [==============================] - 0s 783us/step - loss: 0.1239 - accuracy: 0.9709 - val_loss: 7.3763 - val_accuracy: 0.6780\n",
            "Epoch 12/100\n",
            "413/413 [==============================] - 0s 782us/step - loss: 0.2336 - accuracy: 0.9516 - val_loss: 7.1541 - val_accuracy: 0.6780\n",
            "Epoch 13/100\n",
            "413/413 [==============================] - 0s 782us/step - loss: 0.3980 - accuracy: 0.9225 - val_loss: 6.8643 - val_accuracy: 0.6610\n",
            "Epoch 14/100\n",
            "413/413 [==============================] - 0s 779us/step - loss: 0.3427 - accuracy: 0.9346 - val_loss: 5.8165 - val_accuracy: 0.6610\n",
            "Epoch 15/100\n",
            "413/413 [==============================] - 0s 760us/step - loss: 0.1733 - accuracy: 0.9443 - val_loss: 6.8000 - val_accuracy: 0.6780\n",
            "Epoch 16/100\n",
            "413/413 [==============================] - 0s 775us/step - loss: 0.3531 - accuracy: 0.9564 - val_loss: 6.8252 - val_accuracy: 0.6441\n",
            "Epoch 17/100\n",
            "413/413 [==============================] - 0s 779us/step - loss: 0.1865 - accuracy: 0.9467 - val_loss: 5.3798 - val_accuracy: 0.5932\n",
            "Epoch 18/100\n",
            "413/413 [==============================] - 0s 782us/step - loss: 0.1088 - accuracy: 0.9637 - val_loss: 4.9565 - val_accuracy: 0.5932\n",
            "Epoch 19/100\n",
            "413/413 [==============================] - 0s 770us/step - loss: 0.2380 - accuracy: 0.9443 - val_loss: 5.9882 - val_accuracy: 0.6271\n",
            "Epoch 20/100\n",
            "413/413 [==============================] - 0s 782us/step - loss: 0.2422 - accuracy: 0.9734 - val_loss: 6.3465 - val_accuracy: 0.6441\n",
            "Epoch 21/100\n",
            "413/413 [==============================] - 0s 764us/step - loss: 0.0966 - accuracy: 0.9564 - val_loss: 6.5455 - val_accuracy: 0.6441\n",
            "Epoch 22/100\n",
            "413/413 [==============================] - 0s 766us/step - loss: 0.0599 - accuracy: 0.9806 - val_loss: 6.4555 - val_accuracy: 0.6610\n",
            "Epoch 23/100\n",
            "413/413 [==============================] - 0s 773us/step - loss: 0.0516 - accuracy: 0.9806 - val_loss: 6.5143 - val_accuracy: 0.6102\n",
            "Train on 413 samples, validate on 59 samples\n",
            "Epoch 1/100\n",
            "413/413 [==============================] - 1s 2ms/step - loss: 44.0831 - accuracy: 0.5835 - val_loss: 45.6743 - val_accuracy: 0.6271\n",
            "Epoch 2/100\n",
            "413/413 [==============================] - 1s 1ms/step - loss: 21.4371 - accuracy: 0.7724 - val_loss: 51.4331 - val_accuracy: 0.5593\n",
            "Epoch 3/100\n",
            "413/413 [==============================] - 1s 1ms/step - loss: 10.1782 - accuracy: 0.7821 - val_loss: 30.2948 - val_accuracy: 0.5932\n",
            "Epoch 4/100\n",
            "413/413 [==============================] - 1s 1ms/step - loss: 8.4375 - accuracy: 0.7893 - val_loss: 24.4658 - val_accuracy: 0.6610\n",
            "Epoch 5/100\n",
            "413/413 [==============================] - 1s 1ms/step - loss: 7.6036 - accuracy: 0.7918 - val_loss: 32.2468 - val_accuracy: 0.6610\n",
            "Epoch 6/100\n",
            "413/413 [==============================] - 1s 1ms/step - loss: 5.4043 - accuracy: 0.8596 - val_loss: 17.4063 - val_accuracy: 0.6102\n",
            "Epoch 7/100\n",
            "413/413 [==============================] - 1s 1ms/step - loss: 6.7976 - accuracy: 0.7990 - val_loss: 58.5881 - val_accuracy: 0.6271\n",
            "Epoch 8/100\n",
            "413/413 [==============================] - 1s 1ms/step - loss: 9.9111 - accuracy: 0.8547 - val_loss: 34.1450 - val_accuracy: 0.5763\n",
            "Epoch 9/100\n",
            "413/413 [==============================] - 1s 1ms/step - loss: 3.1123 - accuracy: 0.8838 - val_loss: 21.6455 - val_accuracy: 0.5932\n",
            "Epoch 10/100\n",
            "413/413 [==============================] - 1s 1ms/step - loss: 0.5895 - accuracy: 0.8765 - val_loss: 24.3987 - val_accuracy: 0.6780\n",
            "Epoch 11/100\n",
            "413/413 [==============================] - 1s 1ms/step - loss: 0.3031 - accuracy: 0.9104 - val_loss: 32.0158 - val_accuracy: 0.6441\n",
            "Train on 413 samples, validate on 59 samples\n",
            "Epoch 1/100\n",
            "413/413 [==============================] - 1s 3ms/step - loss: 79.3098 - accuracy: 0.6150 - val_loss: 32.4770 - val_accuracy: 0.6610\n",
            "Epoch 2/100\n",
            "413/413 [==============================] - 1s 2ms/step - loss: 23.2020 - accuracy: 0.6707 - val_loss: 33.0662 - val_accuracy: 0.6949\n",
            "Epoch 3/100\n",
            "413/413 [==============================] - 1s 2ms/step - loss: 9.0727 - accuracy: 0.8136 - val_loss: 27.9018 - val_accuracy: 0.6780\n",
            "Epoch 4/100\n",
            "413/413 [==============================] - 1s 2ms/step - loss: 10.6076 - accuracy: 0.8644 - val_loss: 27.4094 - val_accuracy: 0.6780\n",
            "Epoch 5/100\n",
            "413/413 [==============================] - 1s 2ms/step - loss: 8.7068 - accuracy: 0.8717 - val_loss: 35.7978 - val_accuracy: 0.5932\n",
            "Epoch 6/100\n",
            "413/413 [==============================] - 1s 2ms/step - loss: 5.2476 - accuracy: 0.8523 - val_loss: 26.3888 - val_accuracy: 0.6271\n",
            "Epoch 7/100\n",
            "413/413 [==============================] - 1s 2ms/step - loss: 7.5276 - accuracy: 0.8910 - val_loss: 20.7936 - val_accuracy: 0.6102\n",
            "Epoch 8/100\n",
            "413/413 [==============================] - 1s 2ms/step - loss: 3.0412 - accuracy: 0.8935 - val_loss: 26.4310 - val_accuracy: 0.6102\n",
            "Epoch 9/100\n",
            "413/413 [==============================] - 1s 2ms/step - loss: 1.5716 - accuracy: 0.9249 - val_loss: 33.9867 - val_accuracy: 0.6610\n",
            "Epoch 10/100\n",
            "413/413 [==============================] - 1s 2ms/step - loss: 1.8206 - accuracy: 0.8814 - val_loss: 17.0479 - val_accuracy: 0.6271\n",
            "Epoch 11/100\n",
            "413/413 [==============================] - 1s 2ms/step - loss: 1.7486 - accuracy: 0.9225 - val_loss: 25.6398 - val_accuracy: 0.6271\n",
            "Epoch 12/100\n",
            "413/413 [==============================] - 1s 2ms/step - loss: 1.2407 - accuracy: 0.9540 - val_loss: 16.2712 - val_accuracy: 0.6441\n",
            "Epoch 13/100\n",
            "413/413 [==============================] - 1s 2ms/step - loss: 0.3844 - accuracy: 0.9419 - val_loss: 11.5177 - val_accuracy: 0.6949\n",
            "Epoch 14/100\n",
            "413/413 [==============================] - 1s 2ms/step - loss: 2.0935 - accuracy: 0.9322 - val_loss: 28.2708 - val_accuracy: 0.6441\n",
            "Epoch 15/100\n",
            "413/413 [==============================] - 1s 2ms/step - loss: 0.1899 - accuracy: 0.9516 - val_loss: 21.4255 - val_accuracy: 0.6271\n",
            "Epoch 16/100\n",
            "413/413 [==============================] - 1s 2ms/step - loss: 0.3434 - accuracy: 0.9492 - val_loss: 21.9945 - val_accuracy: 0.6610\n",
            "Epoch 17/100\n",
            "413/413 [==============================] - 1s 2ms/step - loss: 0.2743 - accuracy: 0.9492 - val_loss: 22.9345 - val_accuracy: 0.6780\n",
            "Epoch 18/100\n",
            "413/413 [==============================] - 1s 2ms/step - loss: 0.6520 - accuracy: 0.9685 - val_loss: 22.6215 - val_accuracy: 0.6949\n",
            "Fold 3\n",
            "Train on 413 samples, validate on 59 samples\n",
            "Epoch 1/100\n",
            "413/413 [==============================] - 0s 1ms/step - loss: 8.0372 - accuracy: 0.6368 - val_loss: 3.6622 - val_accuracy: 0.7288\n",
            "Epoch 2/100\n",
            "413/413 [==============================] - 0s 781us/step - loss: 2.5435 - accuracy: 0.7627 - val_loss: 1.5512 - val_accuracy: 0.7797\n",
            "Epoch 3/100\n",
            "413/413 [==============================] - 0s 771us/step - loss: 1.2013 - accuracy: 0.8281 - val_loss: 1.2243 - val_accuracy: 0.7627\n",
            "Epoch 4/100\n",
            "413/413 [==============================] - 0s 772us/step - loss: 0.6318 - accuracy: 0.8814 - val_loss: 0.9905 - val_accuracy: 0.7797\n",
            "Epoch 5/100\n",
            "413/413 [==============================] - 0s 760us/step - loss: 0.5654 - accuracy: 0.8668 - val_loss: 0.5285 - val_accuracy: 0.8305\n",
            "Epoch 6/100\n",
            "413/413 [==============================] - 0s 776us/step - loss: 0.7438 - accuracy: 0.8910 - val_loss: 0.7881 - val_accuracy: 0.6949\n",
            "Epoch 7/100\n",
            "413/413 [==============================] - 0s 783us/step - loss: 0.5134 - accuracy: 0.8862 - val_loss: 0.4375 - val_accuracy: 0.8305\n",
            "Epoch 8/100\n",
            "413/413 [==============================] - 0s 782us/step - loss: 0.4034 - accuracy: 0.9153 - val_loss: 0.6905 - val_accuracy: 0.7627\n",
            "Epoch 9/100\n",
            "413/413 [==============================] - 0s 762us/step - loss: 0.3914 - accuracy: 0.9128 - val_loss: 0.5666 - val_accuracy: 0.8136\n",
            "Epoch 10/100\n",
            "413/413 [==============================] - 0s 757us/step - loss: 0.2756 - accuracy: 0.9443 - val_loss: 0.7487 - val_accuracy: 0.7966\n",
            "Epoch 11/100\n",
            "413/413 [==============================] - 0s 766us/step - loss: 0.3325 - accuracy: 0.9249 - val_loss: 1.0492 - val_accuracy: 0.7288\n",
            "Epoch 12/100\n",
            "413/413 [==============================] - 0s 770us/step - loss: 0.3386 - accuracy: 0.9419 - val_loss: 1.1235 - val_accuracy: 0.7797\n",
            "Train on 413 samples, validate on 59 samples\n",
            "Epoch 1/100\n",
            "413/413 [==============================] - 1s 2ms/step - loss: 30.3496 - accuracy: 0.5714 - val_loss: 55.2570 - val_accuracy: 0.7627\n",
            "Epoch 2/100\n",
            "413/413 [==============================] - 1s 1ms/step - loss: 19.9288 - accuracy: 0.7191 - val_loss: 29.4895 - val_accuracy: 0.7627\n",
            "Epoch 3/100\n",
            "413/413 [==============================] - 1s 1ms/step - loss: 13.0544 - accuracy: 0.7361 - val_loss: 26.3149 - val_accuracy: 0.7119\n",
            "Epoch 4/100\n",
            "413/413 [==============================] - 1s 1ms/step - loss: 3.7957 - accuracy: 0.8039 - val_loss: 18.9889 - val_accuracy: 0.7458\n",
            "Epoch 5/100\n",
            "413/413 [==============================] - 1s 1ms/step - loss: 4.0573 - accuracy: 0.8208 - val_loss: 19.9881 - val_accuracy: 0.7119\n",
            "Epoch 6/100\n",
            "413/413 [==============================] - 1s 1ms/step - loss: 8.3126 - accuracy: 0.8111 - val_loss: 18.7392 - val_accuracy: 0.6271\n",
            "Epoch 7/100\n",
            "413/413 [==============================] - 1s 1ms/step - loss: 5.1484 - accuracy: 0.8039 - val_loss: 12.9251 - val_accuracy: 0.7797\n",
            "Epoch 8/100\n",
            "413/413 [==============================] - 1s 1ms/step - loss: 6.2013 - accuracy: 0.8257 - val_loss: 5.2213 - val_accuracy: 0.7458\n",
            "Epoch 9/100\n",
            "413/413 [==============================] - 1s 1ms/step - loss: 2.5578 - accuracy: 0.8596 - val_loss: 10.6452 - val_accuracy: 0.8136\n",
            "Epoch 10/100\n",
            "413/413 [==============================] - 1s 1ms/step - loss: 2.9000 - accuracy: 0.8644 - val_loss: 8.1733 - val_accuracy: 0.7797\n",
            "Epoch 11/100\n",
            "413/413 [==============================] - 1s 1ms/step - loss: 2.8730 - accuracy: 0.8596 - val_loss: 11.0309 - val_accuracy: 0.7458\n",
            "Epoch 12/100\n",
            "413/413 [==============================] - 1s 1ms/step - loss: 1.1085 - accuracy: 0.8668 - val_loss: 8.3967 - val_accuracy: 0.7966\n",
            "Epoch 13/100\n",
            "413/413 [==============================] - 1s 1ms/step - loss: 1.2056 - accuracy: 0.8692 - val_loss: 11.9852 - val_accuracy: 0.7288\n",
            "Train on 413 samples, validate on 59 samples\n",
            "Epoch 1/100\n",
            "413/413 [==============================] - 1s 3ms/step - loss: 51.8637 - accuracy: 0.5860 - val_loss: 52.1311 - val_accuracy: 0.6271\n",
            "Epoch 2/100\n",
            "413/413 [==============================] - 1s 2ms/step - loss: 29.4429 - accuracy: 0.7361 - val_loss: 50.9971 - val_accuracy: 0.7797\n",
            "Epoch 3/100\n",
            "413/413 [==============================] - 1s 3ms/step - loss: 21.4964 - accuracy: 0.7458 - val_loss: 22.6064 - val_accuracy: 0.7288\n",
            "Epoch 4/100\n",
            "413/413 [==============================] - 1s 3ms/step - loss: 8.9014 - accuracy: 0.7990 - val_loss: 17.3792 - val_accuracy: 0.8305\n",
            "Epoch 5/100\n",
            "413/413 [==============================] - 1s 2ms/step - loss: 7.6139 - accuracy: 0.8305 - val_loss: 20.6450 - val_accuracy: 0.7288\n",
            "Epoch 6/100\n",
            "413/413 [==============================] - 1s 2ms/step - loss: 8.6685 - accuracy: 0.8547 - val_loss: 21.8276 - val_accuracy: 0.7797\n",
            "Epoch 7/100\n",
            "413/413 [==============================] - 1s 3ms/step - loss: 7.6228 - accuracy: 0.8668 - val_loss: 17.6512 - val_accuracy: 0.7797\n",
            "Epoch 8/100\n",
            "413/413 [==============================] - 1s 3ms/step - loss: 3.4227 - accuracy: 0.9177 - val_loss: 16.0024 - val_accuracy: 0.8475\n",
            "Epoch 9/100\n",
            "413/413 [==============================] - 1s 3ms/step - loss: 3.2062 - accuracy: 0.8959 - val_loss: 35.1321 - val_accuracy: 0.7288\n",
            "Epoch 10/100\n",
            "413/413 [==============================] - 1s 3ms/step - loss: 5.3286 - accuracy: 0.8596 - val_loss: 16.2733 - val_accuracy: 0.7288\n",
            "Epoch 11/100\n",
            "413/413 [==============================] - 1s 3ms/step - loss: 2.8466 - accuracy: 0.9225 - val_loss: 20.2137 - val_accuracy: 0.7288\n",
            "Epoch 12/100\n",
            "413/413 [==============================] - 1s 2ms/step - loss: 2.5162 - accuracy: 0.8886 - val_loss: 10.2983 - val_accuracy: 0.6610\n",
            "Epoch 13/100\n",
            "413/413 [==============================] - 1s 2ms/step - loss: 1.1460 - accuracy: 0.8886 - val_loss: 6.9896 - val_accuracy: 0.7966\n",
            "Epoch 14/100\n",
            "413/413 [==============================] - 1s 3ms/step - loss: 0.7574 - accuracy: 0.9031 - val_loss: 10.0367 - val_accuracy: 0.7458\n",
            "Epoch 15/100\n",
            "413/413 [==============================] - 1s 2ms/step - loss: 1.1786 - accuracy: 0.9370 - val_loss: 7.0023 - val_accuracy: 0.7627\n",
            "Epoch 16/100\n",
            "413/413 [==============================] - 1s 3ms/step - loss: 1.1321 - accuracy: 0.9104 - val_loss: 6.0273 - val_accuracy: 0.7288\n",
            "Epoch 17/100\n",
            "413/413 [==============================] - 1s 3ms/step - loss: 0.9279 - accuracy: 0.9128 - val_loss: 13.4991 - val_accuracy: 0.7119\n",
            "Epoch 18/100\n",
            "413/413 [==============================] - 1s 2ms/step - loss: 3.4943 - accuracy: 0.9104 - val_loss: 14.4867 - val_accuracy: 0.7458\n",
            "Epoch 19/100\n",
            "413/413 [==============================] - 1s 2ms/step - loss: 0.8205 - accuracy: 0.9540 - val_loss: 11.9894 - val_accuracy: 0.7627\n",
            "Epoch 20/100\n",
            "413/413 [==============================] - 1s 3ms/step - loss: 0.5691 - accuracy: 0.9395 - val_loss: 8.7312 - val_accuracy: 0.7627\n",
            "Epoch 21/100\n",
            "413/413 [==============================] - 1s 2ms/step - loss: 0.8936 - accuracy: 0.9540 - val_loss: 10.5705 - val_accuracy: 0.7458\n",
            "Fold 4\n",
            "Train on 413 samples, validate on 59 samples\n",
            "Epoch 1/100\n",
            "413/413 [==============================] - 0s 1ms/step - loss: 9.5102 - accuracy: 0.6223 - val_loss: 1.8772 - val_accuracy: 0.7458\n",
            "Epoch 2/100\n",
            "413/413 [==============================] - 0s 793us/step - loss: 1.7414 - accuracy: 0.7918 - val_loss: 1.3942 - val_accuracy: 0.7966\n",
            "Epoch 3/100\n",
            "413/413 [==============================] - 0s 790us/step - loss: 1.0532 - accuracy: 0.8450 - val_loss: 1.4586 - val_accuracy: 0.7119\n",
            "Epoch 4/100\n",
            "413/413 [==============================] - 0s 756us/step - loss: 0.5167 - accuracy: 0.8547 - val_loss: 1.2534 - val_accuracy: 0.7797\n",
            "Epoch 5/100\n",
            "413/413 [==============================] - 0s 788us/step - loss: 0.3633 - accuracy: 0.8935 - val_loss: 1.6632 - val_accuracy: 0.7119\n",
            "Epoch 6/100\n",
            "413/413 [==============================] - 0s 772us/step - loss: 0.3806 - accuracy: 0.8935 - val_loss: 1.8512 - val_accuracy: 0.6780\n",
            "Epoch 7/100\n",
            "413/413 [==============================] - 0s 782us/step - loss: 0.2439 - accuracy: 0.9031 - val_loss: 1.8983 - val_accuracy: 0.7627\n",
            "Epoch 8/100\n",
            "413/413 [==============================] - 0s 771us/step - loss: 0.2262 - accuracy: 0.9395 - val_loss: 1.5622 - val_accuracy: 0.7288\n",
            "Epoch 9/100\n",
            "413/413 [==============================] - 0s 776us/step - loss: 0.2007 - accuracy: 0.9249 - val_loss: 1.8051 - val_accuracy: 0.6949\n",
            "Train on 413 samples, validate on 59 samples\n",
            "Epoch 1/100\n",
            "413/413 [==============================] - 1s 2ms/step - loss: 49.0004 - accuracy: 0.6199 - val_loss: 69.6069 - val_accuracy: 0.6102\n",
            "Epoch 2/100\n",
            "413/413 [==============================] - 1s 1ms/step - loss: 41.1285 - accuracy: 0.6610 - val_loss: 32.9999 - val_accuracy: 0.6441\n",
            "Epoch 3/100\n",
            "413/413 [==============================] - 1s 1ms/step - loss: 16.3697 - accuracy: 0.7724 - val_loss: 15.2233 - val_accuracy: 0.6780\n",
            "Epoch 4/100\n",
            "413/413 [==============================] - 1s 1ms/step - loss: 11.9134 - accuracy: 0.7772 - val_loss: 14.2541 - val_accuracy: 0.6441\n",
            "Epoch 5/100\n",
            "413/413 [==============================] - 1s 1ms/step - loss: 4.6536 - accuracy: 0.8232 - val_loss: 8.3803 - val_accuracy: 0.6441\n",
            "Epoch 6/100\n",
            "413/413 [==============================] - 1s 1ms/step - loss: 9.6484 - accuracy: 0.8668 - val_loss: 8.6974 - val_accuracy: 0.6610\n",
            "Epoch 7/100\n",
            "413/413 [==============================] - 1s 1ms/step - loss: 4.1400 - accuracy: 0.8692 - val_loss: 9.1818 - val_accuracy: 0.6949\n",
            "Epoch 8/100\n",
            "413/413 [==============================] - 1s 1ms/step - loss: 3.9645 - accuracy: 0.8402 - val_loss: 7.9983 - val_accuracy: 0.6780\n",
            "Epoch 9/100\n",
            "413/413 [==============================] - 1s 1ms/step - loss: 3.3917 - accuracy: 0.8886 - val_loss: 7.2328 - val_accuracy: 0.6780\n",
            "Epoch 10/100\n",
            "413/413 [==============================] - 1s 1ms/step - loss: 3.7140 - accuracy: 0.8668 - val_loss: 5.9055 - val_accuracy: 0.6949\n",
            "Epoch 11/100\n",
            "413/413 [==============================] - 1s 1ms/step - loss: 1.7337 - accuracy: 0.8910 - val_loss: 9.2176 - val_accuracy: 0.6780\n",
            "Epoch 12/100\n",
            "413/413 [==============================] - 1s 1ms/step - loss: 2.4949 - accuracy: 0.8838 - val_loss: 3.4354 - val_accuracy: 0.6949\n",
            "Epoch 13/100\n",
            "413/413 [==============================] - 1s 1ms/step - loss: 2.4562 - accuracy: 0.8765 - val_loss: 9.4964 - val_accuracy: 0.7797\n",
            "Epoch 14/100\n",
            "413/413 [==============================] - 1s 1ms/step - loss: 2.7630 - accuracy: 0.8886 - val_loss: 4.1334 - val_accuracy: 0.7458\n",
            "Epoch 15/100\n",
            "413/413 [==============================] - 1s 1ms/step - loss: 1.2891 - accuracy: 0.9201 - val_loss: 3.8129 - val_accuracy: 0.6949\n",
            "Epoch 16/100\n",
            "413/413 [==============================] - 1s 1ms/step - loss: 0.5821 - accuracy: 0.9322 - val_loss: 3.4805 - val_accuracy: 0.6780\n",
            "Epoch 17/100\n",
            "413/413 [==============================] - 1s 1ms/step - loss: 1.4269 - accuracy: 0.9322 - val_loss: 2.3108 - val_accuracy: 0.7627\n",
            "Epoch 18/100\n",
            "413/413 [==============================] - 1s 1ms/step - loss: 1.6768 - accuracy: 0.9177 - val_loss: 4.0745 - val_accuracy: 0.7288\n",
            "Epoch 19/100\n",
            "413/413 [==============================] - 1s 1ms/step - loss: 0.9466 - accuracy: 0.9540 - val_loss: 2.4122 - val_accuracy: 0.7627\n",
            "Epoch 20/100\n",
            "413/413 [==============================] - 1s 1ms/step - loss: 0.6902 - accuracy: 0.9419 - val_loss: 2.6173 - val_accuracy: 0.7288\n",
            "Epoch 21/100\n",
            "413/413 [==============================] - 1s 1ms/step - loss: 0.6799 - accuracy: 0.9419 - val_loss: 2.7702 - val_accuracy: 0.7288\n",
            "Epoch 22/100\n",
            "413/413 [==============================] - 1s 1ms/step - loss: 0.9537 - accuracy: 0.9128 - val_loss: 2.0763 - val_accuracy: 0.6949\n",
            "Epoch 23/100\n",
            "413/413 [==============================] - 1s 1ms/step - loss: 0.4625 - accuracy: 0.9419 - val_loss: 2.3267 - val_accuracy: 0.6949\n",
            "Epoch 24/100\n",
            "413/413 [==============================] - 1s 1ms/step - loss: 0.3629 - accuracy: 0.9564 - val_loss: 2.0012 - val_accuracy: 0.7458\n",
            "Epoch 25/100\n",
            "413/413 [==============================] - 1s 1ms/step - loss: 0.1430 - accuracy: 0.9613 - val_loss: 2.0426 - val_accuracy: 0.7288\n",
            "Epoch 26/100\n",
            "413/413 [==============================] - 1s 1ms/step - loss: 0.7392 - accuracy: 0.9564 - val_loss: 2.1395 - val_accuracy: 0.7288\n",
            "Epoch 27/100\n",
            "413/413 [==============================] - 1s 1ms/step - loss: 1.3196 - accuracy: 0.9322 - val_loss: 2.2893 - val_accuracy: 0.7119\n",
            "Epoch 28/100\n",
            "413/413 [==============================] - 1s 1ms/step - loss: 0.2454 - accuracy: 0.9564 - val_loss: 2.2830 - val_accuracy: 0.6949\n",
            "Epoch 29/100\n",
            "413/413 [==============================] - 1s 1ms/step - loss: 0.1257 - accuracy: 0.9540 - val_loss: 2.3608 - val_accuracy: 0.6949\n",
            "Train on 413 samples, validate on 59 samples\n",
            "Epoch 1/100\n",
            "413/413 [==============================] - 1s 3ms/step - loss: 50.9767 - accuracy: 0.5835 - val_loss: 10.3419 - val_accuracy: 0.7458\n",
            "Epoch 2/100\n",
            "413/413 [==============================] - 1s 3ms/step - loss: 30.9304 - accuracy: 0.7288 - val_loss: 5.4014 - val_accuracy: 0.8136\n",
            "Epoch 3/100\n",
            "413/413 [==============================] - 1s 2ms/step - loss: 16.8389 - accuracy: 0.7845 - val_loss: 12.2411 - val_accuracy: 0.7288\n",
            "Epoch 4/100\n",
            "413/413 [==============================] - 1s 2ms/step - loss: 15.5900 - accuracy: 0.8111 - val_loss: 11.3358 - val_accuracy: 0.7288\n",
            "Epoch 5/100\n",
            "413/413 [==============================] - 1s 2ms/step - loss: 11.8218 - accuracy: 0.8232 - val_loss: 6.8605 - val_accuracy: 0.7966\n",
            "Epoch 6/100\n",
            "413/413 [==============================] - 1s 2ms/step - loss: 5.7204 - accuracy: 0.8644 - val_loss: 5.2524 - val_accuracy: 0.7458\n",
            "Epoch 7/100\n",
            "413/413 [==============================] - 1s 2ms/step - loss: 5.6845 - accuracy: 0.8668 - val_loss: 7.2902 - val_accuracy: 0.7288\n",
            "Epoch 8/100\n",
            "413/413 [==============================] - 1s 2ms/step - loss: 4.5539 - accuracy: 0.8789 - val_loss: 2.6779 - val_accuracy: 0.7458\n",
            "Epoch 9/100\n",
            "413/413 [==============================] - 1s 2ms/step - loss: 3.6529 - accuracy: 0.8644 - val_loss: 6.9923 - val_accuracy: 0.7966\n",
            "Epoch 10/100\n",
            "413/413 [==============================] - 1s 2ms/step - loss: 2.4150 - accuracy: 0.9225 - val_loss: 3.6107 - val_accuracy: 0.7797\n",
            "Epoch 11/100\n",
            "413/413 [==============================] - 1s 2ms/step - loss: 1.6383 - accuracy: 0.9153 - val_loss: 3.8480 - val_accuracy: 0.8136\n",
            "Epoch 12/100\n",
            "413/413 [==============================] - 1s 2ms/step - loss: 3.7466 - accuracy: 0.9177 - val_loss: 4.7836 - val_accuracy: 0.7119\n",
            "Epoch 13/100\n",
            "413/413 [==============================] - 1s 2ms/step - loss: 1.0202 - accuracy: 0.9128 - val_loss: 3.2459 - val_accuracy: 0.7797\n",
            "Fold 5\n",
            "Train on 413 samples, validate on 59 samples\n",
            "Epoch 1/100\n",
            "413/413 [==============================] - 0s 1ms/step - loss: 9.7572 - accuracy: 0.5956 - val_loss: 2.5873 - val_accuracy: 0.6949\n",
            "Epoch 2/100\n",
            "413/413 [==============================] - 0s 754us/step - loss: 2.5584 - accuracy: 0.7482 - val_loss: 2.5588 - val_accuracy: 0.6441\n",
            "Epoch 3/100\n",
            "413/413 [==============================] - 0s 782us/step - loss: 1.3858 - accuracy: 0.8136 - val_loss: 1.3883 - val_accuracy: 0.6949\n",
            "Epoch 4/100\n",
            "413/413 [==============================] - 0s 768us/step - loss: 0.6488 - accuracy: 0.8620 - val_loss: 0.7805 - val_accuracy: 0.6949\n",
            "Epoch 5/100\n",
            "413/413 [==============================] - 0s 770us/step - loss: 0.5507 - accuracy: 0.8959 - val_loss: 0.7128 - val_accuracy: 0.7288\n",
            "Epoch 6/100\n",
            "413/413 [==============================] - 0s 775us/step - loss: 0.3986 - accuracy: 0.9128 - val_loss: 1.6927 - val_accuracy: 0.6441\n",
            "Epoch 7/100\n",
            "413/413 [==============================] - 0s 776us/step - loss: 0.4540 - accuracy: 0.8910 - val_loss: 1.3337 - val_accuracy: 0.7119\n",
            "Epoch 8/100\n",
            "413/413 [==============================] - 0s 769us/step - loss: 0.2912 - accuracy: 0.9225 - val_loss: 1.2010 - val_accuracy: 0.7458\n",
            "Epoch 9/100\n",
            "413/413 [==============================] - 0s 769us/step - loss: 0.4221 - accuracy: 0.9395 - val_loss: 1.3642 - val_accuracy: 0.6949\n",
            "Epoch 10/100\n",
            "413/413 [==============================] - 0s 777us/step - loss: 0.4517 - accuracy: 0.9346 - val_loss: 1.6715 - val_accuracy: 0.6610\n",
            "Train on 413 samples, validate on 59 samples\n",
            "Epoch 1/100\n",
            "413/413 [==============================] - 1s 2ms/step - loss: 31.3653 - accuracy: 0.6392 - val_loss: 35.7642 - val_accuracy: 0.6610\n",
            "Epoch 2/100\n",
            "413/413 [==============================] - 1s 1ms/step - loss: 40.2535 - accuracy: 0.6513 - val_loss: 33.4507 - val_accuracy: 0.6780\n",
            "Epoch 3/100\n",
            "413/413 [==============================] - 1s 1ms/step - loss: 15.8915 - accuracy: 0.7143 - val_loss: 25.8446 - val_accuracy: 0.7458\n",
            "Epoch 4/100\n",
            "413/413 [==============================] - 1s 1ms/step - loss: 11.8534 - accuracy: 0.8039 - val_loss: 11.2792 - val_accuracy: 0.5932\n",
            "Epoch 5/100\n",
            "413/413 [==============================] - 1s 1ms/step - loss: 15.7481 - accuracy: 0.8015 - val_loss: 19.9959 - val_accuracy: 0.7288\n",
            "Epoch 6/100\n",
            "413/413 [==============================] - 1s 1ms/step - loss: 2.8126 - accuracy: 0.8644 - val_loss: 14.2988 - val_accuracy: 0.6949\n",
            "Epoch 7/100\n",
            "413/413 [==============================] - 1s 1ms/step - loss: 2.9533 - accuracy: 0.8692 - val_loss: 11.1410 - val_accuracy: 0.6610\n",
            "Epoch 8/100\n",
            "413/413 [==============================] - 1s 1ms/step - loss: 2.9304 - accuracy: 0.9201 - val_loss: 9.8274 - val_accuracy: 0.6949\n",
            "Epoch 9/100\n",
            "413/413 [==============================] - 1s 1ms/step - loss: 2.9364 - accuracy: 0.8886 - val_loss: 12.2631 - val_accuracy: 0.7458\n",
            "Epoch 10/100\n",
            "413/413 [==============================] - 1s 1ms/step - loss: 2.3379 - accuracy: 0.9056 - val_loss: 10.5951 - val_accuracy: 0.6780\n",
            "Epoch 11/100\n",
            "413/413 [==============================] - 1s 1ms/step - loss: 2.6334 - accuracy: 0.9153 - val_loss: 9.4584 - val_accuracy: 0.6780\n",
            "Epoch 12/100\n",
            "413/413 [==============================] - 1s 1ms/step - loss: 3.1869 - accuracy: 0.8959 - val_loss: 6.8109 - val_accuracy: 0.7288\n",
            "Epoch 13/100\n",
            "413/413 [==============================] - 1s 1ms/step - loss: 1.1709 - accuracy: 0.9056 - val_loss: 8.4948 - val_accuracy: 0.7119\n",
            "Epoch 14/100\n",
            "413/413 [==============================] - 1s 1ms/step - loss: 0.7509 - accuracy: 0.9225 - val_loss: 5.9387 - val_accuracy: 0.6780\n",
            "Epoch 15/100\n",
            "413/413 [==============================] - 1s 1ms/step - loss: 0.8304 - accuracy: 0.9153 - val_loss: 8.1089 - val_accuracy: 0.7119\n",
            "Epoch 16/100\n",
            "413/413 [==============================] - 1s 1ms/step - loss: 1.3112 - accuracy: 0.9370 - val_loss: 9.9302 - val_accuracy: 0.7119\n",
            "Epoch 17/100\n",
            "413/413 [==============================] - 1s 1ms/step - loss: 1.3442 - accuracy: 0.9395 - val_loss: 7.5914 - val_accuracy: 0.7119\n",
            "Epoch 18/100\n",
            "413/413 [==============================] - 1s 1ms/step - loss: 0.3968 - accuracy: 0.9443 - val_loss: 5.5112 - val_accuracy: 0.7119\n",
            "Epoch 19/100\n",
            "413/413 [==============================] - 1s 1ms/step - loss: 0.5780 - accuracy: 0.9346 - val_loss: 7.1910 - val_accuracy: 0.7458\n",
            "Epoch 20/100\n",
            "413/413 [==============================] - 1s 1ms/step - loss: 0.3417 - accuracy: 0.9370 - val_loss: 5.6222 - val_accuracy: 0.6949\n",
            "Epoch 21/100\n",
            "413/413 [==============================] - 1s 1ms/step - loss: 1.4413 - accuracy: 0.9080 - val_loss: 9.9312 - val_accuracy: 0.7288\n",
            "Epoch 22/100\n",
            "413/413 [==============================] - 1s 1ms/step - loss: 0.2642 - accuracy: 0.9370 - val_loss: 8.3758 - val_accuracy: 0.7458\n",
            "Epoch 23/100\n",
            "413/413 [==============================] - 1s 1ms/step - loss: 0.4385 - accuracy: 0.9298 - val_loss: 8.8700 - val_accuracy: 0.7119\n",
            "Train on 413 samples, validate on 59 samples\n",
            "Epoch 1/100\n",
            "413/413 [==============================] - 1s 3ms/step - loss: 51.0856 - accuracy: 0.6126 - val_loss: 25.5087 - val_accuracy: 0.7458\n",
            "Epoch 2/100\n",
            "413/413 [==============================] - 1s 2ms/step - loss: 27.7606 - accuracy: 0.7482 - val_loss: 49.0492 - val_accuracy: 0.6271\n",
            "Epoch 3/100\n",
            "413/413 [==============================] - 1s 2ms/step - loss: 12.3199 - accuracy: 0.7893 - val_loss: 43.2914 - val_accuracy: 0.6780\n",
            "Epoch 4/100\n",
            "413/413 [==============================] - 1s 2ms/step - loss: 11.1948 - accuracy: 0.8039 - val_loss: 23.8873 - val_accuracy: 0.6271\n",
            "Epoch 5/100\n",
            "413/413 [==============================] - 1s 2ms/step - loss: 6.4320 - accuracy: 0.8523 - val_loss: 44.5682 - val_accuracy: 0.6949\n",
            "Epoch 6/100\n",
            "413/413 [==============================] - 1s 2ms/step - loss: 6.1973 - accuracy: 0.8741 - val_loss: 38.9461 - val_accuracy: 0.6610\n",
            "Epoch 7/100\n",
            "413/413 [==============================] - 1s 2ms/step - loss: 2.7076 - accuracy: 0.9177 - val_loss: 29.5474 - val_accuracy: 0.7119\n",
            "Epoch 8/100\n",
            "413/413 [==============================] - 1s 2ms/step - loss: 2.6141 - accuracy: 0.9080 - val_loss: 23.4786 - val_accuracy: 0.7288\n",
            "Epoch 9/100\n",
            "413/413 [==============================] - 1s 2ms/step - loss: 5.9216 - accuracy: 0.8717 - val_loss: 28.4637 - val_accuracy: 0.7119\n",
            "Epoch 10/100\n",
            "413/413 [==============================] - 1s 3ms/step - loss: 2.6427 - accuracy: 0.8838 - val_loss: 17.1669 - val_accuracy: 0.7119\n",
            "Epoch 11/100\n",
            "413/413 [==============================] - 1s 3ms/step - loss: 1.8803 - accuracy: 0.9225 - val_loss: 39.6450 - val_accuracy: 0.7119\n",
            "Epoch 12/100\n",
            "413/413 [==============================] - 1s 3ms/step - loss: 1.2738 - accuracy: 0.9153 - val_loss: 35.8814 - val_accuracy: 0.7288\n",
            "Epoch 13/100\n",
            "413/413 [==============================] - 1s 3ms/step - loss: 1.6599 - accuracy: 0.9322 - val_loss: 33.8600 - val_accuracy: 0.6949\n",
            "Epoch 14/100\n",
            "413/413 [==============================] - 1s 2ms/step - loss: 1.0530 - accuracy: 0.9201 - val_loss: 32.2667 - val_accuracy: 0.7119\n",
            "Epoch 15/100\n",
            "413/413 [==============================] - 1s 2ms/step - loss: 1.0764 - accuracy: 0.9153 - val_loss: 34.9274 - val_accuracy: 0.6949\n",
            "Fold 6\n",
            "Train on 413 samples, validate on 59 samples\n",
            "Epoch 1/100\n",
            "413/413 [==============================] - 0s 1ms/step - loss: 8.1003 - accuracy: 0.6320 - val_loss: 3.5624 - val_accuracy: 0.6441\n",
            "Epoch 2/100\n",
            "413/413 [==============================] - 0s 772us/step - loss: 2.7125 - accuracy: 0.7724 - val_loss: 3.5575 - val_accuracy: 0.6102\n",
            "Epoch 3/100\n",
            "413/413 [==============================] - 0s 767us/step - loss: 1.7274 - accuracy: 0.8232 - val_loss: 2.6517 - val_accuracy: 0.6441\n",
            "Epoch 4/100\n",
            "413/413 [==============================] - 0s 754us/step - loss: 0.6129 - accuracy: 0.9128 - val_loss: 2.1019 - val_accuracy: 0.6441\n",
            "Epoch 5/100\n",
            "413/413 [==============================] - 0s 776us/step - loss: 0.3528 - accuracy: 0.9153 - val_loss: 2.2830 - val_accuracy: 0.6441\n",
            "Epoch 6/100\n",
            "413/413 [==============================] - 0s 758us/step - loss: 0.6140 - accuracy: 0.9249 - val_loss: 2.5994 - val_accuracy: 0.6271\n",
            "Epoch 7/100\n",
            "413/413 [==============================] - 0s 771us/step - loss: 0.2147 - accuracy: 0.9225 - val_loss: 3.6355 - val_accuracy: 0.6271\n",
            "Epoch 8/100\n",
            "413/413 [==============================] - 0s 762us/step - loss: 0.2978 - accuracy: 0.9346 - val_loss: 4.6050 - val_accuracy: 0.6441\n",
            "Epoch 9/100\n",
            "413/413 [==============================] - 0s 775us/step - loss: 0.1611 - accuracy: 0.9516 - val_loss: 3.6595 - val_accuracy: 0.6610\n",
            "Train on 413 samples, validate on 59 samples\n",
            "Epoch 1/100\n",
            "413/413 [==============================] - 1s 2ms/step - loss: 40.7348 - accuracy: 0.5738 - val_loss: 9.5938 - val_accuracy: 0.6271\n",
            "Epoch 2/100\n",
            "413/413 [==============================] - 1s 1ms/step - loss: 23.7726 - accuracy: 0.7022 - val_loss: 15.6403 - val_accuracy: 0.6102\n",
            "Epoch 3/100\n",
            "413/413 [==============================] - 1s 1ms/step - loss: 15.9293 - accuracy: 0.7385 - val_loss: 8.2832 - val_accuracy: 0.6441\n",
            "Epoch 4/100\n",
            "413/413 [==============================] - 1s 1ms/step - loss: 6.3728 - accuracy: 0.8063 - val_loss: 8.4825 - val_accuracy: 0.6780\n",
            "Epoch 5/100\n",
            "413/413 [==============================] - 1s 1ms/step - loss: 8.4707 - accuracy: 0.7845 - val_loss: 4.2042 - val_accuracy: 0.6102\n",
            "Epoch 6/100\n",
            "413/413 [==============================] - 1s 1ms/step - loss: 2.2615 - accuracy: 0.8450 - val_loss: 4.4822 - val_accuracy: 0.6780\n",
            "Epoch 7/100\n",
            "413/413 [==============================] - 1s 1ms/step - loss: 4.6758 - accuracy: 0.8596 - val_loss: 4.9793 - val_accuracy: 0.6949\n",
            "Epoch 8/100\n",
            "413/413 [==============================] - 1s 1ms/step - loss: 2.6580 - accuracy: 0.8935 - val_loss: 5.5421 - val_accuracy: 0.7119\n",
            "Epoch 9/100\n",
            "413/413 [==============================] - 1s 1ms/step - loss: 4.0866 - accuracy: 0.8596 - val_loss: 5.1198 - val_accuracy: 0.5932\n",
            "Epoch 10/100\n",
            "413/413 [==============================] - 1s 1ms/step - loss: 4.0608 - accuracy: 0.8717 - val_loss: 3.1995 - val_accuracy: 0.6780\n",
            "Epoch 11/100\n",
            "413/413 [==============================] - 1s 1ms/step - loss: 2.4175 - accuracy: 0.8668 - val_loss: 2.9904 - val_accuracy: 0.7288\n",
            "Epoch 12/100\n",
            "413/413 [==============================] - 1s 1ms/step - loss: 2.0284 - accuracy: 0.8692 - val_loss: 7.8744 - val_accuracy: 0.6949\n",
            "Epoch 13/100\n",
            "413/413 [==============================] - 1s 1ms/step - loss: 2.9163 - accuracy: 0.9056 - val_loss: 5.4426 - val_accuracy: 0.6949\n",
            "Epoch 14/100\n",
            "413/413 [==============================] - 1s 1ms/step - loss: 3.8332 - accuracy: 0.8814 - val_loss: 3.9288 - val_accuracy: 0.6610\n",
            "Epoch 15/100\n",
            "413/413 [==============================] - 1s 1ms/step - loss: 1.5706 - accuracy: 0.8983 - val_loss: 3.0202 - val_accuracy: 0.6610\n",
            "Epoch 16/100\n",
            "413/413 [==============================] - 1s 1ms/step - loss: 0.9525 - accuracy: 0.9007 - val_loss: 2.7141 - val_accuracy: 0.7458\n",
            "Epoch 17/100\n",
            "413/413 [==============================] - 1s 1ms/step - loss: 0.2826 - accuracy: 0.9201 - val_loss: 2.8193 - val_accuracy: 0.6949\n",
            "Epoch 18/100\n",
            "413/413 [==============================] - 1s 1ms/step - loss: 0.2067 - accuracy: 0.9322 - val_loss: 2.8825 - val_accuracy: 0.6441\n",
            "Epoch 19/100\n",
            "413/413 [==============================] - 1s 1ms/step - loss: 0.2576 - accuracy: 0.9128 - val_loss: 2.1936 - val_accuracy: 0.7119\n",
            "Epoch 20/100\n",
            "413/413 [==============================] - 1s 1ms/step - loss: 0.1575 - accuracy: 0.9516 - val_loss: 3.2968 - val_accuracy: 0.7458\n",
            "Epoch 21/100\n",
            "413/413 [==============================] - 1s 1ms/step - loss: 0.7633 - accuracy: 0.9201 - val_loss: 4.7871 - val_accuracy: 0.6610\n",
            "Epoch 22/100\n",
            "413/413 [==============================] - 1s 1ms/step - loss: 0.1373 - accuracy: 0.9370 - val_loss: 3.8822 - val_accuracy: 0.7119\n",
            "Epoch 23/100\n",
            "413/413 [==============================] - 1s 1ms/step - loss: 0.3315 - accuracy: 0.9564 - val_loss: 4.0626 - val_accuracy: 0.6610\n",
            "Epoch 24/100\n",
            "413/413 [==============================] - 1s 1ms/step - loss: 0.1877 - accuracy: 0.9225 - val_loss: 3.6826 - val_accuracy: 0.7458\n",
            "Train on 413 samples, validate on 59 samples\n",
            "Epoch 1/100\n",
            "413/413 [==============================] - 1s 3ms/step - loss: 54.7373 - accuracy: 0.6029 - val_loss: 31.9057 - val_accuracy: 0.5424\n",
            "Epoch 2/100\n",
            "413/413 [==============================] - 1s 2ms/step - loss: 24.9877 - accuracy: 0.7845 - val_loss: 22.5940 - val_accuracy: 0.6102\n",
            "Epoch 3/100\n",
            "413/413 [==============================] - 1s 2ms/step - loss: 14.0916 - accuracy: 0.7869 - val_loss: 17.7024 - val_accuracy: 0.6949\n",
            "Epoch 4/100\n",
            "413/413 [==============================] - 1s 2ms/step - loss: 9.5136 - accuracy: 0.8184 - val_loss: 8.9051 - val_accuracy: 0.6610\n",
            "Epoch 5/100\n",
            "413/413 [==============================] - 1s 2ms/step - loss: 6.3533 - accuracy: 0.8717 - val_loss: 9.7356 - val_accuracy: 0.6610\n",
            "Epoch 6/100\n",
            "413/413 [==============================] - 1s 2ms/step - loss: 8.5034 - accuracy: 0.8741 - val_loss: 10.2575 - val_accuracy: 0.6102\n",
            "Epoch 7/100\n",
            "413/413 [==============================] - 1s 2ms/step - loss: 7.7387 - accuracy: 0.8789 - val_loss: 8.5505 - val_accuracy: 0.6102\n",
            "Epoch 8/100\n",
            "413/413 [==============================] - 1s 2ms/step - loss: 4.2737 - accuracy: 0.8983 - val_loss: 9.3684 - val_accuracy: 0.6271\n",
            "Epoch 9/100\n",
            "413/413 [==============================] - 1s 2ms/step - loss: 4.5029 - accuracy: 0.8741 - val_loss: 15.6073 - val_accuracy: 0.5593\n",
            "Epoch 10/100\n",
            "413/413 [==============================] - 1s 2ms/step - loss: 1.3341 - accuracy: 0.9225 - val_loss: 14.9986 - val_accuracy: 0.6271\n",
            "Epoch 11/100\n",
            "413/413 [==============================] - 1s 2ms/step - loss: 1.7051 - accuracy: 0.9031 - val_loss: 11.2901 - val_accuracy: 0.6780\n",
            "Epoch 12/100\n",
            "413/413 [==============================] - 1s 2ms/step - loss: 2.0832 - accuracy: 0.9249 - val_loss: 11.9411 - val_accuracy: 0.6441\n",
            "Fold 7\n",
            "Train on 413 samples, validate on 59 samples\n",
            "Epoch 1/100\n",
            "413/413 [==============================] - 0s 1ms/step - loss: 6.7068 - accuracy: 0.6223 - val_loss: 2.8320 - val_accuracy: 0.6271\n",
            "Epoch 2/100\n",
            "413/413 [==============================] - 0s 773us/step - loss: 1.2119 - accuracy: 0.7554 - val_loss: 1.3072 - val_accuracy: 0.7797\n",
            "Epoch 3/100\n",
            "413/413 [==============================] - 0s 763us/step - loss: 0.6854 - accuracy: 0.8305 - val_loss: 1.0532 - val_accuracy: 0.7458\n",
            "Epoch 4/100\n",
            "413/413 [==============================] - 0s 763us/step - loss: 0.4613 - accuracy: 0.8571 - val_loss: 0.9354 - val_accuracy: 0.7119\n",
            "Epoch 5/100\n",
            "413/413 [==============================] - 0s 776us/step - loss: 0.3039 - accuracy: 0.8644 - val_loss: 1.7462 - val_accuracy: 0.6610\n",
            "Epoch 6/100\n",
            "413/413 [==============================] - 0s 755us/step - loss: 0.3779 - accuracy: 0.8692 - val_loss: 1.0723 - val_accuracy: 0.6780\n",
            "Epoch 7/100\n",
            "413/413 [==============================] - 0s 763us/step - loss: 0.2861 - accuracy: 0.8910 - val_loss: 1.5280 - val_accuracy: 0.6780\n",
            "Epoch 8/100\n",
            "413/413 [==============================] - 0s 760us/step - loss: 0.2964 - accuracy: 0.9080 - val_loss: 0.9771 - val_accuracy: 0.7288\n",
            "Epoch 9/100\n",
            "413/413 [==============================] - 0s 757us/step - loss: 0.2604 - accuracy: 0.9177 - val_loss: 1.0158 - val_accuracy: 0.7458\n",
            "Train on 413 samples, validate on 59 samples\n",
            "Epoch 1/100\n",
            "413/413 [==============================] - 1s 2ms/step - loss: 59.7330 - accuracy: 0.5521 - val_loss: 30.7149 - val_accuracy: 0.6102\n",
            "Epoch 2/100\n",
            "413/413 [==============================] - 1s 1ms/step - loss: 29.0595 - accuracy: 0.7046 - val_loss: 18.0163 - val_accuracy: 0.6780\n",
            "Epoch 3/100\n",
            "413/413 [==============================] - 1s 1ms/step - loss: 15.6804 - accuracy: 0.8111 - val_loss: 17.7417 - val_accuracy: 0.6949\n",
            "Epoch 4/100\n",
            "413/413 [==============================] - 1s 1ms/step - loss: 7.9117 - accuracy: 0.8063 - val_loss: 18.8285 - val_accuracy: 0.6441\n",
            "Epoch 5/100\n",
            "413/413 [==============================] - 1s 1ms/step - loss: 12.1704 - accuracy: 0.8111 - val_loss: 9.1928 - val_accuracy: 0.7288\n",
            "Epoch 6/100\n",
            "413/413 [==============================] - 1s 1ms/step - loss: 9.4863 - accuracy: 0.8257 - val_loss: 15.6946 - val_accuracy: 0.7119\n",
            "Epoch 7/100\n",
            "413/413 [==============================] - 1s 1ms/step - loss: 5.1042 - accuracy: 0.8111 - val_loss: 15.3115 - val_accuracy: 0.6949\n",
            "Epoch 8/100\n",
            "413/413 [==============================] - 1s 1ms/step - loss: 3.9811 - accuracy: 0.8692 - val_loss: 11.0517 - val_accuracy: 0.7458\n",
            "Epoch 9/100\n",
            "413/413 [==============================] - 1s 1ms/step - loss: 3.7732 - accuracy: 0.8450 - val_loss: 10.2635 - val_accuracy: 0.6610\n",
            "Epoch 10/100\n",
            "413/413 [==============================] - 1s 1ms/step - loss: 1.1615 - accuracy: 0.8644 - val_loss: 10.1682 - val_accuracy: 0.7288\n",
            "Train on 413 samples, validate on 59 samples\n",
            "Epoch 1/100\n",
            "413/413 [==============================] - 1s 3ms/step - loss: 39.3272 - accuracy: 0.5738 - val_loss: 22.6422 - val_accuracy: 0.7458\n",
            "Epoch 2/100\n",
            "413/413 [==============================] - 1s 3ms/step - loss: 13.4251 - accuracy: 0.7627 - val_loss: 12.7607 - val_accuracy: 0.7627\n",
            "Epoch 3/100\n",
            "413/413 [==============================] - 1s 3ms/step - loss: 5.4591 - accuracy: 0.7748 - val_loss: 8.8131 - val_accuracy: 0.6780\n",
            "Epoch 4/100\n",
            "413/413 [==============================] - 1s 3ms/step - loss: 3.1509 - accuracy: 0.8160 - val_loss: 12.5160 - val_accuracy: 0.6441\n",
            "Epoch 5/100\n",
            "413/413 [==============================] - 1s 3ms/step - loss: 2.0150 - accuracy: 0.8620 - val_loss: 5.7711 - val_accuracy: 0.6610\n",
            "Epoch 6/100\n",
            "413/413 [==============================] - 1s 3ms/step - loss: 2.7426 - accuracy: 0.8838 - val_loss: 9.7857 - val_accuracy: 0.7288\n",
            "Epoch 7/100\n",
            "413/413 [==============================] - 1s 3ms/step - loss: 1.3785 - accuracy: 0.8717 - val_loss: 5.3273 - val_accuracy: 0.7458\n",
            "Epoch 8/100\n",
            "413/413 [==============================] - 1s 3ms/step - loss: 1.0446 - accuracy: 0.8717 - val_loss: 12.5934 - val_accuracy: 0.8136\n",
            "Epoch 9/100\n",
            "413/413 [==============================] - 1s 3ms/step - loss: 1.9220 - accuracy: 0.8814 - val_loss: 9.8653 - val_accuracy: 0.7119\n",
            "Epoch 10/100\n",
            "413/413 [==============================] - 1s 3ms/step - loss: 2.1022 - accuracy: 0.8692 - val_loss: 2.5386 - val_accuracy: 0.7458\n",
            "Epoch 11/100\n",
            "413/413 [==============================] - 1s 3ms/step - loss: 0.6631 - accuracy: 0.8983 - val_loss: 2.9738 - val_accuracy: 0.7627\n",
            "Epoch 12/100\n",
            "413/413 [==============================] - 1s 3ms/step - loss: 1.5154 - accuracy: 0.9007 - val_loss: 2.3065 - val_accuracy: 0.6780\n",
            "Epoch 13/100\n",
            "413/413 [==============================] - 1s 2ms/step - loss: 0.5351 - accuracy: 0.9056 - val_loss: 2.1689 - val_accuracy: 0.7288\n",
            "Epoch 14/100\n",
            "413/413 [==============================] - 1s 2ms/step - loss: 0.3879 - accuracy: 0.9007 - val_loss: 2.2413 - val_accuracy: 0.7627\n",
            "Epoch 15/100\n",
            "413/413 [==============================] - 1s 2ms/step - loss: 0.2518 - accuracy: 0.9177 - val_loss: 1.9223 - val_accuracy: 0.7797\n",
            "Epoch 16/100\n",
            "413/413 [==============================] - 1s 3ms/step - loss: 0.2041 - accuracy: 0.9346 - val_loss: 2.0924 - val_accuracy: 0.7627\n",
            "Epoch 17/100\n",
            "413/413 [==============================] - 1s 2ms/step - loss: 0.1971 - accuracy: 0.9395 - val_loss: 1.9356 - val_accuracy: 0.7627\n",
            "Epoch 18/100\n",
            "413/413 [==============================] - 1s 3ms/step - loss: 0.2446 - accuracy: 0.9540 - val_loss: 1.8056 - val_accuracy: 0.7119\n",
            "Epoch 19/100\n",
            "413/413 [==============================] - 1s 3ms/step - loss: 0.1401 - accuracy: 0.9492 - val_loss: 1.5800 - val_accuracy: 0.7797\n",
            "Epoch 20/100\n",
            "413/413 [==============================] - 1s 3ms/step - loss: 0.3565 - accuracy: 0.9443 - val_loss: 2.3961 - val_accuracy: 0.7458\n",
            "Epoch 21/100\n",
            "413/413 [==============================] - 1s 2ms/step - loss: 0.2673 - accuracy: 0.9056 - val_loss: 1.9288 - val_accuracy: 0.7288\n",
            "Epoch 22/100\n",
            "413/413 [==============================] - 1s 2ms/step - loss: 0.2831 - accuracy: 0.9225 - val_loss: 1.5190 - val_accuracy: 0.7458\n",
            "Epoch 23/100\n",
            "413/413 [==============================] - 1s 3ms/step - loss: 0.1319 - accuracy: 0.9613 - val_loss: 1.3355 - val_accuracy: 0.7288\n",
            "Epoch 24/100\n",
            "413/413 [==============================] - 1s 3ms/step - loss: 0.1269 - accuracy: 0.9419 - val_loss: 1.3291 - val_accuracy: 0.7627\n",
            "Epoch 25/100\n",
            "413/413 [==============================] - 1s 3ms/step - loss: 0.1596 - accuracy: 0.9395 - val_loss: 1.1821 - val_accuracy: 0.7627\n",
            "Epoch 26/100\n",
            "413/413 [==============================] - 1s 3ms/step - loss: 0.1082 - accuracy: 0.9661 - val_loss: 1.3482 - val_accuracy: 0.7458\n",
            "Epoch 27/100\n",
            "413/413 [==============================] - 1s 2ms/step - loss: 0.0917 - accuracy: 0.9467 - val_loss: 1.3670 - val_accuracy: 0.7458\n",
            "Epoch 28/100\n",
            "413/413 [==============================] - 1s 2ms/step - loss: 0.0810 - accuracy: 0.9661 - val_loss: 1.3479 - val_accuracy: 0.7288\n",
            "Epoch 29/100\n",
            "413/413 [==============================] - 1s 3ms/step - loss: 0.2416 - accuracy: 0.9443 - val_loss: 1.3265 - val_accuracy: 0.7966\n",
            "Epoch 30/100\n",
            "413/413 [==============================] - 1s 2ms/step - loss: 0.0822 - accuracy: 0.9685 - val_loss: 1.4404 - val_accuracy: 0.7288\n",
            "Fold 8\n",
            "Train on 413 samples, validate on 59 samples\n",
            "Epoch 1/100\n",
            "413/413 [==============================] - 0s 1ms/step - loss: 9.3551 - accuracy: 0.6150 - val_loss: 6.5485 - val_accuracy: 0.6780\n",
            "Epoch 2/100\n",
            "413/413 [==============================] - 0s 768us/step - loss: 2.6851 - accuracy: 0.7579 - val_loss: 4.5047 - val_accuracy: 0.7288\n",
            "Epoch 3/100\n",
            "413/413 [==============================] - 0s 750us/step - loss: 1.0008 - accuracy: 0.8378 - val_loss: 1.5377 - val_accuracy: 0.7966\n",
            "Epoch 4/100\n",
            "413/413 [==============================] - 0s 790us/step - loss: 0.5894 - accuracy: 0.8717 - val_loss: 1.2002 - val_accuracy: 0.7627\n",
            "Epoch 5/100\n",
            "413/413 [==============================] - 0s 769us/step - loss: 0.4174 - accuracy: 0.8910 - val_loss: 1.9689 - val_accuracy: 0.7288\n",
            "Epoch 6/100\n",
            "413/413 [==============================] - 0s 757us/step - loss: 0.5235 - accuracy: 0.8789 - val_loss: 1.9694 - val_accuracy: 0.7458\n",
            "Epoch 7/100\n",
            "413/413 [==============================] - 0s 766us/step - loss: 0.3841 - accuracy: 0.8910 - val_loss: 3.2449 - val_accuracy: 0.7458\n",
            "Epoch 8/100\n",
            "413/413 [==============================] - 0s 780us/step - loss: 0.5067 - accuracy: 0.8983 - val_loss: 1.7930 - val_accuracy: 0.7288\n",
            "Epoch 9/100\n",
            "413/413 [==============================] - 0s 778us/step - loss: 0.3286 - accuracy: 0.9177 - val_loss: 1.5261 - val_accuracy: 0.7797\n",
            "Train on 413 samples, validate on 59 samples\n",
            "Epoch 1/100\n",
            "413/413 [==============================] - 1s 2ms/step - loss: 37.9790 - accuracy: 0.6126 - val_loss: 43.8266 - val_accuracy: 0.6271\n",
            "Epoch 2/100\n",
            "413/413 [==============================] - 1s 1ms/step - loss: 37.7254 - accuracy: 0.6828 - val_loss: 14.6784 - val_accuracy: 0.7458\n",
            "Epoch 3/100\n",
            "413/413 [==============================] - 1s 1ms/step - loss: 15.1964 - accuracy: 0.7579 - val_loss: 17.1435 - val_accuracy: 0.6949\n",
            "Epoch 4/100\n",
            "413/413 [==============================] - 1s 1ms/step - loss: 13.1577 - accuracy: 0.7966 - val_loss: 11.9336 - val_accuracy: 0.7288\n",
            "Epoch 5/100\n",
            "413/413 [==============================] - 1s 1ms/step - loss: 6.2537 - accuracy: 0.8789 - val_loss: 12.1811 - val_accuracy: 0.6610\n",
            "Epoch 6/100\n",
            "413/413 [==============================] - 1s 1ms/step - loss: 7.0303 - accuracy: 0.8523 - val_loss: 15.2269 - val_accuracy: 0.7797\n",
            "Epoch 7/100\n",
            "413/413 [==============================] - 1s 1ms/step - loss: 5.0217 - accuracy: 0.8838 - val_loss: 11.7153 - val_accuracy: 0.7797\n",
            "Epoch 8/100\n",
            "413/413 [==============================] - 1s 1ms/step - loss: 3.1325 - accuracy: 0.8789 - val_loss: 5.5826 - val_accuracy: 0.7966\n",
            "Epoch 9/100\n",
            "413/413 [==============================] - 1s 1ms/step - loss: 5.3742 - accuracy: 0.8814 - val_loss: 4.9237 - val_accuracy: 0.7458\n",
            "Epoch 10/100\n",
            "413/413 [==============================] - 1s 1ms/step - loss: 2.3330 - accuracy: 0.9249 - val_loss: 8.4413 - val_accuracy: 0.7627\n",
            "Epoch 11/100\n",
            "413/413 [==============================] - 1s 1ms/step - loss: 5.4527 - accuracy: 0.8814 - val_loss: 4.9161 - val_accuracy: 0.7797\n",
            "Epoch 12/100\n",
            "413/413 [==============================] - 1s 1ms/step - loss: 3.6995 - accuracy: 0.8959 - val_loss: 6.2274 - val_accuracy: 0.7458\n",
            "Epoch 13/100\n",
            "413/413 [==============================] - 1s 1ms/step - loss: 2.1045 - accuracy: 0.9249 - val_loss: 3.5310 - val_accuracy: 0.7627\n",
            "Epoch 14/100\n",
            "413/413 [==============================] - 1s 1ms/step - loss: 1.8113 - accuracy: 0.9249 - val_loss: 3.8698 - val_accuracy: 0.7797\n",
            "Epoch 15/100\n",
            "413/413 [==============================] - 1s 1ms/step - loss: 0.5181 - accuracy: 0.9153 - val_loss: 2.6725 - val_accuracy: 0.7119\n",
            "Epoch 16/100\n",
            "413/413 [==============================] - 1s 1ms/step - loss: 1.3449 - accuracy: 0.8983 - val_loss: 3.0252 - val_accuracy: 0.7966\n",
            "Epoch 17/100\n",
            "413/413 [==============================] - 1s 1ms/step - loss: 0.8501 - accuracy: 0.9419 - val_loss: 2.8869 - val_accuracy: 0.7458\n",
            "Epoch 18/100\n",
            "413/413 [==============================] - 1s 1ms/step - loss: 0.3256 - accuracy: 0.9588 - val_loss: 3.0290 - val_accuracy: 0.7288\n",
            "Epoch 19/100\n",
            "413/413 [==============================] - 1s 1ms/step - loss: 0.6874 - accuracy: 0.9322 - val_loss: 3.6397 - val_accuracy: 0.6949\n",
            "Epoch 20/100\n",
            "413/413 [==============================] - 1s 1ms/step - loss: 0.6502 - accuracy: 0.9588 - val_loss: 3.4950 - val_accuracy: 0.8136\n",
            "Train on 413 samples, validate on 59 samples\n",
            "Epoch 1/100\n",
            "413/413 [==============================] - 1s 3ms/step - loss: 48.7340 - accuracy: 0.6029 - val_loss: 46.9042 - val_accuracy: 0.6610\n",
            "Epoch 2/100\n",
            "413/413 [==============================] - 1s 2ms/step - loss: 35.7681 - accuracy: 0.6586 - val_loss: 41.6736 - val_accuracy: 0.6441\n",
            "Epoch 3/100\n",
            "413/413 [==============================] - 1s 3ms/step - loss: 19.7131 - accuracy: 0.7458 - val_loss: 13.1876 - val_accuracy: 0.6610\n",
            "Epoch 4/100\n",
            "413/413 [==============================] - 1s 3ms/step - loss: 11.7326 - accuracy: 0.8402 - val_loss: 7.9435 - val_accuracy: 0.6441\n",
            "Epoch 5/100\n",
            "413/413 [==============================] - 1s 3ms/step - loss: 3.9376 - accuracy: 0.8886 - val_loss: 12.0148 - val_accuracy: 0.6780\n",
            "Epoch 6/100\n",
            "413/413 [==============================] - 1s 3ms/step - loss: 7.1334 - accuracy: 0.8717 - val_loss: 15.8677 - val_accuracy: 0.7119\n",
            "Epoch 7/100\n",
            "413/413 [==============================] - 1s 3ms/step - loss: 3.6390 - accuracy: 0.8644 - val_loss: 8.2126 - val_accuracy: 0.7458\n",
            "Epoch 8/100\n",
            "413/413 [==============================] - 1s 2ms/step - loss: 0.9308 - accuracy: 0.9080 - val_loss: 6.4242 - val_accuracy: 0.6610\n",
            "Epoch 9/100\n",
            "413/413 [==============================] - 1s 2ms/step - loss: 2.1616 - accuracy: 0.9201 - val_loss: 5.3747 - val_accuracy: 0.7288\n",
            "Epoch 10/100\n",
            "413/413 [==============================] - 1s 3ms/step - loss: 0.7457 - accuracy: 0.9419 - val_loss: 5.7308 - val_accuracy: 0.7627\n",
            "Epoch 11/100\n",
            "413/413 [==============================] - 1s 3ms/step - loss: 1.0027 - accuracy: 0.9370 - val_loss: 5.6297 - val_accuracy: 0.7797\n",
            "Epoch 12/100\n",
            "413/413 [==============================] - 1s 3ms/step - loss: 1.1055 - accuracy: 0.9370 - val_loss: 4.5778 - val_accuracy: 0.7627\n",
            "Epoch 13/100\n",
            "413/413 [==============================] - 1s 3ms/step - loss: 1.1346 - accuracy: 0.9177 - val_loss: 6.8399 - val_accuracy: 0.7797\n",
            "Epoch 14/100\n",
            "413/413 [==============================] - 1s 3ms/step - loss: 0.6222 - accuracy: 0.9274 - val_loss: 6.7623 - val_accuracy: 0.7119\n",
            "Epoch 15/100\n",
            "413/413 [==============================] - 1s 3ms/step - loss: 0.7656 - accuracy: 0.9274 - val_loss: 7.0170 - val_accuracy: 0.7119\n",
            "Epoch 16/100\n",
            "413/413 [==============================] - 1s 3ms/step - loss: 0.7245 - accuracy: 0.9564 - val_loss: 8.4666 - val_accuracy: 0.6441\n",
            "Epoch 17/100\n",
            "413/413 [==============================] - 1s 3ms/step - loss: 2.5158 - accuracy: 0.9346 - val_loss: 6.7202 - val_accuracy: 0.7797\n"
          ],
          "name": "stdout"
        }
      ]
    },
    {
      "cell_type": "code",
      "metadata": {
        "id": "-GvsuoqY0NZL",
        "colab_type": "code",
        "colab": {
          "base_uri": "https://localhost:8080/",
          "height": 34
        },
        "outputId": "7dd3ea1c-81ed-412e-80d1-ed081a49a6f3"
      },
      "source": [
        "zero_acc = 0\n",
        "one_acc = 0\n",
        "\n",
        "for i in accuracies:\n",
        "  zero_acc+= i[0]\n",
        "  one_acc+=i[1]\n",
        "\n",
        "zero_acc/=8\n",
        "one_acc/=8\n",
        "\n",
        "print(zero_acc, one_acc)"
      ],
      "execution_count": 12,
      "outputs": [
        {
          "output_type": "stream",
          "text": [
            "0.758477011494253 0.725\n"
          ],
          "name": "stdout"
        }
      ]
    },
    {
      "cell_type": "markdown",
      "metadata": {
        "id": "trKQU8cuMHQV",
        "colab_type": "text"
      },
      "source": [
        "Training on whole Training Dataset"
      ]
    },
    {
      "cell_type": "code",
      "metadata": {
        "id": "dNpL_TEj5BNb",
        "colab_type": "code",
        "colab": {
          "base_uri": "https://localhost:8080/",
          "height": 34
        },
        "outputId": "c73130fc-2c04-40d5-df47-e0355e2fce62"
      },
      "source": [
        "conv1_samples = np.zeros(shape=(nos,9,9,512))\n",
        "conv1_labels = np.zeros(shape=(nos))\n",
        "\n",
        "for samples_batch,labels_batch in numit:\n",
        "    f = conv_base1.predict(samples_batch)\n",
        "    print(f.shape)\n",
        "    conv1_samples = f\n",
        "    conv1_labels = labels_batch\n",
        "    break"
      ],
      "execution_count": 13,
      "outputs": [
        {
          "output_type": "stream",
          "text": [
            "(472, 9, 9, 512)\n"
          ],
          "name": "stdout"
        }
      ]
    },
    {
      "cell_type": "code",
      "metadata": {
        "id": "hoki6hYabpyg",
        "colab_type": "code",
        "colab": {}
      },
      "source": [
        "conv1_samples = conv1_samples.reshape(nos,9*9*512)"
      ],
      "execution_count": 14,
      "outputs": []
    },
    {
      "cell_type": "code",
      "metadata": {
        "id": "f55E5l1qbMrY",
        "colab_type": "code",
        "colab": {
          "base_uri": "https://localhost:8080/",
          "height": 34
        },
        "outputId": "96d18cfe-9007-4c56-ddc2-ac57b6835913"
      },
      "source": [
        "conv2_samples = np.zeros(shape=(nos,9,9,1024))\n",
        "conv2_labels = np.zeros(shape=(nos))\n",
        "i = 0\n",
        "for samples_batch,labels_batch in numit:\n",
        "    f = conv_base2.predict(samples_batch)\n",
        "    print(f.shape)\n",
        "    conv2_samples = f\n",
        "    conv2_labels = labels_batch\n",
        "    break"
      ],
      "execution_count": 15,
      "outputs": [
        {
          "output_type": "stream",
          "text": [
            "(472, 9, 9, 1024)\n"
          ],
          "name": "stdout"
        }
      ]
    },
    {
      "cell_type": "code",
      "metadata": {
        "id": "5VDpDo0_bx9S",
        "colab_type": "code",
        "colab": {}
      },
      "source": [
        "conv2_samples = conv2_samples.reshape(nos,9*9*1024)"
      ],
      "execution_count": 16,
      "outputs": []
    },
    {
      "cell_type": "code",
      "metadata": {
        "id": "tjUEJG3tbdwe",
        "colab_type": "code",
        "colab": {
          "base_uri": "https://localhost:8080/",
          "height": 34
        },
        "outputId": "9ec4c45f-8d40-44e9-84cc-1ede5258ed2c"
      },
      "source": [
        "conv3_samples = np.zeros(shape=(nos,9,9,1920))\n",
        "conv3_labels = np.zeros(shape=(nos))\n",
        "i = 0\n",
        "for samples_batch,labels_batch in numit:\n",
        "    f = conv_base3.predict(samples_batch)\n",
        "    print(f.shape)\n",
        "    conv3_samples = f\n",
        "    conv3_labels = labels_batch\n",
        "    break"
      ],
      "execution_count": 17,
      "outputs": [
        {
          "output_type": "stream",
          "text": [
            "(472, 9, 9, 1920)\n"
          ],
          "name": "stdout"
        }
      ]
    },
    {
      "cell_type": "code",
      "metadata": {
        "id": "l3RCnShl5iGN",
        "colab_type": "code",
        "colab": {}
      },
      "source": [
        "conv3_samples = conv3_samples.reshape(nos,9*9*1920)"
      ],
      "execution_count": 18,
      "outputs": []
    },
    {
      "cell_type": "code",
      "metadata": {
        "id": "hoBAWa2K5pXb",
        "colab_type": "code",
        "colab": {
          "base_uri": "https://localhost:8080/",
          "height": 34
        },
        "outputId": "519a1a75-84d4-4ff4-de7e-d492a128b245"
      },
      "source": [
        "conv1_samples.shape, conv1_labels.shape, conv2_samples.shape, conv2_labels.shape, conv3_samples.shape, conv3_labels.shape"
      ],
      "execution_count": 16,
      "outputs": [
        {
          "output_type": "execute_result",
          "data": {
            "text/plain": [
              "((472, 41472), (472,), (472, 82944), (472,), (472, 155520), (472,))"
            ]
          },
          "metadata": {
            "tags": []
          },
          "execution_count": 16
        }
      ]
    },
    {
      "cell_type": "code",
      "metadata": {
        "id": "ENfBSs4FAygc",
        "colab_type": "code",
        "colab": {}
      },
      "source": [
        ""
      ],
      "execution_count": null,
      "outputs": []
    },
    {
      "cell_type": "code",
      "metadata": {
        "id": "8I-sKdUUAyec",
        "colab_type": "code",
        "colab": {}
      },
      "source": [
        ""
      ],
      "execution_count": null,
      "outputs": []
    },
    {
      "cell_type": "code",
      "metadata": {
        "id": "_ky2u4KOAycC",
        "colab_type": "code",
        "colab": {}
      },
      "source": [
        ""
      ],
      "execution_count": null,
      "outputs": []
    },
    {
      "cell_type": "code",
      "metadata": {
        "id": "q9nlExhzAyWr",
        "colab_type": "code",
        "colab": {}
      },
      "source": [
        ""
      ],
      "execution_count": null,
      "outputs": []
    },
    {
      "cell_type": "code",
      "metadata": {
        "id": "ppbMkhK2L0ov",
        "colab_type": "code",
        "colab": {}
      },
      "source": [
        "model_conv1 = models.Sequential()\n",
        "model_conv1.add(layers.Dense(256, activation = 'relu', input_dim = 9*9*512))\n",
        "model_conv1.add(layers.Dropout(0.5))\n",
        "model_conv1.add(layers.Dense(1, activation = 'sigmoid'))\n",
        "model_conv1.compile(optimizer = optimizers.Adam(lr = 1e-3),loss = 'binary_crossentropy',metrics = ['accuracy'])\n",
        "\n",
        "model_conv2 = models.Sequential()\n",
        "model_conv2.add(layers.Dense(256, activation = 'relu', input_dim = 9*9*1024))\n",
        "model_conv2.add(layers.Dropout(0.5))\n",
        "model_conv2.add(layers.Dense(1, activation = 'sigmoid'))\n",
        "model_conv2.compile(optimizer = optimizers.Adam(lr = 1e-3),loss = 'binary_crossentropy',metrics = ['accuracy'])\n",
        "\n",
        "model_conv3 = models.Sequential()\n",
        "model_conv3.add(layers.Dense(256, activation = 'relu', input_dim = 9*9*1920))\n",
        "model_conv3.add(layers.Dropout(0.5))\n",
        "model_conv3.add(layers.Dense(1, activation = 'sigmoid'))\n",
        "model_conv3.compile(optimizer = optimizers.Adam(lr = 1e-3),loss = 'binary_crossentropy',metrics = ['accuracy'])\n",
        "\n",
        "my_callbacks = [EarlyStopping(monitor = 'val_loss', patience=5, restore_best_weights=True)]"
      ],
      "execution_count": 19,
      "outputs": []
    },
    {
      "cell_type": "code",
      "metadata": {
        "id": "Xncnp_xvNgcr",
        "colab_type": "code",
        "colab": {}
      },
      "source": [
        "xtest = np.load('gdrive/My Drive/pcb/xtest.npy')\n",
        "ytest = np.load('gdrive/My Drive/pcb/ytest.npy')\n"
      ],
      "execution_count": 20,
      "outputs": []
    },
    {
      "cell_type": "code",
      "metadata": {
        "id": "SDa1CkJ9NgfS",
        "colab_type": "code",
        "colab": {}
      },
      "source": [
        "datagentest = ImageDataGenerator(\n",
        "    featurewise_center = True,\n",
        "    featurewise_std_normalization = True\n",
        ")\n",
        "datagentest.fit(xtest)\n",
        "testnos = ytest.shape[0]\n",
        "\n",
        "\n",
        "numittest = NumpyArrayIterator(\n",
        "    xtest, ytest, datagentest, batch_size=testnos, shuffle=False, sample_weight=None,\n",
        "    seed=None, data_format=None, save_to_dir=None, save_prefix='',\n",
        "    save_format='png', subset=None, dtype=None\n",
        ")\n"
      ],
      "execution_count": 21,
      "outputs": []
    },
    {
      "cell_type": "code",
      "metadata": {
        "id": "QS7XpHLiNgoa",
        "colab_type": "code",
        "colab": {
          "base_uri": "https://localhost:8080/",
          "height": 34
        },
        "outputId": "23a22e4e-def9-43e9-8495-55b6b4c1e794"
      },
      "source": [
        "conv1_test_samples = np.zeros(shape=(testnos,9,9,512))\n",
        "conv1_test_labels = np.zeros(shape=(testnos))\n",
        "for samples_batch,labels_batch in numittest:\n",
        "    g = conv_base1.predict(samples_batch)\n",
        "    print(g.shape)\n",
        "    conv1_test_samples[::] = g\n",
        "    conv1_test_labels[:] = labels_batch\n",
        "    break"
      ],
      "execution_count": 22,
      "outputs": [
        {
          "output_type": "stream",
          "text": [
            "(552, 9, 9, 512)\n"
          ],
          "name": "stdout"
        }
      ]
    },
    {
      "cell_type": "code",
      "metadata": {
        "id": "0f37VOEUNgki",
        "colab_type": "code",
        "colab": {}
      },
      "source": [
        "conv1_test_samples = conv1_test_samples.reshape(testnos,9*9*512)"
      ],
      "execution_count": 23,
      "outputs": []
    },
    {
      "cell_type": "code",
      "metadata": {
        "id": "4N21hH-_xAFV",
        "colab_type": "code",
        "colab": {
          "base_uri": "https://localhost:8080/",
          "height": 34
        },
        "outputId": "544cda2f-7b10-4c60-bcf8-621d78d691c8"
      },
      "source": [
        "conv2_test_samples = np.zeros(shape=(testnos,9,9,1024))\n",
        "conv2_test_labels = np.zeros(shape=(testnos))\n",
        "for samples_batch,labels_batch in numittest:\n",
        "    g = conv_base2.predict(samples_batch)\n",
        "    print(g.shape)\n",
        "    conv2_test_samples[::] = g\n",
        "    conv2_test_labels[:] = labels_batch\n",
        "    break"
      ],
      "execution_count": 24,
      "outputs": [
        {
          "output_type": "stream",
          "text": [
            "(552, 9, 9, 1024)\n"
          ],
          "name": "stdout"
        }
      ]
    },
    {
      "cell_type": "code",
      "metadata": {
        "id": "d8Q19vAQxAKr",
        "colab_type": "code",
        "colab": {}
      },
      "source": [
        "conv2_test_samples = conv2_test_samples.reshape(testnos,9*9*1024)"
      ],
      "execution_count": 25,
      "outputs": []
    },
    {
      "cell_type": "code",
      "metadata": {
        "id": "Ef9PK7zDxAW1",
        "colab_type": "code",
        "colab": {
          "base_uri": "https://localhost:8080/",
          "height": 34
        },
        "outputId": "18c1420a-6ff0-467f-e8f2-14092894f6fc"
      },
      "source": [
        "conv3_test_samples = np.zeros(shape=(testnos,9,9,1920))\n",
        "conv3_test_labels = np.zeros(shape=(testnos))\n",
        "for samples_batch,labels_batch in numittest:\n",
        "    g = conv_base3.predict(samples_batch)\n",
        "    print(g.shape)\n",
        "    conv3_test_samples[::] = g\n",
        "    conv3_test_labels[:] = labels_batch\n",
        "    break"
      ],
      "execution_count": 26,
      "outputs": [
        {
          "output_type": "stream",
          "text": [
            "(552, 9, 9, 1920)\n"
          ],
          "name": "stdout"
        }
      ]
    },
    {
      "cell_type": "code",
      "metadata": {
        "id": "21RPhIg7xAhB",
        "colab_type": "code",
        "colab": {}
      },
      "source": [
        "conv3_test_samples = conv3_test_samples.reshape(testnos,9*9*1920)"
      ],
      "execution_count": 27,
      "outputs": []
    },
    {
      "cell_type": "code",
      "metadata": {
        "id": "TR4pOMLsQBDO",
        "colab_type": "code",
        "colab": {}
      },
      "source": [
        "# To save memory\n",
        "del xtest\n",
        "del ytest"
      ],
      "execution_count": 28,
      "outputs": []
    },
    {
      "cell_type": "code",
      "metadata": {
        "id": "Ef_xxG8bNgiT",
        "colab_type": "code",
        "colab": {
          "base_uri": "https://localhost:8080/",
          "height": 272
        },
        "outputId": "8f41634d-4475-40c0-9611-72e17ff283f4"
      },
      "source": [
        "conv1_historytest = model_conv1.fit(conv1_samples, conv1_labels, epochs = 100, batch_size = 20, validation_data = (conv1_test_samples, conv1_test_labels), shuffle = True,  callbacks = my_callbacks)"
      ],
      "execution_count": 29,
      "outputs": [
        {
          "output_type": "stream",
          "text": [
            "Train on 472 samples, validate on 552 samples\n",
            "Epoch 1/100\n",
            "472/472 [==============================] - 1s 1ms/step - loss: 2.0956 - accuracy: 0.6356 - val_loss: 0.6302 - val_accuracy: 0.7138\n",
            "Epoch 2/100\n",
            "472/472 [==============================] - 0s 1ms/step - loss: 0.3950 - accuracy: 0.8284 - val_loss: 0.4339 - val_accuracy: 0.8043\n",
            "Epoch 3/100\n",
            "472/472 [==============================] - 0s 1ms/step - loss: 0.2448 - accuracy: 0.9025 - val_loss: 0.4822 - val_accuracy: 0.7717\n",
            "Epoch 4/100\n",
            "472/472 [==============================] - 0s 1ms/step - loss: 0.2097 - accuracy: 0.9195 - val_loss: 0.6165 - val_accuracy: 0.7029\n",
            "Epoch 5/100\n",
            "472/472 [==============================] - 0s 1ms/step - loss: 0.1561 - accuracy: 0.9407 - val_loss: 0.9289 - val_accuracy: 0.6250\n",
            "Epoch 6/100\n",
            "472/472 [==============================] - 0s 1ms/step - loss: 0.1531 - accuracy: 0.9492 - val_loss: 0.5310 - val_accuracy: 0.7699\n",
            "Epoch 7/100\n",
            "472/472 [==============================] - 1s 1ms/step - loss: 0.1638 - accuracy: 0.9386 - val_loss: 0.5387 - val_accuracy: 0.7772\n"
          ],
          "name": "stdout"
        }
      ]
    },
    {
      "cell_type": "code",
      "metadata": {
        "id": "FywzanHZeSoV",
        "colab_type": "code",
        "colab": {
          "base_uri": "https://localhost:8080/",
          "height": 442
        },
        "outputId": "bd4b6e0b-de7d-434b-bc7c-65ddbf77c6a5"
      },
      "source": [
        "conv2_historytest = model_conv2.fit(conv2_samples, conv2_labels, epochs = 100, batch_size = 20, validation_data = (conv2_test_samples, conv2_test_labels), shuffle = True,  callbacks = my_callbacks)"
      ],
      "execution_count": 30,
      "outputs": [
        {
          "output_type": "stream",
          "text": [
            "Train on 472 samples, validate on 552 samples\n",
            "Epoch 1/100\n",
            "472/472 [==============================] - 1s 2ms/step - loss: 9.3381 - accuracy: 0.6271 - val_loss: 2.2771 - val_accuracy: 0.6866\n",
            "Epoch 2/100\n",
            "472/472 [==============================] - 1s 2ms/step - loss: 1.8178 - accuracy: 0.7860 - val_loss: 1.3352 - val_accuracy: 0.7011\n",
            "Epoch 3/100\n",
            "472/472 [==============================] - 1s 2ms/step - loss: 0.4682 - accuracy: 0.8708 - val_loss: 0.7875 - val_accuracy: 0.7355\n",
            "Epoch 4/100\n",
            "472/472 [==============================] - 1s 2ms/step - loss: 0.2834 - accuracy: 0.8941 - val_loss: 0.6164 - val_accuracy: 0.8261\n",
            "Epoch 5/100\n",
            "472/472 [==============================] - 1s 2ms/step - loss: 0.2678 - accuracy: 0.9110 - val_loss: 0.8846 - val_accuracy: 0.6322\n",
            "Epoch 6/100\n",
            "472/472 [==============================] - 1s 2ms/step - loss: 0.2290 - accuracy: 0.9280 - val_loss: 0.6594 - val_accuracy: 0.6975\n",
            "Epoch 7/100\n",
            "472/472 [==============================] - 1s 2ms/step - loss: 0.1875 - accuracy: 0.9322 - val_loss: 0.5191 - val_accuracy: 0.8406\n",
            "Epoch 8/100\n",
            "472/472 [==============================] - 1s 2ms/step - loss: 0.1387 - accuracy: 0.9513 - val_loss: 0.8023 - val_accuracy: 0.6975\n",
            "Epoch 9/100\n",
            "472/472 [==============================] - 1s 2ms/step - loss: 0.1145 - accuracy: 0.9513 - val_loss: 0.6596 - val_accuracy: 0.7736\n",
            "Epoch 10/100\n",
            "472/472 [==============================] - 1s 2ms/step - loss: 0.0988 - accuracy: 0.9576 - val_loss: 0.8394 - val_accuracy: 0.6902\n",
            "Epoch 11/100\n",
            "472/472 [==============================] - 1s 2ms/step - loss: 0.1250 - accuracy: 0.9555 - val_loss: 0.8354 - val_accuracy: 0.6920\n",
            "Epoch 12/100\n",
            "472/472 [==============================] - 1s 2ms/step - loss: 0.1363 - accuracy: 0.9492 - val_loss: 0.5420 - val_accuracy: 0.8062\n"
          ],
          "name": "stdout"
        }
      ]
    },
    {
      "cell_type": "code",
      "metadata": {
        "id": "qrvb6KSieTYU",
        "colab_type": "code",
        "colab": {
          "base_uri": "https://localhost:8080/",
          "height": 306
        },
        "outputId": "c802d814-af68-48dd-eeb4-1fd25f5b8619"
      },
      "source": [
        "conv3_historytest = model_conv3.fit(conv3_samples, conv3_labels, epochs = 100, batch_size = 20, validation_data = (conv3_test_samples, conv3_test_labels), shuffle = True,  callbacks = my_callbacks)"
      ],
      "execution_count": 31,
      "outputs": [
        {
          "output_type": "stream",
          "text": [
            "Train on 472 samples, validate on 552 samples\n",
            "Epoch 1/100\n",
            "472/472 [==============================] - 2s 4ms/step - loss: 13.8379 - accuracy: 0.6229 - val_loss: 1.8439 - val_accuracy: 0.9058\n",
            "Epoch 2/100\n",
            "472/472 [==============================] - 2s 3ms/step - loss: 2.4283 - accuracy: 0.7564 - val_loss: 1.1544 - val_accuracy: 0.6667\n",
            "Epoch 3/100\n",
            "472/472 [==============================] - 2s 3ms/step - loss: 0.4206 - accuracy: 0.8496 - val_loss: 0.4013 - val_accuracy: 0.8279\n",
            "Epoch 4/100\n",
            "472/472 [==============================] - 2s 3ms/step - loss: 0.2764 - accuracy: 0.8983 - val_loss: 0.8747 - val_accuracy: 0.6594\n",
            "Epoch 5/100\n",
            "472/472 [==============================] - 2s 3ms/step - loss: 0.2884 - accuracy: 0.8919 - val_loss: 0.9916 - val_accuracy: 0.5851\n",
            "Epoch 6/100\n",
            "472/472 [==============================] - 2s 3ms/step - loss: 0.2193 - accuracy: 0.9174 - val_loss: 0.6407 - val_accuracy: 0.7337\n",
            "Epoch 7/100\n",
            "472/472 [==============================] - 2s 3ms/step - loss: 0.1856 - accuracy: 0.9407 - val_loss: 0.5143 - val_accuracy: 0.8062\n",
            "Epoch 8/100\n",
            "472/472 [==============================] - 2s 3ms/step - loss: 0.1254 - accuracy: 0.9513 - val_loss: 1.2248 - val_accuracy: 0.6685\n"
          ],
          "name": "stdout"
        }
      ]
    },
    {
      "cell_type": "code",
      "metadata": {
        "id": "Iv26Zs3JxVjR",
        "colab_type": "code",
        "colab": {}
      },
      "source": [
        ""
      ],
      "execution_count": null,
      "outputs": []
    },
    {
      "cell_type": "code",
      "metadata": {
        "id": "jgbhA0dtNgaq",
        "colab_type": "code",
        "colab": {}
      },
      "source": [
        "conv1_test_preds = model_conv1.predict(conv1_test_samples, batch_size = 20)\n",
        "conv1_test_predclass = np.array([1.0 if i>0.5 else 0.0 for i in conv1_test_preds])"
      ],
      "execution_count": 32,
      "outputs": []
    },
    {
      "cell_type": "code",
      "metadata": {
        "id": "I3oZ2uIBOrsm",
        "colab_type": "code",
        "colab": {}
      },
      "source": [
        "conv2_test_preds = model_conv2.predict(conv2_test_samples, batch_size = 20)\n",
        "conv2_test_predclass = np.array([1.0 if i>0.5 else 0.0 for i in conv2_test_preds])"
      ],
      "execution_count": 33,
      "outputs": []
    },
    {
      "cell_type": "code",
      "metadata": {
        "id": "iB5-kLT-xnrp",
        "colab_type": "code",
        "colab": {}
      },
      "source": [
        "conv3_test_preds = model_conv3.predict(conv3_test_samples, batch_size = 20)\n",
        "conv3_test_predclass = np.array([1.0 if i>0.5 else 0.0 for i in conv3_test_preds])"
      ],
      "execution_count": 34,
      "outputs": []
    },
    {
      "cell_type": "code",
      "metadata": {
        "id": "91_8v_ZdxnzF",
        "colab_type": "code",
        "colab": {}
      },
      "source": [
        "# Voting\n",
        "\n",
        "final_preds = np.empty(conv1_test_predclass.shape[0])\n",
        "for i in range(conv1_test_predclass.shape[0]):\n",
        "  predsum = conv1_test_predclass[i] + conv2_test_predclass[i] + conv3_test_predclass[i] \n",
        "  final_preds[i] = 0.0 if predsum in [0.0,1.0] else 1.0"
      ],
      "execution_count": 35,
      "outputs": []
    },
    {
      "cell_type": "code",
      "metadata": {
        "id": "B9pW68K3Orxg",
        "colab_type": "code",
        "colab": {
          "base_uri": "https://localhost:8080/",
          "height": 34
        },
        "outputId": "f824e7d2-e95e-4cbe-fb19-b3fad10d9d46"
      },
      "source": [
        "confusion_matrix(conv1_test_labels,final_preds)[0][0]/(conv1_test_labels == 0.0).sum(), confusion_matrix(conv1_test_labels,final_preds)[1][1]/(conv1_test_labels == 1.0).sum()"
      ],
      "execution_count": 36,
      "outputs": [
        {
          "output_type": "execute_result",
          "data": {
            "text/plain": [
              "(0.6610169491525424, 0.8701825557809331)"
            ]
          },
          "metadata": {
            "tags": []
          },
          "execution_count": 36
        }
      ]
    },
    {
      "cell_type": "code",
      "metadata": {
        "id": "MxapdKZhOr0Q",
        "colab_type": "code",
        "colab": {}
      },
      "source": [
        "# Saving model\n",
        "\n",
        "# model_json = model.to_json()\n",
        "# with open(\"gdrive/My Drive/models/VGG19_12.json\", \"w\") as json_file:\n",
        "#     json_file.write(model_json)"
      ],
      "execution_count": null,
      "outputs": []
    },
    {
      "cell_type": "code",
      "metadata": {
        "id": "rybw7Ry7Or2f",
        "colab_type": "code",
        "colab": {}
      },
      "source": [
        "# model.save_weights(\"gdrive/My Drive/models/VGG19_12.h5\")\n",
        "# print(\"Saved model to disk\")"
      ],
      "execution_count": null,
      "outputs": []
    },
    {
      "cell_type": "code",
      "metadata": {
        "id": "CumEUxIaOrve",
        "colab_type": "code",
        "colab": {}
      },
      "source": [
        "# Saving and loading models\n",
        "# https://machinelearningmastery.com/save-load-keras-deep-learning-models/"
      ],
      "execution_count": null,
      "outputs": []
    },
    {
      "cell_type": "code",
      "metadata": {
        "id": "xRJWd9bUHWa7",
        "colab_type": "code",
        "colab": {}
      },
      "source": [
        ""
      ],
      "execution_count": null,
      "outputs": []
    },
    {
      "cell_type": "code",
      "metadata": {
        "id": "Oech-RU0HWhX",
        "colab_type": "code",
        "colab": {}
      },
      "source": [
        ""
      ],
      "execution_count": null,
      "outputs": []
    }
  ]
}