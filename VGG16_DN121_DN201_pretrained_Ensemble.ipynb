{
  "nbformat": 4,
  "nbformat_minor": 0,
  "metadata": {
    "accelerator": "GPU",
    "colab": {
      "name": "VGG16_DN121_DN201_pretrained_Ensemble.ipynb",
      "provenance": [],
      "toc_visible": true
    },
    "kernelspec": {
      "display_name": "Python 3",
      "language": "python",
      "name": "python3"
    },
    "language_info": {
      "codemirror_mode": {
        "name": "ipython",
        "version": 3
      },
      "file_extension": ".py",
      "mimetype": "text/x-python",
      "name": "python",
      "nbconvert_exporter": "python",
      "pygments_lexer": "ipython3",
      "version": "3.6.9"
    }
  },
  "cells": [
    {
      "cell_type": "code",
      "metadata": {
        "colab_type": "code",
        "id": "mKdW-45kyBEr",
        "colab": {}
      },
      "source": [
        "import tensorflow as tf\n",
        "import keras \n",
        "from keras.applications import VGG16, DenseNet121, DenseNet201\n",
        "import numpy as np\n",
        "from keras.preprocessing.image import ImageDataGenerator, NumpyArrayIterator\n",
        "from keras.callbacks import EarlyStopping, ModelCheckpoint\n",
        "from sklearn.metrics import confusion_matrix\n",
        "from keras import models, layers, optimizers"
      ],
      "execution_count": 57,
      "outputs": []
    },
    {
      "cell_type": "code",
      "metadata": {
        "colab_type": "code",
        "id": "O_hWsT8RyBE1",
        "colab": {}
      },
      "source": [
        "conv_base1 = VGG16(weights='imagenet', include_top = False, input_shape=(300,300,3))\n",
        "conv_base2 = DenseNet121(weights='imagenet', include_top = False, input_shape=(300,300,3))\n",
        "conv_base3 = DenseNet201(weights='imagenet', include_top = False, input_shape=(300,300,3))"
      ],
      "execution_count": 58,
      "outputs": []
    },
    {
      "cell_type": "code",
      "metadata": {
        "colab_type": "code",
        "id": "HmJBnMc0yrOl",
        "colab": {}
      },
      "source": [
        "from google.colab import drive\n",
        "drive.mount(\"/content/gdrive/\")"
      ],
      "execution_count": null,
      "outputs": []
    },
    {
      "cell_type": "code",
      "metadata": {
        "colab_type": "code",
        "id": "jZpMhfh0yBFA",
        "colab": {}
      },
      "source": [
        "X = np.load(\"gdrive/My Drive/pcb/xtrain.npy\")\n",
        "y = np.load(\"gdrive/My Drive/pcb/ytrain.npy\")"
      ],
      "execution_count": 59,
      "outputs": []
    },
    {
      "cell_type": "code",
      "metadata": {
        "id": "WBlCl5iJFAIs",
        "colab_type": "code",
        "colab": {
          "base_uri": "https://localhost:8080/",
          "height": 34
        },
        "outputId": "5120467c-5008-4381-e4b8-39027a5315ef"
      },
      "source": [
        "conv_base1.predict(X[0].reshape(1,300,300,3)).shape, conv_base2.predict(X[0].reshape(1,300,300,3)).shape, conv_base3.predict(X[0].reshape(1,300,300,3)).shape"
      ],
      "execution_count": 4,
      "outputs": [
        {
          "output_type": "execute_result",
          "data": {
            "text/plain": [
              "((1, 9, 9, 512), (1, 9, 9, 1024), (1, 9, 9, 1920))"
            ]
          },
          "metadata": {
            "tags": []
          },
          "execution_count": 4
        }
      ]
    },
    {
      "cell_type": "code",
      "metadata": {
        "id": "gLEHNpSCtRDv",
        "colab_type": "code",
        "colab": {}
      },
      "source": [
        "# Training set has 472 samples"
      ],
      "execution_count": null,
      "outputs": []
    },
    {
      "cell_type": "markdown",
      "metadata": {
        "id": "dH2UMi3oLXRj",
        "colab_type": "text"
      },
      "source": [
        "Training with k-fold Validation"
      ]
    },
    {
      "cell_type": "code",
      "metadata": {
        "id": "ylYElFUN0NfI",
        "colab_type": "code",
        "colab": {
          "base_uri": "https://localhost:8080/",
          "height": 34
        },
        "outputId": "d9a90b87-998b-4072-bd02-1605708a84b6"
      },
      "source": [
        "X.shape, (y == 0).sum(), (y == 1).sum()"
      ],
      "execution_count": 5,
      "outputs": [
        {
          "output_type": "execute_result",
          "data": {
            "text/plain": [
              "((472, 300, 300, 3), 236, 236)"
            ]
          },
          "metadata": {
            "tags": []
          },
          "execution_count": 5
        }
      ]
    },
    {
      "cell_type": "code",
      "metadata": {
        "id": "BeQXJVZL4h7v",
        "colab_type": "code",
        "colab": {}
      },
      "source": [
        "datagen = ImageDataGenerator(\n",
        "    featurewise_center = True,\n",
        "    featurewise_std_normalization = True\n",
        ")\n",
        "\n",
        "datagen.fit(X)"
      ],
      "execution_count": 60,
      "outputs": []
    },
    {
      "cell_type": "code",
      "metadata": {
        "id": "T_rpEncQbF7a",
        "colab_type": "code",
        "colab": {}
      },
      "source": [
        "nos = X.shape[0]\n",
        "bs = int(nos/8)\n",
        "\n",
        "numit = NumpyArrayIterator(\n",
        "    X, y, datagen, batch_size=bs, shuffle=False, sample_weight=None,\n",
        "    seed=None, data_format=None, save_to_dir=None, save_prefix='',\n",
        "    save_format='png', subset=None, dtype=None\n",
        ")\n"
      ],
      "execution_count": 15,
      "outputs": []
    },
    {
      "cell_type": "code",
      "metadata": {
        "id": "dNpL_TEj5BNb",
        "colab_type": "code",
        "colab": {
          "base_uri": "https://localhost:8080/",
          "height": 153
        },
        "outputId": "6b13254c-f979-4854-a73b-ae96afd534a0"
      },
      "source": [
        "conv1_samples = np.zeros(shape=(nos,9,9,512))\n",
        "conv1_labels = np.zeros(shape=(nos))\n",
        "i = 0\n",
        "for samples_batch,labels_batch in numit:\n",
        "    f = conv_base1.predict(samples_batch)\n",
        "    print(f.shape)\n",
        "    conv1_samples[i*bs:(i+1)*bs] = f\n",
        "    conv1_labels[i*bs:(i+1)*bs] = labels_batch\n",
        "    i+=1\n",
        "    if (i*bs)>=nos:\n",
        "        break"
      ],
      "execution_count": 16,
      "outputs": [
        {
          "output_type": "stream",
          "text": [
            "(59, 9, 9, 512)\n",
            "(59, 9, 9, 512)\n",
            "(59, 9, 9, 512)\n",
            "(59, 9, 9, 512)\n",
            "(59, 9, 9, 512)\n",
            "(59, 9, 9, 512)\n",
            "(59, 9, 9, 512)\n",
            "(59, 9, 9, 512)\n"
          ],
          "name": "stdout"
        }
      ]
    },
    {
      "cell_type": "code",
      "metadata": {
        "id": "hoki6hYabpyg",
        "colab_type": "code",
        "colab": {}
      },
      "source": [
        "conv1_samples = conv1_samples.reshape(nos,9*9*512)"
      ],
      "execution_count": 17,
      "outputs": []
    },
    {
      "cell_type": "code",
      "metadata": {
        "id": "f55E5l1qbMrY",
        "colab_type": "code",
        "colab": {
          "base_uri": "https://localhost:8080/",
          "height": 153
        },
        "outputId": "206397d6-e208-4b6a-c267-c43943df2de4"
      },
      "source": [
        "conv2_samples = np.zeros(shape=(nos,9,9,1024))\n",
        "conv2_labels = np.zeros(shape=(nos))\n",
        "i = 0\n",
        "for samples_batch,labels_batch in numit:\n",
        "    f = conv_base2.predict(samples_batch)\n",
        "    print(f.shape)\n",
        "    conv2_samples[i*bs:(i+1)*bs] = f\n",
        "    conv2_labels[i*bs:(i+1)*bs] = labels_batch\n",
        "    i+=1\n",
        "    if (i*bs)>=nos:\n",
        "        break"
      ],
      "execution_count": 18,
      "outputs": [
        {
          "output_type": "stream",
          "text": [
            "(59, 9, 9, 1024)\n",
            "(59, 9, 9, 1024)\n",
            "(59, 9, 9, 1024)\n",
            "(59, 9, 9, 1024)\n",
            "(59, 9, 9, 1024)\n",
            "(59, 9, 9, 1024)\n",
            "(59, 9, 9, 1024)\n",
            "(59, 9, 9, 1024)\n"
          ],
          "name": "stdout"
        }
      ]
    },
    {
      "cell_type": "code",
      "metadata": {
        "id": "5VDpDo0_bx9S",
        "colab_type": "code",
        "colab": {}
      },
      "source": [
        "conv2_samples = conv2_samples.reshape(nos,9*9*1024)"
      ],
      "execution_count": 19,
      "outputs": []
    },
    {
      "cell_type": "code",
      "metadata": {
        "id": "tjUEJG3tbdwe",
        "colab_type": "code",
        "colab": {
          "base_uri": "https://localhost:8080/",
          "height": 153
        },
        "outputId": "5d697a23-19d4-4092-b8fb-92493d42845f"
      },
      "source": [
        "conv3_samples = np.zeros(shape=(nos,9,9,1920))\n",
        "conv3_labels = np.zeros(shape=(nos))\n",
        "i = 0\n",
        "for samples_batch,labels_batch in numit:\n",
        "    f = conv_base3.predict(samples_batch)\n",
        "    print(f.shape)\n",
        "    conv3_samples[i*bs:(i+1)*bs] = f\n",
        "    conv3_labels[i*bs:(i+1)*bs] = labels_batch\n",
        "    i+=1\n",
        "    if (i*bs)>=nos:\n",
        "        break"
      ],
      "execution_count": 20,
      "outputs": [
        {
          "output_type": "stream",
          "text": [
            "(59, 9, 9, 1920)\n",
            "(59, 9, 9, 1920)\n",
            "(59, 9, 9, 1920)\n",
            "(59, 9, 9, 1920)\n",
            "(59, 9, 9, 1920)\n",
            "(59, 9, 9, 1920)\n",
            "(59, 9, 9, 1920)\n",
            "(59, 9, 9, 1920)\n"
          ],
          "name": "stdout"
        }
      ]
    },
    {
      "cell_type": "code",
      "metadata": {
        "id": "l3RCnShl5iGN",
        "colab_type": "code",
        "colab": {}
      },
      "source": [
        "conv3_samples = conv3_samples.reshape(nos,9*9*1920)"
      ],
      "execution_count": 21,
      "outputs": []
    },
    {
      "cell_type": "code",
      "metadata": {
        "id": "hoBAWa2K5pXb",
        "colab_type": "code",
        "colab": {
          "base_uri": "https://localhost:8080/",
          "height": 34
        },
        "outputId": "519a1a75-84d4-4ff4-de7e-d492a128b245"
      },
      "source": [
        "conv1_samples.shape, conv1_labels.shape, conv2_samples.shape, conv2_labels.shape, conv3_samples.shape, conv3_labels.shape"
      ],
      "execution_count": 16,
      "outputs": [
        {
          "output_type": "execute_result",
          "data": {
            "text/plain": [
              "((472, 41472), (472,), (472, 82944), (472,), (472, 155520), (472,))"
            ]
          },
          "metadata": {
            "tags": []
          },
          "execution_count": 16
        }
      ]
    },
    {
      "cell_type": "code",
      "metadata": {
        "id": "nSNmJgXP0Ndx",
        "colab_type": "code",
        "colab": {}
      },
      "source": [
        "from sklearn.model_selection import StratifiedKFold\n",
        "skf = StratifiedKFold(n_splits=8)"
      ],
      "execution_count": 62,
      "outputs": []
    },
    {
      "cell_type": "code",
      "metadata": {
        "id": "ygaQiPGMAyZN",
        "colab_type": "code",
        "colab": {
          "base_uri": "https://localhost:8080/",
          "height": 231
        },
        "outputId": "24f756e3-bbd7-421a-fefe-2159a584b2a2"
      },
      "source": [
        "accuracies = []\n",
        "f = 1\n",
        "\n",
        "for train_index, test_index in skf.split(X, y):\n",
        "        X_train = X[train_index]\n",
        "        X_test = X[test_index]\n",
        "        y_train = y[train_index]\n",
        "        y_test = y[test_index]\n",
        "      \n",
        "        X_train1 = conv_base1.predict(X_train)\n",
        "        X_train1 = X_train1.reshape(X_train.shape[0],9*9*512)\n",
        "        X_test1 = conv_base1.predict(X_test)\n",
        "        X_test1 = X_test1.reshape(X_test.shape[0],9*9*512)\n",
        "        \n",
        "        X_train2 = conv_base2.predict(X_train)\n",
        "        X_train2 = X_train2.reshape(X_train.shape[0],9*9*1024)\n",
        "        X_test2 = conv_base2.predict(X_test)\n",
        "        X_test2 = X_test2.reshape(X_test.shape[0],9*9*1024)\n",
        "        \n",
        "        X_train3 = conv_base3.predict(X_train)\n",
        "        X_train3 = X_train3.reshape(X_train.shape[0],9*9*1920)\n",
        "        X_test3 = conv_base3.predict(X_test)\n",
        "        X_test3 = X_test3.reshape(X_test.shape[0],9*9*1920)\n",
        "\n",
        "        model1 = models.Sequential()\n",
        "        model1.add(layers.Dense(256, activation = 'relu', input_dim = 9*9*512))\n",
        "        model1.add(layers.Dropout(0.5))\n",
        "        model1.add(layers.Dense(1, activation = 'sigmoid'))\n",
        "        model1.compile(optimizer = optimizers.Adam(lr = 1e-3),loss = 'binary_crossentropy',metrics = ['accuracy'])\n",
        "        \n",
        "        model2 = models.Sequential()\n",
        "        model2.add(layers.Dense(256, activation = 'relu', input_dim = 9*9*1024))\n",
        "        model2.add(layers.Dropout(0.5))\n",
        "        model2.add(layers.Dense(1, activation = 'sigmoid'))\n",
        "        model2.compile(optimizer = optimizers.Adam(lr = 1e-3),loss = 'binary_crossentropy',metrics = ['accuracy'])\n",
        "        \n",
        "        model3 = models.Sequential()\n",
        "        model3.add(layers.Dense(256, activation = 'relu', input_dim = 9*9*1920))\n",
        "        model3.add(layers.Dropout(0.5))\n",
        "        model3.add(layers.Dense(1, activation = 'sigmoid'))\n",
        "        model3.compile(optimizer = optimizers.Adam(lr = 1e-3),loss = 'binary_crossentropy',metrics = ['accuracy'])\n",
        "        \n",
        "        \n",
        "        my_callbacks = [EarlyStopping(monitor = 'val_loss', patience=5, restore_best_weights=True)]\n",
        "\n",
        "        print('Fold {}'.format(f))\n",
        "        \n",
        "        history1 = model1.fit(X_train1, y_train, epochs = 100, batch_size = 20, validation_data = (X_test1, y_test), shuffle = True, callbacks = my_callbacks)\n",
        "        history2 = model2.fit(X_train2, y_train, epochs = 100, batch_size = 20, validation_data = (X_test2, y_test), shuffle = True, callbacks = my_callbacks)\n",
        "        history3 = model3.fit(X_train3, y_train, epochs = 100, batch_size = 20, validation_data = (X_test3, y_test), shuffle = True, callbacks = my_callbacks)\n",
        "\n",
        "\n",
        "        test_preds1 = model1.predict(X_test1, batch_size = 20)\n",
        "        test_predclass1 = np.array([1.0 if i>0.5 else 0.0 for i in test_preds1])\n",
        "\n",
        "        test_preds2 = model2.predict(X_test2, batch_size = 20)\n",
        "        test_predclass2 = np.array([1.0 if i>0.5 else 0.0 for i in test_preds2])\n",
        "\n",
        "        test_preds3 = model3.predict(X_test3, batch_size = 20)\n",
        "        test_predclass3 = np.array([1.0 if i>0.5 else 0.0 for i in test_preds3])\n",
        "\n",
        "        kfinal_preds = np.empty(test_predclass3.shape[0])\n",
        "        for i in range(test_predclass3.shape[0]):\n",
        "          predsum = test_predclass1[i] + test_predclass2[i] + test_predclass3[i] \n",
        "          kfinal_preds[i] = 0.0 if predsum in [0.0,1.0] else 1.0\n",
        "\n",
        "\n",
        "        accuracies.append([confusion_matrix(y_test,kfinalpreds)[0][0]/(y_test == 0.0).sum(), confusion_matrix(y_test,kfinalpreds)[1][1]/(y_test == 1.0).sum()])\n",
        "        f+=1"
      ],
      "execution_count": 64,
      "outputs": [
        {
          "output_type": "error",
          "ename": "ValueError",
          "evalue": "ignored",
          "traceback": [
            "\u001b[0;31m---------------------------------------------------------------------------\u001b[0m",
            "\u001b[0;31mValueError\u001b[0m                                Traceback (most recent call last)",
            "\u001b[0;32m<ipython-input-64-dac22f37a2a1>\u001b[0m in \u001b[0;36m<module>\u001b[0;34m()\u001b[0m\n\u001b[1;32m     16\u001b[0m         \u001b[0mX_train2\u001b[0m \u001b[0;34m=\u001b[0m \u001b[0mX_train2\u001b[0m\u001b[0;34m.\u001b[0m\u001b[0mreshape\u001b[0m\u001b[0;34m(\u001b[0m\u001b[0mX_train\u001b[0m\u001b[0;34m.\u001b[0m\u001b[0mshape\u001b[0m\u001b[0;34m[\u001b[0m\u001b[0;36m0\u001b[0m\u001b[0;34m]\u001b[0m\u001b[0;34m,\u001b[0m\u001b[0;36m9\u001b[0m\u001b[0;34m*\u001b[0m\u001b[0;36m9\u001b[0m\u001b[0;34m*\u001b[0m\u001b[0;36m1024\u001b[0m\u001b[0;34m)\u001b[0m\u001b[0;34m\u001b[0m\u001b[0;34m\u001b[0m\u001b[0m\n\u001b[1;32m     17\u001b[0m         \u001b[0mX_test2\u001b[0m \u001b[0;34m=\u001b[0m \u001b[0mconv_base1\u001b[0m\u001b[0;34m.\u001b[0m\u001b[0mpredict\u001b[0m\u001b[0;34m(\u001b[0m\u001b[0mX_test\u001b[0m\u001b[0;34m)\u001b[0m\u001b[0;34m\u001b[0m\u001b[0;34m\u001b[0m\u001b[0m\n\u001b[0;32m---> 18\u001b[0;31m         \u001b[0mX_test2\u001b[0m \u001b[0;34m=\u001b[0m \u001b[0mX_test2\u001b[0m\u001b[0;34m.\u001b[0m\u001b[0mreshape\u001b[0m\u001b[0;34m(\u001b[0m\u001b[0mX_test\u001b[0m\u001b[0;34m.\u001b[0m\u001b[0mshape\u001b[0m\u001b[0;34m[\u001b[0m\u001b[0;36m0\u001b[0m\u001b[0;34m]\u001b[0m\u001b[0;34m,\u001b[0m\u001b[0;36m9\u001b[0m\u001b[0;34m*\u001b[0m\u001b[0;36m9\u001b[0m\u001b[0;34m*\u001b[0m\u001b[0;36m1024\u001b[0m\u001b[0;34m)\u001b[0m\u001b[0;34m\u001b[0m\u001b[0;34m\u001b[0m\u001b[0m\n\u001b[0m\u001b[1;32m     19\u001b[0m \u001b[0;34m\u001b[0m\u001b[0m\n\u001b[1;32m     20\u001b[0m         \u001b[0mX_train3\u001b[0m \u001b[0;34m=\u001b[0m \u001b[0mconv_base3\u001b[0m\u001b[0;34m.\u001b[0m\u001b[0mpredict\u001b[0m\u001b[0;34m(\u001b[0m\u001b[0mX_train\u001b[0m\u001b[0;34m)\u001b[0m\u001b[0;34m\u001b[0m\u001b[0;34m\u001b[0m\u001b[0m\n",
            "\u001b[0;31mValueError\u001b[0m: cannot reshape array of size 2446848 into shape (59,82944)"
          ]
        }
      ]
    },
    {
      "cell_type": "code",
      "metadata": {
        "id": "ENfBSs4FAygc",
        "colab_type": "code",
        "colab": {}
      },
      "source": [
        ""
      ],
      "execution_count": null,
      "outputs": []
    },
    {
      "cell_type": "code",
      "metadata": {
        "id": "-GvsuoqY0NZL",
        "colab_type": "code",
        "colab": {
          "base_uri": "https://localhost:8080/",
          "height": 34
        },
        "outputId": "662c0f06-5ce9-4141-e4e9-5f52191cbbea"
      },
      "source": [
        "zero_acc = 0\n",
        "one_acc = 0\n",
        "\n",
        "for i in accuracies:\n",
        "  zero_acc+= i[0]\n",
        "  one_acc+=i[1]\n",
        "\n",
        "zero_acc/=8\n",
        "one_acc/=8\n",
        "\n",
        "print(zero_acc, one_acc)"
      ],
      "execution_count": 91,
      "outputs": [
        {
          "output_type": "stream",
          "text": [
            "0.7895114942528736 0.8475574712643679\n"
          ],
          "name": "stdout"
        }
      ]
    },
    {
      "cell_type": "code",
      "metadata": {
        "id": "8I-sKdUUAyec",
        "colab_type": "code",
        "colab": {}
      },
      "source": [
        ""
      ],
      "execution_count": null,
      "outputs": []
    },
    {
      "cell_type": "code",
      "metadata": {
        "id": "_ky2u4KOAycC",
        "colab_type": "code",
        "colab": {}
      },
      "source": [
        ""
      ],
      "execution_count": null,
      "outputs": []
    },
    {
      "cell_type": "code",
      "metadata": {
        "id": "q9nlExhzAyWr",
        "colab_type": "code",
        "colab": {}
      },
      "source": [
        ""
      ],
      "execution_count": null,
      "outputs": []
    },
    {
      "cell_type": "markdown",
      "metadata": {
        "id": "trKQU8cuMHQV",
        "colab_type": "text"
      },
      "source": [
        "Training on whole Training Dataset"
      ]
    },
    {
      "cell_type": "code",
      "metadata": {
        "id": "ppbMkhK2L0ov",
        "colab_type": "code",
        "colab": {}
      },
      "source": [
        "model_conv1 = models.Sequential()\n",
        "model_conv1.add(layers.Dense(256, activation = 'relu', input_dim = 9*9*512))\n",
        "model_conv1.add(layers.Dropout(0.5))\n",
        "model_conv1.add(layers.Dense(1, activation = 'sigmoid'))\n",
        "model_conv1.compile(optimizer = optimizers.Adam(lr = 1e-3),loss = 'binary_crossentropy',metrics = ['accuracy'])\n",
        "\n",
        "model_conv2 = models.Sequential()\n",
        "model_conv2.add(layers.Dense(256, activation = 'relu', input_dim = 9*9*1024))\n",
        "model_conv2.add(layers.Dropout(0.5))\n",
        "model_conv2.add(layers.Dense(1, activation = 'sigmoid'))\n",
        "model_conv2.compile(optimizer = optimizers.Adam(lr = 1e-3),loss = 'binary_crossentropy',metrics = ['accuracy'])\n",
        "\n",
        "model_conv3 = models.Sequential()\n",
        "model_conv3.add(layers.Dense(256, activation = 'relu', input_dim = 9*9*1920))\n",
        "model_conv3.add(layers.Dropout(0.5))\n",
        "model_conv3.add(layers.Dense(1, activation = 'sigmoid'))\n",
        "model_conv3.compile(optimizer = optimizers.Adam(lr = 1e-3),loss = 'binary_crossentropy',metrics = ['accuracy'])\n",
        "\n",
        "my_callbacks = [EarlyStopping(monitor = 'val_loss', patience=5, restore_best_weights=True)]"
      ],
      "execution_count": 23,
      "outputs": []
    },
    {
      "cell_type": "code",
      "metadata": {
        "id": "Xncnp_xvNgcr",
        "colab_type": "code",
        "colab": {}
      },
      "source": [
        "xtest = np.load('gdrive/My Drive/pcb/xtest.npy')\n",
        "ytest = np.load('gdrive/My Drive/pcb/ytest.npy')\n"
      ],
      "execution_count": 24,
      "outputs": []
    },
    {
      "cell_type": "code",
      "metadata": {
        "id": "SDa1CkJ9NgfS",
        "colab_type": "code",
        "colab": {}
      },
      "source": [
        "datagentest = ImageDataGenerator(\n",
        "    featurewise_center = True,\n",
        "    featurewise_std_normalization = True\n",
        ")\n",
        "datagentest.fit(xtest)\n",
        "testnos = ytest.shape[0]\n",
        "\n",
        "\n",
        "numittest = NumpyArrayIterator(\n",
        "    xtest, ytest, datagentest, batch_size=testnos, shuffle=False, sample_weight=None,\n",
        "    seed=None, data_format=None, save_to_dir=None, save_prefix='',\n",
        "    save_format='png', subset=None, dtype=None\n",
        ")\n"
      ],
      "execution_count": 25,
      "outputs": []
    },
    {
      "cell_type": "code",
      "metadata": {
        "id": "QS7XpHLiNgoa",
        "colab_type": "code",
        "colab": {
          "base_uri": "https://localhost:8080/",
          "height": 34
        },
        "outputId": "cc47a48f-5bd2-4bb1-b8a2-bb63a8307564"
      },
      "source": [
        "conv1_test_samples = np.zeros(shape=(testnos,9,9,512))\n",
        "conv1_test_labels = np.zeros(shape=(testnos))\n",
        "for samples_batch,labels_batch in numittest:\n",
        "    g = conv_base1.predict(samples_batch)\n",
        "    print(g.shape)\n",
        "    conv1_test_samples[::] = g\n",
        "    conv1_test_labels[:] = labels_batch\n",
        "    break"
      ],
      "execution_count": 28,
      "outputs": [
        {
          "output_type": "stream",
          "text": [
            "(552, 9, 9, 512)\n"
          ],
          "name": "stdout"
        }
      ]
    },
    {
      "cell_type": "code",
      "metadata": {
        "id": "0f37VOEUNgki",
        "colab_type": "code",
        "colab": {}
      },
      "source": [
        "conv1_test_samples = conv1_test_samples.reshape(testnos,9*9*512)"
      ],
      "execution_count": 30,
      "outputs": []
    },
    {
      "cell_type": "code",
      "metadata": {
        "id": "4N21hH-_xAFV",
        "colab_type": "code",
        "colab": {
          "base_uri": "https://localhost:8080/",
          "height": 34
        },
        "outputId": "415b7998-d45e-4350-957f-443232f1c7c9"
      },
      "source": [
        "conv2_test_samples = np.zeros(shape=(testnos,9,9,1024))\n",
        "conv2_test_labels = np.zeros(shape=(testnos))\n",
        "for samples_batch,labels_batch in numittest:\n",
        "    g = conv_base2.predict(samples_batch)\n",
        "    print(g.shape)\n",
        "    conv2_test_samples[::] = g\n",
        "    conv2_test_labels[:] = labels_batch\n",
        "    break"
      ],
      "execution_count": 32,
      "outputs": [
        {
          "output_type": "stream",
          "text": [
            "(552, 9, 9, 1024)\n"
          ],
          "name": "stdout"
        }
      ]
    },
    {
      "cell_type": "code",
      "metadata": {
        "id": "d8Q19vAQxAKr",
        "colab_type": "code",
        "colab": {}
      },
      "source": [
        "conv2_test_samples = conv2_test_samples.reshape(testnos,9*9*1024)"
      ],
      "execution_count": 33,
      "outputs": []
    },
    {
      "cell_type": "code",
      "metadata": {
        "id": "Ef9PK7zDxAW1",
        "colab_type": "code",
        "colab": {
          "base_uri": "https://localhost:8080/",
          "height": 34
        },
        "outputId": "2d143204-d1cf-4b56-a7fa-bd11a3510435"
      },
      "source": [
        "conv3_test_samples = np.zeros(shape=(testnos,9,9,1920))\n",
        "conv3_test_labels = np.zeros(shape=(testnos))\n",
        "for samples_batch,labels_batch in numittest:\n",
        "    g = conv_base3.predict(samples_batch)\n",
        "    print(g.shape)\n",
        "    conv3_test_samples[::] = g\n",
        "    conv3_test_labels[:] = labels_batch\n",
        "    break"
      ],
      "execution_count": 35,
      "outputs": [
        {
          "output_type": "stream",
          "text": [
            "(552, 9, 9, 1920)\n"
          ],
          "name": "stdout"
        }
      ]
    },
    {
      "cell_type": "code",
      "metadata": {
        "id": "21RPhIg7xAhB",
        "colab_type": "code",
        "colab": {}
      },
      "source": [
        "conv3_test_samples = conv3_test_samples.reshape(testnos,9*9*1920)"
      ],
      "execution_count": 36,
      "outputs": []
    },
    {
      "cell_type": "code",
      "metadata": {
        "id": "TR4pOMLsQBDO",
        "colab_type": "code",
        "colab": {}
      },
      "source": [
        "# To save memory\n",
        "del xtest\n",
        "del ytest"
      ],
      "execution_count": 101,
      "outputs": []
    },
    {
      "cell_type": "code",
      "metadata": {
        "id": "Ef_xxG8bNgiT",
        "colab_type": "code",
        "colab": {
          "base_uri": "https://localhost:8080/",
          "height": 374
        },
        "outputId": "1f3145ea-6c7d-4689-fb9d-579c6cc0f5cb"
      },
      "source": [
        "conv1_historytest = model_conv1.fit(conv1_samples, conv1_labels, epochs = 100, batch_size = 20, validation_data = (conv1_test_samples, conv1_test_labels), shuffle = True,  callbacks = my_callbacks)"
      ],
      "execution_count": 37,
      "outputs": [
        {
          "output_type": "stream",
          "text": [
            "Train on 472 samples, validate on 552 samples\n",
            "Epoch 1/100\n",
            "472/472 [==============================] - 1s 2ms/step - loss: 2.9841 - accuracy: 0.6335 - val_loss: 0.8218 - val_accuracy: 0.7627\n",
            "Epoch 2/100\n",
            "472/472 [==============================] - 1s 1ms/step - loss: 0.5000 - accuracy: 0.8453 - val_loss: 0.5651 - val_accuracy: 0.7717\n",
            "Epoch 3/100\n",
            "472/472 [==============================] - 1s 1ms/step - loss: 0.2558 - accuracy: 0.8941 - val_loss: 0.5697 - val_accuracy: 0.7935\n",
            "Epoch 4/100\n",
            "472/472 [==============================] - 1s 1ms/step - loss: 0.1679 - accuracy: 0.9322 - val_loss: 0.7086 - val_accuracy: 0.7373\n",
            "Epoch 5/100\n",
            "472/472 [==============================] - 1s 1ms/step - loss: 0.1735 - accuracy: 0.9470 - val_loss: 0.3871 - val_accuracy: 0.8641\n",
            "Epoch 6/100\n",
            "472/472 [==============================] - 1s 1ms/step - loss: 0.1363 - accuracy: 0.9492 - val_loss: 0.7219 - val_accuracy: 0.7464\n",
            "Epoch 7/100\n",
            "472/472 [==============================] - 1s 1ms/step - loss: 0.1206 - accuracy: 0.9597 - val_loss: 0.6843 - val_accuracy: 0.7572\n",
            "Epoch 8/100\n",
            "472/472 [==============================] - 1s 1ms/step - loss: 0.0922 - accuracy: 0.9809 - val_loss: 1.0148 - val_accuracy: 0.6975\n",
            "Epoch 9/100\n",
            "472/472 [==============================] - 1s 1ms/step - loss: 0.0771 - accuracy: 0.9703 - val_loss: 0.6480 - val_accuracy: 0.7953\n",
            "Epoch 10/100\n",
            "472/472 [==============================] - 1s 1ms/step - loss: 0.0985 - accuracy: 0.9619 - val_loss: 0.7346 - val_accuracy: 0.7554\n"
          ],
          "name": "stdout"
        }
      ]
    },
    {
      "cell_type": "code",
      "metadata": {
        "id": "FywzanHZeSoV",
        "colab_type": "code",
        "colab": {
          "base_uri": "https://localhost:8080/",
          "height": 578
        },
        "outputId": "48f1297c-ca79-497c-be6a-03fd5ff56f6d"
      },
      "source": [
        "conv2_historytest = model_conv2.fit(conv2_samples, conv2_labels, epochs = 100, batch_size = 20, validation_data = (conv2_test_samples, conv2_test_labels), shuffle = True,  callbacks = my_callbacks)"
      ],
      "execution_count": 38,
      "outputs": [
        {
          "output_type": "stream",
          "text": [
            "Train on 472 samples, validate on 552 samples\n",
            "Epoch 1/100\n",
            "472/472 [==============================] - 1s 3ms/step - loss: 7.6073 - accuracy: 0.6568 - val_loss: 2.3205 - val_accuracy: 0.8062\n",
            "Epoch 2/100\n",
            "472/472 [==============================] - 1s 2ms/step - loss: 2.7081 - accuracy: 0.7945 - val_loss: 1.3893 - val_accuracy: 0.8442\n",
            "Epoch 3/100\n",
            "472/472 [==============================] - 1s 2ms/step - loss: 0.7197 - accuracy: 0.8623 - val_loss: 0.7213 - val_accuracy: 0.8351\n",
            "Epoch 4/100\n",
            "472/472 [==============================] - 1s 2ms/step - loss: 0.2725 - accuracy: 0.9131 - val_loss: 1.2570 - val_accuracy: 0.6957\n",
            "Epoch 5/100\n",
            "472/472 [==============================] - 1s 2ms/step - loss: 0.2322 - accuracy: 0.9258 - val_loss: 0.6513 - val_accuracy: 0.7717\n",
            "Epoch 6/100\n",
            "472/472 [==============================] - 1s 2ms/step - loss: 0.1597 - accuracy: 0.9322 - val_loss: 0.6958 - val_accuracy: 0.7536\n",
            "Epoch 7/100\n",
            "472/472 [==============================] - 1s 2ms/step - loss: 0.1428 - accuracy: 0.9428 - val_loss: 0.5838 - val_accuracy: 0.7899\n",
            "Epoch 8/100\n",
            "472/472 [==============================] - 1s 2ms/step - loss: 0.1164 - accuracy: 0.9534 - val_loss: 0.6644 - val_accuracy: 0.7844\n",
            "Epoch 9/100\n",
            "472/472 [==============================] - 1s 2ms/step - loss: 0.0844 - accuracy: 0.9725 - val_loss: 0.7114 - val_accuracy: 0.8007\n",
            "Epoch 10/100\n",
            "472/472 [==============================] - 1s 2ms/step - loss: 0.0801 - accuracy: 0.9703 - val_loss: 0.9234 - val_accuracy: 0.6975\n",
            "Epoch 11/100\n",
            "472/472 [==============================] - 1s 2ms/step - loss: 0.0648 - accuracy: 0.9831 - val_loss: 0.4301 - val_accuracy: 0.8931\n",
            "Epoch 12/100\n",
            "472/472 [==============================] - 1s 2ms/step - loss: 0.0730 - accuracy: 0.9725 - val_loss: 0.6715 - val_accuracy: 0.8134\n",
            "Epoch 13/100\n",
            "472/472 [==============================] - 1s 2ms/step - loss: 0.0599 - accuracy: 0.9767 - val_loss: 1.0153 - val_accuracy: 0.6938\n",
            "Epoch 14/100\n",
            "472/472 [==============================] - 1s 2ms/step - loss: 0.0748 - accuracy: 0.9725 - val_loss: 0.9928 - val_accuracy: 0.7373\n",
            "Epoch 15/100\n",
            "472/472 [==============================] - 1s 2ms/step - loss: 0.0405 - accuracy: 0.9809 - val_loss: 1.1549 - val_accuracy: 0.7192\n",
            "Epoch 16/100\n",
            "472/472 [==============================] - 1s 2ms/step - loss: 0.0681 - accuracy: 0.9725 - val_loss: 0.8318 - val_accuracy: 0.7989\n"
          ],
          "name": "stdout"
        }
      ]
    },
    {
      "cell_type": "code",
      "metadata": {
        "id": "qrvb6KSieTYU",
        "colab_type": "code",
        "colab": {
          "base_uri": "https://localhost:8080/",
          "height": 408
        },
        "outputId": "0ed139f3-58c3-460a-ac73-e74f1b2288d3"
      },
      "source": [
        "conv3_historytest = model_conv3.fit(conv3_samples, conv3_labels, epochs = 100, batch_size = 20, validation_data = (conv3_test_samples, conv3_test_labels), shuffle = True,  callbacks = my_callbacks)"
      ],
      "execution_count": 39,
      "outputs": [
        {
          "output_type": "stream",
          "text": [
            "Train on 472 samples, validate on 552 samples\n",
            "Epoch 1/100\n",
            "472/472 [==============================] - 2s 5ms/step - loss: 7.9190 - accuracy: 0.6483 - val_loss: 2.0795 - val_accuracy: 0.8714\n",
            "Epoch 2/100\n",
            "472/472 [==============================] - 2s 4ms/step - loss: 1.9778 - accuracy: 0.8093 - val_loss: 1.3705 - val_accuracy: 0.7409\n",
            "Epoch 3/100\n",
            "472/472 [==============================] - 2s 4ms/step - loss: 0.5379 - accuracy: 0.8898 - val_loss: 1.5802 - val_accuracy: 0.6649\n",
            "Epoch 4/100\n",
            "472/472 [==============================] - 2s 4ms/step - loss: 0.5766 - accuracy: 0.8919 - val_loss: 0.7267 - val_accuracy: 0.8551\n",
            "Epoch 5/100\n",
            "472/472 [==============================] - 2s 4ms/step - loss: 0.2672 - accuracy: 0.9068 - val_loss: 0.7585 - val_accuracy: 0.7264\n",
            "Epoch 6/100\n",
            "472/472 [==============================] - 2s 4ms/step - loss: 0.1883 - accuracy: 0.9407 - val_loss: 0.5178 - val_accuracy: 0.8551\n",
            "Epoch 7/100\n",
            "472/472 [==============================] - 2s 4ms/step - loss: 0.1273 - accuracy: 0.9534 - val_loss: 0.9697 - val_accuracy: 0.7482\n",
            "Epoch 8/100\n",
            "472/472 [==============================] - 2s 4ms/step - loss: 0.2013 - accuracy: 0.9258 - val_loss: 1.1139 - val_accuracy: 0.6685\n",
            "Epoch 9/100\n",
            "472/472 [==============================] - 2s 4ms/step - loss: 0.1171 - accuracy: 0.9534 - val_loss: 0.7289 - val_accuracy: 0.8098\n",
            "Epoch 10/100\n",
            "472/472 [==============================] - 2s 4ms/step - loss: 0.1187 - accuracy: 0.9555 - val_loss: 0.8146 - val_accuracy: 0.7899\n",
            "Epoch 11/100\n",
            "472/472 [==============================] - 2s 4ms/step - loss: 0.1211 - accuracy: 0.9640 - val_loss: 0.9233 - val_accuracy: 0.7518\n"
          ],
          "name": "stdout"
        }
      ]
    },
    {
      "cell_type": "code",
      "metadata": {
        "id": "Iv26Zs3JxVjR",
        "colab_type": "code",
        "colab": {}
      },
      "source": [
        ""
      ],
      "execution_count": null,
      "outputs": []
    },
    {
      "cell_type": "code",
      "metadata": {
        "id": "jgbhA0dtNgaq",
        "colab_type": "code",
        "colab": {}
      },
      "source": [
        "conv1_test_preds = model_conv1.predict(conv1_test_samples, batch_size = 20)\n",
        "conv1_test_predclass = np.array([1.0 if i>0.5 else 0.0 for i in conv1_test_preds])"
      ],
      "execution_count": 40,
      "outputs": []
    },
    {
      "cell_type": "code",
      "metadata": {
        "id": "I3oZ2uIBOrsm",
        "colab_type": "code",
        "colab": {}
      },
      "source": [
        "conv2_test_preds = model_conv2.predict(conv2_test_samples, batch_size = 20)\n",
        "conv2_test_predclass = np.array([1.0 if i>0.5 else 0.0 for i in conv2_test_preds])"
      ],
      "execution_count": 41,
      "outputs": []
    },
    {
      "cell_type": "code",
      "metadata": {
        "id": "iB5-kLT-xnrp",
        "colab_type": "code",
        "colab": {}
      },
      "source": [
        "conv3_test_preds = model_conv3.predict(conv3_test_samples, batch_size = 20)\n",
        "conv3_test_predclass = np.array([1.0 if i>0.5 else 0.0 for i in conv3_test_preds])"
      ],
      "execution_count": 42,
      "outputs": []
    },
    {
      "cell_type": "code",
      "metadata": {
        "id": "91_8v_ZdxnzF",
        "colab_type": "code",
        "colab": {}
      },
      "source": [
        "# Voting\n",
        "\n",
        "final_preds = np.empty(conv1_test_predclass.shape[0])\n",
        "for i in range(conv1_test_predclass.shape[0]):\n",
        "  predsum = conv1_test_predclass[i] + conv2_test_predclass[i] + conv3_test_predclass[i] \n",
        "  final_preds[i] = 0.0 if predsum in [0.0,1.0] else 1.0"
      ],
      "execution_count": 55,
      "outputs": []
    },
    {
      "cell_type": "code",
      "metadata": {
        "id": "B9pW68K3Orxg",
        "colab_type": "code",
        "colab": {
          "base_uri": "https://localhost:8080/",
          "height": 34
        },
        "outputId": "313ace5d-70ed-4098-e9af-0af97b5c1bf9"
      },
      "source": [
        "confusion_matrix(conv1_test_labels,final_preds)[0][0]/(conv1_test_labels == 0.0).sum(), confusion_matrix(conv1_test_labels,final_preds)[1][1]/(conv1_test_labels == 1.0).sum()"
      ],
      "execution_count": 56,
      "outputs": [
        {
          "output_type": "execute_result",
          "data": {
            "text/plain": [
              "(0.6610169491525424, 0.922920892494929)"
            ]
          },
          "metadata": {
            "tags": []
          },
          "execution_count": 56
        }
      ]
    },
    {
      "cell_type": "code",
      "metadata": {
        "id": "MxapdKZhOr0Q",
        "colab_type": "code",
        "colab": {}
      },
      "source": [
        "# Saving model\n",
        "\n",
        "# model_json = model.to_json()\n",
        "# with open(\"gdrive/My Drive/models/VGG19_12.json\", \"w\") as json_file:\n",
        "#     json_file.write(model_json)"
      ],
      "execution_count": null,
      "outputs": []
    },
    {
      "cell_type": "code",
      "metadata": {
        "id": "rybw7Ry7Or2f",
        "colab_type": "code",
        "colab": {}
      },
      "source": [
        "# model.save_weights(\"gdrive/My Drive/models/VGG19_12.h5\")\n",
        "# print(\"Saved model to disk\")"
      ],
      "execution_count": null,
      "outputs": []
    },
    {
      "cell_type": "code",
      "metadata": {
        "id": "CumEUxIaOrve",
        "colab_type": "code",
        "colab": {}
      },
      "source": [
        "# Saving and loading models\n",
        "# https://machinelearningmastery.com/save-load-keras-deep-learning-models/"
      ],
      "execution_count": null,
      "outputs": []
    },
    {
      "cell_type": "code",
      "metadata": {
        "id": "xRJWd9bUHWa7",
        "colab_type": "code",
        "colab": {}
      },
      "source": [
        ""
      ],
      "execution_count": null,
      "outputs": []
    },
    {
      "cell_type": "code",
      "metadata": {
        "id": "Oech-RU0HWhX",
        "colab_type": "code",
        "colab": {}
      },
      "source": [
        ""
      ],
      "execution_count": null,
      "outputs": []
    }
  ]
}