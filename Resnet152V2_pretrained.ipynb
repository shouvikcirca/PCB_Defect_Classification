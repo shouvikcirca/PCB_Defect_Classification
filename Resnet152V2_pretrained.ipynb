{
  "nbformat": 4,
  "nbformat_minor": 0,
  "metadata": {
    "accelerator": "GPU",
    "colab": {
      "name": "Resnet152V2_pretrained.ipynb",
      "provenance": [],
      "toc_visible": true
    },
    "kernelspec": {
      "display_name": "Python 3",
      "language": "python",
      "name": "python3"
    },
    "language_info": {
      "codemirror_mode": {
        "name": "ipython",
        "version": 3
      },
      "file_extension": ".py",
      "mimetype": "text/x-python",
      "name": "python",
      "nbconvert_exporter": "python",
      "pygments_lexer": "ipython3",
      "version": "3.6.9"
    }
  },
  "cells": [
    {
      "cell_type": "code",
      "metadata": {
        "colab_type": "code",
        "id": "mKdW-45kyBEr",
        "colab": {}
      },
      "source": [
        "import tensorflow as tf\n",
        "import keras \n",
        "from keras.applications import ResNet152V2\n",
        "import numpy as np\n",
        "from keras.preprocessing.image import ImageDataGenerator, NumpyArrayIterator\n",
        "from keras.callbacks import EarlyStopping, ModelCheckpoint\n",
        "from sklearn.metrics import confusion_matrix\n",
        "from keras import models, layers, optimizers"
      ],
      "execution_count": 3,
      "outputs": []
    },
    {
      "cell_type": "code",
      "metadata": {
        "colab_type": "code",
        "id": "O_hWsT8RyBE1",
        "colab": {
          "base_uri": "https://localhost:8080/",
          "height": 51
        },
        "outputId": "50fc4562-49fc-4425-ac5c-c639e6695693"
      },
      "source": [
        "conv_base = ResNet152V2(weights='imagenet', include_top = False, input_shape=(300,300,3))"
      ],
      "execution_count": 4,
      "outputs": [
        {
          "output_type": "stream",
          "text": [
            "Downloading data from https://github.com/keras-team/keras-applications/releases/download/resnet/resnet152v2_weights_tf_dim_ordering_tf_kernels_notop.h5\n",
            "234553344/234545216 [==============================] - 17s 0us/step\n"
          ],
          "name": "stdout"
        }
      ]
    },
    {
      "cell_type": "code",
      "metadata": {
        "colab_type": "code",
        "id": "HmJBnMc0yrOl",
        "colab": {}
      },
      "source": [
        "from google.colab import drive\n",
        "drive.mount(\"/content/gdrive/\")"
      ],
      "execution_count": null,
      "outputs": []
    },
    {
      "cell_type": "code",
      "metadata": {
        "colab_type": "code",
        "id": "jZpMhfh0yBFA",
        "colab": {}
      },
      "source": [
        "X = np.load(\"gdrive/My Drive/pcb/xtrain.npy\")\n",
        "y = np.load(\"gdrive/My Drive/pcb/ytrain.npy\")"
      ],
      "execution_count": 6,
      "outputs": []
    },
    {
      "cell_type": "code",
      "metadata": {
        "id": "gLEHNpSCtRDv",
        "colab_type": "code",
        "colab": {}
      },
      "source": [
        "# Training set has 472 samples"
      ],
      "execution_count": null,
      "outputs": []
    },
    {
      "cell_type": "markdown",
      "metadata": {
        "id": "dH2UMi3oLXRj",
        "colab_type": "text"
      },
      "source": [
        "Training with k-fold Validation"
      ]
    },
    {
      "cell_type": "code",
      "metadata": {
        "id": "ylYElFUN0NfI",
        "colab_type": "code",
        "colab": {
          "base_uri": "https://localhost:8080/",
          "height": 34
        },
        "outputId": "151946d5-05d6-4a71-8db0-9b2adff8bdff"
      },
      "source": [
        "X.shape, (y == 0).sum(), (y == 1).sum()"
      ],
      "execution_count": 7,
      "outputs": [
        {
          "output_type": "execute_result",
          "data": {
            "text/plain": [
              "((472, 300, 300, 3), 236, 236)"
            ]
          },
          "metadata": {
            "tags": []
          },
          "execution_count": 7
        }
      ]
    },
    {
      "cell_type": "code",
      "metadata": {
        "id": "BeQXJVZL4h7v",
        "colab_type": "code",
        "colab": {}
      },
      "source": [
        "datagen = ImageDataGenerator(\n",
        "    featurewise_center = True,\n",
        "    featurewise_std_normalization = True\n",
        ")\n",
        "\n",
        "datagen.fit(X)"
      ],
      "execution_count": 8,
      "outputs": []
    },
    {
      "cell_type": "code",
      "metadata": {
        "id": "dNpL_TEj5BNb",
        "colab_type": "code",
        "colab": {
          "base_uri": "https://localhost:8080/",
          "height": 153
        },
        "outputId": "ceba147d-206d-47e1-c3e9-7802f6619377"
      },
      "source": [
        "nos = X.shape[0]\n",
        "bs = int(nos/8)\n",
        "\n",
        "numit = NumpyArrayIterator(\n",
        "    X, y, datagen, batch_size=bs, shuffle=False, sample_weight=None,\n",
        "    seed=None, data_format=None, save_to_dir=None, save_prefix='',\n",
        "    save_format='png', subset=None, dtype=None\n",
        ")\n",
        "\n",
        "samples = np.zeros(shape=(nos,10,10,2048))\n",
        "labels = np.zeros(shape=(nos))\n",
        "i = 0\n",
        "for samples_batch,labels_batch in numit:\n",
        "    f = conv_base.predict(samples_batch)\n",
        "    print(f.shape)\n",
        "    samples[i*bs:(i+1)*bs] = f\n",
        "    labels[i*bs:(i+1)*bs] = labels_batch\n",
        "    i+=1\n",
        "    if (i*bs)>=nos:\n",
        "        break"
      ],
      "execution_count": 9,
      "outputs": [
        {
          "output_type": "stream",
          "text": [
            "(59, 10, 10, 2048)\n",
            "(59, 10, 10, 2048)\n",
            "(59, 10, 10, 2048)\n",
            "(59, 10, 10, 2048)\n",
            "(59, 10, 10, 2048)\n",
            "(59, 10, 10, 2048)\n",
            "(59, 10, 10, 2048)\n",
            "(59, 10, 10, 2048)\n"
          ],
          "name": "stdout"
        }
      ]
    },
    {
      "cell_type": "code",
      "metadata": {
        "id": "l3RCnShl5iGN",
        "colab_type": "code",
        "colab": {}
      },
      "source": [
        "samples = samples.reshape(nos,10*10*2048)"
      ],
      "execution_count": 10,
      "outputs": []
    },
    {
      "cell_type": "code",
      "metadata": {
        "id": "hoBAWa2K5pXb",
        "colab_type": "code",
        "colab": {
          "base_uri": "https://localhost:8080/",
          "height": 34
        },
        "outputId": "52916d1f-4de8-4c71-9d97-9a92adf178b1"
      },
      "source": [
        "samples.shape, labels.shape"
      ],
      "execution_count": 11,
      "outputs": [
        {
          "output_type": "execute_result",
          "data": {
            "text/plain": [
              "((472, 204800), (472,))"
            ]
          },
          "metadata": {
            "tags": []
          },
          "execution_count": 11
        }
      ]
    },
    {
      "cell_type": "code",
      "metadata": {
        "id": "xYLS9aZr_Wbb",
        "colab_type": "code",
        "colab": {}
      },
      "source": [
        "del X\n",
        "del y"
      ],
      "execution_count": 12,
      "outputs": []
    },
    {
      "cell_type": "code",
      "metadata": {
        "id": "nSNmJgXP0Ndx",
        "colab_type": "code",
        "colab": {
          "base_uri": "https://localhost:8080/",
          "height": 1000
        },
        "outputId": "21d1cffc-c29f-407c-aa1e-74fcd1381dbc"
      },
      "source": [
        "from sklearn.model_selection import StratifiedKFold\n",
        "skf = StratifiedKFold(n_splits=8)\n",
        "\n",
        "accuracies = []\n",
        "f = 1\n",
        "\n",
        "for train_index, test_index in skf.split(samples, labels):\n",
        "        X_train = samples[train_index]\n",
        "        X_test = samples[test_index]\n",
        "        y_train = labels[train_index]\n",
        "        y_test = labels[test_index]\n",
        "      \n",
        "        model = models.Sequential()\n",
        "        model.add(layers.Dense(256, activation = 'relu', input_dim = 10*10*2048))\n",
        "        model.add(layers.Dropout(0.5))\n",
        "        model.add(layers.Dense(1, activation = 'sigmoid'))\n",
        "        model.compile(optimizer = optimizers.Adam(lr = 1e-3),loss = 'binary_crossentropy',metrics = ['accuracy'])\n",
        "        my_callbacks = [EarlyStopping(monitor = 'val_loss', patience=5, restore_best_weights=True)]\n",
        "\n",
        "        print('Fold {}'.format(f))\n",
        "        history = model.fit(X_train, y_train, epochs = 100, batch_size = 20, validation_data = (X_test, y_test), shuffle = True, callbacks = my_callbacks)\n",
        "\n",
        "        test_preds = model.predict(X_test, batch_size = 20)\n",
        "        test_predclass = np.array([1.0 if i>0.5 else 0.0 for i in test_preds])\n",
        "\n",
        "        accuracies.append([confusion_matrix(y_test,test_predclass)[0][0]/(y_test == 0.0).sum(), confusion_matrix(y_test,test_predclass)[1][1]/(y_test == 1.0).sum()])\n",
        "        f+=1\n"
      ],
      "execution_count": 13,
      "outputs": [
        {
          "output_type": "stream",
          "text": [
            "Fold 1\n",
            "Train on 413 samples, validate on 59 samples\n",
            "Epoch 1/100\n",
            "413/413 [==============================] - 2s 5ms/step - loss: 10.4304 - accuracy: 0.6634 - val_loss: 4.5897 - val_accuracy: 0.7627\n",
            "Epoch 2/100\n",
            "413/413 [==============================] - 2s 4ms/step - loss: 5.2114 - accuracy: 0.8378 - val_loss: 3.3170 - val_accuracy: 0.7627\n",
            "Epoch 3/100\n",
            "413/413 [==============================] - 2s 4ms/step - loss: 1.4238 - accuracy: 0.9080 - val_loss: 2.0212 - val_accuracy: 0.7966\n",
            "Epoch 4/100\n",
            "413/413 [==============================] - 2s 4ms/step - loss: 1.1772 - accuracy: 0.9492 - val_loss: 1.5374 - val_accuracy: 0.8475\n",
            "Epoch 5/100\n",
            "413/413 [==============================] - 2s 4ms/step - loss: 0.1638 - accuracy: 0.9661 - val_loss: 2.4384 - val_accuracy: 0.8136\n",
            "Epoch 6/100\n",
            "413/413 [==============================] - 2s 4ms/step - loss: 0.7702 - accuracy: 0.9637 - val_loss: 3.0131 - val_accuracy: 0.7797\n",
            "Epoch 7/100\n",
            "413/413 [==============================] - 2s 4ms/step - loss: 0.1929 - accuracy: 0.9806 - val_loss: 2.9712 - val_accuracy: 0.7458\n",
            "Epoch 8/100\n",
            "413/413 [==============================] - 2s 4ms/step - loss: 0.1920 - accuracy: 0.9758 - val_loss: 1.4285 - val_accuracy: 0.7966\n",
            "Epoch 9/100\n",
            "413/413 [==============================] - 2s 4ms/step - loss: 1.0002 - accuracy: 0.9637 - val_loss: 1.4600 - val_accuracy: 0.7966\n",
            "Epoch 10/100\n",
            "413/413 [==============================] - 2s 4ms/step - loss: 0.5408 - accuracy: 0.9831 - val_loss: 2.7311 - val_accuracy: 0.7458\n",
            "Epoch 11/100\n",
            "413/413 [==============================] - 2s 4ms/step - loss: 0.3486 - accuracy: 0.9613 - val_loss: 1.8535 - val_accuracy: 0.7797\n",
            "Epoch 12/100\n",
            "413/413 [==============================] - 2s 4ms/step - loss: 0.4979 - accuracy: 0.9879 - val_loss: 1.3839 - val_accuracy: 0.8305\n",
            "Epoch 13/100\n",
            "413/413 [==============================] - 2s 4ms/step - loss: 0.1561 - accuracy: 0.9855 - val_loss: 1.3605 - val_accuracy: 0.7627\n",
            "Epoch 14/100\n",
            "413/413 [==============================] - 2s 4ms/step - loss: 0.2761 - accuracy: 0.9903 - val_loss: 2.1699 - val_accuracy: 0.7627\n",
            "Epoch 15/100\n",
            "413/413 [==============================] - 2s 4ms/step - loss: 0.0204 - accuracy: 0.9903 - val_loss: 0.9742 - val_accuracy: 0.8305\n",
            "Epoch 16/100\n",
            "413/413 [==============================] - 2s 4ms/step - loss: 0.0886 - accuracy: 0.9927 - val_loss: 1.8440 - val_accuracy: 0.7797\n",
            "Epoch 17/100\n",
            "413/413 [==============================] - 2s 4ms/step - loss: 0.2309 - accuracy: 0.9879 - val_loss: 2.2473 - val_accuracy: 0.7966\n",
            "Epoch 18/100\n",
            "413/413 [==============================] - 2s 4ms/step - loss: 0.0298 - accuracy: 0.9952 - val_loss: 1.5363 - val_accuracy: 0.8136\n",
            "Epoch 19/100\n",
            "413/413 [==============================] - 2s 4ms/step - loss: 0.0447 - accuracy: 0.9879 - val_loss: 1.6699 - val_accuracy: 0.7458\n",
            "Epoch 20/100\n",
            "413/413 [==============================] - 2s 4ms/step - loss: 0.0820 - accuracy: 0.9903 - val_loss: 1.8251 - val_accuracy: 0.7288\n",
            "Fold 2\n",
            "Train on 413 samples, validate on 59 samples\n",
            "Epoch 1/100\n",
            "413/413 [==============================] - 2s 5ms/step - loss: 11.3304 - accuracy: 0.6731 - val_loss: 8.4575 - val_accuracy: 0.6441\n",
            "Epoch 2/100\n",
            "413/413 [==============================] - 2s 4ms/step - loss: 3.7638 - accuracy: 0.8838 - val_loss: 6.2137 - val_accuracy: 0.6949\n",
            "Epoch 3/100\n",
            "413/413 [==============================] - 2s 4ms/step - loss: 1.2636 - accuracy: 0.9274 - val_loss: 7.8344 - val_accuracy: 0.6441\n",
            "Epoch 4/100\n",
            "413/413 [==============================] - 2s 4ms/step - loss: 1.0762 - accuracy: 0.9443 - val_loss: 8.3744 - val_accuracy: 0.6610\n",
            "Epoch 5/100\n",
            "413/413 [==============================] - 2s 4ms/step - loss: 0.5833 - accuracy: 0.9516 - val_loss: 4.8381 - val_accuracy: 0.7119\n",
            "Epoch 6/100\n",
            "413/413 [==============================] - 2s 4ms/step - loss: 0.9920 - accuracy: 0.9685 - val_loss: 6.0243 - val_accuracy: 0.6271\n",
            "Epoch 7/100\n",
            "413/413 [==============================] - 2s 4ms/step - loss: 0.5442 - accuracy: 0.9661 - val_loss: 7.4629 - val_accuracy: 0.6441\n",
            "Epoch 8/100\n",
            "413/413 [==============================] - 2s 4ms/step - loss: 0.4512 - accuracy: 0.9831 - val_loss: 7.0735 - val_accuracy: 0.6610\n",
            "Epoch 9/100\n",
            "413/413 [==============================] - 2s 4ms/step - loss: 0.7263 - accuracy: 0.9758 - val_loss: 5.7416 - val_accuracy: 0.6441\n",
            "Epoch 10/100\n",
            "413/413 [==============================] - 2s 4ms/step - loss: 0.3074 - accuracy: 0.9879 - val_loss: 5.9263 - val_accuracy: 0.6441\n",
            "Fold 3\n",
            "Train on 413 samples, validate on 59 samples\n",
            "Epoch 1/100\n",
            "413/413 [==============================] - 2s 5ms/step - loss: 9.4716 - accuracy: 0.6925 - val_loss: 9.3209 - val_accuracy: 0.7627\n",
            "Epoch 2/100\n",
            "413/413 [==============================] - 2s 4ms/step - loss: 4.8727 - accuracy: 0.8475 - val_loss: 4.7453 - val_accuracy: 0.7797\n",
            "Epoch 3/100\n",
            "413/413 [==============================] - 2s 4ms/step - loss: 1.3653 - accuracy: 0.9298 - val_loss: 4.7604 - val_accuracy: 0.7797\n",
            "Epoch 4/100\n",
            "413/413 [==============================] - 2s 4ms/step - loss: 1.2524 - accuracy: 0.9443 - val_loss: 4.7074 - val_accuracy: 0.8136\n",
            "Epoch 5/100\n",
            "413/413 [==============================] - 2s 4ms/step - loss: 3.0453 - accuracy: 0.9516 - val_loss: 1.6603 - val_accuracy: 0.8814\n",
            "Epoch 6/100\n",
            "413/413 [==============================] - 2s 4ms/step - loss: 0.8915 - accuracy: 0.9685 - val_loss: 3.6431 - val_accuracy: 0.8305\n",
            "Epoch 7/100\n",
            "413/413 [==============================] - 2s 4ms/step - loss: 2.1833 - accuracy: 0.9831 - val_loss: 3.8284 - val_accuracy: 0.7966\n",
            "Epoch 8/100\n",
            "413/413 [==============================] - 2s 4ms/step - loss: 0.1645 - accuracy: 0.9927 - val_loss: 3.9970 - val_accuracy: 0.8475\n",
            "Epoch 9/100\n",
            "413/413 [==============================] - 2s 4ms/step - loss: 1.3057 - accuracy: 0.9806 - val_loss: 3.1291 - val_accuracy: 0.7797\n",
            "Epoch 10/100\n",
            "413/413 [==============================] - 2s 4ms/step - loss: 1.6947 - accuracy: 0.9831 - val_loss: 4.0181 - val_accuracy: 0.7627\n",
            "Fold 4\n",
            "Train on 413 samples, validate on 59 samples\n",
            "Epoch 1/100\n",
            "413/413 [==============================] - 2s 5ms/step - loss: 10.7041 - accuracy: 0.6707 - val_loss: 5.2416 - val_accuracy: 0.7458\n",
            "Epoch 2/100\n",
            "413/413 [==============================] - 2s 4ms/step - loss: 2.9376 - accuracy: 0.8789 - val_loss: 7.0351 - val_accuracy: 0.6780\n",
            "Epoch 3/100\n",
            "413/413 [==============================] - 2s 4ms/step - loss: 1.8010 - accuracy: 0.9080 - val_loss: 3.7796 - val_accuracy: 0.6949\n",
            "Epoch 4/100\n",
            "413/413 [==============================] - 2s 4ms/step - loss: 2.2681 - accuracy: 0.9467 - val_loss: 3.3179 - val_accuracy: 0.7627\n",
            "Epoch 5/100\n",
            "413/413 [==============================] - 2s 4ms/step - loss: 0.4116 - accuracy: 0.9637 - val_loss: 3.2684 - val_accuracy: 0.7458\n",
            "Epoch 6/100\n",
            "413/413 [==============================] - 2s 4ms/step - loss: 0.4544 - accuracy: 0.9685 - val_loss: 2.2982 - val_accuracy: 0.7797\n",
            "Epoch 7/100\n",
            "413/413 [==============================] - 2s 4ms/step - loss: 0.1212 - accuracy: 0.9734 - val_loss: 2.6408 - val_accuracy: 0.7797\n",
            "Epoch 8/100\n",
            "413/413 [==============================] - 2s 4ms/step - loss: 0.3998 - accuracy: 0.9709 - val_loss: 2.8314 - val_accuracy: 0.7458\n",
            "Epoch 9/100\n",
            "413/413 [==============================] - 2s 4ms/step - loss: 0.4419 - accuracy: 0.9831 - val_loss: 1.9138 - val_accuracy: 0.8136\n",
            "Epoch 10/100\n",
            "413/413 [==============================] - 2s 4ms/step - loss: 0.2120 - accuracy: 0.9855 - val_loss: 1.6001 - val_accuracy: 0.7966\n",
            "Epoch 11/100\n",
            "413/413 [==============================] - 2s 4ms/step - loss: 0.2385 - accuracy: 0.9806 - val_loss: 2.3337 - val_accuracy: 0.7627\n",
            "Epoch 12/100\n",
            "413/413 [==============================] - 2s 4ms/step - loss: 0.1769 - accuracy: 0.9855 - val_loss: 1.4470 - val_accuracy: 0.7966\n",
            "Epoch 13/100\n",
            "413/413 [==============================] - 2s 4ms/step - loss: 0.0962 - accuracy: 0.9903 - val_loss: 1.6596 - val_accuracy: 0.8136\n",
            "Epoch 14/100\n",
            "413/413 [==============================] - 2s 4ms/step - loss: 0.2253 - accuracy: 0.9879 - val_loss: 2.4880 - val_accuracy: 0.7458\n",
            "Epoch 15/100\n",
            "413/413 [==============================] - 2s 4ms/step - loss: 0.1687 - accuracy: 0.9903 - val_loss: 2.0786 - val_accuracy: 0.7627\n",
            "Epoch 16/100\n",
            "413/413 [==============================] - 2s 4ms/step - loss: 0.0694 - accuracy: 0.9855 - val_loss: 1.8674 - val_accuracy: 0.7288\n",
            "Epoch 17/100\n",
            "413/413 [==============================] - 2s 4ms/step - loss: 0.1979 - accuracy: 0.9855 - val_loss: 2.1964 - val_accuracy: 0.7288\n",
            "Fold 5\n",
            "Train on 413 samples, validate on 59 samples\n",
            "Epoch 1/100\n",
            "413/413 [==============================] - 2s 5ms/step - loss: 9.2083 - accuracy: 0.6755 - val_loss: 5.3672 - val_accuracy: 0.7119\n",
            "Epoch 2/100\n",
            "413/413 [==============================] - 2s 4ms/step - loss: 3.0255 - accuracy: 0.8717 - val_loss: 3.0424 - val_accuracy: 0.7119\n",
            "Epoch 3/100\n",
            "413/413 [==============================] - 2s 4ms/step - loss: 1.3602 - accuracy: 0.9298 - val_loss: 4.2265 - val_accuracy: 0.7797\n",
            "Epoch 4/100\n",
            "413/413 [==============================] - 2s 4ms/step - loss: 1.9087 - accuracy: 0.9274 - val_loss: 2.0921 - val_accuracy: 0.7627\n",
            "Epoch 5/100\n",
            "413/413 [==============================] - 2s 4ms/step - loss: 0.6685 - accuracy: 0.9564 - val_loss: 2.7936 - val_accuracy: 0.8475\n",
            "Epoch 6/100\n",
            "413/413 [==============================] - 2s 4ms/step - loss: 0.6108 - accuracy: 0.9685 - val_loss: 2.7768 - val_accuracy: 0.7966\n",
            "Epoch 7/100\n",
            "413/413 [==============================] - 2s 4ms/step - loss: 0.3755 - accuracy: 0.9613 - val_loss: 2.2513 - val_accuracy: 0.8305\n",
            "Epoch 8/100\n",
            "413/413 [==============================] - 2s 4ms/step - loss: 0.4112 - accuracy: 0.9806 - val_loss: 2.0504 - val_accuracy: 0.8305\n",
            "Epoch 9/100\n",
            "413/413 [==============================] - 2s 4ms/step - loss: 0.3235 - accuracy: 0.9879 - val_loss: 1.9720 - val_accuracy: 0.8305\n",
            "Epoch 10/100\n",
            "413/413 [==============================] - 2s 4ms/step - loss: 0.2036 - accuracy: 0.9952 - val_loss: 1.9754 - val_accuracy: 0.8814\n",
            "Epoch 11/100\n",
            "413/413 [==============================] - 2s 4ms/step - loss: 0.0742 - accuracy: 0.9879 - val_loss: 3.2955 - val_accuracy: 0.7966\n",
            "Epoch 12/100\n",
            "413/413 [==============================] - 2s 4ms/step - loss: 0.0825 - accuracy: 0.9782 - val_loss: 7.1583 - val_accuracy: 0.7458\n",
            "Epoch 13/100\n",
            "413/413 [==============================] - 2s 4ms/step - loss: 0.3161 - accuracy: 0.9685 - val_loss: 5.4463 - val_accuracy: 0.7458\n",
            "Epoch 14/100\n",
            "413/413 [==============================] - 2s 4ms/step - loss: 0.4621 - accuracy: 0.9903 - val_loss: 4.7043 - val_accuracy: 0.8136\n",
            "Fold 6\n",
            "Train on 413 samples, validate on 59 samples\n",
            "Epoch 1/100\n",
            "413/413 [==============================] - 2s 5ms/step - loss: 9.6823 - accuracy: 0.6877 - val_loss: 10.6441 - val_accuracy: 0.6441\n",
            "Epoch 2/100\n",
            "413/413 [==============================] - 2s 4ms/step - loss: 3.9923 - accuracy: 0.8765 - val_loss: 9.4049 - val_accuracy: 0.7797\n",
            "Epoch 3/100\n",
            "413/413 [==============================] - 2s 4ms/step - loss: 0.9079 - accuracy: 0.9249 - val_loss: 4.0531 - val_accuracy: 0.7458\n",
            "Epoch 4/100\n",
            "413/413 [==============================] - 2s 4ms/step - loss: 0.4101 - accuracy: 0.9661 - val_loss: 8.5431 - val_accuracy: 0.6780\n",
            "Epoch 5/100\n",
            "413/413 [==============================] - 2s 4ms/step - loss: 0.5015 - accuracy: 0.9613 - val_loss: 6.1792 - val_accuracy: 0.7797\n",
            "Epoch 6/100\n",
            "413/413 [==============================] - 2s 4ms/step - loss: 0.6584 - accuracy: 0.9685 - val_loss: 4.2825 - val_accuracy: 0.8475\n",
            "Epoch 7/100\n",
            "413/413 [==============================] - 2s 4ms/step - loss: 0.5569 - accuracy: 0.9734 - val_loss: 6.2891 - val_accuracy: 0.8475\n",
            "Epoch 8/100\n",
            "413/413 [==============================] - 2s 4ms/step - loss: 0.2196 - accuracy: 0.9879 - val_loss: 9.7879 - val_accuracy: 0.8305\n",
            "Fold 7\n",
            "Train on 413 samples, validate on 59 samples\n",
            "Epoch 1/100\n",
            "413/413 [==============================] - 2s 5ms/step - loss: 11.1005 - accuracy: 0.6804 - val_loss: 6.2251 - val_accuracy: 0.7966\n",
            "Epoch 2/100\n",
            "413/413 [==============================] - 2s 4ms/step - loss: 3.7739 - accuracy: 0.8281 - val_loss: 6.6952 - val_accuracy: 0.7966\n",
            "Epoch 3/100\n",
            "413/413 [==============================] - 2s 4ms/step - loss: 2.4470 - accuracy: 0.9225 - val_loss: 3.5804 - val_accuracy: 0.7797\n",
            "Epoch 4/100\n",
            "413/413 [==============================] - 2s 4ms/step - loss: 2.3661 - accuracy: 0.9443 - val_loss: 3.4108 - val_accuracy: 0.7966\n",
            "Epoch 5/100\n",
            "413/413 [==============================] - 2s 4ms/step - loss: 1.1343 - accuracy: 0.9734 - val_loss: 3.9432 - val_accuracy: 0.7797\n",
            "Epoch 6/100\n",
            "413/413 [==============================] - 2s 4ms/step - loss: 0.2422 - accuracy: 0.9782 - val_loss: 3.3889 - val_accuracy: 0.8644\n",
            "Epoch 7/100\n",
            "413/413 [==============================] - 2s 4ms/step - loss: 0.1078 - accuracy: 0.9927 - val_loss: 3.5796 - val_accuracy: 0.8305\n",
            "Epoch 8/100\n",
            "413/413 [==============================] - 2s 4ms/step - loss: 0.0965 - accuracy: 0.9855 - val_loss: 3.8319 - val_accuracy: 0.7966\n",
            "Epoch 9/100\n",
            "413/413 [==============================] - 2s 4ms/step - loss: 0.5228 - accuracy: 0.9758 - val_loss: 3.0979 - val_accuracy: 0.8136\n",
            "Epoch 10/100\n",
            "413/413 [==============================] - 2s 4ms/step - loss: 0.4670 - accuracy: 0.9806 - val_loss: 2.7810 - val_accuracy: 0.8475\n",
            "Epoch 11/100\n",
            "413/413 [==============================] - 2s 4ms/step - loss: 0.2968 - accuracy: 0.9855 - val_loss: 3.2352 - val_accuracy: 0.8136\n",
            "Epoch 12/100\n",
            "413/413 [==============================] - 2s 4ms/step - loss: 0.4937 - accuracy: 0.9952 - val_loss: 3.7161 - val_accuracy: 0.8136\n",
            "Epoch 13/100\n",
            "413/413 [==============================] - 2s 4ms/step - loss: 0.1081 - accuracy: 0.9903 - val_loss: 3.8926 - val_accuracy: 0.8136\n",
            "Epoch 14/100\n",
            "413/413 [==============================] - 2s 4ms/step - loss: 0.0093 - accuracy: 0.9976 - val_loss: 3.6996 - val_accuracy: 0.8644\n",
            "Epoch 15/100\n",
            "413/413 [==============================] - 2s 4ms/step - loss: 0.4456 - accuracy: 0.9831 - val_loss: 3.8176 - val_accuracy: 0.7966\n",
            "Fold 8\n",
            "Train on 413 samples, validate on 59 samples\n",
            "Epoch 1/100\n",
            "413/413 [==============================] - 2s 5ms/step - loss: 14.9081 - accuracy: 0.6538 - val_loss: 12.1925 - val_accuracy: 0.7797\n",
            "Epoch 2/100\n",
            "413/413 [==============================] - 2s 4ms/step - loss: 3.8305 - accuracy: 0.8789 - val_loss: 5.6156 - val_accuracy: 0.8136\n",
            "Epoch 3/100\n",
            "413/413 [==============================] - 2s 4ms/step - loss: 1.3534 - accuracy: 0.9153 - val_loss: 4.4454 - val_accuracy: 0.8136\n",
            "Epoch 4/100\n",
            "413/413 [==============================] - 2s 4ms/step - loss: 0.9921 - accuracy: 0.9734 - val_loss: 6.0519 - val_accuracy: 0.8305\n",
            "Epoch 5/100\n",
            "413/413 [==============================] - 2s 4ms/step - loss: 0.5707 - accuracy: 0.9782 - val_loss: 3.8502 - val_accuracy: 0.8305\n",
            "Epoch 6/100\n",
            "413/413 [==============================] - 2s 4ms/step - loss: 0.8441 - accuracy: 0.9782 - val_loss: 6.2295 - val_accuracy: 0.7966\n",
            "Epoch 7/100\n",
            "413/413 [==============================] - 2s 4ms/step - loss: 0.6658 - accuracy: 0.9588 - val_loss: 7.2550 - val_accuracy: 0.7966\n",
            "Epoch 8/100\n",
            "413/413 [==============================] - 2s 4ms/step - loss: 0.9241 - accuracy: 0.9758 - val_loss: 4.8574 - val_accuracy: 0.8475\n",
            "Epoch 9/100\n",
            "413/413 [==============================] - 2s 4ms/step - loss: 0.3023 - accuracy: 0.9806 - val_loss: 7.7570 - val_accuracy: 0.7458\n",
            "Epoch 10/100\n",
            "413/413 [==============================] - 2s 4ms/step - loss: 1.2244 - accuracy: 0.9758 - val_loss: 7.2614 - val_accuracy: 0.8475\n"
          ],
          "name": "stdout"
        }
      ]
    },
    {
      "cell_type": "code",
      "metadata": {
        "id": "-GvsuoqY0NZL",
        "colab_type": "code",
        "colab": {
          "base_uri": "https://localhost:8080/",
          "height": 34
        },
        "outputId": "5c76022b-bf35-4a22-8810-6203ddaa8124"
      },
      "source": [
        "zero_acc = 0\n",
        "one_acc = 0\n",
        "\n",
        "for i in accuracies:\n",
        "  zero_acc+= i[0]\n",
        "  one_acc+=i[1]\n",
        "\n",
        "zero_acc/=8\n",
        "one_acc/=8\n",
        "\n",
        "print(zero_acc, one_acc)"
      ],
      "execution_count": 14,
      "outputs": [
        {
          "output_type": "stream",
          "text": [
            "0.8390804597701149 0.7795977011494252\n"
          ],
          "name": "stdout"
        }
      ]
    },
    {
      "cell_type": "markdown",
      "metadata": {
        "id": "trKQU8cuMHQV",
        "colab_type": "text"
      },
      "source": [
        "Training on whole Training Dataset"
      ]
    },
    {
      "cell_type": "code",
      "metadata": {
        "id": "ppbMkhK2L0ov",
        "colab_type": "code",
        "colab": {}
      },
      "source": [
        "model = models.Sequential()\n",
        "model.add(layers.Dense(256, activation = 'relu', input_dim = 10*10*2048))\n",
        "model.add(layers.Dropout(0.5))\n",
        "model.add(layers.Dense(1, activation = 'sigmoid'))\n",
        "model.compile(optimizer = optimizers.Adam(lr = 1e-3),loss = 'binary_crossentropy',metrics = ['accuracy'])\n",
        "my_callbacks = [EarlyStopping(monitor = 'val_loss', patience=5, restore_best_weights=True)]\n"
      ],
      "execution_count": 20,
      "outputs": []
    },
    {
      "cell_type": "code",
      "metadata": {
        "id": "Xncnp_xvNgcr",
        "colab_type": "code",
        "colab": {}
      },
      "source": [
        "xtest = np.load('gdrive/My Drive/pcb/xtest.npy')\n",
        "ytest = np.load('gdrive/My Drive/pcb/ytest.npy')\n"
      ],
      "execution_count": 21,
      "outputs": []
    },
    {
      "cell_type": "code",
      "metadata": {
        "id": "SDa1CkJ9NgfS",
        "colab_type": "code",
        "colab": {}
      },
      "source": [
        "datagentest = ImageDataGenerator(\n",
        "    featurewise_center = True,\n",
        "    featurewise_std_normalization = True\n",
        ")"
      ],
      "execution_count": 22,
      "outputs": []
    },
    {
      "cell_type": "code",
      "metadata": {
        "id": "uGEL70FTNglr",
        "colab_type": "code",
        "colab": {}
      },
      "source": [
        "datagentest.fit(xtest)"
      ],
      "execution_count": 23,
      "outputs": []
    },
    {
      "cell_type": "code",
      "metadata": {
        "id": "QS7XpHLiNgoa",
        "colab_type": "code",
        "colab": {
          "base_uri": "https://localhost:8080/",
          "height": 34
        },
        "outputId": "5e92a8c9-19c5-4f44-d87b-7a5adb2dec2d"
      },
      "source": [
        "testnos = ytest.shape[0]\n",
        "\n",
        "numittest = NumpyArrayIterator(\n",
        "    xtest, ytest, datagentest, batch_size=testnos, shuffle=False, sample_weight=None,\n",
        "    seed=None, data_format=None, save_to_dir=None, save_prefix='',\n",
        "    save_format='png', subset=None, dtype=None\n",
        ")\n",
        "\n",
        "\n",
        "test_samples = np.zeros(shape=(testnos,10,10,2048))\n",
        "test_labels = np.zeros(shape=(testnos))\n",
        "for samples_batch,labels_batch in numittest:\n",
        "    g = conv_base.predict(samples_batch)\n",
        "    print(g.shape)\n",
        "    test_samples[::] = g\n",
        "    test_labels[:] = labels_batch\n",
        "    break"
      ],
      "execution_count": 24,
      "outputs": [
        {
          "output_type": "stream",
          "text": [
            "(552, 10, 10, 2048)\n"
          ],
          "name": "stdout"
        }
      ]
    },
    {
      "cell_type": "code",
      "metadata": {
        "id": "0f37VOEUNgki",
        "colab_type": "code",
        "colab": {}
      },
      "source": [
        "test_samples = test_samples.reshape(testnos,10*10*2048)"
      ],
      "execution_count": 25,
      "outputs": []
    },
    {
      "cell_type": "code",
      "metadata": {
        "id": "Ef_xxG8bNgiT",
        "colab_type": "code",
        "colab": {
          "base_uri": "https://localhost:8080/",
          "height": 918
        },
        "outputId": "0de10d30-2c6c-44c2-f3e1-1a7dc4886625"
      },
      "source": [
        "historytest = model.fit(samples, labels, epochs = 100, batch_size = 20, validation_data = (test_samples, test_labels), shuffle = True,  callbacks = my_callbacks)"
      ],
      "execution_count": 26,
      "outputs": [
        {
          "output_type": "stream",
          "text": [
            "Train on 472 samples, validate on 552 samples\n",
            "Epoch 1/100\n",
            "472/472 [==============================] - 3s 6ms/step - loss: 12.3021 - accuracy: 0.6843 - val_loss: 7.5187 - val_accuracy: 0.8098\n",
            "Epoch 2/100\n",
            "472/472 [==============================] - 3s 6ms/step - loss: 2.5905 - accuracy: 0.8623 - val_loss: 5.3068 - val_accuracy: 0.8370\n",
            "Epoch 3/100\n",
            "472/472 [==============================] - 3s 6ms/step - loss: 2.0789 - accuracy: 0.9089 - val_loss: 6.8178 - val_accuracy: 0.8098\n",
            "Epoch 4/100\n",
            "472/472 [==============================] - 3s 6ms/step - loss: 1.6179 - accuracy: 0.9428 - val_loss: 6.3786 - val_accuracy: 0.7446\n",
            "Epoch 5/100\n",
            "472/472 [==============================] - 3s 6ms/step - loss: 0.3461 - accuracy: 0.9682 - val_loss: 7.0639 - val_accuracy: 0.7264\n",
            "Epoch 6/100\n",
            "472/472 [==============================] - 3s 6ms/step - loss: 0.4495 - accuracy: 0.9788 - val_loss: 4.7738 - val_accuracy: 0.7953\n",
            "Epoch 7/100\n",
            "472/472 [==============================] - 3s 6ms/step - loss: 0.1894 - accuracy: 0.9767 - val_loss: 4.1682 - val_accuracy: 0.7844\n",
            "Epoch 8/100\n",
            "472/472 [==============================] - 3s 6ms/step - loss: 0.5215 - accuracy: 0.9915 - val_loss: 4.5308 - val_accuracy: 0.7844\n",
            "Epoch 9/100\n",
            "472/472 [==============================] - 3s 6ms/step - loss: 0.4832 - accuracy: 0.9767 - val_loss: 3.8209 - val_accuracy: 0.8007\n",
            "Epoch 10/100\n",
            "472/472 [==============================] - 3s 6ms/step - loss: 0.1583 - accuracy: 0.9873 - val_loss: 3.9024 - val_accuracy: 0.7627\n",
            "Epoch 11/100\n",
            "472/472 [==============================] - 3s 6ms/step - loss: 0.0851 - accuracy: 0.9873 - val_loss: 3.7966 - val_accuracy: 0.7790\n",
            "Epoch 12/100\n",
            "472/472 [==============================] - 3s 6ms/step - loss: 0.0623 - accuracy: 0.9873 - val_loss: 3.7458 - val_accuracy: 0.7699\n",
            "Epoch 13/100\n",
            "472/472 [==============================] - 3s 6ms/step - loss: 0.2708 - accuracy: 0.9809 - val_loss: 3.2458 - val_accuracy: 0.7754\n",
            "Epoch 14/100\n",
            "472/472 [==============================] - 3s 6ms/step - loss: 0.2240 - accuracy: 0.9809 - val_loss: 2.9245 - val_accuracy: 0.8116\n",
            "Epoch 15/100\n",
            "472/472 [==============================] - 3s 6ms/step - loss: 0.2130 - accuracy: 0.9915 - val_loss: 3.8146 - val_accuracy: 0.6920\n",
            "Epoch 16/100\n",
            "472/472 [==============================] - 3s 6ms/step - loss: 0.0913 - accuracy: 0.9809 - val_loss: 3.0498 - val_accuracy: 0.7609\n",
            "Epoch 17/100\n",
            "472/472 [==============================] - 3s 6ms/step - loss: 0.0699 - accuracy: 0.9873 - val_loss: 2.7038 - val_accuracy: 0.7935\n",
            "Epoch 18/100\n",
            "472/472 [==============================] - 3s 6ms/step - loss: 0.0518 - accuracy: 0.9894 - val_loss: 3.1602 - val_accuracy: 0.7246\n",
            "Epoch 19/100\n",
            "472/472 [==============================] - 3s 6ms/step - loss: 0.0871 - accuracy: 0.9958 - val_loss: 3.4475 - val_accuracy: 0.7120\n",
            "Epoch 20/100\n",
            "472/472 [==============================] - 3s 6ms/step - loss: 0.0202 - accuracy: 0.9936 - val_loss: 4.2194 - val_accuracy: 0.6721\n",
            "Epoch 21/100\n",
            "472/472 [==============================] - 3s 6ms/step - loss: 0.0764 - accuracy: 0.9873 - val_loss: 2.2093 - val_accuracy: 0.8496\n",
            "Epoch 22/100\n",
            "472/472 [==============================] - 3s 6ms/step - loss: 0.0950 - accuracy: 0.9915 - val_loss: 2.9834 - val_accuracy: 0.7645\n",
            "Epoch 23/100\n",
            "472/472 [==============================] - 3s 6ms/step - loss: 0.1536 - accuracy: 0.9915 - val_loss: 2.6284 - val_accuracy: 0.8043\n",
            "Epoch 24/100\n",
            "472/472 [==============================] - 3s 6ms/step - loss: 0.0963 - accuracy: 0.9873 - val_loss: 4.1122 - val_accuracy: 0.7301\n",
            "Epoch 25/100\n",
            "472/472 [==============================] - 3s 6ms/step - loss: 0.1194 - accuracy: 0.9873 - val_loss: 4.9232 - val_accuracy: 0.7065\n",
            "Epoch 26/100\n",
            "472/472 [==============================] - 3s 6ms/step - loss: 0.0895 - accuracy: 0.9894 - val_loss: 3.0461 - val_accuracy: 0.8080\n"
          ],
          "name": "stdout"
        }
      ]
    },
    {
      "cell_type": "code",
      "metadata": {
        "id": "jgbhA0dtNgaq",
        "colab_type": "code",
        "colab": {}
      },
      "source": [
        "test_preds = model.predict(test_samples, batch_size = 20)"
      ],
      "execution_count": 27,
      "outputs": []
    },
    {
      "cell_type": "code",
      "metadata": {
        "id": "I3oZ2uIBOrsm",
        "colab_type": "code",
        "colab": {}
      },
      "source": [
        "test_predclass = np.array([1.0 if i>0.5 else 0.0 for i in test_preds])"
      ],
      "execution_count": 28,
      "outputs": []
    },
    {
      "cell_type": "code",
      "metadata": {
        "id": "B9pW68K3Orxg",
        "colab_type": "code",
        "colab": {
          "base_uri": "https://localhost:8080/",
          "height": 34
        },
        "outputId": "72545bb7-faeb-4fc8-cf45-0cb2da36c06b"
      },
      "source": [
        "confusion_matrix(test_labels,test_predclass)[0][0]/(ytest == 0.0).sum(), confusion_matrix(test_labels,test_predclass)[1][1]/(ytest == 1.0).sum()"
      ],
      "execution_count": 29,
      "outputs": [
        {
          "output_type": "execute_result",
          "data": {
            "text/plain": [
              "(0.6779661016949152, 0.8701825557809331)"
            ]
          },
          "metadata": {
            "tags": []
          },
          "execution_count": 29
        }
      ]
    },
    {
      "cell_type": "code",
      "metadata": {
        "id": "MxapdKZhOr0Q",
        "colab_type": "code",
        "colab": {}
      },
      "source": [
        "# Saving model\n",
        "\n",
        "# model_json = model.to_json()\n",
        "# with open(\"gdrive/My Drive/models/VGG19_12.json\", \"w\") as json_file:\n",
        "#     json_file.write(model_json)"
      ],
      "execution_count": null,
      "outputs": []
    },
    {
      "cell_type": "code",
      "metadata": {
        "id": "rybw7Ry7Or2f",
        "colab_type": "code",
        "colab": {}
      },
      "source": [
        "# model.save_weights(\"gdrive/My Drive/models/VGG19_12.h5\")\n",
        "# print(\"Saved model to disk\")"
      ],
      "execution_count": null,
      "outputs": []
    },
    {
      "cell_type": "code",
      "metadata": {
        "id": "CumEUxIaOrve",
        "colab_type": "code",
        "colab": {}
      },
      "source": [
        "# Saving and loading models\n",
        "# https://machinelearningmastery.com/save-load-keras-deep-learning-models/"
      ],
      "execution_count": null,
      "outputs": []
    }
  ]
}