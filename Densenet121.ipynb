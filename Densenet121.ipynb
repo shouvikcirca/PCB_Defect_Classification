{
  "nbformat": 4,
  "nbformat_minor": 0,
  "metadata": {
    "accelerator": "GPU",
    "colab": {
      "name": "Densenet121.ipynb",
      "provenance": [],
      "include_colab_link": true
    },
    "kernelspec": {
      "display_name": "Python 3",
      "language": "python",
      "name": "python3"
    },
    "language_info": {
      "codemirror_mode": {
        "name": "ipython",
        "version": 3
      },
      "file_extension": ".py",
      "mimetype": "text/x-python",
      "name": "python",
      "nbconvert_exporter": "python",
      "pygments_lexer": "ipython3",
      "version": "3.6.9"
    }
  },
  "cells": [
    {
      "cell_type": "markdown",
      "metadata": {
        "id": "view-in-github",
        "colab_type": "text"
      },
      "source": [
        "<a href=\"https://colab.research.google.com/github/shouvikcirca/PCB_Defect_Detection/blob/master/Densenet121.ipynb\" target=\"_parent\"><img src=\"https://colab.research.google.com/assets/colab-badge.svg\" alt=\"Open In Colab\"/></a>"
      ]
    },
    {
      "cell_type": "code",
      "metadata": {
        "colab_type": "code",
        "id": "mKdW-45kyBEr",
        "colab": {
          "base_uri": "https://localhost:8080/",
          "height": 34
        },
        "outputId": "e01d9e08-a477-4773-a34e-b19e4a753c02"
      },
      "source": [
        "import tensorflow as tf\n",
        "import keras \n",
        "from keras.applications import DenseNet121\n",
        "import numpy as np\n",
        "from keras.preprocessing.image import ImageDataGenerator, NumpyArrayIterator\n",
        "from keras.callbacks import EarlyStopping, ModelCheckpoint"
      ],
      "execution_count": 1,
      "outputs": [
        {
          "output_type": "stream",
          "text": [
            "Using TensorFlow backend.\n"
          ],
          "name": "stderr"
        }
      ]
    },
    {
      "cell_type": "code",
      "metadata": {
        "colab_type": "code",
        "id": "yYkbcrpyzAtf",
        "colab": {}
      },
      "source": [
        "#######################"
      ],
      "execution_count": null,
      "outputs": []
    },
    {
      "cell_type": "code",
      "metadata": {
        "colab_type": "code",
        "id": "O_hWsT8RyBE1",
        "colab": {
          "base_uri": "https://localhost:8080/",
          "height": 51
        },
        "outputId": "29f701ae-a3de-4e81-acbc-8f4ee6b170c9"
      },
      "source": [
        "conv_base = DenseNet121(weights='imagenet', include_top = False, input_shape=(300,300,3))"
      ],
      "execution_count": 2,
      "outputs": [
        {
          "output_type": "stream",
          "text": [
            "Downloading data from https://github.com/keras-team/keras-applications/releases/download/densenet/densenet121_weights_tf_dim_ordering_tf_kernels_notop.h5\n",
            "29089792/29084464 [==============================] - 3s 0us/step\n"
          ],
          "name": "stdout"
        }
      ]
    },
    {
      "cell_type": "code",
      "metadata": {
        "colab_type": "code",
        "id": "HmJBnMc0yrOl",
        "colab": {}
      },
      "source": [
        "from google.colab import drive\n",
        "drive.mount(\"/content/gdrive/\")"
      ],
      "execution_count": null,
      "outputs": []
    },
    {
      "cell_type": "code",
      "metadata": {
        "colab_type": "code",
        "id": "xqwjCrUnyBE7",
        "colab": {}
      },
      "source": [
        "# conv_base.summary()"
      ],
      "execution_count": null,
      "outputs": []
    },
    {
      "cell_type": "code",
      "metadata": {
        "colab_type": "code",
        "id": "jZpMhfh0yBFA",
        "colab": {}
      },
      "source": [
        "import pickle\n",
        "# X = pickle.load(open(f'pickle_files/X2669.pkl', 'rb'))\n",
        "# y = pickle.load(open(f'pickle_files/y2669.pkl', 'rb'))\n",
        "X = pickle.load(open(\"gdrive/My Drive/X2669.pkl\", 'rb'))\n",
        "y = pickle.load(open(\"gdrive/My Drive/y2669.pkl\", 'rb'))\n",
        "\n",
        "\n",
        "\n",
        "X = X.permute(0,2,3,1).numpy()\n",
        "y = y.numpy()\n",
        "\n",
        "dataset_size = X.shape[0]"
      ],
      "execution_count": 4,
      "outputs": []
    },
    {
      "cell_type": "code",
      "metadata": {
        "colab_type": "code",
        "id": "29PgDYhs3sY0",
        "colab": {}
      },
      "source": [
        "from sklearn.model_selection import train_test_split\n",
        "X_train, X_test, y_train, y_test = train_test_split(X, y, test_size=0.20, random_state=42)"
      ],
      "execution_count": 5,
      "outputs": []
    },
    {
      "cell_type": "code",
      "metadata": {
        "colab_type": "code",
        "id": "WgkQAeKYyBFJ",
        "colab": {
          "base_uri": "https://localhost:8080/",
          "height": 34
        },
        "outputId": "6261d4f8-f798-4ab5-c99e-04d3ce12f968"
      },
      "source": [
        "nos = X_train.shape[0]\n",
        "nos"
      ],
      "execution_count": 6,
      "outputs": [
        {
          "output_type": "execute_result",
          "data": {
            "text/plain": [
              "2135"
            ]
          },
          "metadata": {
            "tags": []
          },
          "execution_count": 6
        }
      ]
    },
    {
      "cell_type": "code",
      "metadata": {
        "colab_type": "code",
        "id": "JimFmKvZyBFM",
        "colab": {
          "base_uri": "https://localhost:8080/",
          "height": 34
        },
        "outputId": "c41d1a11-fed5-4990-f349-b02d0d830648"
      },
      "source": [
        "((y==1).sum())/((y==0).sum()),((y_train==1).sum())/((y_train==0).sum()),((y_test==1).sum())/((y_test==0).sum())"
      ],
      "execution_count": 7,
      "outputs": [
        {
          "output_type": "execute_result",
          "data": {
            "text/plain": [
              "(16.91275167785235, 15.811023622047244, 23.272727272727273)"
            ]
          },
          "metadata": {
            "tags": []
          },
          "execution_count": 7
        }
      ]
    },
    {
      "cell_type": "code",
      "metadata": {
        "colab_type": "code",
        "id": "6wNPH7xzsSNg",
        "colab": {
          "base_uri": "https://localhost:8080/",
          "height": 34
        },
        "outputId": "a6d55fb5-6893-48d9-fef4-98bc625b5c5c"
      },
      "source": [
        "y_test.shape, (y_test==1).sum(), (y_test==0).sum()"
      ],
      "execution_count": 8,
      "outputs": [
        {
          "output_type": "execute_result",
          "data": {
            "text/plain": [
              "((534,), 512, 22)"
            ]
          },
          "metadata": {
            "tags": []
          },
          "execution_count": 8
        }
      ]
    },
    {
      "cell_type": "code",
      "metadata": {
        "colab_type": "code",
        "id": "F8muGM4CyBFQ",
        "colab": {}
      },
      "source": [
        "# datagen = ImageDataGenerator(rescale=1./255, )\n",
        "datagen = ImageDataGenerator(\n",
        "    featurewise_center = True,\n",
        "    featurewise_std_normalization = True\n",
        ")"
      ],
      "execution_count": 9,
      "outputs": []
    },
    {
      "cell_type": "code",
      "metadata": {
        "colab_type": "code",
        "id": "-Ls4xaWNzeJ8",
        "colab": {}
      },
      "source": [
        "datagen.fit(X_train)"
      ],
      "execution_count": 10,
      "outputs": []
    },
    {
      "cell_type": "code",
      "metadata": {
        "colab_type": "code",
        "id": "kdzouo3WyBFT",
        "colab": {}
      },
      "source": [
        "bs = 34\n",
        "numit = NumpyArrayIterator(\n",
        "    X_train, y_train, datagen, batch_size=bs, shuffle=False, sample_weight=None,\n",
        "    seed=None, data_format=None, save_to_dir=None, save_prefix='',\n",
        "    save_format='png', subset=None, dtype=None\n",
        ")"
      ],
      "execution_count": 11,
      "outputs": []
    },
    {
      "cell_type": "code",
      "metadata": {
        "id": "_FOFe5O8iefU",
        "colab_type": "code",
        "colab": {
          "base_uri": "https://localhost:8080/",
          "height": 34
        },
        "outputId": "57d419c9-2a19-4829-ab5a-305f0de74116"
      },
      "source": [
        "conv_base.predict(X_train[0].reshape(1,300,300,3)).shape\n"
      ],
      "execution_count": 12,
      "outputs": [
        {
          "output_type": "execute_result",
          "data": {
            "text/plain": [
              "(1, 9, 9, 1024)"
            ]
          },
          "metadata": {
            "tags": []
          },
          "execution_count": 12
        }
      ]
    },
    {
      "cell_type": "code",
      "metadata": {
        "colab_type": "code",
        "id": "-po7HhcByBFW",
        "colab": {
          "base_uri": "https://localhost:8080/",
          "height": 1000
        },
        "outputId": "57e9c5d2-8ff3-4889-de44-4cff42ee5264"
      },
      "source": [
        "train_samples = np.zeros(shape=(nos,9,9,1024))\n",
        "train_labels = np.zeros(shape=(nos))\n",
        "i = 0\n",
        "for samples_batch,labels_batch in numit:\n",
        "    f = conv_base.predict(samples_batch)\n",
        "    print(f.shape)\n",
        "    train_samples[i*bs:(i+1)*bs] = f\n",
        "    train_labels[i*bs:(i+1)*bs] = labels_batch\n",
        "    i+=1\n",
        "    if (i*bs)>=nos:\n",
        "        break"
      ],
      "execution_count": 13,
      "outputs": [
        {
          "output_type": "stream",
          "text": [
            "(34, 9, 9, 1024)\n",
            "(34, 9, 9, 1024)\n",
            "(34, 9, 9, 1024)\n",
            "(34, 9, 9, 1024)\n",
            "(34, 9, 9, 1024)\n",
            "(34, 9, 9, 1024)\n",
            "(34, 9, 9, 1024)\n",
            "(34, 9, 9, 1024)\n",
            "(34, 9, 9, 1024)\n",
            "(34, 9, 9, 1024)\n",
            "(34, 9, 9, 1024)\n",
            "(34, 9, 9, 1024)\n",
            "(34, 9, 9, 1024)\n",
            "(34, 9, 9, 1024)\n",
            "(34, 9, 9, 1024)\n",
            "(34, 9, 9, 1024)\n",
            "(34, 9, 9, 1024)\n",
            "(34, 9, 9, 1024)\n",
            "(34, 9, 9, 1024)\n",
            "(34, 9, 9, 1024)\n",
            "(34, 9, 9, 1024)\n",
            "(34, 9, 9, 1024)\n",
            "(34, 9, 9, 1024)\n",
            "(34, 9, 9, 1024)\n",
            "(34, 9, 9, 1024)\n",
            "(34, 9, 9, 1024)\n",
            "(34, 9, 9, 1024)\n",
            "(34, 9, 9, 1024)\n",
            "(34, 9, 9, 1024)\n",
            "(34, 9, 9, 1024)\n",
            "(34, 9, 9, 1024)\n",
            "(34, 9, 9, 1024)\n",
            "(34, 9, 9, 1024)\n",
            "(34, 9, 9, 1024)\n",
            "(34, 9, 9, 1024)\n",
            "(34, 9, 9, 1024)\n",
            "(34, 9, 9, 1024)\n",
            "(34, 9, 9, 1024)\n",
            "(34, 9, 9, 1024)\n",
            "(34, 9, 9, 1024)\n",
            "(34, 9, 9, 1024)\n",
            "(34, 9, 9, 1024)\n",
            "(34, 9, 9, 1024)\n",
            "(34, 9, 9, 1024)\n",
            "(34, 9, 9, 1024)\n",
            "(34, 9, 9, 1024)\n",
            "(34, 9, 9, 1024)\n",
            "(34, 9, 9, 1024)\n",
            "(34, 9, 9, 1024)\n",
            "(34, 9, 9, 1024)\n",
            "(34, 9, 9, 1024)\n",
            "(34, 9, 9, 1024)\n",
            "(34, 9, 9, 1024)\n",
            "(34, 9, 9, 1024)\n",
            "(34, 9, 9, 1024)\n",
            "(34, 9, 9, 1024)\n",
            "(34, 9, 9, 1024)\n",
            "(34, 9, 9, 1024)\n",
            "(34, 9, 9, 1024)\n",
            "(34, 9, 9, 1024)\n",
            "(34, 9, 9, 1024)\n",
            "(34, 9, 9, 1024)\n",
            "(27, 9, 9, 1024)\n"
          ],
          "name": "stdout"
        }
      ]
    },
    {
      "cell_type": "code",
      "metadata": {
        "colab_type": "code",
        "id": "2LwV52IOu75m",
        "colab": {}
      },
      "source": [
        "del X_train    # deleting X_train to make space"
      ],
      "execution_count": 14,
      "outputs": []
    },
    {
      "cell_type": "code",
      "metadata": {
        "colab_type": "code",
        "id": "0pJKQ0AAyBFZ",
        "colab": {
          "base_uri": "https://localhost:8080/",
          "height": 34
        },
        "outputId": "77c9de18-c0f3-4a6c-fd32-8186e157d4df"
      },
      "source": [
        "train_samples = train_samples.reshape(nos,9*9*1024)\n",
        "train_samples.shape, train_labels.shape"
      ],
      "execution_count": 15,
      "outputs": [
        {
          "output_type": "execute_result",
          "data": {
            "text/plain": [
              "((2135, 82944), (2135,))"
            ]
          },
          "metadata": {
            "tags": []
          },
          "execution_count": 15
        }
      ]
    },
    {
      "cell_type": "code",
      "metadata": {
        "colab_type": "code",
        "id": "UKYuvyZYyBFc",
        "colab": {
          "base_uri": "https://localhost:8080/",
          "height": 34
        },
        "outputId": "1cbd8e88-fdd2-4935-af71-6dff1243905e"
      },
      "source": [
        "nostest = X_test.shape[0]\n",
        "nostest"
      ],
      "execution_count": 16,
      "outputs": [
        {
          "output_type": "execute_result",
          "data": {
            "text/plain": [
              "534"
            ]
          },
          "metadata": {
            "tags": []
          },
          "execution_count": 16
        }
      ]
    },
    {
      "cell_type": "code",
      "metadata": {
        "colab_type": "code",
        "id": "b3IOVykK0lNa",
        "colab": {}
      },
      "source": [
        "datagentest = ImageDataGenerator(\n",
        "    featurewise_center = True,\n",
        "    featurewise_std_normalization = True\n",
        ")"
      ],
      "execution_count": 17,
      "outputs": []
    },
    {
      "cell_type": "code",
      "metadata": {
        "colab_type": "code",
        "id": "lPHFYD4m0ypv",
        "colab": {}
      },
      "source": [
        "datagentest.fit(X_test)"
      ],
      "execution_count": 18,
      "outputs": []
    },
    {
      "cell_type": "code",
      "metadata": {
        "colab_type": "code",
        "id": "Cg4xkVldyBFg",
        "colab": {
          "base_uri": "https://localhost:8080/",
          "height": 34
        },
        "outputId": "c22743d5-5d5e-4552-c0f4-b7126df34f7f"
      },
      "source": [
        "numitest = NumpyArrayIterator(\n",
        "    X_test, y_test, datagentest, batch_size=nostest, shuffle=False, sample_weight=None,\n",
        "    seed=None, data_format=None, save_to_dir=None, save_prefix='',\n",
        "    save_format='png', subset=None, dtype=None\n",
        ")\n",
        "\n",
        "\n",
        "test_samples = np.zeros(shape=(nostest,9,9,1024))\n",
        "test_labels = np.zeros(shape=(nostest))\n",
        "for samples_batch,labels_batch in numitest:\n",
        "    g = conv_base.predict(samples_batch)\n",
        "    print(g.shape)\n",
        "    test_samples[::] = g\n",
        "    test_labels[:] = labels_batch\n",
        "    break"
      ],
      "execution_count": 19,
      "outputs": [
        {
          "output_type": "stream",
          "text": [
            "(534, 9, 9, 1024)\n"
          ],
          "name": "stdout"
        }
      ]
    },
    {
      "cell_type": "code",
      "metadata": {
        "id": "9ypWB18Gjrp9",
        "colab_type": "code",
        "colab": {}
      },
      "source": [
        "del X_test"
      ],
      "execution_count": 20,
      "outputs": []
    },
    {
      "cell_type": "code",
      "metadata": {
        "colab_type": "code",
        "id": "v-W0WuuhyBFj",
        "colab": {
          "base_uri": "https://localhost:8080/",
          "height": 34
        },
        "outputId": "237d4ec0-b30f-44d4-edf4-a09dd26e5d14"
      },
      "source": [
        "test_samples = test_samples.reshape(nostest,9*9*1024)\n",
        "test_samples.shape"
      ],
      "execution_count": 21,
      "outputs": [
        {
          "output_type": "execute_result",
          "data": {
            "text/plain": [
              "(534, 82944)"
            ]
          },
          "metadata": {
            "tags": []
          },
          "execution_count": 21
        }
      ]
    },
    {
      "cell_type": "code",
      "metadata": {
        "colab_type": "code",
        "id": "Eyq9rWgfyBFm",
        "colab": {}
      },
      "source": [
        "from keras import models, layers, optimizers\n",
        "model = models.Sequential()\n",
        "model.add(layers.Dense(256, activation = 'relu', input_dim = 9*9*1024))\n",
        "model.add(layers.Dropout(0.5))\n",
        "model.add(layers.Dense(1, activation = 'sigmoid'))\n",
        "\n",
        "\n",
        "model.compile(optimizer = optimizers.Adam(lr = 1e-3),\n",
        "              loss = 'binary_crossentropy',\n",
        "              metrics = ['accuracy'])\n",
        "        \n"
      ],
      "execution_count": 22,
      "outputs": []
    },
    {
      "cell_type": "code",
      "metadata": {
        "colab_type": "code",
        "id": "rD8bQF4WyBFo",
        "colab": {}
      },
      "source": [
        "my_callbacks = [\n",
        "    EarlyStopping(patience=5, restore_best_weights=True),\n",
        "\n",
        "]"
      ],
      "execution_count": 23,
      "outputs": []
    },
    {
      "cell_type": "code",
      "metadata": {
        "colab_type": "code",
        "id": "2FX_hR1cyBFr",
        "colab": {
          "base_uri": "https://localhost:8080/",
          "height": 272
        },
        "outputId": "3ded20aa-db65-4b52-9e38-96a7f8814931"
      },
      "source": [
        "history = model.fit(train_samples, train_labels, epochs = 100, batch_size = 20,\n",
        "                    validation_data = (test_samples, test_labels), callbacks = my_callbacks\n",
        ")\n"
      ],
      "execution_count": 33,
      "outputs": [
        {
          "output_type": "stream",
          "text": [
            "Train on 2135 samples, validate on 534 samples\n",
            "Epoch 1/100\n",
            "2135/2135 [==============================] - 4s 2ms/step - loss: 0.1217 - accuracy: 0.9447 - val_loss: 0.1409 - val_accuracy: 0.9588\n",
            "Epoch 2/100\n",
            "2135/2135 [==============================] - 4s 2ms/step - loss: 0.1177 - accuracy: 0.9452 - val_loss: 0.1248 - val_accuracy: 0.9588\n",
            "Epoch 3/100\n",
            "2135/2135 [==============================] - 4s 2ms/step - loss: 0.1069 - accuracy: 0.9447 - val_loss: 0.1555 - val_accuracy: 0.9569\n",
            "Epoch 4/100\n",
            "2135/2135 [==============================] - 4s 2ms/step - loss: 0.1023 - accuracy: 0.9433 - val_loss: 0.1267 - val_accuracy: 0.9588\n",
            "Epoch 5/100\n",
            "2135/2135 [==============================] - 4s 2ms/step - loss: 0.1038 - accuracy: 0.9443 - val_loss: 0.1572 - val_accuracy: 0.9607\n",
            "Epoch 6/100\n",
            "2135/2135 [==============================] - 4s 2ms/step - loss: 0.1002 - accuracy: 0.9438 - val_loss: 0.1266 - val_accuracy: 0.9588\n",
            "Epoch 7/100\n",
            "2135/2135 [==============================] - 4s 2ms/step - loss: 0.0840 - accuracy: 0.9569 - val_loss: 0.1432 - val_accuracy: 0.9644\n"
          ],
          "name": "stdout"
        }
      ]
    },
    {
      "cell_type": "code",
      "metadata": {
        "colab_type": "code",
        "id": "CqB6lz-y-TPG",
        "colab": {}
      },
      "source": [
        "# run = 1      22:100"
      ],
      "execution_count": null,
      "outputs": []
    },
    {
      "cell_type": "code",
      "metadata": {
        "colab_type": "code",
        "id": "REEnTzgByBFu",
        "colab": {
          "base_uri": "https://localhost:8080/",
          "height": 34
        },
        "outputId": "dc9ae934-34b9-47fc-b3bf-0a0d8e98bb2a"
      },
      "source": [
        "preds = model.predict(test_samples, batch_size = 20)\n",
        "predclass = np.array([1.0 if i>0.5 else 0.0 for i in preds])\n",
        "(predclass == test_labels).sum()/534.0"
      ],
      "execution_count": 34,
      "outputs": [
        {
          "output_type": "execute_result",
          "data": {
            "text/plain": [
              "0.9588014981273408"
            ]
          },
          "metadata": {
            "tags": []
          },
          "execution_count": 34
        }
      ]
    },
    {
      "cell_type": "code",
      "metadata": {
        "colab_type": "code",
        "id": "FLSJqEZD_RGE",
        "colab": {
          "base_uri": "https://localhost:8080/",
          "height": 51
        },
        "outputId": "d90b7baf-efbc-44d7-d39f-1fab1fcdc780"
      },
      "source": [
        "from sklearn.metrics import confusion_matrix\n",
        "confusion_matrix(test_labels,predclass)"
      ],
      "execution_count": 35,
      "outputs": [
        {
          "output_type": "execute_result",
          "data": {
            "text/plain": [
              "array([[  0,  22],\n",
              "       [  0, 512]])"
            ]
          },
          "metadata": {
            "tags": []
          },
          "execution_count": 35
        }
      ]
    },
    {
      "cell_type": "code",
      "metadata": {
        "colab_type": "code",
        "id": "S8Z46a91yBF4",
        "colab": {
          "base_uri": "https://localhost:8080/",
          "height": 34
        },
        "outputId": "a82cf847-cd08-44b0-87c5-eb014a929b5f"
      },
      "source": [
        "confusion_matrix(test_labels,predclass)[0][0]/22, confusion_matrix(test_labels,predclass)[1][1]/512 "
      ],
      "execution_count": 36,
      "outputs": [
        {
          "output_type": "execute_result",
          "data": {
            "text/plain": [
              "(0.0, 1.0)"
            ]
          },
          "metadata": {
            "tags": []
          },
          "execution_count": 36
        }
      ]
    },
    {
      "cell_type": "code",
      "metadata": {
        "colab_type": "code",
        "id": "toCvFa6bIf99",
        "colab": {
          "base_uri": "https://localhost:8080/",
          "height": 34
        },
        "outputId": "5f84f60a-f3b1-40e6-9722-815de5735285"
      },
      "source": [
        "test_labels.shape"
      ],
      "execution_count": null,
      "outputs": [
        {
          "output_type": "execute_result",
          "data": {
            "text/plain": [
              "(534,)"
            ]
          },
          "metadata": {
            "tags": []
          },
          "execution_count": 141
        }
      ]
    },
    {
      "cell_type": "markdown",
      "metadata": {
        "colab_type": "text",
        "id": "hLg4iwSI6kWw"
      },
      "source": [
        "Validation Data"
      ]
    },
    {
      "cell_type": "code",
      "metadata": {
        "colab_type": "code",
        "id": "CUE-JDUd6oCF",
        "colab": {}
      },
      "source": [
        "xval = np.load('gdrive/My Drive/Copy of xtrain.npy')\n",
        "yval = np.load('gdrive/My Drive/Copy of ytrain.npy')\n"
      ],
      "execution_count": null,
      "outputs": []
    },
    {
      "cell_type": "code",
      "metadata": {
        "colab_type": "code",
        "id": "Eeos1txQ7Vso",
        "colab": {
          "base_uri": "https://localhost:8080/",
          "height": 34
        },
        "outputId": "3304738c-ed08-4a5c-e6e2-91a07eaca9cf"
      },
      "source": [
        "yval.shape[0]"
      ],
      "execution_count": null,
      "outputs": [
        {
          "output_type": "execute_result",
          "data": {
            "text/plain": [
              "298"
            ]
          },
          "metadata": {
            "tags": []
          },
          "execution_count": 32
        }
      ]
    },
    {
      "cell_type": "code",
      "metadata": {
        "colab_type": "code",
        "id": "lRDYaAmQ6oD-",
        "colab": {
          "base_uri": "https://localhost:8080/",
          "height": 34
        },
        "outputId": "1b51c049-ee6d-46b0-fd6c-51cd20de9699"
      },
      "source": [
        "numitval = NumpyArrayIterator(\n",
        "    xval, yval, datagen, batch_size=yval.shape[0], shuffle=False, sample_weight=None,\n",
        "    seed=None, data_format=None, save_to_dir=None, save_prefix='',\n",
        "    save_format='png', subset=None, dtype=None\n",
        ")\n",
        "\n",
        "\n",
        "val_samples = np.zeros(shape=(yval.shape[0],9,9,512))\n",
        "val_labels = np.zeros(shape=(yval.shape[0]))\n",
        "for samples_batch,labels_batch in numitval:\n",
        "    g = conv_base.predict(samples_batch)\n",
        "    print(g.shape)\n",
        "    val_samples[::] = g\n",
        "    val_labels[:] = labels_batch\n",
        "    break"
      ],
      "execution_count": null,
      "outputs": [
        {
          "output_type": "stream",
          "text": [
            "(298, 9, 9, 512)\n"
          ],
          "name": "stdout"
        }
      ]
    },
    {
      "cell_type": "code",
      "metadata": {
        "colab_type": "code",
        "id": "EZbwyPOR6oH-",
        "colab": {}
      },
      "source": [
        "val_samples = val_samples.reshape(yval.shape[0],9*9*512)"
      ],
      "execution_count": null,
      "outputs": []
    },
    {
      "cell_type": "code",
      "metadata": {
        "colab_type": "code",
        "id": "mct4B72o6oKH",
        "colab": {}
      },
      "source": [
        "val_preds = model.predict(val_samples, batch_size = 20)"
      ],
      "execution_count": null,
      "outputs": []
    },
    {
      "cell_type": "code",
      "metadata": {
        "colab_type": "code",
        "id": "1opTNL8K6oMk",
        "colab": {}
      },
      "source": [
        "val_predclass = np.array([1.0 if i>0.5 else 0.0 for i in val_preds])"
      ],
      "execution_count": null,
      "outputs": []
    },
    {
      "cell_type": "code",
      "metadata": {
        "colab_type": "code",
        "id": "V2ich7SG8Pxp",
        "colab": {
          "base_uri": "https://localhost:8080/",
          "height": 34
        },
        "outputId": "4b264287-581a-45b0-c3f1-dc76176dc213"
      },
      "source": [
        "\n",
        "(val_predclass == val_labels).sum()/298.0"
      ],
      "execution_count": null,
      "outputs": [
        {
          "output_type": "execute_result",
          "data": {
            "text/plain": [
              "0.9228187919463087"
            ]
          },
          "metadata": {
            "tags": []
          },
          "execution_count": 207
        }
      ]
    },
    {
      "cell_type": "code",
      "metadata": {
        "colab_type": "code",
        "id": "hjLyu1118gXG",
        "colab": {
          "base_uri": "https://localhost:8080/",
          "height": 51
        },
        "outputId": "6bded952-a16a-4d21-95b6-3f79c26e5cc9"
      },
      "source": [
        "confusion_matrix(val_labels,val_predclass)"
      ],
      "execution_count": null,
      "outputs": [
        {
          "output_type": "execute_result",
          "data": {
            "text/plain": [
              "array([[126,  23],\n",
              "       [  0, 149]])"
            ]
          },
          "metadata": {
            "tags": []
          },
          "execution_count": 208
        }
      ]
    },
    {
      "cell_type": "code",
      "metadata": {
        "colab_type": "code",
        "id": "0rtDJ903-LvD",
        "colab": {
          "base_uri": "https://localhost:8080/",
          "height": 34
        },
        "outputId": "89f2d98d-baf0-48cd-ec3b-cd0a28301f8d"
      },
      "source": [
        "confusion_matrix(val_labels,val_predclass)[0][0]/149, confusion_matrix(val_labels,val_predclass)[1][1]/149 "
      ],
      "execution_count": null,
      "outputs": [
        {
          "output_type": "execute_result",
          "data": {
            "text/plain": [
              "(0.8456375838926175, 1.0)"
            ]
          },
          "metadata": {
            "tags": []
          },
          "execution_count": 209
        }
      ]
    },
    {
      "cell_type": "code",
      "metadata": {
        "colab_type": "code",
        "id": "CdsYJ6T6AZul",
        "colab": {}
      },
      "source": [
        ""
      ],
      "execution_count": null,
      "outputs": []
    },
    {
      "cell_type": "code",
      "metadata": {
        "colab_type": "code",
        "id": "6_6fiRoyAZwz",
        "colab": {}
      },
      "source": [
        ""
      ],
      "execution_count": null,
      "outputs": []
    },
    {
      "cell_type": "code",
      "metadata": {
        "colab_type": "code",
        "id": "1cMpMaPdAZzI",
        "colab": {}
      },
      "source": [
        "# model_json = model.to_json()\n",
        "# with open(\"gdrive/My Drive/models/VGG19_12.json\", \"w\") as json_file:\n",
        "#     json_file.write(model_json)"
      ],
      "execution_count": null,
      "outputs": []
    },
    {
      "cell_type": "code",
      "metadata": {
        "colab_type": "code",
        "id": "j3AlnSxuAu_K",
        "colab": {
          "base_uri": "https://localhost:8080/",
          "height": 34
        },
        "outputId": "beab4df6-834f-4480-dbb6-c0d9bd3dc535"
      },
      "source": [
        "# model.save_weights(\"gdrive/My Drive/models/VGG19_12.h5\")\n",
        "# print(\"Saved model to disk\")"
      ],
      "execution_count": null,
      "outputs": [
        {
          "output_type": "stream",
          "text": [
            "Saved model to disk\n"
          ],
          "name": "stdout"
        }
      ]
    },
    {
      "cell_type": "code",
      "metadata": {
        "colab_type": "code",
        "id": "9YnR4KZMEEb1",
        "colab": {}
      },
      "source": [
        "# Saving and loading models\n",
        "# https://machinelearningmastery.com/save-load-keras-deep-learning-models/"
      ],
      "execution_count": null,
      "outputs": []
    },
    {
      "cell_type": "code",
      "metadata": {
        "colab_type": "code",
        "id": "h-CjQHrMEEdr",
        "colab": {}
      },
      "source": [
        ""
      ],
      "execution_count": null,
      "outputs": []
    }
  ]
}