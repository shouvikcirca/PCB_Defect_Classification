{
  "nbformat": 4,
  "nbformat_minor": 0,
  "metadata": {
    "accelerator": "GPU",
    "colab": {
      "name": "Resnet152v2.ipynb",
      "provenance": [],
      "include_colab_link": true
    },
    "kernelspec": {
      "display_name": "Python 3",
      "language": "python",
      "name": "python3"
    },
    "language_info": {
      "codemirror_mode": {
        "name": "ipython",
        "version": 3
      },
      "file_extension": ".py",
      "mimetype": "text/x-python",
      "name": "python",
      "nbconvert_exporter": "python",
      "pygments_lexer": "ipython3",
      "version": "3.6.9"
    }
  },
  "cells": [
    {
      "cell_type": "markdown",
      "metadata": {
        "id": "view-in-github",
        "colab_type": "text"
      },
      "source": [
        "<a href=\"https://colab.research.google.com/github/shouvikcirca/PCB_Defect_Detection/blob/master/Resnet152v2.ipynb\" target=\"_parent\"><img src=\"https://colab.research.google.com/assets/colab-badge.svg\" alt=\"Open In Colab\"/></a>"
      ]
    },
    {
      "cell_type": "code",
      "metadata": {
        "colab_type": "code",
        "id": "mKdW-45kyBEr",
        "colab": {}
      },
      "source": [
        "import tensorflow as tf\n",
        "import keras \n",
        "from keras.applications import ResNet152V2\n",
        "import numpy as np\n",
        "from keras.preprocessing.image import ImageDataGenerator, NumpyArrayIterator\n",
        "from keras.callbacks import EarlyStopping, ModelCheckpoint"
      ],
      "execution_count": 3,
      "outputs": []
    },
    {
      "cell_type": "code",
      "metadata": {
        "colab_type": "code",
        "id": "yYkbcrpyzAtf",
        "colab": {}
      },
      "source": [
        "#######################"
      ],
      "execution_count": null,
      "outputs": []
    },
    {
      "cell_type": "code",
      "metadata": {
        "colab_type": "code",
        "id": "O_hWsT8RyBE1",
        "colab": {
          "base_uri": "https://localhost:8080/",
          "height": 51
        },
        "outputId": "43df4c68-fb1f-46b2-937d-4e21e3760f8a"
      },
      "source": [
        "conv_base = ResNet152V2(weights='imagenet', include_top = False, input_shape=(300,300,3))"
      ],
      "execution_count": 4,
      "outputs": [
        {
          "output_type": "stream",
          "text": [
            "Downloading data from https://github.com/keras-team/keras-applications/releases/download/resnet/resnet152v2_weights_tf_dim_ordering_tf_kernels_notop.h5\n",
            "234553344/234545216 [==============================] - 3s 0us/step\n"
          ],
          "name": "stdout"
        }
      ]
    },
    {
      "cell_type": "code",
      "metadata": {
        "colab_type": "code",
        "id": "HmJBnMc0yrOl",
        "colab": {
          "base_uri": "https://localhost:8080/",
          "height": 122
        },
        "outputId": "42510985-ee75-4864-ff9c-c5127afb7d8c"
      },
      "source": [
        "from google.colab import drive\n",
        "drive.mount(\"/content/gdrive/\")"
      ],
      "execution_count": 5,
      "outputs": [
        {
          "output_type": "stream",
          "text": [
            "Go to this URL in a browser: https://accounts.google.com/o/oauth2/auth?client_id=947318989803-6bn6qk8qdgf4n4g3pfee6491hc0brc4i.apps.googleusercontent.com&redirect_uri=urn%3aietf%3awg%3aoauth%3a2.0%3aoob&response_type=code&scope=email%20https%3a%2f%2fwww.googleapis.com%2fauth%2fdocs.test%20https%3a%2f%2fwww.googleapis.com%2fauth%2fdrive%20https%3a%2f%2fwww.googleapis.com%2fauth%2fdrive.photos.readonly%20https%3a%2f%2fwww.googleapis.com%2fauth%2fpeopleapi.readonly\n",
            "\n",
            "Enter your authorization code:\n",
            "··········\n",
            "Mounted at /content/gdrive/\n"
          ],
          "name": "stdout"
        }
      ]
    },
    {
      "cell_type": "code",
      "metadata": {
        "colab_type": "code",
        "id": "xqwjCrUnyBE7",
        "colab": {}
      },
      "source": [
        "# conv_base.summary()"
      ],
      "execution_count": null,
      "outputs": []
    },
    {
      "cell_type": "code",
      "metadata": {
        "colab_type": "code",
        "id": "jZpMhfh0yBFA",
        "colab": {}
      },
      "source": [
        "import pickle\n",
        "# X = pickle.load(open(f'pickle_files/X2669.pkl', 'rb'))\n",
        "# y = pickle.load(open(f'pickle_files/y2669.pkl', 'rb'))\n",
        "X = pickle.load(open(\"gdrive/My Drive/X2669.pkl\", 'rb'))\n",
        "y = pickle.load(open(\"gdrive/My Drive/y2669.pkl\", 'rb'))\n",
        "\n",
        "\n",
        "\n",
        "X = X.permute(0,2,3,1).numpy()\n",
        "y = y.numpy()\n",
        "\n",
        "dataset_size = X.shape[0]"
      ],
      "execution_count": 6,
      "outputs": []
    },
    {
      "cell_type": "code",
      "metadata": {
        "colab_type": "code",
        "id": "29PgDYhs3sY0",
        "colab": {}
      },
      "source": [
        "from sklearn.model_selection import train_test_split\n",
        "X_train, X_test, y_train, y_test = train_test_split(X, y, test_size=0.20, random_state=42)"
      ],
      "execution_count": 7,
      "outputs": []
    },
    {
      "cell_type": "code",
      "metadata": {
        "colab_type": "code",
        "id": "WgkQAeKYyBFJ",
        "colab": {
          "base_uri": "https://localhost:8080/",
          "height": 34
        },
        "outputId": "1de2f30c-cf66-48ed-b781-93647e49e614"
      },
      "source": [
        "nos = X_train.shape[0]\n",
        "nos"
      ],
      "execution_count": 8,
      "outputs": [
        {
          "output_type": "execute_result",
          "data": {
            "text/plain": [
              "2135"
            ]
          },
          "metadata": {
            "tags": []
          },
          "execution_count": 8
        }
      ]
    },
    {
      "cell_type": "code",
      "metadata": {
        "colab_type": "code",
        "id": "JimFmKvZyBFM",
        "colab": {
          "base_uri": "https://localhost:8080/",
          "height": 34
        },
        "outputId": "268dc789-27d3-4a5a-ee46-aa1ef4dcee74"
      },
      "source": [
        "((y==1).sum())/((y==0).sum()),((y_train==1).sum())/((y_train==0).sum()),((y_test==1).sum())/((y_test==0).sum())"
      ],
      "execution_count": 9,
      "outputs": [
        {
          "output_type": "execute_result",
          "data": {
            "text/plain": [
              "(16.91275167785235, 15.811023622047244, 23.272727272727273)"
            ]
          },
          "metadata": {
            "tags": []
          },
          "execution_count": 9
        }
      ]
    },
    {
      "cell_type": "code",
      "metadata": {
        "colab_type": "code",
        "id": "6wNPH7xzsSNg",
        "colab": {
          "base_uri": "https://localhost:8080/",
          "height": 34
        },
        "outputId": "a392e979-68c2-4132-cd65-637e21e2633a"
      },
      "source": [
        "y_test.shape, (y_test==1).sum(), (y_test==0).sum()"
      ],
      "execution_count": 10,
      "outputs": [
        {
          "output_type": "execute_result",
          "data": {
            "text/plain": [
              "((534,), 512, 22)"
            ]
          },
          "metadata": {
            "tags": []
          },
          "execution_count": 10
        }
      ]
    },
    {
      "cell_type": "code",
      "metadata": {
        "colab_type": "code",
        "id": "F8muGM4CyBFQ",
        "colab": {}
      },
      "source": [
        "# datagen = ImageDataGenerator(rescale=1./255, )\n",
        "datagen = ImageDataGenerator(\n",
        "    featurewise_center = True,\n",
        "    featurewise_std_normalization = True\n",
        ")"
      ],
      "execution_count": 11,
      "outputs": []
    },
    {
      "cell_type": "code",
      "metadata": {
        "colab_type": "code",
        "id": "-Ls4xaWNzeJ8",
        "colab": {}
      },
      "source": [
        "datagen.fit(X_train)"
      ],
      "execution_count": 12,
      "outputs": []
    },
    {
      "cell_type": "code",
      "metadata": {
        "colab_type": "code",
        "id": "kdzouo3WyBFT",
        "colab": {}
      },
      "source": [
        "bs = 34\n",
        "numit = NumpyArrayIterator(\n",
        "    X_train, y_train, datagen, batch_size=bs, shuffle=False, sample_weight=None,\n",
        "    seed=None, data_format=None, save_to_dir=None, save_prefix='',\n",
        "    save_format='png', subset=None, dtype=None\n",
        ")"
      ],
      "execution_count": 13,
      "outputs": []
    },
    {
      "cell_type": "code",
      "metadata": {
        "id": "_FOFe5O8iefU",
        "colab_type": "code",
        "colab": {
          "base_uri": "https://localhost:8080/",
          "height": 34
        },
        "outputId": "0bf56824-d947-4b3a-a247-f160417390c4"
      },
      "source": [
        "conv_base.predict(X_train[0].reshape(1,300,300,3)).shape\n"
      ],
      "execution_count": 16,
      "outputs": [
        {
          "output_type": "execute_result",
          "data": {
            "text/plain": [
              "(1, 10, 10, 2048)"
            ]
          },
          "metadata": {
            "tags": []
          },
          "execution_count": 16
        }
      ]
    },
    {
      "cell_type": "code",
      "metadata": {
        "colab_type": "code",
        "id": "-po7HhcByBFW",
        "colab": {
          "base_uri": "https://localhost:8080/",
          "height": 1000
        },
        "outputId": "a1079918-88a0-4ba9-e50c-391dcefd2309"
      },
      "source": [
        "train_samples = np.zeros(shape=(nos,10,10,2048))\n",
        "train_labels = np.zeros(shape=(nos))\n",
        "i = 0\n",
        "for samples_batch,labels_batch in numit:\n",
        "    f = conv_base.predict(samples_batch)\n",
        "    print(f.shape)\n",
        "    train_samples[i*bs:(i+1)*bs] = f\n",
        "    train_labels[i*bs:(i+1)*bs] = labels_batch\n",
        "    i+=1\n",
        "    if (i*bs)>=nos:\n",
        "        break"
      ],
      "execution_count": 17,
      "outputs": [
        {
          "output_type": "stream",
          "text": [
            "(34, 10, 10, 2048)\n",
            "(34, 10, 10, 2048)\n",
            "(34, 10, 10, 2048)\n",
            "(34, 10, 10, 2048)\n",
            "(34, 10, 10, 2048)\n",
            "(34, 10, 10, 2048)\n",
            "(34, 10, 10, 2048)\n",
            "(34, 10, 10, 2048)\n",
            "(34, 10, 10, 2048)\n",
            "(34, 10, 10, 2048)\n",
            "(34, 10, 10, 2048)\n",
            "(34, 10, 10, 2048)\n",
            "(34, 10, 10, 2048)\n",
            "(34, 10, 10, 2048)\n",
            "(34, 10, 10, 2048)\n",
            "(34, 10, 10, 2048)\n",
            "(34, 10, 10, 2048)\n",
            "(34, 10, 10, 2048)\n",
            "(34, 10, 10, 2048)\n",
            "(34, 10, 10, 2048)\n",
            "(34, 10, 10, 2048)\n",
            "(34, 10, 10, 2048)\n",
            "(34, 10, 10, 2048)\n",
            "(34, 10, 10, 2048)\n",
            "(34, 10, 10, 2048)\n",
            "(34, 10, 10, 2048)\n",
            "(34, 10, 10, 2048)\n",
            "(34, 10, 10, 2048)\n",
            "(34, 10, 10, 2048)\n",
            "(34, 10, 10, 2048)\n",
            "(34, 10, 10, 2048)\n",
            "(34, 10, 10, 2048)\n",
            "(34, 10, 10, 2048)\n",
            "(34, 10, 10, 2048)\n",
            "(34, 10, 10, 2048)\n",
            "(34, 10, 10, 2048)\n",
            "(34, 10, 10, 2048)\n",
            "(34, 10, 10, 2048)\n",
            "(34, 10, 10, 2048)\n",
            "(34, 10, 10, 2048)\n",
            "(34, 10, 10, 2048)\n",
            "(34, 10, 10, 2048)\n",
            "(34, 10, 10, 2048)\n",
            "(34, 10, 10, 2048)\n",
            "(34, 10, 10, 2048)\n",
            "(34, 10, 10, 2048)\n",
            "(34, 10, 10, 2048)\n",
            "(34, 10, 10, 2048)\n",
            "(34, 10, 10, 2048)\n",
            "(34, 10, 10, 2048)\n",
            "(34, 10, 10, 2048)\n",
            "(34, 10, 10, 2048)\n",
            "(34, 10, 10, 2048)\n",
            "(34, 10, 10, 2048)\n",
            "(34, 10, 10, 2048)\n",
            "(34, 10, 10, 2048)\n",
            "(34, 10, 10, 2048)\n",
            "(34, 10, 10, 2048)\n",
            "(34, 10, 10, 2048)\n",
            "(34, 10, 10, 2048)\n",
            "(34, 10, 10, 2048)\n",
            "(34, 10, 10, 2048)\n",
            "(27, 10, 10, 2048)\n"
          ],
          "name": "stdout"
        }
      ]
    },
    {
      "cell_type": "code",
      "metadata": {
        "colab_type": "code",
        "id": "2LwV52IOu75m",
        "colab": {}
      },
      "source": [
        "del X_train    # deleting X_train to make space"
      ],
      "execution_count": null,
      "outputs": []
    },
    {
      "cell_type": "code",
      "metadata": {
        "colab_type": "code",
        "id": "0pJKQ0AAyBFZ",
        "colab": {
          "base_uri": "https://localhost:8080/",
          "height": 34
        },
        "outputId": "1a4fd371-01a6-444d-8b43-0e92c3a04d1d"
      },
      "source": [
        "train_samples = train_samples.reshape(nos,10*10*2048)\n",
        "train_samples.shape, train_labels.shape"
      ],
      "execution_count": 20,
      "outputs": [
        {
          "output_type": "execute_result",
          "data": {
            "text/plain": [
              "((2135, 204800), (2135,))"
            ]
          },
          "metadata": {
            "tags": []
          },
          "execution_count": 20
        }
      ]
    },
    {
      "cell_type": "code",
      "metadata": {
        "colab_type": "code",
        "id": "UKYuvyZYyBFc",
        "colab": {
          "base_uri": "https://localhost:8080/",
          "height": 34
        },
        "outputId": "45a52317-b1ad-400c-d51f-720c3dc3bec0"
      },
      "source": [
        "nostest = X_test.shape[0]\n",
        "nostest"
      ],
      "execution_count": 21,
      "outputs": [
        {
          "output_type": "execute_result",
          "data": {
            "text/plain": [
              "534"
            ]
          },
          "metadata": {
            "tags": []
          },
          "execution_count": 21
        }
      ]
    },
    {
      "cell_type": "code",
      "metadata": {
        "colab_type": "code",
        "id": "b3IOVykK0lNa",
        "colab": {}
      },
      "source": [
        "datagentest = ImageDataGenerator(\n",
        "    featurewise_center = True,\n",
        "    featurewise_std_normalization = True\n",
        ")"
      ],
      "execution_count": 22,
      "outputs": []
    },
    {
      "cell_type": "code",
      "metadata": {
        "colab_type": "code",
        "id": "lPHFYD4m0ypv",
        "colab": {}
      },
      "source": [
        "datagentest.fit(X_test)"
      ],
      "execution_count": 23,
      "outputs": []
    },
    {
      "cell_type": "code",
      "metadata": {
        "colab_type": "code",
        "id": "Cg4xkVldyBFg",
        "colab": {
          "base_uri": "https://localhost:8080/",
          "height": 34
        },
        "outputId": "14b7384b-16b8-4867-d470-d3aee0dd5bdb"
      },
      "source": [
        "numitest = NumpyArrayIterator(\n",
        "    X_test, y_test, datagentest, batch_size=nostest, shuffle=False, sample_weight=None,\n",
        "    seed=None, data_format=None, save_to_dir=None, save_prefix='',\n",
        "    save_format='png', subset=None, dtype=None\n",
        ")\n",
        "\n",
        "\n",
        "test_samples = np.zeros(shape=(nostest,10,10,2048))\n",
        "test_labels = np.zeros(shape=(nostest))\n",
        "for samples_batch,labels_batch in numitest:\n",
        "    g = conv_base.predict(samples_batch)\n",
        "    print(g.shape)\n",
        "    test_samples[::] = g\n",
        "    test_labels[:] = labels_batch\n",
        "    break"
      ],
      "execution_count": 24,
      "outputs": [
        {
          "output_type": "stream",
          "text": [
            "(534, 10, 10, 2048)\n"
          ],
          "name": "stdout"
        }
      ]
    },
    {
      "cell_type": "code",
      "metadata": {
        "id": "9ypWB18Gjrp9",
        "colab_type": "code",
        "colab": {}
      },
      "source": [
        "del X_test"
      ],
      "execution_count": 25,
      "outputs": []
    },
    {
      "cell_type": "code",
      "metadata": {
        "colab_type": "code",
        "id": "v-W0WuuhyBFj",
        "colab": {
          "base_uri": "https://localhost:8080/",
          "height": 34
        },
        "outputId": "e1dbfd2e-ea57-4d37-db87-01eaadb1b69b"
      },
      "source": [
        "test_samples = test_samples.reshape(nostest,10*10*2048)\n",
        "test_samples.shape"
      ],
      "execution_count": 26,
      "outputs": [
        {
          "output_type": "execute_result",
          "data": {
            "text/plain": [
              "(534, 204800)"
            ]
          },
          "metadata": {
            "tags": []
          },
          "execution_count": 26
        }
      ]
    },
    {
      "cell_type": "code",
      "metadata": {
        "colab_type": "code",
        "id": "Eyq9rWgfyBFm",
        "colab": {}
      },
      "source": [
        "from keras import models, layers, optimizers\n",
        "model = models.Sequential()\n",
        "model.add(layers.Dense(256, activation = 'relu', input_dim = 10*10*2048))\n",
        "model.add(layers.Dropout(0.5))\n",
        "model.add(layers.Dense(1, activation = 'sigmoid'))\n",
        "\n",
        "\n",
        "model.compile(optimizer = optimizers.Adam(lr = 1e-3),\n",
        "              loss = 'binary_crossentropy',\n",
        "              metrics = ['accuracy'])\n",
        "        \n"
      ],
      "execution_count": 27,
      "outputs": []
    },
    {
      "cell_type": "code",
      "metadata": {
        "colab_type": "code",
        "id": "rD8bQF4WyBFo",
        "colab": {}
      },
      "source": [
        "my_callbacks = [\n",
        "    EarlyStopping(patience=5, restore_best_weights=True),\n",
        "\n",
        "]"
      ],
      "execution_count": 28,
      "outputs": []
    },
    {
      "cell_type": "code",
      "metadata": {
        "colab_type": "code",
        "id": "2FX_hR1cyBFr",
        "colab": {
          "base_uri": "https://localhost:8080/",
          "height": 238
        },
        "outputId": "9e7e3763-4e5b-4126-d59d-50bf9a921174"
      },
      "source": [
        "history = model.fit(train_samples, train_labels, epochs = 100, batch_size = 20,\n",
        "                    validation_data = (test_samples, test_labels), callbacks = my_callbacks\n",
        ")\n"
      ],
      "execution_count": 48,
      "outputs": [
        {
          "output_type": "stream",
          "text": [
            "Train on 2135 samples, validate on 534 samples\n",
            "Epoch 1/100\n",
            "2135/2135 [==============================] - 9s 4ms/step - loss: 0.0437 - accuracy: 0.9808 - val_loss: 0.2889 - val_accuracy: 0.9682\n",
            "Epoch 2/100\n",
            "2135/2135 [==============================] - 9s 4ms/step - loss: 0.0418 - accuracy: 0.9883 - val_loss: 0.3154 - val_accuracy: 0.9682\n",
            "Epoch 3/100\n",
            "2135/2135 [==============================] - 9s 4ms/step - loss: 0.0362 - accuracy: 0.9827 - val_loss: 0.3098 - val_accuracy: 0.9700\n",
            "Epoch 4/100\n",
            "2135/2135 [==============================] - 9s 4ms/step - loss: 0.1024 - accuracy: 0.9803 - val_loss: 0.5152 - val_accuracy: 0.9625\n",
            "Epoch 5/100\n",
            "2135/2135 [==============================] - 9s 4ms/step - loss: 0.1269 - accuracy: 0.9780 - val_loss: 0.5016 - val_accuracy: 0.9644\n",
            "Epoch 6/100\n",
            "2135/2135 [==============================] - 9s 4ms/step - loss: 0.1166 - accuracy: 0.9752 - val_loss: 0.3649 - val_accuracy: 0.9663\n"
          ],
          "name": "stdout"
        }
      ]
    },
    {
      "cell_type": "code",
      "metadata": {
        "colab_type": "code",
        "id": "CqB6lz-y-TPG",
        "colab": {}
      },
      "source": [
        "# run = 1      22:100"
      ],
      "execution_count": null,
      "outputs": []
    },
    {
      "cell_type": "code",
      "metadata": {
        "colab_type": "code",
        "id": "REEnTzgByBFu",
        "colab": {
          "base_uri": "https://localhost:8080/",
          "height": 34
        },
        "outputId": "67a6e538-74f8-4afd-9648-fb417c61a5ec"
      },
      "source": [
        "preds = model.predict(test_samples, batch_size = 20)\n",
        "predclass = np.array([1.0 if i>0.5 else 0.0 for i in preds])\n",
        "(predclass == test_labels).sum()/534.0"
      ],
      "execution_count": 49,
      "outputs": [
        {
          "output_type": "execute_result",
          "data": {
            "text/plain": [
              "0.9681647940074907"
            ]
          },
          "metadata": {
            "tags": []
          },
          "execution_count": 49
        }
      ]
    },
    {
      "cell_type": "code",
      "metadata": {
        "colab_type": "code",
        "id": "FLSJqEZD_RGE",
        "colab": {
          "base_uri": "https://localhost:8080/",
          "height": 51
        },
        "outputId": "51f69bee-3406-4b7a-ac4f-4227fc987eac"
      },
      "source": [
        "from sklearn.metrics import confusion_matrix\n",
        "confusion_matrix(test_labels,predclass)"
      ],
      "execution_count": 46,
      "outputs": [
        {
          "output_type": "execute_result",
          "data": {
            "text/plain": [
              "array([[ 10,  12],\n",
              "       [  3, 509]])"
            ]
          },
          "metadata": {
            "tags": []
          },
          "execution_count": 46
        }
      ]
    },
    {
      "cell_type": "code",
      "metadata": {
        "colab_type": "code",
        "id": "S8Z46a91yBF4",
        "colab": {
          "base_uri": "https://localhost:8080/",
          "height": 34
        },
        "outputId": "f630a246-9e6a-47c2-eaba-df4a1ff6ca6b"
      },
      "source": [
        "confusion_matrix(test_labels,predclass)[0][0]/22, confusion_matrix(test_labels,predclass)[1][1]/512 "
      ],
      "execution_count": 50,
      "outputs": [
        {
          "output_type": "execute_result",
          "data": {
            "text/plain": [
              "(0.3181818181818182, 0.99609375)"
            ]
          },
          "metadata": {
            "tags": []
          },
          "execution_count": 50
        }
      ]
    },
    {
      "cell_type": "code",
      "metadata": {
        "colab_type": "code",
        "id": "toCvFa6bIf99",
        "colab": {
          "base_uri": "https://localhost:8080/",
          "height": 34
        },
        "outputId": "5f84f60a-f3b1-40e6-9722-815de5735285"
      },
      "source": [
        "test_labels.shape"
      ],
      "execution_count": null,
      "outputs": [
        {
          "output_type": "execute_result",
          "data": {
            "text/plain": [
              "(534,)"
            ]
          },
          "metadata": {
            "tags": []
          },
          "execution_count": 141
        }
      ]
    },
    {
      "cell_type": "markdown",
      "metadata": {
        "colab_type": "text",
        "id": "hLg4iwSI6kWw"
      },
      "source": [
        "Validation Data"
      ]
    },
    {
      "cell_type": "code",
      "metadata": {
        "colab_type": "code",
        "id": "CUE-JDUd6oCF",
        "colab": {}
      },
      "source": [
        "xval = np.load('gdrive/My Drive/Copy of xtrain.npy')\n",
        "yval = np.load('gdrive/My Drive/Copy of ytrain.npy')\n"
      ],
      "execution_count": null,
      "outputs": []
    },
    {
      "cell_type": "code",
      "metadata": {
        "colab_type": "code",
        "id": "Eeos1txQ7Vso",
        "colab": {
          "base_uri": "https://localhost:8080/",
          "height": 34
        },
        "outputId": "3304738c-ed08-4a5c-e6e2-91a07eaca9cf"
      },
      "source": [
        "yval.shape[0]"
      ],
      "execution_count": null,
      "outputs": [
        {
          "output_type": "execute_result",
          "data": {
            "text/plain": [
              "298"
            ]
          },
          "metadata": {
            "tags": []
          },
          "execution_count": 32
        }
      ]
    },
    {
      "cell_type": "code",
      "metadata": {
        "colab_type": "code",
        "id": "lRDYaAmQ6oD-",
        "colab": {
          "base_uri": "https://localhost:8080/",
          "height": 34
        },
        "outputId": "1b51c049-ee6d-46b0-fd6c-51cd20de9699"
      },
      "source": [
        "numitval = NumpyArrayIterator(\n",
        "    xval, yval, datagen, batch_size=yval.shape[0], shuffle=False, sample_weight=None,\n",
        "    seed=None, data_format=None, save_to_dir=None, save_prefix='',\n",
        "    save_format='png', subset=None, dtype=None\n",
        ")\n",
        "\n",
        "\n",
        "val_samples = np.zeros(shape=(yval.shape[0],9,9,512))\n",
        "val_labels = np.zeros(shape=(yval.shape[0]))\n",
        "for samples_batch,labels_batch in numitval:\n",
        "    g = conv_base.predict(samples_batch)\n",
        "    print(g.shape)\n",
        "    val_samples[::] = g\n",
        "    val_labels[:] = labels_batch\n",
        "    break"
      ],
      "execution_count": null,
      "outputs": [
        {
          "output_type": "stream",
          "text": [
            "(298, 9, 9, 512)\n"
          ],
          "name": "stdout"
        }
      ]
    },
    {
      "cell_type": "code",
      "metadata": {
        "colab_type": "code",
        "id": "EZbwyPOR6oH-",
        "colab": {}
      },
      "source": [
        "val_samples = val_samples.reshape(yval.shape[0],9*9*512)"
      ],
      "execution_count": null,
      "outputs": []
    },
    {
      "cell_type": "code",
      "metadata": {
        "colab_type": "code",
        "id": "mct4B72o6oKH",
        "colab": {}
      },
      "source": [
        "val_preds = model.predict(val_samples, batch_size = 20)"
      ],
      "execution_count": null,
      "outputs": []
    },
    {
      "cell_type": "code",
      "metadata": {
        "colab_type": "code",
        "id": "1opTNL8K6oMk",
        "colab": {}
      },
      "source": [
        "val_predclass = np.array([1.0 if i>0.5 else 0.0 for i in val_preds])"
      ],
      "execution_count": null,
      "outputs": []
    },
    {
      "cell_type": "code",
      "metadata": {
        "colab_type": "code",
        "id": "V2ich7SG8Pxp",
        "colab": {
          "base_uri": "https://localhost:8080/",
          "height": 34
        },
        "outputId": "4b264287-581a-45b0-c3f1-dc76176dc213"
      },
      "source": [
        "\n",
        "(val_predclass == val_labels).sum()/298.0"
      ],
      "execution_count": null,
      "outputs": [
        {
          "output_type": "execute_result",
          "data": {
            "text/plain": [
              "0.9228187919463087"
            ]
          },
          "metadata": {
            "tags": []
          },
          "execution_count": 207
        }
      ]
    },
    {
      "cell_type": "code",
      "metadata": {
        "colab_type": "code",
        "id": "hjLyu1118gXG",
        "colab": {
          "base_uri": "https://localhost:8080/",
          "height": 51
        },
        "outputId": "6bded952-a16a-4d21-95b6-3f79c26e5cc9"
      },
      "source": [
        "confusion_matrix(val_labels,val_predclass)"
      ],
      "execution_count": null,
      "outputs": [
        {
          "output_type": "execute_result",
          "data": {
            "text/plain": [
              "array([[126,  23],\n",
              "       [  0, 149]])"
            ]
          },
          "metadata": {
            "tags": []
          },
          "execution_count": 208
        }
      ]
    },
    {
      "cell_type": "code",
      "metadata": {
        "colab_type": "code",
        "id": "0rtDJ903-LvD",
        "colab": {
          "base_uri": "https://localhost:8080/",
          "height": 34
        },
        "outputId": "89f2d98d-baf0-48cd-ec3b-cd0a28301f8d"
      },
      "source": [
        "confusion_matrix(val_labels,val_predclass)[0][0]/149, confusion_matrix(val_labels,val_predclass)[1][1]/149 "
      ],
      "execution_count": null,
      "outputs": [
        {
          "output_type": "execute_result",
          "data": {
            "text/plain": [
              "(0.8456375838926175, 1.0)"
            ]
          },
          "metadata": {
            "tags": []
          },
          "execution_count": 209
        }
      ]
    },
    {
      "cell_type": "code",
      "metadata": {
        "colab_type": "code",
        "id": "CdsYJ6T6AZul",
        "colab": {}
      },
      "source": [
        ""
      ],
      "execution_count": null,
      "outputs": []
    },
    {
      "cell_type": "code",
      "metadata": {
        "colab_type": "code",
        "id": "6_6fiRoyAZwz",
        "colab": {}
      },
      "source": [
        ""
      ],
      "execution_count": null,
      "outputs": []
    },
    {
      "cell_type": "code",
      "metadata": {
        "colab_type": "code",
        "id": "1cMpMaPdAZzI",
        "colab": {}
      },
      "source": [
        "# model_json = model.to_json()\n",
        "# with open(\"gdrive/My Drive/models/VGG19_12.json\", \"w\") as json_file:\n",
        "#     json_file.write(model_json)"
      ],
      "execution_count": null,
      "outputs": []
    },
    {
      "cell_type": "code",
      "metadata": {
        "colab_type": "code",
        "id": "j3AlnSxuAu_K",
        "colab": {
          "base_uri": "https://localhost:8080/",
          "height": 34
        },
        "outputId": "beab4df6-834f-4480-dbb6-c0d9bd3dc535"
      },
      "source": [
        "# model.save_weights(\"gdrive/My Drive/models/VGG19_12.h5\")\n",
        "# print(\"Saved model to disk\")"
      ],
      "execution_count": null,
      "outputs": [
        {
          "output_type": "stream",
          "text": [
            "Saved model to disk\n"
          ],
          "name": "stdout"
        }
      ]
    },
    {
      "cell_type": "code",
      "metadata": {
        "colab_type": "code",
        "id": "9YnR4KZMEEb1",
        "colab": {}
      },
      "source": [
        "# Saving and loading models\n",
        "# https://machinelearningmastery.com/save-load-keras-deep-learning-models/"
      ],
      "execution_count": null,
      "outputs": []
    },
    {
      "cell_type": "code",
      "metadata": {
        "colab_type": "code",
        "id": "h-CjQHrMEEdr",
        "colab": {}
      },
      "source": [
        ""
      ],
      "execution_count": null,
      "outputs": []
    }
  ]
}