{
 "cells": [
  {
   "cell_type": "code",
   "execution_count": 1,
   "metadata": {},
   "outputs": [
    {
     "name": "stderr",
     "output_type": "stream",
     "text": [
      "Using TensorFlow backend.\n"
     ]
    }
   ],
   "source": [
    "import tensorflow as tf\n",
    "import keras \n",
    "from keras.applications import VGG16\n",
    "import numpy as np\n",
    "from keras.preprocessing.image import ImageDataGenerator, NumpyArrayIterator"
   ]
  },
  {
   "cell_type": "code",
   "execution_count": 2,
   "metadata": {},
   "outputs": [
    {
     "name": "stdout",
     "output_type": "stream",
     "text": [
      "WARNING:tensorflow:From /home/shouvik/Desktop/DeepLearning/dl/lib/python3.6/site-packages/keras/backend/tensorflow_backend.py:4070: The name tf.nn.max_pool is deprecated. Please use tf.nn.max_pool2d instead.\n",
      "\n"
     ]
    }
   ],
   "source": [
    "conv_base = VGG16(weights='imagenet', include_top = False, input_shape=(300,300,3))"
   ]
  },
  {
   "cell_type": "code",
   "execution_count": null,
   "metadata": {},
   "outputs": [],
   "source": [
    "# conv_base.summary()"
   ]
  },
  {
   "cell_type": "code",
   "execution_count": 3,
   "metadata": {},
   "outputs": [],
   "source": [
    "import pickle\n",
    "X = pickle.load(open(f'pickle_files/X298.pkl', 'rb'))\n",
    "y = pickle.load(open(f'pickle_files/y298.pkl', 'rb'))\n",
    "X = X.permute(0,2,3,1).numpy()\n",
    "y = y.numpy()\n",
    "\n",
    "dataset_size = X.shape[0]"
   ]
  },
  {
   "cell_type": "code",
   "execution_count": 4,
   "metadata": {},
   "outputs": [],
   "source": [
    "import torch\n",
    "inds = torch.randperm(dataset_size)\n",
    "train_indices = inds[:int(0.8*dataset_size)]\n",
    "test_indices = inds[int(0.8*dataset_size):]\n",
    "\n",
    "\n",
    "X_train = X[train_indices]\n",
    "X_test = X[test_indices]\n",
    "y_train = y[train_indices]\n",
    "y_test = y[test_indices]"
   ]
  },
  {
   "cell_type": "code",
   "execution_count": 5,
   "metadata": {},
   "outputs": [],
   "source": [
    "nos = X_train.shape[0]"
   ]
  },
  {
   "cell_type": "code",
   "execution_count": 6,
   "metadata": {},
   "outputs": [],
   "source": [
    "datagen = ImageDataGenerator(rescale=1./255)"
   ]
  },
  {
   "cell_type": "code",
   "execution_count": 26,
   "metadata": {},
   "outputs": [],
   "source": [
    "bs = 34\n",
    "numit = NumpyArrayIterator(\n",
    "    X_train, y_train, datagen, batch_size=bs, shuffle=False, sample_weight=None,\n",
    "    seed=None, data_format=None, save_to_dir=None, save_prefix='',\n",
    "    save_format='png', subset=None, dtype=None\n",
    ")"
   ]
  },
  {
   "cell_type": "code",
   "execution_count": 27,
   "metadata": {},
   "outputs": [
    {
     "name": "stdout",
     "output_type": "stream",
     "text": [
      "(34, 9, 9, 512)\n",
      "(34, 9, 9, 512)\n",
      "(34, 9, 9, 512)\n",
      "(34, 9, 9, 512)\n",
      "(34, 9, 9, 512)\n",
      "(34, 9, 9, 512)\n",
      "(34, 9, 9, 512)\n"
     ]
    }
   ],
   "source": [
    "train_samples = np.zeros(shape=(nos,9,9,512))\n",
    "train_labels = np.zeros(shape=(nos))\n",
    "i = 0\n",
    "for samples_batch,labels_batch in numit:\n",
    "    f = conv_base.predict(samples_batch)\n",
    "    print(f.shape)\n",
    "    train_samples[i*bs:(i+1)*bs] = f\n",
    "    train_labels[i*bs:(i+1)*bs] = labels_batch\n",
    "    i+=1\n",
    "    if (i*bs)>=nos:\n",
    "        break"
   ]
  },
  {
   "cell_type": "code",
   "execution_count": 28,
   "metadata": {},
   "outputs": [
    {
     "data": {
      "text/plain": [
       "((238, 41472), (238,))"
      ]
     },
     "execution_count": 28,
     "metadata": {},
     "output_type": "execute_result"
    }
   ],
   "source": [
    "train_samples = train_samples.reshape(nos,9*9*512)\n",
    "train_samples.shape, train_labels.shape"
   ]
  },
  {
   "cell_type": "code",
   "execution_count": 29,
   "metadata": {},
   "outputs": [
    {
     "data": {
      "text/plain": [
       "60"
      ]
     },
     "execution_count": 29,
     "metadata": {},
     "output_type": "execute_result"
    }
   ],
   "source": [
    "nostest = X_test.shape[0]\n",
    "nostest"
   ]
  },
  {
   "cell_type": "code",
   "execution_count": 30,
   "metadata": {},
   "outputs": [
    {
     "name": "stdout",
     "output_type": "stream",
     "text": [
      "(60, 9, 9, 512)\n"
     ]
    }
   ],
   "source": [
    "numitest = NumpyArrayIterator(\n",
    "    X_test, y_test, datagen, batch_size=nostest, shuffle=False, sample_weight=None,\n",
    "    seed=None, data_format=None, save_to_dir=None, save_prefix='',\n",
    "    save_format='png', subset=None, dtype=None\n",
    ")\n",
    "\n",
    "\n",
    "test_samples = np.zeros(shape=(nostest,9,9,512))\n",
    "test_labels = np.zeros(shape=(nostest))\n",
    "for samples_batch,labels_batch in numitest:\n",
    "    g = conv_base.predict(samples_batch)\n",
    "    print(g.shape)\n",
    "    test_samples[::] = g\n",
    "    test_labels[:] = labels_batch\n",
    "    break"
   ]
  },
  {
   "cell_type": "code",
   "execution_count": 42,
   "metadata": {},
   "outputs": [
    {
     "data": {
      "text/plain": [
       "(60, 41472)"
      ]
     },
     "execution_count": 42,
     "metadata": {},
     "output_type": "execute_result"
    }
   ],
   "source": [
    "test_samples = test_samples.reshape(nostest,9*9*512)\n",
    "test_samples.shape"
   ]
  },
  {
   "cell_type": "code",
   "execution_count": 34,
   "metadata": {},
   "outputs": [
    {
     "name": "stdout",
     "output_type": "stream",
     "text": [
      "WARNING:tensorflow:From /home/shouvik/Desktop/DeepLearning/dl/lib/python3.6/site-packages/tensorflow/python/ops/nn_impl.py:180: add_dispatch_support.<locals>.wrapper (from tensorflow.python.ops.array_ops) is deprecated and will be removed in a future version.\n",
      "Instructions for updating:\n",
      "Use tf.where in 2.0, which has the same broadcast rule as np.where\n"
     ]
    }
   ],
   "source": [
    "from keras import models, layers, optimizers\n",
    "model = models.Sequential()\n",
    "model.add(layers.Dense(256, activation = 'relu', input_dim = 9*9*512))\n",
    "model.add(layers.Dropout(0.5))\n",
    "model.add(layers.Dense(1, activation = 'sigmoid'))\n",
    "\n",
    "\n",
    "model.compile(optimizer = optimizers.RMSprop(lr = 2e-5),\n",
    "              loss = 'binary_crossentropy',\n",
    "              metrics = ['acc'])\n",
    "        \n"
   ]
  },
  {
   "cell_type": "code",
   "execution_count": 43,
   "metadata": {},
   "outputs": [
    {
     "name": "stdout",
     "output_type": "stream",
     "text": [
      "Train on 238 samples, validate on 60 samples\n",
      "Epoch 1/30\n",
      "238/238 [==============================] - 1s 6ms/step - loss: 0.6795 - acc: 0.6092 - val_loss: 0.5948 - val_acc: 0.6333\n",
      "Epoch 2/30\n",
      "238/238 [==============================] - 1s 5ms/step - loss: 0.5739 - acc: 0.7185 - val_loss: 0.5578 - val_acc: 0.6833\n",
      "Epoch 3/30\n",
      "238/238 [==============================] - 1s 5ms/step - loss: 0.4614 - acc: 0.8109 - val_loss: 0.4940 - val_acc: 0.8000\n",
      "Epoch 4/30\n",
      "238/238 [==============================] - 1s 5ms/step - loss: 0.4491 - acc: 0.7689 - val_loss: 0.4586 - val_acc: 0.7833\n",
      "Epoch 5/30\n",
      "238/238 [==============================] - 1s 6ms/step - loss: 0.3877 - acc: 0.8529 - val_loss: 0.4382 - val_acc: 0.7833\n",
      "Epoch 6/30\n",
      "238/238 [==============================] - 1s 5ms/step - loss: 0.3755 - acc: 0.8403 - val_loss: 0.4376 - val_acc: 0.8500\n",
      "Epoch 7/30\n",
      "238/238 [==============================] - 1s 6ms/step - loss: 0.3433 - acc: 0.8782 - val_loss: 0.3971 - val_acc: 0.8000\n",
      "Epoch 8/30\n",
      "238/238 [==============================] - 1s 6ms/step - loss: 0.3257 - acc: 0.8529 - val_loss: 0.3874 - val_acc: 0.8167\n",
      "Epoch 9/30\n",
      "238/238 [==============================] - 1s 5ms/step - loss: 0.2978 - acc: 0.8992 - val_loss: 0.3849 - val_acc: 0.8667\n",
      "Epoch 10/30\n",
      "238/238 [==============================] - 1s 5ms/step - loss: 0.2705 - acc: 0.9118 - val_loss: 0.3598 - val_acc: 0.8167\n",
      "Epoch 11/30\n",
      "238/238 [==============================] - 1s 6ms/step - loss: 0.2502 - acc: 0.9328 - val_loss: 0.3575 - val_acc: 0.8333\n",
      "Epoch 12/30\n",
      "238/238 [==============================] - 1s 6ms/step - loss: 0.2416 - acc: 0.9202 - val_loss: 0.3394 - val_acc: 0.8000\n",
      "Epoch 13/30\n",
      "238/238 [==============================] - 1s 5ms/step - loss: 0.2225 - acc: 0.9202 - val_loss: 0.3495 - val_acc: 0.8667\n",
      "Epoch 14/30\n",
      "238/238 [==============================] - 1s 6ms/step - loss: 0.2128 - acc: 0.9370 - val_loss: 0.3333 - val_acc: 0.8333\n",
      "Epoch 15/30\n",
      "238/238 [==============================] - 1s 6ms/step - loss: 0.2019 - acc: 0.9454 - val_loss: 0.3233 - val_acc: 0.8333\n",
      "Epoch 16/30\n",
      "238/238 [==============================] - 1s 6ms/step - loss: 0.2010 - acc: 0.9328 - val_loss: 0.3265 - val_acc: 0.8500\n",
      "Epoch 17/30\n",
      "238/238 [==============================] - 1s 6ms/step - loss: 0.1725 - acc: 0.9538 - val_loss: 0.4037 - val_acc: 0.8000\n",
      "Epoch 18/30\n",
      "238/238 [==============================] - 1s 6ms/step - loss: 0.1512 - acc: 0.9580 - val_loss: 0.3162 - val_acc: 0.8333\n",
      "Epoch 19/30\n",
      "238/238 [==============================] - 1s 5ms/step - loss: 0.1492 - acc: 0.9580 - val_loss: 0.3142 - val_acc: 0.8333\n",
      "Epoch 20/30\n",
      "238/238 [==============================] - 1s 5ms/step - loss: 0.1662 - acc: 0.9454 - val_loss: 0.3209 - val_acc: 0.8667\n",
      "Epoch 21/30\n",
      "238/238 [==============================] - 1s 6ms/step - loss: 0.1350 - acc: 0.9664 - val_loss: 0.3118 - val_acc: 0.8500\n",
      "Epoch 22/30\n",
      "238/238 [==============================] - 1s 6ms/step - loss: 0.1400 - acc: 0.9790 - val_loss: 0.3056 - val_acc: 0.8500\n",
      "Epoch 23/30\n",
      "238/238 [==============================] - 1s 6ms/step - loss: 0.1495 - acc: 0.9538 - val_loss: 0.2981 - val_acc: 0.8500\n",
      "Epoch 24/30\n",
      "238/238 [==============================] - 1s 6ms/step - loss: 0.1127 - acc: 0.9706 - val_loss: 0.3126 - val_acc: 0.8667\n",
      "Epoch 25/30\n",
      "238/238 [==============================] - 1s 6ms/step - loss: 0.1290 - acc: 0.9580 - val_loss: 0.2975 - val_acc: 0.8500\n",
      "Epoch 26/30\n",
      "238/238 [==============================] - 1s 5ms/step - loss: 0.1208 - acc: 0.9664 - val_loss: 0.3885 - val_acc: 0.8667\n",
      "Epoch 27/30\n",
      "238/238 [==============================] - 1s 5ms/step - loss: 0.1190 - acc: 0.9580 - val_loss: 0.3263 - val_acc: 0.8833\n",
      "Epoch 28/30\n",
      "238/238 [==============================] - 1s 5ms/step - loss: 0.1039 - acc: 0.9706 - val_loss: 0.2809 - val_acc: 0.8667\n",
      "Epoch 29/30\n",
      "238/238 [==============================] - 1s 5ms/step - loss: 0.1004 - acc: 0.9790 - val_loss: 0.3279 - val_acc: 0.8833\n",
      "Epoch 30/30\n",
      "238/238 [==============================] - 1s 5ms/step - loss: 0.0899 - acc: 0.9748 - val_loss: 0.2883 - val_acc: 0.8500\n"
     ]
    }
   ],
   "source": [
    "history = model.fit(train_samples, train_labels, epochs = 30, batch_size = 20,\n",
    "                    validation_data = (test_samples, test_labels)\n",
    ")"
   ]
  },
  {
   "cell_type": "code",
   "execution_count": null,
   "metadata": {},
   "outputs": [],
   "source": []
  },
  {
   "cell_type": "code",
   "execution_count": null,
   "metadata": {},
   "outputs": [],
   "source": []
  },
  {
   "cell_type": "code",
   "execution_count": null,
   "metadata": {},
   "outputs": [],
   "source": []
  },
  {
   "cell_type": "code",
   "execution_count": null,
   "metadata": {},
   "outputs": [],
   "source": []
  },
  {
   "cell_type": "code",
   "execution_count": null,
   "metadata": {},
   "outputs": [],
   "source": []
  }
 ],
 "metadata": {
  "kernelspec": {
   "display_name": "Python 3",
   "language": "python",
   "name": "python3"
  },
  "language_info": {
   "codemirror_mode": {
    "name": "ipython",
    "version": 3
   },
   "file_extension": ".py",
   "mimetype": "text/x-python",
   "name": "python",
   "nbconvert_exporter": "python",
   "pygments_lexer": "ipython3",
   "version": "3.6.9"
  }
 },
 "nbformat": 4,
 "nbformat_minor": 4
}
