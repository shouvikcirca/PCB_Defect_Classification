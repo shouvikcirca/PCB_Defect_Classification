{
  "nbformat": 4,
  "nbformat_minor": 0,
  "metadata": {
    "accelerator": "GPU",
    "colab": {
      "name": "DenseNet201_pretrained_ANN2NoDropout.ipynb",
      "provenance": [],
      "toc_visible": true
    },
    "kernelspec": {
      "display_name": "Python 3",
      "language": "python",
      "name": "python3"
    },
    "language_info": {
      "codemirror_mode": {
        "name": "ipython",
        "version": 3
      },
      "file_extension": ".py",
      "mimetype": "text/x-python",
      "name": "python",
      "nbconvert_exporter": "python",
      "pygments_lexer": "ipython3",
      "version": "3.6.9"
    }
  },
  "cells": [
    {
      "cell_type": "code",
      "metadata": {
        "colab_type": "code",
        "id": "mKdW-45kyBEr",
        "colab": {
          "base_uri": "https://localhost:8080/",
          "height": 34
        },
        "outputId": "0c67e258-1b8c-4fec-c32d-b1ad5a820556"
      },
      "source": [
        "import tensorflow as tf\n",
        "import keras \n",
        "from keras.applications import DenseNet201\n",
        "import numpy as np\n",
        "from keras.preprocessing.image import ImageDataGenerator, NumpyArrayIterator\n",
        "from keras.callbacks import EarlyStopping, ModelCheckpoint\n",
        "from sklearn.metrics import confusion_matrix\n",
        "from keras import models, layers, optimizers"
      ],
      "execution_count": 1,
      "outputs": [
        {
          "output_type": "stream",
          "text": [
            "Using TensorFlow backend.\n"
          ],
          "name": "stderr"
        }
      ]
    },
    {
      "cell_type": "code",
      "metadata": {
        "colab_type": "code",
        "id": "O_hWsT8RyBE1",
        "colab": {
          "base_uri": "https://localhost:8080/",
          "height": 51
        },
        "outputId": "d959cb9e-6bf8-4bb1-e015-72cab89b6ba8"
      },
      "source": [
        "conv_base = DenseNet201(weights='imagenet', include_top = False, input_shape=(300,300,3))"
      ],
      "execution_count": 2,
      "outputs": [
        {
          "output_type": "stream",
          "text": [
            "Downloading data from https://github.com/keras-team/keras-applications/releases/download/densenet/densenet201_weights_tf_dim_ordering_tf_kernels_notop.h5\n",
            "74842112/74836368 [==============================] - 3s 0us/step\n"
          ],
          "name": "stdout"
        }
      ]
    },
    {
      "cell_type": "code",
      "metadata": {
        "colab_type": "code",
        "id": "HmJBnMc0yrOl",
        "colab": {}
      },
      "source": [
        "from google.colab import drive\n",
        "drive.mount(\"/content/gdrive/\")"
      ],
      "execution_count": null,
      "outputs": []
    },
    {
      "cell_type": "code",
      "metadata": {
        "colab_type": "code",
        "id": "jZpMhfh0yBFA",
        "colab": {}
      },
      "source": [
        "X = np.load(\"gdrive/My Drive/pcb/xtrain.npy\")\n",
        "y = np.load(\"gdrive/My Drive/pcb/ytrain.npy\")"
      ],
      "execution_count": 5,
      "outputs": []
    },
    {
      "cell_type": "code",
      "metadata": {
        "id": "WBlCl5iJFAIs",
        "colab_type": "code",
        "colab": {
          "base_uri": "https://localhost:8080/",
          "height": 34
        },
        "outputId": "6fb06d85-7ded-47c3-907b-e6fb0de1eecf"
      },
      "source": [
        "conv_base.predict(X[0].reshape(1,300,300,3)).shape"
      ],
      "execution_count": null,
      "outputs": [
        {
          "output_type": "execute_result",
          "data": {
            "text/plain": [
              "(1, 9, 9, 1920)"
            ]
          },
          "metadata": {
            "tags": []
          },
          "execution_count": 28
        }
      ]
    },
    {
      "cell_type": "code",
      "metadata": {
        "id": "gLEHNpSCtRDv",
        "colab_type": "code",
        "colab": {}
      },
      "source": [
        "# Training set has 472 samples"
      ],
      "execution_count": null,
      "outputs": []
    },
    {
      "cell_type": "markdown",
      "metadata": {
        "id": "dH2UMi3oLXRj",
        "colab_type": "text"
      },
      "source": [
        "Training with k-fold Validation"
      ]
    },
    {
      "cell_type": "code",
      "metadata": {
        "id": "ylYElFUN0NfI",
        "colab_type": "code",
        "colab": {
          "base_uri": "https://localhost:8080/",
          "height": 34
        },
        "outputId": "30cfabc9-ff05-444c-9dcd-f274245e4000"
      },
      "source": [
        "X.shape, (y == 0).sum(), (y == 1).sum()"
      ],
      "execution_count": null,
      "outputs": [
        {
          "output_type": "execute_result",
          "data": {
            "text/plain": [
              "((472, 300, 300, 3), 236, 236)"
            ]
          },
          "metadata": {
            "tags": []
          },
          "execution_count": 29
        }
      ]
    },
    {
      "cell_type": "code",
      "metadata": {
        "id": "BeQXJVZL4h7v",
        "colab_type": "code",
        "colab": {}
      },
      "source": [
        "datagen = ImageDataGenerator(\n",
        "    featurewise_center = True,\n",
        "    featurewise_std_normalization = True\n",
        ")\n",
        "\n",
        "\n",
        "datagen.fit(X)"
      ],
      "execution_count": 6,
      "outputs": []
    },
    {
      "cell_type": "code",
      "metadata": {
        "id": "dNpL_TEj5BNb",
        "colab_type": "code",
        "colab": {
          "base_uri": "https://localhost:8080/",
          "height": 153
        },
        "outputId": "f3a84f28-6f54-41be-f39c-924550b6d6a5"
      },
      "source": [
        "nos = X.shape[0]\n",
        "bs = int(nos/8)\n",
        "\n",
        "\n",
        "numit = NumpyArrayIterator(\n",
        "    X, y, datagen, batch_size=bs, shuffle=False, sample_weight=None,\n",
        "    seed=None, data_format=None, save_to_dir=None, save_prefix='',\n",
        "    save_format='png', subset=None, dtype=None\n",
        ")\n",
        "\n",
        "samples = np.zeros(shape=(nos,9,9,1920))\n",
        "labels = np.zeros(shape=(nos))\n",
        "i = 0\n",
        "for samples_batch,labels_batch in numit:\n",
        "    f = conv_base.predict(samples_batch)\n",
        "    print(f.shape)\n",
        "    samples[i*bs:(i+1)*bs] = f\n",
        "    labels[i*bs:(i+1)*bs] = labels_batch\n",
        "    i+=1\n",
        "    if (i*bs)>=nos:\n",
        "        break"
      ],
      "execution_count": 7,
      "outputs": [
        {
          "output_type": "stream",
          "text": [
            "(59, 9, 9, 1920)\n",
            "(59, 9, 9, 1920)\n",
            "(59, 9, 9, 1920)\n",
            "(59, 9, 9, 1920)\n",
            "(59, 9, 9, 1920)\n",
            "(59, 9, 9, 1920)\n",
            "(59, 9, 9, 1920)\n",
            "(59, 9, 9, 1920)\n"
          ],
          "name": "stdout"
        }
      ]
    },
    {
      "cell_type": "code",
      "metadata": {
        "id": "l3RCnShl5iGN",
        "colab_type": "code",
        "colab": {}
      },
      "source": [
        "samples = samples.reshape(nos,9*9*1920)"
      ],
      "execution_count": 8,
      "outputs": []
    },
    {
      "cell_type": "code",
      "metadata": {
        "id": "hoBAWa2K5pXb",
        "colab_type": "code",
        "colab": {
          "base_uri": "https://localhost:8080/",
          "height": 34
        },
        "outputId": "6e7280ec-af02-4d56-c98d-356a0ed14c67"
      },
      "source": [
        "samples.shape, labels.shape"
      ],
      "execution_count": null,
      "outputs": [
        {
          "output_type": "execute_result",
          "data": {
            "text/plain": [
              "((472, 155520), (472,))"
            ]
          },
          "metadata": {
            "tags": []
          },
          "execution_count": 33
        }
      ]
    },
    {
      "cell_type": "code",
      "metadata": {
        "id": "xYLS9aZr_Wbb",
        "colab_type": "code",
        "colab": {}
      },
      "source": [
        "# To save memory\n",
        "del X\n",
        "del y"
      ],
      "execution_count": 9,
      "outputs": []
    },
    {
      "cell_type": "code",
      "metadata": {
        "id": "nSNmJgXP0Ndx",
        "colab_type": "code",
        "colab": {
          "base_uri": "https://localhost:8080/",
          "height": 1000
        },
        "outputId": "63d457b4-1f41-4902-c146-1306b6670e2c"
      },
      "source": [
        "from sklearn.model_selection import StratifiedKFold\n",
        "skf = StratifiedKFold(n_splits=8)\n",
        "\n",
        "accuracies = []\n",
        "f = 1\n",
        "\n",
        "for train_index, test_index in skf.split(samples, labels):\n",
        "        X_train = samples[train_index]\n",
        "        X_test = samples[test_index]\n",
        "        y_train = labels[train_index]\n",
        "        y_test = labels[test_index]\n",
        "      \n",
        "        model = models.Sequential()\n",
        "        model.add(layers.Dense(256, activation = 'relu', input_dim = 9*9*1920))\n",
        "        # model.add(layers.Dropout(0.5))\n",
        "        model.add(layers.Dense(256, activation = 'relu'))\n",
        "        model.add(layers.Dense(128, activation = 'relu'))\n",
        "        model.add(layers.Dense(1, activation = 'sigmoid'))\n",
        "        model.compile(optimizer = optimizers.Adam(lr = 1e-3),loss = 'binary_crossentropy',metrics = ['accuracy'])\n",
        "        my_callbacks = [EarlyStopping(monitor = 'val_loss', patience=5, restore_best_weights=True)]\n",
        "\n",
        "        print('Fold {}'.format(f))\n",
        "        history = model.fit(X_train, y_train, epochs = 100, batch_size = 20, validation_data = (X_test, y_test), shuffle = True, callbacks = my_callbacks)\n",
        "\n",
        "        test_preds = model.predict(X_test, batch_size = 20)\n",
        "        test_predclass = np.array([1.0 if i>0.5 else 0.0 for i in test_preds])\n",
        "\n",
        "        accuracies.append([confusion_matrix(y_test,test_predclass)[0][0]/(y_test == 0.0).sum(), confusion_matrix(y_test,test_predclass)[1][1]/(y_test == 1.0).sum()])\n",
        "        f+=1\n"
      ],
      "execution_count": 10,
      "outputs": [
        {
          "output_type": "stream",
          "text": [
            "Fold 1\n",
            "Train on 413 samples, validate on 59 samples\n",
            "Epoch 1/100\n",
            "413/413 [==============================] - 1s 3ms/step - loss: 5.1104 - accuracy: 0.5811 - val_loss: 8.5515 - val_accuracy: 0.4915\n",
            "Epoch 2/100\n",
            "413/413 [==============================] - 1s 2ms/step - loss: 1.7816 - accuracy: 0.7724 - val_loss: 0.8479 - val_accuracy: 0.7288\n",
            "Epoch 3/100\n",
            "413/413 [==============================] - 1s 2ms/step - loss: 0.2550 - accuracy: 0.9274 - val_loss: 1.4937 - val_accuracy: 0.7458\n",
            "Epoch 4/100\n",
            "413/413 [==============================] - 1s 2ms/step - loss: 0.1036 - accuracy: 0.9588 - val_loss: 0.6023 - val_accuracy: 0.8475\n",
            "Epoch 5/100\n",
            "413/413 [==============================] - 1s 2ms/step - loss: 0.1227 - accuracy: 0.9782 - val_loss: 0.6279 - val_accuracy: 0.7966\n",
            "Epoch 6/100\n",
            "413/413 [==============================] - 1s 2ms/step - loss: 0.0259 - accuracy: 0.9903 - val_loss: 1.0525 - val_accuracy: 0.7458\n",
            "Epoch 7/100\n",
            "413/413 [==============================] - 1s 2ms/step - loss: 0.0294 - accuracy: 0.9903 - val_loss: 0.7270 - val_accuracy: 0.8136\n",
            "Epoch 8/100\n",
            "413/413 [==============================] - 1s 2ms/step - loss: 0.0118 - accuracy: 0.9976 - val_loss: 1.0048 - val_accuracy: 0.7458\n",
            "Epoch 9/100\n",
            "413/413 [==============================] - 1s 2ms/step - loss: 0.0231 - accuracy: 0.9952 - val_loss: 0.7040 - val_accuracy: 0.7797\n",
            "Fold 2\n",
            "Train on 413 samples, validate on 59 samples\n",
            "Epoch 1/100\n",
            "413/413 [==============================] - 1s 2ms/step - loss: 3.6682 - accuracy: 0.6077 - val_loss: 2.9507 - val_accuracy: 0.5932\n",
            "Epoch 2/100\n",
            "413/413 [==============================] - 1s 2ms/step - loss: 1.7766 - accuracy: 0.7433 - val_loss: 0.9355 - val_accuracy: 0.7458\n",
            "Epoch 3/100\n",
            "413/413 [==============================] - 1s 2ms/step - loss: 0.6262 - accuracy: 0.8814 - val_loss: 1.4081 - val_accuracy: 0.7627\n",
            "Epoch 4/100\n",
            "413/413 [==============================] - 1s 2ms/step - loss: 0.3160 - accuracy: 0.9274 - val_loss: 1.0742 - val_accuracy: 0.7119\n",
            "Epoch 5/100\n",
            "413/413 [==============================] - 1s 2ms/step - loss: 0.1653 - accuracy: 0.9661 - val_loss: 1.0518 - val_accuracy: 0.6610\n",
            "Epoch 6/100\n",
            "413/413 [==============================] - 1s 2ms/step - loss: 0.1070 - accuracy: 0.9806 - val_loss: 0.7980 - val_accuracy: 0.7119\n",
            "Epoch 7/100\n",
            "413/413 [==============================] - 1s 2ms/step - loss: 0.0100 - accuracy: 0.9952 - val_loss: 1.1624 - val_accuracy: 0.7458\n",
            "Epoch 8/100\n",
            "413/413 [==============================] - 1s 2ms/step - loss: 0.0189 - accuracy: 0.9952 - val_loss: 1.1161 - val_accuracy: 0.7797\n",
            "Epoch 9/100\n",
            "413/413 [==============================] - 1s 2ms/step - loss: 0.0448 - accuracy: 0.9855 - val_loss: 1.5272 - val_accuracy: 0.7288\n",
            "Epoch 10/100\n",
            "413/413 [==============================] - 1s 2ms/step - loss: 0.0186 - accuracy: 0.9927 - val_loss: 1.3193 - val_accuracy: 0.7627\n",
            "Epoch 11/100\n",
            "413/413 [==============================] - 1s 2ms/step - loss: 0.0594 - accuracy: 0.9903 - val_loss: 1.1120 - val_accuracy: 0.7288\n",
            "Fold 3\n",
            "Train on 413 samples, validate on 59 samples\n",
            "Epoch 1/100\n",
            "413/413 [==============================] - 1s 2ms/step - loss: 2.6670 - accuracy: 0.6634 - val_loss: 1.5166 - val_accuracy: 0.7627\n",
            "Epoch 2/100\n",
            "413/413 [==============================] - 1s 2ms/step - loss: 0.5377 - accuracy: 0.8571 - val_loss: 0.6280 - val_accuracy: 0.8136\n",
            "Epoch 3/100\n",
            "413/413 [==============================] - 1s 2ms/step - loss: 0.3479 - accuracy: 0.9225 - val_loss: 0.9236 - val_accuracy: 0.8136\n",
            "Epoch 4/100\n",
            "413/413 [==============================] - 1s 2ms/step - loss: 0.1931 - accuracy: 0.9492 - val_loss: 1.2325 - val_accuracy: 0.7797\n",
            "Epoch 5/100\n",
            "413/413 [==============================] - 1s 2ms/step - loss: 0.1190 - accuracy: 0.9758 - val_loss: 0.7058 - val_accuracy: 0.7797\n",
            "Epoch 6/100\n",
            "413/413 [==============================] - 1s 2ms/step - loss: 0.0745 - accuracy: 0.9806 - val_loss: 1.1790 - val_accuracy: 0.7458\n",
            "Epoch 7/100\n",
            "413/413 [==============================] - 1s 2ms/step - loss: 0.1256 - accuracy: 0.9637 - val_loss: 0.8759 - val_accuracy: 0.8644\n",
            "Fold 4\n",
            "Train on 413 samples, validate on 59 samples\n",
            "Epoch 1/100\n",
            "413/413 [==============================] - 1s 2ms/step - loss: 4.1967 - accuracy: 0.6465 - val_loss: 0.4386 - val_accuracy: 0.8136\n",
            "Epoch 2/100\n",
            "413/413 [==============================] - 1s 2ms/step - loss: 0.5711 - accuracy: 0.8620 - val_loss: 1.2099 - val_accuracy: 0.7288\n",
            "Epoch 3/100\n",
            "413/413 [==============================] - 1s 2ms/step - loss: 0.3405 - accuracy: 0.8983 - val_loss: 0.6973 - val_accuracy: 0.8136\n",
            "Epoch 4/100\n",
            "413/413 [==============================] - 1s 2ms/step - loss: 0.0902 - accuracy: 0.9734 - val_loss: 0.8139 - val_accuracy: 0.8136\n",
            "Epoch 5/100\n",
            "413/413 [==============================] - 1s 2ms/step - loss: 0.0694 - accuracy: 0.9806 - val_loss: 0.9449 - val_accuracy: 0.7966\n",
            "Epoch 6/100\n",
            "413/413 [==============================] - 1s 2ms/step - loss: 0.0380 - accuracy: 0.9831 - val_loss: 1.1594 - val_accuracy: 0.8136\n",
            "Fold 5\n",
            "Train on 413 samples, validate on 59 samples\n",
            "Epoch 1/100\n",
            "413/413 [==============================] - 1s 2ms/step - loss: 1.9514 - accuracy: 0.6877 - val_loss: 0.6056 - val_accuracy: 0.7288\n",
            "Epoch 2/100\n",
            "413/413 [==============================] - 1s 2ms/step - loss: 0.6010 - accuracy: 0.8329 - val_loss: 0.9359 - val_accuracy: 0.7627\n",
            "Epoch 3/100\n",
            "413/413 [==============================] - 1s 2ms/step - loss: 0.4792 - accuracy: 0.8910 - val_loss: 1.2079 - val_accuracy: 0.7627\n",
            "Epoch 4/100\n",
            "413/413 [==============================] - 1s 2ms/step - loss: 0.1746 - accuracy: 0.9540 - val_loss: 0.6809 - val_accuracy: 0.8136\n",
            "Epoch 5/100\n",
            "413/413 [==============================] - 1s 2ms/step - loss: 0.0734 - accuracy: 0.9782 - val_loss: 1.2156 - val_accuracy: 0.7458\n",
            "Epoch 6/100\n",
            "413/413 [==============================] - 1s 2ms/step - loss: 0.1789 - accuracy: 0.9370 - val_loss: 0.6008 - val_accuracy: 0.8305\n",
            "Epoch 7/100\n",
            "413/413 [==============================] - 1s 2ms/step - loss: 0.0810 - accuracy: 0.9831 - val_loss: 0.9778 - val_accuracy: 0.8305\n",
            "Epoch 8/100\n",
            "413/413 [==============================] - 1s 2ms/step - loss: 0.1491 - accuracy: 0.9855 - val_loss: 0.5938 - val_accuracy: 0.8136\n",
            "Epoch 9/100\n",
            "413/413 [==============================] - 1s 2ms/step - loss: 0.0153 - accuracy: 0.9927 - val_loss: 0.7609 - val_accuracy: 0.8136\n",
            "Epoch 10/100\n",
            "413/413 [==============================] - 1s 2ms/step - loss: 0.0745 - accuracy: 0.9952 - val_loss: 0.8966 - val_accuracy: 0.8136\n",
            "Epoch 11/100\n",
            "413/413 [==============================] - 1s 2ms/step - loss: 0.0307 - accuracy: 0.9952 - val_loss: 1.0574 - val_accuracy: 0.8136\n",
            "Epoch 12/100\n",
            "413/413 [==============================] - 1s 2ms/step - loss: 0.0176 - accuracy: 0.9927 - val_loss: 0.7813 - val_accuracy: 0.8305\n",
            "Epoch 13/100\n",
            "413/413 [==============================] - 1s 2ms/step - loss: 0.0103 - accuracy: 0.9976 - val_loss: 0.8740 - val_accuracy: 0.8475\n",
            "Fold 6\n",
            "Train on 413 samples, validate on 59 samples\n",
            "Epoch 1/100\n",
            "413/413 [==============================] - 1s 2ms/step - loss: 3.3823 - accuracy: 0.6586 - val_loss: 3.0344 - val_accuracy: 0.6441\n",
            "Epoch 2/100\n",
            "413/413 [==============================] - 1s 2ms/step - loss: 1.2228 - accuracy: 0.7918 - val_loss: 1.3121 - val_accuracy: 0.7119\n",
            "Epoch 3/100\n",
            "413/413 [==============================] - 1s 2ms/step - loss: 0.2701 - accuracy: 0.9298 - val_loss: 1.4634 - val_accuracy: 0.7966\n",
            "Epoch 4/100\n",
            "413/413 [==============================] - 1s 2ms/step - loss: 0.0919 - accuracy: 0.9903 - val_loss: 1.2587 - val_accuracy: 0.7797\n",
            "Epoch 5/100\n",
            "413/413 [==============================] - 1s 2ms/step - loss: 0.0508 - accuracy: 0.9927 - val_loss: 1.2353 - val_accuracy: 0.7966\n",
            "Epoch 6/100\n",
            "413/413 [==============================] - 1s 2ms/step - loss: 0.0086 - accuracy: 0.9976 - val_loss: 1.0163 - val_accuracy: 0.7797\n",
            "Epoch 7/100\n",
            "413/413 [==============================] - 1s 2ms/step - loss: 0.0020 - accuracy: 1.0000 - val_loss: 0.7746 - val_accuracy: 0.8305\n",
            "Epoch 8/100\n",
            "413/413 [==============================] - 1s 2ms/step - loss: 0.0026 - accuracy: 1.0000 - val_loss: 1.1419 - val_accuracy: 0.7797\n",
            "Epoch 9/100\n",
            "413/413 [==============================] - 1s 2ms/step - loss: 0.0013 - accuracy: 1.0000 - val_loss: 0.8287 - val_accuracy: 0.8305\n",
            "Epoch 10/100\n",
            "413/413 [==============================] - 1s 2ms/step - loss: 7.9379e-04 - accuracy: 1.0000 - val_loss: 0.9727 - val_accuracy: 0.7966\n",
            "Epoch 11/100\n",
            "413/413 [==============================] - 1s 2ms/step - loss: 6.4354e-04 - accuracy: 1.0000 - val_loss: 0.8993 - val_accuracy: 0.8136\n",
            "Epoch 12/100\n",
            "413/413 [==============================] - 1s 2ms/step - loss: 5.3450e-04 - accuracy: 1.0000 - val_loss: 0.9056 - val_accuracy: 0.8475\n",
            "Fold 7\n",
            "Train on 413 samples, validate on 59 samples\n",
            "Epoch 1/100\n",
            "413/413 [==============================] - 1s 2ms/step - loss: 6.1925 - accuracy: 0.5375 - val_loss: 0.7486 - val_accuracy: 0.6949\n",
            "Epoch 2/100\n",
            "413/413 [==============================] - 1s 2ms/step - loss: 1.1240 - accuracy: 0.7191 - val_loss: 0.6362 - val_accuracy: 0.7288\n",
            "Epoch 3/100\n",
            "413/413 [==============================] - 1s 2ms/step - loss: 0.2673 - accuracy: 0.9056 - val_loss: 0.4613 - val_accuracy: 0.8305\n",
            "Epoch 4/100\n",
            "413/413 [==============================] - 1s 2ms/step - loss: 0.0738 - accuracy: 0.9806 - val_loss: 0.4038 - val_accuracy: 0.8475\n",
            "Epoch 5/100\n",
            "413/413 [==============================] - 1s 2ms/step - loss: 0.0292 - accuracy: 0.9927 - val_loss: 0.4298 - val_accuracy: 0.8475\n",
            "Epoch 6/100\n",
            "413/413 [==============================] - 1s 2ms/step - loss: 0.0459 - accuracy: 0.9903 - val_loss: 0.4595 - val_accuracy: 0.8983\n",
            "Epoch 7/100\n",
            "413/413 [==============================] - 1s 2ms/step - loss: 0.0419 - accuracy: 0.9927 - val_loss: 0.5962 - val_accuracy: 0.8136\n",
            "Epoch 8/100\n",
            "413/413 [==============================] - 1s 2ms/step - loss: 0.0702 - accuracy: 0.9806 - val_loss: 0.4597 - val_accuracy: 0.8644\n",
            "Epoch 9/100\n",
            "413/413 [==============================] - 1s 2ms/step - loss: 0.0540 - accuracy: 0.9879 - val_loss: 0.5228 - val_accuracy: 0.8644\n",
            "Fold 8\n",
            "Train on 413 samples, validate on 59 samples\n",
            "Epoch 1/100\n",
            "413/413 [==============================] - 1s 2ms/step - loss: 3.4692 - accuracy: 0.6344 - val_loss: 0.7409 - val_accuracy: 0.7966\n",
            "Epoch 2/100\n",
            "413/413 [==============================] - 1s 2ms/step - loss: 0.7090 - accuracy: 0.8378 - val_loss: 0.4151 - val_accuracy: 0.9153\n",
            "Epoch 3/100\n",
            "413/413 [==============================] - 1s 2ms/step - loss: 0.2031 - accuracy: 0.9516 - val_loss: 1.1540 - val_accuracy: 0.8136\n",
            "Epoch 4/100\n",
            "413/413 [==============================] - 1s 2ms/step - loss: 0.1606 - accuracy: 0.9564 - val_loss: 0.6573 - val_accuracy: 0.8475\n",
            "Epoch 5/100\n",
            "413/413 [==============================] - 1s 2ms/step - loss: 0.1988 - accuracy: 0.9516 - val_loss: 0.6286 - val_accuracy: 0.8475\n",
            "Epoch 6/100\n",
            "413/413 [==============================] - 1s 2ms/step - loss: 0.0230 - accuracy: 0.9927 - val_loss: 0.8806 - val_accuracy: 0.8305\n",
            "Epoch 7/100\n",
            "413/413 [==============================] - 1s 2ms/step - loss: 0.0516 - accuracy: 0.9855 - val_loss: 0.6560 - val_accuracy: 0.8305\n"
          ],
          "name": "stdout"
        }
      ]
    },
    {
      "cell_type": "code",
      "metadata": {
        "id": "-GvsuoqY0NZL",
        "colab_type": "code",
        "colab": {
          "base_uri": "https://localhost:8080/",
          "height": 34
        },
        "outputId": "a571934c-10db-443c-9a27-97d3421968a1"
      },
      "source": [
        "zero_acc = 0\n",
        "one_acc = 0\n",
        "\n",
        "for i in accuracies:\n",
        "  zero_acc+= i[0]\n",
        "  one_acc+=i[1]\n",
        "\n",
        "zero_acc/=8\n",
        "one_acc/=8\n",
        "\n",
        "print(zero_acc, one_acc)"
      ],
      "execution_count": 11,
      "outputs": [
        {
          "output_type": "stream",
          "text": [
            "0.8518678160919539 0.7958333333333334\n"
          ],
          "name": "stdout"
        }
      ]
    },
    {
      "cell_type": "markdown",
      "metadata": {
        "id": "trKQU8cuMHQV",
        "colab_type": "text"
      },
      "source": [
        "Training on whole Training Dataset"
      ]
    },
    {
      "cell_type": "code",
      "metadata": {
        "id": "ppbMkhK2L0ov",
        "colab_type": "code",
        "colab": {}
      },
      "source": [
        "model = models.Sequential()\n",
        "model.add(layers.Dense(512, activation = 'relu', input_dim = 9*9*1920))\n",
        "# model.add(layers.Dropout(0.5))\n",
        "model.add(layers.Dense(256, activation = 'relu'))\n",
        "model.add(layers.Dense(128, activation = 'relu'))\n",
        "model.add(layers.Dense(1, activation = 'sigmoid'))\n",
        "model.compile(optimizer = optimizers.Adam(lr = 1e-3),loss = 'binary_crossentropy',metrics = ['accuracy'])\n",
        "my_callbacks = [EarlyStopping(monitor = 'val_loss', patience=5, restore_best_weights=True)]\n"
      ],
      "execution_count": 12,
      "outputs": []
    },
    {
      "cell_type": "code",
      "metadata": {
        "id": "Xncnp_xvNgcr",
        "colab_type": "code",
        "colab": {}
      },
      "source": [
        "xtest = np.load('gdrive/My Drive/pcb/xtest.npy')\n",
        "ytest = np.load('gdrive/My Drive/pcb/ytest.npy')\n"
      ],
      "execution_count": 13,
      "outputs": []
    },
    {
      "cell_type": "code",
      "metadata": {
        "id": "SDa1CkJ9NgfS",
        "colab_type": "code",
        "colab": {}
      },
      "source": [
        "datagentest = ImageDataGenerator(\n",
        "    featurewise_center = True,\n",
        "    featurewise_std_normalization = True\n",
        ")"
      ],
      "execution_count": 14,
      "outputs": []
    },
    {
      "cell_type": "code",
      "metadata": {
        "id": "uGEL70FTNglr",
        "colab_type": "code",
        "colab": {}
      },
      "source": [
        "datagentest.fit(xtest)"
      ],
      "execution_count": 15,
      "outputs": []
    },
    {
      "cell_type": "code",
      "metadata": {
        "id": "QS7XpHLiNgoa",
        "colab_type": "code",
        "colab": {
          "base_uri": "https://localhost:8080/",
          "height": 34
        },
        "outputId": "4e5e3736-c46d-4e8f-d121-06dbad75d47d"
      },
      "source": [
        "testnos = ytest.shape[0]\n",
        "\n",
        "numittest = NumpyArrayIterator(\n",
        "    xtest, ytest, datagentest, batch_size=testnos, shuffle=False, sample_weight=None,\n",
        "    seed=None, data_format=None, save_to_dir=None, save_prefix='',\n",
        "    save_format='png', subset=None, dtype=None\n",
        ")\n",
        "\n",
        "\n",
        "test_samples = np.zeros(shape=(testnos,9,9,1920))\n",
        "test_labels = np.zeros(shape=(testnos))\n",
        "for samples_batch,labels_batch in numittest:\n",
        "    g = conv_base.predict(samples_batch)\n",
        "    print(g.shape)\n",
        "    test_samples[::] = g\n",
        "    test_labels[:] = labels_batch\n",
        "    break"
      ],
      "execution_count": 16,
      "outputs": [
        {
          "output_type": "stream",
          "text": [
            "(552, 9, 9, 1920)\n"
          ],
          "name": "stdout"
        }
      ]
    },
    {
      "cell_type": "code",
      "metadata": {
        "id": "0f37VOEUNgki",
        "colab_type": "code",
        "colab": {}
      },
      "source": [
        "test_samples = test_samples.reshape(testnos,9*9*1920)"
      ],
      "execution_count": 17,
      "outputs": []
    },
    {
      "cell_type": "code",
      "metadata": {
        "id": "Ef_xxG8bNgiT",
        "colab_type": "code",
        "colab": {
          "base_uri": "https://localhost:8080/",
          "height": 442
        },
        "outputId": "1586ebb0-b04f-45cd-9f95-a130b2251b17"
      },
      "source": [
        "historytest = model.fit(samples, labels, epochs = 100, batch_size = 20, validation_data = (test_samples, test_labels), shuffle = True,  callbacks = my_callbacks)"
      ],
      "execution_count": 18,
      "outputs": [
        {
          "output_type": "stream",
          "text": [
            "Train on 472 samples, validate on 552 samples\n",
            "Epoch 1/100\n",
            "472/472 [==============================] - 2s 4ms/step - loss: 5.1656 - accuracy: 0.6398 - val_loss: 4.9667 - val_accuracy: 0.4022\n",
            "Epoch 2/100\n",
            "472/472 [==============================] - 2s 4ms/step - loss: 1.6029 - accuracy: 0.7754 - val_loss: 1.4279 - val_accuracy: 0.8931\n",
            "Epoch 3/100\n",
            "472/472 [==============================] - 2s 4ms/step - loss: 1.0214 - accuracy: 0.8517 - val_loss: 1.8200 - val_accuracy: 0.6594\n",
            "Epoch 4/100\n",
            "472/472 [==============================] - 2s 4ms/step - loss: 0.2130 - accuracy: 0.9258 - val_loss: 1.0503 - val_accuracy: 0.7663\n",
            "Epoch 5/100\n",
            "472/472 [==============================] - 2s 4ms/step - loss: 0.1791 - accuracy: 0.9619 - val_loss: 1.9064 - val_accuracy: 0.6594\n",
            "Epoch 6/100\n",
            "472/472 [==============================] - 2s 4ms/step - loss: 0.1265 - accuracy: 0.9703 - val_loss: 1.0348 - val_accuracy: 0.8478\n",
            "Epoch 7/100\n",
            "472/472 [==============================] - 2s 4ms/step - loss: 0.0784 - accuracy: 0.9831 - val_loss: 0.7893 - val_accuracy: 0.8569\n",
            "Epoch 8/100\n",
            "472/472 [==============================] - 2s 4ms/step - loss: 0.0499 - accuracy: 0.9936 - val_loss: 1.0120 - val_accuracy: 0.8043\n",
            "Epoch 9/100\n",
            "472/472 [==============================] - 2s 4ms/step - loss: 0.0225 - accuracy: 0.9936 - val_loss: 1.1518 - val_accuracy: 0.7899\n",
            "Epoch 10/100\n",
            "472/472 [==============================] - 2s 4ms/step - loss: 0.0177 - accuracy: 0.9958 - val_loss: 1.2485 - val_accuracy: 0.7790\n",
            "Epoch 11/100\n",
            "472/472 [==============================] - 2s 4ms/step - loss: 0.0183 - accuracy: 0.9958 - val_loss: 1.0950 - val_accuracy: 0.7971\n",
            "Epoch 12/100\n",
            "472/472 [==============================] - 2s 4ms/step - loss: 0.0092 - accuracy: 0.9936 - val_loss: 1.4001 - val_accuracy: 0.7500\n"
          ],
          "name": "stdout"
        }
      ]
    },
    {
      "cell_type": "code",
      "metadata": {
        "id": "jgbhA0dtNgaq",
        "colab_type": "code",
        "colab": {}
      },
      "source": [
        "test_preds = model.predict(test_samples, batch_size = 20)"
      ],
      "execution_count": 19,
      "outputs": []
    },
    {
      "cell_type": "code",
      "metadata": {
        "id": "I3oZ2uIBOrsm",
        "colab_type": "code",
        "colab": {}
      },
      "source": [
        "test_predclass = np.array([1.0 if i>0.5 else 0.0 for i in test_preds])"
      ],
      "execution_count": 20,
      "outputs": []
    },
    {
      "cell_type": "code",
      "metadata": {
        "id": "B9pW68K3Orxg",
        "colab_type": "code",
        "colab": {
          "base_uri": "https://localhost:8080/",
          "height": 34
        },
        "outputId": "87eeae8e-64bf-4161-a287-160d779ba10e"
      },
      "source": [
        "confusion_matrix(test_labels,test_predclass)[0][0]/(ytest == 0.0).sum(), confusion_matrix(test_labels,test_predclass)[1][1]/(ytest == 1.0).sum()"
      ],
      "execution_count": 21,
      "outputs": [
        {
          "output_type": "execute_result",
          "data": {
            "text/plain": [
              "(0.6440677966101694, 0.8823529411764706)"
            ]
          },
          "metadata": {
            "tags": []
          },
          "execution_count": 21
        }
      ]
    },
    {
      "cell_type": "code",
      "metadata": {
        "id": "MxapdKZhOr0Q",
        "colab_type": "code",
        "colab": {}
      },
      "source": [
        "# Saving model\n",
        "\n",
        "# model_json = model.to_json()\n",
        "# with open(\"gdrive/My Drive/models/VGG19_12.json\", \"w\") as json_file:\n",
        "#     json_file.write(model_json)"
      ],
      "execution_count": null,
      "outputs": []
    },
    {
      "cell_type": "code",
      "metadata": {
        "id": "rybw7Ry7Or2f",
        "colab_type": "code",
        "colab": {}
      },
      "source": [
        "# model.save_weights(\"gdrive/My Drive/models/VGG19_12.h5\")\n",
        "# print(\"Saved model to disk\")"
      ],
      "execution_count": null,
      "outputs": []
    },
    {
      "cell_type": "code",
      "metadata": {
        "id": "CumEUxIaOrve",
        "colab_type": "code",
        "colab": {}
      },
      "source": [
        "# Saving and loading models\n",
        "# https://machinelearningmastery.com/save-load-keras-deep-learning-models/"
      ],
      "execution_count": null,
      "outputs": []
    },
    {
      "cell_type": "code",
      "metadata": {
        "id": "xRJWd9bUHWa7",
        "colab_type": "code",
        "colab": {}
      },
      "source": [
        ""
      ],
      "execution_count": null,
      "outputs": []
    },
    {
      "cell_type": "code",
      "metadata": {
        "id": "hcaOhs5bHWfg",
        "colab_type": "code",
        "colab": {
          "base_uri": "https://localhost:8080/",
          "height": 163
        },
        "outputId": "674f23c9-755b-42a5-8450-34eb9f83a091"
      },
      "source": [
        ""
      ],
      "execution_count": null,
      "outputs": [
        {
          "output_type": "error",
          "ename": "TypeError",
          "evalue": "ignored",
          "traceback": [
            "\u001b[0;31m---------------------------------------------------------------------------\u001b[0m",
            "\u001b[0;31mTypeError\u001b[0m                                 Traceback (most recent call last)",
            "\u001b[0;32m<ipython-input-15-010bb633e7c3>\u001b[0m in \u001b[0;36m<module>\u001b[0;34m()\u001b[0m\n\u001b[0;32m----> 1\u001b[0;31m \u001b[0mx\u001b[0m\u001b[0;34m(\u001b[0m\u001b[0ma\u001b[0m\u001b[0;34m)\u001b[0m\u001b[0;34m\u001b[0m\u001b[0;34m\u001b[0m\u001b[0m\n\u001b[0m",
            "\u001b[0;31mTypeError\u001b[0m: 'Tensor' object is not callable"
          ]
        }
      ]
    },
    {
      "cell_type": "code",
      "metadata": {
        "id": "Oech-RU0HWhX",
        "colab_type": "code",
        "colab": {}
      },
      "source": [
        ""
      ],
      "execution_count": null,
      "outputs": []
    }
  ]
}