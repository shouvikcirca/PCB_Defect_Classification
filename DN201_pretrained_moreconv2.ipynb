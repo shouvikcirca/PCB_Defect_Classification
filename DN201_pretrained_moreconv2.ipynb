{
  "nbformat": 4,
  "nbformat_minor": 0,
  "metadata": {
    "accelerator": "GPU",
    "colab": {
      "name": "DN201_pretrained_moreconv2.ipynb",
      "provenance": [],
      "toc_visible": true
    },
    "kernelspec": {
      "display_name": "Python 3",
      "language": "python",
      "name": "python3"
    },
    "language_info": {
      "codemirror_mode": {
        "name": "ipython",
        "version": 3
      },
      "file_extension": ".py",
      "mimetype": "text/x-python",
      "name": "python",
      "nbconvert_exporter": "python",
      "pygments_lexer": "ipython3",
      "version": "3.6.9"
    }
  },
  "cells": [
    {
      "cell_type": "code",
      "metadata": {
        "colab_type": "code",
        "id": "mKdW-45kyBEr",
        "colab": {}
      },
      "source": [
        "import tensorflow as tf\n",
        "import keras \n",
        "from keras.applications import DenseNet201\n",
        "import numpy as np\n",
        "from keras.preprocessing.image import ImageDataGenerator, NumpyArrayIterator\n",
        "from keras.callbacks import EarlyStopping, ModelCheckpoint\n",
        "from sklearn.metrics import confusion_matrix\n",
        "from keras import models, layers, optimizers, Input\n",
        "from keras.layers import Conv2D\n",
        "from keras.layers import MaxPooling2D\n",
        "from tensorflow.keras import activations"
      ],
      "execution_count": 9,
      "outputs": []
    },
    {
      "cell_type": "code",
      "metadata": {
        "colab_type": "code",
        "id": "O_hWsT8RyBE1",
        "colab": {}
      },
      "source": [
        "conv_base = DenseNet201(weights='imagenet', include_top = False, input_shape=(300,300,3))"
      ],
      "execution_count": 2,
      "outputs": []
    },
    {
      "cell_type": "code",
      "metadata": {
        "colab_type": "code",
        "id": "HmJBnMc0yrOl",
        "colab": {
          "base_uri": "https://localhost:8080/",
          "height": 122
        },
        "outputId": "8f0416e1-760d-4c48-b33d-72c2fbed3a28"
      },
      "source": [
        "from google.colab import drive\n",
        "drive.mount(\"/content/gdrive/\")"
      ],
      "execution_count": 5,
      "outputs": [
        {
          "output_type": "stream",
          "text": [
            "Go to this URL in a browser: https://accounts.google.com/o/oauth2/auth?client_id=947318989803-6bn6qk8qdgf4n4g3pfee6491hc0brc4i.apps.googleusercontent.com&redirect_uri=urn%3aietf%3awg%3aoauth%3a2.0%3aoob&response_type=code&scope=email%20https%3a%2f%2fwww.googleapis.com%2fauth%2fdocs.test%20https%3a%2f%2fwww.googleapis.com%2fauth%2fdrive%20https%3a%2f%2fwww.googleapis.com%2fauth%2fdrive.photos.readonly%20https%3a%2f%2fwww.googleapis.com%2fauth%2fpeopleapi.readonly\n",
            "\n",
            "Enter your authorization code:\n",
            "··········\n",
            "Mounted at /content/gdrive/\n"
          ],
          "name": "stdout"
        }
      ]
    },
    {
      "cell_type": "code",
      "metadata": {
        "colab_type": "code",
        "id": "jZpMhfh0yBFA",
        "colab": {}
      },
      "source": [
        "X = np.load(\"gdrive/My Drive/pcb/xtrain.npy\")\n",
        "y = np.load(\"gdrive/My Drive/pcb/ytrain.npy\")"
      ],
      "execution_count": 3,
      "outputs": []
    },
    {
      "cell_type": "code",
      "metadata": {
        "id": "WBlCl5iJFAIs",
        "colab_type": "code",
        "colab": {
          "base_uri": "https://localhost:8080/",
          "height": 34
        },
        "outputId": "6fb06d85-7ded-47c3-907b-e6fb0de1eecf"
      },
      "source": [
        "conv_base.predict(X[0].reshape(1,300,300,3)).shape"
      ],
      "execution_count": null,
      "outputs": [
        {
          "output_type": "execute_result",
          "data": {
            "text/plain": [
              "(1, 9, 9, 1920)"
            ]
          },
          "metadata": {
            "tags": []
          },
          "execution_count": 28
        }
      ]
    },
    {
      "cell_type": "code",
      "metadata": {
        "id": "gLEHNpSCtRDv",
        "colab_type": "code",
        "colab": {}
      },
      "source": [
        "# Training set has 472 samples"
      ],
      "execution_count": null,
      "outputs": []
    },
    {
      "cell_type": "markdown",
      "metadata": {
        "id": "dH2UMi3oLXRj",
        "colab_type": "text"
      },
      "source": [
        "Training with k-fold Validation"
      ]
    },
    {
      "cell_type": "code",
      "metadata": {
        "id": "ylYElFUN0NfI",
        "colab_type": "code",
        "colab": {
          "base_uri": "https://localhost:8080/",
          "height": 34
        },
        "outputId": "30cfabc9-ff05-444c-9dcd-f274245e4000"
      },
      "source": [
        "X.shape, (y == 0).sum(), (y == 1).sum()"
      ],
      "execution_count": null,
      "outputs": [
        {
          "output_type": "execute_result",
          "data": {
            "text/plain": [
              "((472, 300, 300, 3), 236, 236)"
            ]
          },
          "metadata": {
            "tags": []
          },
          "execution_count": 29
        }
      ]
    },
    {
      "cell_type": "code",
      "metadata": {
        "id": "BeQXJVZL4h7v",
        "colab_type": "code",
        "colab": {}
      },
      "source": [
        "datagen = ImageDataGenerator(\n",
        "    featurewise_center = True,\n",
        "    featurewise_std_normalization = True\n",
        ")\n",
        "\n",
        "\n",
        "datagen.fit(X)"
      ],
      "execution_count": 4,
      "outputs": []
    },
    {
      "cell_type": "code",
      "metadata": {
        "id": "dNpL_TEj5BNb",
        "colab_type": "code",
        "colab": {
          "base_uri": "https://localhost:8080/",
          "height": 153
        },
        "outputId": "53c4e768-5511-4da0-88f0-c2f39a449851"
      },
      "source": [
        "nos = X.shape[0]\n",
        "bs = int(nos/8)\n",
        "\n",
        "\n",
        "numit = NumpyArrayIterator(\n",
        "    X, y, datagen, batch_size=bs, shuffle=False, sample_weight=None,\n",
        "    seed=None, data_format=None, save_to_dir=None, save_prefix='',\n",
        "    save_format='png', subset=None, dtype=None\n",
        ")\n",
        "\n",
        "samples = np.zeros(shape=(nos,9,9,1920))\n",
        "labels = np.zeros(shape=(nos))\n",
        "i = 0\n",
        "for samples_batch,labels_batch in numit:\n",
        "    f = conv_base.predict(samples_batch)\n",
        "    print(f.shape)\n",
        "    samples[i*bs:(i+1)*bs] = f\n",
        "    labels[i*bs:(i+1)*bs] = labels_batch\n",
        "    i+=1\n",
        "    if (i*bs)>=nos:\n",
        "        break"
      ],
      "execution_count": 5,
      "outputs": [
        {
          "output_type": "stream",
          "text": [
            "(59, 9, 9, 1920)\n",
            "(59, 9, 9, 1920)\n",
            "(59, 9, 9, 1920)\n",
            "(59, 9, 9, 1920)\n",
            "(59, 9, 9, 1920)\n",
            "(59, 9, 9, 1920)\n",
            "(59, 9, 9, 1920)\n",
            "(59, 9, 9, 1920)\n"
          ],
          "name": "stdout"
        }
      ]
    },
    {
      "cell_type": "code",
      "metadata": {
        "id": "hoBAWa2K5pXb",
        "colab_type": "code",
        "colab": {
          "base_uri": "https://localhost:8080/",
          "height": 34
        },
        "outputId": "6e7280ec-af02-4d56-c98d-356a0ed14c67"
      },
      "source": [
        "samples.shape, labels.shape"
      ],
      "execution_count": null,
      "outputs": [
        {
          "output_type": "execute_result",
          "data": {
            "text/plain": [
              "((472, 155520), (472,))"
            ]
          },
          "metadata": {
            "tags": []
          },
          "execution_count": 33
        }
      ]
    },
    {
      "cell_type": "code",
      "metadata": {
        "id": "xYLS9aZr_Wbb",
        "colab_type": "code",
        "colab": {}
      },
      "source": [
        "# To save memory\n",
        "del X\n",
        "del y"
      ],
      "execution_count": 6,
      "outputs": []
    },
    {
      "cell_type": "code",
      "metadata": {
        "id": "nSNmJgXP0Ndx",
        "colab_type": "code",
        "colab": {
          "base_uri": "https://localhost:8080/",
          "height": 1000
        },
        "outputId": "a5ee4f8d-180a-4b26-f4bb-42a06505bbee"
      },
      "source": [
        "from sklearn.model_selection import StratifiedKFold\n",
        "skf = StratifiedKFold(n_splits=8)\n",
        "\n",
        "accuracies = []\n",
        "f = 1\n",
        "\n",
        "for train_index, test_index in skf.split(samples, labels):\n",
        "        X_train = samples[train_index]\n",
        "        X_test = samples[test_index]\n",
        "        y_train = labels[train_index]\n",
        "        y_test = labels[test_index]\n",
        "      \n",
        "        model = models.Sequential()\n",
        "        model.add(layers.Conv2D(64, (2, 2), input_shape=(9, 9, 1920)))\n",
        "        model.add(layers.BatchNormalization())\n",
        "        model.add(layers.Activation(activations.relu))\n",
        "        model.add(layers.MaxPooling2D((2, 2)))\n",
        "        model.add(layers.Conv2D(256, (2, 2)))\n",
        "        model.add(layers.BatchNormalization())\n",
        "        model.add(layers.Activation(activations.relu))\n",
        "        model.add(layers.MaxPooling2D((2, 2)))\n",
        "        model.add(layers.Flatten())\n",
        "        model.add(layers.Dense(128, activation='relu'))\n",
        "        model.add(layers.Dense(64, activation='relu'))\n",
        "        model.add(layers.Dense(1, activation='sigmoid'))\n",
        "\n",
        "        model.compile(optimizer = optimizers.Adam(lr = 1e-3),loss = 'binary_crossentropy',metrics = ['accuracy'])\n",
        "        my_callbacks = [EarlyStopping(monitor = 'val_loss', patience=5, restore_best_weights=True)]\n",
        "\n",
        "        print('Fold {}'.format(f))\n",
        "        history = model.fit(X_train, y_train, epochs = 100, batch_size = 20, validation_data = (X_test, y_test), shuffle = True, callbacks = my_callbacks)\n",
        "\n",
        "        test_preds = model.predict(X_test, batch_size = 20)\n",
        "        test_predclass = np.array([1.0 if i>0.5 else 0.0 for i in test_preds])\n",
        "\n",
        "        accuracies.append([confusion_matrix(y_test,test_predclass)[0][0]/(y_test == 0.0).sum(), confusion_matrix(y_test,test_predclass)[1][1]/(y_test == 1.0).sum()])\n",
        "        f+=1\n"
      ],
      "execution_count": 10,
      "outputs": [
        {
          "output_type": "stream",
          "text": [
            "Fold 1\n",
            "Train on 413 samples, validate on 59 samples\n",
            "Epoch 1/100\n",
            "413/413 [==============================] - 1s 3ms/step - loss: 0.5279 - accuracy: 0.7264 - val_loss: 0.4290 - val_accuracy: 0.8136\n",
            "Epoch 2/100\n",
            "413/413 [==============================] - 1s 1ms/step - loss: 0.2327 - accuracy: 0.9080 - val_loss: 0.3861 - val_accuracy: 0.8983\n",
            "Epoch 3/100\n",
            "413/413 [==============================] - 0s 1ms/step - loss: 0.0946 - accuracy: 0.9685 - val_loss: 0.5037 - val_accuracy: 0.8305\n",
            "Epoch 4/100\n",
            "413/413 [==============================] - 1s 1ms/step - loss: 0.0407 - accuracy: 0.9879 - val_loss: 0.3583 - val_accuracy: 0.8475\n",
            "Epoch 5/100\n",
            "413/413 [==============================] - 1s 1ms/step - loss: 0.0520 - accuracy: 0.9806 - val_loss: 0.4179 - val_accuracy: 0.8475\n",
            "Epoch 6/100\n",
            "413/413 [==============================] - 1s 1ms/step - loss: 0.0735 - accuracy: 0.9806 - val_loss: 0.5418 - val_accuracy: 0.8814\n",
            "Epoch 7/100\n",
            "413/413 [==============================] - 1s 1ms/step - loss: 0.0283 - accuracy: 0.9855 - val_loss: 0.5583 - val_accuracy: 0.8475\n",
            "Epoch 8/100\n",
            "413/413 [==============================] - 1s 1ms/step - loss: 0.0749 - accuracy: 0.9806 - val_loss: 0.4956 - val_accuracy: 0.8475\n",
            "Epoch 9/100\n",
            "413/413 [==============================] - 1s 1ms/step - loss: 0.0359 - accuracy: 0.9903 - val_loss: 0.8059 - val_accuracy: 0.8305\n",
            "Fold 2\n",
            "Train on 413 samples, validate on 59 samples\n",
            "Epoch 1/100\n",
            "413/413 [==============================] - 1s 2ms/step - loss: 0.5794 - accuracy: 0.6804 - val_loss: 0.6010 - val_accuracy: 0.6610\n",
            "Epoch 2/100\n",
            "413/413 [==============================] - 0s 1ms/step - loss: 0.2739 - accuracy: 0.9128 - val_loss: 0.5655 - val_accuracy: 0.6949\n",
            "Epoch 3/100\n",
            "413/413 [==============================] - 0s 1ms/step - loss: 0.1145 - accuracy: 0.9734 - val_loss: 0.4876 - val_accuracy: 0.7797\n",
            "Epoch 4/100\n",
            "413/413 [==============================] - 1s 1ms/step - loss: 0.0457 - accuracy: 0.9879 - val_loss: 0.5754 - val_accuracy: 0.7458\n",
            "Epoch 5/100\n",
            "413/413 [==============================] - 0s 1ms/step - loss: 0.0278 - accuracy: 0.9903 - val_loss: 0.4777 - val_accuracy: 0.7966\n",
            "Epoch 6/100\n",
            "413/413 [==============================] - 0s 1ms/step - loss: 0.0273 - accuracy: 0.9855 - val_loss: 1.1482 - val_accuracy: 0.7119\n",
            "Epoch 7/100\n",
            "413/413 [==============================] - 1s 1ms/step - loss: 0.0316 - accuracy: 0.9879 - val_loss: 0.7242 - val_accuracy: 0.7797\n",
            "Epoch 8/100\n",
            "413/413 [==============================] - 0s 1ms/step - loss: 0.0357 - accuracy: 0.9903 - val_loss: 0.8747 - val_accuracy: 0.7797\n",
            "Epoch 9/100\n",
            "413/413 [==============================] - 1s 1ms/step - loss: 0.0210 - accuracy: 0.9952 - val_loss: 0.7264 - val_accuracy: 0.7797\n",
            "Epoch 10/100\n",
            "413/413 [==============================] - 1s 1ms/step - loss: 0.0161 - accuracy: 0.9952 - val_loss: 0.7597 - val_accuracy: 0.7797\n",
            "Fold 3\n",
            "Train on 413 samples, validate on 59 samples\n",
            "Epoch 1/100\n",
            "413/413 [==============================] - 1s 2ms/step - loss: 0.5397 - accuracy: 0.7215 - val_loss: 0.4650 - val_accuracy: 0.7288\n",
            "Epoch 2/100\n",
            "413/413 [==============================] - 0s 1ms/step - loss: 0.2247 - accuracy: 0.9249 - val_loss: 0.5124 - val_accuracy: 0.7627\n",
            "Epoch 3/100\n",
            "413/413 [==============================] - 0s 1ms/step - loss: 0.1196 - accuracy: 0.9637 - val_loss: 0.5161 - val_accuracy: 0.7966\n",
            "Epoch 4/100\n",
            "413/413 [==============================] - 0s 1ms/step - loss: 0.0580 - accuracy: 0.9855 - val_loss: 0.4252 - val_accuracy: 0.8475\n",
            "Epoch 5/100\n",
            "413/413 [==============================] - 0s 1ms/step - loss: 0.0614 - accuracy: 0.9782 - val_loss: 0.5575 - val_accuracy: 0.8644\n",
            "Epoch 6/100\n",
            "413/413 [==============================] - 0s 1ms/step - loss: 0.0593 - accuracy: 0.9806 - val_loss: 0.4984 - val_accuracy: 0.8644\n",
            "Epoch 7/100\n",
            "413/413 [==============================] - 0s 1ms/step - loss: 0.0622 - accuracy: 0.9758 - val_loss: 0.7397 - val_accuracy: 0.8475\n",
            "Epoch 8/100\n",
            "413/413 [==============================] - 0s 1ms/step - loss: 0.0152 - accuracy: 0.9976 - val_loss: 0.8204 - val_accuracy: 0.8644\n",
            "Epoch 9/100\n",
            "413/413 [==============================] - 0s 1ms/step - loss: 0.0115 - accuracy: 0.9976 - val_loss: 0.8071 - val_accuracy: 0.8305\n",
            "Fold 4\n",
            "Train on 413 samples, validate on 59 samples\n",
            "Epoch 1/100\n",
            "413/413 [==============================] - 1s 3ms/step - loss: 0.5234 - accuracy: 0.7143 - val_loss: 0.4789 - val_accuracy: 0.7966\n",
            "Epoch 2/100\n",
            "413/413 [==============================] - 0s 1ms/step - loss: 0.2170 - accuracy: 0.9274 - val_loss: 0.4926 - val_accuracy: 0.7797\n",
            "Epoch 3/100\n",
            "413/413 [==============================] - 0s 1ms/step - loss: 0.1385 - accuracy: 0.9346 - val_loss: 0.5798 - val_accuracy: 0.7627\n",
            "Epoch 4/100\n",
            "413/413 [==============================] - 0s 1ms/step - loss: 0.0978 - accuracy: 0.9661 - val_loss: 0.4889 - val_accuracy: 0.8305\n",
            "Epoch 5/100\n",
            "413/413 [==============================] - 0s 1ms/step - loss: 0.0433 - accuracy: 0.9879 - val_loss: 0.6643 - val_accuracy: 0.7966\n",
            "Epoch 6/100\n",
            "413/413 [==============================] - 1s 1ms/step - loss: 0.0341 - accuracy: 0.9927 - val_loss: 0.6959 - val_accuracy: 0.8475\n",
            "Fold 5\n",
            "Train on 413 samples, validate on 59 samples\n",
            "Epoch 1/100\n",
            "413/413 [==============================] - 1s 2ms/step - loss: 0.5264 - accuracy: 0.7191 - val_loss: 0.5779 - val_accuracy: 0.6271\n",
            "Epoch 2/100\n",
            "413/413 [==============================] - 0s 1ms/step - loss: 0.1947 - accuracy: 0.9540 - val_loss: 0.3560 - val_accuracy: 0.7966\n",
            "Epoch 3/100\n",
            "413/413 [==============================] - 0s 1ms/step - loss: 0.0884 - accuracy: 0.9758 - val_loss: 0.7955 - val_accuracy: 0.7119\n",
            "Epoch 4/100\n",
            "413/413 [==============================] - 0s 1ms/step - loss: 0.0813 - accuracy: 0.9831 - val_loss: 0.5850 - val_accuracy: 0.8305\n",
            "Epoch 5/100\n",
            "413/413 [==============================] - 0s 1ms/step - loss: 0.0472 - accuracy: 0.9831 - val_loss: 0.6219 - val_accuracy: 0.8136\n",
            "Epoch 6/100\n",
            "413/413 [==============================] - 0s 1ms/step - loss: 0.0580 - accuracy: 0.9806 - val_loss: 0.9107 - val_accuracy: 0.7627\n",
            "Epoch 7/100\n",
            "413/413 [==============================] - 0s 1ms/step - loss: 0.0278 - accuracy: 0.9927 - val_loss: 0.7310 - val_accuracy: 0.8305\n",
            "Fold 6\n",
            "Train on 413 samples, validate on 59 samples\n",
            "Epoch 1/100\n",
            "413/413 [==============================] - 1s 2ms/step - loss: 0.5102 - accuracy: 0.7337 - val_loss: 0.6289 - val_accuracy: 0.7288\n",
            "Epoch 2/100\n",
            "413/413 [==============================] - 0s 1ms/step - loss: 0.2399 - accuracy: 0.9007 - val_loss: 0.6178 - val_accuracy: 0.7288\n",
            "Epoch 3/100\n",
            "413/413 [==============================] - 0s 1ms/step - loss: 0.1019 - accuracy: 0.9685 - val_loss: 0.6834 - val_accuracy: 0.7627\n",
            "Epoch 4/100\n",
            "413/413 [==============================] - 0s 1ms/step - loss: 0.0363 - accuracy: 0.9879 - val_loss: 0.7877 - val_accuracy: 0.7458\n",
            "Epoch 5/100\n",
            "413/413 [==============================] - 0s 1ms/step - loss: 0.0750 - accuracy: 0.9806 - val_loss: 1.2436 - val_accuracy: 0.6441\n",
            "Epoch 6/100\n",
            "413/413 [==============================] - 0s 1ms/step - loss: 0.0387 - accuracy: 0.9903 - val_loss: 0.5300 - val_accuracy: 0.7966\n",
            "Epoch 7/100\n",
            "413/413 [==============================] - 0s 1ms/step - loss: 0.0109 - accuracy: 0.9976 - val_loss: 0.6129 - val_accuracy: 0.8305\n",
            "Epoch 8/100\n",
            "413/413 [==============================] - 0s 1ms/step - loss: 0.0178 - accuracy: 0.9952 - val_loss: 0.9093 - val_accuracy: 0.8305\n",
            "Epoch 9/100\n",
            "413/413 [==============================] - 0s 1ms/step - loss: 0.0241 - accuracy: 0.9903 - val_loss: 0.9998 - val_accuracy: 0.7966\n",
            "Epoch 10/100\n",
            "413/413 [==============================] - 0s 1ms/step - loss: 0.0524 - accuracy: 0.9806 - val_loss: 1.6654 - val_accuracy: 0.6271\n",
            "Epoch 11/100\n",
            "413/413 [==============================] - 0s 1ms/step - loss: 0.0511 - accuracy: 0.9831 - val_loss: 0.8975 - val_accuracy: 0.7966\n",
            "Fold 7\n",
            "Train on 413 samples, validate on 59 samples\n",
            "Epoch 1/100\n",
            "413/413 [==============================] - 1s 2ms/step - loss: 0.5157 - accuracy: 0.7409 - val_loss: 0.5342 - val_accuracy: 0.7627\n",
            "Epoch 2/100\n",
            "413/413 [==============================] - 1s 1ms/step - loss: 0.2048 - accuracy: 0.9322 - val_loss: 0.5036 - val_accuracy: 0.8475\n",
            "Epoch 3/100\n",
            "413/413 [==============================] - 0s 1ms/step - loss: 0.1204 - accuracy: 0.9516 - val_loss: 0.4588 - val_accuracy: 0.8475\n",
            "Epoch 4/100\n",
            "413/413 [==============================] - 0s 1ms/step - loss: 0.0756 - accuracy: 0.9782 - val_loss: 0.4427 - val_accuracy: 0.8814\n",
            "Epoch 5/100\n",
            "413/413 [==============================] - 0s 1ms/step - loss: 0.0402 - accuracy: 0.9927 - val_loss: 0.4271 - val_accuracy: 0.8814\n",
            "Epoch 6/100\n",
            "413/413 [==============================] - 0s 1ms/step - loss: 0.0203 - accuracy: 0.9952 - val_loss: 0.4740 - val_accuracy: 0.8644\n",
            "Epoch 7/100\n",
            "413/413 [==============================] - 0s 1ms/step - loss: 0.0112 - accuracy: 0.9976 - val_loss: 0.5056 - val_accuracy: 0.8814\n",
            "Epoch 8/100\n",
            "413/413 [==============================] - 0s 1ms/step - loss: 0.0193 - accuracy: 0.9952 - val_loss: 0.4846 - val_accuracy: 0.8814\n",
            "Epoch 9/100\n",
            "413/413 [==============================] - 0s 1ms/step - loss: 0.0090 - accuracy: 0.9952 - val_loss: 0.5022 - val_accuracy: 0.8814\n",
            "Epoch 10/100\n",
            "413/413 [==============================] - 0s 1ms/step - loss: 0.0074 - accuracy: 0.9952 - val_loss: 0.5312 - val_accuracy: 0.8814\n",
            "Fold 8\n",
            "Train on 413 samples, validate on 59 samples\n",
            "Epoch 1/100\n",
            "413/413 [==============================] - 1s 3ms/step - loss: 0.5641 - accuracy: 0.7167 - val_loss: 0.4890 - val_accuracy: 0.7458\n",
            "Epoch 2/100\n",
            "413/413 [==============================] - 0s 1ms/step - loss: 0.2791 - accuracy: 0.8765 - val_loss: 0.4264 - val_accuracy: 0.8136\n",
            "Epoch 3/100\n",
            "413/413 [==============================] - 0s 1ms/step - loss: 0.1278 - accuracy: 0.9564 - val_loss: 0.4503 - val_accuracy: 0.8305\n",
            "Epoch 4/100\n",
            "413/413 [==============================] - 0s 1ms/step - loss: 0.0971 - accuracy: 0.9685 - val_loss: 0.4509 - val_accuracy: 0.8136\n",
            "Epoch 5/100\n",
            "413/413 [==============================] - 0s 1ms/step - loss: 0.0860 - accuracy: 0.9758 - val_loss: 0.4108 - val_accuracy: 0.8814\n",
            "Epoch 6/100\n",
            "413/413 [==============================] - 0s 1ms/step - loss: 0.0928 - accuracy: 0.9613 - val_loss: 0.5039 - val_accuracy: 0.8983\n",
            "Epoch 7/100\n",
            "413/413 [==============================] - 0s 1ms/step - loss: 0.0732 - accuracy: 0.9782 - val_loss: 0.5960 - val_accuracy: 0.8644\n",
            "Epoch 8/100\n",
            "413/413 [==============================] - 0s 1ms/step - loss: 0.0238 - accuracy: 0.9927 - val_loss: 0.7653 - val_accuracy: 0.8814\n",
            "Epoch 9/100\n",
            "413/413 [==============================] - 0s 1ms/step - loss: 0.0342 - accuracy: 0.9903 - val_loss: 0.6306 - val_accuracy: 0.8475\n",
            "Epoch 10/100\n",
            "413/413 [==============================] - 0s 1ms/step - loss: 0.0131 - accuracy: 0.9976 - val_loss: 0.5335 - val_accuracy: 0.8983\n"
          ],
          "name": "stdout"
        }
      ]
    },
    {
      "cell_type": "code",
      "metadata": {
        "id": "-GvsuoqY0NZL",
        "colab_type": "code",
        "colab": {
          "base_uri": "https://localhost:8080/",
          "height": 34
        },
        "outputId": "685c87f9-dbbc-417c-f2c2-2674b1523518"
      },
      "source": [
        "zero_acc = 0\n",
        "one_acc = 0\n",
        "\n",
        "for i in accuracies:\n",
        "  zero_acc+= i[0]\n",
        "  one_acc+=i[1]\n",
        "\n",
        "zero_acc/=8\n",
        "one_acc/=8\n",
        "\n",
        "print(zero_acc, one_acc)"
      ],
      "execution_count": 11,
      "outputs": [
        {
          "output_type": "stream",
          "text": [
            "0.8472701149425287 0.8130747126436781\n"
          ],
          "name": "stdout"
        }
      ]
    },
    {
      "cell_type": "markdown",
      "metadata": {
        "id": "trKQU8cuMHQV",
        "colab_type": "text"
      },
      "source": [
        "Training on whole Training Dataset"
      ]
    },
    {
      "cell_type": "code",
      "metadata": {
        "id": "ppbMkhK2L0ov",
        "colab_type": "code",
        "colab": {
          "base_uri": "https://localhost:8080/",
          "height": 561
        },
        "outputId": "cc018f8a-0f78-46b2-9b9d-a3a71749540a"
      },
      "source": [
        "model = models.Sequential()\n",
        "model.add(layers.Conv2D(64, (2, 2), input_shape=(9, 9, 1920)))\n",
        "model.add(layers.BatchNormalization())\n",
        "model.add(layers.Activation(activations.relu))\n",
        "model.add(layers.MaxPooling2D((2, 2)))\n",
        "model.add(layers.Conv2D(256, (2, 2)))\n",
        "model.add(layers.BatchNormalization())\n",
        "model.add(layers.Activation(activations.relu))\n",
        "model.add(layers.MaxPooling2D((2, 2)))\n",
        "model.add(layers.Flatten())\n",
        "model.add(layers.Dense(128, activation='relu'))\n",
        "model.add(layers.Dense(64, activation='relu'))\n",
        "model.add(layers.Dense(1, activation='sigmoid'))\n",
        "model.summary()\n",
        "\n",
        "model.compile(optimizer = optimizers.Adam(lr = 1e-3),loss = 'binary_crossentropy',metrics = ['accuracy'])\n",
        "my_callbacks = [EarlyStopping(monitor = 'val_loss', patience=5, restore_best_weights=True)]\n"
      ],
      "execution_count": 15,
      "outputs": [
        {
          "output_type": "stream",
          "text": [
            "Model: \"sequential_10\"\n",
            "_________________________________________________________________\n",
            "Layer (type)                 Output Shape              Param #   \n",
            "=================================================================\n",
            "conv2d_18 (Conv2D)           (None, 8, 8, 64)          491584    \n",
            "_________________________________________________________________\n",
            "batch_normalization_18 (Batc (None, 8, 8, 64)          256       \n",
            "_________________________________________________________________\n",
            "activation_17 (Activation)   (None, 8, 8, 64)          0         \n",
            "_________________________________________________________________\n",
            "max_pooling2d_17 (MaxPooling (None, 4, 4, 64)          0         \n",
            "_________________________________________________________________\n",
            "conv2d_19 (Conv2D)           (None, 3, 3, 256)         65792     \n",
            "_________________________________________________________________\n",
            "batch_normalization_19 (Batc (None, 3, 3, 256)         1024      \n",
            "_________________________________________________________________\n",
            "activation_18 (Activation)   (None, 3, 3, 256)         0         \n",
            "_________________________________________________________________\n",
            "max_pooling2d_18 (MaxPooling (None, 1, 1, 256)         0         \n",
            "_________________________________________________________________\n",
            "flatten_9 (Flatten)          (None, 256)               0         \n",
            "_________________________________________________________________\n",
            "dense_25 (Dense)             (None, 128)               32896     \n",
            "_________________________________________________________________\n",
            "dense_26 (Dense)             (None, 64)                8256      \n",
            "_________________________________________________________________\n",
            "dense_27 (Dense)             (None, 1)                 65        \n",
            "=================================================================\n",
            "Total params: 599,873\n",
            "Trainable params: 599,233\n",
            "Non-trainable params: 640\n",
            "_________________________________________________________________\n"
          ],
          "name": "stdout"
        }
      ]
    },
    {
      "cell_type": "code",
      "metadata": {
        "id": "W42lHqCxbEpa",
        "colab_type": "code",
        "colab": {
          "base_uri": "https://localhost:8080/",
          "height": 34
        },
        "outputId": "b3bbe408-374a-4463-c6ff-f57f539edb28"
      },
      "source": [
        "samples.shape"
      ],
      "execution_count": 12,
      "outputs": [
        {
          "output_type": "execute_result",
          "data": {
            "text/plain": [
              "(472, 9, 9, 1920)"
            ]
          },
          "metadata": {
            "tags": []
          },
          "execution_count": 12
        }
      ]
    },
    {
      "cell_type": "code",
      "metadata": {
        "id": "Xncnp_xvNgcr",
        "colab_type": "code",
        "colab": {}
      },
      "source": [
        "xtest = np.load('gdrive/My Drive/pcb/xtest.npy')\n",
        "ytest = np.load('gdrive/My Drive/pcb/ytest.npy')\n"
      ],
      "execution_count": 16,
      "outputs": []
    },
    {
      "cell_type": "code",
      "metadata": {
        "id": "SDa1CkJ9NgfS",
        "colab_type": "code",
        "colab": {}
      },
      "source": [
        "datagentest = ImageDataGenerator(\n",
        "    featurewise_center = True,\n",
        "    featurewise_std_normalization = True\n",
        ")\n",
        "datagentest.fit(xtest)"
      ],
      "execution_count": 17,
      "outputs": []
    },
    {
      "cell_type": "code",
      "metadata": {
        "id": "QS7XpHLiNgoa",
        "colab_type": "code",
        "colab": {
          "base_uri": "https://localhost:8080/",
          "height": 34
        },
        "outputId": "f22fc2ee-b9e0-4107-ebf7-8e6fc3566097"
      },
      "source": [
        "testnos = ytest.shape[0]\n",
        "\n",
        "numittest = NumpyArrayIterator(\n",
        "    xtest, ytest, datagentest, batch_size=testnos, shuffle=False, sample_weight=None,\n",
        "    seed=None, data_format=None, save_to_dir=None, save_prefix='',\n",
        "    save_format='png', subset=None, dtype=None\n",
        ")\n",
        "\n",
        "\n",
        "test_samples = np.zeros(shape=(testnos,9,9,1920))\n",
        "test_labels = np.zeros(shape=(testnos))\n",
        "for samples_batch,labels_batch in numittest:\n",
        "    g = conv_base.predict(samples_batch)\n",
        "    print(g.shape)\n",
        "    test_samples[::] = g\n",
        "    test_labels[:] = labels_batch\n",
        "    break"
      ],
      "execution_count": 18,
      "outputs": [
        {
          "output_type": "stream",
          "text": [
            "(552, 9, 9, 1920)\n"
          ],
          "name": "stdout"
        }
      ]
    },
    {
      "cell_type": "code",
      "metadata": {
        "id": "0f37VOEUNgki",
        "colab_type": "code",
        "colab": {}
      },
      "source": [
        "# test_samples = test_samples.reshape(testnos,9*9*1920)"
      ],
      "execution_count": 17,
      "outputs": []
    },
    {
      "cell_type": "code",
      "metadata": {
        "id": "Ef_xxG8bNgiT",
        "colab_type": "code",
        "colab": {
          "base_uri": "https://localhost:8080/",
          "height": 238
        },
        "outputId": "863ad199-787a-4ac4-955a-06caeabb9fc2"
      },
      "source": [
        "historytest = model.fit(samples, labels, epochs = 100, batch_size = 20, validation_data = (test_samples, test_labels), shuffle = True,  callbacks = my_callbacks)"
      ],
      "execution_count": 19,
      "outputs": [
        {
          "output_type": "stream",
          "text": [
            "Train on 472 samples, validate on 552 samples\n",
            "Epoch 1/100\n",
            "472/472 [==============================] - 2s 3ms/step - loss: 0.4864 - accuracy: 0.7267 - val_loss: 0.4926 - val_accuracy: 0.7554\n",
            "Epoch 2/100\n",
            "472/472 [==============================] - 1s 2ms/step - loss: 0.2046 - accuracy: 0.9364 - val_loss: 0.5810 - val_accuracy: 0.7500\n",
            "Epoch 3/100\n",
            "472/472 [==============================] - 1s 2ms/step - loss: 0.0989 - accuracy: 0.9619 - val_loss: 0.8572 - val_accuracy: 0.6721\n",
            "Epoch 4/100\n",
            "472/472 [==============================] - 1s 2ms/step - loss: 0.0880 - accuracy: 0.9682 - val_loss: 0.9185 - val_accuracy: 0.6775\n",
            "Epoch 5/100\n",
            "472/472 [==============================] - 1s 2ms/step - loss: 0.0624 - accuracy: 0.9788 - val_loss: 0.8514 - val_accuracy: 0.7428\n",
            "Epoch 6/100\n",
            "472/472 [==============================] - 1s 2ms/step - loss: 0.0208 - accuracy: 0.9894 - val_loss: 1.1256 - val_accuracy: 0.7264\n"
          ],
          "name": "stdout"
        }
      ]
    },
    {
      "cell_type": "code",
      "metadata": {
        "id": "jgbhA0dtNgaq",
        "colab_type": "code",
        "colab": {}
      },
      "source": [
        "test_preds = model.predict(test_samples, batch_size = 20)"
      ],
      "execution_count": 20,
      "outputs": []
    },
    {
      "cell_type": "code",
      "metadata": {
        "id": "I3oZ2uIBOrsm",
        "colab_type": "code",
        "colab": {}
      },
      "source": [
        "test_predclass = np.array([1.0 if i>0.5 else 0.0 for i in test_preds])"
      ],
      "execution_count": 21,
      "outputs": []
    },
    {
      "cell_type": "code",
      "metadata": {
        "id": "B9pW68K3Orxg",
        "colab_type": "code",
        "colab": {
          "base_uri": "https://localhost:8080/",
          "height": 34
        },
        "outputId": "79b5da38-1b1a-47a3-a984-ee957b975669"
      },
      "source": [
        "confusion_matrix(test_labels,test_predclass)[0][0]/(ytest == 0.0).sum(), confusion_matrix(test_labels,test_predclass)[1][1]/(ytest == 1.0).sum()"
      ],
      "execution_count": 22,
      "outputs": [
        {
          "output_type": "execute_result",
          "data": {
            "text/plain": [
              "(0.8305084745762712, 0.7464503042596349)"
            ]
          },
          "metadata": {
            "tags": []
          },
          "execution_count": 22
        }
      ]
    },
    {
      "cell_type": "code",
      "metadata": {
        "id": "MxapdKZhOr0Q",
        "colab_type": "code",
        "colab": {}
      },
      "source": [
        "# Saving model\n",
        "\n",
        "# model_json = model.to_json()\n",
        "# with open(\"gdrive/My Drive/models/VGG19_12.json\", \"w\") as json_file:\n",
        "#     json_file.write(model_json)"
      ],
      "execution_count": null,
      "outputs": []
    },
    {
      "cell_type": "code",
      "metadata": {
        "id": "rybw7Ry7Or2f",
        "colab_type": "code",
        "colab": {}
      },
      "source": [
        "# model.save_weights(\"gdrive/My Drive/models/VGG19_12.h5\")\n",
        "# print(\"Saved model to disk\")"
      ],
      "execution_count": null,
      "outputs": []
    },
    {
      "cell_type": "code",
      "metadata": {
        "id": "CumEUxIaOrve",
        "colab_type": "code",
        "colab": {}
      },
      "source": [
        "# Saving and loading models\n",
        "# https://machinelearningmastery.com/save-load-keras-deep-learning-models/"
      ],
      "execution_count": null,
      "outputs": []
    },
    {
      "cell_type": "code",
      "metadata": {
        "id": "xRJWd9bUHWa7",
        "colab_type": "code",
        "colab": {}
      },
      "source": [
        ""
      ],
      "execution_count": null,
      "outputs": []
    },
    {
      "cell_type": "code",
      "metadata": {
        "id": "hcaOhs5bHWfg",
        "colab_type": "code",
        "colab": {
          "base_uri": "https://localhost:8080/",
          "height": 163
        },
        "outputId": "674f23c9-755b-42a5-8450-34eb9f83a091"
      },
      "source": [
        ""
      ],
      "execution_count": null,
      "outputs": [
        {
          "output_type": "error",
          "ename": "TypeError",
          "evalue": "ignored",
          "traceback": [
            "\u001b[0;31m---------------------------------------------------------------------------\u001b[0m",
            "\u001b[0;31mTypeError\u001b[0m                                 Traceback (most recent call last)",
            "\u001b[0;32m<ipython-input-15-010bb633e7c3>\u001b[0m in \u001b[0;36m<module>\u001b[0;34m()\u001b[0m\n\u001b[0;32m----> 1\u001b[0;31m \u001b[0mx\u001b[0m\u001b[0;34m(\u001b[0m\u001b[0ma\u001b[0m\u001b[0;34m)\u001b[0m\u001b[0;34m\u001b[0m\u001b[0;34m\u001b[0m\u001b[0m\n\u001b[0m",
            "\u001b[0;31mTypeError\u001b[0m: 'Tensor' object is not callable"
          ]
        }
      ]
    },
    {
      "cell_type": "code",
      "metadata": {
        "id": "Oech-RU0HWhX",
        "colab_type": "code",
        "colab": {}
      },
      "source": [
        ""
      ],
      "execution_count": null,
      "outputs": []
    }
  ]
}