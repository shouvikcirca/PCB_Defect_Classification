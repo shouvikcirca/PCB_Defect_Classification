{
 "cells": [
  {
   "cell_type": "code",
   "execution_count": 1,
   "metadata": {},
   "outputs": [],
   "source": [
    "import numpy as np"
   ]
  },
  {
   "cell_type": "code",
   "execution_count": 42,
   "metadata": {},
   "outputs": [],
   "source": [
    "X = np.load(\"souvik/xtrain.npy\")\n",
    "y = np.load(\"souvik/ytrain.npy\")\n",
    "X1 = np.load('souvik/xtrain_e.npy') "
   ]
  },
  {
   "cell_type": "code",
   "execution_count": 43,
   "metadata": {},
   "outputs": [],
   "source": [
    "X = X[:,100:200,100:200,:]\n",
    "X1 = X1[:,100:200,100:200]"
   ]
  },
  {
   "cell_type": "code",
   "execution_count": 28,
   "metadata": {},
   "outputs": [
    {
     "data": {
      "text/plain": [
       "((472, 100, 100, 3), (472, 100, 100))"
      ]
     },
     "execution_count": 28,
     "metadata": {},
     "output_type": "execute_result"
    }
   ],
   "source": [
    "X.shape, X1.shape"
   ]
  },
  {
   "cell_type": "code",
   "execution_count": 44,
   "metadata": {},
   "outputs": [],
   "source": [
    "X = X.astype('float32')\n",
    "X1 = np.reshape(X1,(-1,100,100,1))\n",
    "Xtrain = np.concatenate([X,X1],axis=3)"
   ]
  },
  {
   "cell_type": "code",
   "execution_count": 30,
   "metadata": {},
   "outputs": [
    {
     "data": {
      "text/plain": [
       "(472, 100, 100, 4)"
      ]
     },
     "execution_count": 30,
     "metadata": {},
     "output_type": "execute_result"
    }
   ],
   "source": [
    "xtrain.shape"
   ]
  },
  {
   "cell_type": "code",
   "execution_count": 51,
   "metadata": {},
   "outputs": [],
   "source": [
    "def giveSet(a,b):\n",
    "    xs = []\n",
    "    ys = []\n",
    "    bs = 59\n",
    "\n",
    "    for i in range(8):\n",
    "        xs.append(Xtrain[(i*59):((i+1)*59)])\n",
    "        ys.append(y[(i*59):((i+1)*59)])\n",
    "    \n",
    "    xtest = np.concatenate([xs[a],xs[b]])\n",
    "    ytest = np.concatenate([ys[a],ys[b]])\n",
    "    \n",
    "    xs.pop(a)\n",
    "    xs.pop(b)\n",
    "    ys.pop(a)\n",
    "    ys.pop(b)\n",
    "    \n",
    "    xtrain = np.concatenate([xs[0],xs[1],xs[2],xs[3],xs[4],xs[5]])\n",
    "    ytrain = np.concatenate([ys[0],ys[1],ys[2],ys[3],ys[4],ys[5]])\n",
    "    \n",
    "    return xtrain,ytrain,xtest,ytest\n",
    "    "
   ]
  },
  {
   "cell_type": "code",
   "execution_count": 56,
   "metadata": {},
   "outputs": [],
   "source": [
    "xtrain,ytrain,xval,yval = giveSet(0,4)"
   ]
  },
  {
   "cell_type": "code",
   "execution_count": 55,
   "metadata": {},
   "outputs": [
    {
     "data": {
      "text/plain": [
       "(177, 177, 59, 59)"
      ]
     },
     "execution_count": 55,
     "metadata": {},
     "output_type": "execute_result"
    }
   ],
   "source": [
    "(b==1).sum(),(b==0).sum(), (d==0).sum(), (d==1).sum()"
   ]
  },
  {
   "cell_type": "code",
   "execution_count": null,
   "metadata": {},
   "outputs": [],
   "source": []
  },
  {
   "cell_type": "code",
   "execution_count": null,
   "metadata": {},
   "outputs": [],
   "source": []
  },
  {
   "cell_type": "code",
   "execution_count": null,
   "metadata": {},
   "outputs": [],
   "source": [
    "07 16 25 34 04 15 26 37"
   ]
  }
 ],
 "metadata": {
  "kernelspec": {
   "display_name": "Python 3",
   "language": "python",
   "name": "python3"
  },
  "language_info": {
   "codemirror_mode": {
    "name": "ipython",
    "version": 3
   },
   "file_extension": ".py",
   "mimetype": "text/x-python",
   "name": "python",
   "nbconvert_exporter": "python",
   "pygments_lexer": "ipython3",
   "version": "3.8.3"
  }
 },
 "nbformat": 4,
 "nbformat_minor": 4
}
